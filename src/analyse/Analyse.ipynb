{
 "cells": [
  {
   "cell_type": "markdown",
   "metadata": {},
   "source": [
    "# Analyse des jeux de données data_sig_collecte\n",
    "Ce document analyse les jeux de données fournies par la CACPL disponible [ici](../../data/data_sig_collecte)\n",
    "\n",
    "Il ya 6 jeux de données :\n",
    "* col_decheterie : inventaire de déchèteries\n",
    "* col_om_pt : inventaire des collecteurs d'ordures ménagères\n",
    "* col_papier_pt : inventaire des collecteurs de papier\n",
    "* col_tri_pt : inventaire des collecteurs d'emballages et papiers\n",
    "* col_verre_pt : inventaire des collecteurs de verre\n",
    "* col_vetement_pt : inventaire des collecteurs de vêtements\n",
    "\n"
   ]
  },
  {
   "cell_type": "markdown",
   "metadata": {},
   "source": [
    "## Importation des librairies"
   ]
  },
  {
   "cell_type": "code",
   "execution_count": 1,
   "metadata": {},
   "outputs": [],
   "source": [
    "import pandas as pd"
   ]
  },
  {
   "cell_type": "markdown",
   "metadata": {},
   "source": [
    "## Lecture des fichiers"
   ]
  },
  {
   "cell_type": "code",
   "execution_count": 2,
   "metadata": {},
   "outputs": [],
   "source": [
    "dataDecheterie = pd.read_csv(\"../../data/data_sig_collecte/col_decheterie.csv\", encoding=\"ISO-8859-1\", sep=\";\")\n",
    "dataOM = pd.read_csv(\"../../data/data_sig_collecte/col_om_pt.csv\", encoding=\"ISO-8859-1\", sep=\";\")\n",
    "dataPapier = pd.read_csv(\"../../data/data_sig_collecte/col_papier_pt.csv\", encoding=\"ISO-8859-1\", sep=\";\")\n",
    "dataTri = pd.read_csv(\"../../data/data_sig_collecte/col_tri_pt.csv\", encoding=\"ISO-8859-1\", sep=\";\")\n",
    "dataVerre = pd.read_csv(\"../../data/data_sig_collecte/col_verre_pt.csv\", encoding=\"ISO-8859-1\", sep=\";\")\n",
    "dataVetement = pd.read_csv(\"../../data/data_sig_collecte/col_vetement_pt.csv\", encoding=\"ISO-8859-1\", sep=\";\")"
   ]
  },
  {
   "cell_type": "markdown",
   "metadata": {},
   "source": [
    "## Jeu de données des déchèterie\n",
    "### Aperçu du fichier\n",
    "Il contient 28 variables que l'on pourra étudier :\n",
    "* objectid : Identifiant de la déchèterie\n",
    "* id :\n",
    "* adresse : adresse de la déchèterie\n",
    "* adresse_comp : complément de l'adresse de la déchèterie\n",
    "* code_insee : code INSEE de la ville (différent du code départemental)\n",
    "* veget : indicateur du traitement des végétations par la déchèterie\n",
    "* bois : indicateur du traitement du bois par la déchèterie\n",
    "* metal : indicateur du traitement du métal par la déchèterie\n",
    "* grav_prop : indicateur du traitement des gravats propres par la déchèterie\n",
    "* grav_sal : indicateur du traitement des gravats sales par la déchèterie\n",
    "* carton : indicateur du traitement du carton par la déchèterie\n",
    "* d3e : indicateur du traitement des D3E (Déchets d'Equipements Electriques et Electroniques) par la déchèterie\n",
    "* dech_men_spe : indicateur du traitement des déchets ménagers spéciaux par la déchèterie\n",
    "* neon : indicateur du traitement des néons par la déchèterie\n",
    "* batterie : indicateur du traitement des batteries par la déchèterie\n",
    "* pile : indicateur du traitement des piles par la déchèterie\n",
    "* gaz : indicateur du traitement du gaz par la déchèterie\n",
    "* extincteur : indicateur du traitement des extincteurs par la déchèterie\n",
    "* huil_veget_mineral : indicateur du traitement des huiles végétales et minérales par la déchèterie\n",
    "* date_instal : date d'installation de la déchèterie\n",
    "* observations : observations éventuelles\n",
    "* creation : pseudo de la personne qui a enregistré la déchèteries dans la BDD\n",
    "* date_creation : date et temps de l'enregistrement de la déchèterie dans la BDD\n",
    "* modification : peudo de la personne qui a modifié en dernier la déchèteries dans la BDD\n",
    "* date_modification : date et temps de la dernière modification de la déchèterie dans la BDD\n",
    "* globalid : GUID (Globally Unique IDentifier)\n",
    "* _x : longitude de la déchèterie\n",
    "* _y : latitude de la déchèterie\n"
   ]
  },
  {
   "cell_type": "code",
   "execution_count": 3,
   "metadata": {},
   "outputs": [
    {
     "output_type": "execute_result",
     "data": {
      "text/plain": [
       "   objectid  id                  adresse  adresse_comp  code_insee veget bois  \\\n",
       "0       801 NaN    Impasse de l aubarede           NaN        6030   Oui  Oui   \n",
       "1      1201 NaN      Chemin du coudouron           NaN        6085   Oui  Oui   \n",
       "2      1601 NaN  Déchèterie des tourades           NaN        6029   Oui  Oui   \n",
       "\n",
       "  metal grav_prop grav_sal  ... huil_veget_mineral date_instal observations  \\\n",
       "0   Oui       Oui      Oui  ...                Oui         NaN          NaN   \n",
       "1   Oui       Oui      Non  ...                Oui         NaN          NaN   \n",
       "2   Oui       Oui      Oui  ...                Oui         NaN          NaN   \n",
       "\n",
       "  creation   date_creation modification date_modification  \\\n",
       "0  chpayet  20200723135923      chpayet    20200723135923   \n",
       "1  chpayet  20200727125141      chpayet    20200727125459   \n",
       "2  chpayet  20200731130159      chpayet    20200731130332   \n",
       "\n",
       "                                 globalid        _x         _y  \n",
       "0  {F24B4AF3-17BF-4215-B07F-044AA37EA4E5}  6.983613  43.566849  \n",
       "1  {26CF70EB-23DD-4399-ACBA-98434B6BFC1A}  6.964639  43.581638  \n",
       "2  {83866245-B862-4D22-B436-D5B1A64F5441}  6.954320  43.556717  \n",
       "\n",
       "[3 rows x 28 columns]"
      ],
      "text/html": "<div>\n<style scoped>\n    .dataframe tbody tr th:only-of-type {\n        vertical-align: middle;\n    }\n\n    .dataframe tbody tr th {\n        vertical-align: top;\n    }\n\n    .dataframe thead th {\n        text-align: right;\n    }\n</style>\n<table border=\"1\" class=\"dataframe\">\n  <thead>\n    <tr style=\"text-align: right;\">\n      <th></th>\n      <th>objectid</th>\n      <th>id</th>\n      <th>adresse</th>\n      <th>adresse_comp</th>\n      <th>code_insee</th>\n      <th>veget</th>\n      <th>bois</th>\n      <th>metal</th>\n      <th>grav_prop</th>\n      <th>grav_sal</th>\n      <th>...</th>\n      <th>huil_veget_mineral</th>\n      <th>date_instal</th>\n      <th>observations</th>\n      <th>creation</th>\n      <th>date_creation</th>\n      <th>modification</th>\n      <th>date_modification</th>\n      <th>globalid</th>\n      <th>_x</th>\n      <th>_y</th>\n    </tr>\n  </thead>\n  <tbody>\n    <tr>\n      <th>0</th>\n      <td>801</td>\n      <td>NaN</td>\n      <td>Impasse de l aubarede</td>\n      <td>NaN</td>\n      <td>6030</td>\n      <td>Oui</td>\n      <td>Oui</td>\n      <td>Oui</td>\n      <td>Oui</td>\n      <td>Oui</td>\n      <td>...</td>\n      <td>Oui</td>\n      <td>NaN</td>\n      <td>NaN</td>\n      <td>chpayet</td>\n      <td>20200723135923</td>\n      <td>chpayet</td>\n      <td>20200723135923</td>\n      <td>{F24B4AF3-17BF-4215-B07F-044AA37EA4E5}</td>\n      <td>6.983613</td>\n      <td>43.566849</td>\n    </tr>\n    <tr>\n      <th>1</th>\n      <td>1201</td>\n      <td>NaN</td>\n      <td>Chemin du coudouron</td>\n      <td>NaN</td>\n      <td>6085</td>\n      <td>Oui</td>\n      <td>Oui</td>\n      <td>Oui</td>\n      <td>Oui</td>\n      <td>Non</td>\n      <td>...</td>\n      <td>Oui</td>\n      <td>NaN</td>\n      <td>NaN</td>\n      <td>chpayet</td>\n      <td>20200727125141</td>\n      <td>chpayet</td>\n      <td>20200727125459</td>\n      <td>{26CF70EB-23DD-4399-ACBA-98434B6BFC1A}</td>\n      <td>6.964639</td>\n      <td>43.581638</td>\n    </tr>\n    <tr>\n      <th>2</th>\n      <td>1601</td>\n      <td>NaN</td>\n      <td>Déchèterie des tourades</td>\n      <td>NaN</td>\n      <td>6029</td>\n      <td>Oui</td>\n      <td>Oui</td>\n      <td>Oui</td>\n      <td>Oui</td>\n      <td>Oui</td>\n      <td>...</td>\n      <td>Oui</td>\n      <td>NaN</td>\n      <td>NaN</td>\n      <td>chpayet</td>\n      <td>20200731130159</td>\n      <td>chpayet</td>\n      <td>20200731130332</td>\n      <td>{83866245-B862-4D22-B436-D5B1A64F5441}</td>\n      <td>6.954320</td>\n      <td>43.556717</td>\n    </tr>\n  </tbody>\n</table>\n<p>3 rows × 28 columns</p>\n</div>"
     },
     "metadata": {},
     "execution_count": 3
    }
   ],
   "source": [
    "dataDecheterie.head()"
   ]
  },
  {
   "cell_type": "markdown",
   "metadata": {},
   "source": [
    "### Dimension du jeu de données"
   ]
  },
  {
   "cell_type": "code",
   "execution_count": 4,
   "metadata": {},
   "outputs": [
    {
     "output_type": "stream",
     "name": "stdout",
     "text": [
      "Le jeu de données recense 3 déchèteries avec 28 variables\n"
     ]
    }
   ],
   "source": [
    " print(\"Le jeu de données recense\", dataDecheterie.shape[0], \"déchèteries avec\", dataDecheterie.shape[1], \"variables\")"
   ]
  },
  {
   "cell_type": "markdown",
   "metadata": {},
   "source": [
    "### Valeurs manquantes\n",
    "Le jeu de données est complet\n",
    "\n",
    "Aucune des déchèteries ne possède de valeur pour les colonnes id, adresse_comp, date_instal et observations\n"
   ]
  },
  {
   "cell_type": "code",
   "execution_count": 5,
   "metadata": {},
   "outputs": [
    {
     "output_type": "execute_result",
     "data": {
      "text/plain": [
       "objectid              0\n",
       "id                    3\n",
       "adresse               0\n",
       "adresse_comp          3\n",
       "code_insee            0\n",
       "veget                 0\n",
       "bois                  0\n",
       "metal                 0\n",
       "grav_prop             0\n",
       "grav_sal              0\n",
       "carton                0\n",
       "d3e                   0\n",
       "dech_men_spe          0\n",
       "neon                  0\n",
       "batterie              0\n",
       "pile                  0\n",
       "gaz                   0\n",
       "extincteur            0\n",
       "huil_veget_mineral    0\n",
       "date_instal           3\n",
       "observations          3\n",
       "creation              0\n",
       "date_creation         0\n",
       "modification          0\n",
       "date_modification     0\n",
       "globalid              0\n",
       "_x                    0\n",
       "_y                    0\n",
       "dtype: int64"
      ]
     },
     "metadata": {},
     "execution_count": 5
    }
   ],
   "source": [
    "dataDecheterie.isna().sum()"
   ]
  },
  {
   "cell_type": "markdown",
   "metadata": {},
   "source": [
    "### Décompte des doublons"
   ]
  },
  {
   "cell_type": "code",
   "execution_count": 6,
   "metadata": {},
   "outputs": [
    {
     "output_type": "execute_result",
     "data": {
      "text/plain": [
       "0"
      ]
     },
     "metadata": {},
     "execution_count": 6
    }
   ],
   "source": [
    "dataDecheterie.duplicated().sum()"
   ]
  },
  {
   "cell_type": "markdown",
   "metadata": {},
   "source": [
    "### Notes générales\n",
    "Les 3 déchèteries traitent les végétations, le bois, le métal, les gravats propres, le carton, les déchets d’équipements électriques et électroniques, les néons, les batteries, les piles, le gaz, les extincteurs et les huiles végétales et minérales\n",
    "\n",
    "Seule la déchèterie de Mougins ne traite pas les gravats sales et les déchets ménagers spéciaux"
   ]
  },
  {
   "cell_type": "code",
   "execution_count": 7,
   "metadata": {},
   "outputs": [
    {
     "output_type": "stream",
     "name": "stdout",
     "text": [
      "Oui    3\nName: veget, dtype: int64\nOui    3\nName: bois, dtype: int64\nOui    3\nName: metal, dtype: int64\nOui    3\nName: grav_prop, dtype: int64\nOui    2\nNon    1\nName: grav_sal, dtype: int64\nOui    3\nName: carton, dtype: int64\nOui    3\nName: d3e, dtype: int64\nOui    2\nNon    1\nName: dech_men_spe, dtype: int64\nOui    3\nName: neon, dtype: int64\nOui    3\nName: batterie, dtype: int64\nOui    3\nName: pile, dtype: int64\nOui    3\nName: gaz, dtype: int64\nOui    3\nName: extincteur, dtype: int64\nOui    3\nName: huil_veget_mineral, dtype: int64\n"
     ]
    }
   ],
   "source": [
    "cols = [\"veget\", \"bois\", \"metal\", \"grav_prop\", \"grav_sal\", \"carton\", \"d3e\", \"dech_men_spe\", \"neon\", \"batterie\", \"pile\", \"gaz\", \"extincteur\", \"huil_veget_mineral\"]\n",
    "for col in cols:\n",
    "    print(dataDecheterie[col].value_counts())"
   ]
  },
  {
   "cell_type": "code",
   "execution_count": 8,
   "metadata": {},
   "outputs": [
    {
     "output_type": "execute_result",
     "data": {
      "text/plain": [
       "   objectid  id              adresse  adresse_comp  code_insee veget bois  \\\n",
       "1      1201 NaN  Chemin du coudouron           NaN        6085   Oui  Oui   \n",
       "\n",
       "  metal grav_prop grav_sal  ... huil_veget_mineral date_instal observations  \\\n",
       "1   Oui       Oui      Non  ...                Oui         NaN          NaN   \n",
       "\n",
       "  creation   date_creation modification date_modification  \\\n",
       "1  chpayet  20200727125141      chpayet    20200727125459   \n",
       "\n",
       "                                 globalid        _x         _y  \n",
       "1  {26CF70EB-23DD-4399-ACBA-98434B6BFC1A}  6.964639  43.581638  \n",
       "\n",
       "[1 rows x 28 columns]"
      ],
      "text/html": "<div>\n<style scoped>\n    .dataframe tbody tr th:only-of-type {\n        vertical-align: middle;\n    }\n\n    .dataframe tbody tr th {\n        vertical-align: top;\n    }\n\n    .dataframe thead th {\n        text-align: right;\n    }\n</style>\n<table border=\"1\" class=\"dataframe\">\n  <thead>\n    <tr style=\"text-align: right;\">\n      <th></th>\n      <th>objectid</th>\n      <th>id</th>\n      <th>adresse</th>\n      <th>adresse_comp</th>\n      <th>code_insee</th>\n      <th>veget</th>\n      <th>bois</th>\n      <th>metal</th>\n      <th>grav_prop</th>\n      <th>grav_sal</th>\n      <th>...</th>\n      <th>huil_veget_mineral</th>\n      <th>date_instal</th>\n      <th>observations</th>\n      <th>creation</th>\n      <th>date_creation</th>\n      <th>modification</th>\n      <th>date_modification</th>\n      <th>globalid</th>\n      <th>_x</th>\n      <th>_y</th>\n    </tr>\n  </thead>\n  <tbody>\n    <tr>\n      <th>1</th>\n      <td>1201</td>\n      <td>NaN</td>\n      <td>Chemin du coudouron</td>\n      <td>NaN</td>\n      <td>6085</td>\n      <td>Oui</td>\n      <td>Oui</td>\n      <td>Oui</td>\n      <td>Oui</td>\n      <td>Non</td>\n      <td>...</td>\n      <td>Oui</td>\n      <td>NaN</td>\n      <td>NaN</td>\n      <td>chpayet</td>\n      <td>20200727125141</td>\n      <td>chpayet</td>\n      <td>20200727125459</td>\n      <td>{26CF70EB-23DD-4399-ACBA-98434B6BFC1A}</td>\n      <td>6.964639</td>\n      <td>43.581638</td>\n    </tr>\n  </tbody>\n</table>\n<p>1 rows × 28 columns</p>\n</div>"
     },
     "metadata": {},
     "execution_count": 8
    }
   ],
   "source": [
    "dataDecheterie[dataDecheterie.grav_sal == \"Non\"]"
   ]
  },
  {
   "cell_type": "code",
   "execution_count": 9,
   "metadata": {
    "scrolled": true
   },
   "outputs": [
    {
     "output_type": "execute_result",
     "data": {
      "text/plain": [
       "   objectid  id              adresse  adresse_comp  code_insee veget bois  \\\n",
       "1      1201 NaN  Chemin du coudouron           NaN        6085   Oui  Oui   \n",
       "\n",
       "  metal grav_prop grav_sal  ... huil_veget_mineral date_instal observations  \\\n",
       "1   Oui       Oui      Non  ...                Oui         NaN          NaN   \n",
       "\n",
       "  creation   date_creation modification date_modification  \\\n",
       "1  chpayet  20200727125141      chpayet    20200727125459   \n",
       "\n",
       "                                 globalid        _x         _y  \n",
       "1  {26CF70EB-23DD-4399-ACBA-98434B6BFC1A}  6.964639  43.581638  \n",
       "\n",
       "[1 rows x 28 columns]"
      ],
      "text/html": "<div>\n<style scoped>\n    .dataframe tbody tr th:only-of-type {\n        vertical-align: middle;\n    }\n\n    .dataframe tbody tr th {\n        vertical-align: top;\n    }\n\n    .dataframe thead th {\n        text-align: right;\n    }\n</style>\n<table border=\"1\" class=\"dataframe\">\n  <thead>\n    <tr style=\"text-align: right;\">\n      <th></th>\n      <th>objectid</th>\n      <th>id</th>\n      <th>adresse</th>\n      <th>adresse_comp</th>\n      <th>code_insee</th>\n      <th>veget</th>\n      <th>bois</th>\n      <th>metal</th>\n      <th>grav_prop</th>\n      <th>grav_sal</th>\n      <th>...</th>\n      <th>huil_veget_mineral</th>\n      <th>date_instal</th>\n      <th>observations</th>\n      <th>creation</th>\n      <th>date_creation</th>\n      <th>modification</th>\n      <th>date_modification</th>\n      <th>globalid</th>\n      <th>_x</th>\n      <th>_y</th>\n    </tr>\n  </thead>\n  <tbody>\n    <tr>\n      <th>1</th>\n      <td>1201</td>\n      <td>NaN</td>\n      <td>Chemin du coudouron</td>\n      <td>NaN</td>\n      <td>6085</td>\n      <td>Oui</td>\n      <td>Oui</td>\n      <td>Oui</td>\n      <td>Oui</td>\n      <td>Non</td>\n      <td>...</td>\n      <td>Oui</td>\n      <td>NaN</td>\n      <td>NaN</td>\n      <td>chpayet</td>\n      <td>20200727125141</td>\n      <td>chpayet</td>\n      <td>20200727125459</td>\n      <td>{26CF70EB-23DD-4399-ACBA-98434B6BFC1A}</td>\n      <td>6.964639</td>\n      <td>43.581638</td>\n    </tr>\n  </tbody>\n</table>\n<p>1 rows × 28 columns</p>\n</div>"
     },
     "metadata": {},
     "execution_count": 9
    }
   ],
   "source": [
    "dataDecheterie[dataDecheterie.dech_men_spe == \"Non\"]"
   ]
  },
  {
   "cell_type": "markdown",
   "metadata": {},
   "source": [
    "## Jeu de données des collecteurs d'ordures ménagères\n",
    "### Aperçu du fichier\n",
    "Il contient 19 variables que l'on pourra étudier :\n",
    "* objectid : Identifiant de la déchèterie\n",
    "* id :\n",
    "* type : type de collecteur\n",
    "* volume : volume du collecteur (en L ou en m<sup>3</sup>)\n",
    "* quantite : quantité de collecteurs\n",
    "* marque : marque du collecteur\n",
    "* date_instal : date d'installation du collecteur\n",
    "* adresse : adresse du collecteur\n",
    "* adresse_comp : complément de l'adresse du collecteur\n",
    "* code_insee : code INSEE de la ville (différent du code départemental)\n",
    "* observations : observations éventuelles\n",
    "* creation : pseudo de la personne qui a enregistré le collecteur dans la BDD\n",
    "* date_creation : date et temps de l'enregistrement du collecteur dans la BDD\n",
    "* modification : peudo de la personne qui a modifié en dernier le collecteur dans la BDD\n",
    "* date_modification : date et temps de la dernière modification du collecteur dans la BDD\n",
    "* globalid : GUID (Globally Unique IDentifier)\n",
    "* etat : \n",
    "* _x : longitude du collecteur\n",
    "* _y : latitude du collecteur"
   ]
  },
  {
   "cell_type": "code",
   "execution_count": 10,
   "metadata": {
    "scrolled": false
   },
   "outputs": [
    {
     "output_type": "execute_result",
     "data": {
      "text/plain": [
       "   objectid   id                       type volume  quantite          marque  \\\n",
       "0      2002  NaN  Bac aérien avec cache bac  660 L         1  Plastic Omnium   \n",
       "1      3202  NaN  Bac aérien avec cache bac  660 L         3  Plastic Omnium   \n",
       "2      2003  NaN  Bac aérien sans cache bac  660 L         1  Plastic Omnium   \n",
       "3      2004  NaN  Bac aérien sans cache bac  660 L         1  Plastic Omnium   \n",
       "4      2005  NaN  Bac aérien sans cache bac  660 L         1  Plastic Omnium   \n",
       "\n",
       "   date_instal                                            adresse  \\\n",
       "0          NaN                                           Gare tsm   \n",
       "1          NaN           Résidence les terrasses de saint honorat   \n",
       "2          NaN                                    Prince des iles   \n",
       "3          NaN              Avenue de lerins trottoir de l eglise   \n",
       "4          NaN  Avenue de lerins angle traverse magasin souvenirs   \n",
       "\n",
       "  adresse_comp  code_insee observations creation   date_creation modification  \\\n",
       "0          NaN      6138.0          NaN  chpayet  20191204083917      chpayet   \n",
       "1          NaN      6138.0          NaN  chpayet  20200102131948      chpayet   \n",
       "2          NaN      6138.0          NaN  chpayet  20191204084630      chpayet   \n",
       "3          NaN      6138.0          NaN  chpayet  20191204085306      chpayet   \n",
       "4          NaN      6138.0          NaN  chpayet  20191204090036      chpayet   \n",
       "\n",
       "   date_modification                                globalid  etat        _x  \\\n",
       "0     20191204083917  {5C455C7F-2CAF-4B57-8B69-686691E7ACAA}   NaN  6.937009   \n",
       "1     20200102131948  {449AE0D0-B256-49C2-84F7-87F4248CA3CC}   NaN  6.941518   \n",
       "2     20191204084630  {FED2233C-9710-40F1-ACF4-58134F0BB9FE}   NaN  6.937398   \n",
       "3     20191204085306  {058DC0AE-423C-4FEB-8D30-D4C113428CD8}   NaN  6.938353   \n",
       "4     20191204090036  {53D62EB0-B046-4D5D-B636-94646AC984AA}   NaN  6.940556   \n",
       "\n",
       "          _y  \n",
       "0  43.513302  \n",
       "1  43.490540  \n",
       "2  43.509171  \n",
       "3  43.508087  \n",
       "4  43.507687  "
      ],
      "text/html": "<div>\n<style scoped>\n    .dataframe tbody tr th:only-of-type {\n        vertical-align: middle;\n    }\n\n    .dataframe tbody tr th {\n        vertical-align: top;\n    }\n\n    .dataframe thead th {\n        text-align: right;\n    }\n</style>\n<table border=\"1\" class=\"dataframe\">\n  <thead>\n    <tr style=\"text-align: right;\">\n      <th></th>\n      <th>objectid</th>\n      <th>id</th>\n      <th>type</th>\n      <th>volume</th>\n      <th>quantite</th>\n      <th>marque</th>\n      <th>date_instal</th>\n      <th>adresse</th>\n      <th>adresse_comp</th>\n      <th>code_insee</th>\n      <th>observations</th>\n      <th>creation</th>\n      <th>date_creation</th>\n      <th>modification</th>\n      <th>date_modification</th>\n      <th>globalid</th>\n      <th>etat</th>\n      <th>_x</th>\n      <th>_y</th>\n    </tr>\n  </thead>\n  <tbody>\n    <tr>\n      <th>0</th>\n      <td>2002</td>\n      <td>NaN</td>\n      <td>Bac aérien avec cache bac</td>\n      <td>660 L</td>\n      <td>1</td>\n      <td>Plastic Omnium</td>\n      <td>NaN</td>\n      <td>Gare tsm</td>\n      <td>NaN</td>\n      <td>6138.0</td>\n      <td>NaN</td>\n      <td>chpayet</td>\n      <td>20191204083917</td>\n      <td>chpayet</td>\n      <td>20191204083917</td>\n      <td>{5C455C7F-2CAF-4B57-8B69-686691E7ACAA}</td>\n      <td>NaN</td>\n      <td>6.937009</td>\n      <td>43.513302</td>\n    </tr>\n    <tr>\n      <th>1</th>\n      <td>3202</td>\n      <td>NaN</td>\n      <td>Bac aérien avec cache bac</td>\n      <td>660 L</td>\n      <td>3</td>\n      <td>Plastic Omnium</td>\n      <td>NaN</td>\n      <td>Résidence les terrasses de saint honorat</td>\n      <td>NaN</td>\n      <td>6138.0</td>\n      <td>NaN</td>\n      <td>chpayet</td>\n      <td>20200102131948</td>\n      <td>chpayet</td>\n      <td>20200102131948</td>\n      <td>{449AE0D0-B256-49C2-84F7-87F4248CA3CC}</td>\n      <td>NaN</td>\n      <td>6.941518</td>\n      <td>43.490540</td>\n    </tr>\n    <tr>\n      <th>2</th>\n      <td>2003</td>\n      <td>NaN</td>\n      <td>Bac aérien sans cache bac</td>\n      <td>660 L</td>\n      <td>1</td>\n      <td>Plastic Omnium</td>\n      <td>NaN</td>\n      <td>Prince des iles</td>\n      <td>NaN</td>\n      <td>6138.0</td>\n      <td>NaN</td>\n      <td>chpayet</td>\n      <td>20191204084630</td>\n      <td>chpayet</td>\n      <td>20191204084630</td>\n      <td>{FED2233C-9710-40F1-ACF4-58134F0BB9FE}</td>\n      <td>NaN</td>\n      <td>6.937398</td>\n      <td>43.509171</td>\n    </tr>\n    <tr>\n      <th>3</th>\n      <td>2004</td>\n      <td>NaN</td>\n      <td>Bac aérien sans cache bac</td>\n      <td>660 L</td>\n      <td>1</td>\n      <td>Plastic Omnium</td>\n      <td>NaN</td>\n      <td>Avenue de lerins trottoir de l eglise</td>\n      <td>NaN</td>\n      <td>6138.0</td>\n      <td>NaN</td>\n      <td>chpayet</td>\n      <td>20191204085306</td>\n      <td>chpayet</td>\n      <td>20191204085306</td>\n      <td>{058DC0AE-423C-4FEB-8D30-D4C113428CD8}</td>\n      <td>NaN</td>\n      <td>6.938353</td>\n      <td>43.508087</td>\n    </tr>\n    <tr>\n      <th>4</th>\n      <td>2005</td>\n      <td>NaN</td>\n      <td>Bac aérien sans cache bac</td>\n      <td>660 L</td>\n      <td>1</td>\n      <td>Plastic Omnium</td>\n      <td>NaN</td>\n      <td>Avenue de lerins angle traverse magasin souvenirs</td>\n      <td>NaN</td>\n      <td>6138.0</td>\n      <td>NaN</td>\n      <td>chpayet</td>\n      <td>20191204090036</td>\n      <td>chpayet</td>\n      <td>20191204090036</td>\n      <td>{53D62EB0-B046-4D5D-B636-94646AC984AA}</td>\n      <td>NaN</td>\n      <td>6.940556</td>\n      <td>43.507687</td>\n    </tr>\n  </tbody>\n</table>\n</div>"
     },
     "metadata": {},
     "execution_count": 10
    }
   ],
   "source": [
    "dataOM.head()"
   ]
  },
  {
   "cell_type": "markdown",
   "metadata": {},
   "source": [
    "### Dimension du jeu de données"
   ]
  },
  {
   "cell_type": "code",
   "execution_count": 11,
   "metadata": {},
   "outputs": [
    {
     "output_type": "stream",
     "name": "stdout",
     "text": [
      "Le jeu de données recense 386 collecteurs avec 19 variables\n"
     ]
    }
   ],
   "source": [
    " print(\"Le jeu de données recense\", dataOM.shape[0], \"collecteurs avec\", dataOM.shape[1], \"variables\")"
   ]
  },
  {
   "cell_type": "markdown",
   "metadata": {},
   "source": [
    "### Valeurs manquantes\n",
    "Le jeu de données n'est pas complet.\n",
    "\n",
    "Aucun des collecteurs ne possède de valeur pour date_instal et etat.\n",
    "\n",
    "La plupart des collecteurs n'a pas d'id ni de complément d'adresse, ni d'observation (ce qui n'est pas gênant)\n",
    "\n",
    "Il manque un code INSEE (06029 pour 22 Corniche paradis)\n",
    "\n",
    "Il manque les noms de marque pour certains collecteurs : 2 lignes n'ont pas de marque définie\n",
    "\n",
    "Un collecteur n'a pas d'adresse\n",
    "\n",
    "D'autres manques sont précisés dans la partie Notes générales"
   ]
  },
  {
   "cell_type": "code",
   "execution_count": 12,
   "metadata": {
    "scrolled": true
   },
   "outputs": [
    {
     "output_type": "execute_result",
     "data": {
      "text/plain": [
       "objectid               0\n",
       "id                   345\n",
       "type                   0\n",
       "volume                 0\n",
       "quantite               0\n",
       "marque                 2\n",
       "date_instal          386\n",
       "adresse                1\n",
       "adresse_comp         366\n",
       "code_insee             1\n",
       "observations         384\n",
       "creation               0\n",
       "date_creation          0\n",
       "modification           0\n",
       "date_modification      0\n",
       "globalid               0\n",
       "etat                 386\n",
       "_x                     0\n",
       "_y                     0\n",
       "dtype: int64"
      ]
     },
     "metadata": {},
     "execution_count": 12
    }
   ],
   "source": [
    "dataOM.isna().sum()"
   ]
  },
  {
   "cell_type": "code",
   "execution_count": 13,
   "metadata": {
    "scrolled": true
   },
   "outputs": [
    {
     "output_type": "execute_result",
     "data": {
      "text/plain": [
       "     objectid   id                       type volume  quantite    marque  \\\n",
       "253      9633  NaN  Bac aérien sans cache bac  660 L         1  Contenur   \n",
       "\n",
       "     date_instal              adresse adresse_comp  code_insee observations  \\\n",
       "253          NaN  22 Corniche paradis          NaN         NaN          NaN   \n",
       "\n",
       "    creation   date_creation modification  date_modification  \\\n",
       "253  chpayet  20200507091717      chpayet     20200507091717   \n",
       "\n",
       "                                   globalid  etat        _x         _y  \n",
       "253  {33D295CF-CBD3-4049-83A8-02E0BDAB0078}   NaN  7.035603  43.564667  "
      ],
      "text/html": "<div>\n<style scoped>\n    .dataframe tbody tr th:only-of-type {\n        vertical-align: middle;\n    }\n\n    .dataframe tbody tr th {\n        vertical-align: top;\n    }\n\n    .dataframe thead th {\n        text-align: right;\n    }\n</style>\n<table border=\"1\" class=\"dataframe\">\n  <thead>\n    <tr style=\"text-align: right;\">\n      <th></th>\n      <th>objectid</th>\n      <th>id</th>\n      <th>type</th>\n      <th>volume</th>\n      <th>quantite</th>\n      <th>marque</th>\n      <th>date_instal</th>\n      <th>adresse</th>\n      <th>adresse_comp</th>\n      <th>code_insee</th>\n      <th>observations</th>\n      <th>creation</th>\n      <th>date_creation</th>\n      <th>modification</th>\n      <th>date_modification</th>\n      <th>globalid</th>\n      <th>etat</th>\n      <th>_x</th>\n      <th>_y</th>\n    </tr>\n  </thead>\n  <tbody>\n    <tr>\n      <th>253</th>\n      <td>9633</td>\n      <td>NaN</td>\n      <td>Bac aérien sans cache bac</td>\n      <td>660 L</td>\n      <td>1</td>\n      <td>Contenur</td>\n      <td>NaN</td>\n      <td>22 Corniche paradis</td>\n      <td>NaN</td>\n      <td>NaN</td>\n      <td>NaN</td>\n      <td>chpayet</td>\n      <td>20200507091717</td>\n      <td>chpayet</td>\n      <td>20200507091717</td>\n      <td>{33D295CF-CBD3-4049-83A8-02E0BDAB0078}</td>\n      <td>NaN</td>\n      <td>7.035603</td>\n      <td>43.564667</td>\n    </tr>\n  </tbody>\n</table>\n</div>"
     },
     "metadata": {},
     "execution_count": 13
    }
   ],
   "source": [
    "dataOM[dataOM.code_insee.isna()]"
   ]
  },
  {
   "cell_type": "code",
   "execution_count": 14,
   "metadata": {},
   "outputs": [
    {
     "output_type": "execute_result",
     "data": {
      "text/plain": [
       "     objectid   id                       type volume  quantite marque  \\\n",
       "23       2414  NaN  Bac aérien avec cache bac  660 L         1    NaN   \n",
       "141      4016  NaN  Bac aérien sans cache bac  660 L         6    NaN   \n",
       "\n",
       "     date_instal                 adresse adresse_comp  code_insee  \\\n",
       "23           NaN     16 avenue du trayas          NaN      6138.0   \n",
       "141          NaN  Avenue Robert Schuman           NaN      6079.0   \n",
       "\n",
       "    observations creation   date_creation modification  date_modification  \\\n",
       "23           NaN  chpayet  20191206094728      chpayet     20191206094728   \n",
       "141          NaN  chpayet  20200109143551      chpayet     20200109143813   \n",
       "\n",
       "                                   globalid  etat        _x         _y  \n",
       "23   {83E9E79C-30B9-4810-A497-57A622270EFA}   NaN  6.929938  43.484035  \n",
       "141  {80EA24D1-D67F-4A79-B041-87DE1A7F696F}   NaN  6.917853  43.538933  "
      ],
      "text/html": "<div>\n<style scoped>\n    .dataframe tbody tr th:only-of-type {\n        vertical-align: middle;\n    }\n\n    .dataframe tbody tr th {\n        vertical-align: top;\n    }\n\n    .dataframe thead th {\n        text-align: right;\n    }\n</style>\n<table border=\"1\" class=\"dataframe\">\n  <thead>\n    <tr style=\"text-align: right;\">\n      <th></th>\n      <th>objectid</th>\n      <th>id</th>\n      <th>type</th>\n      <th>volume</th>\n      <th>quantite</th>\n      <th>marque</th>\n      <th>date_instal</th>\n      <th>adresse</th>\n      <th>adresse_comp</th>\n      <th>code_insee</th>\n      <th>observations</th>\n      <th>creation</th>\n      <th>date_creation</th>\n      <th>modification</th>\n      <th>date_modification</th>\n      <th>globalid</th>\n      <th>etat</th>\n      <th>_x</th>\n      <th>_y</th>\n    </tr>\n  </thead>\n  <tbody>\n    <tr>\n      <th>23</th>\n      <td>2414</td>\n      <td>NaN</td>\n      <td>Bac aérien avec cache bac</td>\n      <td>660 L</td>\n      <td>1</td>\n      <td>NaN</td>\n      <td>NaN</td>\n      <td>16 avenue du trayas</td>\n      <td>NaN</td>\n      <td>6138.0</td>\n      <td>NaN</td>\n      <td>chpayet</td>\n      <td>20191206094728</td>\n      <td>chpayet</td>\n      <td>20191206094728</td>\n      <td>{83E9E79C-30B9-4810-A497-57A622270EFA}</td>\n      <td>NaN</td>\n      <td>6.929938</td>\n      <td>43.484035</td>\n    </tr>\n    <tr>\n      <th>141</th>\n      <td>4016</td>\n      <td>NaN</td>\n      <td>Bac aérien sans cache bac</td>\n      <td>660 L</td>\n      <td>6</td>\n      <td>NaN</td>\n      <td>NaN</td>\n      <td>Avenue Robert Schuman</td>\n      <td>NaN</td>\n      <td>6079.0</td>\n      <td>NaN</td>\n      <td>chpayet</td>\n      <td>20200109143551</td>\n      <td>chpayet</td>\n      <td>20200109143813</td>\n      <td>{80EA24D1-D67F-4A79-B041-87DE1A7F696F}</td>\n      <td>NaN</td>\n      <td>6.917853</td>\n      <td>43.538933</td>\n    </tr>\n  </tbody>\n</table>\n</div>"
     },
     "metadata": {},
     "execution_count": 14
    }
   ],
   "source": [
    "dataOM[dataOM.marque.isna()]"
   ]
  },
  {
   "cell_type": "code",
   "execution_count": 15,
   "metadata": {},
   "outputs": [
    {
     "output_type": "execute_result",
     "data": {
      "text/plain": [
       "    objectid   id                       type volume  quantite          marque  \\\n",
       "65      3204  NaN  Bac aérien sans cache bac  660 L         1  Plastic Omnium   \n",
       "\n",
       "    date_instal adresse adresse_comp  code_insee observations creation  \\\n",
       "65          NaN     NaN          NaN      6138.0          NaN  chpayet   \n",
       "\n",
       "     date_creation modification  date_modification  \\\n",
       "65  20200102132612      chpayet     20200102132612   \n",
       "\n",
       "                                  globalid  etat       _x         _y  \n",
       "65  {7E0F84F0-A1FC-4B0C-9E96-67BC6C993BD1}   NaN  6.94299  43.489315  "
      ],
      "text/html": "<div>\n<style scoped>\n    .dataframe tbody tr th:only-of-type {\n        vertical-align: middle;\n    }\n\n    .dataframe tbody tr th {\n        vertical-align: top;\n    }\n\n    .dataframe thead th {\n        text-align: right;\n    }\n</style>\n<table border=\"1\" class=\"dataframe\">\n  <thead>\n    <tr style=\"text-align: right;\">\n      <th></th>\n      <th>objectid</th>\n      <th>id</th>\n      <th>type</th>\n      <th>volume</th>\n      <th>quantite</th>\n      <th>marque</th>\n      <th>date_instal</th>\n      <th>adresse</th>\n      <th>adresse_comp</th>\n      <th>code_insee</th>\n      <th>observations</th>\n      <th>creation</th>\n      <th>date_creation</th>\n      <th>modification</th>\n      <th>date_modification</th>\n      <th>globalid</th>\n      <th>etat</th>\n      <th>_x</th>\n      <th>_y</th>\n    </tr>\n  </thead>\n  <tbody>\n    <tr>\n      <th>65</th>\n      <td>3204</td>\n      <td>NaN</td>\n      <td>Bac aérien sans cache bac</td>\n      <td>660 L</td>\n      <td>1</td>\n      <td>Plastic Omnium</td>\n      <td>NaN</td>\n      <td>NaN</td>\n      <td>NaN</td>\n      <td>6138.0</td>\n      <td>NaN</td>\n      <td>chpayet</td>\n      <td>20200102132612</td>\n      <td>chpayet</td>\n      <td>20200102132612</td>\n      <td>{7E0F84F0-A1FC-4B0C-9E96-67BC6C993BD1}</td>\n      <td>NaN</td>\n      <td>6.94299</td>\n      <td>43.489315</td>\n    </tr>\n  </tbody>\n</table>\n</div>"
     },
     "metadata": {},
     "execution_count": 15
    }
   ],
   "source": [
    "dataOM[dataOM.adresse.isna()]"
   ]
  },
  {
   "cell_type": "markdown",
   "metadata": {},
   "source": [
    "### Décompte des doublons"
   ]
  },
  {
   "cell_type": "code",
   "execution_count": 16,
   "metadata": {},
   "outputs": [
    {
     "output_type": "execute_result",
     "data": {
      "text/plain": [
       "0"
      ]
     },
     "metadata": {},
     "execution_count": 16
    }
   ],
   "source": [
    "dataOM.duplicated().sum()"
   ]
  },
  {
   "cell_type": "markdown",
   "metadata": {},
   "source": [
    "### Notes générales"
   ]
  },
  {
   "cell_type": "markdown",
   "metadata": {},
   "source": [
    "Un type de collecteur n'est pas précisé (bac aérien vu que le volume est précisé en L)"
   ]
  },
  {
   "cell_type": "code",
   "execution_count": 17,
   "metadata": {
    "scrolled": true
   },
   "outputs": [
    {
     "output_type": "execute_result",
     "data": {
      "text/plain": [
       "Bac aérien sans cache bac    192\n",
       "Bac aérien avec cache bac    133\n",
       "PAV cuve enterrée             35\n",
       "PAV enterré ascenseur         17\n",
       "PAV cuve semi-enterrée         6\n",
       "PAV cuve compactrice           2\n",
       "                               1\n",
       "Name: type, dtype: int64"
      ]
     },
     "metadata": {},
     "execution_count": 17
    }
   ],
   "source": [
    "dataOM.type.value_counts()"
   ]
  },
  {
   "cell_type": "code",
   "execution_count": 18,
   "metadata": {
    "scrolled": false
   },
   "outputs": [
    {
     "output_type": "execute_result",
     "data": {
      "text/plain": [
       "     objectid   id type volume  quantite    marque  date_instal  \\\n",
       "128      8021  NaN       340 L         1  Contenur          NaN   \n",
       "\n",
       "                  adresse adresse_comp  code_insee observations creation  \\\n",
       "128  Impasse saint claude          NaN      6030.0          NaN  chpayet   \n",
       "\n",
       "      date_creation modification  date_modification  \\\n",
       "128  20200310085858      chpayet     20200310085858   \n",
       "\n",
       "                                   globalid  etat        _x         _y  \n",
       "128  {5F8A550E-7D06-4523-B2DE-75CAC4A8EDC3}   NaN  7.019745  43.571297  "
      ],
      "text/html": "<div>\n<style scoped>\n    .dataframe tbody tr th:only-of-type {\n        vertical-align: middle;\n    }\n\n    .dataframe tbody tr th {\n        vertical-align: top;\n    }\n\n    .dataframe thead th {\n        text-align: right;\n    }\n</style>\n<table border=\"1\" class=\"dataframe\">\n  <thead>\n    <tr style=\"text-align: right;\">\n      <th></th>\n      <th>objectid</th>\n      <th>id</th>\n      <th>type</th>\n      <th>volume</th>\n      <th>quantite</th>\n      <th>marque</th>\n      <th>date_instal</th>\n      <th>adresse</th>\n      <th>adresse_comp</th>\n      <th>code_insee</th>\n      <th>observations</th>\n      <th>creation</th>\n      <th>date_creation</th>\n      <th>modification</th>\n      <th>date_modification</th>\n      <th>globalid</th>\n      <th>etat</th>\n      <th>_x</th>\n      <th>_y</th>\n    </tr>\n  </thead>\n  <tbody>\n    <tr>\n      <th>128</th>\n      <td>8021</td>\n      <td>NaN</td>\n      <td></td>\n      <td>340 L</td>\n      <td>1</td>\n      <td>Contenur</td>\n      <td>NaN</td>\n      <td>Impasse saint claude</td>\n      <td>NaN</td>\n      <td>6030.0</td>\n      <td>NaN</td>\n      <td>chpayet</td>\n      <td>20200310085858</td>\n      <td>chpayet</td>\n      <td>20200310085858</td>\n      <td>{5F8A550E-7D06-4523-B2DE-75CAC4A8EDC3}</td>\n      <td>NaN</td>\n      <td>7.019745</td>\n      <td>43.571297</td>\n    </tr>\n  </tbody>\n</table>\n</div>"
     },
     "metadata": {},
     "execution_count": 18
    }
   ],
   "source": [
    "dataOM[dataOM.type == \" \"]"
   ]
  },
  {
   "cell_type": "markdown",
   "metadata": {},
   "source": [
    "4 collecteurs n'ont pas le volume précisé (il est peut-être possible de retrouver le volume par comparaison des photographies)"
   ]
  },
  {
   "cell_type": "code",
   "execution_count": 19,
   "metadata": {
    "scrolled": true
   },
   "outputs": [
    {
     "output_type": "execute_result",
     "data": {
      "text/plain": [
       "660 L      283\n",
       "3 m3        34\n",
       "750 L       21\n",
       "4 m3        17\n",
       "340 L       15\n",
       "240 L        6\n",
       "5 m3         5\n",
       "             4\n",
       "< 240 L      1\n",
       "Name: volume, dtype: int64"
      ]
     },
     "metadata": {},
     "execution_count": 19
    }
   ],
   "source": [
    "dataOM.volume.value_counts()"
   ]
  },
  {
   "cell_type": "code",
   "execution_count": 20,
   "metadata": {
    "scrolled": true
   },
   "outputs": [
    {
     "output_type": "execute_result",
     "data": {
      "text/plain": [
       "     objectid   id                   type volume  quantite    marque  \\\n",
       "108      5619  NaN      PAV cuve enterrée                1  Contenur   \n",
       "232      8421  NaN      PAV cuve enterrée                2             \n",
       "242      8425  NaN  PAV enterré ascenseur                1  Ecollect   \n",
       "336     16049  NaN      PAV cuve enterrée                1  Contenur   \n",
       "\n",
       "     date_instal                    adresse adresse_comp  code_insee  \\\n",
       "108          NaN       2 avenue isola bella          NaN      6029.0   \n",
       "232          NaN           Rue Amador lopez          NaN      6029.0   \n",
       "242          NaN  146 avenue Michel jourdan          NaN      6029.0   \n",
       "336          NaN       Avenue pierre semard          NaN      6029.0   \n",
       "\n",
       "    observations creation   date_creation modification  date_modification  \\\n",
       "108          NaN  chpayet  20200205091249      chpayet     20200205091249   \n",
       "232          NaN  chpayet  20200417075039      chpayet     20200417075039   \n",
       "242          NaN  chpayet  20200417082139      chpayet     20200417082139   \n",
       "336          NaN  chpayet  20200819085514      chpayet     20200819085514   \n",
       "\n",
       "                                   globalid  etat        _x         _y  \n",
       "108  {F761890A-0194-4B2A-833D-60D6F61CEA5B}   NaN  7.024379  43.555840  \n",
       "232  {98218ED9-38E5-4525-89A3-77BCBB533F9C}   NaN  6.963249  43.556019  \n",
       "242  {D8F695AF-59DF-4EB7-AE63-7F0856CA882B}   NaN  6.968542  43.558376  \n",
       "336  {0556B869-083B-40CD-9576-36BC6DC523E0}   NaN  6.977401  43.548309  "
      ],
      "text/html": "<div>\n<style scoped>\n    .dataframe tbody tr th:only-of-type {\n        vertical-align: middle;\n    }\n\n    .dataframe tbody tr th {\n        vertical-align: top;\n    }\n\n    .dataframe thead th {\n        text-align: right;\n    }\n</style>\n<table border=\"1\" class=\"dataframe\">\n  <thead>\n    <tr style=\"text-align: right;\">\n      <th></th>\n      <th>objectid</th>\n      <th>id</th>\n      <th>type</th>\n      <th>volume</th>\n      <th>quantite</th>\n      <th>marque</th>\n      <th>date_instal</th>\n      <th>adresse</th>\n      <th>adresse_comp</th>\n      <th>code_insee</th>\n      <th>observations</th>\n      <th>creation</th>\n      <th>date_creation</th>\n      <th>modification</th>\n      <th>date_modification</th>\n      <th>globalid</th>\n      <th>etat</th>\n      <th>_x</th>\n      <th>_y</th>\n    </tr>\n  </thead>\n  <tbody>\n    <tr>\n      <th>108</th>\n      <td>5619</td>\n      <td>NaN</td>\n      <td>PAV cuve enterrée</td>\n      <td></td>\n      <td>1</td>\n      <td>Contenur</td>\n      <td>NaN</td>\n      <td>2 avenue isola bella</td>\n      <td>NaN</td>\n      <td>6029.0</td>\n      <td>NaN</td>\n      <td>chpayet</td>\n      <td>20200205091249</td>\n      <td>chpayet</td>\n      <td>20200205091249</td>\n      <td>{F761890A-0194-4B2A-833D-60D6F61CEA5B}</td>\n      <td>NaN</td>\n      <td>7.024379</td>\n      <td>43.555840</td>\n    </tr>\n    <tr>\n      <th>232</th>\n      <td>8421</td>\n      <td>NaN</td>\n      <td>PAV cuve enterrée</td>\n      <td></td>\n      <td>2</td>\n      <td></td>\n      <td>NaN</td>\n      <td>Rue Amador lopez</td>\n      <td>NaN</td>\n      <td>6029.0</td>\n      <td>NaN</td>\n      <td>chpayet</td>\n      <td>20200417075039</td>\n      <td>chpayet</td>\n      <td>20200417075039</td>\n      <td>{98218ED9-38E5-4525-89A3-77BCBB533F9C}</td>\n      <td>NaN</td>\n      <td>6.963249</td>\n      <td>43.556019</td>\n    </tr>\n    <tr>\n      <th>242</th>\n      <td>8425</td>\n      <td>NaN</td>\n      <td>PAV enterré ascenseur</td>\n      <td></td>\n      <td>1</td>\n      <td>Ecollect</td>\n      <td>NaN</td>\n      <td>146 avenue Michel jourdan</td>\n      <td>NaN</td>\n      <td>6029.0</td>\n      <td>NaN</td>\n      <td>chpayet</td>\n      <td>20200417082139</td>\n      <td>chpayet</td>\n      <td>20200417082139</td>\n      <td>{D8F695AF-59DF-4EB7-AE63-7F0856CA882B}</td>\n      <td>NaN</td>\n      <td>6.968542</td>\n      <td>43.558376</td>\n    </tr>\n    <tr>\n      <th>336</th>\n      <td>16049</td>\n      <td>NaN</td>\n      <td>PAV cuve enterrée</td>\n      <td></td>\n      <td>1</td>\n      <td>Contenur</td>\n      <td>NaN</td>\n      <td>Avenue pierre semard</td>\n      <td>NaN</td>\n      <td>6029.0</td>\n      <td>NaN</td>\n      <td>chpayet</td>\n      <td>20200819085514</td>\n      <td>chpayet</td>\n      <td>20200819085514</td>\n      <td>{0556B869-083B-40CD-9576-36BC6DC523E0}</td>\n      <td>NaN</td>\n      <td>6.977401</td>\n      <td>43.548309</td>\n    </tr>\n  </tbody>\n</table>\n</div>"
     },
     "metadata": {},
     "execution_count": 20
    }
   ],
   "source": [
    "dataOM[dataOM.volume == \" \"]"
   ]
  },
  {
   "cell_type": "markdown",
   "metadata": {},
   "source": [
    "40 collecteurs ont la marque \" \" (soit 40 sans marque à ajouter aux 2 détectés précédemment)"
   ]
  },
  {
   "cell_type": "code",
   "execution_count": 21,
   "metadata": {},
   "outputs": [
    {
     "output_type": "execute_result",
     "data": {
      "text/plain": [
       "Contenur          259\n",
       "Plastic Omnium     58\n",
       "                   40\n",
       "Ecollect           14\n",
       "Citec              13\n",
       "Name: marque, dtype: int64"
      ]
     },
     "metadata": {},
     "execution_count": 21
    }
   ],
   "source": [
    "dataOM.marque.value_counts()"
   ]
  },
  {
   "cell_type": "code",
   "execution_count": 22,
   "metadata": {
    "scrolled": true
   },
   "outputs": [
    {
     "output_type": "execute_result",
     "data": {
      "text/plain": [
       "     objectid                         id                       type   volume  \\\n",
       "20       2412  660009218,6601801328,c110  Bac aérien avec cache bac    660 L   \n",
       "24       2415                        NaN  Bac aérien avec cache bac  < 240 L   \n",
       "53       2822                        NaN  Bac aérien sans cache bac    750 L   \n",
       "103      5617                        NaN  Bac aérien avec cache bac    750 L   \n",
       "113      5622                        NaN  Bac aérien avec cache bac    660 L   \n",
       "130     18449                        NaN  Bac aérien sans cache bac    660 L   \n",
       "133      6038                        NaN          PAV cuve enterrée     5 m3   \n",
       "134      6039                        NaN          PAV cuve enterrée     4 m3   \n",
       "136      4017                        NaN  Bac aérien sans cache bac    750 L   \n",
       "139      6043                        NaN  Bac aérien sans cache bac    660 L   \n",
       "156      6050                        NaN  Bac aérien sans cache bac    660 L   \n",
       "157      6051                        NaN      PAV enterré ascenseur     3 m3   \n",
       "162      4414                        NaN       PAV cuve compactrice     5 m3   \n",
       "163      4415                        NaN       PAV cuve compactrice     5 m3   \n",
       "181      6821                        NaN  Bac aérien avec cache bac    660 L   \n",
       "196      7234                        NaN  Bac aérien sans cache bac    660 L   \n",
       "215      7223                        NaN          PAV cuve enterrée     3 m3   \n",
       "217      6829                        NaN          PAV cuve enterrée     3 m3   \n",
       "222      6832                        NaN      PAV enterré ascenseur     4 m3   \n",
       "232      8421                        NaN          PAV cuve enterrée            \n",
       "237      8422                        NaN          PAV cuve enterrée     3 m3   \n",
       "239      8423                        NaN          PAV cuve enterrée     3 m3   \n",
       "240      8424                        NaN          PAV cuve enterrée     3 m3   \n",
       "243      8426                        NaN          PAV cuve enterrée     3 m3   \n",
       "257      8821                        NaN  Bac aérien sans cache bac    340 L   \n",
       "261      8822                        NaN          PAV cuve enterrée     3 m3   \n",
       "264      8823                        NaN  Bac aérien avec cache bac    660 L   \n",
       "269      7629                        NaN          PAV cuve enterrée     3 m3   \n",
       "287     12043                        NaN          PAV cuve enterrée     3 m3   \n",
       "289     12044                        NaN          PAV cuve enterrée     3 m3   \n",
       "298      6044                        NaN  Bac aérien sans cache bac    660 L   \n",
       "301     10045                        NaN          PAV cuve enterrée     3 m3   \n",
       "323     12451                        NaN      PAV enterré ascenseur     3 m3   \n",
       "352     14449                        NaN     PAV cuve semi-enterrée     4 m3   \n",
       "353     14450                        NaN     PAV cuve semi-enterrée     4 m3   \n",
       "354     14451                        NaN     PAV cuve semi-enterrée     4 m3   \n",
       "355     14452                        NaN     PAV cuve semi-enterrée     3 m3   \n",
       "356     14453                        NaN     PAV cuve semi-enterrée     4 m3   \n",
       "357     14454                        NaN     PAV cuve semi-enterrée     4 m3   \n",
       "376     17655                        NaN          PAV cuve enterrée     4 m3   \n",
       "\n",
       "     quantite marque  date_instal                             adresse  \\\n",
       "20          3                 NaN                 16 avenue du trayas   \n",
       "24          1                 NaN                16 avenue du trayas    \n",
       "53          1                 NaN             37 avenue saint Hubert    \n",
       "103         3                 NaN              1 rue Marcel berthelot   \n",
       "113         2                 NaN            1 boulevard de lorraine    \n",
       "130         1                 NaN            60 boulevard Paul doumer   \n",
       "133         1                 NaN            Square Frédéric mistral    \n",
       "134         1                 NaN            Square Frédéric mistral    \n",
       "136         2                 NaN              Avenue Robert Schuman    \n",
       "139         2                 NaN                  Impasse mouraillle   \n",
       "156         2                 NaN                27 avenue saint jean   \n",
       "157         1                 NaN                Avenue reine Astrid    \n",
       "162         1                 NaN                    Rue Félix Faure    \n",
       "163         1                 NaN                    Rue Félix Faure    \n",
       "181         2                 NaN                         1 rue reyer   \n",
       "196         1                 NaN          31 boulevard Jacques monod   \n",
       "215         1                 NaN        177 avenue de la république    \n",
       "217         1                 NaN                    31 rue de mimont   \n",
       "222         2                 NaN                       Rue venizelos   \n",
       "232         2                 NaN                    Rue Amador lopez   \n",
       "237         3                 NaN                Chemin du caroubiers   \n",
       "239         2                 NaN                Chemin des rainettes   \n",
       "240         2                 NaN                 Chemin du caroubier   \n",
       "243         2                 NaN                Rue Alfred de musset   \n",
       "257         1                 NaN                  Rue Léandre sardou   \n",
       "261         5                 NaN                Chemin de l horizon    \n",
       "264         3                 NaN                Chemin de l horizon    \n",
       "269         1                 NaN              Boulevard louis negrin   \n",
       "287         1                 NaN           Boulevard de la croisette   \n",
       "289         3                 NaN                  Rue docteur gerard   \n",
       "298         4                 NaN             Impasse des cassiflores   \n",
       "301         1                 NaN            26 avenue maréchal juin    \n",
       "323         1                 NaN  Boulevard chanoine Francis coeuret   \n",
       "352         1                 NaN                     Route d antibes   \n",
       "353         1                 NaN                     Route d antibes   \n",
       "354         1                 NaN                 Route de vallauris    \n",
       "355         1                 NaN               Route de la valmasque   \n",
       "356         1                 NaN               Route de la valmasque   \n",
       "357         1                 NaN              Route de la valmasque    \n",
       "376         2                 NaN                13 rue Victor cousin   \n",
       "\n",
       "       adresse_comp  code_insee      observations creation   date_creation  \\\n",
       "20              NaN      6138.0               NaN  chpayet  20191206094139   \n",
       "24              NaN      6138.0               NaN  chpayet  20191206094909   \n",
       "53              NaN      6138.0               NaN  chpayet  20191211095910   \n",
       "103  Sur le parking      6029.0               NaN  chpayet  20200205090258   \n",
       "113             NaN      6029.0               NaN  chpayet  20200205094631   \n",
       "130             NaN      6030.0               NaN  chpayet  20200901090811   \n",
       "133             NaN      6029.0               NaN  chpayet  20200210094150   \n",
       "134             NaN      6029.0  Accès avec clef   chpayet  20200210094932   \n",
       "136             NaN      6079.0               NaN  chpayet  20200109143702   \n",
       "139             NaN      6029.0               NaN  chpayet  20200210102055   \n",
       "156             NaN      6029.0               NaN  chpayet  20200210105409   \n",
       "157             NaN      6029.0               NaN  chpayet  20200210135045   \n",
       "162             NaN      6029.0               NaN  chpayet  20200128085212   \n",
       "163             NaN      6029.0               NaN  chpayet  20200128085712   \n",
       "181             NaN      6029.0               NaN  chpayet  20200212081326   \n",
       "196             NaN      6030.0               NaN  chpayet  20200213100752   \n",
       "215             NaN      6029.0               NaN  chpayet  20200213084245   \n",
       "217             NaN      6029.0               NaN  chpayet  20200212085403   \n",
       "222             NaN      6029.0               NaN  chpayet  20200212090542   \n",
       "232             NaN      6029.0               NaN  chpayet  20200417075039   \n",
       "237             NaN      6029.0               NaN  chpayet  20200417075614   \n",
       "239             NaN      6029.0               NaN  chpayet  20200417075947   \n",
       "240             NaN      6029.0               NaN  chpayet  20200417080412   \n",
       "243             NaN      6029.0               NaN  chpayet  20200417084212   \n",
       "257             NaN      6029.0               NaN  chpayet  20200429074949   \n",
       "261             NaN      6085.0               NaN  chpayet  20200429102407   \n",
       "264             NaN      6085.0               NaN  chpayet  20200429102651   \n",
       "269             NaN      6029.0               NaN  chpayet  20200218144745   \n",
       "287             NaN      6029.0               NaN  chpayet  20200623092157   \n",
       "289             NaN      6029.0               NaN  chpayet  20200623093052   \n",
       "298             NaN      6029.0               NaN  chpayet  20200210102536   \n",
       "301             NaN      6029.0               NaN  chpayet  20200512125614   \n",
       "323             NaN      6029.0               NaN  chpayet  20200630115908   \n",
       "352             NaN      6085.0               NaN  chpayet  20200727131955   \n",
       "353             NaN      6085.0               NaN  chpayet  20200727132208   \n",
       "354             NaN      6085.0               NaN  chpayet  20200727133549   \n",
       "355             NaN      6085.0               NaN  chpayet  20200727134101   \n",
       "356             NaN      6085.0               NaN  chpayet  20200727134201   \n",
       "357             NaN      6085.0               NaN  chpayet  20200727134430   \n",
       "376             NaN      6029.0               NaN  chpayet  20200826113124   \n",
       "\n",
       "    modification  date_modification                                globalid  \\\n",
       "20       chpayet     20191206094139  {85FCBB7E-829C-4A12-8C9F-26864FFA595C}   \n",
       "24       chpayet     20191206094909  {26C0D5E8-5A31-4B7E-B802-F1CDFBCF5270}   \n",
       "53       chpayet     20191211095910  {10C27FF7-E7E5-4F12-88DC-56A85F5796CF}   \n",
       "103      chpayet     20200205090258  {193D1690-9CC5-4FD4-A0B1-005525BD8B54}   \n",
       "113      chpayet     20200205094631  {7A4C34AE-540E-4B41-B3BD-56D96BDB4A4D}   \n",
       "130      chpayet     20200901090811  {615ED45F-7E3D-49F3-879A-8BCD30DCCF94}   \n",
       "133      chpayet     20200210094150  {E755A6D9-6C1B-441B-BD49-E6E31C782E7E}   \n",
       "134      chpayet     20200210094932  {CFB0FE37-3521-40FC-B55B-1C5F4BF9ADBC}   \n",
       "136      chpayet     20200109143725  {0C31F0A3-54AA-46F5-9B7D-6AD3A6839AEC}   \n",
       "139      chpayet     20200210102055  {6F1313A5-B78E-44DB-AD9F-2431DB6E7A4F}   \n",
       "156      chpayet     20200210105409  {5EBD54EA-8264-4DF8-B3AA-99B9C059C6C0}   \n",
       "157      chpayet     20200210135045  {694FFA17-0C34-478C-9F36-B37989A196DE}   \n",
       "162      chpayet     20200128085212  {67E342DC-C2DB-460F-856A-C8DD7E956F1C}   \n",
       "163      chpayet     20200128085712  {2688A994-BD65-49D8-BB0F-83F250E6D53B}   \n",
       "181      chpayet     20200212081326  {469720A0-8C75-4E95-9E9B-1B46B6C0B23E}   \n",
       "196      chpayet     20200213100752  {A1C71622-8F9A-41E5-B074-49303B0DDAD4}   \n",
       "215      chpayet     20200213084245  {0DF0E333-6240-4206-A8CF-9D6C66A7C79C}   \n",
       "217      chpayet     20200212085403  {16AD2DEB-70F2-42BA-BCD5-1B3E26AF78B8}   \n",
       "222      chpayet     20200212090542  {8DC0A09C-0EBD-42E2-BB31-CB86BC1FD0DA}   \n",
       "232      chpayet     20200417075039  {98218ED9-38E5-4525-89A3-77BCBB533F9C}   \n",
       "237      chpayet     20200417075614  {991EC0F0-72E9-46F4-984B-72BE983FDE6D}   \n",
       "239      chpayet     20200417075947  {3D2B93EC-E218-41EA-8E4B-DF0C83073DC8}   \n",
       "240      chpayet     20200417080412  {983FA0B1-E02C-4676-8699-6DBC9E071494}   \n",
       "243      chpayet     20200417084212  {B3130B27-8EF0-41FF-937D-6F7350A6DD4D}   \n",
       "257      chpayet     20200429074949  {28CB293D-5B2D-40BE-B723-E244539177CC}   \n",
       "261      chpayet     20200429102407  {7D4624AF-1EC9-4F7D-8592-FA2E3CCC6B2F}   \n",
       "264      chpayet     20200429102651  {8C2275EA-5D13-4A12-9D71-4DAB769EAB74}   \n",
       "269      chpayet     20200218144745  {25B805A1-D4BB-4DBE-B161-78B6EC250C6D}   \n",
       "287      chpayet     20200623092157  {E74F2DDE-C75E-491C-A01B-F11F683300DF}   \n",
       "289      chpayet     20200623093052  {9EAA56DD-4F33-4272-92E5-A4641EDB7D12}   \n",
       "298      chpayet     20200731072858  {8C341835-BF01-4496-BCBC-B2B4E459895C}   \n",
       "301      chpayet     20200512125614  {9005E421-1392-42BB-AD8A-026C2CF6D2FF}   \n",
       "323      chpayet     20200630115908  {342DDAC9-123A-4772-BB15-B30BF1342ECA}   \n",
       "352      chpayet     20200727131955  {64C665C3-841F-4F66-AD3D-AE3844C8BA40}   \n",
       "353      chpayet     20200727132411  {9AEC8D28-C965-4A6C-9533-AAE419228AEF}   \n",
       "354      chpayet     20200727133549  {548377E2-F5D1-43CF-9E3D-8F2F586A445F}   \n",
       "355      chpayet     20200727134101  {A3F2CDC5-7CE7-44F5-8756-AC980E6ED951}   \n",
       "356      chpayet     20200727134201  {C79F988F-4FBE-4669-A355-20EB8DD82BF2}   \n",
       "357      chpayet     20200727134430  {9603FD9A-54AC-43E6-A79B-20D9D1EC8163}   \n",
       "376      chpayet     20200826113124  {1C54CE8A-8029-4CFB-9993-57559A84E825}   \n",
       "\n",
       "     etat        _x         _y  \n",
       "20    NaN  6.929891  43.484089  \n",
       "24    NaN  6.929922  43.484051  \n",
       "53    NaN  6.943240  43.503384  \n",
       "103   NaN  7.022876  43.556847  \n",
       "113   NaN  7.025346  43.553810  \n",
       "130   NaN  7.009606  43.570232  \n",
       "133   NaN  7.007435  43.548866  \n",
       "134   NaN  7.006215  43.548965  \n",
       "136   NaN  6.917846  43.538963  \n",
       "139   NaN  7.008286  43.556664  \n",
       "156   NaN  7.014330  43.557491  \n",
       "157   NaN  7.039121  43.539310  \n",
       "162   NaN  7.015233  43.552231  \n",
       "163   NaN  7.014462  43.552090  \n",
       "181   NaN  7.018417  43.561069  \n",
       "196   NaN  6.995867  43.572479  \n",
       "215   NaN  7.020981  43.562794  \n",
       "217   NaN  7.022246  43.555447  \n",
       "222   NaN  7.017270  43.553673  \n",
       "232   NaN  6.963249  43.556019  \n",
       "237   NaN  6.962904  43.556435  \n",
       "239   NaN  6.963056  43.557243  \n",
       "240   NaN  6.962517  43.557549  \n",
       "243   NaN  6.966133  43.569683  \n",
       "257   NaN  7.027657  43.558285  \n",
       "261   NaN  6.994655  43.599743  \n",
       "264   NaN  6.994705  43.599705  \n",
       "269   NaN  6.976097  43.549824  \n",
       "287   NaN  7.021639  43.550358  \n",
       "289   NaN  7.022745  43.550957  \n",
       "298   NaN  7.005229  43.557926  \n",
       "301   NaN  7.033349  43.550434  \n",
       "323   NaN  7.037526  43.545124  \n",
       "352   NaN  7.028320  43.600811  \n",
       "353   NaN  7.030532  43.600124  \n",
       "354   NaN  7.036952  43.597515  \n",
       "355   NaN  7.039464  43.605034  \n",
       "356   NaN  7.040502  43.606010  \n",
       "357   NaN  7.037846  43.605686  \n",
       "376   NaN  7.023808  43.550831  "
      ],
      "text/html": "<div>\n<style scoped>\n    .dataframe tbody tr th:only-of-type {\n        vertical-align: middle;\n    }\n\n    .dataframe tbody tr th {\n        vertical-align: top;\n    }\n\n    .dataframe thead th {\n        text-align: right;\n    }\n</style>\n<table border=\"1\" class=\"dataframe\">\n  <thead>\n    <tr style=\"text-align: right;\">\n      <th></th>\n      <th>objectid</th>\n      <th>id</th>\n      <th>type</th>\n      <th>volume</th>\n      <th>quantite</th>\n      <th>marque</th>\n      <th>date_instal</th>\n      <th>adresse</th>\n      <th>adresse_comp</th>\n      <th>code_insee</th>\n      <th>observations</th>\n      <th>creation</th>\n      <th>date_creation</th>\n      <th>modification</th>\n      <th>date_modification</th>\n      <th>globalid</th>\n      <th>etat</th>\n      <th>_x</th>\n      <th>_y</th>\n    </tr>\n  </thead>\n  <tbody>\n    <tr>\n      <th>20</th>\n      <td>2412</td>\n      <td>660009218,6601801328,c110</td>\n      <td>Bac aérien avec cache bac</td>\n      <td>660 L</td>\n      <td>3</td>\n      <td></td>\n      <td>NaN</td>\n      <td>16 avenue du trayas</td>\n      <td>NaN</td>\n      <td>6138.0</td>\n      <td>NaN</td>\n      <td>chpayet</td>\n      <td>20191206094139</td>\n      <td>chpayet</td>\n      <td>20191206094139</td>\n      <td>{85FCBB7E-829C-4A12-8C9F-26864FFA595C}</td>\n      <td>NaN</td>\n      <td>6.929891</td>\n      <td>43.484089</td>\n    </tr>\n    <tr>\n      <th>24</th>\n      <td>2415</td>\n      <td>NaN</td>\n      <td>Bac aérien avec cache bac</td>\n      <td>&lt; 240 L</td>\n      <td>1</td>\n      <td></td>\n      <td>NaN</td>\n      <td>16 avenue du trayas</td>\n      <td>NaN</td>\n      <td>6138.0</td>\n      <td>NaN</td>\n      <td>chpayet</td>\n      <td>20191206094909</td>\n      <td>chpayet</td>\n      <td>20191206094909</td>\n      <td>{26C0D5E8-5A31-4B7E-B802-F1CDFBCF5270}</td>\n      <td>NaN</td>\n      <td>6.929922</td>\n      <td>43.484051</td>\n    </tr>\n    <tr>\n      <th>53</th>\n      <td>2822</td>\n      <td>NaN</td>\n      <td>Bac aérien sans cache bac</td>\n      <td>750 L</td>\n      <td>1</td>\n      <td></td>\n      <td>NaN</td>\n      <td>37 avenue saint Hubert</td>\n      <td>NaN</td>\n      <td>6138.0</td>\n      <td>NaN</td>\n      <td>chpayet</td>\n      <td>20191211095910</td>\n      <td>chpayet</td>\n      <td>20191211095910</td>\n      <td>{10C27FF7-E7E5-4F12-88DC-56A85F5796CF}</td>\n      <td>NaN</td>\n      <td>6.943240</td>\n      <td>43.503384</td>\n    </tr>\n    <tr>\n      <th>103</th>\n      <td>5617</td>\n      <td>NaN</td>\n      <td>Bac aérien avec cache bac</td>\n      <td>750 L</td>\n      <td>3</td>\n      <td></td>\n      <td>NaN</td>\n      <td>1 rue Marcel berthelot</td>\n      <td>Sur le parking</td>\n      <td>6029.0</td>\n      <td>NaN</td>\n      <td>chpayet</td>\n      <td>20200205090258</td>\n      <td>chpayet</td>\n      <td>20200205090258</td>\n      <td>{193D1690-9CC5-4FD4-A0B1-005525BD8B54}</td>\n      <td>NaN</td>\n      <td>7.022876</td>\n      <td>43.556847</td>\n    </tr>\n    <tr>\n      <th>113</th>\n      <td>5622</td>\n      <td>NaN</td>\n      <td>Bac aérien avec cache bac</td>\n      <td>660 L</td>\n      <td>2</td>\n      <td></td>\n      <td>NaN</td>\n      <td>1 boulevard de lorraine</td>\n      <td>NaN</td>\n      <td>6029.0</td>\n      <td>NaN</td>\n      <td>chpayet</td>\n      <td>20200205094631</td>\n      <td>chpayet</td>\n      <td>20200205094631</td>\n      <td>{7A4C34AE-540E-4B41-B3BD-56D96BDB4A4D}</td>\n      <td>NaN</td>\n      <td>7.025346</td>\n      <td>43.553810</td>\n    </tr>\n    <tr>\n      <th>130</th>\n      <td>18449</td>\n      <td>NaN</td>\n      <td>Bac aérien sans cache bac</td>\n      <td>660 L</td>\n      <td>1</td>\n      <td></td>\n      <td>NaN</td>\n      <td>60 boulevard Paul doumer</td>\n      <td>NaN</td>\n      <td>6030.0</td>\n      <td>NaN</td>\n      <td>chpayet</td>\n      <td>20200901090811</td>\n      <td>chpayet</td>\n      <td>20200901090811</td>\n      <td>{615ED45F-7E3D-49F3-879A-8BCD30DCCF94}</td>\n      <td>NaN</td>\n      <td>7.009606</td>\n      <td>43.570232</td>\n    </tr>\n    <tr>\n      <th>133</th>\n      <td>6038</td>\n      <td>NaN</td>\n      <td>PAV cuve enterrée</td>\n      <td>5 m3</td>\n      <td>1</td>\n      <td></td>\n      <td>NaN</td>\n      <td>Square Frédéric mistral</td>\n      <td>NaN</td>\n      <td>6029.0</td>\n      <td>NaN</td>\n      <td>chpayet</td>\n      <td>20200210094150</td>\n      <td>chpayet</td>\n      <td>20200210094150</td>\n      <td>{E755A6D9-6C1B-441B-BD49-E6E31C782E7E}</td>\n      <td>NaN</td>\n      <td>7.007435</td>\n      <td>43.548866</td>\n    </tr>\n    <tr>\n      <th>134</th>\n      <td>6039</td>\n      <td>NaN</td>\n      <td>PAV cuve enterrée</td>\n      <td>4 m3</td>\n      <td>1</td>\n      <td></td>\n      <td>NaN</td>\n      <td>Square Frédéric mistral</td>\n      <td>NaN</td>\n      <td>6029.0</td>\n      <td>Accès avec clef</td>\n      <td>chpayet</td>\n      <td>20200210094932</td>\n      <td>chpayet</td>\n      <td>20200210094932</td>\n      <td>{CFB0FE37-3521-40FC-B55B-1C5F4BF9ADBC}</td>\n      <td>NaN</td>\n      <td>7.006215</td>\n      <td>43.548965</td>\n    </tr>\n    <tr>\n      <th>136</th>\n      <td>4017</td>\n      <td>NaN</td>\n      <td>Bac aérien sans cache bac</td>\n      <td>750 L</td>\n      <td>2</td>\n      <td></td>\n      <td>NaN</td>\n      <td>Avenue Robert Schuman</td>\n      <td>NaN</td>\n      <td>6079.0</td>\n      <td>NaN</td>\n      <td>chpayet</td>\n      <td>20200109143702</td>\n      <td>chpayet</td>\n      <td>20200109143725</td>\n      <td>{0C31F0A3-54AA-46F5-9B7D-6AD3A6839AEC}</td>\n      <td>NaN</td>\n      <td>6.917846</td>\n      <td>43.538963</td>\n    </tr>\n    <tr>\n      <th>139</th>\n      <td>6043</td>\n      <td>NaN</td>\n      <td>Bac aérien sans cache bac</td>\n      <td>660 L</td>\n      <td>2</td>\n      <td></td>\n      <td>NaN</td>\n      <td>Impasse mouraillle</td>\n      <td>NaN</td>\n      <td>6029.0</td>\n      <td>NaN</td>\n      <td>chpayet</td>\n      <td>20200210102055</td>\n      <td>chpayet</td>\n      <td>20200210102055</td>\n      <td>{6F1313A5-B78E-44DB-AD9F-2431DB6E7A4F}</td>\n      <td>NaN</td>\n      <td>7.008286</td>\n      <td>43.556664</td>\n    </tr>\n    <tr>\n      <th>156</th>\n      <td>6050</td>\n      <td>NaN</td>\n      <td>Bac aérien sans cache bac</td>\n      <td>660 L</td>\n      <td>2</td>\n      <td></td>\n      <td>NaN</td>\n      <td>27 avenue saint jean</td>\n      <td>NaN</td>\n      <td>6029.0</td>\n      <td>NaN</td>\n      <td>chpayet</td>\n      <td>20200210105409</td>\n      <td>chpayet</td>\n      <td>20200210105409</td>\n      <td>{5EBD54EA-8264-4DF8-B3AA-99B9C059C6C0}</td>\n      <td>NaN</td>\n      <td>7.014330</td>\n      <td>43.557491</td>\n    </tr>\n    <tr>\n      <th>157</th>\n      <td>6051</td>\n      <td>NaN</td>\n      <td>PAV enterré ascenseur</td>\n      <td>3 m3</td>\n      <td>1</td>\n      <td></td>\n      <td>NaN</td>\n      <td>Avenue reine Astrid</td>\n      <td>NaN</td>\n      <td>6029.0</td>\n      <td>NaN</td>\n      <td>chpayet</td>\n      <td>20200210135045</td>\n      <td>chpayet</td>\n      <td>20200210135045</td>\n      <td>{694FFA17-0C34-478C-9F36-B37989A196DE}</td>\n      <td>NaN</td>\n      <td>7.039121</td>\n      <td>43.539310</td>\n    </tr>\n    <tr>\n      <th>162</th>\n      <td>4414</td>\n      <td>NaN</td>\n      <td>PAV cuve compactrice</td>\n      <td>5 m3</td>\n      <td>1</td>\n      <td></td>\n      <td>NaN</td>\n      <td>Rue Félix Faure</td>\n      <td>NaN</td>\n      <td>6029.0</td>\n      <td>NaN</td>\n      <td>chpayet</td>\n      <td>20200128085212</td>\n      <td>chpayet</td>\n      <td>20200128085212</td>\n      <td>{67E342DC-C2DB-460F-856A-C8DD7E956F1C}</td>\n      <td>NaN</td>\n      <td>7.015233</td>\n      <td>43.552231</td>\n    </tr>\n    <tr>\n      <th>163</th>\n      <td>4415</td>\n      <td>NaN</td>\n      <td>PAV cuve compactrice</td>\n      <td>5 m3</td>\n      <td>1</td>\n      <td></td>\n      <td>NaN</td>\n      <td>Rue Félix Faure</td>\n      <td>NaN</td>\n      <td>6029.0</td>\n      <td>NaN</td>\n      <td>chpayet</td>\n      <td>20200128085712</td>\n      <td>chpayet</td>\n      <td>20200128085712</td>\n      <td>{2688A994-BD65-49D8-BB0F-83F250E6D53B}</td>\n      <td>NaN</td>\n      <td>7.014462</td>\n      <td>43.552090</td>\n    </tr>\n    <tr>\n      <th>181</th>\n      <td>6821</td>\n      <td>NaN</td>\n      <td>Bac aérien avec cache bac</td>\n      <td>660 L</td>\n      <td>2</td>\n      <td></td>\n      <td>NaN</td>\n      <td>1 rue reyer</td>\n      <td>NaN</td>\n      <td>6029.0</td>\n      <td>NaN</td>\n      <td>chpayet</td>\n      <td>20200212081326</td>\n      <td>chpayet</td>\n      <td>20200212081326</td>\n      <td>{469720A0-8C75-4E95-9E9B-1B46B6C0B23E}</td>\n      <td>NaN</td>\n      <td>7.018417</td>\n      <td>43.561069</td>\n    </tr>\n    <tr>\n      <th>196</th>\n      <td>7234</td>\n      <td>NaN</td>\n      <td>Bac aérien sans cache bac</td>\n      <td>660 L</td>\n      <td>1</td>\n      <td></td>\n      <td>NaN</td>\n      <td>31 boulevard Jacques monod</td>\n      <td>NaN</td>\n      <td>6030.0</td>\n      <td>NaN</td>\n      <td>chpayet</td>\n      <td>20200213100752</td>\n      <td>chpayet</td>\n      <td>20200213100752</td>\n      <td>{A1C71622-8F9A-41E5-B074-49303B0DDAD4}</td>\n      <td>NaN</td>\n      <td>6.995867</td>\n      <td>43.572479</td>\n    </tr>\n    <tr>\n      <th>215</th>\n      <td>7223</td>\n      <td>NaN</td>\n      <td>PAV cuve enterrée</td>\n      <td>3 m3</td>\n      <td>1</td>\n      <td></td>\n      <td>NaN</td>\n      <td>177 avenue de la république</td>\n      <td>NaN</td>\n      <td>6029.0</td>\n      <td>NaN</td>\n      <td>chpayet</td>\n      <td>20200213084245</td>\n      <td>chpayet</td>\n      <td>20200213084245</td>\n      <td>{0DF0E333-6240-4206-A8CF-9D6C66A7C79C}</td>\n      <td>NaN</td>\n      <td>7.020981</td>\n      <td>43.562794</td>\n    </tr>\n    <tr>\n      <th>217</th>\n      <td>6829</td>\n      <td>NaN</td>\n      <td>PAV cuve enterrée</td>\n      <td>3 m3</td>\n      <td>1</td>\n      <td></td>\n      <td>NaN</td>\n      <td>31 rue de mimont</td>\n      <td>NaN</td>\n      <td>6029.0</td>\n      <td>NaN</td>\n      <td>chpayet</td>\n      <td>20200212085403</td>\n      <td>chpayet</td>\n      <td>20200212085403</td>\n      <td>{16AD2DEB-70F2-42BA-BCD5-1B3E26AF78B8}</td>\n      <td>NaN</td>\n      <td>7.022246</td>\n      <td>43.555447</td>\n    </tr>\n    <tr>\n      <th>222</th>\n      <td>6832</td>\n      <td>NaN</td>\n      <td>PAV enterré ascenseur</td>\n      <td>4 m3</td>\n      <td>2</td>\n      <td></td>\n      <td>NaN</td>\n      <td>Rue venizelos</td>\n      <td>NaN</td>\n      <td>6029.0</td>\n      <td>NaN</td>\n      <td>chpayet</td>\n      <td>20200212090542</td>\n      <td>chpayet</td>\n      <td>20200212090542</td>\n      <td>{8DC0A09C-0EBD-42E2-BB31-CB86BC1FD0DA}</td>\n      <td>NaN</td>\n      <td>7.017270</td>\n      <td>43.553673</td>\n    </tr>\n    <tr>\n      <th>232</th>\n      <td>8421</td>\n      <td>NaN</td>\n      <td>PAV cuve enterrée</td>\n      <td></td>\n      <td>2</td>\n      <td></td>\n      <td>NaN</td>\n      <td>Rue Amador lopez</td>\n      <td>NaN</td>\n      <td>6029.0</td>\n      <td>NaN</td>\n      <td>chpayet</td>\n      <td>20200417075039</td>\n      <td>chpayet</td>\n      <td>20200417075039</td>\n      <td>{98218ED9-38E5-4525-89A3-77BCBB533F9C}</td>\n      <td>NaN</td>\n      <td>6.963249</td>\n      <td>43.556019</td>\n    </tr>\n    <tr>\n      <th>237</th>\n      <td>8422</td>\n      <td>NaN</td>\n      <td>PAV cuve enterrée</td>\n      <td>3 m3</td>\n      <td>3</td>\n      <td></td>\n      <td>NaN</td>\n      <td>Chemin du caroubiers</td>\n      <td>NaN</td>\n      <td>6029.0</td>\n      <td>NaN</td>\n      <td>chpayet</td>\n      <td>20200417075614</td>\n      <td>chpayet</td>\n      <td>20200417075614</td>\n      <td>{991EC0F0-72E9-46F4-984B-72BE983FDE6D}</td>\n      <td>NaN</td>\n      <td>6.962904</td>\n      <td>43.556435</td>\n    </tr>\n    <tr>\n      <th>239</th>\n      <td>8423</td>\n      <td>NaN</td>\n      <td>PAV cuve enterrée</td>\n      <td>3 m3</td>\n      <td>2</td>\n      <td></td>\n      <td>NaN</td>\n      <td>Chemin des rainettes</td>\n      <td>NaN</td>\n      <td>6029.0</td>\n      <td>NaN</td>\n      <td>chpayet</td>\n      <td>20200417075947</td>\n      <td>chpayet</td>\n      <td>20200417075947</td>\n      <td>{3D2B93EC-E218-41EA-8E4B-DF0C83073DC8}</td>\n      <td>NaN</td>\n      <td>6.963056</td>\n      <td>43.557243</td>\n    </tr>\n    <tr>\n      <th>240</th>\n      <td>8424</td>\n      <td>NaN</td>\n      <td>PAV cuve enterrée</td>\n      <td>3 m3</td>\n      <td>2</td>\n      <td></td>\n      <td>NaN</td>\n      <td>Chemin du caroubier</td>\n      <td>NaN</td>\n      <td>6029.0</td>\n      <td>NaN</td>\n      <td>chpayet</td>\n      <td>20200417080412</td>\n      <td>chpayet</td>\n      <td>20200417080412</td>\n      <td>{983FA0B1-E02C-4676-8699-6DBC9E071494}</td>\n      <td>NaN</td>\n      <td>6.962517</td>\n      <td>43.557549</td>\n    </tr>\n    <tr>\n      <th>243</th>\n      <td>8426</td>\n      <td>NaN</td>\n      <td>PAV cuve enterrée</td>\n      <td>3 m3</td>\n      <td>2</td>\n      <td></td>\n      <td>NaN</td>\n      <td>Rue Alfred de musset</td>\n      <td>NaN</td>\n      <td>6029.0</td>\n      <td>NaN</td>\n      <td>chpayet</td>\n      <td>20200417084212</td>\n      <td>chpayet</td>\n      <td>20200417084212</td>\n      <td>{B3130B27-8EF0-41FF-937D-6F7350A6DD4D}</td>\n      <td>NaN</td>\n      <td>6.966133</td>\n      <td>43.569683</td>\n    </tr>\n    <tr>\n      <th>257</th>\n      <td>8821</td>\n      <td>NaN</td>\n      <td>Bac aérien sans cache bac</td>\n      <td>340 L</td>\n      <td>1</td>\n      <td></td>\n      <td>NaN</td>\n      <td>Rue Léandre sardou</td>\n      <td>NaN</td>\n      <td>6029.0</td>\n      <td>NaN</td>\n      <td>chpayet</td>\n      <td>20200429074949</td>\n      <td>chpayet</td>\n      <td>20200429074949</td>\n      <td>{28CB293D-5B2D-40BE-B723-E244539177CC}</td>\n      <td>NaN</td>\n      <td>7.027657</td>\n      <td>43.558285</td>\n    </tr>\n    <tr>\n      <th>261</th>\n      <td>8822</td>\n      <td>NaN</td>\n      <td>PAV cuve enterrée</td>\n      <td>3 m3</td>\n      <td>5</td>\n      <td></td>\n      <td>NaN</td>\n      <td>Chemin de l horizon</td>\n      <td>NaN</td>\n      <td>6085.0</td>\n      <td>NaN</td>\n      <td>chpayet</td>\n      <td>20200429102407</td>\n      <td>chpayet</td>\n      <td>20200429102407</td>\n      <td>{7D4624AF-1EC9-4F7D-8592-FA2E3CCC6B2F}</td>\n      <td>NaN</td>\n      <td>6.994655</td>\n      <td>43.599743</td>\n    </tr>\n    <tr>\n      <th>264</th>\n      <td>8823</td>\n      <td>NaN</td>\n      <td>Bac aérien avec cache bac</td>\n      <td>660 L</td>\n      <td>3</td>\n      <td></td>\n      <td>NaN</td>\n      <td>Chemin de l horizon</td>\n      <td>NaN</td>\n      <td>6085.0</td>\n      <td>NaN</td>\n      <td>chpayet</td>\n      <td>20200429102651</td>\n      <td>chpayet</td>\n      <td>20200429102651</td>\n      <td>{8C2275EA-5D13-4A12-9D71-4DAB769EAB74}</td>\n      <td>NaN</td>\n      <td>6.994705</td>\n      <td>43.599705</td>\n    </tr>\n    <tr>\n      <th>269</th>\n      <td>7629</td>\n      <td>NaN</td>\n      <td>PAV cuve enterrée</td>\n      <td>3 m3</td>\n      <td>1</td>\n      <td></td>\n      <td>NaN</td>\n      <td>Boulevard louis negrin</td>\n      <td>NaN</td>\n      <td>6029.0</td>\n      <td>NaN</td>\n      <td>chpayet</td>\n      <td>20200218144745</td>\n      <td>chpayet</td>\n      <td>20200218144745</td>\n      <td>{25B805A1-D4BB-4DBE-B161-78B6EC250C6D}</td>\n      <td>NaN</td>\n      <td>6.976097</td>\n      <td>43.549824</td>\n    </tr>\n    <tr>\n      <th>287</th>\n      <td>12043</td>\n      <td>NaN</td>\n      <td>PAV cuve enterrée</td>\n      <td>3 m3</td>\n      <td>1</td>\n      <td></td>\n      <td>NaN</td>\n      <td>Boulevard de la croisette</td>\n      <td>NaN</td>\n      <td>6029.0</td>\n      <td>NaN</td>\n      <td>chpayet</td>\n      <td>20200623092157</td>\n      <td>chpayet</td>\n      <td>20200623092157</td>\n      <td>{E74F2DDE-C75E-491C-A01B-F11F683300DF}</td>\n      <td>NaN</td>\n      <td>7.021639</td>\n      <td>43.550358</td>\n    </tr>\n    <tr>\n      <th>289</th>\n      <td>12044</td>\n      <td>NaN</td>\n      <td>PAV cuve enterrée</td>\n      <td>3 m3</td>\n      <td>3</td>\n      <td></td>\n      <td>NaN</td>\n      <td>Rue docteur gerard</td>\n      <td>NaN</td>\n      <td>6029.0</td>\n      <td>NaN</td>\n      <td>chpayet</td>\n      <td>20200623093052</td>\n      <td>chpayet</td>\n      <td>20200623093052</td>\n      <td>{9EAA56DD-4F33-4272-92E5-A4641EDB7D12}</td>\n      <td>NaN</td>\n      <td>7.022745</td>\n      <td>43.550957</td>\n    </tr>\n    <tr>\n      <th>298</th>\n      <td>6044</td>\n      <td>NaN</td>\n      <td>Bac aérien sans cache bac</td>\n      <td>660 L</td>\n      <td>4</td>\n      <td></td>\n      <td>NaN</td>\n      <td>Impasse des cassiflores</td>\n      <td>NaN</td>\n      <td>6029.0</td>\n      <td>NaN</td>\n      <td>chpayet</td>\n      <td>20200210102536</td>\n      <td>chpayet</td>\n      <td>20200731072858</td>\n      <td>{8C341835-BF01-4496-BCBC-B2B4E459895C}</td>\n      <td>NaN</td>\n      <td>7.005229</td>\n      <td>43.557926</td>\n    </tr>\n    <tr>\n      <th>301</th>\n      <td>10045</td>\n      <td>NaN</td>\n      <td>PAV cuve enterrée</td>\n      <td>3 m3</td>\n      <td>1</td>\n      <td></td>\n      <td>NaN</td>\n      <td>26 avenue maréchal juin</td>\n      <td>NaN</td>\n      <td>6029.0</td>\n      <td>NaN</td>\n      <td>chpayet</td>\n      <td>20200512125614</td>\n      <td>chpayet</td>\n      <td>20200512125614</td>\n      <td>{9005E421-1392-42BB-AD8A-026C2CF6D2FF}</td>\n      <td>NaN</td>\n      <td>7.033349</td>\n      <td>43.550434</td>\n    </tr>\n    <tr>\n      <th>323</th>\n      <td>12451</td>\n      <td>NaN</td>\n      <td>PAV enterré ascenseur</td>\n      <td>3 m3</td>\n      <td>1</td>\n      <td></td>\n      <td>NaN</td>\n      <td>Boulevard chanoine Francis coeuret</td>\n      <td>NaN</td>\n      <td>6029.0</td>\n      <td>NaN</td>\n      <td>chpayet</td>\n      <td>20200630115908</td>\n      <td>chpayet</td>\n      <td>20200630115908</td>\n      <td>{342DDAC9-123A-4772-BB15-B30BF1342ECA}</td>\n      <td>NaN</td>\n      <td>7.037526</td>\n      <td>43.545124</td>\n    </tr>\n    <tr>\n      <th>352</th>\n      <td>14449</td>\n      <td>NaN</td>\n      <td>PAV cuve semi-enterrée</td>\n      <td>4 m3</td>\n      <td>1</td>\n      <td></td>\n      <td>NaN</td>\n      <td>Route d antibes</td>\n      <td>NaN</td>\n      <td>6085.0</td>\n      <td>NaN</td>\n      <td>chpayet</td>\n      <td>20200727131955</td>\n      <td>chpayet</td>\n      <td>20200727131955</td>\n      <td>{64C665C3-841F-4F66-AD3D-AE3844C8BA40}</td>\n      <td>NaN</td>\n      <td>7.028320</td>\n      <td>43.600811</td>\n    </tr>\n    <tr>\n      <th>353</th>\n      <td>14450</td>\n      <td>NaN</td>\n      <td>PAV cuve semi-enterrée</td>\n      <td>4 m3</td>\n      <td>1</td>\n      <td></td>\n      <td>NaN</td>\n      <td>Route d antibes</td>\n      <td>NaN</td>\n      <td>6085.0</td>\n      <td>NaN</td>\n      <td>chpayet</td>\n      <td>20200727132208</td>\n      <td>chpayet</td>\n      <td>20200727132411</td>\n      <td>{9AEC8D28-C965-4A6C-9533-AAE419228AEF}</td>\n      <td>NaN</td>\n      <td>7.030532</td>\n      <td>43.600124</td>\n    </tr>\n    <tr>\n      <th>354</th>\n      <td>14451</td>\n      <td>NaN</td>\n      <td>PAV cuve semi-enterrée</td>\n      <td>4 m3</td>\n      <td>1</td>\n      <td></td>\n      <td>NaN</td>\n      <td>Route de vallauris</td>\n      <td>NaN</td>\n      <td>6085.0</td>\n      <td>NaN</td>\n      <td>chpayet</td>\n      <td>20200727133549</td>\n      <td>chpayet</td>\n      <td>20200727133549</td>\n      <td>{548377E2-F5D1-43CF-9E3D-8F2F586A445F}</td>\n      <td>NaN</td>\n      <td>7.036952</td>\n      <td>43.597515</td>\n    </tr>\n    <tr>\n      <th>355</th>\n      <td>14452</td>\n      <td>NaN</td>\n      <td>PAV cuve semi-enterrée</td>\n      <td>3 m3</td>\n      <td>1</td>\n      <td></td>\n      <td>NaN</td>\n      <td>Route de la valmasque</td>\n      <td>NaN</td>\n      <td>6085.0</td>\n      <td>NaN</td>\n      <td>chpayet</td>\n      <td>20200727134101</td>\n      <td>chpayet</td>\n      <td>20200727134101</td>\n      <td>{A3F2CDC5-7CE7-44F5-8756-AC980E6ED951}</td>\n      <td>NaN</td>\n      <td>7.039464</td>\n      <td>43.605034</td>\n    </tr>\n    <tr>\n      <th>356</th>\n      <td>14453</td>\n      <td>NaN</td>\n      <td>PAV cuve semi-enterrée</td>\n      <td>4 m3</td>\n      <td>1</td>\n      <td></td>\n      <td>NaN</td>\n      <td>Route de la valmasque</td>\n      <td>NaN</td>\n      <td>6085.0</td>\n      <td>NaN</td>\n      <td>chpayet</td>\n      <td>20200727134201</td>\n      <td>chpayet</td>\n      <td>20200727134201</td>\n      <td>{C79F988F-4FBE-4669-A355-20EB8DD82BF2}</td>\n      <td>NaN</td>\n      <td>7.040502</td>\n      <td>43.606010</td>\n    </tr>\n    <tr>\n      <th>357</th>\n      <td>14454</td>\n      <td>NaN</td>\n      <td>PAV cuve semi-enterrée</td>\n      <td>4 m3</td>\n      <td>1</td>\n      <td></td>\n      <td>NaN</td>\n      <td>Route de la valmasque</td>\n      <td>NaN</td>\n      <td>6085.0</td>\n      <td>NaN</td>\n      <td>chpayet</td>\n      <td>20200727134430</td>\n      <td>chpayet</td>\n      <td>20200727134430</td>\n      <td>{9603FD9A-54AC-43E6-A79B-20D9D1EC8163}</td>\n      <td>NaN</td>\n      <td>7.037846</td>\n      <td>43.605686</td>\n    </tr>\n    <tr>\n      <th>376</th>\n      <td>17655</td>\n      <td>NaN</td>\n      <td>PAV cuve enterrée</td>\n      <td>4 m3</td>\n      <td>2</td>\n      <td></td>\n      <td>NaN</td>\n      <td>13 rue Victor cousin</td>\n      <td>NaN</td>\n      <td>6029.0</td>\n      <td>NaN</td>\n      <td>chpayet</td>\n      <td>20200826113124</td>\n      <td>chpayet</td>\n      <td>20200826113124</td>\n      <td>{1C54CE8A-8029-4CFB-9993-57559A84E825}</td>\n      <td>NaN</td>\n      <td>7.023808</td>\n      <td>43.550831</td>\n    </tr>\n  </tbody>\n</table>\n</div>"
     },
     "metadata": {},
     "execution_count": 22
    }
   ],
   "source": [
    "dataOM[dataOM.marque == \" \"]"
   ]
  },
  {
   "cell_type": "markdown",
   "metadata": {},
   "source": [
    "Plusieurs collecteurs partagent la même adresse"
   ]
  },
  {
   "cell_type": "code",
   "execution_count": 23,
   "metadata": {
    "scrolled": true
   },
   "outputs": [
    {
     "output_type": "execute_result",
     "data": {
      "text/plain": [
       "Port canto                        6\n",
       "Avenue van loo                    6\n",
       "Avenue corniche d or              4\n",
       "Avenue montier                    4\n",
       "Boulevard de l esquillon          3\n",
       "                                 ..\n",
       "12 rue Guy de maupassant          1\n",
       "25 rue de cannes                  1\n",
       "Chemin de la bastiere             1\n",
       "71 boulevard de la république     1\n",
       "Allée des pins                    1\n",
       "Name: adresse, Length: 317, dtype: int64"
      ]
     },
     "metadata": {},
     "execution_count": 23
    }
   ],
   "source": [
    "dataOM.adresse.value_counts()"
   ]
  },
  {
   "cell_type": "markdown",
   "metadata": {},
   "source": [
    "Ces collecteurs sont nombreux à Cannes ainsi qu'à Théoule-sur-Mer"
   ]
  },
  {
   "cell_type": "code",
   "execution_count": 24,
   "metadata": {},
   "outputs": [
    {
     "output_type": "execute_result",
     "data": {
      "text/plain": [
       "6029.0    206\n",
       "6138.0     90\n",
       "6030.0     56\n",
       "6079.0     24\n",
       "6085.0      9\n",
       "Name: code_insee, dtype: int64"
      ]
     },
     "metadata": {},
     "execution_count": 24
    }
   ],
   "source": [
    "dataOM.code_insee.value_counts()"
   ]
  },
  {
   "cell_type": "markdown",
   "metadata": {},
   "source": [
    "2 commentaires sont indiqués"
   ]
  },
  {
   "cell_type": "code",
   "execution_count": 25,
   "metadata": {
    "scrolled": true
   },
   "outputs": [
    {
     "output_type": "execute_result",
     "data": {
      "text/plain": [
       "     objectid   id                   type volume  quantite    marque  \\\n",
       "134      6039  NaN      PAV cuve enterrée   4 m3         1             \n",
       "171      4413  NaN  PAV enterré ascenseur   4 m3         4  Ecollect   \n",
       "\n",
       "     date_instal                   adresse adresse_comp  code_insee  \\\n",
       "134          NaN  Square Frédéric mistral           NaN      6029.0   \n",
       "171          NaN                 Rue hoche          NaN      6029.0   \n",
       "\n",
       "                                          observations creation  \\\n",
       "134                                   Accès avec clef   chpayet   \n",
       "171  Borne à télécommande 3 trappes au sol et une b...  chpayet   \n",
       "\n",
       "      date_creation modification  date_modification  \\\n",
       "134  20200210094932      chpayet     20200210094932   \n",
       "171  20200128084141      chpayet     20200128091819   \n",
       "\n",
       "                                   globalid  etat        _x         _y  \n",
       "134  {CFB0FE37-3521-40FC-B55B-1C5F4BF9ADBC}   NaN  7.006215  43.548965  \n",
       "171  {60A84588-BCBB-49CA-9C15-A241DCAD2B5A}   NaN  7.018925  43.553131  "
      ],
      "text/html": "<div>\n<style scoped>\n    .dataframe tbody tr th:only-of-type {\n        vertical-align: middle;\n    }\n\n    .dataframe tbody tr th {\n        vertical-align: top;\n    }\n\n    .dataframe thead th {\n        text-align: right;\n    }\n</style>\n<table border=\"1\" class=\"dataframe\">\n  <thead>\n    <tr style=\"text-align: right;\">\n      <th></th>\n      <th>objectid</th>\n      <th>id</th>\n      <th>type</th>\n      <th>volume</th>\n      <th>quantite</th>\n      <th>marque</th>\n      <th>date_instal</th>\n      <th>adresse</th>\n      <th>adresse_comp</th>\n      <th>code_insee</th>\n      <th>observations</th>\n      <th>creation</th>\n      <th>date_creation</th>\n      <th>modification</th>\n      <th>date_modification</th>\n      <th>globalid</th>\n      <th>etat</th>\n      <th>_x</th>\n      <th>_y</th>\n    </tr>\n  </thead>\n  <tbody>\n    <tr>\n      <th>134</th>\n      <td>6039</td>\n      <td>NaN</td>\n      <td>PAV cuve enterrée</td>\n      <td>4 m3</td>\n      <td>1</td>\n      <td></td>\n      <td>NaN</td>\n      <td>Square Frédéric mistral</td>\n      <td>NaN</td>\n      <td>6029.0</td>\n      <td>Accès avec clef</td>\n      <td>chpayet</td>\n      <td>20200210094932</td>\n      <td>chpayet</td>\n      <td>20200210094932</td>\n      <td>{CFB0FE37-3521-40FC-B55B-1C5F4BF9ADBC}</td>\n      <td>NaN</td>\n      <td>7.006215</td>\n      <td>43.548965</td>\n    </tr>\n    <tr>\n      <th>171</th>\n      <td>4413</td>\n      <td>NaN</td>\n      <td>PAV enterré ascenseur</td>\n      <td>4 m3</td>\n      <td>4</td>\n      <td>Ecollect</td>\n      <td>NaN</td>\n      <td>Rue hoche</td>\n      <td>NaN</td>\n      <td>6029.0</td>\n      <td>Borne à télécommande 3 trappes au sol et une b...</td>\n      <td>chpayet</td>\n      <td>20200128084141</td>\n      <td>chpayet</td>\n      <td>20200128091819</td>\n      <td>{60A84588-BCBB-49CA-9C15-A241DCAD2B5A}</td>\n      <td>NaN</td>\n      <td>7.018925</td>\n      <td>43.553131</td>\n    </tr>\n  </tbody>\n</table>\n</div>"
     },
     "metadata": {},
     "execution_count": 25
    }
   ],
   "source": [
    "dataOM[dataOM.observations.notna()]"
   ]
  },
  {
   "cell_type": "markdown",
   "metadata": {},
   "source": [
    "## Jeu de données des des collecteurs de papier\n",
    "### Aperçu du fichier\n",
    "Il contient 20 variables que l'on pourra étudier :\n",
    "* objectid : Identifiant de la déchèterie\n",
    "* id :\n",
    "* type : type de collecteur\n",
    "* volume : volume du collecteur (en L ou en m<sup>3</sup>)\n",
    "* quantite : quantité de collecteurs\n",
    "* marque : marque du collecteur\n",
    "* date_instal : date d'installation du collecteur\n",
    "* adresse : adresse du collecteur\n",
    "* adresse_comp : complément de l'adresse du collecteur\n",
    "* code_insee : code INSEE de la ville (différent du code départemental)\n",
    "* observations : observations éventuelles\n",
    "* accessibilite :\n",
    "* creation : pseudo de la personne qui a enregistré le collecteur dans la BDD\n",
    "* date_creation : date et temps de l'enregistrement du collecteur dans la BDD\n",
    "* modification : peudo de la personne qui a modifié en dernier le collecteur dans la BDD\n",
    "* date_modification : date et temps de la dernière modification du collecteur dans la BDD\n",
    "* globalid : GUID (Globally Unique IDentifier)\n",
    "* etat : \n",
    "* _x : longitude du collecteur\n",
    "* _y : latitude du collecteur"
   ]
  },
  {
   "cell_type": "code",
   "execution_count": 26,
   "metadata": {
    "scrolled": true
   },
   "outputs": [
    {
     "output_type": "execute_result",
     "data": {
      "text/plain": [
       "   objectid  id type volume  quantite marque  date_instal  \\\n",
       "0      1601 NaN                     1                 NaN   \n",
       "1      1202 NaN                     1                 NaN   \n",
       "2       403 NaN                     1                 NaN   \n",
       "3      1602 NaN                     1                 NaN   \n",
       "4      1606 NaN                     1                 NaN   \n",
       "\n",
       "                    adresse       adresse_comp  code_insee observations  \\\n",
       "0     2 chemin des vallons                 NaN        6030          NaN   \n",
       "1   10 boulevard d olivetum                NaN        6030          NaN   \n",
       "2   Boulevard Jacques monod  Parking des fades        6030          NaN   \n",
       "3        Cimetiere du claus                NaN        6030          NaN   \n",
       "4  Avenue Georges Pompidou                 NaN        6030          NaN   \n",
       "\n",
       "   accessibilite creation   date_creation modification  date_modification  \\\n",
       "0            NaN  chpayet  20200417085022      chpayet     20200417085022   \n",
       "1            NaN  chpayet  20200310084750      chpayet     20200310084750   \n",
       "2            NaN  chpayet  20200213101117      chpayet     20200213101117   \n",
       "3            NaN  chpayet  20200417085630      chpayet     20200417085630   \n",
       "4            NaN  chpayet  20200417104710      chpayet     20200417104710   \n",
       "\n",
       "                                 globalid  etat        _x         _y  \n",
       "0  {46B94A69-E019-43D8-9E84-AAE5DA6284C2}   NaN  6.972623  43.568790  \n",
       "1  {2A62403F-3C88-40AA-9C22-FE89A984671F}   NaN  7.025239  43.570610  \n",
       "2  {A90515AF-4E89-4DB0-8F45-3B0604FBCFFD}   NaN  6.996956  43.574852  \n",
       "3  {7A3EE5C6-AA02-4B6E-99F3-2906EA5D56E6}   NaN  6.986457  43.574566  \n",
       "4  {C5ABBCFE-6778-4674-8888-5918E2BD6898}   NaN  6.981803  43.568787  "
      ],
      "text/html": "<div>\n<style scoped>\n    .dataframe tbody tr th:only-of-type {\n        vertical-align: middle;\n    }\n\n    .dataframe tbody tr th {\n        vertical-align: top;\n    }\n\n    .dataframe thead th {\n        text-align: right;\n    }\n</style>\n<table border=\"1\" class=\"dataframe\">\n  <thead>\n    <tr style=\"text-align: right;\">\n      <th></th>\n      <th>objectid</th>\n      <th>id</th>\n      <th>type</th>\n      <th>volume</th>\n      <th>quantite</th>\n      <th>marque</th>\n      <th>date_instal</th>\n      <th>adresse</th>\n      <th>adresse_comp</th>\n      <th>code_insee</th>\n      <th>observations</th>\n      <th>accessibilite</th>\n      <th>creation</th>\n      <th>date_creation</th>\n      <th>modification</th>\n      <th>date_modification</th>\n      <th>globalid</th>\n      <th>etat</th>\n      <th>_x</th>\n      <th>_y</th>\n    </tr>\n  </thead>\n  <tbody>\n    <tr>\n      <th>0</th>\n      <td>1601</td>\n      <td>NaN</td>\n      <td></td>\n      <td></td>\n      <td>1</td>\n      <td></td>\n      <td>NaN</td>\n      <td>2 chemin des vallons</td>\n      <td>NaN</td>\n      <td>6030</td>\n      <td>NaN</td>\n      <td>NaN</td>\n      <td>chpayet</td>\n      <td>20200417085022</td>\n      <td>chpayet</td>\n      <td>20200417085022</td>\n      <td>{46B94A69-E019-43D8-9E84-AAE5DA6284C2}</td>\n      <td>NaN</td>\n      <td>6.972623</td>\n      <td>43.568790</td>\n    </tr>\n    <tr>\n      <th>1</th>\n      <td>1202</td>\n      <td>NaN</td>\n      <td></td>\n      <td></td>\n      <td>1</td>\n      <td></td>\n      <td>NaN</td>\n      <td>10 boulevard d olivetum</td>\n      <td>NaN</td>\n      <td>6030</td>\n      <td>NaN</td>\n      <td>NaN</td>\n      <td>chpayet</td>\n      <td>20200310084750</td>\n      <td>chpayet</td>\n      <td>20200310084750</td>\n      <td>{2A62403F-3C88-40AA-9C22-FE89A984671F}</td>\n      <td>NaN</td>\n      <td>7.025239</td>\n      <td>43.570610</td>\n    </tr>\n    <tr>\n      <th>2</th>\n      <td>403</td>\n      <td>NaN</td>\n      <td></td>\n      <td></td>\n      <td>1</td>\n      <td></td>\n      <td>NaN</td>\n      <td>Boulevard Jacques monod</td>\n      <td>Parking des fades</td>\n      <td>6030</td>\n      <td>NaN</td>\n      <td>NaN</td>\n      <td>chpayet</td>\n      <td>20200213101117</td>\n      <td>chpayet</td>\n      <td>20200213101117</td>\n      <td>{A90515AF-4E89-4DB0-8F45-3B0604FBCFFD}</td>\n      <td>NaN</td>\n      <td>6.996956</td>\n      <td>43.574852</td>\n    </tr>\n    <tr>\n      <th>3</th>\n      <td>1602</td>\n      <td>NaN</td>\n      <td></td>\n      <td></td>\n      <td>1</td>\n      <td></td>\n      <td>NaN</td>\n      <td>Cimetiere du claus</td>\n      <td>NaN</td>\n      <td>6030</td>\n      <td>NaN</td>\n      <td>NaN</td>\n      <td>chpayet</td>\n      <td>20200417085630</td>\n      <td>chpayet</td>\n      <td>20200417085630</td>\n      <td>{7A3EE5C6-AA02-4B6E-99F3-2906EA5D56E6}</td>\n      <td>NaN</td>\n      <td>6.986457</td>\n      <td>43.574566</td>\n    </tr>\n    <tr>\n      <th>4</th>\n      <td>1606</td>\n      <td>NaN</td>\n      <td></td>\n      <td></td>\n      <td>1</td>\n      <td></td>\n      <td>NaN</td>\n      <td>Avenue Georges Pompidou</td>\n      <td>NaN</td>\n      <td>6030</td>\n      <td>NaN</td>\n      <td>NaN</td>\n      <td>chpayet</td>\n      <td>20200417104710</td>\n      <td>chpayet</td>\n      <td>20200417104710</td>\n      <td>{C5ABBCFE-6778-4674-8888-5918E2BD6898}</td>\n      <td>NaN</td>\n      <td>6.981803</td>\n      <td>43.568787</td>\n    </tr>\n  </tbody>\n</table>\n</div>"
     },
     "metadata": {},
     "execution_count": 26
    }
   ],
   "source": [
    "dataPapier.head()"
   ]
  },
  {
   "cell_type": "markdown",
   "metadata": {},
   "source": [
    "### Dimension du jeu de données"
   ]
  },
  {
   "cell_type": "code",
   "execution_count": 27,
   "metadata": {},
   "outputs": [
    {
     "output_type": "stream",
     "name": "stdout",
     "text": [
      "Le jeu de données recense 34 collecteurs avec 20 variables\n"
     ]
    }
   ],
   "source": [
    " print(\"Le jeu de données recense\", dataPapier.shape[0], \"collecteurs avec\", dataPapier.shape[1], \"variables\")"
   ]
  },
  {
   "cell_type": "markdown",
   "metadata": {},
   "source": [
    "### Valeurs manquantes\n",
    "Le jeu de données semble complet mais des manques sont précisés dans la partie Notes générales\n",
    "\n",
    "Aucun des collecteurs ne possède de valeur pour id, date_instal, accessibilite et etat\n",
    "\n",
    "La plupart des collecteurs n'a pas de complément d'adresse, ni d'observation (ce qui n'est pas gênant)"
   ]
  },
  {
   "cell_type": "code",
   "execution_count": 28,
   "metadata": {
    "scrolled": true
   },
   "outputs": [
    {
     "output_type": "execute_result",
     "data": {
      "text/plain": [
       "objectid              0\n",
       "id                   34\n",
       "type                  0\n",
       "volume                0\n",
       "quantite              0\n",
       "marque                0\n",
       "date_instal          34\n",
       "adresse               0\n",
       "adresse_comp         30\n",
       "code_insee            0\n",
       "observations         33\n",
       "accessibilite        34\n",
       "creation              0\n",
       "date_creation         0\n",
       "modification          0\n",
       "date_modification     0\n",
       "globalid              0\n",
       "etat                 34\n",
       "_x                    0\n",
       "_y                    0\n",
       "dtype: int64"
      ]
     },
     "metadata": {},
     "execution_count": 28
    }
   ],
   "source": [
    "dataPapier.isna().sum()"
   ]
  },
  {
   "cell_type": "markdown",
   "metadata": {},
   "source": [
    "### Décompte des doublons"
   ]
  },
  {
   "cell_type": "code",
   "execution_count": 29,
   "metadata": {},
   "outputs": [
    {
     "output_type": "execute_result",
     "data": {
      "text/plain": [
       "0"
      ]
     },
     "metadata": {},
     "execution_count": 29
    }
   ],
   "source": [
    "dataPapier.duplicated().sum()"
   ]
  },
  {
   "cell_type": "markdown",
   "metadata": {},
   "source": [
    "### Notes générales"
   ]
  },
  {
   "cell_type": "markdown",
   "metadata": {},
   "source": [
    "8 types de collecteur ne sont pas précisés (il est peut-être possible de les retrouver par comparaison des photographies)"
   ]
  },
  {
   "cell_type": "code",
   "execution_count": 30,
   "metadata": {
    "scrolled": true
   },
   "outputs": [
    {
     "output_type": "execute_result",
     "data": {
      "text/plain": [
       "PAV cuve enterrée    17\n",
       "Colonne aérienne      9\n",
       "                      8\n",
       "Name: type, dtype: int64"
      ]
     },
     "metadata": {},
     "execution_count": 30
    }
   ],
   "source": [
    "dataPapier.type.value_counts()"
   ]
  },
  {
   "cell_type": "code",
   "execution_count": 31,
   "metadata": {
    "scrolled": false
   },
   "outputs": [
    {
     "output_type": "execute_result",
     "data": {
      "text/plain": [
       "   objectid  id type volume  quantite marque  date_instal  \\\n",
       "0      1601 NaN                     1                 NaN   \n",
       "1      1202 NaN                     1                 NaN   \n",
       "2       403 NaN                     1                 NaN   \n",
       "3      1602 NaN                     1                 NaN   \n",
       "4      1606 NaN                     1                 NaN   \n",
       "5      1205 NaN                     1                 NaN   \n",
       "7      4002 NaN                     1                 NaN   \n",
       "8      4003 NaN                     1                 NaN   \n",
       "\n",
       "                    adresse       adresse_comp  code_insee observations  \\\n",
       "0     2 chemin des vallons                 NaN        6030          NaN   \n",
       "1   10 boulevard d olivetum                NaN        6030          NaN   \n",
       "2   Boulevard Jacques monod  Parking des fades        6030          NaN   \n",
       "3        Cimetiere du claus                NaN        6030          NaN   \n",
       "4  Avenue Georges Pompidou                 NaN        6030          NaN   \n",
       "5    7 chemin de l aubarede                NaN        6030          NaN   \n",
       "7         Rue Marcel pagnol                NaN        6030          NaN   \n",
       "8      Rue cite des jardins                NaN        6030          NaN   \n",
       "\n",
       "   accessibilite creation   date_creation modification  date_modification  \\\n",
       "0            NaN  chpayet  20200417085022      chpayet     20200417085022   \n",
       "1            NaN  chpayet  20200310084750      chpayet     20200310084750   \n",
       "2            NaN  chpayet  20200213101117      chpayet     20200213101117   \n",
       "3            NaN  chpayet  20200417085630      chpayet     20200417085630   \n",
       "4            NaN  chpayet  20200417104710      chpayet     20200417104710   \n",
       "5            NaN  chpayet  20200310100220      chpayet     20200310100220   \n",
       "7            NaN  chpayet  20200723083331      chpayet     20200723083331   \n",
       "8            NaN  chpayet  20200723084148      chpayet     20200723084148   \n",
       "\n",
       "                                 globalid  etat        _x         _y  \n",
       "0  {46B94A69-E019-43D8-9E84-AAE5DA6284C2}   NaN  6.972623  43.568790  \n",
       "1  {2A62403F-3C88-40AA-9C22-FE89A984671F}   NaN  7.025239  43.570610  \n",
       "2  {A90515AF-4E89-4DB0-8F45-3B0604FBCFFD}   NaN  6.996956  43.574852  \n",
       "3  {7A3EE5C6-AA02-4B6E-99F3-2906EA5D56E6}   NaN  6.986457  43.574566  \n",
       "4  {C5ABBCFE-6778-4674-8888-5918E2BD6898}   NaN  6.981803  43.568787  \n",
       "5  {0A6616FF-EE2F-4512-ADA2-023B7FF4255A}   NaN  6.984120  43.573116  \n",
       "7  {00153039-CB46-4664-A251-D2E3381B822E}   NaN  6.988643  43.573776  \n",
       "8  {42EEB3C0-EF20-4ADF-B995-15B97DBE0068}   NaN  6.998000  43.576679  "
      ],
      "text/html": "<div>\n<style scoped>\n    .dataframe tbody tr th:only-of-type {\n        vertical-align: middle;\n    }\n\n    .dataframe tbody tr th {\n        vertical-align: top;\n    }\n\n    .dataframe thead th {\n        text-align: right;\n    }\n</style>\n<table border=\"1\" class=\"dataframe\">\n  <thead>\n    <tr style=\"text-align: right;\">\n      <th></th>\n      <th>objectid</th>\n      <th>id</th>\n      <th>type</th>\n      <th>volume</th>\n      <th>quantite</th>\n      <th>marque</th>\n      <th>date_instal</th>\n      <th>adresse</th>\n      <th>adresse_comp</th>\n      <th>code_insee</th>\n      <th>observations</th>\n      <th>accessibilite</th>\n      <th>creation</th>\n      <th>date_creation</th>\n      <th>modification</th>\n      <th>date_modification</th>\n      <th>globalid</th>\n      <th>etat</th>\n      <th>_x</th>\n      <th>_y</th>\n    </tr>\n  </thead>\n  <tbody>\n    <tr>\n      <th>0</th>\n      <td>1601</td>\n      <td>NaN</td>\n      <td></td>\n      <td></td>\n      <td>1</td>\n      <td></td>\n      <td>NaN</td>\n      <td>2 chemin des vallons</td>\n      <td>NaN</td>\n      <td>6030</td>\n      <td>NaN</td>\n      <td>NaN</td>\n      <td>chpayet</td>\n      <td>20200417085022</td>\n      <td>chpayet</td>\n      <td>20200417085022</td>\n      <td>{46B94A69-E019-43D8-9E84-AAE5DA6284C2}</td>\n      <td>NaN</td>\n      <td>6.972623</td>\n      <td>43.568790</td>\n    </tr>\n    <tr>\n      <th>1</th>\n      <td>1202</td>\n      <td>NaN</td>\n      <td></td>\n      <td></td>\n      <td>1</td>\n      <td></td>\n      <td>NaN</td>\n      <td>10 boulevard d olivetum</td>\n      <td>NaN</td>\n      <td>6030</td>\n      <td>NaN</td>\n      <td>NaN</td>\n      <td>chpayet</td>\n      <td>20200310084750</td>\n      <td>chpayet</td>\n      <td>20200310084750</td>\n      <td>{2A62403F-3C88-40AA-9C22-FE89A984671F}</td>\n      <td>NaN</td>\n      <td>7.025239</td>\n      <td>43.570610</td>\n    </tr>\n    <tr>\n      <th>2</th>\n      <td>403</td>\n      <td>NaN</td>\n      <td></td>\n      <td></td>\n      <td>1</td>\n      <td></td>\n      <td>NaN</td>\n      <td>Boulevard Jacques monod</td>\n      <td>Parking des fades</td>\n      <td>6030</td>\n      <td>NaN</td>\n      <td>NaN</td>\n      <td>chpayet</td>\n      <td>20200213101117</td>\n      <td>chpayet</td>\n      <td>20200213101117</td>\n      <td>{A90515AF-4E89-4DB0-8F45-3B0604FBCFFD}</td>\n      <td>NaN</td>\n      <td>6.996956</td>\n      <td>43.574852</td>\n    </tr>\n    <tr>\n      <th>3</th>\n      <td>1602</td>\n      <td>NaN</td>\n      <td></td>\n      <td></td>\n      <td>1</td>\n      <td></td>\n      <td>NaN</td>\n      <td>Cimetiere du claus</td>\n      <td>NaN</td>\n      <td>6030</td>\n      <td>NaN</td>\n      <td>NaN</td>\n      <td>chpayet</td>\n      <td>20200417085630</td>\n      <td>chpayet</td>\n      <td>20200417085630</td>\n      <td>{7A3EE5C6-AA02-4B6E-99F3-2906EA5D56E6}</td>\n      <td>NaN</td>\n      <td>6.986457</td>\n      <td>43.574566</td>\n    </tr>\n    <tr>\n      <th>4</th>\n      <td>1606</td>\n      <td>NaN</td>\n      <td></td>\n      <td></td>\n      <td>1</td>\n      <td></td>\n      <td>NaN</td>\n      <td>Avenue Georges Pompidou</td>\n      <td>NaN</td>\n      <td>6030</td>\n      <td>NaN</td>\n      <td>NaN</td>\n      <td>chpayet</td>\n      <td>20200417104710</td>\n      <td>chpayet</td>\n      <td>20200417104710</td>\n      <td>{C5ABBCFE-6778-4674-8888-5918E2BD6898}</td>\n      <td>NaN</td>\n      <td>6.981803</td>\n      <td>43.568787</td>\n    </tr>\n    <tr>\n      <th>5</th>\n      <td>1205</td>\n      <td>NaN</td>\n      <td></td>\n      <td></td>\n      <td>1</td>\n      <td></td>\n      <td>NaN</td>\n      <td>7 chemin de l aubarede</td>\n      <td>NaN</td>\n      <td>6030</td>\n      <td>NaN</td>\n      <td>NaN</td>\n      <td>chpayet</td>\n      <td>20200310100220</td>\n      <td>chpayet</td>\n      <td>20200310100220</td>\n      <td>{0A6616FF-EE2F-4512-ADA2-023B7FF4255A}</td>\n      <td>NaN</td>\n      <td>6.984120</td>\n      <td>43.573116</td>\n    </tr>\n    <tr>\n      <th>7</th>\n      <td>4002</td>\n      <td>NaN</td>\n      <td></td>\n      <td></td>\n      <td>1</td>\n      <td></td>\n      <td>NaN</td>\n      <td>Rue Marcel pagnol</td>\n      <td>NaN</td>\n      <td>6030</td>\n      <td>NaN</td>\n      <td>NaN</td>\n      <td>chpayet</td>\n      <td>20200723083331</td>\n      <td>chpayet</td>\n      <td>20200723083331</td>\n      <td>{00153039-CB46-4664-A251-D2E3381B822E}</td>\n      <td>NaN</td>\n      <td>6.988643</td>\n      <td>43.573776</td>\n    </tr>\n    <tr>\n      <th>8</th>\n      <td>4003</td>\n      <td>NaN</td>\n      <td></td>\n      <td></td>\n      <td>1</td>\n      <td></td>\n      <td>NaN</td>\n      <td>Rue cite des jardins</td>\n      <td>NaN</td>\n      <td>6030</td>\n      <td>NaN</td>\n      <td>NaN</td>\n      <td>chpayet</td>\n      <td>20200723084148</td>\n      <td>chpayet</td>\n      <td>20200723084148</td>\n      <td>{42EEB3C0-EF20-4ADF-B995-15B97DBE0068}</td>\n      <td>NaN</td>\n      <td>6.998000</td>\n      <td>43.576679</td>\n    </tr>\n  </tbody>\n</table>\n</div>"
     },
     "metadata": {},
     "execution_count": 31
    }
   ],
   "source": [
    "dataPapier[dataPapier.type == \" \"]"
   ]
  },
  {
   "cell_type": "markdown",
   "metadata": {},
   "source": [
    "8 collecteurs n'ont pas le volume précisé (les mêmes que ci-dessus)"
   ]
  },
  {
   "cell_type": "code",
   "execution_count": 32,
   "metadata": {
    "scrolled": true
   },
   "outputs": [
    {
     "output_type": "execute_result",
     "data": {
      "text/plain": [
       "4 m3    17\n",
       "3 m3     9\n",
       "         8\n",
       "Name: volume, dtype: int64"
      ]
     },
     "metadata": {},
     "execution_count": 32
    }
   ],
   "source": [
    "dataPapier.volume.value_counts()"
   ]
  },
  {
   "cell_type": "code",
   "execution_count": 33,
   "metadata": {
    "scrolled": true
   },
   "outputs": [
    {
     "output_type": "execute_result",
     "data": {
      "text/plain": [
       "   objectid  id type volume  quantite marque  date_instal  \\\n",
       "0      1601 NaN                     1                 NaN   \n",
       "1      1202 NaN                     1                 NaN   \n",
       "2       403 NaN                     1                 NaN   \n",
       "3      1602 NaN                     1                 NaN   \n",
       "4      1606 NaN                     1                 NaN   \n",
       "5      1205 NaN                     1                 NaN   \n",
       "7      4002 NaN                     1                 NaN   \n",
       "8      4003 NaN                     1                 NaN   \n",
       "\n",
       "                    adresse       adresse_comp  code_insee observations  \\\n",
       "0     2 chemin des vallons                 NaN        6030          NaN   \n",
       "1   10 boulevard d olivetum                NaN        6030          NaN   \n",
       "2   Boulevard Jacques monod  Parking des fades        6030          NaN   \n",
       "3        Cimetiere du claus                NaN        6030          NaN   \n",
       "4  Avenue Georges Pompidou                 NaN        6030          NaN   \n",
       "5    7 chemin de l aubarede                NaN        6030          NaN   \n",
       "7         Rue Marcel pagnol                NaN        6030          NaN   \n",
       "8      Rue cite des jardins                NaN        6030          NaN   \n",
       "\n",
       "   accessibilite creation   date_creation modification  date_modification  \\\n",
       "0            NaN  chpayet  20200417085022      chpayet     20200417085022   \n",
       "1            NaN  chpayet  20200310084750      chpayet     20200310084750   \n",
       "2            NaN  chpayet  20200213101117      chpayet     20200213101117   \n",
       "3            NaN  chpayet  20200417085630      chpayet     20200417085630   \n",
       "4            NaN  chpayet  20200417104710      chpayet     20200417104710   \n",
       "5            NaN  chpayet  20200310100220      chpayet     20200310100220   \n",
       "7            NaN  chpayet  20200723083331      chpayet     20200723083331   \n",
       "8            NaN  chpayet  20200723084148      chpayet     20200723084148   \n",
       "\n",
       "                                 globalid  etat        _x         _y  \n",
       "0  {46B94A69-E019-43D8-9E84-AAE5DA6284C2}   NaN  6.972623  43.568790  \n",
       "1  {2A62403F-3C88-40AA-9C22-FE89A984671F}   NaN  7.025239  43.570610  \n",
       "2  {A90515AF-4E89-4DB0-8F45-3B0604FBCFFD}   NaN  6.996956  43.574852  \n",
       "3  {7A3EE5C6-AA02-4B6E-99F3-2906EA5D56E6}   NaN  6.986457  43.574566  \n",
       "4  {C5ABBCFE-6778-4674-8888-5918E2BD6898}   NaN  6.981803  43.568787  \n",
       "5  {0A6616FF-EE2F-4512-ADA2-023B7FF4255A}   NaN  6.984120  43.573116  \n",
       "7  {00153039-CB46-4664-A251-D2E3381B822E}   NaN  6.988643  43.573776  \n",
       "8  {42EEB3C0-EF20-4ADF-B995-15B97DBE0068}   NaN  6.998000  43.576679  "
      ],
      "text/html": "<div>\n<style scoped>\n    .dataframe tbody tr th:only-of-type {\n        vertical-align: middle;\n    }\n\n    .dataframe tbody tr th {\n        vertical-align: top;\n    }\n\n    .dataframe thead th {\n        text-align: right;\n    }\n</style>\n<table border=\"1\" class=\"dataframe\">\n  <thead>\n    <tr style=\"text-align: right;\">\n      <th></th>\n      <th>objectid</th>\n      <th>id</th>\n      <th>type</th>\n      <th>volume</th>\n      <th>quantite</th>\n      <th>marque</th>\n      <th>date_instal</th>\n      <th>adresse</th>\n      <th>adresse_comp</th>\n      <th>code_insee</th>\n      <th>observations</th>\n      <th>accessibilite</th>\n      <th>creation</th>\n      <th>date_creation</th>\n      <th>modification</th>\n      <th>date_modification</th>\n      <th>globalid</th>\n      <th>etat</th>\n      <th>_x</th>\n      <th>_y</th>\n    </tr>\n  </thead>\n  <tbody>\n    <tr>\n      <th>0</th>\n      <td>1601</td>\n      <td>NaN</td>\n      <td></td>\n      <td></td>\n      <td>1</td>\n      <td></td>\n      <td>NaN</td>\n      <td>2 chemin des vallons</td>\n      <td>NaN</td>\n      <td>6030</td>\n      <td>NaN</td>\n      <td>NaN</td>\n      <td>chpayet</td>\n      <td>20200417085022</td>\n      <td>chpayet</td>\n      <td>20200417085022</td>\n      <td>{46B94A69-E019-43D8-9E84-AAE5DA6284C2}</td>\n      <td>NaN</td>\n      <td>6.972623</td>\n      <td>43.568790</td>\n    </tr>\n    <tr>\n      <th>1</th>\n      <td>1202</td>\n      <td>NaN</td>\n      <td></td>\n      <td></td>\n      <td>1</td>\n      <td></td>\n      <td>NaN</td>\n      <td>10 boulevard d olivetum</td>\n      <td>NaN</td>\n      <td>6030</td>\n      <td>NaN</td>\n      <td>NaN</td>\n      <td>chpayet</td>\n      <td>20200310084750</td>\n      <td>chpayet</td>\n      <td>20200310084750</td>\n      <td>{2A62403F-3C88-40AA-9C22-FE89A984671F}</td>\n      <td>NaN</td>\n      <td>7.025239</td>\n      <td>43.570610</td>\n    </tr>\n    <tr>\n      <th>2</th>\n      <td>403</td>\n      <td>NaN</td>\n      <td></td>\n      <td></td>\n      <td>1</td>\n      <td></td>\n      <td>NaN</td>\n      <td>Boulevard Jacques monod</td>\n      <td>Parking des fades</td>\n      <td>6030</td>\n      <td>NaN</td>\n      <td>NaN</td>\n      <td>chpayet</td>\n      <td>20200213101117</td>\n      <td>chpayet</td>\n      <td>20200213101117</td>\n      <td>{A90515AF-4E89-4DB0-8F45-3B0604FBCFFD}</td>\n      <td>NaN</td>\n      <td>6.996956</td>\n      <td>43.574852</td>\n    </tr>\n    <tr>\n      <th>3</th>\n      <td>1602</td>\n      <td>NaN</td>\n      <td></td>\n      <td></td>\n      <td>1</td>\n      <td></td>\n      <td>NaN</td>\n      <td>Cimetiere du claus</td>\n      <td>NaN</td>\n      <td>6030</td>\n      <td>NaN</td>\n      <td>NaN</td>\n      <td>chpayet</td>\n      <td>20200417085630</td>\n      <td>chpayet</td>\n      <td>20200417085630</td>\n      <td>{7A3EE5C6-AA02-4B6E-99F3-2906EA5D56E6}</td>\n      <td>NaN</td>\n      <td>6.986457</td>\n      <td>43.574566</td>\n    </tr>\n    <tr>\n      <th>4</th>\n      <td>1606</td>\n      <td>NaN</td>\n      <td></td>\n      <td></td>\n      <td>1</td>\n      <td></td>\n      <td>NaN</td>\n      <td>Avenue Georges Pompidou</td>\n      <td>NaN</td>\n      <td>6030</td>\n      <td>NaN</td>\n      <td>NaN</td>\n      <td>chpayet</td>\n      <td>20200417104710</td>\n      <td>chpayet</td>\n      <td>20200417104710</td>\n      <td>{C5ABBCFE-6778-4674-8888-5918E2BD6898}</td>\n      <td>NaN</td>\n      <td>6.981803</td>\n      <td>43.568787</td>\n    </tr>\n    <tr>\n      <th>5</th>\n      <td>1205</td>\n      <td>NaN</td>\n      <td></td>\n      <td></td>\n      <td>1</td>\n      <td></td>\n      <td>NaN</td>\n      <td>7 chemin de l aubarede</td>\n      <td>NaN</td>\n      <td>6030</td>\n      <td>NaN</td>\n      <td>NaN</td>\n      <td>chpayet</td>\n      <td>20200310100220</td>\n      <td>chpayet</td>\n      <td>20200310100220</td>\n      <td>{0A6616FF-EE2F-4512-ADA2-023B7FF4255A}</td>\n      <td>NaN</td>\n      <td>6.984120</td>\n      <td>43.573116</td>\n    </tr>\n    <tr>\n      <th>7</th>\n      <td>4002</td>\n      <td>NaN</td>\n      <td></td>\n      <td></td>\n      <td>1</td>\n      <td></td>\n      <td>NaN</td>\n      <td>Rue Marcel pagnol</td>\n      <td>NaN</td>\n      <td>6030</td>\n      <td>NaN</td>\n      <td>NaN</td>\n      <td>chpayet</td>\n      <td>20200723083331</td>\n      <td>chpayet</td>\n      <td>20200723083331</td>\n      <td>{00153039-CB46-4664-A251-D2E3381B822E}</td>\n      <td>NaN</td>\n      <td>6.988643</td>\n      <td>43.573776</td>\n    </tr>\n    <tr>\n      <th>8</th>\n      <td>4003</td>\n      <td>NaN</td>\n      <td></td>\n      <td></td>\n      <td>1</td>\n      <td></td>\n      <td>NaN</td>\n      <td>Rue cite des jardins</td>\n      <td>NaN</td>\n      <td>6030</td>\n      <td>NaN</td>\n      <td>NaN</td>\n      <td>chpayet</td>\n      <td>20200723084148</td>\n      <td>chpayet</td>\n      <td>20200723084148</td>\n      <td>{42EEB3C0-EF20-4ADF-B995-15B97DBE0068}</td>\n      <td>NaN</td>\n      <td>6.998000</td>\n      <td>43.576679</td>\n    </tr>\n  </tbody>\n</table>\n</div>"
     },
     "metadata": {},
     "execution_count": 33
    }
   ],
   "source": [
    "dataPapier[dataPapier.volume == \" \"]"
   ]
  },
  {
   "cell_type": "markdown",
   "metadata": {},
   "source": [
    "La plupart des collecteurs (29) a la marque \" \" "
   ]
  },
  {
   "cell_type": "code",
   "execution_count": 34,
   "metadata": {},
   "outputs": [
    {
     "output_type": "execute_result",
     "data": {
      "text/plain": [
       "                  29\n",
       "Plastic Omnium     4\n",
       "Contenur           1\n",
       "Name: marque, dtype: int64"
      ]
     },
     "metadata": {},
     "execution_count": 34
    }
   ],
   "source": [
    "dataPapier.marque.value_counts()"
   ]
  },
  {
   "cell_type": "code",
   "execution_count": 35,
   "metadata": {
    "scrolled": true
   },
   "outputs": [
    {
     "output_type": "execute_result",
     "data": {
      "text/plain": [
       "    objectid  id               type volume  quantite marque  date_instal  \\\n",
       "0       1601 NaN                                   1                 NaN   \n",
       "1       1202 NaN                                   1                 NaN   \n",
       "2        403 NaN                                   1                 NaN   \n",
       "3       1602 NaN                                   1                 NaN   \n",
       "4       1606 NaN                                   1                 NaN   \n",
       "5       1205 NaN                                   1                 NaN   \n",
       "6       2004 NaN  PAV cuve enterrée   4 m3         2                 NaN   \n",
       "7       4002 NaN                                   1                 NaN   \n",
       "8       4003 NaN                                   1                 NaN   \n",
       "10      4001 NaN  PAV cuve enterrée   3 m3         1                 NaN   \n",
       "11      3201 NaN  PAV cuve enterrée   3 m3         1                 NaN   \n",
       "12      3601 NaN  PAV cuve enterrée   3 m3         1                 NaN   \n",
       "13       401 NaN  PAV cuve enterrée   3 m3         2                 NaN   \n",
       "14       402 NaN  PAV cuve enterrée   3 m3         1                 NaN   \n",
       "15      1201 NaN  PAV cuve enterrée   3 m3         1                 NaN   \n",
       "16       404 NaN  PAV cuve enterrée   3 m3         1                 NaN   \n",
       "17      4802 NaN   Colonne aérienne   3 m3         1                 NaN   \n",
       "18      2801 NaN  PAV cuve enterrée   4 m3         1                 NaN   \n",
       "19      2002 NaN  PAV cuve enterrée   4 m3         1                 NaN   \n",
       "20      1605 NaN   Colonne aérienne   4 m3         1                 NaN   \n",
       "21      2401 NaN   Colonne aérienne   4 m3         1                 NaN   \n",
       "22      3202 NaN  PAV cuve enterrée   4 m3         1                 NaN   \n",
       "24      1604 NaN  PAV cuve enterrée   4 m3         1                 NaN   \n",
       "25      2003 NaN   Colonne aérienne   4 m3         1                 NaN   \n",
       "26       801 NaN   Colonne aérienne   4 m3         1                 NaN   \n",
       "27       802 NaN   Colonne aérienne   4 m3         1                 NaN   \n",
       "28      1603 NaN  PAV cuve enterrée   4 m3         1                 NaN   \n",
       "29      3203 NaN   Colonne aérienne   4 m3         1                 NaN   \n",
       "32      1204 NaN  PAV cuve enterrée   4 m3         1                 NaN   \n",
       "\n",
       "                            adresse                 adresse_comp  code_insee  \\\n",
       "0             2 chemin des vallons                           NaN        6030   \n",
       "1           10 boulevard d olivetum                          NaN        6030   \n",
       "2           Boulevard Jacques monod            Parking des fades        6030   \n",
       "3                Cimetiere du claus                          NaN        6030   \n",
       "4          Avenue Georges Pompidou                           NaN        6030   \n",
       "5            7 chemin de l aubarede                          NaN        6030   \n",
       "6     1332 avenue notre dame de vie                          NaN        6085   \n",
       "7                 Rue Marcel pagnol                          NaN        6030   \n",
       "8              Rue cite des jardins                          NaN        6030   \n",
       "10                   Place benidorm                          NaN        6030   \n",
       "11                 Rue des orangers       angle rue des oliviers        6030   \n",
       "12                  Avenue du repos                          NaN        6030   \n",
       "13     6 avenue Maurice jean pierre                          NaN        6030   \n",
       "14           24 avenue de la pinede                          NaN        6030   \n",
       "15                 21 avenue thiers                          NaN        6030   \n",
       "16           Boulevard de l esterel  residence les pins parasols        6030   \n",
       "17             Déchèterie tourrades                          NaN        6029   \n",
       "18                Rue saint jacques                          NaN        6085   \n",
       "19  89 avenue du moulin de la croix                          NaN        6085   \n",
       "20           559 avenue de tournamy                          NaN        6085   \n",
       "21         615 avenue Maurice donat                          NaN        6085   \n",
       "22              Allée Henri barbara                          NaN        6085   \n",
       "24             Avenue maréchal juin                          NaN        6085   \n",
       "25      Chemin de la grande bastide                          NaN        6085   \n",
       "26                Chemin de campane                          NaN        6085   \n",
       "27         763 chemin des cabrieres                          NaN        6085   \n",
       "28               Chemin de faissole                          NaN        6085   \n",
       "29       Chemin de font de currault                          NaN        6085   \n",
       "32                 Avenue lamartine                          NaN        6085   \n",
       "\n",
       "     observations  accessibilite creation   date_creation modification  \\\n",
       "0             NaN            NaN  chpayet  20200417085022      chpayet   \n",
       "1             NaN            NaN  chpayet  20200310084750      chpayet   \n",
       "2             NaN            NaN  chpayet  20200213101117      chpayet   \n",
       "3             NaN            NaN  chpayet  20200417085630      chpayet   \n",
       "4             NaN            NaN  chpayet  20200417104710      chpayet   \n",
       "5             NaN            NaN  chpayet  20200310100220      chpayet   \n",
       "6             NaN            NaN  chpayet  20200429110135      chpayet   \n",
       "7             NaN            NaN  chpayet  20200723083331      chpayet   \n",
       "8             NaN            NaN  chpayet  20200723084148      chpayet   \n",
       "10            NaN            NaN  chpayet  20200723081915      chpayet   \n",
       "11            NaN            NaN  chpayet  20200622123731      chpayet   \n",
       "12            NaN            NaN  chpayet  20200630093451      chpayet   \n",
       "13            NaN            NaN  chpayet  20200213095712      chpayet   \n",
       "14            NaN            NaN  chpayet  20200213100108      chpayet   \n",
       "15            NaN            NaN  chpayet  20200310084117      chpayet   \n",
       "16            NaN            NaN  chpayet  20200213104528      chpayet   \n",
       "17            NaN            NaN  chpayet  20200826083909      chpayet   \n",
       "18            NaN            NaN  chpayet  20200602131959      chpayet   \n",
       "19            NaN            NaN  chpayet  20200429101839      chpayet   \n",
       "20            NaN            NaN  chpayet  20200417093716      chpayet   \n",
       "21  Mougin school            NaN  chpayet  20200514084135      chpayet   \n",
       "22            NaN            NaN  chpayet  20200622132945      chpayet   \n",
       "24            NaN            NaN  chpayet  20200417091539      chpayet   \n",
       "25            NaN            NaN  chpayet  20200429103552      chpayet   \n",
       "26            NaN            NaN  chpayet  20200220081638      chpayet   \n",
       "27            NaN            NaN  chpayet  20200220082833      chpayet   \n",
       "28            NaN            NaN  chpayet  20200417090530      chpayet   \n",
       "29            NaN            NaN  chpayet  20200622135444      chpayet   \n",
       "32            NaN            NaN  chpayet  20200310095602      chpayet   \n",
       "\n",
       "    date_modification                                globalid  etat        _x  \\\n",
       "0      20200417085022  {46B94A69-E019-43D8-9E84-AAE5DA6284C2}   NaN  6.972623   \n",
       "1      20200310084750  {2A62403F-3C88-40AA-9C22-FE89A984671F}   NaN  7.025239   \n",
       "2      20200213101117  {A90515AF-4E89-4DB0-8F45-3B0604FBCFFD}   NaN  6.996956   \n",
       "3      20200417085630  {7A3EE5C6-AA02-4B6E-99F3-2906EA5D56E6}   NaN  6.986457   \n",
       "4      20200417104710  {C5ABBCFE-6778-4674-8888-5918E2BD6898}   NaN  6.981803   \n",
       "5      20200310100220  {0A6616FF-EE2F-4512-ADA2-023B7FF4255A}   NaN  6.984120   \n",
       "6      20200731123005  {5F42EED6-15D2-4799-82E2-377DE5F69AF3}   NaN  7.001550   \n",
       "7      20200723083331  {00153039-CB46-4664-A251-D2E3381B822E}   NaN  6.988643   \n",
       "8      20200723084148  {42EEB3C0-EF20-4ADF-B995-15B97DBE0068}   NaN  6.998000   \n",
       "10     20200723133557  {65AA072C-D5CF-4D4C-8F3C-0517057EE03A}   NaN  7.014975   \n",
       "11     20200723133643  {06460B3B-FAB5-4E5C-80A8-87B39F75F6CB}   NaN  7.017876   \n",
       "12     20200723133702  {C553287B-9798-424E-AB49-551EC2D91F47}   NaN  7.014328   \n",
       "13     20200723133751  {B1926D97-5BF9-47E0-895B-46A40D1C65B4}   NaN  7.006851   \n",
       "14     20200723133808  {A1A5B794-F651-4854-9A9A-9EA86293FF66}   NaN  7.003463   \n",
       "15     20200723133831  {06B4116B-A63C-45E8-9250-E33E39643CA8}   NaN  7.024154   \n",
       "16     20200723133909  {D3B131D0-1288-4D8A-9E74-40472D5DE748}   NaN  6.977148   \n",
       "17     20200826083909  {7382AF7A-D219-4DE9-8B9A-65593DAF4080}   NaN  6.954771   \n",
       "18     20200727103406  {D89F7682-5FC9-4EB0-995F-81938FE474B9}   NaN  7.041420   \n",
       "19     20200727112558  {EF6546F0-9792-4F7B-83F1-3F65A0775789}   NaN  6.997445   \n",
       "20     20200727112653  {9B14CCCC-71B8-4195-8938-F938B000B3EF}   NaN  6.986300   \n",
       "21     20200727113503  {0164BDF5-1283-4BF9-9530-C10713C113F9}   NaN  7.014427   \n",
       "22     20200727113529  {57384DAB-3CF8-4D44-816B-F0A0AFD0A5E6}   NaN  7.011071   \n",
       "24     20200727113641  {E9CCE624-56F6-453C-966E-E7B750D0034C}   NaN  6.988142   \n",
       "25     20200727113701  {38BD9FD9-7A4A-4871-9F98-8731943B459F}   NaN  6.990418   \n",
       "26     20200727113720  {419AECE2-E73A-42FE-BC63-4CE27EEB6FBB}   NaN  6.998515   \n",
       "27     20200727113741  {A03747C1-2F33-4B6A-A496-038A029A7393}   NaN  6.988269   \n",
       "28     20200727113758  {2E1C9196-FC83-49FA-BE08-7F15677DA591}   NaN  6.997938   \n",
       "29     20200727113818  {CA5B8415-90DA-4469-85CE-14DF03F66FBD}   NaN  7.032435   \n",
       "32     20200727123911  {3D9735F1-2B61-422C-81FB-CD590F48C046}   NaN  6.984938   \n",
       "\n",
       "           _y  \n",
       "0   43.568790  \n",
       "1   43.570610  \n",
       "2   43.574852  \n",
       "3   43.574566  \n",
       "4   43.568787  \n",
       "5   43.573116  \n",
       "6   43.593269  \n",
       "7   43.573776  \n",
       "8   43.576679  \n",
       "10  43.570587  \n",
       "11  43.575016  \n",
       "12  43.575138  \n",
       "13  43.576714  \n",
       "14  43.573112  \n",
       "15  43.569870  \n",
       "16  43.563042  \n",
       "17  43.556969  \n",
       "18  43.588951  \n",
       "19  43.600960  \n",
       "20  43.601952  \n",
       "21  43.612484  \n",
       "22  43.607235  \n",
       "24  43.596275  \n",
       "25  43.590302  \n",
       "26  43.587776  \n",
       "27  43.583363  \n",
       "28  43.583599  \n",
       "29  43.591408  \n",
       "32  43.574421  "
      ],
      "text/html": "<div>\n<style scoped>\n    .dataframe tbody tr th:only-of-type {\n        vertical-align: middle;\n    }\n\n    .dataframe tbody tr th {\n        vertical-align: top;\n    }\n\n    .dataframe thead th {\n        text-align: right;\n    }\n</style>\n<table border=\"1\" class=\"dataframe\">\n  <thead>\n    <tr style=\"text-align: right;\">\n      <th></th>\n      <th>objectid</th>\n      <th>id</th>\n      <th>type</th>\n      <th>volume</th>\n      <th>quantite</th>\n      <th>marque</th>\n      <th>date_instal</th>\n      <th>adresse</th>\n      <th>adresse_comp</th>\n      <th>code_insee</th>\n      <th>observations</th>\n      <th>accessibilite</th>\n      <th>creation</th>\n      <th>date_creation</th>\n      <th>modification</th>\n      <th>date_modification</th>\n      <th>globalid</th>\n      <th>etat</th>\n      <th>_x</th>\n      <th>_y</th>\n    </tr>\n  </thead>\n  <tbody>\n    <tr>\n      <th>0</th>\n      <td>1601</td>\n      <td>NaN</td>\n      <td></td>\n      <td></td>\n      <td>1</td>\n      <td></td>\n      <td>NaN</td>\n      <td>2 chemin des vallons</td>\n      <td>NaN</td>\n      <td>6030</td>\n      <td>NaN</td>\n      <td>NaN</td>\n      <td>chpayet</td>\n      <td>20200417085022</td>\n      <td>chpayet</td>\n      <td>20200417085022</td>\n      <td>{46B94A69-E019-43D8-9E84-AAE5DA6284C2}</td>\n      <td>NaN</td>\n      <td>6.972623</td>\n      <td>43.568790</td>\n    </tr>\n    <tr>\n      <th>1</th>\n      <td>1202</td>\n      <td>NaN</td>\n      <td></td>\n      <td></td>\n      <td>1</td>\n      <td></td>\n      <td>NaN</td>\n      <td>10 boulevard d olivetum</td>\n      <td>NaN</td>\n      <td>6030</td>\n      <td>NaN</td>\n      <td>NaN</td>\n      <td>chpayet</td>\n      <td>20200310084750</td>\n      <td>chpayet</td>\n      <td>20200310084750</td>\n      <td>{2A62403F-3C88-40AA-9C22-FE89A984671F}</td>\n      <td>NaN</td>\n      <td>7.025239</td>\n      <td>43.570610</td>\n    </tr>\n    <tr>\n      <th>2</th>\n      <td>403</td>\n      <td>NaN</td>\n      <td></td>\n      <td></td>\n      <td>1</td>\n      <td></td>\n      <td>NaN</td>\n      <td>Boulevard Jacques monod</td>\n      <td>Parking des fades</td>\n      <td>6030</td>\n      <td>NaN</td>\n      <td>NaN</td>\n      <td>chpayet</td>\n      <td>20200213101117</td>\n      <td>chpayet</td>\n      <td>20200213101117</td>\n      <td>{A90515AF-4E89-4DB0-8F45-3B0604FBCFFD}</td>\n      <td>NaN</td>\n      <td>6.996956</td>\n      <td>43.574852</td>\n    </tr>\n    <tr>\n      <th>3</th>\n      <td>1602</td>\n      <td>NaN</td>\n      <td></td>\n      <td></td>\n      <td>1</td>\n      <td></td>\n      <td>NaN</td>\n      <td>Cimetiere du claus</td>\n      <td>NaN</td>\n      <td>6030</td>\n      <td>NaN</td>\n      <td>NaN</td>\n      <td>chpayet</td>\n      <td>20200417085630</td>\n      <td>chpayet</td>\n      <td>20200417085630</td>\n      <td>{7A3EE5C6-AA02-4B6E-99F3-2906EA5D56E6}</td>\n      <td>NaN</td>\n      <td>6.986457</td>\n      <td>43.574566</td>\n    </tr>\n    <tr>\n      <th>4</th>\n      <td>1606</td>\n      <td>NaN</td>\n      <td></td>\n      <td></td>\n      <td>1</td>\n      <td></td>\n      <td>NaN</td>\n      <td>Avenue Georges Pompidou</td>\n      <td>NaN</td>\n      <td>6030</td>\n      <td>NaN</td>\n      <td>NaN</td>\n      <td>chpayet</td>\n      <td>20200417104710</td>\n      <td>chpayet</td>\n      <td>20200417104710</td>\n      <td>{C5ABBCFE-6778-4674-8888-5918E2BD6898}</td>\n      <td>NaN</td>\n      <td>6.981803</td>\n      <td>43.568787</td>\n    </tr>\n    <tr>\n      <th>5</th>\n      <td>1205</td>\n      <td>NaN</td>\n      <td></td>\n      <td></td>\n      <td>1</td>\n      <td></td>\n      <td>NaN</td>\n      <td>7 chemin de l aubarede</td>\n      <td>NaN</td>\n      <td>6030</td>\n      <td>NaN</td>\n      <td>NaN</td>\n      <td>chpayet</td>\n      <td>20200310100220</td>\n      <td>chpayet</td>\n      <td>20200310100220</td>\n      <td>{0A6616FF-EE2F-4512-ADA2-023B7FF4255A}</td>\n      <td>NaN</td>\n      <td>6.984120</td>\n      <td>43.573116</td>\n    </tr>\n    <tr>\n      <th>6</th>\n      <td>2004</td>\n      <td>NaN</td>\n      <td>PAV cuve enterrée</td>\n      <td>4 m3</td>\n      <td>2</td>\n      <td></td>\n      <td>NaN</td>\n      <td>1332 avenue notre dame de vie</td>\n      <td>NaN</td>\n      <td>6085</td>\n      <td>NaN</td>\n      <td>NaN</td>\n      <td>chpayet</td>\n      <td>20200429110135</td>\n      <td>chpayet</td>\n      <td>20200731123005</td>\n      <td>{5F42EED6-15D2-4799-82E2-377DE5F69AF3}</td>\n      <td>NaN</td>\n      <td>7.001550</td>\n      <td>43.593269</td>\n    </tr>\n    <tr>\n      <th>7</th>\n      <td>4002</td>\n      <td>NaN</td>\n      <td></td>\n      <td></td>\n      <td>1</td>\n      <td></td>\n      <td>NaN</td>\n      <td>Rue Marcel pagnol</td>\n      <td>NaN</td>\n      <td>6030</td>\n      <td>NaN</td>\n      <td>NaN</td>\n      <td>chpayet</td>\n      <td>20200723083331</td>\n      <td>chpayet</td>\n      <td>20200723083331</td>\n      <td>{00153039-CB46-4664-A251-D2E3381B822E}</td>\n      <td>NaN</td>\n      <td>6.988643</td>\n      <td>43.573776</td>\n    </tr>\n    <tr>\n      <th>8</th>\n      <td>4003</td>\n      <td>NaN</td>\n      <td></td>\n      <td></td>\n      <td>1</td>\n      <td></td>\n      <td>NaN</td>\n      <td>Rue cite des jardins</td>\n      <td>NaN</td>\n      <td>6030</td>\n      <td>NaN</td>\n      <td>NaN</td>\n      <td>chpayet</td>\n      <td>20200723084148</td>\n      <td>chpayet</td>\n      <td>20200723084148</td>\n      <td>{42EEB3C0-EF20-4ADF-B995-15B97DBE0068}</td>\n      <td>NaN</td>\n      <td>6.998000</td>\n      <td>43.576679</td>\n    </tr>\n    <tr>\n      <th>10</th>\n      <td>4001</td>\n      <td>NaN</td>\n      <td>PAV cuve enterrée</td>\n      <td>3 m3</td>\n      <td>1</td>\n      <td></td>\n      <td>NaN</td>\n      <td>Place benidorm</td>\n      <td>NaN</td>\n      <td>6030</td>\n      <td>NaN</td>\n      <td>NaN</td>\n      <td>chpayet</td>\n      <td>20200723081915</td>\n      <td>chpayet</td>\n      <td>20200723133557</td>\n      <td>{65AA072C-D5CF-4D4C-8F3C-0517057EE03A}</td>\n      <td>NaN</td>\n      <td>7.014975</td>\n      <td>43.570587</td>\n    </tr>\n    <tr>\n      <th>11</th>\n      <td>3201</td>\n      <td>NaN</td>\n      <td>PAV cuve enterrée</td>\n      <td>3 m3</td>\n      <td>1</td>\n      <td></td>\n      <td>NaN</td>\n      <td>Rue des orangers</td>\n      <td>angle rue des oliviers</td>\n      <td>6030</td>\n      <td>NaN</td>\n      <td>NaN</td>\n      <td>chpayet</td>\n      <td>20200622123731</td>\n      <td>chpayet</td>\n      <td>20200723133643</td>\n      <td>{06460B3B-FAB5-4E5C-80A8-87B39F75F6CB}</td>\n      <td>NaN</td>\n      <td>7.017876</td>\n      <td>43.575016</td>\n    </tr>\n    <tr>\n      <th>12</th>\n      <td>3601</td>\n      <td>NaN</td>\n      <td>PAV cuve enterrée</td>\n      <td>3 m3</td>\n      <td>1</td>\n      <td></td>\n      <td>NaN</td>\n      <td>Avenue du repos</td>\n      <td>NaN</td>\n      <td>6030</td>\n      <td>NaN</td>\n      <td>NaN</td>\n      <td>chpayet</td>\n      <td>20200630093451</td>\n      <td>chpayet</td>\n      <td>20200723133702</td>\n      <td>{C553287B-9798-424E-AB49-551EC2D91F47}</td>\n      <td>NaN</td>\n      <td>7.014328</td>\n      <td>43.575138</td>\n    </tr>\n    <tr>\n      <th>13</th>\n      <td>401</td>\n      <td>NaN</td>\n      <td>PAV cuve enterrée</td>\n      <td>3 m3</td>\n      <td>2</td>\n      <td></td>\n      <td>NaN</td>\n      <td>6 avenue Maurice jean pierre</td>\n      <td>NaN</td>\n      <td>6030</td>\n      <td>NaN</td>\n      <td>NaN</td>\n      <td>chpayet</td>\n      <td>20200213095712</td>\n      <td>chpayet</td>\n      <td>20200723133751</td>\n      <td>{B1926D97-5BF9-47E0-895B-46A40D1C65B4}</td>\n      <td>NaN</td>\n      <td>7.006851</td>\n      <td>43.576714</td>\n    </tr>\n    <tr>\n      <th>14</th>\n      <td>402</td>\n      <td>NaN</td>\n      <td>PAV cuve enterrée</td>\n      <td>3 m3</td>\n      <td>1</td>\n      <td></td>\n      <td>NaN</td>\n      <td>24 avenue de la pinede</td>\n      <td>NaN</td>\n      <td>6030</td>\n      <td>NaN</td>\n      <td>NaN</td>\n      <td>chpayet</td>\n      <td>20200213100108</td>\n      <td>chpayet</td>\n      <td>20200723133808</td>\n      <td>{A1A5B794-F651-4854-9A9A-9EA86293FF66}</td>\n      <td>NaN</td>\n      <td>7.003463</td>\n      <td>43.573112</td>\n    </tr>\n    <tr>\n      <th>15</th>\n      <td>1201</td>\n      <td>NaN</td>\n      <td>PAV cuve enterrée</td>\n      <td>3 m3</td>\n      <td>1</td>\n      <td></td>\n      <td>NaN</td>\n      <td>21 avenue thiers</td>\n      <td>NaN</td>\n      <td>6030</td>\n      <td>NaN</td>\n      <td>NaN</td>\n      <td>chpayet</td>\n      <td>20200310084117</td>\n      <td>chpayet</td>\n      <td>20200723133831</td>\n      <td>{06B4116B-A63C-45E8-9250-E33E39643CA8}</td>\n      <td>NaN</td>\n      <td>7.024154</td>\n      <td>43.569870</td>\n    </tr>\n    <tr>\n      <th>16</th>\n      <td>404</td>\n      <td>NaN</td>\n      <td>PAV cuve enterrée</td>\n      <td>3 m3</td>\n      <td>1</td>\n      <td></td>\n      <td>NaN</td>\n      <td>Boulevard de l esterel</td>\n      <td>residence les pins parasols</td>\n      <td>6030</td>\n      <td>NaN</td>\n      <td>NaN</td>\n      <td>chpayet</td>\n      <td>20200213104528</td>\n      <td>chpayet</td>\n      <td>20200723133909</td>\n      <td>{D3B131D0-1288-4D8A-9E74-40472D5DE748}</td>\n      <td>NaN</td>\n      <td>6.977148</td>\n      <td>43.563042</td>\n    </tr>\n    <tr>\n      <th>17</th>\n      <td>4802</td>\n      <td>NaN</td>\n      <td>Colonne aérienne</td>\n      <td>3 m3</td>\n      <td>1</td>\n      <td></td>\n      <td>NaN</td>\n      <td>Déchèterie tourrades</td>\n      <td>NaN</td>\n      <td>6029</td>\n      <td>NaN</td>\n      <td>NaN</td>\n      <td>chpayet</td>\n      <td>20200826083909</td>\n      <td>chpayet</td>\n      <td>20200826083909</td>\n      <td>{7382AF7A-D219-4DE9-8B9A-65593DAF4080}</td>\n      <td>NaN</td>\n      <td>6.954771</td>\n      <td>43.556969</td>\n    </tr>\n    <tr>\n      <th>18</th>\n      <td>2801</td>\n      <td>NaN</td>\n      <td>PAV cuve enterrée</td>\n      <td>4 m3</td>\n      <td>1</td>\n      <td></td>\n      <td>NaN</td>\n      <td>Rue saint jacques</td>\n      <td>NaN</td>\n      <td>6085</td>\n      <td>NaN</td>\n      <td>NaN</td>\n      <td>chpayet</td>\n      <td>20200602131959</td>\n      <td>chpayet</td>\n      <td>20200727103406</td>\n      <td>{D89F7682-5FC9-4EB0-995F-81938FE474B9}</td>\n      <td>NaN</td>\n      <td>7.041420</td>\n      <td>43.588951</td>\n    </tr>\n    <tr>\n      <th>19</th>\n      <td>2002</td>\n      <td>NaN</td>\n      <td>PAV cuve enterrée</td>\n      <td>4 m3</td>\n      <td>1</td>\n      <td></td>\n      <td>NaN</td>\n      <td>89 avenue du moulin de la croix</td>\n      <td>NaN</td>\n      <td>6085</td>\n      <td>NaN</td>\n      <td>NaN</td>\n      <td>chpayet</td>\n      <td>20200429101839</td>\n      <td>chpayet</td>\n      <td>20200727112558</td>\n      <td>{EF6546F0-9792-4F7B-83F1-3F65A0775789}</td>\n      <td>NaN</td>\n      <td>6.997445</td>\n      <td>43.600960</td>\n    </tr>\n    <tr>\n      <th>20</th>\n      <td>1605</td>\n      <td>NaN</td>\n      <td>Colonne aérienne</td>\n      <td>4 m3</td>\n      <td>1</td>\n      <td></td>\n      <td>NaN</td>\n      <td>559 avenue de tournamy</td>\n      <td>NaN</td>\n      <td>6085</td>\n      <td>NaN</td>\n      <td>NaN</td>\n      <td>chpayet</td>\n      <td>20200417093716</td>\n      <td>chpayet</td>\n      <td>20200727112653</td>\n      <td>{9B14CCCC-71B8-4195-8938-F938B000B3EF}</td>\n      <td>NaN</td>\n      <td>6.986300</td>\n      <td>43.601952</td>\n    </tr>\n    <tr>\n      <th>21</th>\n      <td>2401</td>\n      <td>NaN</td>\n      <td>Colonne aérienne</td>\n      <td>4 m3</td>\n      <td>1</td>\n      <td></td>\n      <td>NaN</td>\n      <td>615 avenue Maurice donat</td>\n      <td>NaN</td>\n      <td>6085</td>\n      <td>Mougin school</td>\n      <td>NaN</td>\n      <td>chpayet</td>\n      <td>20200514084135</td>\n      <td>chpayet</td>\n      <td>20200727113503</td>\n      <td>{0164BDF5-1283-4BF9-9530-C10713C113F9}</td>\n      <td>NaN</td>\n      <td>7.014427</td>\n      <td>43.612484</td>\n    </tr>\n    <tr>\n      <th>22</th>\n      <td>3202</td>\n      <td>NaN</td>\n      <td>PAV cuve enterrée</td>\n      <td>4 m3</td>\n      <td>1</td>\n      <td></td>\n      <td>NaN</td>\n      <td>Allée Henri barbara</td>\n      <td>NaN</td>\n      <td>6085</td>\n      <td>NaN</td>\n      <td>NaN</td>\n      <td>chpayet</td>\n      <td>20200622132945</td>\n      <td>chpayet</td>\n      <td>20200727113529</td>\n      <td>{57384DAB-3CF8-4D44-816B-F0A0AFD0A5E6}</td>\n      <td>NaN</td>\n      <td>7.011071</td>\n      <td>43.607235</td>\n    </tr>\n    <tr>\n      <th>24</th>\n      <td>1604</td>\n      <td>NaN</td>\n      <td>PAV cuve enterrée</td>\n      <td>4 m3</td>\n      <td>1</td>\n      <td></td>\n      <td>NaN</td>\n      <td>Avenue maréchal juin</td>\n      <td>NaN</td>\n      <td>6085</td>\n      <td>NaN</td>\n      <td>NaN</td>\n      <td>chpayet</td>\n      <td>20200417091539</td>\n      <td>chpayet</td>\n      <td>20200727113641</td>\n      <td>{E9CCE624-56F6-453C-966E-E7B750D0034C}</td>\n      <td>NaN</td>\n      <td>6.988142</td>\n      <td>43.596275</td>\n    </tr>\n    <tr>\n      <th>25</th>\n      <td>2003</td>\n      <td>NaN</td>\n      <td>Colonne aérienne</td>\n      <td>4 m3</td>\n      <td>1</td>\n      <td></td>\n      <td>NaN</td>\n      <td>Chemin de la grande bastide</td>\n      <td>NaN</td>\n      <td>6085</td>\n      <td>NaN</td>\n      <td>NaN</td>\n      <td>chpayet</td>\n      <td>20200429103552</td>\n      <td>chpayet</td>\n      <td>20200727113701</td>\n      <td>{38BD9FD9-7A4A-4871-9F98-8731943B459F}</td>\n      <td>NaN</td>\n      <td>6.990418</td>\n      <td>43.590302</td>\n    </tr>\n    <tr>\n      <th>26</th>\n      <td>801</td>\n      <td>NaN</td>\n      <td>Colonne aérienne</td>\n      <td>4 m3</td>\n      <td>1</td>\n      <td></td>\n      <td>NaN</td>\n      <td>Chemin de campane</td>\n      <td>NaN</td>\n      <td>6085</td>\n      <td>NaN</td>\n      <td>NaN</td>\n      <td>chpayet</td>\n      <td>20200220081638</td>\n      <td>chpayet</td>\n      <td>20200727113720</td>\n      <td>{419AECE2-E73A-42FE-BC63-4CE27EEB6FBB}</td>\n      <td>NaN</td>\n      <td>6.998515</td>\n      <td>43.587776</td>\n    </tr>\n    <tr>\n      <th>27</th>\n      <td>802</td>\n      <td>NaN</td>\n      <td>Colonne aérienne</td>\n      <td>4 m3</td>\n      <td>1</td>\n      <td></td>\n      <td>NaN</td>\n      <td>763 chemin des cabrieres</td>\n      <td>NaN</td>\n      <td>6085</td>\n      <td>NaN</td>\n      <td>NaN</td>\n      <td>chpayet</td>\n      <td>20200220082833</td>\n      <td>chpayet</td>\n      <td>20200727113741</td>\n      <td>{A03747C1-2F33-4B6A-A496-038A029A7393}</td>\n      <td>NaN</td>\n      <td>6.988269</td>\n      <td>43.583363</td>\n    </tr>\n    <tr>\n      <th>28</th>\n      <td>1603</td>\n      <td>NaN</td>\n      <td>PAV cuve enterrée</td>\n      <td>4 m3</td>\n      <td>1</td>\n      <td></td>\n      <td>NaN</td>\n      <td>Chemin de faissole</td>\n      <td>NaN</td>\n      <td>6085</td>\n      <td>NaN</td>\n      <td>NaN</td>\n      <td>chpayet</td>\n      <td>20200417090530</td>\n      <td>chpayet</td>\n      <td>20200727113758</td>\n      <td>{2E1C9196-FC83-49FA-BE08-7F15677DA591}</td>\n      <td>NaN</td>\n      <td>6.997938</td>\n      <td>43.583599</td>\n    </tr>\n    <tr>\n      <th>29</th>\n      <td>3203</td>\n      <td>NaN</td>\n      <td>Colonne aérienne</td>\n      <td>4 m3</td>\n      <td>1</td>\n      <td></td>\n      <td>NaN</td>\n      <td>Chemin de font de currault</td>\n      <td>NaN</td>\n      <td>6085</td>\n      <td>NaN</td>\n      <td>NaN</td>\n      <td>chpayet</td>\n      <td>20200622135444</td>\n      <td>chpayet</td>\n      <td>20200727113818</td>\n      <td>{CA5B8415-90DA-4469-85CE-14DF03F66FBD}</td>\n      <td>NaN</td>\n      <td>7.032435</td>\n      <td>43.591408</td>\n    </tr>\n    <tr>\n      <th>32</th>\n      <td>1204</td>\n      <td>NaN</td>\n      <td>PAV cuve enterrée</td>\n      <td>4 m3</td>\n      <td>1</td>\n      <td></td>\n      <td>NaN</td>\n      <td>Avenue lamartine</td>\n      <td>NaN</td>\n      <td>6085</td>\n      <td>NaN</td>\n      <td>NaN</td>\n      <td>chpayet</td>\n      <td>20200310095602</td>\n      <td>chpayet</td>\n      <td>20200727123911</td>\n      <td>{3D9735F1-2B61-422C-81FB-CD590F48C046}</td>\n      <td>NaN</td>\n      <td>6.984938</td>\n      <td>43.574421</td>\n    </tr>\n  </tbody>\n</table>\n</div>"
     },
     "metadata": {},
     "execution_count": 35
    }
   ],
   "source": [
    "dataPapier[dataPapier.marque == \" \"]"
   ]
  },
  {
   "cell_type": "markdown",
   "metadata": {},
   "source": [
    "Tous les collecteurs ont des adresses différentes"
   ]
  },
  {
   "cell_type": "code",
   "execution_count": 36,
   "metadata": {
    "scrolled": true
   },
   "outputs": [
    {
     "output_type": "execute_result",
     "data": {
      "text/plain": [
       "Rue cite des jardins               1\n",
       "21 avenue thiers                   1\n",
       "10 boulevard d olivetum            1\n",
       "89 avenue du moulin de la croix    1\n",
       "Allée Henri barbara                1\n",
       "Avenue maréchal juin               1\n",
       "Boulevard Jacques monod            1\n",
       "Parking jean giono                 1\n",
       "Rue Marcel pagnol                  1\n",
       "Chemin de la plaine                1\n",
       "Place benidorm                     1\n",
       "24 avenue de la pinede             1\n",
       "763 chemin des cabrieres           1\n",
       "Avenue Georges Pompidou            1\n",
       "Chemin de la grande bastide        1\n",
       "Chemin de campane                  1\n",
       "Déchèterie tourrades               1\n",
       "Chemin de coudouron                1\n",
       "Chemin du refuge                   1\n",
       "Cimetiere du claus                 1\n",
       "Chemin de faissole                 1\n",
       "Rue des orangers                   1\n",
       "2 chemin des vallons               1\n",
       "Rue saint jacques                  1\n",
       "Boulevard de l esterel             1\n",
       "Avenue font roubert                1\n",
       "Chemin de font de currault         1\n",
       "Avenue lamartine                   1\n",
       "615 avenue Maurice donat           1\n",
       "559 avenue de tournamy             1\n",
       "Avenue du repos                    1\n",
       "1332 avenue notre dame de vie      1\n",
       "7 chemin de l aubarede             1\n",
       "6 avenue Maurice jean pierre       1\n",
       "Name: adresse, dtype: int64"
      ]
     },
     "metadata": {},
     "execution_count": 36
    }
   ],
   "source": [
    "dataPapier.adresse.value_counts()"
   ]
  },
  {
   "cell_type": "markdown",
   "metadata": {},
   "source": [
    "Ces collecteurs sont principalement répartis entre Mougins et Le Cannet"
   ]
  },
  {
   "cell_type": "code",
   "execution_count": 37,
   "metadata": {},
   "outputs": [
    {
     "output_type": "execute_result",
     "data": {
      "text/plain": [
       "6085    17\n",
       "6030    16\n",
       "6029     1\n",
       "Name: code_insee, dtype: int64"
      ]
     },
     "metadata": {},
     "execution_count": 37
    }
   ],
   "source": [
    "dataPapier.code_insee.value_counts()"
   ]
  },
  {
   "cell_type": "markdown",
   "metadata": {},
   "source": [
    "1 observation est indiquée"
   ]
  },
  {
   "cell_type": "code",
   "execution_count": 38,
   "metadata": {
    "scrolled": true
   },
   "outputs": [
    {
     "output_type": "execute_result",
     "data": {
      "text/plain": [
       "    objectid  id              type volume  quantite marque  date_instal  \\\n",
       "21      2401 NaN  Colonne aérienne   4 m3         1                 NaN   \n",
       "\n",
       "                     adresse adresse_comp  code_insee   observations  \\\n",
       "21  615 avenue Maurice donat          NaN        6085  Mougin school   \n",
       "\n",
       "    accessibilite creation   date_creation modification  date_modification  \\\n",
       "21            NaN  chpayet  20200514084135      chpayet     20200727113503   \n",
       "\n",
       "                                  globalid  etat        _x         _y  \n",
       "21  {0164BDF5-1283-4BF9-9530-C10713C113F9}   NaN  7.014427  43.612484  "
      ],
      "text/html": "<div>\n<style scoped>\n    .dataframe tbody tr th:only-of-type {\n        vertical-align: middle;\n    }\n\n    .dataframe tbody tr th {\n        vertical-align: top;\n    }\n\n    .dataframe thead th {\n        text-align: right;\n    }\n</style>\n<table border=\"1\" class=\"dataframe\">\n  <thead>\n    <tr style=\"text-align: right;\">\n      <th></th>\n      <th>objectid</th>\n      <th>id</th>\n      <th>type</th>\n      <th>volume</th>\n      <th>quantite</th>\n      <th>marque</th>\n      <th>date_instal</th>\n      <th>adresse</th>\n      <th>adresse_comp</th>\n      <th>code_insee</th>\n      <th>observations</th>\n      <th>accessibilite</th>\n      <th>creation</th>\n      <th>date_creation</th>\n      <th>modification</th>\n      <th>date_modification</th>\n      <th>globalid</th>\n      <th>etat</th>\n      <th>_x</th>\n      <th>_y</th>\n    </tr>\n  </thead>\n  <tbody>\n    <tr>\n      <th>21</th>\n      <td>2401</td>\n      <td>NaN</td>\n      <td>Colonne aérienne</td>\n      <td>4 m3</td>\n      <td>1</td>\n      <td></td>\n      <td>NaN</td>\n      <td>615 avenue Maurice donat</td>\n      <td>NaN</td>\n      <td>6085</td>\n      <td>Mougin school</td>\n      <td>NaN</td>\n      <td>chpayet</td>\n      <td>20200514084135</td>\n      <td>chpayet</td>\n      <td>20200727113503</td>\n      <td>{0164BDF5-1283-4BF9-9530-C10713C113F9}</td>\n      <td>NaN</td>\n      <td>7.014427</td>\n      <td>43.612484</td>\n    </tr>\n  </tbody>\n</table>\n</div>"
     },
     "metadata": {},
     "execution_count": 38
    }
   ],
   "source": [
    "dataPapier[dataPapier.observations.notna()]"
   ]
  },
  {
   "cell_type": "markdown",
   "metadata": {},
   "source": [
    "## Jeu de données des des collecteurs d'emballages et papiers\n",
    "### Aperçu du fichier\n",
    "Il contient 20 variables que l'on pourra étudier :\n",
    "* objectid : Identifiant de la déchèterie\n",
    "* id :\n",
    "* type : type de collecteur\n",
    "* volume : volume du collecteur (en L ou en m<sup>3</sup>)\n",
    "* quantite : quantité de collecteurs\n",
    "* marque : marque du collecteur\n",
    "* date_instal : date d'installation du collecteur\n",
    "* adresse : adresse du collecteur\n",
    "* adresse_comp : complément de l'adresse du collecteur\n",
    "* code_insee : code INSEE de la ville (différent du code départemental)\n",
    "* observations : observations éventuelles\n",
    "* accessibilite :\n",
    "* creation : pseudo de la personne qui a enregistré le collecteur dans la BDD\n",
    "* date_creation : date et temps de l'enregistrement du collecteur dans la BDD\n",
    "* modification : peudo de la personne qui a modifié en dernier le collecteur dans la BDD\n",
    "* date_modification : date et temps de la dernière modification du collecteur dans la BDD\n",
    "* globalid : GUID (Globally Unique IDentifier)\n",
    "* etat : \n",
    "* _x : longitude du collecteur\n",
    "* _y : latitude du collecteur"
   ]
  },
  {
   "cell_type": "code",
   "execution_count": 39,
   "metadata": {
    "scrolled": true
   },
   "outputs": [
    {
     "output_type": "execute_result",
     "data": {
      "text/plain": [
       "   objectid          id                       type volume  quantite    marque  \\\n",
       "0      1202  6601902190  Bac aérien sans cache bac  660 L         1             \n",
       "1      1203  6601902012  Bac aérien sans cache bac  660 L         1  Contenur   \n",
       "2      1204  6601901994  Bac aérien sans cache bac  660 L         1  Contenur   \n",
       "3      1205  6601901971  Bac aérien sans cache bac                1  Contenur   \n",
       "4      1206  6601902153  Bac aérien sans cache bac  660 L         1  Contenur   \n",
       "\n",
       "   date_instal                                           adresse adresse_comp  \\\n",
       "0          NaN                                          Gare tsm          NaN   \n",
       "1          NaN                                   Prince des iles          NaN   \n",
       "2          NaN          Eglise trottoir château avenue de lerins          NaN   \n",
       "3          NaN  Avenue de lerins angle traverse magasin souvenir          NaN   \n",
       "4          NaN               Avenue montrer résidence aquarella           NaN   \n",
       "\n",
       "   code_insee observations  accessibilite creation   date_creation  \\\n",
       "0      6138.0          NaN            NaN  chpayet  20191204083647   \n",
       "1      6138.0          NaN            NaN  chpayet  20191204084515   \n",
       "2      6138.0          NaN            NaN  chpayet  20191204085152   \n",
       "3      6138.0          NaN            NaN  chpayet  20191204085827   \n",
       "4      6138.0          NaN            NaN  chpayet  20191204090411   \n",
       "\n",
       "  modification  date_modification                                globalid  \\\n",
       "0      chpayet     20191204083647  {0BF5EDFF-B6EC-4A9B-9A85-D5C43F338FFF}   \n",
       "1      chpayet     20191204084515  {CBC5605B-2FC8-4F3F-BC2D-FF846415E9D7}   \n",
       "2      chpayet     20191204085152  {EA97EB92-2BC7-4B8C-93A4-3DD0C6860CD5}   \n",
       "3      chpayet     20191204085827  {4A1D509F-70AF-476A-9436-9A0BDC2B9903}   \n",
       "4      chpayet     20191204090411  {6F6BE0FD-DB47-4034-8D38-2193ABE495AA}   \n",
       "\n",
       "   etat        _x         _y  \n",
       "0   NaN  6.936994  43.513302  \n",
       "1   NaN  6.937348  43.509136  \n",
       "2   NaN  6.938404  43.508076  \n",
       "3   NaN  6.940569  43.507717  \n",
       "4   NaN  6.940699  43.507584  "
      ],
      "text/html": "<div>\n<style scoped>\n    .dataframe tbody tr th:only-of-type {\n        vertical-align: middle;\n    }\n\n    .dataframe tbody tr th {\n        vertical-align: top;\n    }\n\n    .dataframe thead th {\n        text-align: right;\n    }\n</style>\n<table border=\"1\" class=\"dataframe\">\n  <thead>\n    <tr style=\"text-align: right;\">\n      <th></th>\n      <th>objectid</th>\n      <th>id</th>\n      <th>type</th>\n      <th>volume</th>\n      <th>quantite</th>\n      <th>marque</th>\n      <th>date_instal</th>\n      <th>adresse</th>\n      <th>adresse_comp</th>\n      <th>code_insee</th>\n      <th>observations</th>\n      <th>accessibilite</th>\n      <th>creation</th>\n      <th>date_creation</th>\n      <th>modification</th>\n      <th>date_modification</th>\n      <th>globalid</th>\n      <th>etat</th>\n      <th>_x</th>\n      <th>_y</th>\n    </tr>\n  </thead>\n  <tbody>\n    <tr>\n      <th>0</th>\n      <td>1202</td>\n      <td>6601902190</td>\n      <td>Bac aérien sans cache bac</td>\n      <td>660 L</td>\n      <td>1</td>\n      <td></td>\n      <td>NaN</td>\n      <td>Gare tsm</td>\n      <td>NaN</td>\n      <td>6138.0</td>\n      <td>NaN</td>\n      <td>NaN</td>\n      <td>chpayet</td>\n      <td>20191204083647</td>\n      <td>chpayet</td>\n      <td>20191204083647</td>\n      <td>{0BF5EDFF-B6EC-4A9B-9A85-D5C43F338FFF}</td>\n      <td>NaN</td>\n      <td>6.936994</td>\n      <td>43.513302</td>\n    </tr>\n    <tr>\n      <th>1</th>\n      <td>1203</td>\n      <td>6601902012</td>\n      <td>Bac aérien sans cache bac</td>\n      <td>660 L</td>\n      <td>1</td>\n      <td>Contenur</td>\n      <td>NaN</td>\n      <td>Prince des iles</td>\n      <td>NaN</td>\n      <td>6138.0</td>\n      <td>NaN</td>\n      <td>NaN</td>\n      <td>chpayet</td>\n      <td>20191204084515</td>\n      <td>chpayet</td>\n      <td>20191204084515</td>\n      <td>{CBC5605B-2FC8-4F3F-BC2D-FF846415E9D7}</td>\n      <td>NaN</td>\n      <td>6.937348</td>\n      <td>43.509136</td>\n    </tr>\n    <tr>\n      <th>2</th>\n      <td>1204</td>\n      <td>6601901994</td>\n      <td>Bac aérien sans cache bac</td>\n      <td>660 L</td>\n      <td>1</td>\n      <td>Contenur</td>\n      <td>NaN</td>\n      <td>Eglise trottoir château avenue de lerins</td>\n      <td>NaN</td>\n      <td>6138.0</td>\n      <td>NaN</td>\n      <td>NaN</td>\n      <td>chpayet</td>\n      <td>20191204085152</td>\n      <td>chpayet</td>\n      <td>20191204085152</td>\n      <td>{EA97EB92-2BC7-4B8C-93A4-3DD0C6860CD5}</td>\n      <td>NaN</td>\n      <td>6.938404</td>\n      <td>43.508076</td>\n    </tr>\n    <tr>\n      <th>3</th>\n      <td>1205</td>\n      <td>6601901971</td>\n      <td>Bac aérien sans cache bac</td>\n      <td></td>\n      <td>1</td>\n      <td>Contenur</td>\n      <td>NaN</td>\n      <td>Avenue de lerins angle traverse magasin souvenir</td>\n      <td>NaN</td>\n      <td>6138.0</td>\n      <td>NaN</td>\n      <td>NaN</td>\n      <td>chpayet</td>\n      <td>20191204085827</td>\n      <td>chpayet</td>\n      <td>20191204085827</td>\n      <td>{4A1D509F-70AF-476A-9436-9A0BDC2B9903}</td>\n      <td>NaN</td>\n      <td>6.940569</td>\n      <td>43.507717</td>\n    </tr>\n    <tr>\n      <th>4</th>\n      <td>1206</td>\n      <td>6601902153</td>\n      <td>Bac aérien sans cache bac</td>\n      <td>660 L</td>\n      <td>1</td>\n      <td>Contenur</td>\n      <td>NaN</td>\n      <td>Avenue montrer résidence aquarella</td>\n      <td>NaN</td>\n      <td>6138.0</td>\n      <td>NaN</td>\n      <td>NaN</td>\n      <td>chpayet</td>\n      <td>20191204090411</td>\n      <td>chpayet</td>\n      <td>20191204090411</td>\n      <td>{6F6BE0FD-DB47-4034-8D38-2193ABE495AA}</td>\n      <td>NaN</td>\n      <td>6.940699</td>\n      <td>43.507584</td>\n    </tr>\n  </tbody>\n</table>\n</div>"
     },
     "metadata": {},
     "execution_count": 39
    }
   ],
   "source": [
    "dataTri.head()"
   ]
  },
  {
   "cell_type": "markdown",
   "metadata": {},
   "source": [
    "### Dimension du jeu de données"
   ]
  },
  {
   "cell_type": "code",
   "execution_count": 40,
   "metadata": {},
   "outputs": [
    {
     "output_type": "stream",
     "name": "stdout",
     "text": [
      "Le jeu de données recense 239 collecteurs avec 20 variables\n"
     ]
    }
   ],
   "source": [
    " print(\"Le jeu de données recense\", dataTri.shape[0], \"collecteurs avec\", dataTri.shape[1], \"variables\")"
   ]
  },
  {
   "cell_type": "markdown",
   "metadata": {},
   "source": [
    "### Valeurs manquantes\n",
    "Le jeu de données n'est pas complet\n",
    "\n",
    "Aucun des collecteurs ne possède de valeur pour date_instal, accessibilite et etat\n",
    "\n",
    "La plupart des collecteurs n'a pas d'id ni de complément d'adresse, ni d'observation (ce qui n'est pas gênant)\n",
    "\n",
    "Il manque un code INSEE (06138 pour Avenue de la côte d azur à Théoule-sur-Mer) et un nom de marque\n",
    "\n",
    "D'autres manques sont précisés dans la partie Notes générales"
   ]
  },
  {
   "cell_type": "code",
   "execution_count": 41,
   "metadata": {
    "scrolled": true
   },
   "outputs": [
    {
     "output_type": "execute_result",
     "data": {
      "text/plain": [
       "objectid               0\n",
       "id                   191\n",
       "type                   0\n",
       "volume                 0\n",
       "quantite               0\n",
       "marque                 1\n",
       "date_instal          239\n",
       "adresse                0\n",
       "adresse_comp         219\n",
       "code_insee             1\n",
       "observations         237\n",
       "accessibilite        239\n",
       "creation               0\n",
       "date_creation          0\n",
       "modification           0\n",
       "date_modification      0\n",
       "globalid               0\n",
       "etat                 239\n",
       "_x                     0\n",
       "_y                     0\n",
       "dtype: int64"
      ]
     },
     "metadata": {},
     "execution_count": 41
    }
   ],
   "source": [
    "dataTri.isna().sum()"
   ]
  },
  {
   "cell_type": "code",
   "execution_count": 42,
   "metadata": {
    "scrolled": true
   },
   "outputs": [
    {
     "output_type": "execute_result",
     "data": {
      "text/plain": [
       "    objectid   id              type volume  quantite marque  date_instal  \\\n",
       "41      1619  NaN  Colonne aérienne   5 m3         2                 NaN   \n",
       "\n",
       "                     adresse     adresse_comp  code_insee observations  \\\n",
       "41  Avenue de la côte d azur  A côté du snack         NaN          NaN   \n",
       "\n",
       "    accessibilite creation   date_creation modification  date_modification  \\\n",
       "41            NaN  chpayet  20191206104325      chpayet     20191206104325   \n",
       "\n",
       "                                  globalid  etat        _x         _y  \n",
       "41  {4CFBB363-B51A-47F8-9DA6-4B71D642A26E}   NaN  6.945003  43.493664  "
      ],
      "text/html": "<div>\n<style scoped>\n    .dataframe tbody tr th:only-of-type {\n        vertical-align: middle;\n    }\n\n    .dataframe tbody tr th {\n        vertical-align: top;\n    }\n\n    .dataframe thead th {\n        text-align: right;\n    }\n</style>\n<table border=\"1\" class=\"dataframe\">\n  <thead>\n    <tr style=\"text-align: right;\">\n      <th></th>\n      <th>objectid</th>\n      <th>id</th>\n      <th>type</th>\n      <th>volume</th>\n      <th>quantite</th>\n      <th>marque</th>\n      <th>date_instal</th>\n      <th>adresse</th>\n      <th>adresse_comp</th>\n      <th>code_insee</th>\n      <th>observations</th>\n      <th>accessibilite</th>\n      <th>creation</th>\n      <th>date_creation</th>\n      <th>modification</th>\n      <th>date_modification</th>\n      <th>globalid</th>\n      <th>etat</th>\n      <th>_x</th>\n      <th>_y</th>\n    </tr>\n  </thead>\n  <tbody>\n    <tr>\n      <th>41</th>\n      <td>1619</td>\n      <td>NaN</td>\n      <td>Colonne aérienne</td>\n      <td>5 m3</td>\n      <td>2</td>\n      <td></td>\n      <td>NaN</td>\n      <td>Avenue de la côte d azur</td>\n      <td>A côté du snack</td>\n      <td>NaN</td>\n      <td>NaN</td>\n      <td>NaN</td>\n      <td>chpayet</td>\n      <td>20191206104325</td>\n      <td>chpayet</td>\n      <td>20191206104325</td>\n      <td>{4CFBB363-B51A-47F8-9DA6-4B71D642A26E}</td>\n      <td>NaN</td>\n      <td>6.945003</td>\n      <td>43.493664</td>\n    </tr>\n  </tbody>\n</table>\n</div>"
     },
     "metadata": {},
     "execution_count": 42
    }
   ],
   "source": [
    "dataTri[dataTri.code_insee.isna()]"
   ]
  },
  {
   "cell_type": "code",
   "execution_count": 43,
   "metadata": {},
   "outputs": [
    {
     "output_type": "execute_result",
     "data": {
      "text/plain": [
       "    objectid   id                       type volume  quantite marque  \\\n",
       "71      2805  NaN  Bac aérien avec cache bac  660 L         1    NaN   \n",
       "\n",
       "    date_instal                adresse adresse_comp  code_insee observations  \\\n",
       "71          NaN  Rue des hautes roches          NaN      6079.0          NaN   \n",
       "\n",
       "    accessibilite creation   date_creation modification  date_modification  \\\n",
       "71            NaN  chpayet  20200107144013      chpayet     20200107144013   \n",
       "\n",
       "                                  globalid  etat       _x        _y  \n",
       "71  {272DED53-87E1-4E65-9673-0808E3C566CD}   NaN  6.93992  43.52433  "
      ],
      "text/html": "<div>\n<style scoped>\n    .dataframe tbody tr th:only-of-type {\n        vertical-align: middle;\n    }\n\n    .dataframe tbody tr th {\n        vertical-align: top;\n    }\n\n    .dataframe thead th {\n        text-align: right;\n    }\n</style>\n<table border=\"1\" class=\"dataframe\">\n  <thead>\n    <tr style=\"text-align: right;\">\n      <th></th>\n      <th>objectid</th>\n      <th>id</th>\n      <th>type</th>\n      <th>volume</th>\n      <th>quantite</th>\n      <th>marque</th>\n      <th>date_instal</th>\n      <th>adresse</th>\n      <th>adresse_comp</th>\n      <th>code_insee</th>\n      <th>observations</th>\n      <th>accessibilite</th>\n      <th>creation</th>\n      <th>date_creation</th>\n      <th>modification</th>\n      <th>date_modification</th>\n      <th>globalid</th>\n      <th>etat</th>\n      <th>_x</th>\n      <th>_y</th>\n    </tr>\n  </thead>\n  <tbody>\n    <tr>\n      <th>71</th>\n      <td>2805</td>\n      <td>NaN</td>\n      <td>Bac aérien avec cache bac</td>\n      <td>660 L</td>\n      <td>1</td>\n      <td>NaN</td>\n      <td>NaN</td>\n      <td>Rue des hautes roches</td>\n      <td>NaN</td>\n      <td>6079.0</td>\n      <td>NaN</td>\n      <td>NaN</td>\n      <td>chpayet</td>\n      <td>20200107144013</td>\n      <td>chpayet</td>\n      <td>20200107144013</td>\n      <td>{272DED53-87E1-4E65-9673-0808E3C566CD}</td>\n      <td>NaN</td>\n      <td>6.93992</td>\n      <td>43.52433</td>\n    </tr>\n  </tbody>\n</table>\n</div>"
     },
     "metadata": {},
     "execution_count": 43
    }
   ],
   "source": [
    "dataTri[dataTri.marque.isna()]"
   ]
  },
  {
   "cell_type": "markdown",
   "metadata": {},
   "source": [
    "### Décompte des doublons"
   ]
  },
  {
   "cell_type": "code",
   "execution_count": 44,
   "metadata": {},
   "outputs": [
    {
     "output_type": "execute_result",
     "data": {
      "text/plain": [
       "0"
      ]
     },
     "metadata": {},
     "execution_count": 44
    }
   ],
   "source": [
    "dataTri.duplicated().sum()"
   ]
  },
  {
   "cell_type": "markdown",
   "metadata": {},
   "source": [
    "### Notes générales"
   ]
  },
  {
   "cell_type": "markdown",
   "metadata": {},
   "source": [
    "Tous les type de collecteur sont précisés"
   ]
  },
  {
   "cell_type": "code",
   "execution_count": 45,
   "metadata": {
    "scrolled": true
   },
   "outputs": [
    {
     "output_type": "execute_result",
     "data": {
      "text/plain": [
       "Bac aérien sans cache bac    105\n",
       "Bac aérien avec cache bac     47\n",
       "PAV cuve enterrée             45\n",
       "Colonne aérienne              25\n",
       "PAV enterré ascenseur         15\n",
       "PAV cuve compactrice           2\n",
       "Name: type, dtype: int64"
      ]
     },
     "metadata": {},
     "execution_count": 45
    }
   ],
   "source": [
    "dataTri.type.value_counts()"
   ]
  },
  {
   "cell_type": "markdown",
   "metadata": {},
   "source": [
    "4 collecteurs n'ont pas le volume précisé (il est peut-être possible de retrouver le volume par comparaison des photographies)"
   ]
  },
  {
   "cell_type": "code",
   "execution_count": 46,
   "metadata": {
    "scrolled": true
   },
   "outputs": [
    {
     "output_type": "execute_result",
     "data": {
      "text/plain": [
       "660 L    124\n",
       "3 m3      38\n",
       "4 m3      22\n",
       "2 m3      20\n",
       "340 L     14\n",
       "750 L      8\n",
       "5 m3       5\n",
       "240 L      4\n",
       "           4\n",
       "Name: volume, dtype: int64"
      ]
     },
     "metadata": {},
     "execution_count": 46
    }
   ],
   "source": [
    "dataTri.volume.value_counts()"
   ]
  },
  {
   "cell_type": "code",
   "execution_count": 47,
   "metadata": {
    "scrolled": true
   },
   "outputs": [
    {
     "output_type": "execute_result",
     "data": {
      "text/plain": [
       "    objectid          id                       type volume  quantite  \\\n",
       "3       1205  6601901971  Bac aérien sans cache bac                1   \n",
       "11      1601  6601902149  Bac aérien sans cache bac                1   \n",
       "28      1606         NaN           Colonne aérienne                1   \n",
       "80      3210         NaN           Colonne aérienne                1   \n",
       "\n",
       "            marque  date_instal  \\\n",
       "3         Contenur          NaN   \n",
       "11        Contenur          NaN   \n",
       "28  Plastic Omnium          NaN   \n",
       "80  Plastic Omnium          NaN   \n",
       "\n",
       "                                             adresse adresse_comp  code_insee  \\\n",
       "3   Avenue de lerins angle traverse magasin souvenir          NaN      6138.0   \n",
       "11                                   Rue du sanglier          NaN      6138.0   \n",
       "28                                 37 avenue miramar          NaN      6138.0   \n",
       "80                                   Rue Yves brayer          NaN      6079.0   \n",
       "\n",
       "   observations  accessibilite creation   date_creation modification  \\\n",
       "3           NaN            NaN  chpayet  20191204085827      chpayet   \n",
       "11          NaN            NaN  chpayet  20191206083601      chpayet   \n",
       "28          NaN            NaN  chpayet  20191206090811      chpayet   \n",
       "80          NaN            NaN  chpayet  20200109140102      chpayet   \n",
       "\n",
       "    date_modification                                globalid  etat        _x  \\\n",
       "3      20191204085827  {4A1D509F-70AF-476A-9436-9A0BDC2B9903}   NaN  6.940569   \n",
       "11     20191206083601  {18A21742-B694-419A-B1E5-878C3468DB18}   NaN  6.940382   \n",
       "28     20191206090811  {61E9863A-23C4-4EA2-A353-BB3876F9A790}   NaN  6.941048   \n",
       "80     20200109140241  {EBDD8B98-DEA4-4CB0-97B6-94FA1AC06134}   NaN  6.919230   \n",
       "\n",
       "           _y  \n",
       "3   43.507717  \n",
       "11  43.505402  \n",
       "28  43.486649  \n",
       "80  43.524628  "
      ],
      "text/html": "<div>\n<style scoped>\n    .dataframe tbody tr th:only-of-type {\n        vertical-align: middle;\n    }\n\n    .dataframe tbody tr th {\n        vertical-align: top;\n    }\n\n    .dataframe thead th {\n        text-align: right;\n    }\n</style>\n<table border=\"1\" class=\"dataframe\">\n  <thead>\n    <tr style=\"text-align: right;\">\n      <th></th>\n      <th>objectid</th>\n      <th>id</th>\n      <th>type</th>\n      <th>volume</th>\n      <th>quantite</th>\n      <th>marque</th>\n      <th>date_instal</th>\n      <th>adresse</th>\n      <th>adresse_comp</th>\n      <th>code_insee</th>\n      <th>observations</th>\n      <th>accessibilite</th>\n      <th>creation</th>\n      <th>date_creation</th>\n      <th>modification</th>\n      <th>date_modification</th>\n      <th>globalid</th>\n      <th>etat</th>\n      <th>_x</th>\n      <th>_y</th>\n    </tr>\n  </thead>\n  <tbody>\n    <tr>\n      <th>3</th>\n      <td>1205</td>\n      <td>6601901971</td>\n      <td>Bac aérien sans cache bac</td>\n      <td></td>\n      <td>1</td>\n      <td>Contenur</td>\n      <td>NaN</td>\n      <td>Avenue de lerins angle traverse magasin souvenir</td>\n      <td>NaN</td>\n      <td>6138.0</td>\n      <td>NaN</td>\n      <td>NaN</td>\n      <td>chpayet</td>\n      <td>20191204085827</td>\n      <td>chpayet</td>\n      <td>20191204085827</td>\n      <td>{4A1D509F-70AF-476A-9436-9A0BDC2B9903}</td>\n      <td>NaN</td>\n      <td>6.940569</td>\n      <td>43.507717</td>\n    </tr>\n    <tr>\n      <th>11</th>\n      <td>1601</td>\n      <td>6601902149</td>\n      <td>Bac aérien sans cache bac</td>\n      <td></td>\n      <td>1</td>\n      <td>Contenur</td>\n      <td>NaN</td>\n      <td>Rue du sanglier</td>\n      <td>NaN</td>\n      <td>6138.0</td>\n      <td>NaN</td>\n      <td>NaN</td>\n      <td>chpayet</td>\n      <td>20191206083601</td>\n      <td>chpayet</td>\n      <td>20191206083601</td>\n      <td>{18A21742-B694-419A-B1E5-878C3468DB18}</td>\n      <td>NaN</td>\n      <td>6.940382</td>\n      <td>43.505402</td>\n    </tr>\n    <tr>\n      <th>28</th>\n      <td>1606</td>\n      <td>NaN</td>\n      <td>Colonne aérienne</td>\n      <td></td>\n      <td>1</td>\n      <td>Plastic Omnium</td>\n      <td>NaN</td>\n      <td>37 avenue miramar</td>\n      <td>NaN</td>\n      <td>6138.0</td>\n      <td>NaN</td>\n      <td>NaN</td>\n      <td>chpayet</td>\n      <td>20191206090811</td>\n      <td>chpayet</td>\n      <td>20191206090811</td>\n      <td>{61E9863A-23C4-4EA2-A353-BB3876F9A790}</td>\n      <td>NaN</td>\n      <td>6.941048</td>\n      <td>43.486649</td>\n    </tr>\n    <tr>\n      <th>80</th>\n      <td>3210</td>\n      <td>NaN</td>\n      <td>Colonne aérienne</td>\n      <td></td>\n      <td>1</td>\n      <td>Plastic Omnium</td>\n      <td>NaN</td>\n      <td>Rue Yves brayer</td>\n      <td>NaN</td>\n      <td>6079.0</td>\n      <td>NaN</td>\n      <td>NaN</td>\n      <td>chpayet</td>\n      <td>20200109140102</td>\n      <td>chpayet</td>\n      <td>20200109140241</td>\n      <td>{EBDD8B98-DEA4-4CB0-97B6-94FA1AC06134}</td>\n      <td>NaN</td>\n      <td>6.919230</td>\n      <td>43.524628</td>\n    </tr>\n  </tbody>\n</table>\n</div>"
     },
     "metadata": {},
     "execution_count": 47
    }
   ],
   "source": [
    "dataTri[dataTri.volume == \" \"]"
   ]
  },
  {
   "cell_type": "markdown",
   "metadata": {},
   "source": [
    "42 collecteurs ont la marque \" \" (soit 42 sans marque à ajouter à celui détecté précédemment)"
   ]
  },
  {
   "source": [
    "dataTri.marque.value_counts()"
   ],
   "cell_type": "code",
   "metadata": {},
   "execution_count": 48,
   "outputs": [
    {
     "output_type": "execute_result",
     "data": {
      "text/plain": [
       "Contenur          151\n",
       "                   42\n",
       "Plastic Omnium     29\n",
       "Ecollect           14\n",
       "Citec               2\n",
       "Name: marque, dtype: int64"
      ]
     },
     "metadata": {},
     "execution_count": 48
    }
   ]
  },
  {
   "cell_type": "code",
   "execution_count": 49,
   "metadata": {
    "scrolled": true
   },
   "outputs": [
    {
     "output_type": "execute_result",
     "data": {
      "text/plain": [
       "     objectid          id                       type volume  quantite marque  \\\n",
       "0        1202  6601902190  Bac aérien sans cache bac  660 L         1          \n",
       "29       1607  6601902216  Bac aérien sans cache bac  660 L         1          \n",
       "41       1619         NaN           Colonne aérienne   5 m3         2          \n",
       "70       4808         NaN  Bac aérien avec cache bac  750 L         2          \n",
       "74       2806         NaN          PAV cuve enterrée   4 m3         1          \n",
       "76       3206         NaN          PAV cuve enterrée   4 m3         1          \n",
       "77       3207         NaN          PAV cuve enterrée   4 m3         1          \n",
       "82       3212         NaN          PAV cuve enterrée   4 m3         1          \n",
       "83       3213         NaN  Bac aérien sans cache bac  660 L         4          \n",
       "85       3605         NaN       PAV cuve compactrice   5 m3         1          \n",
       "86       3606         NaN       PAV cuve compactrice   5 m3         1          \n",
       "88       3608         NaN  Bac aérien sans cache bac  660 L         1          \n",
       "104      5213         NaN          PAV cuve enterrée   5 m3         1          \n",
       "114      6011         NaN          PAV cuve enterrée   3 m3         1          \n",
       "119      8009         NaN          PAV cuve enterrée   3 m3         1          \n",
       "121      6409         NaN          PAV cuve enterrée   3 m3         1          \n",
       "122      8010         NaN          PAV cuve enterrée   3 m3         1          \n",
       "130      6417         NaN  Bac aérien sans cache bac  660 L         1          \n",
       "136      6809         NaN           Colonne aérienne   3 m3         1          \n",
       "137      8011         NaN          PAV cuve enterrée   3 m3         1          \n",
       "138      7209         NaN          PAV cuve enterrée   2 m3         1          \n",
       "139      8809         NaN          PAV cuve enterrée   2 m3         1          \n",
       "144      8013         NaN          PAV cuve enterrée   3 m3         1          \n",
       "145      8810         NaN          PAV cuve enterrée   2 m3         1          \n",
       "147      8015         NaN  Bac aérien sans cache bac  660 L         1          \n",
       "148      8409         NaN          PAV cuve enterrée   3 m3         1          \n",
       "152      8812         NaN          PAV cuve enterrée   2 m3         1          \n",
       "159      8816         NaN          PAV cuve enterrée   2 m3         1          \n",
       "160      8817         NaN          PAV cuve enterrée   2 m3         1          \n",
       "162     12030         NaN      PAV enterré ascenseur   2 m3         1          \n",
       "178     10838         NaN          PAV cuve enterrée   2 m3         2          \n",
       "179     10839         NaN          PAV cuve enterrée   2 m3         1          \n",
       "181     10841         NaN          PAV cuve enterrée   2 m3         1          \n",
       "193     13630         NaN           Colonne aérienne   4 m3         2          \n",
       "204      9625         NaN          PAV cuve enterrée   2 m3         1          \n",
       "206      9626         NaN          PAV cuve enterrée   2 m3         1          \n",
       "208     12430         NaN          PAV cuve enterrée   2 m3         2          \n",
       "213      9629         NaN          PAV cuve enterrée   2 m3         1          \n",
       "223     14831         NaN          PAV cuve enterrée   4 m3         1          \n",
       "226     14834         NaN          PAV cuve enterrée   4 m3         1          \n",
       "235     16030         NaN  Bac aérien sans cache bac  660 L         1          \n",
       "236     16031         NaN  Bac aérien sans cache bac  660 L         1          \n",
       "\n",
       "     date_instal                             adresse         adresse_comp  \\\n",
       "0            NaN                            Gare tsm                  NaN   \n",
       "29           NaN                  37 avenue miramar                   NaN   \n",
       "41           NaN            Avenue de la côte d azur      A côté du snack   \n",
       "70           NaN                   Quai saint pierre                  NaN   \n",
       "74           NaN                  Parking jean aulas                  NaN   \n",
       "76           NaN                  Place de Provence                   NaN   \n",
       "77           NaN                  Place de Provence                   NaN   \n",
       "82           NaN               Avenue Robert schuman                  NaN   \n",
       "83           NaN              Avenue Robert Schuman                   NaN   \n",
       "85           NaN                     Rue Félix faure                  NaN   \n",
       "86           NaN                     Rue Félix faure                  NaN   \n",
       "88           NaN                   2 rue Louis blanc                  NaN   \n",
       "104          NaN            Square Frédéric mistral                   NaN   \n",
       "114          NaN                    31 rue de mimont                  NaN   \n",
       "119          NaN                    Rue amador lopez                  NaN   \n",
       "121          NaN        177 avenue de la république                   NaN   \n",
       "122          NaN                Chemin des rainettes                  NaN   \n",
       "130          NaN            102 boulevard du perrier                  NaN   \n",
       "136          NaN                  Allée de la marine                  NaN   \n",
       "137          NaN                 Chemin du caroubier                  NaN   \n",
       "138          NaN              Boulevard louis negrin                  NaN   \n",
       "139          NaN                  Avenue de la pinea                  NaN   \n",
       "144          NaN                Rue Alfred de musset                  NaN   \n",
       "145          NaN                       Route du golf                  NaN   \n",
       "147          NaN                 Chemin de l estelle                  NaN   \n",
       "148          NaN                Chemin de l horizon                   NaN   \n",
       "152          NaN           Rue saint Vincent de paul                  NaN   \n",
       "159          NaN     Avenue des anciens combattants   Gymnase costerousse   \n",
       "160          NaN                   Place des mimosas                  NaN   \n",
       "162          NaN  Boulevard chanoine Francis coeuret                  NaN   \n",
       "178          NaN         Place du souvenir français                   NaN   \n",
       "179          NaN             Rue du docteur escarras                  NaN   \n",
       "181          NaN                      Avenue bon pin                  NaN   \n",
       "193          NaN                     Rue Jean monnet                  NaN   \n",
       "204          NaN             Avenue janvier passero                   NaN   \n",
       "206          NaN         295 avenue janvier passero                   NaN   \n",
       "208          NaN            Avenue de la république        Parking public   \n",
       "213          NaN            26 avenue maréchal juin                   NaN   \n",
       "223          NaN              Boulevard esterel parc                  NaN   \n",
       "226          NaN                Avenue Marcel pagnol                  NaN   \n",
       "235          NaN               Impasse du tambourin                   NaN   \n",
       "236          NaN                Chemin des fougères                   NaN   \n",
       "\n",
       "     code_insee     observations  accessibilite creation   date_creation  \\\n",
       "0        6138.0              NaN            NaN  chpayet  20191204083647   \n",
       "29       6138.0              NaN            NaN  chpayet  20191206090918   \n",
       "41          NaN              NaN            NaN  chpayet  20191206104325   \n",
       "70       6029.0              NaN            NaN  chpayet  20200205103951   \n",
       "74       6079.0              NaN            NaN  chpayet  20200107144816   \n",
       "76       6079.0              NaN            NaN  chpayet  20200109133707   \n",
       "77       6079.0              NaN            NaN  chpayet  20200109133926   \n",
       "82       6079.0              NaN            NaN  chpayet  20200109142602   \n",
       "83       6079.0              NaN            NaN  chpayet  20200109143452   \n",
       "85       6029.0    Marque sidcon            NaN  chpayet  20200128085112   \n",
       "86       6029.0              NaN            NaN  chpayet  20200128085618   \n",
       "88       6029.0              NaN            NaN  chpayet  20200128090515   \n",
       "104      6029.0  Accès avec clé             NaN  chpayet  20200210094029   \n",
       "114      6029.0              NaN            NaN  chpayet  20200212085306   \n",
       "119      6029.0              NaN            NaN  chpayet  20200417075136   \n",
       "121      6029.0              NaN            NaN  chpayet  20200213084327   \n",
       "122      6029.0              NaN            NaN  chpayet  20200417080037   \n",
       "130      6030.0              NaN            NaN  chpayet  20200213103858   \n",
       "136      6079.0              NaN            NaN  chpayet  20200217142455   \n",
       "137      6029.0              NaN            NaN  chpayet  20200417080453   \n",
       "138      6029.0              NaN            NaN  chpayet  20200218144706   \n",
       "139      6079.0              NaN            NaN  chpayet  20200505075441   \n",
       "144      6029.0              NaN            NaN  chpayet  20200417084249   \n",
       "145      6079.0              NaN            NaN  chpayet  20200505081608   \n",
       "147      6030.0              NaN            NaN  chpayet  20200417110950   \n",
       "148      6085.0              NaN            NaN  chpayet  20200429102508   \n",
       "152      6079.0              NaN            NaN  chpayet  20200505094135   \n",
       "159      6079.0              NaN            NaN  chpayet  20200505100439   \n",
       "160      6079.0              NaN            NaN  chpayet  20200505103404   \n",
       "162      6029.0              NaN            NaN  chpayet  20200630115958   \n",
       "178      6079.0              NaN            NaN  chpayet  20200618132727   \n",
       "179      6079.0              NaN            NaN  chpayet  20200618133121   \n",
       "181      6079.0              NaN            NaN  chpayet  20200618134812   \n",
       "193      6079.0              NaN            NaN  chpayet  20200817085306   \n",
       "204      6079.0              NaN            NaN  chpayet  20200512092031   \n",
       "206      6079.0              NaN            NaN  chpayet  20200512093117   \n",
       "208      6079.0              NaN            NaN  chpayet  20200721130703   \n",
       "213      6029.0              NaN            NaN  chpayet  20200512125529   \n",
       "223      6079.0              NaN            NaN  chpayet  20200824122219   \n",
       "226      6079.0              NaN            NaN  chpayet  20200824134241   \n",
       "235      6079.0              NaN            NaN  chpayet  20200827084730   \n",
       "236      6079.0              NaN            NaN  chpayet  20200827090002   \n",
       "\n",
       "    modification  date_modification                                globalid  \\\n",
       "0        chpayet     20191204083647  {0BF5EDFF-B6EC-4A9B-9A85-D5C43F338FFF}   \n",
       "29       chpayet     20191206090918  {AEB57920-27D5-4511-ADDA-6FCC24C37686}   \n",
       "41       chpayet     20191206104325  {4CFBB363-B51A-47F8-9DA6-4B71D642A26E}   \n",
       "70       chpayet     20200205103951  {A5A02AA2-CAEC-446F-B4E3-4A094E9CE55B}   \n",
       "74       chpayet     20200107152043  {B8D9D8F9-FEEA-4B83-976B-497EC42AE4F6}   \n",
       "76       chpayet     20200109133707  {540FCCC3-A086-48D8-95D5-97AC2D0358B0}   \n",
       "77       chpayet     20200109133926  {929129BB-C398-4DDB-9A53-07833F0741B7}   \n",
       "82       chpayet     20200109142602  {A62EC4AC-9070-4909-B7A3-DDDA50CD0503}   \n",
       "83       chpayet     20200109143749  {D81CC18E-E65F-4816-A55D-ECFFFC075EE2}   \n",
       "85       chpayet     20200128085125  {D813424C-8239-47D1-BA9E-D17BA17869FB}   \n",
       "86       chpayet     20200128085618  {58705BD9-6456-4AA2-908B-9B91944F1574}   \n",
       "88       chpayet     20200128090515  {9B23ECFF-ED84-4934-9575-2CF97B67776B}   \n",
       "104      chpayet     20200210094029  {BD230893-813E-4599-BAC6-358F26475DA3}   \n",
       "114      chpayet     20200212085306  {F7366787-D473-40B8-9F81-75D52AC66FC7}   \n",
       "119      chpayet     20200417075136  {59F01BEB-498E-4B3A-8D75-9FEB5CD2D238}   \n",
       "121      chpayet     20200213084327  {FDED27DE-F229-48C7-9E2F-5D71056C2F05}   \n",
       "122      chpayet     20200417080037  {CD6D6053-E42F-4478-B41E-B8392A0A054C}   \n",
       "130      chpayet     20200213103858  {6691A044-8EF7-4F81-AFA7-D58F5AE7489B}   \n",
       "136      chpayet     20200217143036  {129BD8F5-DDFC-4E3C-8DF7-A35195CEE85E}   \n",
       "137      chpayet     20200417080453  {5035BC7B-492A-424B-9962-9266F1226E49}   \n",
       "138      chpayet     20200218144706  {D97C5FA5-8A65-48CF-A94C-489086E14FD5}   \n",
       "139      chpayet     20200505075441  {B7A52CF8-673F-4239-83B8-9C920B18C49B}   \n",
       "144      chpayet     20200417084249  {77F8D3F4-4849-4BDD-B02D-75BCE686BBF9}   \n",
       "145      chpayet     20200505081608  {BEBCB2A8-F401-4B24-8903-D0EF5C7095F0}   \n",
       "147      chpayet     20200417110950  {180334D9-CE69-41C2-BE86-B449827ED594}   \n",
       "148      chpayet     20200429102508  {241CABA8-7AA9-484B-B640-CD3760AB4405}   \n",
       "152      chpayet     20200505094135  {D817580E-0A79-4B70-BF1F-E22E0FEAF3E5}   \n",
       "159      chpayet     20200505100439  {4D129F98-05BF-45FC-A59E-61DCDFD2FC00}   \n",
       "160      chpayet     20200505103404  {51A53641-3B0F-4E24-B6CA-A3636371F60A}   \n",
       "162      chpayet     20200630115958  {66303D73-1B5E-4C59-A4C3-C67866EA94B8}   \n",
       "178      chpayet     20200618132727  {F8E6C190-4DF0-4FB8-AF8D-00C1B6BA1AE2}   \n",
       "179      chpayet     20200618133121  {D7F44F72-2A48-4A86-B151-FC9971D719AC}   \n",
       "181      chpayet     20200618134812  {BFA22C4E-4C99-476D-B6FD-40E47FA99928}   \n",
       "193      chpayet     20200817085306  {A61E0FC0-66A7-421E-A219-352C98C19735}   \n",
       "204      chpayet     20200512092031  {243B9DC7-9B56-4CD4-93CF-F739343EDAD5}   \n",
       "206      chpayet     20200512093117  {B757CD7E-4D62-4201-86D7-76CA8B9BCBCC}   \n",
       "208      chpayet     20200721130805  {ABF7EDE4-6DD2-4AFA-971C-B1166F6DF465}   \n",
       "213      chpayet     20200512125529  {98747488-AF0C-415A-9401-D0CA21B13D04}   \n",
       "223      chpayet     20200824122219  {67B11D05-45F2-483B-B5FA-0DB002043FA6}   \n",
       "226      chpayet     20200824134241  {C1955642-8C7F-4C46-9AED-6259D52EDF52}   \n",
       "235      chpayet     20200827084730  {361B4F57-A0B2-4004-BA17-8810375B931E}   \n",
       "236      chpayet     20200827090002  {42370979-1A59-4304-96DF-4A100A63E1E9}   \n",
       "\n",
       "     etat        _x         _y  \n",
       "0     NaN  6.936994  43.513302  \n",
       "29    NaN  6.941064  43.486656  \n",
       "41    NaN  6.945003  43.493664  \n",
       "70    NaN  7.012471  43.549255  \n",
       "74    NaN  6.940715  43.523430  \n",
       "76    NaN  6.927918  43.528706  \n",
       "77    NaN  6.927670  43.528378  \n",
       "82    NaN  6.924716  43.540428  \n",
       "83    NaN  6.917873  43.538963  \n",
       "85    NaN  7.015219  43.552151  \n",
       "86    NaN  7.014500  43.552090  \n",
       "88    NaN  7.013467  43.551582  \n",
       "104   NaN  7.007330  43.548889  \n",
       "114   NaN  7.022240  43.555428  \n",
       "119   NaN  6.963228  43.556072  \n",
       "121   NaN  7.020993  43.562805  \n",
       "122   NaN  6.963045  43.557186  \n",
       "130   NaN  6.988940  43.566536  \n",
       "136   NaN  6.940057  43.537712  \n",
       "137   NaN  6.962537  43.557564  \n",
       "138   NaN  6.976105  43.549763  \n",
       "139   NaN  6.945637  43.535511  \n",
       "144   NaN  6.966166  43.569683  \n",
       "145   NaN  6.937829  43.532169  \n",
       "147   NaN  6.997187  43.571163  \n",
       "148   NaN  6.994683  43.599747  \n",
       "152   NaN  6.938528  43.541245  \n",
       "159   NaN  6.941447  43.554680  \n",
       "160   NaN  6.937826  43.544334  \n",
       "162   NaN  7.037538  43.545086  \n",
       "178   NaN  6.937433  43.555164  \n",
       "179   NaN  6.938593  43.556293  \n",
       "181   NaN  6.939240  43.562771  \n",
       "193   NaN  6.916720  43.541203  \n",
       "204   NaN  6.938297  43.553978  \n",
       "206   NaN  6.938170  43.550667  \n",
       "208   NaN  6.933092  43.541439  \n",
       "213   NaN  7.033321  43.550426  \n",
       "223   NaN  6.933095  43.535786  \n",
       "226   NaN  6.942438  43.547234  \n",
       "235   NaN  6.931079  43.565300  \n",
       "236   NaN  6.930059  43.558243  "
      ],
      "text/html": "<div>\n<style scoped>\n    .dataframe tbody tr th:only-of-type {\n        vertical-align: middle;\n    }\n\n    .dataframe tbody tr th {\n        vertical-align: top;\n    }\n\n    .dataframe thead th {\n        text-align: right;\n    }\n</style>\n<table border=\"1\" class=\"dataframe\">\n  <thead>\n    <tr style=\"text-align: right;\">\n      <th></th>\n      <th>objectid</th>\n      <th>id</th>\n      <th>type</th>\n      <th>volume</th>\n      <th>quantite</th>\n      <th>marque</th>\n      <th>date_instal</th>\n      <th>adresse</th>\n      <th>adresse_comp</th>\n      <th>code_insee</th>\n      <th>observations</th>\n      <th>accessibilite</th>\n      <th>creation</th>\n      <th>date_creation</th>\n      <th>modification</th>\n      <th>date_modification</th>\n      <th>globalid</th>\n      <th>etat</th>\n      <th>_x</th>\n      <th>_y</th>\n    </tr>\n  </thead>\n  <tbody>\n    <tr>\n      <th>0</th>\n      <td>1202</td>\n      <td>6601902190</td>\n      <td>Bac aérien sans cache bac</td>\n      <td>660 L</td>\n      <td>1</td>\n      <td></td>\n      <td>NaN</td>\n      <td>Gare tsm</td>\n      <td>NaN</td>\n      <td>6138.0</td>\n      <td>NaN</td>\n      <td>NaN</td>\n      <td>chpayet</td>\n      <td>20191204083647</td>\n      <td>chpayet</td>\n      <td>20191204083647</td>\n      <td>{0BF5EDFF-B6EC-4A9B-9A85-D5C43F338FFF}</td>\n      <td>NaN</td>\n      <td>6.936994</td>\n      <td>43.513302</td>\n    </tr>\n    <tr>\n      <th>29</th>\n      <td>1607</td>\n      <td>6601902216</td>\n      <td>Bac aérien sans cache bac</td>\n      <td>660 L</td>\n      <td>1</td>\n      <td></td>\n      <td>NaN</td>\n      <td>37 avenue miramar</td>\n      <td>NaN</td>\n      <td>6138.0</td>\n      <td>NaN</td>\n      <td>NaN</td>\n      <td>chpayet</td>\n      <td>20191206090918</td>\n      <td>chpayet</td>\n      <td>20191206090918</td>\n      <td>{AEB57920-27D5-4511-ADDA-6FCC24C37686}</td>\n      <td>NaN</td>\n      <td>6.941064</td>\n      <td>43.486656</td>\n    </tr>\n    <tr>\n      <th>41</th>\n      <td>1619</td>\n      <td>NaN</td>\n      <td>Colonne aérienne</td>\n      <td>5 m3</td>\n      <td>2</td>\n      <td></td>\n      <td>NaN</td>\n      <td>Avenue de la côte d azur</td>\n      <td>A côté du snack</td>\n      <td>NaN</td>\n      <td>NaN</td>\n      <td>NaN</td>\n      <td>chpayet</td>\n      <td>20191206104325</td>\n      <td>chpayet</td>\n      <td>20191206104325</td>\n      <td>{4CFBB363-B51A-47F8-9DA6-4B71D642A26E}</td>\n      <td>NaN</td>\n      <td>6.945003</td>\n      <td>43.493664</td>\n    </tr>\n    <tr>\n      <th>70</th>\n      <td>4808</td>\n      <td>NaN</td>\n      <td>Bac aérien avec cache bac</td>\n      <td>750 L</td>\n      <td>2</td>\n      <td></td>\n      <td>NaN</td>\n      <td>Quai saint pierre</td>\n      <td>NaN</td>\n      <td>6029.0</td>\n      <td>NaN</td>\n      <td>NaN</td>\n      <td>chpayet</td>\n      <td>20200205103951</td>\n      <td>chpayet</td>\n      <td>20200205103951</td>\n      <td>{A5A02AA2-CAEC-446F-B4E3-4A094E9CE55B}</td>\n      <td>NaN</td>\n      <td>7.012471</td>\n      <td>43.549255</td>\n    </tr>\n    <tr>\n      <th>74</th>\n      <td>2806</td>\n      <td>NaN</td>\n      <td>PAV cuve enterrée</td>\n      <td>4 m3</td>\n      <td>1</td>\n      <td></td>\n      <td>NaN</td>\n      <td>Parking jean aulas</td>\n      <td>NaN</td>\n      <td>6079.0</td>\n      <td>NaN</td>\n      <td>NaN</td>\n      <td>chpayet</td>\n      <td>20200107144816</td>\n      <td>chpayet</td>\n      <td>20200107152043</td>\n      <td>{B8D9D8F9-FEEA-4B83-976B-497EC42AE4F6}</td>\n      <td>NaN</td>\n      <td>6.940715</td>\n      <td>43.523430</td>\n    </tr>\n    <tr>\n      <th>76</th>\n      <td>3206</td>\n      <td>NaN</td>\n      <td>PAV cuve enterrée</td>\n      <td>4 m3</td>\n      <td>1</td>\n      <td></td>\n      <td>NaN</td>\n      <td>Place de Provence</td>\n      <td>NaN</td>\n      <td>6079.0</td>\n      <td>NaN</td>\n      <td>NaN</td>\n      <td>chpayet</td>\n      <td>20200109133707</td>\n      <td>chpayet</td>\n      <td>20200109133707</td>\n      <td>{540FCCC3-A086-48D8-95D5-97AC2D0358B0}</td>\n      <td>NaN</td>\n      <td>6.927918</td>\n      <td>43.528706</td>\n    </tr>\n    <tr>\n      <th>77</th>\n      <td>3207</td>\n      <td>NaN</td>\n      <td>PAV cuve enterrée</td>\n      <td>4 m3</td>\n      <td>1</td>\n      <td></td>\n      <td>NaN</td>\n      <td>Place de Provence</td>\n      <td>NaN</td>\n      <td>6079.0</td>\n      <td>NaN</td>\n      <td>NaN</td>\n      <td>chpayet</td>\n      <td>20200109133926</td>\n      <td>chpayet</td>\n      <td>20200109133926</td>\n      <td>{929129BB-C398-4DDB-9A53-07833F0741B7}</td>\n      <td>NaN</td>\n      <td>6.927670</td>\n      <td>43.528378</td>\n    </tr>\n    <tr>\n      <th>82</th>\n      <td>3212</td>\n      <td>NaN</td>\n      <td>PAV cuve enterrée</td>\n      <td>4 m3</td>\n      <td>1</td>\n      <td></td>\n      <td>NaN</td>\n      <td>Avenue Robert schuman</td>\n      <td>NaN</td>\n      <td>6079.0</td>\n      <td>NaN</td>\n      <td>NaN</td>\n      <td>chpayet</td>\n      <td>20200109142602</td>\n      <td>chpayet</td>\n      <td>20200109142602</td>\n      <td>{A62EC4AC-9070-4909-B7A3-DDDA50CD0503}</td>\n      <td>NaN</td>\n      <td>6.924716</td>\n      <td>43.540428</td>\n    </tr>\n    <tr>\n      <th>83</th>\n      <td>3213</td>\n      <td>NaN</td>\n      <td>Bac aérien sans cache bac</td>\n      <td>660 L</td>\n      <td>4</td>\n      <td></td>\n      <td>NaN</td>\n      <td>Avenue Robert Schuman</td>\n      <td>NaN</td>\n      <td>6079.0</td>\n      <td>NaN</td>\n      <td>NaN</td>\n      <td>chpayet</td>\n      <td>20200109143452</td>\n      <td>chpayet</td>\n      <td>20200109143749</td>\n      <td>{D81CC18E-E65F-4816-A55D-ECFFFC075EE2}</td>\n      <td>NaN</td>\n      <td>6.917873</td>\n      <td>43.538963</td>\n    </tr>\n    <tr>\n      <th>85</th>\n      <td>3605</td>\n      <td>NaN</td>\n      <td>PAV cuve compactrice</td>\n      <td>5 m3</td>\n      <td>1</td>\n      <td></td>\n      <td>NaN</td>\n      <td>Rue Félix faure</td>\n      <td>NaN</td>\n      <td>6029.0</td>\n      <td>Marque sidcon</td>\n      <td>NaN</td>\n      <td>chpayet</td>\n      <td>20200128085112</td>\n      <td>chpayet</td>\n      <td>20200128085125</td>\n      <td>{D813424C-8239-47D1-BA9E-D17BA17869FB}</td>\n      <td>NaN</td>\n      <td>7.015219</td>\n      <td>43.552151</td>\n    </tr>\n    <tr>\n      <th>86</th>\n      <td>3606</td>\n      <td>NaN</td>\n      <td>PAV cuve compactrice</td>\n      <td>5 m3</td>\n      <td>1</td>\n      <td></td>\n      <td>NaN</td>\n      <td>Rue Félix faure</td>\n      <td>NaN</td>\n      <td>6029.0</td>\n      <td>NaN</td>\n      <td>NaN</td>\n      <td>chpayet</td>\n      <td>20200128085618</td>\n      <td>chpayet</td>\n      <td>20200128085618</td>\n      <td>{58705BD9-6456-4AA2-908B-9B91944F1574}</td>\n      <td>NaN</td>\n      <td>7.014500</td>\n      <td>43.552090</td>\n    </tr>\n    <tr>\n      <th>88</th>\n      <td>3608</td>\n      <td>NaN</td>\n      <td>Bac aérien sans cache bac</td>\n      <td>660 L</td>\n      <td>1</td>\n      <td></td>\n      <td>NaN</td>\n      <td>2 rue Louis blanc</td>\n      <td>NaN</td>\n      <td>6029.0</td>\n      <td>NaN</td>\n      <td>NaN</td>\n      <td>chpayet</td>\n      <td>20200128090515</td>\n      <td>chpayet</td>\n      <td>20200128090515</td>\n      <td>{9B23ECFF-ED84-4934-9575-2CF97B67776B}</td>\n      <td>NaN</td>\n      <td>7.013467</td>\n      <td>43.551582</td>\n    </tr>\n    <tr>\n      <th>104</th>\n      <td>5213</td>\n      <td>NaN</td>\n      <td>PAV cuve enterrée</td>\n      <td>5 m3</td>\n      <td>1</td>\n      <td></td>\n      <td>NaN</td>\n      <td>Square Frédéric mistral</td>\n      <td>NaN</td>\n      <td>6029.0</td>\n      <td>Accès avec clé</td>\n      <td>NaN</td>\n      <td>chpayet</td>\n      <td>20200210094029</td>\n      <td>chpayet</td>\n      <td>20200210094029</td>\n      <td>{BD230893-813E-4599-BAC6-358F26475DA3}</td>\n      <td>NaN</td>\n      <td>7.007330</td>\n      <td>43.548889</td>\n    </tr>\n    <tr>\n      <th>114</th>\n      <td>6011</td>\n      <td>NaN</td>\n      <td>PAV cuve enterrée</td>\n      <td>3 m3</td>\n      <td>1</td>\n      <td></td>\n      <td>NaN</td>\n      <td>31 rue de mimont</td>\n      <td>NaN</td>\n      <td>6029.0</td>\n      <td>NaN</td>\n      <td>NaN</td>\n      <td>chpayet</td>\n      <td>20200212085306</td>\n      <td>chpayet</td>\n      <td>20200212085306</td>\n      <td>{F7366787-D473-40B8-9F81-75D52AC66FC7}</td>\n      <td>NaN</td>\n      <td>7.022240</td>\n      <td>43.555428</td>\n    </tr>\n    <tr>\n      <th>119</th>\n      <td>8009</td>\n      <td>NaN</td>\n      <td>PAV cuve enterrée</td>\n      <td>3 m3</td>\n      <td>1</td>\n      <td></td>\n      <td>NaN</td>\n      <td>Rue amador lopez</td>\n      <td>NaN</td>\n      <td>6029.0</td>\n      <td>NaN</td>\n      <td>NaN</td>\n      <td>chpayet</td>\n      <td>20200417075136</td>\n      <td>chpayet</td>\n      <td>20200417075136</td>\n      <td>{59F01BEB-498E-4B3A-8D75-9FEB5CD2D238}</td>\n      <td>NaN</td>\n      <td>6.963228</td>\n      <td>43.556072</td>\n    </tr>\n    <tr>\n      <th>121</th>\n      <td>6409</td>\n      <td>NaN</td>\n      <td>PAV cuve enterrée</td>\n      <td>3 m3</td>\n      <td>1</td>\n      <td></td>\n      <td>NaN</td>\n      <td>177 avenue de la république</td>\n      <td>NaN</td>\n      <td>6029.0</td>\n      <td>NaN</td>\n      <td>NaN</td>\n      <td>chpayet</td>\n      <td>20200213084327</td>\n      <td>chpayet</td>\n      <td>20200213084327</td>\n      <td>{FDED27DE-F229-48C7-9E2F-5D71056C2F05}</td>\n      <td>NaN</td>\n      <td>7.020993</td>\n      <td>43.562805</td>\n    </tr>\n    <tr>\n      <th>122</th>\n      <td>8010</td>\n      <td>NaN</td>\n      <td>PAV cuve enterrée</td>\n      <td>3 m3</td>\n      <td>1</td>\n      <td></td>\n      <td>NaN</td>\n      <td>Chemin des rainettes</td>\n      <td>NaN</td>\n      <td>6029.0</td>\n      <td>NaN</td>\n      <td>NaN</td>\n      <td>chpayet</td>\n      <td>20200417080037</td>\n      <td>chpayet</td>\n      <td>20200417080037</td>\n      <td>{CD6D6053-E42F-4478-B41E-B8392A0A054C}</td>\n      <td>NaN</td>\n      <td>6.963045</td>\n      <td>43.557186</td>\n    </tr>\n    <tr>\n      <th>130</th>\n      <td>6417</td>\n      <td>NaN</td>\n      <td>Bac aérien sans cache bac</td>\n      <td>660 L</td>\n      <td>1</td>\n      <td></td>\n      <td>NaN</td>\n      <td>102 boulevard du perrier</td>\n      <td>NaN</td>\n      <td>6030.0</td>\n      <td>NaN</td>\n      <td>NaN</td>\n      <td>chpayet</td>\n      <td>20200213103858</td>\n      <td>chpayet</td>\n      <td>20200213103858</td>\n      <td>{6691A044-8EF7-4F81-AFA7-D58F5AE7489B}</td>\n      <td>NaN</td>\n      <td>6.988940</td>\n      <td>43.566536</td>\n    </tr>\n    <tr>\n      <th>136</th>\n      <td>6809</td>\n      <td>NaN</td>\n      <td>Colonne aérienne</td>\n      <td>3 m3</td>\n      <td>1</td>\n      <td></td>\n      <td>NaN</td>\n      <td>Allée de la marine</td>\n      <td>NaN</td>\n      <td>6079.0</td>\n      <td>NaN</td>\n      <td>NaN</td>\n      <td>chpayet</td>\n      <td>20200217142455</td>\n      <td>chpayet</td>\n      <td>20200217143036</td>\n      <td>{129BD8F5-DDFC-4E3C-8DF7-A35195CEE85E}</td>\n      <td>NaN</td>\n      <td>6.940057</td>\n      <td>43.537712</td>\n    </tr>\n    <tr>\n      <th>137</th>\n      <td>8011</td>\n      <td>NaN</td>\n      <td>PAV cuve enterrée</td>\n      <td>3 m3</td>\n      <td>1</td>\n      <td></td>\n      <td>NaN</td>\n      <td>Chemin du caroubier</td>\n      <td>NaN</td>\n      <td>6029.0</td>\n      <td>NaN</td>\n      <td>NaN</td>\n      <td>chpayet</td>\n      <td>20200417080453</td>\n      <td>chpayet</td>\n      <td>20200417080453</td>\n      <td>{5035BC7B-492A-424B-9962-9266F1226E49}</td>\n      <td>NaN</td>\n      <td>6.962537</td>\n      <td>43.557564</td>\n    </tr>\n    <tr>\n      <th>138</th>\n      <td>7209</td>\n      <td>NaN</td>\n      <td>PAV cuve enterrée</td>\n      <td>2 m3</td>\n      <td>1</td>\n      <td></td>\n      <td>NaN</td>\n      <td>Boulevard louis negrin</td>\n      <td>NaN</td>\n      <td>6029.0</td>\n      <td>NaN</td>\n      <td>NaN</td>\n      <td>chpayet</td>\n      <td>20200218144706</td>\n      <td>chpayet</td>\n      <td>20200218144706</td>\n      <td>{D97C5FA5-8A65-48CF-A94C-489086E14FD5}</td>\n      <td>NaN</td>\n      <td>6.976105</td>\n      <td>43.549763</td>\n    </tr>\n    <tr>\n      <th>139</th>\n      <td>8809</td>\n      <td>NaN</td>\n      <td>PAV cuve enterrée</td>\n      <td>2 m3</td>\n      <td>1</td>\n      <td></td>\n      <td>NaN</td>\n      <td>Avenue de la pinea</td>\n      <td>NaN</td>\n      <td>6079.0</td>\n      <td>NaN</td>\n      <td>NaN</td>\n      <td>chpayet</td>\n      <td>20200505075441</td>\n      <td>chpayet</td>\n      <td>20200505075441</td>\n      <td>{B7A52CF8-673F-4239-83B8-9C920B18C49B}</td>\n      <td>NaN</td>\n      <td>6.945637</td>\n      <td>43.535511</td>\n    </tr>\n    <tr>\n      <th>144</th>\n      <td>8013</td>\n      <td>NaN</td>\n      <td>PAV cuve enterrée</td>\n      <td>3 m3</td>\n      <td>1</td>\n      <td></td>\n      <td>NaN</td>\n      <td>Rue Alfred de musset</td>\n      <td>NaN</td>\n      <td>6029.0</td>\n      <td>NaN</td>\n      <td>NaN</td>\n      <td>chpayet</td>\n      <td>20200417084249</td>\n      <td>chpayet</td>\n      <td>20200417084249</td>\n      <td>{77F8D3F4-4849-4BDD-B02D-75BCE686BBF9}</td>\n      <td>NaN</td>\n      <td>6.966166</td>\n      <td>43.569683</td>\n    </tr>\n    <tr>\n      <th>145</th>\n      <td>8810</td>\n      <td>NaN</td>\n      <td>PAV cuve enterrée</td>\n      <td>2 m3</td>\n      <td>1</td>\n      <td></td>\n      <td>NaN</td>\n      <td>Route du golf</td>\n      <td>NaN</td>\n      <td>6079.0</td>\n      <td>NaN</td>\n      <td>NaN</td>\n      <td>chpayet</td>\n      <td>20200505081608</td>\n      <td>chpayet</td>\n      <td>20200505081608</td>\n      <td>{BEBCB2A8-F401-4B24-8903-D0EF5C7095F0}</td>\n      <td>NaN</td>\n      <td>6.937829</td>\n      <td>43.532169</td>\n    </tr>\n    <tr>\n      <th>147</th>\n      <td>8015</td>\n      <td>NaN</td>\n      <td>Bac aérien sans cache bac</td>\n      <td>660 L</td>\n      <td>1</td>\n      <td></td>\n      <td>NaN</td>\n      <td>Chemin de l estelle</td>\n      <td>NaN</td>\n      <td>6030.0</td>\n      <td>NaN</td>\n      <td>NaN</td>\n      <td>chpayet</td>\n      <td>20200417110950</td>\n      <td>chpayet</td>\n      <td>20200417110950</td>\n      <td>{180334D9-CE69-41C2-BE86-B449827ED594}</td>\n      <td>NaN</td>\n      <td>6.997187</td>\n      <td>43.571163</td>\n    </tr>\n    <tr>\n      <th>148</th>\n      <td>8409</td>\n      <td>NaN</td>\n      <td>PAV cuve enterrée</td>\n      <td>3 m3</td>\n      <td>1</td>\n      <td></td>\n      <td>NaN</td>\n      <td>Chemin de l horizon</td>\n      <td>NaN</td>\n      <td>6085.0</td>\n      <td>NaN</td>\n      <td>NaN</td>\n      <td>chpayet</td>\n      <td>20200429102508</td>\n      <td>chpayet</td>\n      <td>20200429102508</td>\n      <td>{241CABA8-7AA9-484B-B640-CD3760AB4405}</td>\n      <td>NaN</td>\n      <td>6.994683</td>\n      <td>43.599747</td>\n    </tr>\n    <tr>\n      <th>152</th>\n      <td>8812</td>\n      <td>NaN</td>\n      <td>PAV cuve enterrée</td>\n      <td>2 m3</td>\n      <td>1</td>\n      <td></td>\n      <td>NaN</td>\n      <td>Rue saint Vincent de paul</td>\n      <td>NaN</td>\n      <td>6079.0</td>\n      <td>NaN</td>\n      <td>NaN</td>\n      <td>chpayet</td>\n      <td>20200505094135</td>\n      <td>chpayet</td>\n      <td>20200505094135</td>\n      <td>{D817580E-0A79-4B70-BF1F-E22E0FEAF3E5}</td>\n      <td>NaN</td>\n      <td>6.938528</td>\n      <td>43.541245</td>\n    </tr>\n    <tr>\n      <th>159</th>\n      <td>8816</td>\n      <td>NaN</td>\n      <td>PAV cuve enterrée</td>\n      <td>2 m3</td>\n      <td>1</td>\n      <td></td>\n      <td>NaN</td>\n      <td>Avenue des anciens combattants</td>\n      <td>Gymnase costerousse</td>\n      <td>6079.0</td>\n      <td>NaN</td>\n      <td>NaN</td>\n      <td>chpayet</td>\n      <td>20200505100439</td>\n      <td>chpayet</td>\n      <td>20200505100439</td>\n      <td>{4D129F98-05BF-45FC-A59E-61DCDFD2FC00}</td>\n      <td>NaN</td>\n      <td>6.941447</td>\n      <td>43.554680</td>\n    </tr>\n    <tr>\n      <th>160</th>\n      <td>8817</td>\n      <td>NaN</td>\n      <td>PAV cuve enterrée</td>\n      <td>2 m3</td>\n      <td>1</td>\n      <td></td>\n      <td>NaN</td>\n      <td>Place des mimosas</td>\n      <td>NaN</td>\n      <td>6079.0</td>\n      <td>NaN</td>\n      <td>NaN</td>\n      <td>chpayet</td>\n      <td>20200505103404</td>\n      <td>chpayet</td>\n      <td>20200505103404</td>\n      <td>{51A53641-3B0F-4E24-B6CA-A3636371F60A}</td>\n      <td>NaN</td>\n      <td>6.937826</td>\n      <td>43.544334</td>\n    </tr>\n    <tr>\n      <th>162</th>\n      <td>12030</td>\n      <td>NaN</td>\n      <td>PAV enterré ascenseur</td>\n      <td>2 m3</td>\n      <td>1</td>\n      <td></td>\n      <td>NaN</td>\n      <td>Boulevard chanoine Francis coeuret</td>\n      <td>NaN</td>\n      <td>6029.0</td>\n      <td>NaN</td>\n      <td>NaN</td>\n      <td>chpayet</td>\n      <td>20200630115958</td>\n      <td>chpayet</td>\n      <td>20200630115958</td>\n      <td>{66303D73-1B5E-4C59-A4C3-C67866EA94B8}</td>\n      <td>NaN</td>\n      <td>7.037538</td>\n      <td>43.545086</td>\n    </tr>\n    <tr>\n      <th>178</th>\n      <td>10838</td>\n      <td>NaN</td>\n      <td>PAV cuve enterrée</td>\n      <td>2 m3</td>\n      <td>2</td>\n      <td></td>\n      <td>NaN</td>\n      <td>Place du souvenir français</td>\n      <td>NaN</td>\n      <td>6079.0</td>\n      <td>NaN</td>\n      <td>NaN</td>\n      <td>chpayet</td>\n      <td>20200618132727</td>\n      <td>chpayet</td>\n      <td>20200618132727</td>\n      <td>{F8E6C190-4DF0-4FB8-AF8D-00C1B6BA1AE2}</td>\n      <td>NaN</td>\n      <td>6.937433</td>\n      <td>43.555164</td>\n    </tr>\n    <tr>\n      <th>179</th>\n      <td>10839</td>\n      <td>NaN</td>\n      <td>PAV cuve enterrée</td>\n      <td>2 m3</td>\n      <td>1</td>\n      <td></td>\n      <td>NaN</td>\n      <td>Rue du docteur escarras</td>\n      <td>NaN</td>\n      <td>6079.0</td>\n      <td>NaN</td>\n      <td>NaN</td>\n      <td>chpayet</td>\n      <td>20200618133121</td>\n      <td>chpayet</td>\n      <td>20200618133121</td>\n      <td>{D7F44F72-2A48-4A86-B151-FC9971D719AC}</td>\n      <td>NaN</td>\n      <td>6.938593</td>\n      <td>43.556293</td>\n    </tr>\n    <tr>\n      <th>181</th>\n      <td>10841</td>\n      <td>NaN</td>\n      <td>PAV cuve enterrée</td>\n      <td>2 m3</td>\n      <td>1</td>\n      <td></td>\n      <td>NaN</td>\n      <td>Avenue bon pin</td>\n      <td>NaN</td>\n      <td>6079.0</td>\n      <td>NaN</td>\n      <td>NaN</td>\n      <td>chpayet</td>\n      <td>20200618134812</td>\n      <td>chpayet</td>\n      <td>20200618134812</td>\n      <td>{BFA22C4E-4C99-476D-B6FD-40E47FA99928}</td>\n      <td>NaN</td>\n      <td>6.939240</td>\n      <td>43.562771</td>\n    </tr>\n    <tr>\n      <th>193</th>\n      <td>13630</td>\n      <td>NaN</td>\n      <td>Colonne aérienne</td>\n      <td>4 m3</td>\n      <td>2</td>\n      <td></td>\n      <td>NaN</td>\n      <td>Rue Jean monnet</td>\n      <td>NaN</td>\n      <td>6079.0</td>\n      <td>NaN</td>\n      <td>NaN</td>\n      <td>chpayet</td>\n      <td>20200817085306</td>\n      <td>chpayet</td>\n      <td>20200817085306</td>\n      <td>{A61E0FC0-66A7-421E-A219-352C98C19735}</td>\n      <td>NaN</td>\n      <td>6.916720</td>\n      <td>43.541203</td>\n    </tr>\n    <tr>\n      <th>204</th>\n      <td>9625</td>\n      <td>NaN</td>\n      <td>PAV cuve enterrée</td>\n      <td>2 m3</td>\n      <td>1</td>\n      <td></td>\n      <td>NaN</td>\n      <td>Avenue janvier passero</td>\n      <td>NaN</td>\n      <td>6079.0</td>\n      <td>NaN</td>\n      <td>NaN</td>\n      <td>chpayet</td>\n      <td>20200512092031</td>\n      <td>chpayet</td>\n      <td>20200512092031</td>\n      <td>{243B9DC7-9B56-4CD4-93CF-F739343EDAD5}</td>\n      <td>NaN</td>\n      <td>6.938297</td>\n      <td>43.553978</td>\n    </tr>\n    <tr>\n      <th>206</th>\n      <td>9626</td>\n      <td>NaN</td>\n      <td>PAV cuve enterrée</td>\n      <td>2 m3</td>\n      <td>1</td>\n      <td></td>\n      <td>NaN</td>\n      <td>295 avenue janvier passero</td>\n      <td>NaN</td>\n      <td>6079.0</td>\n      <td>NaN</td>\n      <td>NaN</td>\n      <td>chpayet</td>\n      <td>20200512093117</td>\n      <td>chpayet</td>\n      <td>20200512093117</td>\n      <td>{B757CD7E-4D62-4201-86D7-76CA8B9BCBCC}</td>\n      <td>NaN</td>\n      <td>6.938170</td>\n      <td>43.550667</td>\n    </tr>\n    <tr>\n      <th>208</th>\n      <td>12430</td>\n      <td>NaN</td>\n      <td>PAV cuve enterrée</td>\n      <td>2 m3</td>\n      <td>2</td>\n      <td></td>\n      <td>NaN</td>\n      <td>Avenue de la république</td>\n      <td>Parking public</td>\n      <td>6079.0</td>\n      <td>NaN</td>\n      <td>NaN</td>\n      <td>chpayet</td>\n      <td>20200721130703</td>\n      <td>chpayet</td>\n      <td>20200721130805</td>\n      <td>{ABF7EDE4-6DD2-4AFA-971C-B1166F6DF465}</td>\n      <td>NaN</td>\n      <td>6.933092</td>\n      <td>43.541439</td>\n    </tr>\n    <tr>\n      <th>213</th>\n      <td>9629</td>\n      <td>NaN</td>\n      <td>PAV cuve enterrée</td>\n      <td>2 m3</td>\n      <td>1</td>\n      <td></td>\n      <td>NaN</td>\n      <td>26 avenue maréchal juin</td>\n      <td>NaN</td>\n      <td>6029.0</td>\n      <td>NaN</td>\n      <td>NaN</td>\n      <td>chpayet</td>\n      <td>20200512125529</td>\n      <td>chpayet</td>\n      <td>20200512125529</td>\n      <td>{98747488-AF0C-415A-9401-D0CA21B13D04}</td>\n      <td>NaN</td>\n      <td>7.033321</td>\n      <td>43.550426</td>\n    </tr>\n    <tr>\n      <th>223</th>\n      <td>14831</td>\n      <td>NaN</td>\n      <td>PAV cuve enterrée</td>\n      <td>4 m3</td>\n      <td>1</td>\n      <td></td>\n      <td>NaN</td>\n      <td>Boulevard esterel parc</td>\n      <td>NaN</td>\n      <td>6079.0</td>\n      <td>NaN</td>\n      <td>NaN</td>\n      <td>chpayet</td>\n      <td>20200824122219</td>\n      <td>chpayet</td>\n      <td>20200824122219</td>\n      <td>{67B11D05-45F2-483B-B5FA-0DB002043FA6}</td>\n      <td>NaN</td>\n      <td>6.933095</td>\n      <td>43.535786</td>\n    </tr>\n    <tr>\n      <th>226</th>\n      <td>14834</td>\n      <td>NaN</td>\n      <td>PAV cuve enterrée</td>\n      <td>4 m3</td>\n      <td>1</td>\n      <td></td>\n      <td>NaN</td>\n      <td>Avenue Marcel pagnol</td>\n      <td>NaN</td>\n      <td>6079.0</td>\n      <td>NaN</td>\n      <td>NaN</td>\n      <td>chpayet</td>\n      <td>20200824134241</td>\n      <td>chpayet</td>\n      <td>20200824134241</td>\n      <td>{C1955642-8C7F-4C46-9AED-6259D52EDF52}</td>\n      <td>NaN</td>\n      <td>6.942438</td>\n      <td>43.547234</td>\n    </tr>\n    <tr>\n      <th>235</th>\n      <td>16030</td>\n      <td>NaN</td>\n      <td>Bac aérien sans cache bac</td>\n      <td>660 L</td>\n      <td>1</td>\n      <td></td>\n      <td>NaN</td>\n      <td>Impasse du tambourin</td>\n      <td>NaN</td>\n      <td>6079.0</td>\n      <td>NaN</td>\n      <td>NaN</td>\n      <td>chpayet</td>\n      <td>20200827084730</td>\n      <td>chpayet</td>\n      <td>20200827084730</td>\n      <td>{361B4F57-A0B2-4004-BA17-8810375B931E}</td>\n      <td>NaN</td>\n      <td>6.931079</td>\n      <td>43.565300</td>\n    </tr>\n    <tr>\n      <th>236</th>\n      <td>16031</td>\n      <td>NaN</td>\n      <td>Bac aérien sans cache bac</td>\n      <td>660 L</td>\n      <td>1</td>\n      <td></td>\n      <td>NaN</td>\n      <td>Chemin des fougères</td>\n      <td>NaN</td>\n      <td>6079.0</td>\n      <td>NaN</td>\n      <td>NaN</td>\n      <td>chpayet</td>\n      <td>20200827090002</td>\n      <td>chpayet</td>\n      <td>20200827090002</td>\n      <td>{42370979-1A59-4304-96DF-4A100A63E1E9}</td>\n      <td>NaN</td>\n      <td>6.930059</td>\n      <td>43.558243</td>\n    </tr>\n  </tbody>\n</table>\n</div>"
     },
     "metadata": {},
     "execution_count": 49
    }
   ],
   "source": [
    "dataTri[dataTri.marque == \" \"]"
   ]
  },
  {
   "cell_type": "markdown",
   "metadata": {},
   "source": [
    "Plusieurs collecteurs partagent la même adresse"
   ]
  },
  {
   "cell_type": "code",
   "execution_count": 50,
   "metadata": {
    "scrolled": true
   },
   "outputs": [
    {
     "output_type": "execute_result",
     "data": {
      "text/plain": [
       "Port canto                                  6\n",
       "Avenue corniche d or                        4\n",
       "Avenue van loo                              3\n",
       "Avenue Marcel pagnol                        3\n",
       "Place de l etang                            2\n",
       "                                           ..\n",
       "Allée des mesanges                          1\n",
       "53 avenue Michel jourdan                    1\n",
       "Résidence les terrasses de saint honorat    1\n",
       "Allée calypso                               1\n",
       "Allée des pins                              1\n",
       "Name: adresse, Length: 212, dtype: int64"
      ]
     },
     "metadata": {},
     "execution_count": 50
    }
   ],
   "source": [
    "dataTri.adresse.value_counts()"
   ]
  },
  {
   "cell_type": "markdown",
   "metadata": {},
   "source": [
    "Ces collecteurs sont répartis sur toute l'agglomération"
   ]
  },
  {
   "cell_type": "code",
   "execution_count": 51,
   "metadata": {},
   "outputs": [
    {
     "output_type": "execute_result",
     "data": {
      "text/plain": [
       "6029.0    91\n",
       "6138.0    62\n",
       "6079.0    51\n",
       "6030.0    27\n",
       "6085.0     7\n",
       "Name: code_insee, dtype: int64"
      ]
     },
     "metadata": {},
     "execution_count": 51
    }
   ],
   "source": [
    "dataTri.code_insee.value_counts()"
   ]
  },
  {
   "cell_type": "markdown",
   "metadata": {},
   "source": [
    "2 commentaires sont indiqués (dont 1 pour spécifier la marque)"
   ]
  },
  {
   "cell_type": "code",
   "execution_count": 52,
   "metadata": {
    "scrolled": true
   },
   "outputs": [
    {
     "output_type": "execute_result",
     "data": {
      "text/plain": [
       "     objectid   id                  type volume  quantite marque  date_instal  \\\n",
       "85       3605  NaN  PAV cuve compactrice   5 m3         1                 NaN   \n",
       "104      5213  NaN     PAV cuve enterrée   5 m3         1                 NaN   \n",
       "\n",
       "                      adresse adresse_comp  code_insee     observations  \\\n",
       "85            Rue Félix faure          NaN      6029.0    Marque sidcon   \n",
       "104  Square Frédéric mistral           NaN      6029.0  Accès avec clé    \n",
       "\n",
       "     accessibilite creation   date_creation modification  date_modification  \\\n",
       "85             NaN  chpayet  20200128085112      chpayet     20200128085125   \n",
       "104            NaN  chpayet  20200210094029      chpayet     20200210094029   \n",
       "\n",
       "                                   globalid  etat        _x         _y  \n",
       "85   {D813424C-8239-47D1-BA9E-D17BA17869FB}   NaN  7.015219  43.552151  \n",
       "104  {BD230893-813E-4599-BAC6-358F26475DA3}   NaN  7.007330  43.548889  "
      ],
      "text/html": "<div>\n<style scoped>\n    .dataframe tbody tr th:only-of-type {\n        vertical-align: middle;\n    }\n\n    .dataframe tbody tr th {\n        vertical-align: top;\n    }\n\n    .dataframe thead th {\n        text-align: right;\n    }\n</style>\n<table border=\"1\" class=\"dataframe\">\n  <thead>\n    <tr style=\"text-align: right;\">\n      <th></th>\n      <th>objectid</th>\n      <th>id</th>\n      <th>type</th>\n      <th>volume</th>\n      <th>quantite</th>\n      <th>marque</th>\n      <th>date_instal</th>\n      <th>adresse</th>\n      <th>adresse_comp</th>\n      <th>code_insee</th>\n      <th>observations</th>\n      <th>accessibilite</th>\n      <th>creation</th>\n      <th>date_creation</th>\n      <th>modification</th>\n      <th>date_modification</th>\n      <th>globalid</th>\n      <th>etat</th>\n      <th>_x</th>\n      <th>_y</th>\n    </tr>\n  </thead>\n  <tbody>\n    <tr>\n      <th>85</th>\n      <td>3605</td>\n      <td>NaN</td>\n      <td>PAV cuve compactrice</td>\n      <td>5 m3</td>\n      <td>1</td>\n      <td></td>\n      <td>NaN</td>\n      <td>Rue Félix faure</td>\n      <td>NaN</td>\n      <td>6029.0</td>\n      <td>Marque sidcon</td>\n      <td>NaN</td>\n      <td>chpayet</td>\n      <td>20200128085112</td>\n      <td>chpayet</td>\n      <td>20200128085125</td>\n      <td>{D813424C-8239-47D1-BA9E-D17BA17869FB}</td>\n      <td>NaN</td>\n      <td>7.015219</td>\n      <td>43.552151</td>\n    </tr>\n    <tr>\n      <th>104</th>\n      <td>5213</td>\n      <td>NaN</td>\n      <td>PAV cuve enterrée</td>\n      <td>5 m3</td>\n      <td>1</td>\n      <td></td>\n      <td>NaN</td>\n      <td>Square Frédéric mistral</td>\n      <td>NaN</td>\n      <td>6029.0</td>\n      <td>Accès avec clé</td>\n      <td>NaN</td>\n      <td>chpayet</td>\n      <td>20200210094029</td>\n      <td>chpayet</td>\n      <td>20200210094029</td>\n      <td>{BD230893-813E-4599-BAC6-358F26475DA3}</td>\n      <td>NaN</td>\n      <td>7.007330</td>\n      <td>43.548889</td>\n    </tr>\n  </tbody>\n</table>\n</div>"
     },
     "metadata": {},
     "execution_count": 52
    }
   ],
   "source": [
    "dataTri[dataTri.observations.notna()]"
   ]
  },
  {
   "cell_type": "markdown",
   "metadata": {},
   "source": [
    "## Jeu de données des des collecteurs de verre\n",
    "### Aperçu du fichier\n",
    "Il contient 20 variables que l'on pourra étudier :\n",
    "* objectid : Identifiant de la déchèterie\n",
    "* id :\n",
    "* type : type de collecteur\n",
    "* volume : volume du collecteur (en L ou en m<sup>3</sup>)\n",
    "* quantite : quantité de collecteurs\n",
    "* marque : marque du collecteur\n",
    "* date_instal : date d'installation du collecteur\n",
    "* adresse : adresse du collecteur\n",
    "* adresse_comp : complément de l'adresse du collecteur\n",
    "* code_insee : code INSEE de la ville (différent du code départemental)\n",
    "* observations : observations éventuelles\n",
    "* accessibilite :\n",
    "* creation : pseudo de la personne qui a enregistré le collecteur dans la BDD\n",
    "* date_creation : date et temps de l'enregistrement du collecteur dans la BDD\n",
    "* modification : peudo de la personne qui a modifié en dernier le collecteur dans la BDD\n",
    "* date_modification : date et temps de la dernière modification du collecteur dans la BDD\n",
    "* globalid : GUID (Globally Unique IDentifier)\n",
    "* etat : \n",
    "* _x : longitude du collecteur\n",
    "* _y : latitude du collecteur"
   ]
  },
  {
   "cell_type": "code",
   "execution_count": 53,
   "metadata": {
    "scrolled": true
   },
   "outputs": [
    {
     "output_type": "execute_result",
     "data": {
      "text/plain": [
       "   objectid  id               type volume  quantite          marque  \\\n",
       "0       801 NaN   Colonne aérienne   2 m3         1  Plastic Omnium   \n",
       "1      3601 NaN  PAV cuve enterrée   3 m3         1        Contenur   \n",
       "2      1201 NaN   Colonne aérienne   4 m3         1  Plastic Omnium   \n",
       "3      1601 NaN  PAV cuve enterrée   4 m3         1                   \n",
       "4      1202 NaN   Colonne aérienne   2 m3         1  Plastic Omnium   \n",
       "\n",
       "   date_instal                      adresse                    adresse_comp  \\\n",
       "0          NaN  Parking vallon de l autelgy                             NaN   \n",
       "1          NaN                  Rue massena                             NaN   \n",
       "2          NaN            37 avenue miramar                             NaN   \n",
       "3          NaN           Parking jean aulas                             NaN   \n",
       "4          NaN          16 avenue du treyas  Parking face restaurant matipi   \n",
       "\n",
       "   code_insee observations accessibilite creation   date_creation  \\\n",
       "0        6138          NaN           NaN  chpayet  20191204095255   \n",
       "1        6029          NaN           NaN  chpayet  20200205083327   \n",
       "2        6138          NaN           NaN  chpayet  20191206090657   \n",
       "3        6079          NaN           NaN  chpayet  20200107144907   \n",
       "4        6138          NaN           NaN  chpayet  20191206092934   \n",
       "\n",
       "  modification  date_modification                                globalid  \\\n",
       "0      chpayet     20191204095255  {8C8A3146-8C8C-42B1-A448-EE103992E272}   \n",
       "1      chpayet     20200205083327  {2066B095-8486-432C-8663-0B36B4C81159}   \n",
       "2      chpayet     20191206090657  {85771445-84A5-4946-BD65-E9F2CB95A7CA}   \n",
       "3      chpayet     20200107151944  {BB3F959C-2915-455B-8665-C1958EC20BEE}   \n",
       "4      chpayet     20191206093820  {7BDBEF7C-741B-4EA2-83F8-B8C3222377DC}   \n",
       "\n",
       "   etat        _x         _y  \n",
       "0   NaN  6.937228  43.503468  \n",
       "1   NaN  7.017053  43.564602  \n",
       "2   NaN  6.941038  43.486687  \n",
       "3   NaN  6.940708  43.523388  \n",
       "4   NaN  6.929948  43.484100  "
      ],
      "text/html": "<div>\n<style scoped>\n    .dataframe tbody tr th:only-of-type {\n        vertical-align: middle;\n    }\n\n    .dataframe tbody tr th {\n        vertical-align: top;\n    }\n\n    .dataframe thead th {\n        text-align: right;\n    }\n</style>\n<table border=\"1\" class=\"dataframe\">\n  <thead>\n    <tr style=\"text-align: right;\">\n      <th></th>\n      <th>objectid</th>\n      <th>id</th>\n      <th>type</th>\n      <th>volume</th>\n      <th>quantite</th>\n      <th>marque</th>\n      <th>date_instal</th>\n      <th>adresse</th>\n      <th>adresse_comp</th>\n      <th>code_insee</th>\n      <th>observations</th>\n      <th>accessibilite</th>\n      <th>creation</th>\n      <th>date_creation</th>\n      <th>modification</th>\n      <th>date_modification</th>\n      <th>globalid</th>\n      <th>etat</th>\n      <th>_x</th>\n      <th>_y</th>\n    </tr>\n  </thead>\n  <tbody>\n    <tr>\n      <th>0</th>\n      <td>801</td>\n      <td>NaN</td>\n      <td>Colonne aérienne</td>\n      <td>2 m3</td>\n      <td>1</td>\n      <td>Plastic Omnium</td>\n      <td>NaN</td>\n      <td>Parking vallon de l autelgy</td>\n      <td>NaN</td>\n      <td>6138</td>\n      <td>NaN</td>\n      <td>NaN</td>\n      <td>chpayet</td>\n      <td>20191204095255</td>\n      <td>chpayet</td>\n      <td>20191204095255</td>\n      <td>{8C8A3146-8C8C-42B1-A448-EE103992E272}</td>\n      <td>NaN</td>\n      <td>6.937228</td>\n      <td>43.503468</td>\n    </tr>\n    <tr>\n      <th>1</th>\n      <td>3601</td>\n      <td>NaN</td>\n      <td>PAV cuve enterrée</td>\n      <td>3 m3</td>\n      <td>1</td>\n      <td>Contenur</td>\n      <td>NaN</td>\n      <td>Rue massena</td>\n      <td>NaN</td>\n      <td>6029</td>\n      <td>NaN</td>\n      <td>NaN</td>\n      <td>chpayet</td>\n      <td>20200205083327</td>\n      <td>chpayet</td>\n      <td>20200205083327</td>\n      <td>{2066B095-8486-432C-8663-0B36B4C81159}</td>\n      <td>NaN</td>\n      <td>7.017053</td>\n      <td>43.564602</td>\n    </tr>\n    <tr>\n      <th>2</th>\n      <td>1201</td>\n      <td>NaN</td>\n      <td>Colonne aérienne</td>\n      <td>4 m3</td>\n      <td>1</td>\n      <td>Plastic Omnium</td>\n      <td>NaN</td>\n      <td>37 avenue miramar</td>\n      <td>NaN</td>\n      <td>6138</td>\n      <td>NaN</td>\n      <td>NaN</td>\n      <td>chpayet</td>\n      <td>20191206090657</td>\n      <td>chpayet</td>\n      <td>20191206090657</td>\n      <td>{85771445-84A5-4946-BD65-E9F2CB95A7CA}</td>\n      <td>NaN</td>\n      <td>6.941038</td>\n      <td>43.486687</td>\n    </tr>\n    <tr>\n      <th>3</th>\n      <td>1601</td>\n      <td>NaN</td>\n      <td>PAV cuve enterrée</td>\n      <td>4 m3</td>\n      <td>1</td>\n      <td></td>\n      <td>NaN</td>\n      <td>Parking jean aulas</td>\n      <td>NaN</td>\n      <td>6079</td>\n      <td>NaN</td>\n      <td>NaN</td>\n      <td>chpayet</td>\n      <td>20200107144907</td>\n      <td>chpayet</td>\n      <td>20200107151944</td>\n      <td>{BB3F959C-2915-455B-8665-C1958EC20BEE}</td>\n      <td>NaN</td>\n      <td>6.940708</td>\n      <td>43.523388</td>\n    </tr>\n    <tr>\n      <th>4</th>\n      <td>1202</td>\n      <td>NaN</td>\n      <td>Colonne aérienne</td>\n      <td>2 m3</td>\n      <td>1</td>\n      <td>Plastic Omnium</td>\n      <td>NaN</td>\n      <td>16 avenue du treyas</td>\n      <td>Parking face restaurant matipi</td>\n      <td>6138</td>\n      <td>NaN</td>\n      <td>NaN</td>\n      <td>chpayet</td>\n      <td>20191206092934</td>\n      <td>chpayet</td>\n      <td>20191206093820</td>\n      <td>{7BDBEF7C-741B-4EA2-83F8-B8C3222377DC}</td>\n      <td>NaN</td>\n      <td>6.929948</td>\n      <td>43.484100</td>\n    </tr>\n  </tbody>\n</table>\n</div>"
     },
     "metadata": {},
     "execution_count": 53
    }
   ],
   "source": [
    "dataVerre.head()"
   ]
  },
  {
   "cell_type": "markdown",
   "metadata": {},
   "source": [
    "### Dimension du jeu de données"
   ]
  },
  {
   "cell_type": "code",
   "execution_count": 54,
   "metadata": {},
   "outputs": [
    {
     "output_type": "stream",
     "name": "stdout",
     "text": [
      "Le jeu de données recense 247 collecteurs avec 20 variables\n"
     ]
    }
   ],
   "source": [
    " print(\"Le jeu de données recense\", dataVerre.shape[0], \"collecteurs avec\", dataVerre.shape[1], \"variables\")"
   ]
  },
  {
   "cell_type": "markdown",
   "metadata": {},
   "source": [
    "### Valeurs manquantes\n",
    "Le jeu de données est presque complet mais des manques sont précisés dans la partie Notes générales\n",
    "\n",
    "Aucun des collecteurs ne possède de valeur pour id, date_instal et etat\n",
    "\n",
    "La plupart des collecteurs n'a pas de complément d'adresse, ni d'observation ni de note d'accessbilité (ce qui n'est pas gênant)\n",
    "\n",
    "Il manque un nom de marque\n"
   ]
  },
  {
   "cell_type": "code",
   "execution_count": 55,
   "metadata": {
    "scrolled": true
   },
   "outputs": [
    {
     "output_type": "execute_result",
     "data": {
      "text/plain": [
       "objectid               0\n",
       "id                   247\n",
       "type                   0\n",
       "volume                 0\n",
       "quantite               0\n",
       "marque                 1\n",
       "date_instal          247\n",
       "adresse                0\n",
       "adresse_comp         222\n",
       "code_insee             0\n",
       "observations         177\n",
       "accessibilite        235\n",
       "creation               0\n",
       "date_creation          0\n",
       "modification           0\n",
       "date_modification      0\n",
       "globalid               0\n",
       "etat                 247\n",
       "_x                     0\n",
       "_y                     0\n",
       "dtype: int64"
      ]
     },
     "metadata": {},
     "execution_count": 55
    }
   ],
   "source": [
    "dataVerre.isna().sum()"
   ]
  },
  {
   "cell_type": "code",
   "execution_count": 56,
   "metadata": {},
   "outputs": [
    {
     "output_type": "execute_result",
     "data": {
      "text/plain": [
       "    objectid  id              type volume  quantite marque  date_instal  \\\n",
       "21      3606 NaN  Colonne aérienne   2 m3         1    NaN          NaN   \n",
       "\n",
       "                     adresse adresse_comp  code_insee observations  \\\n",
       "21  32 boulevard de lorraine          NaN        6029     Cliiink    \n",
       "\n",
       "   accessibilite creation   date_creation modification  date_modification  \\\n",
       "21           NaN  chpayet  20200205093613      chpayet     20200205093613   \n",
       "\n",
       "                                  globalid  etat        _x         _y  \n",
       "21  {44EB09E9-AB65-4ACC-8685-BB111FCE8242}   NaN  7.027551  43.552998  "
      ],
      "text/html": "<div>\n<style scoped>\n    .dataframe tbody tr th:only-of-type {\n        vertical-align: middle;\n    }\n\n    .dataframe tbody tr th {\n        vertical-align: top;\n    }\n\n    .dataframe thead th {\n        text-align: right;\n    }\n</style>\n<table border=\"1\" class=\"dataframe\">\n  <thead>\n    <tr style=\"text-align: right;\">\n      <th></th>\n      <th>objectid</th>\n      <th>id</th>\n      <th>type</th>\n      <th>volume</th>\n      <th>quantite</th>\n      <th>marque</th>\n      <th>date_instal</th>\n      <th>adresse</th>\n      <th>adresse_comp</th>\n      <th>code_insee</th>\n      <th>observations</th>\n      <th>accessibilite</th>\n      <th>creation</th>\n      <th>date_creation</th>\n      <th>modification</th>\n      <th>date_modification</th>\n      <th>globalid</th>\n      <th>etat</th>\n      <th>_x</th>\n      <th>_y</th>\n    </tr>\n  </thead>\n  <tbody>\n    <tr>\n      <th>21</th>\n      <td>3606</td>\n      <td>NaN</td>\n      <td>Colonne aérienne</td>\n      <td>2 m3</td>\n      <td>1</td>\n      <td>NaN</td>\n      <td>NaN</td>\n      <td>32 boulevard de lorraine</td>\n      <td>NaN</td>\n      <td>6029</td>\n      <td>Cliiink</td>\n      <td>NaN</td>\n      <td>chpayet</td>\n      <td>20200205093613</td>\n      <td>chpayet</td>\n      <td>20200205093613</td>\n      <td>{44EB09E9-AB65-4ACC-8685-BB111FCE8242}</td>\n      <td>NaN</td>\n      <td>7.027551</td>\n      <td>43.552998</td>\n    </tr>\n  </tbody>\n</table>\n</div>"
     },
     "metadata": {},
     "execution_count": 56
    }
   ],
   "source": [
    "dataVerre[dataVerre.marque.isna()]"
   ]
  },
  {
   "cell_type": "markdown",
   "metadata": {},
   "source": [
    "### Décompte des doublons"
   ]
  },
  {
   "cell_type": "code",
   "execution_count": 57,
   "metadata": {},
   "outputs": [
    {
     "output_type": "execute_result",
     "data": {
      "text/plain": [
       "0"
      ]
     },
     "metadata": {},
     "execution_count": 57
    }
   ],
   "source": [
    "dataVerre.duplicated().sum()"
   ]
  },
  {
   "cell_type": "markdown",
   "metadata": {},
   "source": [
    "### Notes générales"
   ]
  },
  {
   "cell_type": "markdown",
   "metadata": {},
   "source": [
    "Un type de collecteur n'est pas précisé"
   ]
  },
  {
   "cell_type": "code",
   "execution_count": 58,
   "metadata": {
    "scrolled": true
   },
   "outputs": [
    {
     "output_type": "execute_result",
     "data": {
      "text/plain": [
       "Colonne aérienne     155\n",
       "PAV cuve enterrée     91\n",
       "                       1\n",
       "Name: type, dtype: int64"
      ]
     },
     "metadata": {},
     "execution_count": 58
    }
   ],
   "source": [
    "dataVerre.type.value_counts()"
   ]
  },
  {
   "cell_type": "code",
   "execution_count": 59,
   "metadata": {
    "scrolled": false
   },
   "outputs": [
    {
     "output_type": "execute_result",
     "data": {
      "text/plain": [
       "    objectid  id type volume  quantite marque  date_instal          adresse  \\\n",
       "46      4411 NaN        2 m3         1                 NaN  12 bd du moulin   \n",
       "\n",
       "   adresse_comp  code_insee observations accessibilite creation  \\\n",
       "46          NaN        6029      Cliiink           NaN  chpayet   \n",
       "\n",
       "     date_creation modification  date_modification  \\\n",
       "46  20200210101206      chpayet     20200210101206   \n",
       "\n",
       "                                  globalid  etat        _x         _y  \n",
       "46  {C2FC8587-14E1-47FE-9B67-49DA2D16409D}   NaN  7.007102  43.554081  "
      ],
      "text/html": "<div>\n<style scoped>\n    .dataframe tbody tr th:only-of-type {\n        vertical-align: middle;\n    }\n\n    .dataframe tbody tr th {\n        vertical-align: top;\n    }\n\n    .dataframe thead th {\n        text-align: right;\n    }\n</style>\n<table border=\"1\" class=\"dataframe\">\n  <thead>\n    <tr style=\"text-align: right;\">\n      <th></th>\n      <th>objectid</th>\n      <th>id</th>\n      <th>type</th>\n      <th>volume</th>\n      <th>quantite</th>\n      <th>marque</th>\n      <th>date_instal</th>\n      <th>adresse</th>\n      <th>adresse_comp</th>\n      <th>code_insee</th>\n      <th>observations</th>\n      <th>accessibilite</th>\n      <th>creation</th>\n      <th>date_creation</th>\n      <th>modification</th>\n      <th>date_modification</th>\n      <th>globalid</th>\n      <th>etat</th>\n      <th>_x</th>\n      <th>_y</th>\n    </tr>\n  </thead>\n  <tbody>\n    <tr>\n      <th>46</th>\n      <td>4411</td>\n      <td>NaN</td>\n      <td></td>\n      <td>2 m3</td>\n      <td>1</td>\n      <td></td>\n      <td>NaN</td>\n      <td>12 bd du moulin</td>\n      <td>NaN</td>\n      <td>6029</td>\n      <td>Cliiink</td>\n      <td>NaN</td>\n      <td>chpayet</td>\n      <td>20200210101206</td>\n      <td>chpayet</td>\n      <td>20200210101206</td>\n      <td>{C2FC8587-14E1-47FE-9B67-49DA2D16409D}</td>\n      <td>NaN</td>\n      <td>7.007102</td>\n      <td>43.554081</td>\n    </tr>\n  </tbody>\n</table>\n</div>"
     },
     "metadata": {},
     "execution_count": 59
    }
   ],
   "source": [
    "dataVerre[dataVerre.type == \" \"]"
   ]
  },
  {
   "cell_type": "markdown",
   "metadata": {},
   "source": [
    "1 collecteurs n'a pas le volume précisé (il est peut-être possible de retrouver le volume par comparaison des photographies)"
   ]
  },
  {
   "cell_type": "code",
   "execution_count": 60,
   "metadata": {
    "scrolled": true
   },
   "outputs": [
    {
     "output_type": "execute_result",
     "data": {
      "text/plain": [
       "2 m3    108\n",
       "4 m3     71\n",
       "3 m3     67\n",
       "          1\n",
       "Name: volume, dtype: int64"
      ]
     },
     "metadata": {},
     "execution_count": 60
    }
   ],
   "source": [
    "dataVerre.volume.value_counts()"
   ]
  },
  {
   "cell_type": "code",
   "execution_count": 61,
   "metadata": {
    "scrolled": true
   },
   "outputs": [
    {
     "output_type": "execute_result",
     "data": {
      "text/plain": [
       "    objectid  id               type volume  quantite marque  date_instal  \\\n",
       "32      3610 NaN  PAV cuve enterrée                1                 NaN   \n",
       "\n",
       "                 adresse adresse_comp  code_insee observations accessibilite  \\\n",
       "32  Allées de la liberte          NaN        6029          NaN           NaN   \n",
       "\n",
       "   creation   date_creation modification  date_modification  \\\n",
       "32  chpayet  20200205102900      chpayet     20200205102900   \n",
       "\n",
       "                                  globalid  etat       _x         _y  \n",
       "32  {8E40D486-52F3-4348-A69E-05EEEB7A5D66}   NaN  7.01616  43.551823  "
      ],
      "text/html": "<div>\n<style scoped>\n    .dataframe tbody tr th:only-of-type {\n        vertical-align: middle;\n    }\n\n    .dataframe tbody tr th {\n        vertical-align: top;\n    }\n\n    .dataframe thead th {\n        text-align: right;\n    }\n</style>\n<table border=\"1\" class=\"dataframe\">\n  <thead>\n    <tr style=\"text-align: right;\">\n      <th></th>\n      <th>objectid</th>\n      <th>id</th>\n      <th>type</th>\n      <th>volume</th>\n      <th>quantite</th>\n      <th>marque</th>\n      <th>date_instal</th>\n      <th>adresse</th>\n      <th>adresse_comp</th>\n      <th>code_insee</th>\n      <th>observations</th>\n      <th>accessibilite</th>\n      <th>creation</th>\n      <th>date_creation</th>\n      <th>modification</th>\n      <th>date_modification</th>\n      <th>globalid</th>\n      <th>etat</th>\n      <th>_x</th>\n      <th>_y</th>\n    </tr>\n  </thead>\n  <tbody>\n    <tr>\n      <th>32</th>\n      <td>3610</td>\n      <td>NaN</td>\n      <td>PAV cuve enterrée</td>\n      <td></td>\n      <td>1</td>\n      <td></td>\n      <td>NaN</td>\n      <td>Allées de la liberte</td>\n      <td>NaN</td>\n      <td>6029</td>\n      <td>NaN</td>\n      <td>NaN</td>\n      <td>chpayet</td>\n      <td>20200205102900</td>\n      <td>chpayet</td>\n      <td>20200205102900</td>\n      <td>{8E40D486-52F3-4348-A69E-05EEEB7A5D66}</td>\n      <td>NaN</td>\n      <td>7.01616</td>\n      <td>43.551823</td>\n    </tr>\n  </tbody>\n</table>\n</div>"
     },
     "metadata": {},
     "execution_count": 61
    }
   ],
   "source": [
    "dataVerre[dataVerre.volume == \" \"]"
   ]
  },
  {
   "cell_type": "markdown",
   "metadata": {},
   "source": [
    "165 collecteurs ont la marque \" \" (soit 165 sans marque à ajouter à celui détecté précédemment)"
   ]
  },
  {
   "cell_type": "code",
   "execution_count": 62,
   "metadata": {},
   "outputs": [
    {
     "output_type": "execute_result",
     "data": {
      "text/plain": [
       "                  165\n",
       "Plastic Omnium     46\n",
       "Contenur           25\n",
       "Ecollect            7\n",
       "Citec               3\n",
       "Name: marque, dtype: int64"
      ]
     },
     "metadata": {},
     "execution_count": 62
    }
   ],
   "source": [
    "dataVerre.marque.value_counts()"
   ]
  },
  {
   "cell_type": "code",
   "execution_count": 63,
   "metadata": {
    "scrolled": true
   },
   "outputs": [
    {
     "output_type": "execute_result",
     "data": {
      "text/plain": [
       "     objectid  id               type volume  quantite marque  date_instal  \\\n",
       "3        1601 NaN  PAV cuve enterrée   4 m3         1                 NaN   \n",
       "10       2002 NaN  PAV cuve enterrée   4 m3         1                 NaN   \n",
       "12       2003 NaN  PAV cuve enterrée   4 m3         1                 NaN   \n",
       "14       2005 NaN  PAV cuve enterrée   4 m3         1                 NaN   \n",
       "16       2006 NaN   Colonne aérienne   3 m3         1                 NaN   \n",
       "..        ...  ..                ...    ...       ...    ...          ...   \n",
       "238     17616 NaN   Colonne aérienne   3 m3         1                 NaN   \n",
       "239      8010 NaN  PAV cuve enterrée   4 m3         1                 NaN   \n",
       "240      7616 NaN   Colonne aérienne   4 m3         1                 NaN   \n",
       "241     17617 NaN   Colonne aérienne   4 m3         1                 NaN   \n",
       "244      7210 NaN  PAV cuve enterrée   4 m3         1                 NaN   \n",
       "\n",
       "                             adresse adresse_comp  code_insee observations  \\\n",
       "3                 Parking jean aulas          NaN        6079          NaN   \n",
       "10                 Place de provence          NaN        6079          NaN   \n",
       "12                Place de Provence           NaN        6079          NaN   \n",
       "14             Avenue Robert schuman          NaN        6079          NaN   \n",
       "16            Avenue Robert Schuman           NaN        6079          NaN   \n",
       "..                               ...          ...         ...          ...   \n",
       "238                Quai saint pierre          NaN        6029          NaN   \n",
       "239  89 avenue du moulin de la croix          NaN        6085     Cliiink    \n",
       "240           559 Avenue de tournamy          NaN        6085          NaN   \n",
       "241            Jetée Albert Édouard           NaN        6029     Cliiink    \n",
       "244                 Avenue lamartine          NaN        6085          NaN   \n",
       "\n",
       "    accessibilite creation   date_creation modification  date_modification  \\\n",
       "3             NaN  chpayet  20200107144907      chpayet     20200107151944   \n",
       "10            NaN  chpayet  20200109133806      chpayet     20200109133806   \n",
       "12            NaN  chpayet  20200109134011      chpayet     20200109134011   \n",
       "14            NaN  chpayet  20200109142650      chpayet     20200109142650   \n",
       "16            NaN  chpayet  20200109143304      chpayet     20200109143304   \n",
       "..            ...      ...             ...          ...                ...   \n",
       "238           NaN  chpayet  20200826104207      chpayet     20200826104207   \n",
       "239           NaN  chpayet  20200429101943      chpayet     20200727112522   \n",
       "240           NaN  chpayet  20200417093631      chpayet     20200727112720   \n",
       "241           NaN  chpayet  20200826110951      chpayet     20200826110951   \n",
       "244           NaN  chpayet  20200310095656      chpayet     20200727124020   \n",
       "\n",
       "                                   globalid  etat        _x         _y  \n",
       "3    {BB3F959C-2915-455B-8665-C1958EC20BEE}   NaN  6.940708  43.523388  \n",
       "10   {D0A7BC88-1178-4D57-9DC0-DCB31FA6A0F1}   NaN  6.927899  43.528717  \n",
       "12   {83093452-9E4C-40B1-93DC-71685B53EEF9}   NaN  6.927634  43.528385  \n",
       "14   {DDA78DC1-F178-4F3D-BC26-4F918D8527FC}   NaN  6.924761  43.540428  \n",
       "16   {82033326-658A-4294-AE25-6AF6C2625AB9}   NaN  6.917920  43.538967  \n",
       "..                                      ...   ...       ...        ...  \n",
       "238  {909437DD-6156-49A1-9D07-79FF642C2F27}   NaN  7.012311  43.549591  \n",
       "239  {49967CED-F997-4F6E-912E-6F67E6FDBD06}   NaN  6.997450  43.600979  \n",
       "240  {0378EE97-249E-4D88-AC58-BAE3B29B6549}   NaN  6.986272  43.601948  \n",
       "241  {63D92ABB-A0B8-4179-B954-D378360AE4AA}   NaN  7.017046  43.548573  \n",
       "244  {1C052AE4-0F18-4195-902C-21DFA6CBCFE0}   NaN  6.985004  43.574413  \n",
       "\n",
       "[165 rows x 20 columns]"
      ],
      "text/html": "<div>\n<style scoped>\n    .dataframe tbody tr th:only-of-type {\n        vertical-align: middle;\n    }\n\n    .dataframe tbody tr th {\n        vertical-align: top;\n    }\n\n    .dataframe thead th {\n        text-align: right;\n    }\n</style>\n<table border=\"1\" class=\"dataframe\">\n  <thead>\n    <tr style=\"text-align: right;\">\n      <th></th>\n      <th>objectid</th>\n      <th>id</th>\n      <th>type</th>\n      <th>volume</th>\n      <th>quantite</th>\n      <th>marque</th>\n      <th>date_instal</th>\n      <th>adresse</th>\n      <th>adresse_comp</th>\n      <th>code_insee</th>\n      <th>observations</th>\n      <th>accessibilite</th>\n      <th>creation</th>\n      <th>date_creation</th>\n      <th>modification</th>\n      <th>date_modification</th>\n      <th>globalid</th>\n      <th>etat</th>\n      <th>_x</th>\n      <th>_y</th>\n    </tr>\n  </thead>\n  <tbody>\n    <tr>\n      <th>3</th>\n      <td>1601</td>\n      <td>NaN</td>\n      <td>PAV cuve enterrée</td>\n      <td>4 m3</td>\n      <td>1</td>\n      <td></td>\n      <td>NaN</td>\n      <td>Parking jean aulas</td>\n      <td>NaN</td>\n      <td>6079</td>\n      <td>NaN</td>\n      <td>NaN</td>\n      <td>chpayet</td>\n      <td>20200107144907</td>\n      <td>chpayet</td>\n      <td>20200107151944</td>\n      <td>{BB3F959C-2915-455B-8665-C1958EC20BEE}</td>\n      <td>NaN</td>\n      <td>6.940708</td>\n      <td>43.523388</td>\n    </tr>\n    <tr>\n      <th>10</th>\n      <td>2002</td>\n      <td>NaN</td>\n      <td>PAV cuve enterrée</td>\n      <td>4 m3</td>\n      <td>1</td>\n      <td></td>\n      <td>NaN</td>\n      <td>Place de provence</td>\n      <td>NaN</td>\n      <td>6079</td>\n      <td>NaN</td>\n      <td>NaN</td>\n      <td>chpayet</td>\n      <td>20200109133806</td>\n      <td>chpayet</td>\n      <td>20200109133806</td>\n      <td>{D0A7BC88-1178-4D57-9DC0-DCB31FA6A0F1}</td>\n      <td>NaN</td>\n      <td>6.927899</td>\n      <td>43.528717</td>\n    </tr>\n    <tr>\n      <th>12</th>\n      <td>2003</td>\n      <td>NaN</td>\n      <td>PAV cuve enterrée</td>\n      <td>4 m3</td>\n      <td>1</td>\n      <td></td>\n      <td>NaN</td>\n      <td>Place de Provence</td>\n      <td>NaN</td>\n      <td>6079</td>\n      <td>NaN</td>\n      <td>NaN</td>\n      <td>chpayet</td>\n      <td>20200109134011</td>\n      <td>chpayet</td>\n      <td>20200109134011</td>\n      <td>{83093452-9E4C-40B1-93DC-71685B53EEF9}</td>\n      <td>NaN</td>\n      <td>6.927634</td>\n      <td>43.528385</td>\n    </tr>\n    <tr>\n      <th>14</th>\n      <td>2005</td>\n      <td>NaN</td>\n      <td>PAV cuve enterrée</td>\n      <td>4 m3</td>\n      <td>1</td>\n      <td></td>\n      <td>NaN</td>\n      <td>Avenue Robert schuman</td>\n      <td>NaN</td>\n      <td>6079</td>\n      <td>NaN</td>\n      <td>NaN</td>\n      <td>chpayet</td>\n      <td>20200109142650</td>\n      <td>chpayet</td>\n      <td>20200109142650</td>\n      <td>{DDA78DC1-F178-4F3D-BC26-4F918D8527FC}</td>\n      <td>NaN</td>\n      <td>6.924761</td>\n      <td>43.540428</td>\n    </tr>\n    <tr>\n      <th>16</th>\n      <td>2006</td>\n      <td>NaN</td>\n      <td>Colonne aérienne</td>\n      <td>3 m3</td>\n      <td>1</td>\n      <td></td>\n      <td>NaN</td>\n      <td>Avenue Robert Schuman</td>\n      <td>NaN</td>\n      <td>6079</td>\n      <td>NaN</td>\n      <td>NaN</td>\n      <td>chpayet</td>\n      <td>20200109143304</td>\n      <td>chpayet</td>\n      <td>20200109143304</td>\n      <td>{82033326-658A-4294-AE25-6AF6C2625AB9}</td>\n      <td>NaN</td>\n      <td>6.917920</td>\n      <td>43.538967</td>\n    </tr>\n    <tr>\n      <th>...</th>\n      <td>...</td>\n      <td>...</td>\n      <td>...</td>\n      <td>...</td>\n      <td>...</td>\n      <td>...</td>\n      <td>...</td>\n      <td>...</td>\n      <td>...</td>\n      <td>...</td>\n      <td>...</td>\n      <td>...</td>\n      <td>...</td>\n      <td>...</td>\n      <td>...</td>\n      <td>...</td>\n      <td>...</td>\n      <td>...</td>\n      <td>...</td>\n      <td>...</td>\n    </tr>\n    <tr>\n      <th>238</th>\n      <td>17616</td>\n      <td>NaN</td>\n      <td>Colonne aérienne</td>\n      <td>3 m3</td>\n      <td>1</td>\n      <td></td>\n      <td>NaN</td>\n      <td>Quai saint pierre</td>\n      <td>NaN</td>\n      <td>6029</td>\n      <td>NaN</td>\n      <td>NaN</td>\n      <td>chpayet</td>\n      <td>20200826104207</td>\n      <td>chpayet</td>\n      <td>20200826104207</td>\n      <td>{909437DD-6156-49A1-9D07-79FF642C2F27}</td>\n      <td>NaN</td>\n      <td>7.012311</td>\n      <td>43.549591</td>\n    </tr>\n    <tr>\n      <th>239</th>\n      <td>8010</td>\n      <td>NaN</td>\n      <td>PAV cuve enterrée</td>\n      <td>4 m3</td>\n      <td>1</td>\n      <td></td>\n      <td>NaN</td>\n      <td>89 avenue du moulin de la croix</td>\n      <td>NaN</td>\n      <td>6085</td>\n      <td>Cliiink</td>\n      <td>NaN</td>\n      <td>chpayet</td>\n      <td>20200429101943</td>\n      <td>chpayet</td>\n      <td>20200727112522</td>\n      <td>{49967CED-F997-4F6E-912E-6F67E6FDBD06}</td>\n      <td>NaN</td>\n      <td>6.997450</td>\n      <td>43.600979</td>\n    </tr>\n    <tr>\n      <th>240</th>\n      <td>7616</td>\n      <td>NaN</td>\n      <td>Colonne aérienne</td>\n      <td>4 m3</td>\n      <td>1</td>\n      <td></td>\n      <td>NaN</td>\n      <td>559 Avenue de tournamy</td>\n      <td>NaN</td>\n      <td>6085</td>\n      <td>NaN</td>\n      <td>NaN</td>\n      <td>chpayet</td>\n      <td>20200417093631</td>\n      <td>chpayet</td>\n      <td>20200727112720</td>\n      <td>{0378EE97-249E-4D88-AC58-BAE3B29B6549}</td>\n      <td>NaN</td>\n      <td>6.986272</td>\n      <td>43.601948</td>\n    </tr>\n    <tr>\n      <th>241</th>\n      <td>17617</td>\n      <td>NaN</td>\n      <td>Colonne aérienne</td>\n      <td>4 m3</td>\n      <td>1</td>\n      <td></td>\n      <td>NaN</td>\n      <td>Jetée Albert Édouard</td>\n      <td>NaN</td>\n      <td>6029</td>\n      <td>Cliiink</td>\n      <td>NaN</td>\n      <td>chpayet</td>\n      <td>20200826110951</td>\n      <td>chpayet</td>\n      <td>20200826110951</td>\n      <td>{63D92ABB-A0B8-4179-B954-D378360AE4AA}</td>\n      <td>NaN</td>\n      <td>7.017046</td>\n      <td>43.548573</td>\n    </tr>\n    <tr>\n      <th>244</th>\n      <td>7210</td>\n      <td>NaN</td>\n      <td>PAV cuve enterrée</td>\n      <td>4 m3</td>\n      <td>1</td>\n      <td></td>\n      <td>NaN</td>\n      <td>Avenue lamartine</td>\n      <td>NaN</td>\n      <td>6085</td>\n      <td>NaN</td>\n      <td>NaN</td>\n      <td>chpayet</td>\n      <td>20200310095656</td>\n      <td>chpayet</td>\n      <td>20200727124020</td>\n      <td>{1C052AE4-0F18-4195-902C-21DFA6CBCFE0}</td>\n      <td>NaN</td>\n      <td>6.985004</td>\n      <td>43.574413</td>\n    </tr>\n  </tbody>\n</table>\n<p>165 rows × 20 columns</p>\n</div>"
     },
     "metadata": {},
     "execution_count": 63
    }
   ],
   "source": [
    "dataVerre[dataVerre.marque == \" \"]"
   ]
  },
  {
   "cell_type": "markdown",
   "metadata": {},
   "source": [
    "Plusieurs collecteurs partagent la même adresse"
   ]
  },
  {
   "cell_type": "code",
   "execution_count": 64,
   "metadata": {
    "scrolled": true
   },
   "outputs": [
    {
     "output_type": "execute_result",
     "data": {
      "text/plain": [
       "Chemin de garibondy            2\n",
       "Chemin bastide rouge           2\n",
       "Route du golf                  2\n",
       "Avenue du riou                 2\n",
       "Avenue des buissons ardents    2\n",
       "                              ..\n",
       "1 rue de lerins                1\n",
       "Avenue janvier passero         1\n",
       "allee henri barbara            1\n",
       "Domaine du grand duc           1\n",
       "Rue Félix faure                1\n",
       "Name: adresse, Length: 237, dtype: int64"
      ]
     },
     "metadata": {},
     "execution_count": 64
    }
   ],
   "source": [
    "dataVerre.adresse.value_counts()"
   ]
  },
  {
   "cell_type": "markdown",
   "metadata": {},
   "source": [
    "Ces collecteurs sont nombreux à Cannes"
   ]
  },
  {
   "cell_type": "code",
   "execution_count": 65,
   "metadata": {},
   "outputs": [
    {
     "output_type": "execute_result",
     "data": {
      "text/plain": [
       "6029    141\n",
       "6030     42\n",
       "6079     39\n",
       "6085     19\n",
       "6138      6\n",
       "Name: code_insee, dtype: int64"
      ]
     },
     "metadata": {},
     "execution_count": 65
    }
   ],
   "source": [
    "dataVerre.code_insee.value_counts()"
   ]
  },
  {
   "cell_type": "markdown",
   "metadata": {},
   "source": [
    "70 commentaires sont indiqués dont 69 pour préciser qu'il s'agit du dispositif Cliiink (à harmoniser)"
   ]
  },
  {
   "cell_type": "code",
   "execution_count": 66,
   "metadata": {
    "scrolled": true
   },
   "outputs": [
    {
     "output_type": "execute_result",
     "data": {
      "text/plain": [
       "     objectid  id               type volume  quantite marque  date_instal  \\\n",
       "21       3606 NaN   Colonne aérienne   2 m3         1    NaN          NaN   \n",
       "22       2403 NaN   Colonne aérienne   2 m3         1                 NaN   \n",
       "27       3608 NaN   Colonne aérienne   2 m3         1                 NaN   \n",
       "29       3204 NaN  PAV cuve enterrée   4 m3         1                 NaN   \n",
       "33       3208 NaN   Colonne aérienne   3 m3         1  Citec          NaN   \n",
       "..        ...  ..                ...    ...       ...    ...          ...   \n",
       "223      8011 NaN   Colonne aérienne   4 m3         1                 NaN   \n",
       "225      7615 NaN  PAV cuve enterrée   4 m3         1                 NaN   \n",
       "234     16818 NaN  PAV cuve enterrée   4 m3         1                 NaN   \n",
       "239      8010 NaN  PAV cuve enterrée   4 m3         1                 NaN   \n",
       "241     17617 NaN   Colonne aérienne   4 m3         1                 NaN   \n",
       "\n",
       "                             adresse adresse_comp  code_insee observations  \\\n",
       "21          32 boulevard de lorraine          NaN        6029     Cliiink    \n",
       "22                  Rue Louis Blanc           NaN        6029      Cliiink   \n",
       "27                   1 rue de lerins          NaN        6029     Cliiink    \n",
       "29                   Rue cité jardin          NaN        6030      Cliiink   \n",
       "33      Rue de cannes impasse bracco          NaN        6030      Cliiink   \n",
       "..                               ...          ...         ...          ...   \n",
       "223      Chemin de la grande bastide          NaN        6085     Cliiink    \n",
       "225             Avenue maréchal juin          NaN        6085     Cliiink    \n",
       "234             Avenue Marcel pagnol          NaN        6079     Cliiink    \n",
       "239  89 avenue du moulin de la croix          NaN        6085     Cliiink    \n",
       "241            Jetée Albert Édouard           NaN        6029     Cliiink    \n",
       "\n",
       "    accessibilite creation   date_creation modification  date_modification  \\\n",
       "21            NaN  chpayet  20200205093613      chpayet     20200205093613   \n",
       "22            Oui  chpayet  20200128092519      chpayet     20200128092519   \n",
       "27            NaN  chpayet  20200205101056      chpayet     20200205101056   \n",
       "29            NaN  chpayet  20200130134852      chpayet     20200130134852   \n",
       "33            NaN  chpayet  20200130142816      chpayet     20200130142816   \n",
       "..            ...      ...             ...          ...                ...   \n",
       "223           NaN  chpayet  20200429103638      chpayet     20200727102707   \n",
       "225           NaN  chpayet  20200417091629      chpayet     20200727102825   \n",
       "234           NaN  chpayet  20200824134326      chpayet     20200824134326   \n",
       "239           NaN  chpayet  20200429101943      chpayet     20200727112522   \n",
       "241           NaN  chpayet  20200826110951      chpayet     20200826110951   \n",
       "\n",
       "                                   globalid  etat        _x         _y  \n",
       "21   {44EB09E9-AB65-4ACC-8685-BB111FCE8242}   NaN  7.027551  43.552998  \n",
       "22   {1B25A481-FA71-4110-B3A3-80E990577707}   NaN  7.012897  43.552677  \n",
       "27   {13422586-12A7-4648-A89C-5FD30B8CF394}   NaN  7.026492  43.551556  \n",
       "29   {6A1F143D-B0ED-4BA0-852E-DA87DDDB81AA}   NaN  6.998053  43.576694  \n",
       "33   {794F5B1F-9499-4B0B-B1A9-B432A79E7FFA}   NaN  7.019801  43.571999  \n",
       "..                                      ...   ...       ...        ...  \n",
       "223  {E82AD6BA-DEF2-4E60-97B7-339EC843B02F}   NaN  6.990376  43.590302  \n",
       "225  {68B52455-1001-4ECA-8864-AB3691C59C5D}   NaN  6.988114  43.596291  \n",
       "234  {E1D75A70-538A-4D54-8AA0-A9C66CE98B64}   NaN  6.942297  43.547222  \n",
       "239  {49967CED-F997-4F6E-912E-6F67E6FDBD06}   NaN  6.997450  43.600979  \n",
       "241  {63D92ABB-A0B8-4179-B954-D378360AE4AA}   NaN  7.017046  43.548573  \n",
       "\n",
       "[70 rows x 20 columns]"
      ],
      "text/html": "<div>\n<style scoped>\n    .dataframe tbody tr th:only-of-type {\n        vertical-align: middle;\n    }\n\n    .dataframe tbody tr th {\n        vertical-align: top;\n    }\n\n    .dataframe thead th {\n        text-align: right;\n    }\n</style>\n<table border=\"1\" class=\"dataframe\">\n  <thead>\n    <tr style=\"text-align: right;\">\n      <th></th>\n      <th>objectid</th>\n      <th>id</th>\n      <th>type</th>\n      <th>volume</th>\n      <th>quantite</th>\n      <th>marque</th>\n      <th>date_instal</th>\n      <th>adresse</th>\n      <th>adresse_comp</th>\n      <th>code_insee</th>\n      <th>observations</th>\n      <th>accessibilite</th>\n      <th>creation</th>\n      <th>date_creation</th>\n      <th>modification</th>\n      <th>date_modification</th>\n      <th>globalid</th>\n      <th>etat</th>\n      <th>_x</th>\n      <th>_y</th>\n    </tr>\n  </thead>\n  <tbody>\n    <tr>\n      <th>21</th>\n      <td>3606</td>\n      <td>NaN</td>\n      <td>Colonne aérienne</td>\n      <td>2 m3</td>\n      <td>1</td>\n      <td>NaN</td>\n      <td>NaN</td>\n      <td>32 boulevard de lorraine</td>\n      <td>NaN</td>\n      <td>6029</td>\n      <td>Cliiink</td>\n      <td>NaN</td>\n      <td>chpayet</td>\n      <td>20200205093613</td>\n      <td>chpayet</td>\n      <td>20200205093613</td>\n      <td>{44EB09E9-AB65-4ACC-8685-BB111FCE8242}</td>\n      <td>NaN</td>\n      <td>7.027551</td>\n      <td>43.552998</td>\n    </tr>\n    <tr>\n      <th>22</th>\n      <td>2403</td>\n      <td>NaN</td>\n      <td>Colonne aérienne</td>\n      <td>2 m3</td>\n      <td>1</td>\n      <td></td>\n      <td>NaN</td>\n      <td>Rue Louis Blanc</td>\n      <td>NaN</td>\n      <td>6029</td>\n      <td>Cliiink</td>\n      <td>Oui</td>\n      <td>chpayet</td>\n      <td>20200128092519</td>\n      <td>chpayet</td>\n      <td>20200128092519</td>\n      <td>{1B25A481-FA71-4110-B3A3-80E990577707}</td>\n      <td>NaN</td>\n      <td>7.012897</td>\n      <td>43.552677</td>\n    </tr>\n    <tr>\n      <th>27</th>\n      <td>3608</td>\n      <td>NaN</td>\n      <td>Colonne aérienne</td>\n      <td>2 m3</td>\n      <td>1</td>\n      <td></td>\n      <td>NaN</td>\n      <td>1 rue de lerins</td>\n      <td>NaN</td>\n      <td>6029</td>\n      <td>Cliiink</td>\n      <td>NaN</td>\n      <td>chpayet</td>\n      <td>20200205101056</td>\n      <td>chpayet</td>\n      <td>20200205101056</td>\n      <td>{13422586-12A7-4648-A89C-5FD30B8CF394}</td>\n      <td>NaN</td>\n      <td>7.026492</td>\n      <td>43.551556</td>\n    </tr>\n    <tr>\n      <th>29</th>\n      <td>3204</td>\n      <td>NaN</td>\n      <td>PAV cuve enterrée</td>\n      <td>4 m3</td>\n      <td>1</td>\n      <td></td>\n      <td>NaN</td>\n      <td>Rue cité jardin</td>\n      <td>NaN</td>\n      <td>6030</td>\n      <td>Cliiink</td>\n      <td>NaN</td>\n      <td>chpayet</td>\n      <td>20200130134852</td>\n      <td>chpayet</td>\n      <td>20200130134852</td>\n      <td>{6A1F143D-B0ED-4BA0-852E-DA87DDDB81AA}</td>\n      <td>NaN</td>\n      <td>6.998053</td>\n      <td>43.576694</td>\n    </tr>\n    <tr>\n      <th>33</th>\n      <td>3208</td>\n      <td>NaN</td>\n      <td>Colonne aérienne</td>\n      <td>3 m3</td>\n      <td>1</td>\n      <td>Citec</td>\n      <td>NaN</td>\n      <td>Rue de cannes impasse bracco</td>\n      <td>NaN</td>\n      <td>6030</td>\n      <td>Cliiink</td>\n      <td>NaN</td>\n      <td>chpayet</td>\n      <td>20200130142816</td>\n      <td>chpayet</td>\n      <td>20200130142816</td>\n      <td>{794F5B1F-9499-4B0B-B1A9-B432A79E7FFA}</td>\n      <td>NaN</td>\n      <td>7.019801</td>\n      <td>43.571999</td>\n    </tr>\n    <tr>\n      <th>...</th>\n      <td>...</td>\n      <td>...</td>\n      <td>...</td>\n      <td>...</td>\n      <td>...</td>\n      <td>...</td>\n      <td>...</td>\n      <td>...</td>\n      <td>...</td>\n      <td>...</td>\n      <td>...</td>\n      <td>...</td>\n      <td>...</td>\n      <td>...</td>\n      <td>...</td>\n      <td>...</td>\n      <td>...</td>\n      <td>...</td>\n      <td>...</td>\n      <td>...</td>\n    </tr>\n    <tr>\n      <th>223</th>\n      <td>8011</td>\n      <td>NaN</td>\n      <td>Colonne aérienne</td>\n      <td>4 m3</td>\n      <td>1</td>\n      <td></td>\n      <td>NaN</td>\n      <td>Chemin de la grande bastide</td>\n      <td>NaN</td>\n      <td>6085</td>\n      <td>Cliiink</td>\n      <td>NaN</td>\n      <td>chpayet</td>\n      <td>20200429103638</td>\n      <td>chpayet</td>\n      <td>20200727102707</td>\n      <td>{E82AD6BA-DEF2-4E60-97B7-339EC843B02F}</td>\n      <td>NaN</td>\n      <td>6.990376</td>\n      <td>43.590302</td>\n    </tr>\n    <tr>\n      <th>225</th>\n      <td>7615</td>\n      <td>NaN</td>\n      <td>PAV cuve enterrée</td>\n      <td>4 m3</td>\n      <td>1</td>\n      <td></td>\n      <td>NaN</td>\n      <td>Avenue maréchal juin</td>\n      <td>NaN</td>\n      <td>6085</td>\n      <td>Cliiink</td>\n      <td>NaN</td>\n      <td>chpayet</td>\n      <td>20200417091629</td>\n      <td>chpayet</td>\n      <td>20200727102825</td>\n      <td>{68B52455-1001-4ECA-8864-AB3691C59C5D}</td>\n      <td>NaN</td>\n      <td>6.988114</td>\n      <td>43.596291</td>\n    </tr>\n    <tr>\n      <th>234</th>\n      <td>16818</td>\n      <td>NaN</td>\n      <td>PAV cuve enterrée</td>\n      <td>4 m3</td>\n      <td>1</td>\n      <td></td>\n      <td>NaN</td>\n      <td>Avenue Marcel pagnol</td>\n      <td>NaN</td>\n      <td>6079</td>\n      <td>Cliiink</td>\n      <td>NaN</td>\n      <td>chpayet</td>\n      <td>20200824134326</td>\n      <td>chpayet</td>\n      <td>20200824134326</td>\n      <td>{E1D75A70-538A-4D54-8AA0-A9C66CE98B64}</td>\n      <td>NaN</td>\n      <td>6.942297</td>\n      <td>43.547222</td>\n    </tr>\n    <tr>\n      <th>239</th>\n      <td>8010</td>\n      <td>NaN</td>\n      <td>PAV cuve enterrée</td>\n      <td>4 m3</td>\n      <td>1</td>\n      <td></td>\n      <td>NaN</td>\n      <td>89 avenue du moulin de la croix</td>\n      <td>NaN</td>\n      <td>6085</td>\n      <td>Cliiink</td>\n      <td>NaN</td>\n      <td>chpayet</td>\n      <td>20200429101943</td>\n      <td>chpayet</td>\n      <td>20200727112522</td>\n      <td>{49967CED-F997-4F6E-912E-6F67E6FDBD06}</td>\n      <td>NaN</td>\n      <td>6.997450</td>\n      <td>43.600979</td>\n    </tr>\n    <tr>\n      <th>241</th>\n      <td>17617</td>\n      <td>NaN</td>\n      <td>Colonne aérienne</td>\n      <td>4 m3</td>\n      <td>1</td>\n      <td></td>\n      <td>NaN</td>\n      <td>Jetée Albert Édouard</td>\n      <td>NaN</td>\n      <td>6029</td>\n      <td>Cliiink</td>\n      <td>NaN</td>\n      <td>chpayet</td>\n      <td>20200826110951</td>\n      <td>chpayet</td>\n      <td>20200826110951</td>\n      <td>{63D92ABB-A0B8-4179-B954-D378360AE4AA}</td>\n      <td>NaN</td>\n      <td>7.017046</td>\n      <td>43.548573</td>\n    </tr>\n  </tbody>\n</table>\n<p>70 rows × 20 columns</p>\n</div>"
     },
     "metadata": {},
     "execution_count": 66
    }
   ],
   "source": [
    "dataVerre[dataVerre.observations.notna()]"
   ]
  },
  {
   "cell_type": "code",
   "execution_count": 67,
   "metadata": {},
   "outputs": [
    {
     "output_type": "execute_result",
     "data": {
      "text/plain": [
       "Cliiink      55\n",
       "Cliiink      14\n",
       "Face gifi     1\n",
       "Name: observations, dtype: int64"
      ]
     },
     "metadata": {},
     "execution_count": 67
    }
   ],
   "source": [
    "dataVerre.observations.value_counts()"
   ]
  },
  {
   "source": [
    "12 collecteurs ont le champs accessibilite complété"
   ],
   "cell_type": "markdown",
   "metadata": {}
  },
  {
   "cell_type": "code",
   "execution_count": 68,
   "metadata": {},
   "outputs": [
    {
     "output_type": "execute_result",
     "data": {
      "text/plain": [
       "     objectid  id              type volume  quantite          marque  \\\n",
       "22       2403 NaN  Colonne aérienne   2 m3         1                   \n",
       "62      15216 NaN  Colonne aérienne   3 m3         1                   \n",
       "65       5212 NaN  Colonne aérienne   2 m3         1                   \n",
       "86      15217 NaN  Colonne aérienne   3 m3         1                   \n",
       "88       8405 NaN  Colonne aérienne   2 m3         1                   \n",
       "121      9210 NaN  Colonne aérienne   2 m3         1                   \n",
       "146     12821 NaN  Colonne aérienne   2 m3         1                   \n",
       "176      5614 NaN  Colonne aérienne   4 m3         1  Plastic Omnium   \n",
       "185      5612 NaN  Colonne aérienne   4 m3         1  Plastic Omnium   \n",
       "202      3210 NaN  Colonne aérienne   4 m3         1  Plastic Omnium   \n",
       "218      8808 NaN  Colonne aérienne   4 m3         1  Plastic Omnium   \n",
       "222      6805 NaN  Colonne aérienne   4 m3         1  Plastic Omnium   \n",
       "\n",
       "     date_instal                      adresse     adresse_comp  code_insee  \\\n",
       "22           NaN             Rue Louis Blanc               NaN        6029   \n",
       "62           NaN      30 avenue de la roubine              NaN        6029   \n",
       "65           NaN             Pointe croisette              NaN        6029   \n",
       "86           NaN          Chemin de garibondy  La Croix du sud        6030   \n",
       "88           NaN     161 avenue Francis toner              NaN        6029   \n",
       "121          NaN         Avenue saint exupery              NaN        6029   \n",
       "146          NaN            Boulevard du midi              NaN        6029   \n",
       "176          NaN  Avenue du général de gaulle   Parking casino        6030   \n",
       "185          NaN            7 rue Jules ferry              NaN        6030   \n",
       "202          NaN             Avenue mont joli              NaN        6030   \n",
       "218          NaN             Chemin de gavary              NaN        6029   \n",
       "222          NaN            Chemin de campane              NaN        6085   \n",
       "\n",
       "    observations accessibilite creation   date_creation modification  \\\n",
       "22       Cliiink           Oui  chpayet  20200128092519      chpayet   \n",
       "62           NaN           Oui  chpayet  20200731111522      chpayet   \n",
       "65      Cliiink            Oui  chpayet  20200212094635      chpayet   \n",
       "86           NaN           Oui  chpayet  20200731133713      chpayet   \n",
       "88     Face gifi           Oui  chpayet  20200505072023      chpayet   \n",
       "121          NaN           Oui  chpayet  20200512084130      chpayet   \n",
       "146          NaN           Oui  chpayet  20200630132515      chpayet   \n",
       "176     Cliiink            Oui  chpayet  20200213102016      chpayet   \n",
       "185          NaN           Oui  chpayet  20200213100426      chpayet   \n",
       "202          NaN           Oui  chpayet  20200130145916      chpayet   \n",
       "218          NaN           Oui  chpayet  20200507090608      chpayet   \n",
       "222     Cliiink            Oui  chpayet  20200220081557      chpayet   \n",
       "\n",
       "     date_modification                                globalid  etat  \\\n",
       "22      20200128092519  {1B25A481-FA71-4110-B3A3-80E990577707}   NaN   \n",
       "62      20200731111522  {D71E4D12-82A5-475B-AE3A-3165971D0008}   NaN   \n",
       "65      20200212094635  {247A416F-DF46-4ABE-943E-5EC4A2F0E221}   NaN   \n",
       "86      20200731133713  {57EAECC4-1EC0-4138-91BD-EFB3CDC07104}   NaN   \n",
       "88      20200505072023  {F7394B1B-5FF2-4F05-AF0E-7A69708CC2ED}   NaN   \n",
       "121     20200512084130  {2A8FE16A-89AA-4035-860E-CC94AD8239A4}   NaN   \n",
       "146     20200630132515  {833672D2-ECBC-44D2-8CE7-F0A677FBA5D0}   NaN   \n",
       "176     20200722115150  {8E227332-164B-49D3-85D0-B2F6B5AADEF5}   NaN   \n",
       "185     20200722120510  {AC290C63-7627-46E8-8D9F-C2D699565324}   NaN   \n",
       "202     20200722123501  {623C649B-5178-4C7A-9FF0-0C7F6350E697}   NaN   \n",
       "218     20200723132331  {0528846E-354E-46A0-A941-89E23E812E38}   NaN   \n",
       "222     20200727102639  {E198FC0D-D178-47A1-8220-4BA0FBE5DC98}   NaN   \n",
       "\n",
       "           _x         _y  \n",
       "22   7.012897  43.552677  \n",
       "62   6.974566  43.548424  \n",
       "65   7.036671  43.537151  \n",
       "86   6.983125  43.565845  \n",
       "88   6.970941  43.549644  \n",
       "121  6.954528  43.554916  \n",
       "146  6.962455  43.542328  \n",
       "176  6.995798  43.569164  \n",
       "185  7.000851  43.572971  \n",
       "202  7.009541  43.580826  \n",
       "218  7.031658  43.570209  \n",
       "222  6.998522  43.587772  "
      ],
      "text/html": "<div>\n<style scoped>\n    .dataframe tbody tr th:only-of-type {\n        vertical-align: middle;\n    }\n\n    .dataframe tbody tr th {\n        vertical-align: top;\n    }\n\n    .dataframe thead th {\n        text-align: right;\n    }\n</style>\n<table border=\"1\" class=\"dataframe\">\n  <thead>\n    <tr style=\"text-align: right;\">\n      <th></th>\n      <th>objectid</th>\n      <th>id</th>\n      <th>type</th>\n      <th>volume</th>\n      <th>quantite</th>\n      <th>marque</th>\n      <th>date_instal</th>\n      <th>adresse</th>\n      <th>adresse_comp</th>\n      <th>code_insee</th>\n      <th>observations</th>\n      <th>accessibilite</th>\n      <th>creation</th>\n      <th>date_creation</th>\n      <th>modification</th>\n      <th>date_modification</th>\n      <th>globalid</th>\n      <th>etat</th>\n      <th>_x</th>\n      <th>_y</th>\n    </tr>\n  </thead>\n  <tbody>\n    <tr>\n      <th>22</th>\n      <td>2403</td>\n      <td>NaN</td>\n      <td>Colonne aérienne</td>\n      <td>2 m3</td>\n      <td>1</td>\n      <td></td>\n      <td>NaN</td>\n      <td>Rue Louis Blanc</td>\n      <td>NaN</td>\n      <td>6029</td>\n      <td>Cliiink</td>\n      <td>Oui</td>\n      <td>chpayet</td>\n      <td>20200128092519</td>\n      <td>chpayet</td>\n      <td>20200128092519</td>\n      <td>{1B25A481-FA71-4110-B3A3-80E990577707}</td>\n      <td>NaN</td>\n      <td>7.012897</td>\n      <td>43.552677</td>\n    </tr>\n    <tr>\n      <th>62</th>\n      <td>15216</td>\n      <td>NaN</td>\n      <td>Colonne aérienne</td>\n      <td>3 m3</td>\n      <td>1</td>\n      <td></td>\n      <td>NaN</td>\n      <td>30 avenue de la roubine</td>\n      <td>NaN</td>\n      <td>6029</td>\n      <td>NaN</td>\n      <td>Oui</td>\n      <td>chpayet</td>\n      <td>20200731111522</td>\n      <td>chpayet</td>\n      <td>20200731111522</td>\n      <td>{D71E4D12-82A5-475B-AE3A-3165971D0008}</td>\n      <td>NaN</td>\n      <td>6.974566</td>\n      <td>43.548424</td>\n    </tr>\n    <tr>\n      <th>65</th>\n      <td>5212</td>\n      <td>NaN</td>\n      <td>Colonne aérienne</td>\n      <td>2 m3</td>\n      <td>1</td>\n      <td></td>\n      <td>NaN</td>\n      <td>Pointe croisette</td>\n      <td>NaN</td>\n      <td>6029</td>\n      <td>Cliiink</td>\n      <td>Oui</td>\n      <td>chpayet</td>\n      <td>20200212094635</td>\n      <td>chpayet</td>\n      <td>20200212094635</td>\n      <td>{247A416F-DF46-4ABE-943E-5EC4A2F0E221}</td>\n      <td>NaN</td>\n      <td>7.036671</td>\n      <td>43.537151</td>\n    </tr>\n    <tr>\n      <th>86</th>\n      <td>15217</td>\n      <td>NaN</td>\n      <td>Colonne aérienne</td>\n      <td>3 m3</td>\n      <td>1</td>\n      <td></td>\n      <td>NaN</td>\n      <td>Chemin de garibondy</td>\n      <td>La Croix du sud</td>\n      <td>6030</td>\n      <td>NaN</td>\n      <td>Oui</td>\n      <td>chpayet</td>\n      <td>20200731133713</td>\n      <td>chpayet</td>\n      <td>20200731133713</td>\n      <td>{57EAECC4-1EC0-4138-91BD-EFB3CDC07104}</td>\n      <td>NaN</td>\n      <td>6.983125</td>\n      <td>43.565845</td>\n    </tr>\n    <tr>\n      <th>88</th>\n      <td>8405</td>\n      <td>NaN</td>\n      <td>Colonne aérienne</td>\n      <td>2 m3</td>\n      <td>1</td>\n      <td></td>\n      <td>NaN</td>\n      <td>161 avenue Francis toner</td>\n      <td>NaN</td>\n      <td>6029</td>\n      <td>Face gifi</td>\n      <td>Oui</td>\n      <td>chpayet</td>\n      <td>20200505072023</td>\n      <td>chpayet</td>\n      <td>20200505072023</td>\n      <td>{F7394B1B-5FF2-4F05-AF0E-7A69708CC2ED}</td>\n      <td>NaN</td>\n      <td>6.970941</td>\n      <td>43.549644</td>\n    </tr>\n    <tr>\n      <th>121</th>\n      <td>9210</td>\n      <td>NaN</td>\n      <td>Colonne aérienne</td>\n      <td>2 m3</td>\n      <td>1</td>\n      <td></td>\n      <td>NaN</td>\n      <td>Avenue saint exupery</td>\n      <td>NaN</td>\n      <td>6029</td>\n      <td>NaN</td>\n      <td>Oui</td>\n      <td>chpayet</td>\n      <td>20200512084130</td>\n      <td>chpayet</td>\n      <td>20200512084130</td>\n      <td>{2A8FE16A-89AA-4035-860E-CC94AD8239A4}</td>\n      <td>NaN</td>\n      <td>6.954528</td>\n      <td>43.554916</td>\n    </tr>\n    <tr>\n      <th>146</th>\n      <td>12821</td>\n      <td>NaN</td>\n      <td>Colonne aérienne</td>\n      <td>2 m3</td>\n      <td>1</td>\n      <td></td>\n      <td>NaN</td>\n      <td>Boulevard du midi</td>\n      <td>NaN</td>\n      <td>6029</td>\n      <td>NaN</td>\n      <td>Oui</td>\n      <td>chpayet</td>\n      <td>20200630132515</td>\n      <td>chpayet</td>\n      <td>20200630132515</td>\n      <td>{833672D2-ECBC-44D2-8CE7-F0A677FBA5D0}</td>\n      <td>NaN</td>\n      <td>6.962455</td>\n      <td>43.542328</td>\n    </tr>\n    <tr>\n      <th>176</th>\n      <td>5614</td>\n      <td>NaN</td>\n      <td>Colonne aérienne</td>\n      <td>4 m3</td>\n      <td>1</td>\n      <td>Plastic Omnium</td>\n      <td>NaN</td>\n      <td>Avenue du général de gaulle</td>\n      <td>Parking casino</td>\n      <td>6030</td>\n      <td>Cliiink</td>\n      <td>Oui</td>\n      <td>chpayet</td>\n      <td>20200213102016</td>\n      <td>chpayet</td>\n      <td>20200722115150</td>\n      <td>{8E227332-164B-49D3-85D0-B2F6B5AADEF5}</td>\n      <td>NaN</td>\n      <td>6.995798</td>\n      <td>43.569164</td>\n    </tr>\n    <tr>\n      <th>185</th>\n      <td>5612</td>\n      <td>NaN</td>\n      <td>Colonne aérienne</td>\n      <td>4 m3</td>\n      <td>1</td>\n      <td>Plastic Omnium</td>\n      <td>NaN</td>\n      <td>7 rue Jules ferry</td>\n      <td>NaN</td>\n      <td>6030</td>\n      <td>NaN</td>\n      <td>Oui</td>\n      <td>chpayet</td>\n      <td>20200213100426</td>\n      <td>chpayet</td>\n      <td>20200722120510</td>\n      <td>{AC290C63-7627-46E8-8D9F-C2D699565324}</td>\n      <td>NaN</td>\n      <td>7.000851</td>\n      <td>43.572971</td>\n    </tr>\n    <tr>\n      <th>202</th>\n      <td>3210</td>\n      <td>NaN</td>\n      <td>Colonne aérienne</td>\n      <td>4 m3</td>\n      <td>1</td>\n      <td>Plastic Omnium</td>\n      <td>NaN</td>\n      <td>Avenue mont joli</td>\n      <td>NaN</td>\n      <td>6030</td>\n      <td>NaN</td>\n      <td>Oui</td>\n      <td>chpayet</td>\n      <td>20200130145916</td>\n      <td>chpayet</td>\n      <td>20200722123501</td>\n      <td>{623C649B-5178-4C7A-9FF0-0C7F6350E697}</td>\n      <td>NaN</td>\n      <td>7.009541</td>\n      <td>43.580826</td>\n    </tr>\n    <tr>\n      <th>218</th>\n      <td>8808</td>\n      <td>NaN</td>\n      <td>Colonne aérienne</td>\n      <td>4 m3</td>\n      <td>1</td>\n      <td>Plastic Omnium</td>\n      <td>NaN</td>\n      <td>Chemin de gavary</td>\n      <td>NaN</td>\n      <td>6029</td>\n      <td>NaN</td>\n      <td>Oui</td>\n      <td>chpayet</td>\n      <td>20200507090608</td>\n      <td>chpayet</td>\n      <td>20200723132331</td>\n      <td>{0528846E-354E-46A0-A941-89E23E812E38}</td>\n      <td>NaN</td>\n      <td>7.031658</td>\n      <td>43.570209</td>\n    </tr>\n    <tr>\n      <th>222</th>\n      <td>6805</td>\n      <td>NaN</td>\n      <td>Colonne aérienne</td>\n      <td>4 m3</td>\n      <td>1</td>\n      <td>Plastic Omnium</td>\n      <td>NaN</td>\n      <td>Chemin de campane</td>\n      <td>NaN</td>\n      <td>6085</td>\n      <td>Cliiink</td>\n      <td>Oui</td>\n      <td>chpayet</td>\n      <td>20200220081557</td>\n      <td>chpayet</td>\n      <td>20200727102639</td>\n      <td>{E198FC0D-D178-47A1-8220-4BA0FBE5DC98}</td>\n      <td>NaN</td>\n      <td>6.998522</td>\n      <td>43.587772</td>\n    </tr>\n  </tbody>\n</table>\n</div>"
     },
     "metadata": {},
     "execution_count": 68
    }
   ],
   "source": [
    "dataVerre[dataVerre.accessibilite.notna()]"
   ]
  },
  {
   "cell_type": "markdown",
   "metadata": {},
   "source": [
    "## Jeu de données des des collecteurs de vêtements\n",
    "### Aperçu du fichier\n",
    "Il contient 16 variables que l'on pourra étudier :\n",
    "* objectid : Identifiant de la déchèterie\n",
    "* id :\n",
    "* quantite : quantité de collecteurs\n",
    "* date_instal : date d'installation du collecteur\n",
    "* adresse : adresse du collecteur\n",
    "* adresse_comp : complément de l'adresse du collecteur\n",
    "* code_insee : code INSEE de la ville (différent du code départemental)\n",
    "* observations : observations éventuelles\n",
    "* creation : pseudo de la personne qui a enregistré le collecteur dans la BDD\n",
    "* date_creation : date et temps de l'enregistrement du collecteur dans la BDD\n",
    "* modification : peudo de la personne qui a modifié en dernier le collecteur dans la BDD\n",
    "* date_modification : date et temps de la dernière modification du collecteur dans la BDD\n",
    "* globalid : GUID (Globally Unique IDentifier)\n",
    "* etat : \n",
    "* _x : longitude du collecteur\n",
    "* _y : latitude du collecteur"
   ]
  },
  {
   "cell_type": "code",
   "execution_count": 69,
   "metadata": {
    "scrolled": true
   },
   "outputs": [
    {
     "output_type": "execute_result",
     "data": {
      "text/plain": [
       "   objectid    id  quantite  date_instal                   adresse  \\\n",
       "0       401  Kfb          1          NaN                Jb pastor    \n",
       "1       801   NaN         1          NaN       Place saint feneant   \n",
       "2      2001   NaN         1          NaN  14 boulevard mont fleury   \n",
       "3      1201   NaN         1          NaN         Parking bon puits   \n",
       "4      1601   NaN         1          NaN           Rue cite jardin   \n",
       "\n",
       "  adresse_comp  code_insee observations creation   date_creation modification  \\\n",
       "0          NaN      6138.0          NaN  chpayet  20191204094617      chpayet   \n",
       "1          NaN      6079.0          NaN  chpayet  20200107145050      chpayet   \n",
       "2          NaN      6029.0          NaN  chpayet  20200205091833      chpayet   \n",
       "3          NaN      6079.0          NaN  chpayet  20200109130612      chpayet   \n",
       "4          NaN      6030.0          NaN  chpayet  20200130134611      chpayet   \n",
       "\n",
       "   date_modification                                globalid etat        _x  \\\n",
       "0     20191204094617  {2525224C-A21B-44BB-9899-4F6EEC9F5A16}  NaN  6.938207   \n",
       "1     20200107145050  {C94FC7C5-FF62-4A58-8A07-CF4E12AE8E7C}  NaN  6.940886   \n",
       "2     20200205091833  {C7DA2614-E06A-4CE2-A527-D70DADA2056E}  NaN  7.028258   \n",
       "3     20200109130612  {6568BAEC-1E62-49C0-B1BF-E90C93E5353C}  NaN  6.932433   \n",
       "4     20200130134611  {E79685C0-DF72-4ACC-B027-993EA6424AE8}  NaN  6.998100   \n",
       "\n",
       "          _y  \n",
       "0  43.504417  \n",
       "1  43.523136  \n",
       "2  43.555180  \n",
       "3  43.522522  \n",
       "4  43.576637  "
      ],
      "text/html": "<div>\n<style scoped>\n    .dataframe tbody tr th:only-of-type {\n        vertical-align: middle;\n    }\n\n    .dataframe tbody tr th {\n        vertical-align: top;\n    }\n\n    .dataframe thead th {\n        text-align: right;\n    }\n</style>\n<table border=\"1\" class=\"dataframe\">\n  <thead>\n    <tr style=\"text-align: right;\">\n      <th></th>\n      <th>objectid</th>\n      <th>id</th>\n      <th>quantite</th>\n      <th>date_instal</th>\n      <th>adresse</th>\n      <th>adresse_comp</th>\n      <th>code_insee</th>\n      <th>observations</th>\n      <th>creation</th>\n      <th>date_creation</th>\n      <th>modification</th>\n      <th>date_modification</th>\n      <th>globalid</th>\n      <th>etat</th>\n      <th>_x</th>\n      <th>_y</th>\n    </tr>\n  </thead>\n  <tbody>\n    <tr>\n      <th>0</th>\n      <td>401</td>\n      <td>Kfb</td>\n      <td>1</td>\n      <td>NaN</td>\n      <td>Jb pastor</td>\n      <td>NaN</td>\n      <td>6138.0</td>\n      <td>NaN</td>\n      <td>chpayet</td>\n      <td>20191204094617</td>\n      <td>chpayet</td>\n      <td>20191204094617</td>\n      <td>{2525224C-A21B-44BB-9899-4F6EEC9F5A16}</td>\n      <td>NaN</td>\n      <td>6.938207</td>\n      <td>43.504417</td>\n    </tr>\n    <tr>\n      <th>1</th>\n      <td>801</td>\n      <td>NaN</td>\n      <td>1</td>\n      <td>NaN</td>\n      <td>Place saint feneant</td>\n      <td>NaN</td>\n      <td>6079.0</td>\n      <td>NaN</td>\n      <td>chpayet</td>\n      <td>20200107145050</td>\n      <td>chpayet</td>\n      <td>20200107145050</td>\n      <td>{C94FC7C5-FF62-4A58-8A07-CF4E12AE8E7C}</td>\n      <td>NaN</td>\n      <td>6.940886</td>\n      <td>43.523136</td>\n    </tr>\n    <tr>\n      <th>2</th>\n      <td>2001</td>\n      <td>NaN</td>\n      <td>1</td>\n      <td>NaN</td>\n      <td>14 boulevard mont fleury</td>\n      <td>NaN</td>\n      <td>6029.0</td>\n      <td>NaN</td>\n      <td>chpayet</td>\n      <td>20200205091833</td>\n      <td>chpayet</td>\n      <td>20200205091833</td>\n      <td>{C7DA2614-E06A-4CE2-A527-D70DADA2056E}</td>\n      <td>NaN</td>\n      <td>7.028258</td>\n      <td>43.555180</td>\n    </tr>\n    <tr>\n      <th>3</th>\n      <td>1201</td>\n      <td>NaN</td>\n      <td>1</td>\n      <td>NaN</td>\n      <td>Parking bon puits</td>\n      <td>NaN</td>\n      <td>6079.0</td>\n      <td>NaN</td>\n      <td>chpayet</td>\n      <td>20200109130612</td>\n      <td>chpayet</td>\n      <td>20200109130612</td>\n      <td>{6568BAEC-1E62-49C0-B1BF-E90C93E5353C}</td>\n      <td>NaN</td>\n      <td>6.932433</td>\n      <td>43.522522</td>\n    </tr>\n    <tr>\n      <th>4</th>\n      <td>1601</td>\n      <td>NaN</td>\n      <td>1</td>\n      <td>NaN</td>\n      <td>Rue cite jardin</td>\n      <td>NaN</td>\n      <td>6030.0</td>\n      <td>NaN</td>\n      <td>chpayet</td>\n      <td>20200130134611</td>\n      <td>chpayet</td>\n      <td>20200130134611</td>\n      <td>{E79685C0-DF72-4ACC-B027-993EA6424AE8}</td>\n      <td>NaN</td>\n      <td>6.998100</td>\n      <td>43.576637</td>\n    </tr>\n  </tbody>\n</table>\n</div>"
     },
     "metadata": {},
     "execution_count": 69
    }
   ],
   "source": [
    "dataVetement.head()"
   ]
  },
  {
   "cell_type": "markdown",
   "metadata": {},
   "source": [
    "### Dimension du jeu de données"
   ]
  },
  {
   "cell_type": "code",
   "execution_count": 70,
   "metadata": {},
   "outputs": [
    {
     "output_type": "stream",
     "name": "stdout",
     "text": [
      "Le jeu de données recense 61 collecteurs avec 16 variables\n"
     ]
    }
   ],
   "source": [
    " print(\"Le jeu de données recense\", dataVetement.shape[0], \"collecteurs avec\", dataVetement.shape[1], \"variables\")"
   ]
  },
  {
   "cell_type": "markdown",
   "metadata": {},
   "source": [
    "### Valeurs manquantes\n",
    "Le jeu de données n'est pas complet.\n",
    "\n",
    "Aucun des collecteurs ne possède de valeur pour date_instal \n",
    "\n",
    "La plupart des collecteurs n'a pas d'id ni de complément d'adresse, ni d'observation ni d'etat (ce qui n'est pas gênant)\n",
    "\n",
    "Il manque 2 codes INSEE (06029 pour Avenue Maurice chevalier et 06030 pour Déchèterie du cannet)"
   ]
  },
  {
   "cell_type": "code",
   "execution_count": 71,
   "metadata": {
    "scrolled": true
   },
   "outputs": [
    {
     "output_type": "execute_result",
     "data": {
      "text/plain": [
       "objectid              0\n",
       "id                   60\n",
       "quantite              0\n",
       "date_instal          61\n",
       "adresse               0\n",
       "adresse_comp         56\n",
       "code_insee            2\n",
       "observations         60\n",
       "creation              0\n",
       "date_creation         0\n",
       "modification          0\n",
       "date_modification     0\n",
       "globalid              0\n",
       "etat                 60\n",
       "_x                    0\n",
       "_y                    0\n",
       "dtype: int64"
      ]
     },
     "metadata": {},
     "execution_count": 71
    }
   ],
   "source": [
    "dataVetement.isna().sum()"
   ]
  },
  {
   "cell_type": "code",
   "execution_count": 72,
   "metadata": {
    "scrolled": true
   },
   "outputs": [
    {
     "output_type": "execute_result",
     "data": {
      "text/plain": [
       "    objectid   id  quantite  date_instal                    adresse  \\\n",
       "19      3604  NaN         1          NaN  Avenue Maurice chevalier    \n",
       "46      9604  NaN         1          NaN       Déchèterie du cannet   \n",
       "\n",
       "                  adresse_comp  code_insee observations creation  \\\n",
       "19  Face palais des victoires          NaN          NaN  chpayet   \n",
       "46      Traverse de l aubarede         NaN          NaN  chpayet   \n",
       "\n",
       "     date_creation modification  date_modification  \\\n",
       "19  20200213125458      chpayet     20200213125458   \n",
       "46  20200723092443      chpayet     20200723092443   \n",
       "\n",
       "                                  globalid etat        _x         _y  \n",
       "19  {20AC6A52-5E3F-4640-9D2F-10E0935BE33E}  NaN  6.961508  43.551456  \n",
       "46  {8A619D9D-52FF-453B-A1E1-043DE80F5DA0}  NaN  6.984168  43.567005  "
      ],
      "text/html": "<div>\n<style scoped>\n    .dataframe tbody tr th:only-of-type {\n        vertical-align: middle;\n    }\n\n    .dataframe tbody tr th {\n        vertical-align: top;\n    }\n\n    .dataframe thead th {\n        text-align: right;\n    }\n</style>\n<table border=\"1\" class=\"dataframe\">\n  <thead>\n    <tr style=\"text-align: right;\">\n      <th></th>\n      <th>objectid</th>\n      <th>id</th>\n      <th>quantite</th>\n      <th>date_instal</th>\n      <th>adresse</th>\n      <th>adresse_comp</th>\n      <th>code_insee</th>\n      <th>observations</th>\n      <th>creation</th>\n      <th>date_creation</th>\n      <th>modification</th>\n      <th>date_modification</th>\n      <th>globalid</th>\n      <th>etat</th>\n      <th>_x</th>\n      <th>_y</th>\n    </tr>\n  </thead>\n  <tbody>\n    <tr>\n      <th>19</th>\n      <td>3604</td>\n      <td>NaN</td>\n      <td>1</td>\n      <td>NaN</td>\n      <td>Avenue Maurice chevalier</td>\n      <td>Face palais des victoires</td>\n      <td>NaN</td>\n      <td>NaN</td>\n      <td>chpayet</td>\n      <td>20200213125458</td>\n      <td>chpayet</td>\n      <td>20200213125458</td>\n      <td>{20AC6A52-5E3F-4640-9D2F-10E0935BE33E}</td>\n      <td>NaN</td>\n      <td>6.961508</td>\n      <td>43.551456</td>\n    </tr>\n    <tr>\n      <th>46</th>\n      <td>9604</td>\n      <td>NaN</td>\n      <td>1</td>\n      <td>NaN</td>\n      <td>Déchèterie du cannet</td>\n      <td>Traverse de l aubarede</td>\n      <td>NaN</td>\n      <td>NaN</td>\n      <td>chpayet</td>\n      <td>20200723092443</td>\n      <td>chpayet</td>\n      <td>20200723092443</td>\n      <td>{8A619D9D-52FF-453B-A1E1-043DE80F5DA0}</td>\n      <td>NaN</td>\n      <td>6.984168</td>\n      <td>43.567005</td>\n    </tr>\n  </tbody>\n</table>\n</div>"
     },
     "metadata": {},
     "execution_count": 72
    }
   ],
   "source": [
    "dataVetement[dataVetement.code_insee.isna()]"
   ]
  },
  {
   "cell_type": "markdown",
   "metadata": {},
   "source": [
    "### Décompte des doublons"
   ]
  },
  {
   "cell_type": "code",
   "execution_count": 73,
   "metadata": {},
   "outputs": [
    {
     "output_type": "execute_result",
     "data": {
      "text/plain": [
       "0"
      ]
     },
     "metadata": {},
     "execution_count": 73
    }
   ],
   "source": [
    "dataVetement.duplicated().sum()"
   ]
  },
  {
   "cell_type": "markdown",
   "metadata": {},
   "source": [
    "### Notes générales"
   ]
  },
  {
   "cell_type": "markdown",
   "metadata": {},
   "source": [
    "Tous les collecteurs ont des adresses différentes"
   ]
  },
  {
   "cell_type": "code",
   "execution_count": 74,
   "metadata": {
    "scrolled": true
   },
   "outputs": [
    {
     "output_type": "execute_result",
     "data": {
      "text/plain": [
       "Boulevard de perrier           1\n",
       "Avenue lacour                  1\n",
       "22 rue Jean nobles             1\n",
       "Place du souvenir français     1\n",
       "2 chemin des vallons           1\n",
       "                              ..\n",
       "Déchèterie du cannet           1\n",
       "Avenue de la roubine           1\n",
       "Chemin du refuge               1\n",
       "1 rue de lerins                1\n",
       "Chemin bastide rouge           1\n",
       "Name: adresse, Length: 61, dtype: int64"
      ]
     },
     "metadata": {},
     "execution_count": 74
    }
   ],
   "source": [
    "dataVetement.adresse.value_counts()"
   ]
  },
  {
   "cell_type": "markdown",
   "metadata": {},
   "source": [
    "Ces collecteurs sont plus nombreux à Cannes et à Mougins"
   ]
  },
  {
   "cell_type": "code",
   "execution_count": 75,
   "metadata": {},
   "outputs": [
    {
     "output_type": "execute_result",
     "data": {
      "text/plain": [
       "6029.0    29\n",
       "6085.0    16\n",
       "6079.0     7\n",
       "6030.0     6\n",
       "6138.0     1\n",
       "Name: code_insee, dtype: int64"
      ]
     },
     "metadata": {},
     "execution_count": 75
    }
   ],
   "source": [
    "dataVetement.code_insee.value_counts()"
   ]
  },
  {
   "cell_type": "markdown",
   "metadata": {},
   "source": [
    "1 commentaire est indiqué"
   ]
  },
  {
   "cell_type": "code",
   "execution_count": 76,
   "metadata": {
    "scrolled": true
   },
   "outputs": [
    {
     "output_type": "execute_result",
     "data": {
      "text/plain": [
       "    objectid   id  quantite  date_instal                   adresse  \\\n",
       "45      6804  NaN         1          NaN  615 avenue Maurice donat   \n",
       "\n",
       "   adresse_comp  code_insee          observations creation   date_creation  \\\n",
       "45          NaN      6085.0  École mougins school  chpayet  20200514084244   \n",
       "\n",
       "   modification  date_modification                                globalid  \\\n",
       "45      chpayet     20200514084244  {456AA2A8-920C-4712-88F7-0E116FF993C5}   \n",
       "\n",
       "   etat       _x         _y  \n",
       "45  NaN  7.01446  43.612484  "
      ],
      "text/html": "<div>\n<style scoped>\n    .dataframe tbody tr th:only-of-type {\n        vertical-align: middle;\n    }\n\n    .dataframe tbody tr th {\n        vertical-align: top;\n    }\n\n    .dataframe thead th {\n        text-align: right;\n    }\n</style>\n<table border=\"1\" class=\"dataframe\">\n  <thead>\n    <tr style=\"text-align: right;\">\n      <th></th>\n      <th>objectid</th>\n      <th>id</th>\n      <th>quantite</th>\n      <th>date_instal</th>\n      <th>adresse</th>\n      <th>adresse_comp</th>\n      <th>code_insee</th>\n      <th>observations</th>\n      <th>creation</th>\n      <th>date_creation</th>\n      <th>modification</th>\n      <th>date_modification</th>\n      <th>globalid</th>\n      <th>etat</th>\n      <th>_x</th>\n      <th>_y</th>\n    </tr>\n  </thead>\n  <tbody>\n    <tr>\n      <th>45</th>\n      <td>6804</td>\n      <td>NaN</td>\n      <td>1</td>\n      <td>NaN</td>\n      <td>615 avenue Maurice donat</td>\n      <td>NaN</td>\n      <td>6085.0</td>\n      <td>École mougins school</td>\n      <td>chpayet</td>\n      <td>20200514084244</td>\n      <td>chpayet</td>\n      <td>20200514084244</td>\n      <td>{456AA2A8-920C-4712-88F7-0E116FF993C5}</td>\n      <td>NaN</td>\n      <td>7.01446</td>\n      <td>43.612484</td>\n    </tr>\n  </tbody>\n</table>\n</div>"
     },
     "metadata": {},
     "execution_count": 76
    }
   ],
   "source": [
    "dataVetement[dataVetement.observations.notna()]"
   ]
  },
  {
   "source": [
    "1 collecteur a le champ etat spécifié et 1 autre son id précisé"
   ],
   "cell_type": "markdown",
   "metadata": {}
  },
  {
   "cell_type": "code",
   "execution_count": 77,
   "metadata": {},
   "outputs": [
    {
     "output_type": "execute_result",
     "data": {
      "text/plain": [
       "    objectid   id  quantite  date_instal         adresse adresse_comp  \\\n",
       "28     10404  NaN         1          NaN  Avenue du riou          NaN   \n",
       "\n",
       "    code_insee observations creation   date_creation modification  \\\n",
       "28      6079.0          NaN  chpayet  20200817093326      chpayet   \n",
       "\n",
       "    date_modification                                globalid      etat  \\\n",
       "28     20200817093326  {67D0FB35-5EE5-42A9-A4C9-4ECA1E0447A8}  Existant   \n",
       "\n",
       "          _x         _y  \n",
       "28  6.942036  43.528263  "
      ],
      "text/html": "<div>\n<style scoped>\n    .dataframe tbody tr th:only-of-type {\n        vertical-align: middle;\n    }\n\n    .dataframe tbody tr th {\n        vertical-align: top;\n    }\n\n    .dataframe thead th {\n        text-align: right;\n    }\n</style>\n<table border=\"1\" class=\"dataframe\">\n  <thead>\n    <tr style=\"text-align: right;\">\n      <th></th>\n      <th>objectid</th>\n      <th>id</th>\n      <th>quantite</th>\n      <th>date_instal</th>\n      <th>adresse</th>\n      <th>adresse_comp</th>\n      <th>code_insee</th>\n      <th>observations</th>\n      <th>creation</th>\n      <th>date_creation</th>\n      <th>modification</th>\n      <th>date_modification</th>\n      <th>globalid</th>\n      <th>etat</th>\n      <th>_x</th>\n      <th>_y</th>\n    </tr>\n  </thead>\n  <tbody>\n    <tr>\n      <th>28</th>\n      <td>10404</td>\n      <td>NaN</td>\n      <td>1</td>\n      <td>NaN</td>\n      <td>Avenue du riou</td>\n      <td>NaN</td>\n      <td>6079.0</td>\n      <td>NaN</td>\n      <td>chpayet</td>\n      <td>20200817093326</td>\n      <td>chpayet</td>\n      <td>20200817093326</td>\n      <td>{67D0FB35-5EE5-42A9-A4C9-4ECA1E0447A8}</td>\n      <td>Existant</td>\n      <td>6.942036</td>\n      <td>43.528263</td>\n    </tr>\n  </tbody>\n</table>\n</div>"
     },
     "metadata": {},
     "execution_count": 77
    }
   ],
   "source": [
    "dataVetement[dataVetement.etat.notna()]"
   ]
  },
  {
   "cell_type": "code",
   "execution_count": 78,
   "metadata": {},
   "outputs": [
    {
     "output_type": "execute_result",
     "data": {
      "text/plain": [
       "   objectid    id  quantite  date_instal     adresse adresse_comp  code_insee  \\\n",
       "0       401  Kfb          1          NaN  Jb pastor           NaN      6138.0   \n",
       "\n",
       "  observations creation   date_creation modification  date_modification  \\\n",
       "0          NaN  chpayet  20191204094617      chpayet     20191204094617   \n",
       "\n",
       "                                 globalid etat        _x         _y  \n",
       "0  {2525224C-A21B-44BB-9899-4F6EEC9F5A16}  NaN  6.938207  43.504417  "
      ],
      "text/html": "<div>\n<style scoped>\n    .dataframe tbody tr th:only-of-type {\n        vertical-align: middle;\n    }\n\n    .dataframe tbody tr th {\n        vertical-align: top;\n    }\n\n    .dataframe thead th {\n        text-align: right;\n    }\n</style>\n<table border=\"1\" class=\"dataframe\">\n  <thead>\n    <tr style=\"text-align: right;\">\n      <th></th>\n      <th>objectid</th>\n      <th>id</th>\n      <th>quantite</th>\n      <th>date_instal</th>\n      <th>adresse</th>\n      <th>adresse_comp</th>\n      <th>code_insee</th>\n      <th>observations</th>\n      <th>creation</th>\n      <th>date_creation</th>\n      <th>modification</th>\n      <th>date_modification</th>\n      <th>globalid</th>\n      <th>etat</th>\n      <th>_x</th>\n      <th>_y</th>\n    </tr>\n  </thead>\n  <tbody>\n    <tr>\n      <th>0</th>\n      <td>401</td>\n      <td>Kfb</td>\n      <td>1</td>\n      <td>NaN</td>\n      <td>Jb pastor</td>\n      <td>NaN</td>\n      <td>6138.0</td>\n      <td>NaN</td>\n      <td>chpayet</td>\n      <td>20191204094617</td>\n      <td>chpayet</td>\n      <td>20191204094617</td>\n      <td>{2525224C-A21B-44BB-9899-4F6EEC9F5A16}</td>\n      <td>NaN</td>\n      <td>6.938207</td>\n      <td>43.504417</td>\n    </tr>\n  </tbody>\n</table>\n</div>"
     },
     "metadata": {},
     "execution_count": 78
    }
   ],
   "source": [
    "dataVetement[dataVetement.id.notna()]"
   ]
  },
  {
   "source": [
    "# Base de données cliiink\n",
    "![cliiink.png](../../bdd/cliiink.png)"
   ],
   "cell_type": "markdown",
   "metadata": {}
  },
  {
   "source": [
    "# Nettoyage des jeux de données"
   ],
   "cell_type": "markdown",
   "metadata": {}
  },
  {
   "source": [
    "## Ajout des codes INSEE manquants"
   ],
   "cell_type": "markdown",
   "metadata": {}
  },
  {
   "cell_type": "code",
   "execution_count": 79,
   "metadata": {},
   "outputs": [
    {
     "output_type": "execute_result",
     "data": {
      "text/plain": [
       "     objectid   id                       type volume  quantite    marque  \\\n",
       "253      9633  NaN  Bac aérien sans cache bac  660 L         1  Contenur   \n",
       "\n",
       "     date_instal              adresse adresse_comp  code_insee observations  \\\n",
       "253          NaN  22 Corniche paradis          NaN         NaN          NaN   \n",
       "\n",
       "    creation   date_creation modification  date_modification  \\\n",
       "253  chpayet  20200507091717      chpayet     20200507091717   \n",
       "\n",
       "                                   globalid  etat        _x         _y  \n",
       "253  {33D295CF-CBD3-4049-83A8-02E0BDAB0078}   NaN  7.035603  43.564667  "
      ],
      "text/html": "<div>\n<style scoped>\n    .dataframe tbody tr th:only-of-type {\n        vertical-align: middle;\n    }\n\n    .dataframe tbody tr th {\n        vertical-align: top;\n    }\n\n    .dataframe thead th {\n        text-align: right;\n    }\n</style>\n<table border=\"1\" class=\"dataframe\">\n  <thead>\n    <tr style=\"text-align: right;\">\n      <th></th>\n      <th>objectid</th>\n      <th>id</th>\n      <th>type</th>\n      <th>volume</th>\n      <th>quantite</th>\n      <th>marque</th>\n      <th>date_instal</th>\n      <th>adresse</th>\n      <th>adresse_comp</th>\n      <th>code_insee</th>\n      <th>observations</th>\n      <th>creation</th>\n      <th>date_creation</th>\n      <th>modification</th>\n      <th>date_modification</th>\n      <th>globalid</th>\n      <th>etat</th>\n      <th>_x</th>\n      <th>_y</th>\n    </tr>\n  </thead>\n  <tbody>\n    <tr>\n      <th>253</th>\n      <td>9633</td>\n      <td>NaN</td>\n      <td>Bac aérien sans cache bac</td>\n      <td>660 L</td>\n      <td>1</td>\n      <td>Contenur</td>\n      <td>NaN</td>\n      <td>22 Corniche paradis</td>\n      <td>NaN</td>\n      <td>NaN</td>\n      <td>NaN</td>\n      <td>chpayet</td>\n      <td>20200507091717</td>\n      <td>chpayet</td>\n      <td>20200507091717</td>\n      <td>{33D295CF-CBD3-4049-83A8-02E0BDAB0078}</td>\n      <td>NaN</td>\n      <td>7.035603</td>\n      <td>43.564667</td>\n    </tr>\n  </tbody>\n</table>\n</div>"
     },
     "metadata": {},
     "execution_count": 79
    }
   ],
   "source": [
    "dataOM.loc[[253]]"
   ]
  },
  {
   "cell_type": "code",
   "execution_count": 80,
   "metadata": {},
   "outputs": [],
   "source": [
    "dataOM.loc[253, 'code_insee'] = 6029.0\n"
   ]
  },
  {
   "cell_type": "code",
   "execution_count": 81,
   "metadata": {},
   "outputs": [
    {
     "output_type": "execute_result",
     "data": {
      "text/plain": [
       "     objectid   id                       type volume  quantite    marque  \\\n",
       "253      9633  NaN  Bac aérien sans cache bac  660 L         1  Contenur   \n",
       "\n",
       "     date_instal              adresse adresse_comp  code_insee observations  \\\n",
       "253          NaN  22 Corniche paradis          NaN      6029.0          NaN   \n",
       "\n",
       "    creation   date_creation modification  date_modification  \\\n",
       "253  chpayet  20200507091717      chpayet     20200507091717   \n",
       "\n",
       "                                   globalid  etat        _x         _y  \n",
       "253  {33D295CF-CBD3-4049-83A8-02E0BDAB0078}   NaN  7.035603  43.564667  "
      ],
      "text/html": "<div>\n<style scoped>\n    .dataframe tbody tr th:only-of-type {\n        vertical-align: middle;\n    }\n\n    .dataframe tbody tr th {\n        vertical-align: top;\n    }\n\n    .dataframe thead th {\n        text-align: right;\n    }\n</style>\n<table border=\"1\" class=\"dataframe\">\n  <thead>\n    <tr style=\"text-align: right;\">\n      <th></th>\n      <th>objectid</th>\n      <th>id</th>\n      <th>type</th>\n      <th>volume</th>\n      <th>quantite</th>\n      <th>marque</th>\n      <th>date_instal</th>\n      <th>adresse</th>\n      <th>adresse_comp</th>\n      <th>code_insee</th>\n      <th>observations</th>\n      <th>creation</th>\n      <th>date_creation</th>\n      <th>modification</th>\n      <th>date_modification</th>\n      <th>globalid</th>\n      <th>etat</th>\n      <th>_x</th>\n      <th>_y</th>\n    </tr>\n  </thead>\n  <tbody>\n    <tr>\n      <th>253</th>\n      <td>9633</td>\n      <td>NaN</td>\n      <td>Bac aérien sans cache bac</td>\n      <td>660 L</td>\n      <td>1</td>\n      <td>Contenur</td>\n      <td>NaN</td>\n      <td>22 Corniche paradis</td>\n      <td>NaN</td>\n      <td>6029.0</td>\n      <td>NaN</td>\n      <td>chpayet</td>\n      <td>20200507091717</td>\n      <td>chpayet</td>\n      <td>20200507091717</td>\n      <td>{33D295CF-CBD3-4049-83A8-02E0BDAB0078}</td>\n      <td>NaN</td>\n      <td>7.035603</td>\n      <td>43.564667</td>\n    </tr>\n  </tbody>\n</table>\n</div>"
     },
     "metadata": {},
     "execution_count": 81
    }
   ],
   "source": [
    "dataOM.loc[[253]]"
   ]
  },
  {
   "cell_type": "code",
   "execution_count": 82,
   "metadata": {},
   "outputs": [
    {
     "output_type": "execute_result",
     "data": {
      "text/plain": [
       "    objectid   id              type volume  quantite marque  date_instal  \\\n",
       "41      1619  NaN  Colonne aérienne   5 m3         2                 NaN   \n",
       "\n",
       "                     adresse     adresse_comp  code_insee observations  \\\n",
       "41  Avenue de la côte d azur  A côté du snack         NaN          NaN   \n",
       "\n",
       "    accessibilite creation   date_creation modification  date_modification  \\\n",
       "41            NaN  chpayet  20191206104325      chpayet     20191206104325   \n",
       "\n",
       "                                  globalid  etat        _x         _y  \n",
       "41  {4CFBB363-B51A-47F8-9DA6-4B71D642A26E}   NaN  6.945003  43.493664  "
      ],
      "text/html": "<div>\n<style scoped>\n    .dataframe tbody tr th:only-of-type {\n        vertical-align: middle;\n    }\n\n    .dataframe tbody tr th {\n        vertical-align: top;\n    }\n\n    .dataframe thead th {\n        text-align: right;\n    }\n</style>\n<table border=\"1\" class=\"dataframe\">\n  <thead>\n    <tr style=\"text-align: right;\">\n      <th></th>\n      <th>objectid</th>\n      <th>id</th>\n      <th>type</th>\n      <th>volume</th>\n      <th>quantite</th>\n      <th>marque</th>\n      <th>date_instal</th>\n      <th>adresse</th>\n      <th>adresse_comp</th>\n      <th>code_insee</th>\n      <th>observations</th>\n      <th>accessibilite</th>\n      <th>creation</th>\n      <th>date_creation</th>\n      <th>modification</th>\n      <th>date_modification</th>\n      <th>globalid</th>\n      <th>etat</th>\n      <th>_x</th>\n      <th>_y</th>\n    </tr>\n  </thead>\n  <tbody>\n    <tr>\n      <th>41</th>\n      <td>1619</td>\n      <td>NaN</td>\n      <td>Colonne aérienne</td>\n      <td>5 m3</td>\n      <td>2</td>\n      <td></td>\n      <td>NaN</td>\n      <td>Avenue de la côte d azur</td>\n      <td>A côté du snack</td>\n      <td>NaN</td>\n      <td>NaN</td>\n      <td>NaN</td>\n      <td>chpayet</td>\n      <td>20191206104325</td>\n      <td>chpayet</td>\n      <td>20191206104325</td>\n      <td>{4CFBB363-B51A-47F8-9DA6-4B71D642A26E}</td>\n      <td>NaN</td>\n      <td>6.945003</td>\n      <td>43.493664</td>\n    </tr>\n  </tbody>\n</table>\n</div>"
     },
     "metadata": {},
     "execution_count": 82
    }
   ],
   "source": [
    "dataTri.loc[[41]]"
   ]
  },
  {
   "cell_type": "code",
   "execution_count": 83,
   "metadata": {},
   "outputs": [],
   "source": [
    "dataTri.loc[41, 'code_insee'] = 6138.0"
   ]
  },
  {
   "cell_type": "code",
   "execution_count": 84,
   "metadata": {},
   "outputs": [
    {
     "output_type": "execute_result",
     "data": {
      "text/plain": [
       "    objectid   id              type volume  quantite marque  date_instal  \\\n",
       "41      1619  NaN  Colonne aérienne   5 m3         2                 NaN   \n",
       "\n",
       "                     adresse     adresse_comp  code_insee observations  \\\n",
       "41  Avenue de la côte d azur  A côté du snack      6138.0          NaN   \n",
       "\n",
       "    accessibilite creation   date_creation modification  date_modification  \\\n",
       "41            NaN  chpayet  20191206104325      chpayet     20191206104325   \n",
       "\n",
       "                                  globalid  etat        _x         _y  \n",
       "41  {4CFBB363-B51A-47F8-9DA6-4B71D642A26E}   NaN  6.945003  43.493664  "
      ],
      "text/html": "<div>\n<style scoped>\n    .dataframe tbody tr th:only-of-type {\n        vertical-align: middle;\n    }\n\n    .dataframe tbody tr th {\n        vertical-align: top;\n    }\n\n    .dataframe thead th {\n        text-align: right;\n    }\n</style>\n<table border=\"1\" class=\"dataframe\">\n  <thead>\n    <tr style=\"text-align: right;\">\n      <th></th>\n      <th>objectid</th>\n      <th>id</th>\n      <th>type</th>\n      <th>volume</th>\n      <th>quantite</th>\n      <th>marque</th>\n      <th>date_instal</th>\n      <th>adresse</th>\n      <th>adresse_comp</th>\n      <th>code_insee</th>\n      <th>observations</th>\n      <th>accessibilite</th>\n      <th>creation</th>\n      <th>date_creation</th>\n      <th>modification</th>\n      <th>date_modification</th>\n      <th>globalid</th>\n      <th>etat</th>\n      <th>_x</th>\n      <th>_y</th>\n    </tr>\n  </thead>\n  <tbody>\n    <tr>\n      <th>41</th>\n      <td>1619</td>\n      <td>NaN</td>\n      <td>Colonne aérienne</td>\n      <td>5 m3</td>\n      <td>2</td>\n      <td></td>\n      <td>NaN</td>\n      <td>Avenue de la côte d azur</td>\n      <td>A côté du snack</td>\n      <td>6138.0</td>\n      <td>NaN</td>\n      <td>NaN</td>\n      <td>chpayet</td>\n      <td>20191206104325</td>\n      <td>chpayet</td>\n      <td>20191206104325</td>\n      <td>{4CFBB363-B51A-47F8-9DA6-4B71D642A26E}</td>\n      <td>NaN</td>\n      <td>6.945003</td>\n      <td>43.493664</td>\n    </tr>\n  </tbody>\n</table>\n</div>"
     },
     "metadata": {},
     "execution_count": 84
    }
   ],
   "source": [
    "dataTri.loc[[41]]"
   ]
  },
  {
   "cell_type": "code",
   "execution_count": 85,
   "metadata": {},
   "outputs": [
    {
     "output_type": "execute_result",
     "data": {
      "text/plain": [
       "    objectid   id  quantite  date_instal                    adresse  \\\n",
       "19      3604  NaN         1          NaN  Avenue Maurice chevalier    \n",
       "\n",
       "                  adresse_comp  code_insee observations creation  \\\n",
       "19  Face palais des victoires          NaN          NaN  chpayet   \n",
       "\n",
       "     date_creation modification  date_modification  \\\n",
       "19  20200213125458      chpayet     20200213125458   \n",
       "\n",
       "                                  globalid etat        _x         _y  \n",
       "19  {20AC6A52-5E3F-4640-9D2F-10E0935BE33E}  NaN  6.961508  43.551456  "
      ],
      "text/html": "<div>\n<style scoped>\n    .dataframe tbody tr th:only-of-type {\n        vertical-align: middle;\n    }\n\n    .dataframe tbody tr th {\n        vertical-align: top;\n    }\n\n    .dataframe thead th {\n        text-align: right;\n    }\n</style>\n<table border=\"1\" class=\"dataframe\">\n  <thead>\n    <tr style=\"text-align: right;\">\n      <th></th>\n      <th>objectid</th>\n      <th>id</th>\n      <th>quantite</th>\n      <th>date_instal</th>\n      <th>adresse</th>\n      <th>adresse_comp</th>\n      <th>code_insee</th>\n      <th>observations</th>\n      <th>creation</th>\n      <th>date_creation</th>\n      <th>modification</th>\n      <th>date_modification</th>\n      <th>globalid</th>\n      <th>etat</th>\n      <th>_x</th>\n      <th>_y</th>\n    </tr>\n  </thead>\n  <tbody>\n    <tr>\n      <th>19</th>\n      <td>3604</td>\n      <td>NaN</td>\n      <td>1</td>\n      <td>NaN</td>\n      <td>Avenue Maurice chevalier</td>\n      <td>Face palais des victoires</td>\n      <td>NaN</td>\n      <td>NaN</td>\n      <td>chpayet</td>\n      <td>20200213125458</td>\n      <td>chpayet</td>\n      <td>20200213125458</td>\n      <td>{20AC6A52-5E3F-4640-9D2F-10E0935BE33E}</td>\n      <td>NaN</td>\n      <td>6.961508</td>\n      <td>43.551456</td>\n    </tr>\n  </tbody>\n</table>\n</div>"
     },
     "metadata": {},
     "execution_count": 85
    }
   ],
   "source": [
    "dataVetement.loc[[19]]"
   ]
  },
  {
   "cell_type": "code",
   "execution_count": 86,
   "metadata": {},
   "outputs": [
    {
     "output_type": "execute_result",
     "data": {
      "text/plain": [
       "    objectid   id  quantite  date_instal               adresse  \\\n",
       "46      9604  NaN         1          NaN  Déchèterie du cannet   \n",
       "\n",
       "              adresse_comp  code_insee observations creation   date_creation  \\\n",
       "46  Traverse de l aubarede         NaN          NaN  chpayet  20200723092443   \n",
       "\n",
       "   modification  date_modification                                globalid  \\\n",
       "46      chpayet     20200723092443  {8A619D9D-52FF-453B-A1E1-043DE80F5DA0}   \n",
       "\n",
       "   etat        _x         _y  \n",
       "46  NaN  6.984168  43.567005  "
      ],
      "text/html": "<div>\n<style scoped>\n    .dataframe tbody tr th:only-of-type {\n        vertical-align: middle;\n    }\n\n    .dataframe tbody tr th {\n        vertical-align: top;\n    }\n\n    .dataframe thead th {\n        text-align: right;\n    }\n</style>\n<table border=\"1\" class=\"dataframe\">\n  <thead>\n    <tr style=\"text-align: right;\">\n      <th></th>\n      <th>objectid</th>\n      <th>id</th>\n      <th>quantite</th>\n      <th>date_instal</th>\n      <th>adresse</th>\n      <th>adresse_comp</th>\n      <th>code_insee</th>\n      <th>observations</th>\n      <th>creation</th>\n      <th>date_creation</th>\n      <th>modification</th>\n      <th>date_modification</th>\n      <th>globalid</th>\n      <th>etat</th>\n      <th>_x</th>\n      <th>_y</th>\n    </tr>\n  </thead>\n  <tbody>\n    <tr>\n      <th>46</th>\n      <td>9604</td>\n      <td>NaN</td>\n      <td>1</td>\n      <td>NaN</td>\n      <td>Déchèterie du cannet</td>\n      <td>Traverse de l aubarede</td>\n      <td>NaN</td>\n      <td>NaN</td>\n      <td>chpayet</td>\n      <td>20200723092443</td>\n      <td>chpayet</td>\n      <td>20200723092443</td>\n      <td>{8A619D9D-52FF-453B-A1E1-043DE80F5DA0}</td>\n      <td>NaN</td>\n      <td>6.984168</td>\n      <td>43.567005</td>\n    </tr>\n  </tbody>\n</table>\n</div>"
     },
     "metadata": {},
     "execution_count": 86
    }
   ],
   "source": [
    "dataVetement.loc[[46]]"
   ]
  },
  {
   "cell_type": "code",
   "execution_count": 87,
   "metadata": {},
   "outputs": [],
   "source": [
    "dataVetement.loc[19, 'code_insee'] = 6029.0\n",
    "dataVetement.loc[46, 'code_insee'] = 6030.0"
   ]
  },
  {
   "cell_type": "code",
   "execution_count": 88,
   "metadata": {},
   "outputs": [
    {
     "output_type": "execute_result",
     "data": {
      "text/plain": [
       "    objectid   id  quantite  date_instal                    adresse  \\\n",
       "19      3604  NaN         1          NaN  Avenue Maurice chevalier    \n",
       "\n",
       "                  adresse_comp  code_insee observations creation  \\\n",
       "19  Face palais des victoires       6029.0          NaN  chpayet   \n",
       "\n",
       "     date_creation modification  date_modification  \\\n",
       "19  20200213125458      chpayet     20200213125458   \n",
       "\n",
       "                                  globalid etat        _x         _y  \n",
       "19  {20AC6A52-5E3F-4640-9D2F-10E0935BE33E}  NaN  6.961508  43.551456  "
      ],
      "text/html": "<div>\n<style scoped>\n    .dataframe tbody tr th:only-of-type {\n        vertical-align: middle;\n    }\n\n    .dataframe tbody tr th {\n        vertical-align: top;\n    }\n\n    .dataframe thead th {\n        text-align: right;\n    }\n</style>\n<table border=\"1\" class=\"dataframe\">\n  <thead>\n    <tr style=\"text-align: right;\">\n      <th></th>\n      <th>objectid</th>\n      <th>id</th>\n      <th>quantite</th>\n      <th>date_instal</th>\n      <th>adresse</th>\n      <th>adresse_comp</th>\n      <th>code_insee</th>\n      <th>observations</th>\n      <th>creation</th>\n      <th>date_creation</th>\n      <th>modification</th>\n      <th>date_modification</th>\n      <th>globalid</th>\n      <th>etat</th>\n      <th>_x</th>\n      <th>_y</th>\n    </tr>\n  </thead>\n  <tbody>\n    <tr>\n      <th>19</th>\n      <td>3604</td>\n      <td>NaN</td>\n      <td>1</td>\n      <td>NaN</td>\n      <td>Avenue Maurice chevalier</td>\n      <td>Face palais des victoires</td>\n      <td>6029.0</td>\n      <td>NaN</td>\n      <td>chpayet</td>\n      <td>20200213125458</td>\n      <td>chpayet</td>\n      <td>20200213125458</td>\n      <td>{20AC6A52-5E3F-4640-9D2F-10E0935BE33E}</td>\n      <td>NaN</td>\n      <td>6.961508</td>\n      <td>43.551456</td>\n    </tr>\n  </tbody>\n</table>\n</div>"
     },
     "metadata": {},
     "execution_count": 88
    }
   ],
   "source": [
    "dataVetement.loc[[19]]"
   ]
  },
  {
   "cell_type": "code",
   "execution_count": 89,
   "metadata": {},
   "outputs": [
    {
     "output_type": "execute_result",
     "data": {
      "text/plain": [
       "    objectid   id  quantite  date_instal               adresse  \\\n",
       "46      9604  NaN         1          NaN  Déchèterie du cannet   \n",
       "\n",
       "              adresse_comp  code_insee observations creation   date_creation  \\\n",
       "46  Traverse de l aubarede      6030.0          NaN  chpayet  20200723092443   \n",
       "\n",
       "   modification  date_modification                                globalid  \\\n",
       "46      chpayet     20200723092443  {8A619D9D-52FF-453B-A1E1-043DE80F5DA0}   \n",
       "\n",
       "   etat        _x         _y  \n",
       "46  NaN  6.984168  43.567005  "
      ],
      "text/html": "<div>\n<style scoped>\n    .dataframe tbody tr th:only-of-type {\n        vertical-align: middle;\n    }\n\n    .dataframe tbody tr th {\n        vertical-align: top;\n    }\n\n    .dataframe thead th {\n        text-align: right;\n    }\n</style>\n<table border=\"1\" class=\"dataframe\">\n  <thead>\n    <tr style=\"text-align: right;\">\n      <th></th>\n      <th>objectid</th>\n      <th>id</th>\n      <th>quantite</th>\n      <th>date_instal</th>\n      <th>adresse</th>\n      <th>adresse_comp</th>\n      <th>code_insee</th>\n      <th>observations</th>\n      <th>creation</th>\n      <th>date_creation</th>\n      <th>modification</th>\n      <th>date_modification</th>\n      <th>globalid</th>\n      <th>etat</th>\n      <th>_x</th>\n      <th>_y</th>\n    </tr>\n  </thead>\n  <tbody>\n    <tr>\n      <th>46</th>\n      <td>9604</td>\n      <td>NaN</td>\n      <td>1</td>\n      <td>NaN</td>\n      <td>Déchèterie du cannet</td>\n      <td>Traverse de l aubarede</td>\n      <td>6030.0</td>\n      <td>NaN</td>\n      <td>chpayet</td>\n      <td>20200723092443</td>\n      <td>chpayet</td>\n      <td>20200723092443</td>\n      <td>{8A619D9D-52FF-453B-A1E1-043DE80F5DA0}</td>\n      <td>NaN</td>\n      <td>6.984168</td>\n      <td>43.567005</td>\n    </tr>\n  </tbody>\n</table>\n</div>"
     },
     "metadata": {},
     "execution_count": 89
    }
   ],
   "source": [
    "dataVetement.loc[[46]]"
   ]
  },
  {
   "source": [
    "## Ajout des volumes manquants ou rectification des volumes dans un mauvais format\n",
    "Les volumes sont estimés par comparaison de photographies"
   ],
   "cell_type": "markdown",
   "metadata": {}
  },
  {
   "cell_type": "code",
   "execution_count": 90,
   "metadata": {},
   "outputs": [
    {
     "output_type": "execute_result",
     "data": {
      "text/plain": [
       "    objectid   id                       type   volume  quantite marque  \\\n",
       "24      2415  NaN  Bac aérien avec cache bac  < 240 L         1          \n",
       "\n",
       "    date_instal               adresse adresse_comp  code_insee observations  \\\n",
       "24          NaN  16 avenue du trayas           NaN      6138.0          NaN   \n",
       "\n",
       "   creation   date_creation modification  date_modification  \\\n",
       "24  chpayet  20191206094909      chpayet     20191206094909   \n",
       "\n",
       "                                  globalid  etat        _x         _y  \n",
       "24  {26C0D5E8-5A31-4B7E-B802-F1CDFBCF5270}   NaN  6.929922  43.484051  "
      ],
      "text/html": "<div>\n<style scoped>\n    .dataframe tbody tr th:only-of-type {\n        vertical-align: middle;\n    }\n\n    .dataframe tbody tr th {\n        vertical-align: top;\n    }\n\n    .dataframe thead th {\n        text-align: right;\n    }\n</style>\n<table border=\"1\" class=\"dataframe\">\n  <thead>\n    <tr style=\"text-align: right;\">\n      <th></th>\n      <th>objectid</th>\n      <th>id</th>\n      <th>type</th>\n      <th>volume</th>\n      <th>quantite</th>\n      <th>marque</th>\n      <th>date_instal</th>\n      <th>adresse</th>\n      <th>adresse_comp</th>\n      <th>code_insee</th>\n      <th>observations</th>\n      <th>creation</th>\n      <th>date_creation</th>\n      <th>modification</th>\n      <th>date_modification</th>\n      <th>globalid</th>\n      <th>etat</th>\n      <th>_x</th>\n      <th>_y</th>\n    </tr>\n  </thead>\n  <tbody>\n    <tr>\n      <th>24</th>\n      <td>2415</td>\n      <td>NaN</td>\n      <td>Bac aérien avec cache bac</td>\n      <td>&lt; 240 L</td>\n      <td>1</td>\n      <td></td>\n      <td>NaN</td>\n      <td>16 avenue du trayas</td>\n      <td>NaN</td>\n      <td>6138.0</td>\n      <td>NaN</td>\n      <td>chpayet</td>\n      <td>20191206094909</td>\n      <td>chpayet</td>\n      <td>20191206094909</td>\n      <td>{26C0D5E8-5A31-4B7E-B802-F1CDFBCF5270}</td>\n      <td>NaN</td>\n      <td>6.929922</td>\n      <td>43.484051</td>\n    </tr>\n  </tbody>\n</table>\n</div>"
     },
     "metadata": {},
     "execution_count": 90
    }
   ],
   "source": [
    "# Format non désiré pour des fins statistiques et converti\n",
    "dataOM[dataOM.volume == \"< 240 L\"]"
   ]
  },
  {
   "cell_type": "code",
   "execution_count": 91,
   "metadata": {},
   "outputs": [],
   "source": [
    "# Valeur estimée par comparaison de sa photographie (ATT1214_Photo1.jpg obtenue par recoupage avec son GUID {26C0D5E8-5A31-4B7E-B802-F1CDFBCF5270}) avec les autres photographies\n",
    "dataOM.loc[24, \"volume\"] = \"120 L\""
   ]
  },
  {
   "cell_type": "code",
   "execution_count": 92,
   "metadata": {},
   "outputs": [
    {
     "output_type": "execute_result",
     "data": {
      "text/plain": [
       "    objectid   id                       type volume  quantite marque  \\\n",
       "24      2415  NaN  Bac aérien avec cache bac  120 L         1          \n",
       "\n",
       "    date_instal               adresse adresse_comp  code_insee observations  \\\n",
       "24          NaN  16 avenue du trayas           NaN      6138.0          NaN   \n",
       "\n",
       "   creation   date_creation modification  date_modification  \\\n",
       "24  chpayet  20191206094909      chpayet     20191206094909   \n",
       "\n",
       "                                  globalid  etat        _x         _y  \n",
       "24  {26C0D5E8-5A31-4B7E-B802-F1CDFBCF5270}   NaN  6.929922  43.484051  "
      ],
      "text/html": "<div>\n<style scoped>\n    .dataframe tbody tr th:only-of-type {\n        vertical-align: middle;\n    }\n\n    .dataframe tbody tr th {\n        vertical-align: top;\n    }\n\n    .dataframe thead th {\n        text-align: right;\n    }\n</style>\n<table border=\"1\" class=\"dataframe\">\n  <thead>\n    <tr style=\"text-align: right;\">\n      <th></th>\n      <th>objectid</th>\n      <th>id</th>\n      <th>type</th>\n      <th>volume</th>\n      <th>quantite</th>\n      <th>marque</th>\n      <th>date_instal</th>\n      <th>adresse</th>\n      <th>adresse_comp</th>\n      <th>code_insee</th>\n      <th>observations</th>\n      <th>creation</th>\n      <th>date_creation</th>\n      <th>modification</th>\n      <th>date_modification</th>\n      <th>globalid</th>\n      <th>etat</th>\n      <th>_x</th>\n      <th>_y</th>\n    </tr>\n  </thead>\n  <tbody>\n    <tr>\n      <th>24</th>\n      <td>2415</td>\n      <td>NaN</td>\n      <td>Bac aérien avec cache bac</td>\n      <td>120 L</td>\n      <td>1</td>\n      <td></td>\n      <td>NaN</td>\n      <td>16 avenue du trayas</td>\n      <td>NaN</td>\n      <td>6138.0</td>\n      <td>NaN</td>\n      <td>chpayet</td>\n      <td>20191206094909</td>\n      <td>chpayet</td>\n      <td>20191206094909</td>\n      <td>{26C0D5E8-5A31-4B7E-B802-F1CDFBCF5270}</td>\n      <td>NaN</td>\n      <td>6.929922</td>\n      <td>43.484051</td>\n    </tr>\n  </tbody>\n</table>\n</div>"
     },
     "metadata": {},
     "execution_count": 92
    }
   ],
   "source": [
    "dataOM.loc[[24]]"
   ]
  },
  {
   "cell_type": "code",
   "execution_count": 93,
   "metadata": {},
   "outputs": [
    {
     "output_type": "execute_result",
     "data": {
      "text/plain": [
       "     objectid   id                   type volume  quantite    marque  \\\n",
       "108      5619  NaN      PAV cuve enterrée                1  Contenur   \n",
       "232      8421  NaN      PAV cuve enterrée                2             \n",
       "242      8425  NaN  PAV enterré ascenseur                1  Ecollect   \n",
       "336     16049  NaN      PAV cuve enterrée                1  Contenur   \n",
       "\n",
       "     date_instal                    adresse adresse_comp  code_insee  \\\n",
       "108          NaN       2 avenue isola bella          NaN      6029.0   \n",
       "232          NaN           Rue Amador lopez          NaN      6029.0   \n",
       "242          NaN  146 avenue Michel jourdan          NaN      6029.0   \n",
       "336          NaN       Avenue pierre semard          NaN      6029.0   \n",
       "\n",
       "    observations creation   date_creation modification  date_modification  \\\n",
       "108          NaN  chpayet  20200205091249      chpayet     20200205091249   \n",
       "232          NaN  chpayet  20200417075039      chpayet     20200417075039   \n",
       "242          NaN  chpayet  20200417082139      chpayet     20200417082139   \n",
       "336          NaN  chpayet  20200819085514      chpayet     20200819085514   \n",
       "\n",
       "                                   globalid  etat        _x         _y  \n",
       "108  {F761890A-0194-4B2A-833D-60D6F61CEA5B}   NaN  7.024379  43.555840  \n",
       "232  {98218ED9-38E5-4525-89A3-77BCBB533F9C}   NaN  6.963249  43.556019  \n",
       "242  {D8F695AF-59DF-4EB7-AE63-7F0856CA882B}   NaN  6.968542  43.558376  \n",
       "336  {0556B869-083B-40CD-9576-36BC6DC523E0}   NaN  6.977401  43.548309  "
      ],
      "text/html": "<div>\n<style scoped>\n    .dataframe tbody tr th:only-of-type {\n        vertical-align: middle;\n    }\n\n    .dataframe tbody tr th {\n        vertical-align: top;\n    }\n\n    .dataframe thead th {\n        text-align: right;\n    }\n</style>\n<table border=\"1\" class=\"dataframe\">\n  <thead>\n    <tr style=\"text-align: right;\">\n      <th></th>\n      <th>objectid</th>\n      <th>id</th>\n      <th>type</th>\n      <th>volume</th>\n      <th>quantite</th>\n      <th>marque</th>\n      <th>date_instal</th>\n      <th>adresse</th>\n      <th>adresse_comp</th>\n      <th>code_insee</th>\n      <th>observations</th>\n      <th>creation</th>\n      <th>date_creation</th>\n      <th>modification</th>\n      <th>date_modification</th>\n      <th>globalid</th>\n      <th>etat</th>\n      <th>_x</th>\n      <th>_y</th>\n    </tr>\n  </thead>\n  <tbody>\n    <tr>\n      <th>108</th>\n      <td>5619</td>\n      <td>NaN</td>\n      <td>PAV cuve enterrée</td>\n      <td></td>\n      <td>1</td>\n      <td>Contenur</td>\n      <td>NaN</td>\n      <td>2 avenue isola bella</td>\n      <td>NaN</td>\n      <td>6029.0</td>\n      <td>NaN</td>\n      <td>chpayet</td>\n      <td>20200205091249</td>\n      <td>chpayet</td>\n      <td>20200205091249</td>\n      <td>{F761890A-0194-4B2A-833D-60D6F61CEA5B}</td>\n      <td>NaN</td>\n      <td>7.024379</td>\n      <td>43.555840</td>\n    </tr>\n    <tr>\n      <th>232</th>\n      <td>8421</td>\n      <td>NaN</td>\n      <td>PAV cuve enterrée</td>\n      <td></td>\n      <td>2</td>\n      <td></td>\n      <td>NaN</td>\n      <td>Rue Amador lopez</td>\n      <td>NaN</td>\n      <td>6029.0</td>\n      <td>NaN</td>\n      <td>chpayet</td>\n      <td>20200417075039</td>\n      <td>chpayet</td>\n      <td>20200417075039</td>\n      <td>{98218ED9-38E5-4525-89A3-77BCBB533F9C}</td>\n      <td>NaN</td>\n      <td>6.963249</td>\n      <td>43.556019</td>\n    </tr>\n    <tr>\n      <th>242</th>\n      <td>8425</td>\n      <td>NaN</td>\n      <td>PAV enterré ascenseur</td>\n      <td></td>\n      <td>1</td>\n      <td>Ecollect</td>\n      <td>NaN</td>\n      <td>146 avenue Michel jourdan</td>\n      <td>NaN</td>\n      <td>6029.0</td>\n      <td>NaN</td>\n      <td>chpayet</td>\n      <td>20200417082139</td>\n      <td>chpayet</td>\n      <td>20200417082139</td>\n      <td>{D8F695AF-59DF-4EB7-AE63-7F0856CA882B}</td>\n      <td>NaN</td>\n      <td>6.968542</td>\n      <td>43.558376</td>\n    </tr>\n    <tr>\n      <th>336</th>\n      <td>16049</td>\n      <td>NaN</td>\n      <td>PAV cuve enterrée</td>\n      <td></td>\n      <td>1</td>\n      <td>Contenur</td>\n      <td>NaN</td>\n      <td>Avenue pierre semard</td>\n      <td>NaN</td>\n      <td>6029.0</td>\n      <td>NaN</td>\n      <td>chpayet</td>\n      <td>20200819085514</td>\n      <td>chpayet</td>\n      <td>20200819085514</td>\n      <td>{0556B869-083B-40CD-9576-36BC6DC523E0}</td>\n      <td>NaN</td>\n      <td>6.977401</td>\n      <td>43.548309</td>\n    </tr>\n  </tbody>\n</table>\n</div>"
     },
     "metadata": {},
     "execution_count": 93
    }
   ],
   "source": [
    "dataOM[dataOM.volume == \" \"]"
   ]
  },
  {
   "cell_type": "code",
   "execution_count": 94,
   "metadata": {},
   "outputs": [],
   "source": [
    "dataOM.loc[108, \"volume\"] = \"3 m3\" #ATT4417_Photo1\n",
    "dataOM.loc[232, \"volume\"] = \"3 m3\" #ATT7220_Photo1\n",
    "dataOM.loc[242, \"volume\"] = \"3 m3\" #ATT7224_Photo1 comparé à ATT5227_Photo1\n",
    "dataOM.loc[336, \"volume\"] = \"3 m3\" #ATT14448_Photo1 comparé à ATT6428_Photo1"
   ]
  },
  {
   "cell_type": "code",
   "execution_count": 95,
   "metadata": {},
   "outputs": [
    {
     "output_type": "execute_result",
     "data": {
      "text/plain": [
       "   objectid  id type volume  quantite marque  date_instal  \\\n",
       "0      1601 NaN                     1                 NaN   \n",
       "1      1202 NaN                     1                 NaN   \n",
       "2       403 NaN                     1                 NaN   \n",
       "3      1602 NaN                     1                 NaN   \n",
       "4      1606 NaN                     1                 NaN   \n",
       "5      1205 NaN                     1                 NaN   \n",
       "7      4002 NaN                     1                 NaN   \n",
       "8      4003 NaN                     1                 NaN   \n",
       "\n",
       "                    adresse       adresse_comp  code_insee observations  \\\n",
       "0     2 chemin des vallons                 NaN        6030          NaN   \n",
       "1   10 boulevard d olivetum                NaN        6030          NaN   \n",
       "2   Boulevard Jacques monod  Parking des fades        6030          NaN   \n",
       "3        Cimetiere du claus                NaN        6030          NaN   \n",
       "4  Avenue Georges Pompidou                 NaN        6030          NaN   \n",
       "5    7 chemin de l aubarede                NaN        6030          NaN   \n",
       "7         Rue Marcel pagnol                NaN        6030          NaN   \n",
       "8      Rue cite des jardins                NaN        6030          NaN   \n",
       "\n",
       "   accessibilite creation   date_creation modification  date_modification  \\\n",
       "0            NaN  chpayet  20200417085022      chpayet     20200417085022   \n",
       "1            NaN  chpayet  20200310084750      chpayet     20200310084750   \n",
       "2            NaN  chpayet  20200213101117      chpayet     20200213101117   \n",
       "3            NaN  chpayet  20200417085630      chpayet     20200417085630   \n",
       "4            NaN  chpayet  20200417104710      chpayet     20200417104710   \n",
       "5            NaN  chpayet  20200310100220      chpayet     20200310100220   \n",
       "7            NaN  chpayet  20200723083331      chpayet     20200723083331   \n",
       "8            NaN  chpayet  20200723084148      chpayet     20200723084148   \n",
       "\n",
       "                                 globalid  etat        _x         _y  \n",
       "0  {46B94A69-E019-43D8-9E84-AAE5DA6284C2}   NaN  6.972623  43.568790  \n",
       "1  {2A62403F-3C88-40AA-9C22-FE89A984671F}   NaN  7.025239  43.570610  \n",
       "2  {A90515AF-4E89-4DB0-8F45-3B0604FBCFFD}   NaN  6.996956  43.574852  \n",
       "3  {7A3EE5C6-AA02-4B6E-99F3-2906EA5D56E6}   NaN  6.986457  43.574566  \n",
       "4  {C5ABBCFE-6778-4674-8888-5918E2BD6898}   NaN  6.981803  43.568787  \n",
       "5  {0A6616FF-EE2F-4512-ADA2-023B7FF4255A}   NaN  6.984120  43.573116  \n",
       "7  {00153039-CB46-4664-A251-D2E3381B822E}   NaN  6.988643  43.573776  \n",
       "8  {42EEB3C0-EF20-4ADF-B995-15B97DBE0068}   NaN  6.998000  43.576679  "
      ],
      "text/html": "<div>\n<style scoped>\n    .dataframe tbody tr th:only-of-type {\n        vertical-align: middle;\n    }\n\n    .dataframe tbody tr th {\n        vertical-align: top;\n    }\n\n    .dataframe thead th {\n        text-align: right;\n    }\n</style>\n<table border=\"1\" class=\"dataframe\">\n  <thead>\n    <tr style=\"text-align: right;\">\n      <th></th>\n      <th>objectid</th>\n      <th>id</th>\n      <th>type</th>\n      <th>volume</th>\n      <th>quantite</th>\n      <th>marque</th>\n      <th>date_instal</th>\n      <th>adresse</th>\n      <th>adresse_comp</th>\n      <th>code_insee</th>\n      <th>observations</th>\n      <th>accessibilite</th>\n      <th>creation</th>\n      <th>date_creation</th>\n      <th>modification</th>\n      <th>date_modification</th>\n      <th>globalid</th>\n      <th>etat</th>\n      <th>_x</th>\n      <th>_y</th>\n    </tr>\n  </thead>\n  <tbody>\n    <tr>\n      <th>0</th>\n      <td>1601</td>\n      <td>NaN</td>\n      <td></td>\n      <td></td>\n      <td>1</td>\n      <td></td>\n      <td>NaN</td>\n      <td>2 chemin des vallons</td>\n      <td>NaN</td>\n      <td>6030</td>\n      <td>NaN</td>\n      <td>NaN</td>\n      <td>chpayet</td>\n      <td>20200417085022</td>\n      <td>chpayet</td>\n      <td>20200417085022</td>\n      <td>{46B94A69-E019-43D8-9E84-AAE5DA6284C2}</td>\n      <td>NaN</td>\n      <td>6.972623</td>\n      <td>43.568790</td>\n    </tr>\n    <tr>\n      <th>1</th>\n      <td>1202</td>\n      <td>NaN</td>\n      <td></td>\n      <td></td>\n      <td>1</td>\n      <td></td>\n      <td>NaN</td>\n      <td>10 boulevard d olivetum</td>\n      <td>NaN</td>\n      <td>6030</td>\n      <td>NaN</td>\n      <td>NaN</td>\n      <td>chpayet</td>\n      <td>20200310084750</td>\n      <td>chpayet</td>\n      <td>20200310084750</td>\n      <td>{2A62403F-3C88-40AA-9C22-FE89A984671F}</td>\n      <td>NaN</td>\n      <td>7.025239</td>\n      <td>43.570610</td>\n    </tr>\n    <tr>\n      <th>2</th>\n      <td>403</td>\n      <td>NaN</td>\n      <td></td>\n      <td></td>\n      <td>1</td>\n      <td></td>\n      <td>NaN</td>\n      <td>Boulevard Jacques monod</td>\n      <td>Parking des fades</td>\n      <td>6030</td>\n      <td>NaN</td>\n      <td>NaN</td>\n      <td>chpayet</td>\n      <td>20200213101117</td>\n      <td>chpayet</td>\n      <td>20200213101117</td>\n      <td>{A90515AF-4E89-4DB0-8F45-3B0604FBCFFD}</td>\n      <td>NaN</td>\n      <td>6.996956</td>\n      <td>43.574852</td>\n    </tr>\n    <tr>\n      <th>3</th>\n      <td>1602</td>\n      <td>NaN</td>\n      <td></td>\n      <td></td>\n      <td>1</td>\n      <td></td>\n      <td>NaN</td>\n      <td>Cimetiere du claus</td>\n      <td>NaN</td>\n      <td>6030</td>\n      <td>NaN</td>\n      <td>NaN</td>\n      <td>chpayet</td>\n      <td>20200417085630</td>\n      <td>chpayet</td>\n      <td>20200417085630</td>\n      <td>{7A3EE5C6-AA02-4B6E-99F3-2906EA5D56E6}</td>\n      <td>NaN</td>\n      <td>6.986457</td>\n      <td>43.574566</td>\n    </tr>\n    <tr>\n      <th>4</th>\n      <td>1606</td>\n      <td>NaN</td>\n      <td></td>\n      <td></td>\n      <td>1</td>\n      <td></td>\n      <td>NaN</td>\n      <td>Avenue Georges Pompidou</td>\n      <td>NaN</td>\n      <td>6030</td>\n      <td>NaN</td>\n      <td>NaN</td>\n      <td>chpayet</td>\n      <td>20200417104710</td>\n      <td>chpayet</td>\n      <td>20200417104710</td>\n      <td>{C5ABBCFE-6778-4674-8888-5918E2BD6898}</td>\n      <td>NaN</td>\n      <td>6.981803</td>\n      <td>43.568787</td>\n    </tr>\n    <tr>\n      <th>5</th>\n      <td>1205</td>\n      <td>NaN</td>\n      <td></td>\n      <td></td>\n      <td>1</td>\n      <td></td>\n      <td>NaN</td>\n      <td>7 chemin de l aubarede</td>\n      <td>NaN</td>\n      <td>6030</td>\n      <td>NaN</td>\n      <td>NaN</td>\n      <td>chpayet</td>\n      <td>20200310100220</td>\n      <td>chpayet</td>\n      <td>20200310100220</td>\n      <td>{0A6616FF-EE2F-4512-ADA2-023B7FF4255A}</td>\n      <td>NaN</td>\n      <td>6.984120</td>\n      <td>43.573116</td>\n    </tr>\n    <tr>\n      <th>7</th>\n      <td>4002</td>\n      <td>NaN</td>\n      <td></td>\n      <td></td>\n      <td>1</td>\n      <td></td>\n      <td>NaN</td>\n      <td>Rue Marcel pagnol</td>\n      <td>NaN</td>\n      <td>6030</td>\n      <td>NaN</td>\n      <td>NaN</td>\n      <td>chpayet</td>\n      <td>20200723083331</td>\n      <td>chpayet</td>\n      <td>20200723083331</td>\n      <td>{00153039-CB46-4664-A251-D2E3381B822E}</td>\n      <td>NaN</td>\n      <td>6.988643</td>\n      <td>43.573776</td>\n    </tr>\n    <tr>\n      <th>8</th>\n      <td>4003</td>\n      <td>NaN</td>\n      <td></td>\n      <td></td>\n      <td>1</td>\n      <td></td>\n      <td>NaN</td>\n      <td>Rue cite des jardins</td>\n      <td>NaN</td>\n      <td>6030</td>\n      <td>NaN</td>\n      <td>NaN</td>\n      <td>chpayet</td>\n      <td>20200723084148</td>\n      <td>chpayet</td>\n      <td>20200723084148</td>\n      <td>{42EEB3C0-EF20-4ADF-B995-15B97DBE0068}</td>\n      <td>NaN</td>\n      <td>6.998000</td>\n      <td>43.576679</td>\n    </tr>\n  </tbody>\n</table>\n</div>"
     },
     "metadata": {},
     "execution_count": 95
    }
   ],
   "source": [
    "dataPapier[dataPapier.volume == \" \"]"
   ]
  },
  {
   "cell_type": "code",
   "execution_count": 96,
   "metadata": {},
   "outputs": [],
   "source": [
    "dataPapier.loc[0, \"volume\"] = \"3 m3\" #ATT1601_Photo1\n",
    "dataPapier.loc[1, \"volume\"] = \"3 m3\" #ATT1202_Photo1\n",
    "dataPapier.loc[2, \"volume\"] = \"3 m3\" #ATT403_Photo1\n",
    "dataPapier.loc[3, \"volume\"] = \"3 m3\" #ATT1602_Photo1\n",
    "dataPapier.loc[4, \"volume\"] = \"3 m3\" #ATT1606_Photo1\n",
    "dataPapier.loc[5, \"volume\"] = \"4 m3\" #ATT1204_Photo1 (attention à la relation avec le GUID)\n",
    "dataPapier.loc[7, \"volume\"] = \"4 m3\" #ATT4002_Photo1\n",
    "dataPapier.loc[8, \"volume\"] = \"3 m3\" #ATT4003._Photo1"
   ]
  },
  {
   "cell_type": "code",
   "execution_count": 97,
   "metadata": {},
   "outputs": [
    {
     "output_type": "execute_result",
     "data": {
      "text/plain": [
       "    objectid          id                       type volume  quantite  \\\n",
       "3       1205  6601901971  Bac aérien sans cache bac                1   \n",
       "11      1601  6601902149  Bac aérien sans cache bac                1   \n",
       "28      1606         NaN           Colonne aérienne                1   \n",
       "80      3210         NaN           Colonne aérienne                1   \n",
       "\n",
       "            marque  date_instal  \\\n",
       "3         Contenur          NaN   \n",
       "11        Contenur          NaN   \n",
       "28  Plastic Omnium          NaN   \n",
       "80  Plastic Omnium          NaN   \n",
       "\n",
       "                                             adresse adresse_comp  code_insee  \\\n",
       "3   Avenue de lerins angle traverse magasin souvenir          NaN      6138.0   \n",
       "11                                   Rue du sanglier          NaN      6138.0   \n",
       "28                                 37 avenue miramar          NaN      6138.0   \n",
       "80                                   Rue Yves brayer          NaN      6079.0   \n",
       "\n",
       "   observations  accessibilite creation   date_creation modification  \\\n",
       "3           NaN            NaN  chpayet  20191204085827      chpayet   \n",
       "11          NaN            NaN  chpayet  20191206083601      chpayet   \n",
       "28          NaN            NaN  chpayet  20191206090811      chpayet   \n",
       "80          NaN            NaN  chpayet  20200109140102      chpayet   \n",
       "\n",
       "    date_modification                                globalid  etat        _x  \\\n",
       "3      20191204085827  {4A1D509F-70AF-476A-9436-9A0BDC2B9903}   NaN  6.940569   \n",
       "11     20191206083601  {18A21742-B694-419A-B1E5-878C3468DB18}   NaN  6.940382   \n",
       "28     20191206090811  {61E9863A-23C4-4EA2-A353-BB3876F9A790}   NaN  6.941048   \n",
       "80     20200109140241  {EBDD8B98-DEA4-4CB0-97B6-94FA1AC06134}   NaN  6.919230   \n",
       "\n",
       "           _y  \n",
       "3   43.507717  \n",
       "11  43.505402  \n",
       "28  43.486649  \n",
       "80  43.524628  "
      ],
      "text/html": "<div>\n<style scoped>\n    .dataframe tbody tr th:only-of-type {\n        vertical-align: middle;\n    }\n\n    .dataframe tbody tr th {\n        vertical-align: top;\n    }\n\n    .dataframe thead th {\n        text-align: right;\n    }\n</style>\n<table border=\"1\" class=\"dataframe\">\n  <thead>\n    <tr style=\"text-align: right;\">\n      <th></th>\n      <th>objectid</th>\n      <th>id</th>\n      <th>type</th>\n      <th>volume</th>\n      <th>quantite</th>\n      <th>marque</th>\n      <th>date_instal</th>\n      <th>adresse</th>\n      <th>adresse_comp</th>\n      <th>code_insee</th>\n      <th>observations</th>\n      <th>accessibilite</th>\n      <th>creation</th>\n      <th>date_creation</th>\n      <th>modification</th>\n      <th>date_modification</th>\n      <th>globalid</th>\n      <th>etat</th>\n      <th>_x</th>\n      <th>_y</th>\n    </tr>\n  </thead>\n  <tbody>\n    <tr>\n      <th>3</th>\n      <td>1205</td>\n      <td>6601901971</td>\n      <td>Bac aérien sans cache bac</td>\n      <td></td>\n      <td>1</td>\n      <td>Contenur</td>\n      <td>NaN</td>\n      <td>Avenue de lerins angle traverse magasin souvenir</td>\n      <td>NaN</td>\n      <td>6138.0</td>\n      <td>NaN</td>\n      <td>NaN</td>\n      <td>chpayet</td>\n      <td>20191204085827</td>\n      <td>chpayet</td>\n      <td>20191204085827</td>\n      <td>{4A1D509F-70AF-476A-9436-9A0BDC2B9903}</td>\n      <td>NaN</td>\n      <td>6.940569</td>\n      <td>43.507717</td>\n    </tr>\n    <tr>\n      <th>11</th>\n      <td>1601</td>\n      <td>6601902149</td>\n      <td>Bac aérien sans cache bac</td>\n      <td></td>\n      <td>1</td>\n      <td>Contenur</td>\n      <td>NaN</td>\n      <td>Rue du sanglier</td>\n      <td>NaN</td>\n      <td>6138.0</td>\n      <td>NaN</td>\n      <td>NaN</td>\n      <td>chpayet</td>\n      <td>20191206083601</td>\n      <td>chpayet</td>\n      <td>20191206083601</td>\n      <td>{18A21742-B694-419A-B1E5-878C3468DB18}</td>\n      <td>NaN</td>\n      <td>6.940382</td>\n      <td>43.505402</td>\n    </tr>\n    <tr>\n      <th>28</th>\n      <td>1606</td>\n      <td>NaN</td>\n      <td>Colonne aérienne</td>\n      <td></td>\n      <td>1</td>\n      <td>Plastic Omnium</td>\n      <td>NaN</td>\n      <td>37 avenue miramar</td>\n      <td>NaN</td>\n      <td>6138.0</td>\n      <td>NaN</td>\n      <td>NaN</td>\n      <td>chpayet</td>\n      <td>20191206090811</td>\n      <td>chpayet</td>\n      <td>20191206090811</td>\n      <td>{61E9863A-23C4-4EA2-A353-BB3876F9A790}</td>\n      <td>NaN</td>\n      <td>6.941048</td>\n      <td>43.486649</td>\n    </tr>\n    <tr>\n      <th>80</th>\n      <td>3210</td>\n      <td>NaN</td>\n      <td>Colonne aérienne</td>\n      <td></td>\n      <td>1</td>\n      <td>Plastic Omnium</td>\n      <td>NaN</td>\n      <td>Rue Yves brayer</td>\n      <td>NaN</td>\n      <td>6079.0</td>\n      <td>NaN</td>\n      <td>NaN</td>\n      <td>chpayet</td>\n      <td>20200109140102</td>\n      <td>chpayet</td>\n      <td>20200109140241</td>\n      <td>{EBDD8B98-DEA4-4CB0-97B6-94FA1AC06134}</td>\n      <td>NaN</td>\n      <td>6.919230</td>\n      <td>43.524628</td>\n    </tr>\n  </tbody>\n</table>\n</div>"
     },
     "metadata": {},
     "execution_count": 97
    }
   ],
   "source": [
    "dataTri[dataTri.volume == \" \"] "
   ]
  },
  {
   "cell_type": "code",
   "execution_count": 98,
   "metadata": {},
   "outputs": [],
   "source": [
    "dataTri.loc[3, \"volume\"] = \"660 L\" #ATT5_Photo\n",
    "dataTri.loc[11, \"volume\"] = \"660 L\" #ATT401_Photo1\n",
    "dataTri.loc[28, \"volume\"] = \"3 m3\" #ATT406_Photo1\n",
    "dataTri.loc[80, \"volume\"] = \"3 m3\" #ATT2010_Photo1"
   ]
  },
  {
   "cell_type": "code",
   "execution_count": 99,
   "metadata": {},
   "outputs": [
    {
     "output_type": "execute_result",
     "data": {
      "text/plain": [
       "    objectid  id               type volume  quantite marque  date_instal  \\\n",
       "32      3610 NaN  PAV cuve enterrée                1                 NaN   \n",
       "\n",
       "                 adresse adresse_comp  code_insee observations accessibilite  \\\n",
       "32  Allées de la liberte          NaN        6029          NaN           NaN   \n",
       "\n",
       "   creation   date_creation modification  date_modification  \\\n",
       "32  chpayet  20200205102900      chpayet     20200205102900   \n",
       "\n",
       "                                  globalid  etat       _x         _y  \n",
       "32  {8E40D486-52F3-4348-A69E-05EEEB7A5D66}   NaN  7.01616  43.551823  "
      ],
      "text/html": "<div>\n<style scoped>\n    .dataframe tbody tr th:only-of-type {\n        vertical-align: middle;\n    }\n\n    .dataframe tbody tr th {\n        vertical-align: top;\n    }\n\n    .dataframe thead th {\n        text-align: right;\n    }\n</style>\n<table border=\"1\" class=\"dataframe\">\n  <thead>\n    <tr style=\"text-align: right;\">\n      <th></th>\n      <th>objectid</th>\n      <th>id</th>\n      <th>type</th>\n      <th>volume</th>\n      <th>quantite</th>\n      <th>marque</th>\n      <th>date_instal</th>\n      <th>adresse</th>\n      <th>adresse_comp</th>\n      <th>code_insee</th>\n      <th>observations</th>\n      <th>accessibilite</th>\n      <th>creation</th>\n      <th>date_creation</th>\n      <th>modification</th>\n      <th>date_modification</th>\n      <th>globalid</th>\n      <th>etat</th>\n      <th>_x</th>\n      <th>_y</th>\n    </tr>\n  </thead>\n  <tbody>\n    <tr>\n      <th>32</th>\n      <td>3610</td>\n      <td>NaN</td>\n      <td>PAV cuve enterrée</td>\n      <td></td>\n      <td>1</td>\n      <td></td>\n      <td>NaN</td>\n      <td>Allées de la liberte</td>\n      <td>NaN</td>\n      <td>6029</td>\n      <td>NaN</td>\n      <td>NaN</td>\n      <td>chpayet</td>\n      <td>20200205102900</td>\n      <td>chpayet</td>\n      <td>20200205102900</td>\n      <td>{8E40D486-52F3-4348-A69E-05EEEB7A5D66}</td>\n      <td>NaN</td>\n      <td>7.01616</td>\n      <td>43.551823</td>\n    </tr>\n  </tbody>\n</table>\n</div>"
     },
     "metadata": {},
     "execution_count": 99
    }
   ],
   "source": [
    "dataVerre[dataVerre.volume == \" \"]"
   ]
  },
  {
   "cell_type": "code",
   "execution_count": 100,
   "metadata": {},
   "outputs": [],
   "source": [
    "dataVerre.loc[32, \"volume\"] = \"4 m3\""
   ]
  },
  {
   "source": [
    "## Ajout des types si possible\n",
    "Les types sont devinés par comparaison de photographies"
   ],
   "cell_type": "markdown",
   "metadata": {}
  },
  {
   "cell_type": "code",
   "execution_count": 101,
   "metadata": {},
   "outputs": [
    {
     "output_type": "execute_result",
     "data": {
      "text/plain": [
       "   objectid  id type volume  quantite marque  date_instal  \\\n",
       "0      1601 NaN        3 m3         1                 NaN   \n",
       "1      1202 NaN        3 m3         1                 NaN   \n",
       "2       403 NaN        3 m3         1                 NaN   \n",
       "3      1602 NaN        3 m3         1                 NaN   \n",
       "4      1606 NaN        3 m3         1                 NaN   \n",
       "5      1205 NaN        4 m3         1                 NaN   \n",
       "7      4002 NaN        4 m3         1                 NaN   \n",
       "8      4003 NaN        3 m3         1                 NaN   \n",
       "\n",
       "                    adresse       adresse_comp  code_insee observations  \\\n",
       "0     2 chemin des vallons                 NaN        6030          NaN   \n",
       "1   10 boulevard d olivetum                NaN        6030          NaN   \n",
       "2   Boulevard Jacques monod  Parking des fades        6030          NaN   \n",
       "3        Cimetiere du claus                NaN        6030          NaN   \n",
       "4  Avenue Georges Pompidou                 NaN        6030          NaN   \n",
       "5    7 chemin de l aubarede                NaN        6030          NaN   \n",
       "7         Rue Marcel pagnol                NaN        6030          NaN   \n",
       "8      Rue cite des jardins                NaN        6030          NaN   \n",
       "\n",
       "   accessibilite creation   date_creation modification  date_modification  \\\n",
       "0            NaN  chpayet  20200417085022      chpayet     20200417085022   \n",
       "1            NaN  chpayet  20200310084750      chpayet     20200310084750   \n",
       "2            NaN  chpayet  20200213101117      chpayet     20200213101117   \n",
       "3            NaN  chpayet  20200417085630      chpayet     20200417085630   \n",
       "4            NaN  chpayet  20200417104710      chpayet     20200417104710   \n",
       "5            NaN  chpayet  20200310100220      chpayet     20200310100220   \n",
       "7            NaN  chpayet  20200723083331      chpayet     20200723083331   \n",
       "8            NaN  chpayet  20200723084148      chpayet     20200723084148   \n",
       "\n",
       "                                 globalid  etat        _x         _y  \n",
       "0  {46B94A69-E019-43D8-9E84-AAE5DA6284C2}   NaN  6.972623  43.568790  \n",
       "1  {2A62403F-3C88-40AA-9C22-FE89A984671F}   NaN  7.025239  43.570610  \n",
       "2  {A90515AF-4E89-4DB0-8F45-3B0604FBCFFD}   NaN  6.996956  43.574852  \n",
       "3  {7A3EE5C6-AA02-4B6E-99F3-2906EA5D56E6}   NaN  6.986457  43.574566  \n",
       "4  {C5ABBCFE-6778-4674-8888-5918E2BD6898}   NaN  6.981803  43.568787  \n",
       "5  {0A6616FF-EE2F-4512-ADA2-023B7FF4255A}   NaN  6.984120  43.573116  \n",
       "7  {00153039-CB46-4664-A251-D2E3381B822E}   NaN  6.988643  43.573776  \n",
       "8  {42EEB3C0-EF20-4ADF-B995-15B97DBE0068}   NaN  6.998000  43.576679  "
      ],
      "text/html": "<div>\n<style scoped>\n    .dataframe tbody tr th:only-of-type {\n        vertical-align: middle;\n    }\n\n    .dataframe tbody tr th {\n        vertical-align: top;\n    }\n\n    .dataframe thead th {\n        text-align: right;\n    }\n</style>\n<table border=\"1\" class=\"dataframe\">\n  <thead>\n    <tr style=\"text-align: right;\">\n      <th></th>\n      <th>objectid</th>\n      <th>id</th>\n      <th>type</th>\n      <th>volume</th>\n      <th>quantite</th>\n      <th>marque</th>\n      <th>date_instal</th>\n      <th>adresse</th>\n      <th>adresse_comp</th>\n      <th>code_insee</th>\n      <th>observations</th>\n      <th>accessibilite</th>\n      <th>creation</th>\n      <th>date_creation</th>\n      <th>modification</th>\n      <th>date_modification</th>\n      <th>globalid</th>\n      <th>etat</th>\n      <th>_x</th>\n      <th>_y</th>\n    </tr>\n  </thead>\n  <tbody>\n    <tr>\n      <th>0</th>\n      <td>1601</td>\n      <td>NaN</td>\n      <td></td>\n      <td>3 m3</td>\n      <td>1</td>\n      <td></td>\n      <td>NaN</td>\n      <td>2 chemin des vallons</td>\n      <td>NaN</td>\n      <td>6030</td>\n      <td>NaN</td>\n      <td>NaN</td>\n      <td>chpayet</td>\n      <td>20200417085022</td>\n      <td>chpayet</td>\n      <td>20200417085022</td>\n      <td>{46B94A69-E019-43D8-9E84-AAE5DA6284C2}</td>\n      <td>NaN</td>\n      <td>6.972623</td>\n      <td>43.568790</td>\n    </tr>\n    <tr>\n      <th>1</th>\n      <td>1202</td>\n      <td>NaN</td>\n      <td></td>\n      <td>3 m3</td>\n      <td>1</td>\n      <td></td>\n      <td>NaN</td>\n      <td>10 boulevard d olivetum</td>\n      <td>NaN</td>\n      <td>6030</td>\n      <td>NaN</td>\n      <td>NaN</td>\n      <td>chpayet</td>\n      <td>20200310084750</td>\n      <td>chpayet</td>\n      <td>20200310084750</td>\n      <td>{2A62403F-3C88-40AA-9C22-FE89A984671F}</td>\n      <td>NaN</td>\n      <td>7.025239</td>\n      <td>43.570610</td>\n    </tr>\n    <tr>\n      <th>2</th>\n      <td>403</td>\n      <td>NaN</td>\n      <td></td>\n      <td>3 m3</td>\n      <td>1</td>\n      <td></td>\n      <td>NaN</td>\n      <td>Boulevard Jacques monod</td>\n      <td>Parking des fades</td>\n      <td>6030</td>\n      <td>NaN</td>\n      <td>NaN</td>\n      <td>chpayet</td>\n      <td>20200213101117</td>\n      <td>chpayet</td>\n      <td>20200213101117</td>\n      <td>{A90515AF-4E89-4DB0-8F45-3B0604FBCFFD}</td>\n      <td>NaN</td>\n      <td>6.996956</td>\n      <td>43.574852</td>\n    </tr>\n    <tr>\n      <th>3</th>\n      <td>1602</td>\n      <td>NaN</td>\n      <td></td>\n      <td>3 m3</td>\n      <td>1</td>\n      <td></td>\n      <td>NaN</td>\n      <td>Cimetiere du claus</td>\n      <td>NaN</td>\n      <td>6030</td>\n      <td>NaN</td>\n      <td>NaN</td>\n      <td>chpayet</td>\n      <td>20200417085630</td>\n      <td>chpayet</td>\n      <td>20200417085630</td>\n      <td>{7A3EE5C6-AA02-4B6E-99F3-2906EA5D56E6}</td>\n      <td>NaN</td>\n      <td>6.986457</td>\n      <td>43.574566</td>\n    </tr>\n    <tr>\n      <th>4</th>\n      <td>1606</td>\n      <td>NaN</td>\n      <td></td>\n      <td>3 m3</td>\n      <td>1</td>\n      <td></td>\n      <td>NaN</td>\n      <td>Avenue Georges Pompidou</td>\n      <td>NaN</td>\n      <td>6030</td>\n      <td>NaN</td>\n      <td>NaN</td>\n      <td>chpayet</td>\n      <td>20200417104710</td>\n      <td>chpayet</td>\n      <td>20200417104710</td>\n      <td>{C5ABBCFE-6778-4674-8888-5918E2BD6898}</td>\n      <td>NaN</td>\n      <td>6.981803</td>\n      <td>43.568787</td>\n    </tr>\n    <tr>\n      <th>5</th>\n      <td>1205</td>\n      <td>NaN</td>\n      <td></td>\n      <td>4 m3</td>\n      <td>1</td>\n      <td></td>\n      <td>NaN</td>\n      <td>7 chemin de l aubarede</td>\n      <td>NaN</td>\n      <td>6030</td>\n      <td>NaN</td>\n      <td>NaN</td>\n      <td>chpayet</td>\n      <td>20200310100220</td>\n      <td>chpayet</td>\n      <td>20200310100220</td>\n      <td>{0A6616FF-EE2F-4512-ADA2-023B7FF4255A}</td>\n      <td>NaN</td>\n      <td>6.984120</td>\n      <td>43.573116</td>\n    </tr>\n    <tr>\n      <th>7</th>\n      <td>4002</td>\n      <td>NaN</td>\n      <td></td>\n      <td>4 m3</td>\n      <td>1</td>\n      <td></td>\n      <td>NaN</td>\n      <td>Rue Marcel pagnol</td>\n      <td>NaN</td>\n      <td>6030</td>\n      <td>NaN</td>\n      <td>NaN</td>\n      <td>chpayet</td>\n      <td>20200723083331</td>\n      <td>chpayet</td>\n      <td>20200723083331</td>\n      <td>{00153039-CB46-4664-A251-D2E3381B822E}</td>\n      <td>NaN</td>\n      <td>6.988643</td>\n      <td>43.573776</td>\n    </tr>\n    <tr>\n      <th>8</th>\n      <td>4003</td>\n      <td>NaN</td>\n      <td></td>\n      <td>3 m3</td>\n      <td>1</td>\n      <td></td>\n      <td>NaN</td>\n      <td>Rue cite des jardins</td>\n      <td>NaN</td>\n      <td>6030</td>\n      <td>NaN</td>\n      <td>NaN</td>\n      <td>chpayet</td>\n      <td>20200723084148</td>\n      <td>chpayet</td>\n      <td>20200723084148</td>\n      <td>{42EEB3C0-EF20-4ADF-B995-15B97DBE0068}</td>\n      <td>NaN</td>\n      <td>6.998000</td>\n      <td>43.576679</td>\n    </tr>\n  </tbody>\n</table>\n</div>"
     },
     "metadata": {},
     "execution_count": 101
    }
   ],
   "source": [
    "dataPapier[dataPapier.type == \" \"]"
   ]
  },
  {
   "cell_type": "code",
   "execution_count": 102,
   "metadata": {},
   "outputs": [],
   "source": [
    "dataPapier.loc[0, \"type\"] = \"PAV cuve enterrée\" #ATT1601_Photo1\n",
    "dataPapier.loc[1, \"type\"] = \"PAV cuve enterrée\" #ATT1202_Photo1\n",
    "dataPapier.loc[2, \"type\"] = \"PAV cuve enterrée\" #ATT403_Photo1\n",
    "dataPapier.loc[3, \"type\"] = \"PAV cuve enterrée\" #ATT1602_Photo1\n",
    "dataPapier.loc[4, \"type\"] = \"PAV cuve enterrée\" #ATT1606_Photo1\n",
    "dataPapier.loc[5, \"type\"] = \"PAV cuve enterrée\" #ATT1204_Photo1 (attention à la relation avec le GUID)\n",
    "dataPapier.loc[7, \"type\"] = \"PAV cuve enterrée\" #ATT4002_Photo1\n",
    "dataPapier.loc[8, \"type\"] = \"PAV cuve enterrée\" #ATT4003._Photo1"
   ]
  },
  {
   "cell_type": "code",
   "execution_count": 103,
   "metadata": {},
   "outputs": [
    {
     "output_type": "execute_result",
     "data": {
      "text/plain": [
       "    objectid  id type volume  quantite marque  date_instal          adresse  \\\n",
       "46      4411 NaN        2 m3         1                 NaN  12 bd du moulin   \n",
       "\n",
       "   adresse_comp  code_insee observations accessibilite creation  \\\n",
       "46          NaN        6029      Cliiink           NaN  chpayet   \n",
       "\n",
       "     date_creation modification  date_modification  \\\n",
       "46  20200210101206      chpayet     20200210101206   \n",
       "\n",
       "                                  globalid  etat        _x         _y  \n",
       "46  {C2FC8587-14E1-47FE-9B67-49DA2D16409D}   NaN  7.007102  43.554081  "
      ],
      "text/html": "<div>\n<style scoped>\n    .dataframe tbody tr th:only-of-type {\n        vertical-align: middle;\n    }\n\n    .dataframe tbody tr th {\n        vertical-align: top;\n    }\n\n    .dataframe thead th {\n        text-align: right;\n    }\n</style>\n<table border=\"1\" class=\"dataframe\">\n  <thead>\n    <tr style=\"text-align: right;\">\n      <th></th>\n      <th>objectid</th>\n      <th>id</th>\n      <th>type</th>\n      <th>volume</th>\n      <th>quantite</th>\n      <th>marque</th>\n      <th>date_instal</th>\n      <th>adresse</th>\n      <th>adresse_comp</th>\n      <th>code_insee</th>\n      <th>observations</th>\n      <th>accessibilite</th>\n      <th>creation</th>\n      <th>date_creation</th>\n      <th>modification</th>\n      <th>date_modification</th>\n      <th>globalid</th>\n      <th>etat</th>\n      <th>_x</th>\n      <th>_y</th>\n    </tr>\n  </thead>\n  <tbody>\n    <tr>\n      <th>46</th>\n      <td>4411</td>\n      <td>NaN</td>\n      <td></td>\n      <td>2 m3</td>\n      <td>1</td>\n      <td></td>\n      <td>NaN</td>\n      <td>12 bd du moulin</td>\n      <td>NaN</td>\n      <td>6029</td>\n      <td>Cliiink</td>\n      <td>NaN</td>\n      <td>chpayet</td>\n      <td>20200210101206</td>\n      <td>chpayet</td>\n      <td>20200210101206</td>\n      <td>{C2FC8587-14E1-47FE-9B67-49DA2D16409D}</td>\n      <td>NaN</td>\n      <td>7.007102</td>\n      <td>43.554081</td>\n    </tr>\n  </tbody>\n</table>\n</div>"
     },
     "metadata": {},
     "execution_count": 103
    }
   ],
   "source": [
    "dataVerre[dataVerre.type == \" \"]"
   ]
  },
  {
   "cell_type": "code",
   "execution_count": 104,
   "metadata": {},
   "outputs": [],
   "source": [
    "dataVerre.loc[46, \"type\"] = \"Colonne aérienne\" #ATT3209_Photo1"
   ]
  },
  {
   "source": [
    "# Mise en forme des données\n",
    "## Conversions de types"
   ],
   "cell_type": "markdown",
   "metadata": {}
  },
  {
   "cell_type": "code",
   "execution_count": 105,
   "metadata": {},
   "outputs": [],
   "source": [
    "dataframes = [dataDecheterie, dataOM, dataPapier, dataTri, dataVerre, dataVetement]"
   ]
  },
  {
   "source": [
    "### Volume"
   ],
   "cell_type": "markdown",
   "metadata": {}
  },
  {
   "cell_type": "code",
   "execution_count": 106,
   "metadata": {},
   "outputs": [
    {
     "output_type": "execute_result",
     "data": {
      "text/plain": [
       "     objectid          id                       type volume  quantite  \\\n",
       "0        1202  6601902190  Bac aérien sans cache bac  660 L         1   \n",
       "1        1203  6601902012  Bac aérien sans cache bac  660 L         1   \n",
       "2        1204  6601901994  Bac aérien sans cache bac  660 L         1   \n",
       "3        1205  6601901971  Bac aérien sans cache bac  660 L         1   \n",
       "4        1206  6601902153  Bac aérien sans cache bac  660 L         1   \n",
       "..        ...         ...                        ...    ...       ...   \n",
       "234     15635         NaN      PAV enterré ascenseur   4 m3         1   \n",
       "235     16030         NaN  Bac aérien sans cache bac  660 L         1   \n",
       "236     16031         NaN  Bac aérien sans cache bac  660 L         1   \n",
       "237     16032         NaN  Bac aérien avec cache bac  660 L         1   \n",
       "238     16033         NaN  Bac aérien sans cache bac  340 L         1   \n",
       "\n",
       "       marque  date_instal                                           adresse  \\\n",
       "0                      NaN                                          Gare tsm   \n",
       "1    Contenur          NaN                                   Prince des iles   \n",
       "2    Contenur          NaN          Eglise trottoir château avenue de lerins   \n",
       "3    Contenur          NaN  Avenue de lerins angle traverse magasin souvenir   \n",
       "4    Contenur          NaN               Avenue montrer résidence aquarella    \n",
       "..        ...          ...                                               ...   \n",
       "234  Ecollect          NaN                                    Square merimee   \n",
       "235                    NaN                             Impasse du tambourin    \n",
       "236                    NaN                              Chemin des fougères    \n",
       "237  Contenur          NaN                                Chemin des grottes   \n",
       "238  Contenur          NaN                          Rue notre dame des anges   \n",
       "\n",
       "    adresse_comp  code_insee observations  accessibilite creation  \\\n",
       "0            NaN      6138.0          NaN            NaN  chpayet   \n",
       "1            NaN      6138.0          NaN            NaN  chpayet   \n",
       "2            NaN      6138.0          NaN            NaN  chpayet   \n",
       "3            NaN      6138.0          NaN            NaN  chpayet   \n",
       "4            NaN      6138.0          NaN            NaN  chpayet   \n",
       "..           ...         ...          ...            ...      ...   \n",
       "234          NaN      6029.0          NaN            NaN  chpayet   \n",
       "235          NaN      6079.0          NaN            NaN  chpayet   \n",
       "236          NaN      6079.0          NaN            NaN  chpayet   \n",
       "237          NaN      6079.0          NaN            NaN  chpayet   \n",
       "238          NaN      6030.0          NaN            NaN  chpayet   \n",
       "\n",
       "      date_creation modification  date_modification  \\\n",
       "0    20191204083647      chpayet     20191204083647   \n",
       "1    20191204084515      chpayet     20191204084515   \n",
       "2    20191204085152      chpayet     20191204085152   \n",
       "3    20191204085827      chpayet     20191204085827   \n",
       "4    20191204090411      chpayet     20191204090411   \n",
       "..              ...          ...                ...   \n",
       "234  20200826132642      chpayet     20200826132655   \n",
       "235  20200827084730      chpayet     20200827084730   \n",
       "236  20200827090002      chpayet     20200827090002   \n",
       "237  20200827090453      chpayet     20200827090453   \n",
       "238  20200827120845      chpayet     20200827120845   \n",
       "\n",
       "                                   globalid  etat        _x         _y  \n",
       "0    {0BF5EDFF-B6EC-4A9B-9A85-D5C43F338FFF}   NaN  6.936994  43.513302  \n",
       "1    {CBC5605B-2FC8-4F3F-BC2D-FF846415E9D7}   NaN  6.937348  43.509136  \n",
       "2    {EA97EB92-2BC7-4B8C-93A4-3DD0C6860CD5}   NaN  6.938404  43.508076  \n",
       "3    {4A1D509F-70AF-476A-9436-9A0BDC2B9903}   NaN  6.940569  43.507717  \n",
       "4    {6F6BE0FD-DB47-4034-8D38-2193ABE495AA}   NaN  6.940699  43.507584  \n",
       "..                                      ...   ...       ...        ...  \n",
       "234  {E0AC43B9-DC26-46C0-A57D-C27B2A97EF8B}   NaN  7.017516  43.551659  \n",
       "235  {361B4F57-A0B2-4004-BA17-8810375B931E}   NaN  6.931079  43.565300  \n",
       "236  {42370979-1A59-4304-96DF-4A100A63E1E9}   NaN  6.930059  43.558243  \n",
       "237  {D8692726-2F7D-44C5-BEA8-1BFCE4509136}   NaN  6.930284  43.556812  \n",
       "238  {550F82CB-242E-4D2D-9422-712DE7FCFCB7}   NaN  7.013678  43.573719  \n",
       "\n",
       "[239 rows x 20 columns]"
      ],
      "text/html": "<div>\n<style scoped>\n    .dataframe tbody tr th:only-of-type {\n        vertical-align: middle;\n    }\n\n    .dataframe tbody tr th {\n        vertical-align: top;\n    }\n\n    .dataframe thead th {\n        text-align: right;\n    }\n</style>\n<table border=\"1\" class=\"dataframe\">\n  <thead>\n    <tr style=\"text-align: right;\">\n      <th></th>\n      <th>objectid</th>\n      <th>id</th>\n      <th>type</th>\n      <th>volume</th>\n      <th>quantite</th>\n      <th>marque</th>\n      <th>date_instal</th>\n      <th>adresse</th>\n      <th>adresse_comp</th>\n      <th>code_insee</th>\n      <th>observations</th>\n      <th>accessibilite</th>\n      <th>creation</th>\n      <th>date_creation</th>\n      <th>modification</th>\n      <th>date_modification</th>\n      <th>globalid</th>\n      <th>etat</th>\n      <th>_x</th>\n      <th>_y</th>\n    </tr>\n  </thead>\n  <tbody>\n    <tr>\n      <th>0</th>\n      <td>1202</td>\n      <td>6601902190</td>\n      <td>Bac aérien sans cache bac</td>\n      <td>660 L</td>\n      <td>1</td>\n      <td></td>\n      <td>NaN</td>\n      <td>Gare tsm</td>\n      <td>NaN</td>\n      <td>6138.0</td>\n      <td>NaN</td>\n      <td>NaN</td>\n      <td>chpayet</td>\n      <td>20191204083647</td>\n      <td>chpayet</td>\n      <td>20191204083647</td>\n      <td>{0BF5EDFF-B6EC-4A9B-9A85-D5C43F338FFF}</td>\n      <td>NaN</td>\n      <td>6.936994</td>\n      <td>43.513302</td>\n    </tr>\n    <tr>\n      <th>1</th>\n      <td>1203</td>\n      <td>6601902012</td>\n      <td>Bac aérien sans cache bac</td>\n      <td>660 L</td>\n      <td>1</td>\n      <td>Contenur</td>\n      <td>NaN</td>\n      <td>Prince des iles</td>\n      <td>NaN</td>\n      <td>6138.0</td>\n      <td>NaN</td>\n      <td>NaN</td>\n      <td>chpayet</td>\n      <td>20191204084515</td>\n      <td>chpayet</td>\n      <td>20191204084515</td>\n      <td>{CBC5605B-2FC8-4F3F-BC2D-FF846415E9D7}</td>\n      <td>NaN</td>\n      <td>6.937348</td>\n      <td>43.509136</td>\n    </tr>\n    <tr>\n      <th>2</th>\n      <td>1204</td>\n      <td>6601901994</td>\n      <td>Bac aérien sans cache bac</td>\n      <td>660 L</td>\n      <td>1</td>\n      <td>Contenur</td>\n      <td>NaN</td>\n      <td>Eglise trottoir château avenue de lerins</td>\n      <td>NaN</td>\n      <td>6138.0</td>\n      <td>NaN</td>\n      <td>NaN</td>\n      <td>chpayet</td>\n      <td>20191204085152</td>\n      <td>chpayet</td>\n      <td>20191204085152</td>\n      <td>{EA97EB92-2BC7-4B8C-93A4-3DD0C6860CD5}</td>\n      <td>NaN</td>\n      <td>6.938404</td>\n      <td>43.508076</td>\n    </tr>\n    <tr>\n      <th>3</th>\n      <td>1205</td>\n      <td>6601901971</td>\n      <td>Bac aérien sans cache bac</td>\n      <td>660 L</td>\n      <td>1</td>\n      <td>Contenur</td>\n      <td>NaN</td>\n      <td>Avenue de lerins angle traverse magasin souvenir</td>\n      <td>NaN</td>\n      <td>6138.0</td>\n      <td>NaN</td>\n      <td>NaN</td>\n      <td>chpayet</td>\n      <td>20191204085827</td>\n      <td>chpayet</td>\n      <td>20191204085827</td>\n      <td>{4A1D509F-70AF-476A-9436-9A0BDC2B9903}</td>\n      <td>NaN</td>\n      <td>6.940569</td>\n      <td>43.507717</td>\n    </tr>\n    <tr>\n      <th>4</th>\n      <td>1206</td>\n      <td>6601902153</td>\n      <td>Bac aérien sans cache bac</td>\n      <td>660 L</td>\n      <td>1</td>\n      <td>Contenur</td>\n      <td>NaN</td>\n      <td>Avenue montrer résidence aquarella</td>\n      <td>NaN</td>\n      <td>6138.0</td>\n      <td>NaN</td>\n      <td>NaN</td>\n      <td>chpayet</td>\n      <td>20191204090411</td>\n      <td>chpayet</td>\n      <td>20191204090411</td>\n      <td>{6F6BE0FD-DB47-4034-8D38-2193ABE495AA}</td>\n      <td>NaN</td>\n      <td>6.940699</td>\n      <td>43.507584</td>\n    </tr>\n    <tr>\n      <th>...</th>\n      <td>...</td>\n      <td>...</td>\n      <td>...</td>\n      <td>...</td>\n      <td>...</td>\n      <td>...</td>\n      <td>...</td>\n      <td>...</td>\n      <td>...</td>\n      <td>...</td>\n      <td>...</td>\n      <td>...</td>\n      <td>...</td>\n      <td>...</td>\n      <td>...</td>\n      <td>...</td>\n      <td>...</td>\n      <td>...</td>\n      <td>...</td>\n      <td>...</td>\n    </tr>\n    <tr>\n      <th>234</th>\n      <td>15635</td>\n      <td>NaN</td>\n      <td>PAV enterré ascenseur</td>\n      <td>4 m3</td>\n      <td>1</td>\n      <td>Ecollect</td>\n      <td>NaN</td>\n      <td>Square merimee</td>\n      <td>NaN</td>\n      <td>6029.0</td>\n      <td>NaN</td>\n      <td>NaN</td>\n      <td>chpayet</td>\n      <td>20200826132642</td>\n      <td>chpayet</td>\n      <td>20200826132655</td>\n      <td>{E0AC43B9-DC26-46C0-A57D-C27B2A97EF8B}</td>\n      <td>NaN</td>\n      <td>7.017516</td>\n      <td>43.551659</td>\n    </tr>\n    <tr>\n      <th>235</th>\n      <td>16030</td>\n      <td>NaN</td>\n      <td>Bac aérien sans cache bac</td>\n      <td>660 L</td>\n      <td>1</td>\n      <td></td>\n      <td>NaN</td>\n      <td>Impasse du tambourin</td>\n      <td>NaN</td>\n      <td>6079.0</td>\n      <td>NaN</td>\n      <td>NaN</td>\n      <td>chpayet</td>\n      <td>20200827084730</td>\n      <td>chpayet</td>\n      <td>20200827084730</td>\n      <td>{361B4F57-A0B2-4004-BA17-8810375B931E}</td>\n      <td>NaN</td>\n      <td>6.931079</td>\n      <td>43.565300</td>\n    </tr>\n    <tr>\n      <th>236</th>\n      <td>16031</td>\n      <td>NaN</td>\n      <td>Bac aérien sans cache bac</td>\n      <td>660 L</td>\n      <td>1</td>\n      <td></td>\n      <td>NaN</td>\n      <td>Chemin des fougères</td>\n      <td>NaN</td>\n      <td>6079.0</td>\n      <td>NaN</td>\n      <td>NaN</td>\n      <td>chpayet</td>\n      <td>20200827090002</td>\n      <td>chpayet</td>\n      <td>20200827090002</td>\n      <td>{42370979-1A59-4304-96DF-4A100A63E1E9}</td>\n      <td>NaN</td>\n      <td>6.930059</td>\n      <td>43.558243</td>\n    </tr>\n    <tr>\n      <th>237</th>\n      <td>16032</td>\n      <td>NaN</td>\n      <td>Bac aérien avec cache bac</td>\n      <td>660 L</td>\n      <td>1</td>\n      <td>Contenur</td>\n      <td>NaN</td>\n      <td>Chemin des grottes</td>\n      <td>NaN</td>\n      <td>6079.0</td>\n      <td>NaN</td>\n      <td>NaN</td>\n      <td>chpayet</td>\n      <td>20200827090453</td>\n      <td>chpayet</td>\n      <td>20200827090453</td>\n      <td>{D8692726-2F7D-44C5-BEA8-1BFCE4509136}</td>\n      <td>NaN</td>\n      <td>6.930284</td>\n      <td>43.556812</td>\n    </tr>\n    <tr>\n      <th>238</th>\n      <td>16033</td>\n      <td>NaN</td>\n      <td>Bac aérien sans cache bac</td>\n      <td>340 L</td>\n      <td>1</td>\n      <td>Contenur</td>\n      <td>NaN</td>\n      <td>Rue notre dame des anges</td>\n      <td>NaN</td>\n      <td>6030.0</td>\n      <td>NaN</td>\n      <td>NaN</td>\n      <td>chpayet</td>\n      <td>20200827120845</td>\n      <td>chpayet</td>\n      <td>20200827120845</td>\n      <td>{550F82CB-242E-4D2D-9422-712DE7FCFCB7}</td>\n      <td>NaN</td>\n      <td>7.013678</td>\n      <td>43.573719</td>\n    </tr>\n  </tbody>\n</table>\n<p>239 rows × 20 columns</p>\n</div>"
     },
     "metadata": {},
     "execution_count": 106
    }
   ],
   "source": [
    "# Exemple avant conversion\n",
    "dataTri"
   ]
  },
  {
   "cell_type": "code",
   "execution_count": 107,
   "metadata": {},
   "outputs": [],
   "source": [
    "for df in dataframes[1:5]:\n",
    "    df.volume = df.volume.str.replace(\" L\", \"\").str.replace(\" m3\", \"000\").astype(int)"
   ]
  },
  {
   "cell_type": "code",
   "execution_count": 108,
   "metadata": {},
   "outputs": [
    {
     "output_type": "execute_result",
     "data": {
      "text/plain": [
       "     objectid          id                       type  volume  quantite  \\\n",
       "0        1202  6601902190  Bac aérien sans cache bac     660         1   \n",
       "1        1203  6601902012  Bac aérien sans cache bac     660         1   \n",
       "2        1204  6601901994  Bac aérien sans cache bac     660         1   \n",
       "3        1205  6601901971  Bac aérien sans cache bac     660         1   \n",
       "4        1206  6601902153  Bac aérien sans cache bac     660         1   \n",
       "..        ...         ...                        ...     ...       ...   \n",
       "234     15635         NaN      PAV enterré ascenseur    4000         1   \n",
       "235     16030         NaN  Bac aérien sans cache bac     660         1   \n",
       "236     16031         NaN  Bac aérien sans cache bac     660         1   \n",
       "237     16032         NaN  Bac aérien avec cache bac     660         1   \n",
       "238     16033         NaN  Bac aérien sans cache bac     340         1   \n",
       "\n",
       "       marque  date_instal                                           adresse  \\\n",
       "0                      NaN                                          Gare tsm   \n",
       "1    Contenur          NaN                                   Prince des iles   \n",
       "2    Contenur          NaN          Eglise trottoir château avenue de lerins   \n",
       "3    Contenur          NaN  Avenue de lerins angle traverse magasin souvenir   \n",
       "4    Contenur          NaN               Avenue montrer résidence aquarella    \n",
       "..        ...          ...                                               ...   \n",
       "234  Ecollect          NaN                                    Square merimee   \n",
       "235                    NaN                             Impasse du tambourin    \n",
       "236                    NaN                              Chemin des fougères    \n",
       "237  Contenur          NaN                                Chemin des grottes   \n",
       "238  Contenur          NaN                          Rue notre dame des anges   \n",
       "\n",
       "    adresse_comp  code_insee observations  accessibilite creation  \\\n",
       "0            NaN      6138.0          NaN            NaN  chpayet   \n",
       "1            NaN      6138.0          NaN            NaN  chpayet   \n",
       "2            NaN      6138.0          NaN            NaN  chpayet   \n",
       "3            NaN      6138.0          NaN            NaN  chpayet   \n",
       "4            NaN      6138.0          NaN            NaN  chpayet   \n",
       "..           ...         ...          ...            ...      ...   \n",
       "234          NaN      6029.0          NaN            NaN  chpayet   \n",
       "235          NaN      6079.0          NaN            NaN  chpayet   \n",
       "236          NaN      6079.0          NaN            NaN  chpayet   \n",
       "237          NaN      6079.0          NaN            NaN  chpayet   \n",
       "238          NaN      6030.0          NaN            NaN  chpayet   \n",
       "\n",
       "      date_creation modification  date_modification  \\\n",
       "0    20191204083647      chpayet     20191204083647   \n",
       "1    20191204084515      chpayet     20191204084515   \n",
       "2    20191204085152      chpayet     20191204085152   \n",
       "3    20191204085827      chpayet     20191204085827   \n",
       "4    20191204090411      chpayet     20191204090411   \n",
       "..              ...          ...                ...   \n",
       "234  20200826132642      chpayet     20200826132655   \n",
       "235  20200827084730      chpayet     20200827084730   \n",
       "236  20200827090002      chpayet     20200827090002   \n",
       "237  20200827090453      chpayet     20200827090453   \n",
       "238  20200827120845      chpayet     20200827120845   \n",
       "\n",
       "                                   globalid  etat        _x         _y  \n",
       "0    {0BF5EDFF-B6EC-4A9B-9A85-D5C43F338FFF}   NaN  6.936994  43.513302  \n",
       "1    {CBC5605B-2FC8-4F3F-BC2D-FF846415E9D7}   NaN  6.937348  43.509136  \n",
       "2    {EA97EB92-2BC7-4B8C-93A4-3DD0C6860CD5}   NaN  6.938404  43.508076  \n",
       "3    {4A1D509F-70AF-476A-9436-9A0BDC2B9903}   NaN  6.940569  43.507717  \n",
       "4    {6F6BE0FD-DB47-4034-8D38-2193ABE495AA}   NaN  6.940699  43.507584  \n",
       "..                                      ...   ...       ...        ...  \n",
       "234  {E0AC43B9-DC26-46C0-A57D-C27B2A97EF8B}   NaN  7.017516  43.551659  \n",
       "235  {361B4F57-A0B2-4004-BA17-8810375B931E}   NaN  6.931079  43.565300  \n",
       "236  {42370979-1A59-4304-96DF-4A100A63E1E9}   NaN  6.930059  43.558243  \n",
       "237  {D8692726-2F7D-44C5-BEA8-1BFCE4509136}   NaN  6.930284  43.556812  \n",
       "238  {550F82CB-242E-4D2D-9422-712DE7FCFCB7}   NaN  7.013678  43.573719  \n",
       "\n",
       "[239 rows x 20 columns]"
      ],
      "text/html": "<div>\n<style scoped>\n    .dataframe tbody tr th:only-of-type {\n        vertical-align: middle;\n    }\n\n    .dataframe tbody tr th {\n        vertical-align: top;\n    }\n\n    .dataframe thead th {\n        text-align: right;\n    }\n</style>\n<table border=\"1\" class=\"dataframe\">\n  <thead>\n    <tr style=\"text-align: right;\">\n      <th></th>\n      <th>objectid</th>\n      <th>id</th>\n      <th>type</th>\n      <th>volume</th>\n      <th>quantite</th>\n      <th>marque</th>\n      <th>date_instal</th>\n      <th>adresse</th>\n      <th>adresse_comp</th>\n      <th>code_insee</th>\n      <th>observations</th>\n      <th>accessibilite</th>\n      <th>creation</th>\n      <th>date_creation</th>\n      <th>modification</th>\n      <th>date_modification</th>\n      <th>globalid</th>\n      <th>etat</th>\n      <th>_x</th>\n      <th>_y</th>\n    </tr>\n  </thead>\n  <tbody>\n    <tr>\n      <th>0</th>\n      <td>1202</td>\n      <td>6601902190</td>\n      <td>Bac aérien sans cache bac</td>\n      <td>660</td>\n      <td>1</td>\n      <td></td>\n      <td>NaN</td>\n      <td>Gare tsm</td>\n      <td>NaN</td>\n      <td>6138.0</td>\n      <td>NaN</td>\n      <td>NaN</td>\n      <td>chpayet</td>\n      <td>20191204083647</td>\n      <td>chpayet</td>\n      <td>20191204083647</td>\n      <td>{0BF5EDFF-B6EC-4A9B-9A85-D5C43F338FFF}</td>\n      <td>NaN</td>\n      <td>6.936994</td>\n      <td>43.513302</td>\n    </tr>\n    <tr>\n      <th>1</th>\n      <td>1203</td>\n      <td>6601902012</td>\n      <td>Bac aérien sans cache bac</td>\n      <td>660</td>\n      <td>1</td>\n      <td>Contenur</td>\n      <td>NaN</td>\n      <td>Prince des iles</td>\n      <td>NaN</td>\n      <td>6138.0</td>\n      <td>NaN</td>\n      <td>NaN</td>\n      <td>chpayet</td>\n      <td>20191204084515</td>\n      <td>chpayet</td>\n      <td>20191204084515</td>\n      <td>{CBC5605B-2FC8-4F3F-BC2D-FF846415E9D7}</td>\n      <td>NaN</td>\n      <td>6.937348</td>\n      <td>43.509136</td>\n    </tr>\n    <tr>\n      <th>2</th>\n      <td>1204</td>\n      <td>6601901994</td>\n      <td>Bac aérien sans cache bac</td>\n      <td>660</td>\n      <td>1</td>\n      <td>Contenur</td>\n      <td>NaN</td>\n      <td>Eglise trottoir château avenue de lerins</td>\n      <td>NaN</td>\n      <td>6138.0</td>\n      <td>NaN</td>\n      <td>NaN</td>\n      <td>chpayet</td>\n      <td>20191204085152</td>\n      <td>chpayet</td>\n      <td>20191204085152</td>\n      <td>{EA97EB92-2BC7-4B8C-93A4-3DD0C6860CD5}</td>\n      <td>NaN</td>\n      <td>6.938404</td>\n      <td>43.508076</td>\n    </tr>\n    <tr>\n      <th>3</th>\n      <td>1205</td>\n      <td>6601901971</td>\n      <td>Bac aérien sans cache bac</td>\n      <td>660</td>\n      <td>1</td>\n      <td>Contenur</td>\n      <td>NaN</td>\n      <td>Avenue de lerins angle traverse magasin souvenir</td>\n      <td>NaN</td>\n      <td>6138.0</td>\n      <td>NaN</td>\n      <td>NaN</td>\n      <td>chpayet</td>\n      <td>20191204085827</td>\n      <td>chpayet</td>\n      <td>20191204085827</td>\n      <td>{4A1D509F-70AF-476A-9436-9A0BDC2B9903}</td>\n      <td>NaN</td>\n      <td>6.940569</td>\n      <td>43.507717</td>\n    </tr>\n    <tr>\n      <th>4</th>\n      <td>1206</td>\n      <td>6601902153</td>\n      <td>Bac aérien sans cache bac</td>\n      <td>660</td>\n      <td>1</td>\n      <td>Contenur</td>\n      <td>NaN</td>\n      <td>Avenue montrer résidence aquarella</td>\n      <td>NaN</td>\n      <td>6138.0</td>\n      <td>NaN</td>\n      <td>NaN</td>\n      <td>chpayet</td>\n      <td>20191204090411</td>\n      <td>chpayet</td>\n      <td>20191204090411</td>\n      <td>{6F6BE0FD-DB47-4034-8D38-2193ABE495AA}</td>\n      <td>NaN</td>\n      <td>6.940699</td>\n      <td>43.507584</td>\n    </tr>\n    <tr>\n      <th>...</th>\n      <td>...</td>\n      <td>...</td>\n      <td>...</td>\n      <td>...</td>\n      <td>...</td>\n      <td>...</td>\n      <td>...</td>\n      <td>...</td>\n      <td>...</td>\n      <td>...</td>\n      <td>...</td>\n      <td>...</td>\n      <td>...</td>\n      <td>...</td>\n      <td>...</td>\n      <td>...</td>\n      <td>...</td>\n      <td>...</td>\n      <td>...</td>\n      <td>...</td>\n    </tr>\n    <tr>\n      <th>234</th>\n      <td>15635</td>\n      <td>NaN</td>\n      <td>PAV enterré ascenseur</td>\n      <td>4000</td>\n      <td>1</td>\n      <td>Ecollect</td>\n      <td>NaN</td>\n      <td>Square merimee</td>\n      <td>NaN</td>\n      <td>6029.0</td>\n      <td>NaN</td>\n      <td>NaN</td>\n      <td>chpayet</td>\n      <td>20200826132642</td>\n      <td>chpayet</td>\n      <td>20200826132655</td>\n      <td>{E0AC43B9-DC26-46C0-A57D-C27B2A97EF8B}</td>\n      <td>NaN</td>\n      <td>7.017516</td>\n      <td>43.551659</td>\n    </tr>\n    <tr>\n      <th>235</th>\n      <td>16030</td>\n      <td>NaN</td>\n      <td>Bac aérien sans cache bac</td>\n      <td>660</td>\n      <td>1</td>\n      <td></td>\n      <td>NaN</td>\n      <td>Impasse du tambourin</td>\n      <td>NaN</td>\n      <td>6079.0</td>\n      <td>NaN</td>\n      <td>NaN</td>\n      <td>chpayet</td>\n      <td>20200827084730</td>\n      <td>chpayet</td>\n      <td>20200827084730</td>\n      <td>{361B4F57-A0B2-4004-BA17-8810375B931E}</td>\n      <td>NaN</td>\n      <td>6.931079</td>\n      <td>43.565300</td>\n    </tr>\n    <tr>\n      <th>236</th>\n      <td>16031</td>\n      <td>NaN</td>\n      <td>Bac aérien sans cache bac</td>\n      <td>660</td>\n      <td>1</td>\n      <td></td>\n      <td>NaN</td>\n      <td>Chemin des fougères</td>\n      <td>NaN</td>\n      <td>6079.0</td>\n      <td>NaN</td>\n      <td>NaN</td>\n      <td>chpayet</td>\n      <td>20200827090002</td>\n      <td>chpayet</td>\n      <td>20200827090002</td>\n      <td>{42370979-1A59-4304-96DF-4A100A63E1E9}</td>\n      <td>NaN</td>\n      <td>6.930059</td>\n      <td>43.558243</td>\n    </tr>\n    <tr>\n      <th>237</th>\n      <td>16032</td>\n      <td>NaN</td>\n      <td>Bac aérien avec cache bac</td>\n      <td>660</td>\n      <td>1</td>\n      <td>Contenur</td>\n      <td>NaN</td>\n      <td>Chemin des grottes</td>\n      <td>NaN</td>\n      <td>6079.0</td>\n      <td>NaN</td>\n      <td>NaN</td>\n      <td>chpayet</td>\n      <td>20200827090453</td>\n      <td>chpayet</td>\n      <td>20200827090453</td>\n      <td>{D8692726-2F7D-44C5-BEA8-1BFCE4509136}</td>\n      <td>NaN</td>\n      <td>6.930284</td>\n      <td>43.556812</td>\n    </tr>\n    <tr>\n      <th>238</th>\n      <td>16033</td>\n      <td>NaN</td>\n      <td>Bac aérien sans cache bac</td>\n      <td>340</td>\n      <td>1</td>\n      <td>Contenur</td>\n      <td>NaN</td>\n      <td>Rue notre dame des anges</td>\n      <td>NaN</td>\n      <td>6030.0</td>\n      <td>NaN</td>\n      <td>NaN</td>\n      <td>chpayet</td>\n      <td>20200827120845</td>\n      <td>chpayet</td>\n      <td>20200827120845</td>\n      <td>{550F82CB-242E-4D2D-9422-712DE7FCFCB7}</td>\n      <td>NaN</td>\n      <td>7.013678</td>\n      <td>43.573719</td>\n    </tr>\n  </tbody>\n</table>\n<p>239 rows × 20 columns</p>\n</div>"
     },
     "metadata": {},
     "execution_count": 108
    }
   ],
   "source": [
    "# Exemple après conversion\n",
    "dataTri"
   ]
  },
  {
   "source": [
    "### Code INSEE"
   ],
   "cell_type": "markdown",
   "metadata": {}
  },
  {
   "cell_type": "code",
   "execution_count": 109,
   "metadata": {},
   "outputs": [
    {
     "output_type": "execute_result",
     "data": {
      "text/plain": [
       "     objectid   id                       type  volume  quantite  \\\n",
       "0        2002  NaN  Bac aérien avec cache bac     660         1   \n",
       "1        3202  NaN  Bac aérien avec cache bac     660         3   \n",
       "2        2003  NaN  Bac aérien sans cache bac     660         1   \n",
       "3        2004  NaN  Bac aérien sans cache bac     660         1   \n",
       "4        2005  NaN  Bac aérien sans cache bac     660         1   \n",
       "..        ...  ...                        ...     ...       ...   \n",
       "381     18050  NaN  Bac aérien sans cache bac     660         1   \n",
       "382     18051  NaN  Bac aérien avec cache bac     660         2   \n",
       "383     18052  NaN  Bac aérien sans cache bac     340         3   \n",
       "384     18053  NaN  Bac aérien sans cache bac     340         1   \n",
       "385     18054  NaN  Bac aérien sans cache bac     660         1   \n",
       "\n",
       "             marque  date_instal  \\\n",
       "0    Plastic Omnium          NaN   \n",
       "1    Plastic Omnium          NaN   \n",
       "2    Plastic Omnium          NaN   \n",
       "3    Plastic Omnium          NaN   \n",
       "4    Plastic Omnium          NaN   \n",
       "..              ...          ...   \n",
       "381        Contenur          NaN   \n",
       "382        Contenur          NaN   \n",
       "383  Plastic Omnium          NaN   \n",
       "384        Contenur          NaN   \n",
       "385        Contenur          NaN   \n",
       "\n",
       "                                               adresse adresse_comp  \\\n",
       "0                                             Gare tsm          NaN   \n",
       "1             Résidence les terrasses de saint honorat          NaN   \n",
       "2                                      Prince des iles          NaN   \n",
       "3                Avenue de lerins trottoir de l eglise          NaN   \n",
       "4    Avenue de lerins angle traverse magasin souvenirs          NaN   \n",
       "..                                                 ...          ...   \n",
       "381                                Chemin des fougeres          NaN   \n",
       "382                                 Chemin des grottes          NaN   \n",
       "383                                     Impasse turgot          NaN   \n",
       "384                           Rue notre dame des anges          NaN   \n",
       "385                           20 boulevard de lorraine          NaN   \n",
       "\n",
       "     code_insee observations creation   date_creation modification  \\\n",
       "0        6138.0          NaN  chpayet  20191204083917      chpayet   \n",
       "1        6138.0          NaN  chpayet  20200102131948      chpayet   \n",
       "2        6138.0          NaN  chpayet  20191204084630      chpayet   \n",
       "3        6138.0          NaN  chpayet  20191204085306      chpayet   \n",
       "4        6138.0          NaN  chpayet  20191204090036      chpayet   \n",
       "..          ...          ...      ...             ...          ...   \n",
       "381      6079.0          NaN  chpayet  20200827085918      chpayet   \n",
       "382      6079.0          NaN  chpayet  20200827090415      chpayet   \n",
       "383      6030.0          NaN  chpayet  20200827115300      chpayet   \n",
       "384      6030.0          NaN  chpayet  20200827121026      chpayet   \n",
       "385      6029.0          NaN  chpayet  20200827123332      chpayet   \n",
       "\n",
       "     date_modification                                globalid  etat  \\\n",
       "0       20191204083917  {5C455C7F-2CAF-4B57-8B69-686691E7ACAA}   NaN   \n",
       "1       20200102131948  {449AE0D0-B256-49C2-84F7-87F4248CA3CC}   NaN   \n",
       "2       20191204084630  {FED2233C-9710-40F1-ACF4-58134F0BB9FE}   NaN   \n",
       "3       20191204085306  {058DC0AE-423C-4FEB-8D30-D4C113428CD8}   NaN   \n",
       "4       20191204090036  {53D62EB0-B046-4D5D-B636-94646AC984AA}   NaN   \n",
       "..                 ...                                     ...   ...   \n",
       "381     20200827085918  {3AF1895B-8999-4CC2-8610-A0CB916F3A68}   NaN   \n",
       "382     20200827090415  {02507DBC-6164-4E65-9FEB-376D97108ACD}   NaN   \n",
       "383     20200827115300  {AE9C15F9-4DD6-43FE-8A5A-441B9E5E2A0E}   NaN   \n",
       "384     20200827121026  {882FA65E-7566-40F7-B7C8-FC8355EEBDC2}   NaN   \n",
       "385     20200827123332  {EC02F473-95AE-4729-BF0C-DFB9923202DB}   NaN   \n",
       "\n",
       "           _x         _y  \n",
       "0    6.937009  43.513302  \n",
       "1    6.941518  43.490540  \n",
       "2    6.937398  43.509171  \n",
       "3    6.938353  43.508087  \n",
       "4    6.940556  43.507687  \n",
       "..        ...        ...  \n",
       "381  6.930053  43.558224  \n",
       "382  6.930284  43.556831  \n",
       "383  7.023561  43.576286  \n",
       "384  7.013729  43.573708  \n",
       "385  7.026821  43.553452  \n",
       "\n",
       "[386 rows x 19 columns]"
      ],
      "text/html": "<div>\n<style scoped>\n    .dataframe tbody tr th:only-of-type {\n        vertical-align: middle;\n    }\n\n    .dataframe tbody tr th {\n        vertical-align: top;\n    }\n\n    .dataframe thead th {\n        text-align: right;\n    }\n</style>\n<table border=\"1\" class=\"dataframe\">\n  <thead>\n    <tr style=\"text-align: right;\">\n      <th></th>\n      <th>objectid</th>\n      <th>id</th>\n      <th>type</th>\n      <th>volume</th>\n      <th>quantite</th>\n      <th>marque</th>\n      <th>date_instal</th>\n      <th>adresse</th>\n      <th>adresse_comp</th>\n      <th>code_insee</th>\n      <th>observations</th>\n      <th>creation</th>\n      <th>date_creation</th>\n      <th>modification</th>\n      <th>date_modification</th>\n      <th>globalid</th>\n      <th>etat</th>\n      <th>_x</th>\n      <th>_y</th>\n    </tr>\n  </thead>\n  <tbody>\n    <tr>\n      <th>0</th>\n      <td>2002</td>\n      <td>NaN</td>\n      <td>Bac aérien avec cache bac</td>\n      <td>660</td>\n      <td>1</td>\n      <td>Plastic Omnium</td>\n      <td>NaN</td>\n      <td>Gare tsm</td>\n      <td>NaN</td>\n      <td>6138.0</td>\n      <td>NaN</td>\n      <td>chpayet</td>\n      <td>20191204083917</td>\n      <td>chpayet</td>\n      <td>20191204083917</td>\n      <td>{5C455C7F-2CAF-4B57-8B69-686691E7ACAA}</td>\n      <td>NaN</td>\n      <td>6.937009</td>\n      <td>43.513302</td>\n    </tr>\n    <tr>\n      <th>1</th>\n      <td>3202</td>\n      <td>NaN</td>\n      <td>Bac aérien avec cache bac</td>\n      <td>660</td>\n      <td>3</td>\n      <td>Plastic Omnium</td>\n      <td>NaN</td>\n      <td>Résidence les terrasses de saint honorat</td>\n      <td>NaN</td>\n      <td>6138.0</td>\n      <td>NaN</td>\n      <td>chpayet</td>\n      <td>20200102131948</td>\n      <td>chpayet</td>\n      <td>20200102131948</td>\n      <td>{449AE0D0-B256-49C2-84F7-87F4248CA3CC}</td>\n      <td>NaN</td>\n      <td>6.941518</td>\n      <td>43.490540</td>\n    </tr>\n    <tr>\n      <th>2</th>\n      <td>2003</td>\n      <td>NaN</td>\n      <td>Bac aérien sans cache bac</td>\n      <td>660</td>\n      <td>1</td>\n      <td>Plastic Omnium</td>\n      <td>NaN</td>\n      <td>Prince des iles</td>\n      <td>NaN</td>\n      <td>6138.0</td>\n      <td>NaN</td>\n      <td>chpayet</td>\n      <td>20191204084630</td>\n      <td>chpayet</td>\n      <td>20191204084630</td>\n      <td>{FED2233C-9710-40F1-ACF4-58134F0BB9FE}</td>\n      <td>NaN</td>\n      <td>6.937398</td>\n      <td>43.509171</td>\n    </tr>\n    <tr>\n      <th>3</th>\n      <td>2004</td>\n      <td>NaN</td>\n      <td>Bac aérien sans cache bac</td>\n      <td>660</td>\n      <td>1</td>\n      <td>Plastic Omnium</td>\n      <td>NaN</td>\n      <td>Avenue de lerins trottoir de l eglise</td>\n      <td>NaN</td>\n      <td>6138.0</td>\n      <td>NaN</td>\n      <td>chpayet</td>\n      <td>20191204085306</td>\n      <td>chpayet</td>\n      <td>20191204085306</td>\n      <td>{058DC0AE-423C-4FEB-8D30-D4C113428CD8}</td>\n      <td>NaN</td>\n      <td>6.938353</td>\n      <td>43.508087</td>\n    </tr>\n    <tr>\n      <th>4</th>\n      <td>2005</td>\n      <td>NaN</td>\n      <td>Bac aérien sans cache bac</td>\n      <td>660</td>\n      <td>1</td>\n      <td>Plastic Omnium</td>\n      <td>NaN</td>\n      <td>Avenue de lerins angle traverse magasin souvenirs</td>\n      <td>NaN</td>\n      <td>6138.0</td>\n      <td>NaN</td>\n      <td>chpayet</td>\n      <td>20191204090036</td>\n      <td>chpayet</td>\n      <td>20191204090036</td>\n      <td>{53D62EB0-B046-4D5D-B636-94646AC984AA}</td>\n      <td>NaN</td>\n      <td>6.940556</td>\n      <td>43.507687</td>\n    </tr>\n    <tr>\n      <th>...</th>\n      <td>...</td>\n      <td>...</td>\n      <td>...</td>\n      <td>...</td>\n      <td>...</td>\n      <td>...</td>\n      <td>...</td>\n      <td>...</td>\n      <td>...</td>\n      <td>...</td>\n      <td>...</td>\n      <td>...</td>\n      <td>...</td>\n      <td>...</td>\n      <td>...</td>\n      <td>...</td>\n      <td>...</td>\n      <td>...</td>\n      <td>...</td>\n    </tr>\n    <tr>\n      <th>381</th>\n      <td>18050</td>\n      <td>NaN</td>\n      <td>Bac aérien sans cache bac</td>\n      <td>660</td>\n      <td>1</td>\n      <td>Contenur</td>\n      <td>NaN</td>\n      <td>Chemin des fougeres</td>\n      <td>NaN</td>\n      <td>6079.0</td>\n      <td>NaN</td>\n      <td>chpayet</td>\n      <td>20200827085918</td>\n      <td>chpayet</td>\n      <td>20200827085918</td>\n      <td>{3AF1895B-8999-4CC2-8610-A0CB916F3A68}</td>\n      <td>NaN</td>\n      <td>6.930053</td>\n      <td>43.558224</td>\n    </tr>\n    <tr>\n      <th>382</th>\n      <td>18051</td>\n      <td>NaN</td>\n      <td>Bac aérien avec cache bac</td>\n      <td>660</td>\n      <td>2</td>\n      <td>Contenur</td>\n      <td>NaN</td>\n      <td>Chemin des grottes</td>\n      <td>NaN</td>\n      <td>6079.0</td>\n      <td>NaN</td>\n      <td>chpayet</td>\n      <td>20200827090415</td>\n      <td>chpayet</td>\n      <td>20200827090415</td>\n      <td>{02507DBC-6164-4E65-9FEB-376D97108ACD}</td>\n      <td>NaN</td>\n      <td>6.930284</td>\n      <td>43.556831</td>\n    </tr>\n    <tr>\n      <th>383</th>\n      <td>18052</td>\n      <td>NaN</td>\n      <td>Bac aérien sans cache bac</td>\n      <td>340</td>\n      <td>3</td>\n      <td>Plastic Omnium</td>\n      <td>NaN</td>\n      <td>Impasse turgot</td>\n      <td>NaN</td>\n      <td>6030.0</td>\n      <td>NaN</td>\n      <td>chpayet</td>\n      <td>20200827115300</td>\n      <td>chpayet</td>\n      <td>20200827115300</td>\n      <td>{AE9C15F9-4DD6-43FE-8A5A-441B9E5E2A0E}</td>\n      <td>NaN</td>\n      <td>7.023561</td>\n      <td>43.576286</td>\n    </tr>\n    <tr>\n      <th>384</th>\n      <td>18053</td>\n      <td>NaN</td>\n      <td>Bac aérien sans cache bac</td>\n      <td>340</td>\n      <td>1</td>\n      <td>Contenur</td>\n      <td>NaN</td>\n      <td>Rue notre dame des anges</td>\n      <td>NaN</td>\n      <td>6030.0</td>\n      <td>NaN</td>\n      <td>chpayet</td>\n      <td>20200827121026</td>\n      <td>chpayet</td>\n      <td>20200827121026</td>\n      <td>{882FA65E-7566-40F7-B7C8-FC8355EEBDC2}</td>\n      <td>NaN</td>\n      <td>7.013729</td>\n      <td>43.573708</td>\n    </tr>\n    <tr>\n      <th>385</th>\n      <td>18054</td>\n      <td>NaN</td>\n      <td>Bac aérien sans cache bac</td>\n      <td>660</td>\n      <td>1</td>\n      <td>Contenur</td>\n      <td>NaN</td>\n      <td>20 boulevard de lorraine</td>\n      <td>NaN</td>\n      <td>6029.0</td>\n      <td>NaN</td>\n      <td>chpayet</td>\n      <td>20200827123332</td>\n      <td>chpayet</td>\n      <td>20200827123332</td>\n      <td>{EC02F473-95AE-4729-BF0C-DFB9923202DB}</td>\n      <td>NaN</td>\n      <td>7.026821</td>\n      <td>43.553452</td>\n    </tr>\n  </tbody>\n</table>\n<p>386 rows × 19 columns</p>\n</div>"
     },
     "metadata": {},
     "execution_count": 109
    }
   ],
   "source": [
    "# Exemple avant conversion\n",
    "dataOM"
   ]
  },
  {
   "cell_type": "code",
   "execution_count": 110,
   "metadata": {},
   "outputs": [],
   "source": [
    "# Par défaut, le dataframe convertira le type d'une colonne en float même s'il n'y a que des int si des valeurs son manquantes (pas de NaN en int),\n",
    "# d'où la nécessité de filtrer en ne gardant que les chiffres avant la virgule\n",
    "# ce qui est le cas pour le code INSEE de certains jeux de données\n",
    "dataDecheterie.code_insee = \"0\" + dataDecheterie.code_insee.astype(str)\n",
    "dataOM.code_insee = \"0\" + dataOM.code_insee.astype(str).str[0:4]\n",
    "dataPapier.code_insee = \"0\" + dataPapier.code_insee.astype(str)\n",
    "dataTri.code_insee = \"0\" + dataTri.code_insee.astype(str).str[0:4]\n",
    "dataVerre.code_insee = \"0\" + dataVerre.code_insee.astype(str)\n",
    "dataVetement.code_insee = \"0\" + dataVetement.code_insee.astype(str).str[0:4]"
   ]
  },
  {
   "cell_type": "code",
   "execution_count": 111,
   "metadata": {},
   "outputs": [
    {
     "output_type": "execute_result",
     "data": {
      "text/plain": [
       "     objectid   id                       type  volume  quantite  \\\n",
       "0        2002  NaN  Bac aérien avec cache bac     660         1   \n",
       "1        3202  NaN  Bac aérien avec cache bac     660         3   \n",
       "2        2003  NaN  Bac aérien sans cache bac     660         1   \n",
       "3        2004  NaN  Bac aérien sans cache bac     660         1   \n",
       "4        2005  NaN  Bac aérien sans cache bac     660         1   \n",
       "..        ...  ...                        ...     ...       ...   \n",
       "381     18050  NaN  Bac aérien sans cache bac     660         1   \n",
       "382     18051  NaN  Bac aérien avec cache bac     660         2   \n",
       "383     18052  NaN  Bac aérien sans cache bac     340         3   \n",
       "384     18053  NaN  Bac aérien sans cache bac     340         1   \n",
       "385     18054  NaN  Bac aérien sans cache bac     660         1   \n",
       "\n",
       "             marque  date_instal  \\\n",
       "0    Plastic Omnium          NaN   \n",
       "1    Plastic Omnium          NaN   \n",
       "2    Plastic Omnium          NaN   \n",
       "3    Plastic Omnium          NaN   \n",
       "4    Plastic Omnium          NaN   \n",
       "..              ...          ...   \n",
       "381        Contenur          NaN   \n",
       "382        Contenur          NaN   \n",
       "383  Plastic Omnium          NaN   \n",
       "384        Contenur          NaN   \n",
       "385        Contenur          NaN   \n",
       "\n",
       "                                               adresse adresse_comp  \\\n",
       "0                                             Gare tsm          NaN   \n",
       "1             Résidence les terrasses de saint honorat          NaN   \n",
       "2                                      Prince des iles          NaN   \n",
       "3                Avenue de lerins trottoir de l eglise          NaN   \n",
       "4    Avenue de lerins angle traverse magasin souvenirs          NaN   \n",
       "..                                                 ...          ...   \n",
       "381                                Chemin des fougeres          NaN   \n",
       "382                                 Chemin des grottes          NaN   \n",
       "383                                     Impasse turgot          NaN   \n",
       "384                           Rue notre dame des anges          NaN   \n",
       "385                           20 boulevard de lorraine          NaN   \n",
       "\n",
       "    code_insee observations creation   date_creation modification  \\\n",
       "0        06138          NaN  chpayet  20191204083917      chpayet   \n",
       "1        06138          NaN  chpayet  20200102131948      chpayet   \n",
       "2        06138          NaN  chpayet  20191204084630      chpayet   \n",
       "3        06138          NaN  chpayet  20191204085306      chpayet   \n",
       "4        06138          NaN  chpayet  20191204090036      chpayet   \n",
       "..         ...          ...      ...             ...          ...   \n",
       "381      06079          NaN  chpayet  20200827085918      chpayet   \n",
       "382      06079          NaN  chpayet  20200827090415      chpayet   \n",
       "383      06030          NaN  chpayet  20200827115300      chpayet   \n",
       "384      06030          NaN  chpayet  20200827121026      chpayet   \n",
       "385      06029          NaN  chpayet  20200827123332      chpayet   \n",
       "\n",
       "     date_modification                                globalid  etat  \\\n",
       "0       20191204083917  {5C455C7F-2CAF-4B57-8B69-686691E7ACAA}   NaN   \n",
       "1       20200102131948  {449AE0D0-B256-49C2-84F7-87F4248CA3CC}   NaN   \n",
       "2       20191204084630  {FED2233C-9710-40F1-ACF4-58134F0BB9FE}   NaN   \n",
       "3       20191204085306  {058DC0AE-423C-4FEB-8D30-D4C113428CD8}   NaN   \n",
       "4       20191204090036  {53D62EB0-B046-4D5D-B636-94646AC984AA}   NaN   \n",
       "..                 ...                                     ...   ...   \n",
       "381     20200827085918  {3AF1895B-8999-4CC2-8610-A0CB916F3A68}   NaN   \n",
       "382     20200827090415  {02507DBC-6164-4E65-9FEB-376D97108ACD}   NaN   \n",
       "383     20200827115300  {AE9C15F9-4DD6-43FE-8A5A-441B9E5E2A0E}   NaN   \n",
       "384     20200827121026  {882FA65E-7566-40F7-B7C8-FC8355EEBDC2}   NaN   \n",
       "385     20200827123332  {EC02F473-95AE-4729-BF0C-DFB9923202DB}   NaN   \n",
       "\n",
       "           _x         _y  \n",
       "0    6.937009  43.513302  \n",
       "1    6.941518  43.490540  \n",
       "2    6.937398  43.509171  \n",
       "3    6.938353  43.508087  \n",
       "4    6.940556  43.507687  \n",
       "..        ...        ...  \n",
       "381  6.930053  43.558224  \n",
       "382  6.930284  43.556831  \n",
       "383  7.023561  43.576286  \n",
       "384  7.013729  43.573708  \n",
       "385  7.026821  43.553452  \n",
       "\n",
       "[386 rows x 19 columns]"
      ],
      "text/html": "<div>\n<style scoped>\n    .dataframe tbody tr th:only-of-type {\n        vertical-align: middle;\n    }\n\n    .dataframe tbody tr th {\n        vertical-align: top;\n    }\n\n    .dataframe thead th {\n        text-align: right;\n    }\n</style>\n<table border=\"1\" class=\"dataframe\">\n  <thead>\n    <tr style=\"text-align: right;\">\n      <th></th>\n      <th>objectid</th>\n      <th>id</th>\n      <th>type</th>\n      <th>volume</th>\n      <th>quantite</th>\n      <th>marque</th>\n      <th>date_instal</th>\n      <th>adresse</th>\n      <th>adresse_comp</th>\n      <th>code_insee</th>\n      <th>observations</th>\n      <th>creation</th>\n      <th>date_creation</th>\n      <th>modification</th>\n      <th>date_modification</th>\n      <th>globalid</th>\n      <th>etat</th>\n      <th>_x</th>\n      <th>_y</th>\n    </tr>\n  </thead>\n  <tbody>\n    <tr>\n      <th>0</th>\n      <td>2002</td>\n      <td>NaN</td>\n      <td>Bac aérien avec cache bac</td>\n      <td>660</td>\n      <td>1</td>\n      <td>Plastic Omnium</td>\n      <td>NaN</td>\n      <td>Gare tsm</td>\n      <td>NaN</td>\n      <td>06138</td>\n      <td>NaN</td>\n      <td>chpayet</td>\n      <td>20191204083917</td>\n      <td>chpayet</td>\n      <td>20191204083917</td>\n      <td>{5C455C7F-2CAF-4B57-8B69-686691E7ACAA}</td>\n      <td>NaN</td>\n      <td>6.937009</td>\n      <td>43.513302</td>\n    </tr>\n    <tr>\n      <th>1</th>\n      <td>3202</td>\n      <td>NaN</td>\n      <td>Bac aérien avec cache bac</td>\n      <td>660</td>\n      <td>3</td>\n      <td>Plastic Omnium</td>\n      <td>NaN</td>\n      <td>Résidence les terrasses de saint honorat</td>\n      <td>NaN</td>\n      <td>06138</td>\n      <td>NaN</td>\n      <td>chpayet</td>\n      <td>20200102131948</td>\n      <td>chpayet</td>\n      <td>20200102131948</td>\n      <td>{449AE0D0-B256-49C2-84F7-87F4248CA3CC}</td>\n      <td>NaN</td>\n      <td>6.941518</td>\n      <td>43.490540</td>\n    </tr>\n    <tr>\n      <th>2</th>\n      <td>2003</td>\n      <td>NaN</td>\n      <td>Bac aérien sans cache bac</td>\n      <td>660</td>\n      <td>1</td>\n      <td>Plastic Omnium</td>\n      <td>NaN</td>\n      <td>Prince des iles</td>\n      <td>NaN</td>\n      <td>06138</td>\n      <td>NaN</td>\n      <td>chpayet</td>\n      <td>20191204084630</td>\n      <td>chpayet</td>\n      <td>20191204084630</td>\n      <td>{FED2233C-9710-40F1-ACF4-58134F0BB9FE}</td>\n      <td>NaN</td>\n      <td>6.937398</td>\n      <td>43.509171</td>\n    </tr>\n    <tr>\n      <th>3</th>\n      <td>2004</td>\n      <td>NaN</td>\n      <td>Bac aérien sans cache bac</td>\n      <td>660</td>\n      <td>1</td>\n      <td>Plastic Omnium</td>\n      <td>NaN</td>\n      <td>Avenue de lerins trottoir de l eglise</td>\n      <td>NaN</td>\n      <td>06138</td>\n      <td>NaN</td>\n      <td>chpayet</td>\n      <td>20191204085306</td>\n      <td>chpayet</td>\n      <td>20191204085306</td>\n      <td>{058DC0AE-423C-4FEB-8D30-D4C113428CD8}</td>\n      <td>NaN</td>\n      <td>6.938353</td>\n      <td>43.508087</td>\n    </tr>\n    <tr>\n      <th>4</th>\n      <td>2005</td>\n      <td>NaN</td>\n      <td>Bac aérien sans cache bac</td>\n      <td>660</td>\n      <td>1</td>\n      <td>Plastic Omnium</td>\n      <td>NaN</td>\n      <td>Avenue de lerins angle traverse magasin souvenirs</td>\n      <td>NaN</td>\n      <td>06138</td>\n      <td>NaN</td>\n      <td>chpayet</td>\n      <td>20191204090036</td>\n      <td>chpayet</td>\n      <td>20191204090036</td>\n      <td>{53D62EB0-B046-4D5D-B636-94646AC984AA}</td>\n      <td>NaN</td>\n      <td>6.940556</td>\n      <td>43.507687</td>\n    </tr>\n    <tr>\n      <th>...</th>\n      <td>...</td>\n      <td>...</td>\n      <td>...</td>\n      <td>...</td>\n      <td>...</td>\n      <td>...</td>\n      <td>...</td>\n      <td>...</td>\n      <td>...</td>\n      <td>...</td>\n      <td>...</td>\n      <td>...</td>\n      <td>...</td>\n      <td>...</td>\n      <td>...</td>\n      <td>...</td>\n      <td>...</td>\n      <td>...</td>\n      <td>...</td>\n    </tr>\n    <tr>\n      <th>381</th>\n      <td>18050</td>\n      <td>NaN</td>\n      <td>Bac aérien sans cache bac</td>\n      <td>660</td>\n      <td>1</td>\n      <td>Contenur</td>\n      <td>NaN</td>\n      <td>Chemin des fougeres</td>\n      <td>NaN</td>\n      <td>06079</td>\n      <td>NaN</td>\n      <td>chpayet</td>\n      <td>20200827085918</td>\n      <td>chpayet</td>\n      <td>20200827085918</td>\n      <td>{3AF1895B-8999-4CC2-8610-A0CB916F3A68}</td>\n      <td>NaN</td>\n      <td>6.930053</td>\n      <td>43.558224</td>\n    </tr>\n    <tr>\n      <th>382</th>\n      <td>18051</td>\n      <td>NaN</td>\n      <td>Bac aérien avec cache bac</td>\n      <td>660</td>\n      <td>2</td>\n      <td>Contenur</td>\n      <td>NaN</td>\n      <td>Chemin des grottes</td>\n      <td>NaN</td>\n      <td>06079</td>\n      <td>NaN</td>\n      <td>chpayet</td>\n      <td>20200827090415</td>\n      <td>chpayet</td>\n      <td>20200827090415</td>\n      <td>{02507DBC-6164-4E65-9FEB-376D97108ACD}</td>\n      <td>NaN</td>\n      <td>6.930284</td>\n      <td>43.556831</td>\n    </tr>\n    <tr>\n      <th>383</th>\n      <td>18052</td>\n      <td>NaN</td>\n      <td>Bac aérien sans cache bac</td>\n      <td>340</td>\n      <td>3</td>\n      <td>Plastic Omnium</td>\n      <td>NaN</td>\n      <td>Impasse turgot</td>\n      <td>NaN</td>\n      <td>06030</td>\n      <td>NaN</td>\n      <td>chpayet</td>\n      <td>20200827115300</td>\n      <td>chpayet</td>\n      <td>20200827115300</td>\n      <td>{AE9C15F9-4DD6-43FE-8A5A-441B9E5E2A0E}</td>\n      <td>NaN</td>\n      <td>7.023561</td>\n      <td>43.576286</td>\n    </tr>\n    <tr>\n      <th>384</th>\n      <td>18053</td>\n      <td>NaN</td>\n      <td>Bac aérien sans cache bac</td>\n      <td>340</td>\n      <td>1</td>\n      <td>Contenur</td>\n      <td>NaN</td>\n      <td>Rue notre dame des anges</td>\n      <td>NaN</td>\n      <td>06030</td>\n      <td>NaN</td>\n      <td>chpayet</td>\n      <td>20200827121026</td>\n      <td>chpayet</td>\n      <td>20200827121026</td>\n      <td>{882FA65E-7566-40F7-B7C8-FC8355EEBDC2}</td>\n      <td>NaN</td>\n      <td>7.013729</td>\n      <td>43.573708</td>\n    </tr>\n    <tr>\n      <th>385</th>\n      <td>18054</td>\n      <td>NaN</td>\n      <td>Bac aérien sans cache bac</td>\n      <td>660</td>\n      <td>1</td>\n      <td>Contenur</td>\n      <td>NaN</td>\n      <td>20 boulevard de lorraine</td>\n      <td>NaN</td>\n      <td>06029</td>\n      <td>NaN</td>\n      <td>chpayet</td>\n      <td>20200827123332</td>\n      <td>chpayet</td>\n      <td>20200827123332</td>\n      <td>{EC02F473-95AE-4729-BF0C-DFB9923202DB}</td>\n      <td>NaN</td>\n      <td>7.026821</td>\n      <td>43.553452</td>\n    </tr>\n  </tbody>\n</table>\n<p>386 rows × 19 columns</p>\n</div>"
     },
     "metadata": {},
     "execution_count": 111
    }
   ],
   "source": [
    "# Exemple après conversion\n",
    "dataOM"
   ]
  },
  {
   "source": [
    "### Dates création et modification"
   ],
   "cell_type": "markdown",
   "metadata": {}
  },
  {
   "cell_type": "code",
   "execution_count": 112,
   "metadata": {},
   "outputs": [
    {
     "output_type": "execute_result",
     "data": {
      "text/plain": [
       "     objectid   id                       type  volume  quantite  \\\n",
       "0        2002  NaN  Bac aérien avec cache bac     660         1   \n",
       "1        3202  NaN  Bac aérien avec cache bac     660         3   \n",
       "2        2003  NaN  Bac aérien sans cache bac     660         1   \n",
       "3        2004  NaN  Bac aérien sans cache bac     660         1   \n",
       "4        2005  NaN  Bac aérien sans cache bac     660         1   \n",
       "..        ...  ...                        ...     ...       ...   \n",
       "381     18050  NaN  Bac aérien sans cache bac     660         1   \n",
       "382     18051  NaN  Bac aérien avec cache bac     660         2   \n",
       "383     18052  NaN  Bac aérien sans cache bac     340         3   \n",
       "384     18053  NaN  Bac aérien sans cache bac     340         1   \n",
       "385     18054  NaN  Bac aérien sans cache bac     660         1   \n",
       "\n",
       "             marque  date_instal  \\\n",
       "0    Plastic Omnium          NaN   \n",
       "1    Plastic Omnium          NaN   \n",
       "2    Plastic Omnium          NaN   \n",
       "3    Plastic Omnium          NaN   \n",
       "4    Plastic Omnium          NaN   \n",
       "..              ...          ...   \n",
       "381        Contenur          NaN   \n",
       "382        Contenur          NaN   \n",
       "383  Plastic Omnium          NaN   \n",
       "384        Contenur          NaN   \n",
       "385        Contenur          NaN   \n",
       "\n",
       "                                               adresse adresse_comp  \\\n",
       "0                                             Gare tsm          NaN   \n",
       "1             Résidence les terrasses de saint honorat          NaN   \n",
       "2                                      Prince des iles          NaN   \n",
       "3                Avenue de lerins trottoir de l eglise          NaN   \n",
       "4    Avenue de lerins angle traverse magasin souvenirs          NaN   \n",
       "..                                                 ...          ...   \n",
       "381                                Chemin des fougeres          NaN   \n",
       "382                                 Chemin des grottes          NaN   \n",
       "383                                     Impasse turgot          NaN   \n",
       "384                           Rue notre dame des anges          NaN   \n",
       "385                           20 boulevard de lorraine          NaN   \n",
       "\n",
       "    code_insee observations creation   date_creation modification  \\\n",
       "0        06138          NaN  chpayet  20191204083917      chpayet   \n",
       "1        06138          NaN  chpayet  20200102131948      chpayet   \n",
       "2        06138          NaN  chpayet  20191204084630      chpayet   \n",
       "3        06138          NaN  chpayet  20191204085306      chpayet   \n",
       "4        06138          NaN  chpayet  20191204090036      chpayet   \n",
       "..         ...          ...      ...             ...          ...   \n",
       "381      06079          NaN  chpayet  20200827085918      chpayet   \n",
       "382      06079          NaN  chpayet  20200827090415      chpayet   \n",
       "383      06030          NaN  chpayet  20200827115300      chpayet   \n",
       "384      06030          NaN  chpayet  20200827121026      chpayet   \n",
       "385      06029          NaN  chpayet  20200827123332      chpayet   \n",
       "\n",
       "     date_modification                                globalid  etat  \\\n",
       "0       20191204083917  {5C455C7F-2CAF-4B57-8B69-686691E7ACAA}   NaN   \n",
       "1       20200102131948  {449AE0D0-B256-49C2-84F7-87F4248CA3CC}   NaN   \n",
       "2       20191204084630  {FED2233C-9710-40F1-ACF4-58134F0BB9FE}   NaN   \n",
       "3       20191204085306  {058DC0AE-423C-4FEB-8D30-D4C113428CD8}   NaN   \n",
       "4       20191204090036  {53D62EB0-B046-4D5D-B636-94646AC984AA}   NaN   \n",
       "..                 ...                                     ...   ...   \n",
       "381     20200827085918  {3AF1895B-8999-4CC2-8610-A0CB916F3A68}   NaN   \n",
       "382     20200827090415  {02507DBC-6164-4E65-9FEB-376D97108ACD}   NaN   \n",
       "383     20200827115300  {AE9C15F9-4DD6-43FE-8A5A-441B9E5E2A0E}   NaN   \n",
       "384     20200827121026  {882FA65E-7566-40F7-B7C8-FC8355EEBDC2}   NaN   \n",
       "385     20200827123332  {EC02F473-95AE-4729-BF0C-DFB9923202DB}   NaN   \n",
       "\n",
       "           _x         _y  \n",
       "0    6.937009  43.513302  \n",
       "1    6.941518  43.490540  \n",
       "2    6.937398  43.509171  \n",
       "3    6.938353  43.508087  \n",
       "4    6.940556  43.507687  \n",
       "..        ...        ...  \n",
       "381  6.930053  43.558224  \n",
       "382  6.930284  43.556831  \n",
       "383  7.023561  43.576286  \n",
       "384  7.013729  43.573708  \n",
       "385  7.026821  43.553452  \n",
       "\n",
       "[386 rows x 19 columns]"
      ],
      "text/html": "<div>\n<style scoped>\n    .dataframe tbody tr th:only-of-type {\n        vertical-align: middle;\n    }\n\n    .dataframe tbody tr th {\n        vertical-align: top;\n    }\n\n    .dataframe thead th {\n        text-align: right;\n    }\n</style>\n<table border=\"1\" class=\"dataframe\">\n  <thead>\n    <tr style=\"text-align: right;\">\n      <th></th>\n      <th>objectid</th>\n      <th>id</th>\n      <th>type</th>\n      <th>volume</th>\n      <th>quantite</th>\n      <th>marque</th>\n      <th>date_instal</th>\n      <th>adresse</th>\n      <th>adresse_comp</th>\n      <th>code_insee</th>\n      <th>observations</th>\n      <th>creation</th>\n      <th>date_creation</th>\n      <th>modification</th>\n      <th>date_modification</th>\n      <th>globalid</th>\n      <th>etat</th>\n      <th>_x</th>\n      <th>_y</th>\n    </tr>\n  </thead>\n  <tbody>\n    <tr>\n      <th>0</th>\n      <td>2002</td>\n      <td>NaN</td>\n      <td>Bac aérien avec cache bac</td>\n      <td>660</td>\n      <td>1</td>\n      <td>Plastic Omnium</td>\n      <td>NaN</td>\n      <td>Gare tsm</td>\n      <td>NaN</td>\n      <td>06138</td>\n      <td>NaN</td>\n      <td>chpayet</td>\n      <td>20191204083917</td>\n      <td>chpayet</td>\n      <td>20191204083917</td>\n      <td>{5C455C7F-2CAF-4B57-8B69-686691E7ACAA}</td>\n      <td>NaN</td>\n      <td>6.937009</td>\n      <td>43.513302</td>\n    </tr>\n    <tr>\n      <th>1</th>\n      <td>3202</td>\n      <td>NaN</td>\n      <td>Bac aérien avec cache bac</td>\n      <td>660</td>\n      <td>3</td>\n      <td>Plastic Omnium</td>\n      <td>NaN</td>\n      <td>Résidence les terrasses de saint honorat</td>\n      <td>NaN</td>\n      <td>06138</td>\n      <td>NaN</td>\n      <td>chpayet</td>\n      <td>20200102131948</td>\n      <td>chpayet</td>\n      <td>20200102131948</td>\n      <td>{449AE0D0-B256-49C2-84F7-87F4248CA3CC}</td>\n      <td>NaN</td>\n      <td>6.941518</td>\n      <td>43.490540</td>\n    </tr>\n    <tr>\n      <th>2</th>\n      <td>2003</td>\n      <td>NaN</td>\n      <td>Bac aérien sans cache bac</td>\n      <td>660</td>\n      <td>1</td>\n      <td>Plastic Omnium</td>\n      <td>NaN</td>\n      <td>Prince des iles</td>\n      <td>NaN</td>\n      <td>06138</td>\n      <td>NaN</td>\n      <td>chpayet</td>\n      <td>20191204084630</td>\n      <td>chpayet</td>\n      <td>20191204084630</td>\n      <td>{FED2233C-9710-40F1-ACF4-58134F0BB9FE}</td>\n      <td>NaN</td>\n      <td>6.937398</td>\n      <td>43.509171</td>\n    </tr>\n    <tr>\n      <th>3</th>\n      <td>2004</td>\n      <td>NaN</td>\n      <td>Bac aérien sans cache bac</td>\n      <td>660</td>\n      <td>1</td>\n      <td>Plastic Omnium</td>\n      <td>NaN</td>\n      <td>Avenue de lerins trottoir de l eglise</td>\n      <td>NaN</td>\n      <td>06138</td>\n      <td>NaN</td>\n      <td>chpayet</td>\n      <td>20191204085306</td>\n      <td>chpayet</td>\n      <td>20191204085306</td>\n      <td>{058DC0AE-423C-4FEB-8D30-D4C113428CD8}</td>\n      <td>NaN</td>\n      <td>6.938353</td>\n      <td>43.508087</td>\n    </tr>\n    <tr>\n      <th>4</th>\n      <td>2005</td>\n      <td>NaN</td>\n      <td>Bac aérien sans cache bac</td>\n      <td>660</td>\n      <td>1</td>\n      <td>Plastic Omnium</td>\n      <td>NaN</td>\n      <td>Avenue de lerins angle traverse magasin souvenirs</td>\n      <td>NaN</td>\n      <td>06138</td>\n      <td>NaN</td>\n      <td>chpayet</td>\n      <td>20191204090036</td>\n      <td>chpayet</td>\n      <td>20191204090036</td>\n      <td>{53D62EB0-B046-4D5D-B636-94646AC984AA}</td>\n      <td>NaN</td>\n      <td>6.940556</td>\n      <td>43.507687</td>\n    </tr>\n    <tr>\n      <th>...</th>\n      <td>...</td>\n      <td>...</td>\n      <td>...</td>\n      <td>...</td>\n      <td>...</td>\n      <td>...</td>\n      <td>...</td>\n      <td>...</td>\n      <td>...</td>\n      <td>...</td>\n      <td>...</td>\n      <td>...</td>\n      <td>...</td>\n      <td>...</td>\n      <td>...</td>\n      <td>...</td>\n      <td>...</td>\n      <td>...</td>\n      <td>...</td>\n    </tr>\n    <tr>\n      <th>381</th>\n      <td>18050</td>\n      <td>NaN</td>\n      <td>Bac aérien sans cache bac</td>\n      <td>660</td>\n      <td>1</td>\n      <td>Contenur</td>\n      <td>NaN</td>\n      <td>Chemin des fougeres</td>\n      <td>NaN</td>\n      <td>06079</td>\n      <td>NaN</td>\n      <td>chpayet</td>\n      <td>20200827085918</td>\n      <td>chpayet</td>\n      <td>20200827085918</td>\n      <td>{3AF1895B-8999-4CC2-8610-A0CB916F3A68}</td>\n      <td>NaN</td>\n      <td>6.930053</td>\n      <td>43.558224</td>\n    </tr>\n    <tr>\n      <th>382</th>\n      <td>18051</td>\n      <td>NaN</td>\n      <td>Bac aérien avec cache bac</td>\n      <td>660</td>\n      <td>2</td>\n      <td>Contenur</td>\n      <td>NaN</td>\n      <td>Chemin des grottes</td>\n      <td>NaN</td>\n      <td>06079</td>\n      <td>NaN</td>\n      <td>chpayet</td>\n      <td>20200827090415</td>\n      <td>chpayet</td>\n      <td>20200827090415</td>\n      <td>{02507DBC-6164-4E65-9FEB-376D97108ACD}</td>\n      <td>NaN</td>\n      <td>6.930284</td>\n      <td>43.556831</td>\n    </tr>\n    <tr>\n      <th>383</th>\n      <td>18052</td>\n      <td>NaN</td>\n      <td>Bac aérien sans cache bac</td>\n      <td>340</td>\n      <td>3</td>\n      <td>Plastic Omnium</td>\n      <td>NaN</td>\n      <td>Impasse turgot</td>\n      <td>NaN</td>\n      <td>06030</td>\n      <td>NaN</td>\n      <td>chpayet</td>\n      <td>20200827115300</td>\n      <td>chpayet</td>\n      <td>20200827115300</td>\n      <td>{AE9C15F9-4DD6-43FE-8A5A-441B9E5E2A0E}</td>\n      <td>NaN</td>\n      <td>7.023561</td>\n      <td>43.576286</td>\n    </tr>\n    <tr>\n      <th>384</th>\n      <td>18053</td>\n      <td>NaN</td>\n      <td>Bac aérien sans cache bac</td>\n      <td>340</td>\n      <td>1</td>\n      <td>Contenur</td>\n      <td>NaN</td>\n      <td>Rue notre dame des anges</td>\n      <td>NaN</td>\n      <td>06030</td>\n      <td>NaN</td>\n      <td>chpayet</td>\n      <td>20200827121026</td>\n      <td>chpayet</td>\n      <td>20200827121026</td>\n      <td>{882FA65E-7566-40F7-B7C8-FC8355EEBDC2}</td>\n      <td>NaN</td>\n      <td>7.013729</td>\n      <td>43.573708</td>\n    </tr>\n    <tr>\n      <th>385</th>\n      <td>18054</td>\n      <td>NaN</td>\n      <td>Bac aérien sans cache bac</td>\n      <td>660</td>\n      <td>1</td>\n      <td>Contenur</td>\n      <td>NaN</td>\n      <td>20 boulevard de lorraine</td>\n      <td>NaN</td>\n      <td>06029</td>\n      <td>NaN</td>\n      <td>chpayet</td>\n      <td>20200827123332</td>\n      <td>chpayet</td>\n      <td>20200827123332</td>\n      <td>{EC02F473-95AE-4729-BF0C-DFB9923202DB}</td>\n      <td>NaN</td>\n      <td>7.026821</td>\n      <td>43.553452</td>\n    </tr>\n  </tbody>\n</table>\n<p>386 rows × 19 columns</p>\n</div>"
     },
     "metadata": {},
     "execution_count": 112
    }
   ],
   "source": [
    "# Exemple avant conversion\n",
    "dataOM"
   ]
  },
  {
   "cell_type": "code",
   "execution_count": 113,
   "metadata": {},
   "outputs": [],
   "source": [
    "formatDate = \"%Y%m%d%H%M%S\"\n",
    "for df in dataframes:\n",
    "    df.date_creation = pd.to_datetime(df.date_creation, format=formatDate)\n",
    "    df.date_modification = pd.to_datetime(df.date_modification, format=formatDate)"
   ]
  },
  {
   "cell_type": "code",
   "execution_count": 114,
   "metadata": {},
   "outputs": [
    {
     "output_type": "execute_result",
     "data": {
      "text/plain": [
       "     objectid   id                       type  volume  quantite  \\\n",
       "0        2002  NaN  Bac aérien avec cache bac     660         1   \n",
       "1        3202  NaN  Bac aérien avec cache bac     660         3   \n",
       "2        2003  NaN  Bac aérien sans cache bac     660         1   \n",
       "3        2004  NaN  Bac aérien sans cache bac     660         1   \n",
       "4        2005  NaN  Bac aérien sans cache bac     660         1   \n",
       "..        ...  ...                        ...     ...       ...   \n",
       "381     18050  NaN  Bac aérien sans cache bac     660         1   \n",
       "382     18051  NaN  Bac aérien avec cache bac     660         2   \n",
       "383     18052  NaN  Bac aérien sans cache bac     340         3   \n",
       "384     18053  NaN  Bac aérien sans cache bac     340         1   \n",
       "385     18054  NaN  Bac aérien sans cache bac     660         1   \n",
       "\n",
       "             marque  date_instal  \\\n",
       "0    Plastic Omnium          NaN   \n",
       "1    Plastic Omnium          NaN   \n",
       "2    Plastic Omnium          NaN   \n",
       "3    Plastic Omnium          NaN   \n",
       "4    Plastic Omnium          NaN   \n",
       "..              ...          ...   \n",
       "381        Contenur          NaN   \n",
       "382        Contenur          NaN   \n",
       "383  Plastic Omnium          NaN   \n",
       "384        Contenur          NaN   \n",
       "385        Contenur          NaN   \n",
       "\n",
       "                                               adresse adresse_comp  \\\n",
       "0                                             Gare tsm          NaN   \n",
       "1             Résidence les terrasses de saint honorat          NaN   \n",
       "2                                      Prince des iles          NaN   \n",
       "3                Avenue de lerins trottoir de l eglise          NaN   \n",
       "4    Avenue de lerins angle traverse magasin souvenirs          NaN   \n",
       "..                                                 ...          ...   \n",
       "381                                Chemin des fougeres          NaN   \n",
       "382                                 Chemin des grottes          NaN   \n",
       "383                                     Impasse turgot          NaN   \n",
       "384                           Rue notre dame des anges          NaN   \n",
       "385                           20 boulevard de lorraine          NaN   \n",
       "\n",
       "    code_insee observations creation       date_creation modification  \\\n",
       "0        06138          NaN  chpayet 2019-12-04 08:39:17      chpayet   \n",
       "1        06138          NaN  chpayet 2020-01-02 13:19:48      chpayet   \n",
       "2        06138          NaN  chpayet 2019-12-04 08:46:30      chpayet   \n",
       "3        06138          NaN  chpayet 2019-12-04 08:53:06      chpayet   \n",
       "4        06138          NaN  chpayet 2019-12-04 09:00:36      chpayet   \n",
       "..         ...          ...      ...                 ...          ...   \n",
       "381      06079          NaN  chpayet 2020-08-27 08:59:18      chpayet   \n",
       "382      06079          NaN  chpayet 2020-08-27 09:04:15      chpayet   \n",
       "383      06030          NaN  chpayet 2020-08-27 11:53:00      chpayet   \n",
       "384      06030          NaN  chpayet 2020-08-27 12:10:26      chpayet   \n",
       "385      06029          NaN  chpayet 2020-08-27 12:33:32      chpayet   \n",
       "\n",
       "      date_modification                                globalid  etat  \\\n",
       "0   2019-12-04 08:39:17  {5C455C7F-2CAF-4B57-8B69-686691E7ACAA}   NaN   \n",
       "1   2020-01-02 13:19:48  {449AE0D0-B256-49C2-84F7-87F4248CA3CC}   NaN   \n",
       "2   2019-12-04 08:46:30  {FED2233C-9710-40F1-ACF4-58134F0BB9FE}   NaN   \n",
       "3   2019-12-04 08:53:06  {058DC0AE-423C-4FEB-8D30-D4C113428CD8}   NaN   \n",
       "4   2019-12-04 09:00:36  {53D62EB0-B046-4D5D-B636-94646AC984AA}   NaN   \n",
       "..                  ...                                     ...   ...   \n",
       "381 2020-08-27 08:59:18  {3AF1895B-8999-4CC2-8610-A0CB916F3A68}   NaN   \n",
       "382 2020-08-27 09:04:15  {02507DBC-6164-4E65-9FEB-376D97108ACD}   NaN   \n",
       "383 2020-08-27 11:53:00  {AE9C15F9-4DD6-43FE-8A5A-441B9E5E2A0E}   NaN   \n",
       "384 2020-08-27 12:10:26  {882FA65E-7566-40F7-B7C8-FC8355EEBDC2}   NaN   \n",
       "385 2020-08-27 12:33:32  {EC02F473-95AE-4729-BF0C-DFB9923202DB}   NaN   \n",
       "\n",
       "           _x         _y  \n",
       "0    6.937009  43.513302  \n",
       "1    6.941518  43.490540  \n",
       "2    6.937398  43.509171  \n",
       "3    6.938353  43.508087  \n",
       "4    6.940556  43.507687  \n",
       "..        ...        ...  \n",
       "381  6.930053  43.558224  \n",
       "382  6.930284  43.556831  \n",
       "383  7.023561  43.576286  \n",
       "384  7.013729  43.573708  \n",
       "385  7.026821  43.553452  \n",
       "\n",
       "[386 rows x 19 columns]"
      ],
      "text/html": "<div>\n<style scoped>\n    .dataframe tbody tr th:only-of-type {\n        vertical-align: middle;\n    }\n\n    .dataframe tbody tr th {\n        vertical-align: top;\n    }\n\n    .dataframe thead th {\n        text-align: right;\n    }\n</style>\n<table border=\"1\" class=\"dataframe\">\n  <thead>\n    <tr style=\"text-align: right;\">\n      <th></th>\n      <th>objectid</th>\n      <th>id</th>\n      <th>type</th>\n      <th>volume</th>\n      <th>quantite</th>\n      <th>marque</th>\n      <th>date_instal</th>\n      <th>adresse</th>\n      <th>adresse_comp</th>\n      <th>code_insee</th>\n      <th>observations</th>\n      <th>creation</th>\n      <th>date_creation</th>\n      <th>modification</th>\n      <th>date_modification</th>\n      <th>globalid</th>\n      <th>etat</th>\n      <th>_x</th>\n      <th>_y</th>\n    </tr>\n  </thead>\n  <tbody>\n    <tr>\n      <th>0</th>\n      <td>2002</td>\n      <td>NaN</td>\n      <td>Bac aérien avec cache bac</td>\n      <td>660</td>\n      <td>1</td>\n      <td>Plastic Omnium</td>\n      <td>NaN</td>\n      <td>Gare tsm</td>\n      <td>NaN</td>\n      <td>06138</td>\n      <td>NaN</td>\n      <td>chpayet</td>\n      <td>2019-12-04 08:39:17</td>\n      <td>chpayet</td>\n      <td>2019-12-04 08:39:17</td>\n      <td>{5C455C7F-2CAF-4B57-8B69-686691E7ACAA}</td>\n      <td>NaN</td>\n      <td>6.937009</td>\n      <td>43.513302</td>\n    </tr>\n    <tr>\n      <th>1</th>\n      <td>3202</td>\n      <td>NaN</td>\n      <td>Bac aérien avec cache bac</td>\n      <td>660</td>\n      <td>3</td>\n      <td>Plastic Omnium</td>\n      <td>NaN</td>\n      <td>Résidence les terrasses de saint honorat</td>\n      <td>NaN</td>\n      <td>06138</td>\n      <td>NaN</td>\n      <td>chpayet</td>\n      <td>2020-01-02 13:19:48</td>\n      <td>chpayet</td>\n      <td>2020-01-02 13:19:48</td>\n      <td>{449AE0D0-B256-49C2-84F7-87F4248CA3CC}</td>\n      <td>NaN</td>\n      <td>6.941518</td>\n      <td>43.490540</td>\n    </tr>\n    <tr>\n      <th>2</th>\n      <td>2003</td>\n      <td>NaN</td>\n      <td>Bac aérien sans cache bac</td>\n      <td>660</td>\n      <td>1</td>\n      <td>Plastic Omnium</td>\n      <td>NaN</td>\n      <td>Prince des iles</td>\n      <td>NaN</td>\n      <td>06138</td>\n      <td>NaN</td>\n      <td>chpayet</td>\n      <td>2019-12-04 08:46:30</td>\n      <td>chpayet</td>\n      <td>2019-12-04 08:46:30</td>\n      <td>{FED2233C-9710-40F1-ACF4-58134F0BB9FE}</td>\n      <td>NaN</td>\n      <td>6.937398</td>\n      <td>43.509171</td>\n    </tr>\n    <tr>\n      <th>3</th>\n      <td>2004</td>\n      <td>NaN</td>\n      <td>Bac aérien sans cache bac</td>\n      <td>660</td>\n      <td>1</td>\n      <td>Plastic Omnium</td>\n      <td>NaN</td>\n      <td>Avenue de lerins trottoir de l eglise</td>\n      <td>NaN</td>\n      <td>06138</td>\n      <td>NaN</td>\n      <td>chpayet</td>\n      <td>2019-12-04 08:53:06</td>\n      <td>chpayet</td>\n      <td>2019-12-04 08:53:06</td>\n      <td>{058DC0AE-423C-4FEB-8D30-D4C113428CD8}</td>\n      <td>NaN</td>\n      <td>6.938353</td>\n      <td>43.508087</td>\n    </tr>\n    <tr>\n      <th>4</th>\n      <td>2005</td>\n      <td>NaN</td>\n      <td>Bac aérien sans cache bac</td>\n      <td>660</td>\n      <td>1</td>\n      <td>Plastic Omnium</td>\n      <td>NaN</td>\n      <td>Avenue de lerins angle traverse magasin souvenirs</td>\n      <td>NaN</td>\n      <td>06138</td>\n      <td>NaN</td>\n      <td>chpayet</td>\n      <td>2019-12-04 09:00:36</td>\n      <td>chpayet</td>\n      <td>2019-12-04 09:00:36</td>\n      <td>{53D62EB0-B046-4D5D-B636-94646AC984AA}</td>\n      <td>NaN</td>\n      <td>6.940556</td>\n      <td>43.507687</td>\n    </tr>\n    <tr>\n      <th>...</th>\n      <td>...</td>\n      <td>...</td>\n      <td>...</td>\n      <td>...</td>\n      <td>...</td>\n      <td>...</td>\n      <td>...</td>\n      <td>...</td>\n      <td>...</td>\n      <td>...</td>\n      <td>...</td>\n      <td>...</td>\n      <td>...</td>\n      <td>...</td>\n      <td>...</td>\n      <td>...</td>\n      <td>...</td>\n      <td>...</td>\n      <td>...</td>\n    </tr>\n    <tr>\n      <th>381</th>\n      <td>18050</td>\n      <td>NaN</td>\n      <td>Bac aérien sans cache bac</td>\n      <td>660</td>\n      <td>1</td>\n      <td>Contenur</td>\n      <td>NaN</td>\n      <td>Chemin des fougeres</td>\n      <td>NaN</td>\n      <td>06079</td>\n      <td>NaN</td>\n      <td>chpayet</td>\n      <td>2020-08-27 08:59:18</td>\n      <td>chpayet</td>\n      <td>2020-08-27 08:59:18</td>\n      <td>{3AF1895B-8999-4CC2-8610-A0CB916F3A68}</td>\n      <td>NaN</td>\n      <td>6.930053</td>\n      <td>43.558224</td>\n    </tr>\n    <tr>\n      <th>382</th>\n      <td>18051</td>\n      <td>NaN</td>\n      <td>Bac aérien avec cache bac</td>\n      <td>660</td>\n      <td>2</td>\n      <td>Contenur</td>\n      <td>NaN</td>\n      <td>Chemin des grottes</td>\n      <td>NaN</td>\n      <td>06079</td>\n      <td>NaN</td>\n      <td>chpayet</td>\n      <td>2020-08-27 09:04:15</td>\n      <td>chpayet</td>\n      <td>2020-08-27 09:04:15</td>\n      <td>{02507DBC-6164-4E65-9FEB-376D97108ACD}</td>\n      <td>NaN</td>\n      <td>6.930284</td>\n      <td>43.556831</td>\n    </tr>\n    <tr>\n      <th>383</th>\n      <td>18052</td>\n      <td>NaN</td>\n      <td>Bac aérien sans cache bac</td>\n      <td>340</td>\n      <td>3</td>\n      <td>Plastic Omnium</td>\n      <td>NaN</td>\n      <td>Impasse turgot</td>\n      <td>NaN</td>\n      <td>06030</td>\n      <td>NaN</td>\n      <td>chpayet</td>\n      <td>2020-08-27 11:53:00</td>\n      <td>chpayet</td>\n      <td>2020-08-27 11:53:00</td>\n      <td>{AE9C15F9-4DD6-43FE-8A5A-441B9E5E2A0E}</td>\n      <td>NaN</td>\n      <td>7.023561</td>\n      <td>43.576286</td>\n    </tr>\n    <tr>\n      <th>384</th>\n      <td>18053</td>\n      <td>NaN</td>\n      <td>Bac aérien sans cache bac</td>\n      <td>340</td>\n      <td>1</td>\n      <td>Contenur</td>\n      <td>NaN</td>\n      <td>Rue notre dame des anges</td>\n      <td>NaN</td>\n      <td>06030</td>\n      <td>NaN</td>\n      <td>chpayet</td>\n      <td>2020-08-27 12:10:26</td>\n      <td>chpayet</td>\n      <td>2020-08-27 12:10:26</td>\n      <td>{882FA65E-7566-40F7-B7C8-FC8355EEBDC2}</td>\n      <td>NaN</td>\n      <td>7.013729</td>\n      <td>43.573708</td>\n    </tr>\n    <tr>\n      <th>385</th>\n      <td>18054</td>\n      <td>NaN</td>\n      <td>Bac aérien sans cache bac</td>\n      <td>660</td>\n      <td>1</td>\n      <td>Contenur</td>\n      <td>NaN</td>\n      <td>20 boulevard de lorraine</td>\n      <td>NaN</td>\n      <td>06029</td>\n      <td>NaN</td>\n      <td>chpayet</td>\n      <td>2020-08-27 12:33:32</td>\n      <td>chpayet</td>\n      <td>2020-08-27 12:33:32</td>\n      <td>{EC02F473-95AE-4729-BF0C-DFB9923202DB}</td>\n      <td>NaN</td>\n      <td>7.026821</td>\n      <td>43.553452</td>\n    </tr>\n  </tbody>\n</table>\n<p>386 rows × 19 columns</p>\n</div>"
     },
     "metadata": {},
     "execution_count": 114
    }
   ],
   "source": [
    "# Exemple après conversion\n",
    "dataOM"
   ]
  },
  {
   "source": [
    "### Accessibilite et Etat retirés"
   ],
   "cell_type": "markdown",
   "metadata": {}
  },
  {
   "cell_type": "code",
   "execution_count": 115,
   "metadata": {},
   "outputs": [],
   "source": [
    "# Faire drop(..., inplace=True) et non data = data.drop(...) pour que les modifications soient répercutées sur dataframes \n",
    "# (sinon dataframes reste la copie des dataframes avant suppression)\n",
    "dataOM.drop(columns=\"etat\", inplace=True)\n",
    "dataPapier.drop(columns=[\"accessibilite\", \"etat\"], inplace=True)\n",
    "dataTri.drop(columns=[\"accessibilite\", \"etat\"], inplace=True)\n",
    "dataVerre.drop(columns=[\"accessibilite\", \"etat\"], inplace=True)\n",
    "dataVetement.drop(columns=\"etat\", inplace=True)"
   ]
  },
  {
   "source": [
    "## Création des DataFrames"
   ],
   "cell_type": "markdown",
   "metadata": {}
  },
  {
   "source": [
    "### Dataframes Decheterie, Dechet et Traitement"
   ],
   "cell_type": "markdown",
   "metadata": {}
  },
  {
   "cell_type": "code",
   "execution_count": 116,
   "metadata": {},
   "outputs": [
    {
     "output_type": "execute_result",
     "data": {
      "text/plain": [
       "    id                        type\n",
       "0    1                  végétation\n",
       "1    2                        bois\n",
       "2    3                       métal\n",
       "3    4             gravats propres\n",
       "4    5                 gravat sale\n",
       "5    6                      carton\n",
       "6    7                         d3e\n",
       "7    8      déchet ménager spécial\n",
       "8    9                        néon\n",
       "9   10                    batterie\n",
       "10  11                        pile\n",
       "11  12                         gaz\n",
       "12  13                  extincteur\n",
       "13  14  huile végétale ou minérale"
      ],
      "text/html": "<div>\n<style scoped>\n    .dataframe tbody tr th:only-of-type {\n        vertical-align: middle;\n    }\n\n    .dataframe tbody tr th {\n        vertical-align: top;\n    }\n\n    .dataframe thead th {\n        text-align: right;\n    }\n</style>\n<table border=\"1\" class=\"dataframe\">\n  <thead>\n    <tr style=\"text-align: right;\">\n      <th></th>\n      <th>id</th>\n      <th>type</th>\n    </tr>\n  </thead>\n  <tbody>\n    <tr>\n      <th>0</th>\n      <td>1</td>\n      <td>végétation</td>\n    </tr>\n    <tr>\n      <th>1</th>\n      <td>2</td>\n      <td>bois</td>\n    </tr>\n    <tr>\n      <th>2</th>\n      <td>3</td>\n      <td>métal</td>\n    </tr>\n    <tr>\n      <th>3</th>\n      <td>4</td>\n      <td>gravats propres</td>\n    </tr>\n    <tr>\n      <th>4</th>\n      <td>5</td>\n      <td>gravat sale</td>\n    </tr>\n    <tr>\n      <th>5</th>\n      <td>6</td>\n      <td>carton</td>\n    </tr>\n    <tr>\n      <th>6</th>\n      <td>7</td>\n      <td>d3e</td>\n    </tr>\n    <tr>\n      <th>7</th>\n      <td>8</td>\n      <td>déchet ménager spécial</td>\n    </tr>\n    <tr>\n      <th>8</th>\n      <td>9</td>\n      <td>néon</td>\n    </tr>\n    <tr>\n      <th>9</th>\n      <td>10</td>\n      <td>batterie</td>\n    </tr>\n    <tr>\n      <th>10</th>\n      <td>11</td>\n      <td>pile</td>\n    </tr>\n    <tr>\n      <th>11</th>\n      <td>12</td>\n      <td>gaz</td>\n    </tr>\n    <tr>\n      <th>12</th>\n      <td>13</td>\n      <td>extincteur</td>\n    </tr>\n    <tr>\n      <th>13</th>\n      <td>14</td>\n      <td>huile végétale ou minérale</td>\n    </tr>\n  </tbody>\n</table>\n</div>"
     },
     "metadata": {},
     "execution_count": 116
    }
   ],
   "source": [
    "dictDechets = {\n",
    "    \"type\": [\"végétation\", \"bois\", \"métal\", \"gravats propres\", \"gravat sale\", \"carton\", \"d3e\", \"déchet ménager spécial\", \"néon\", \"batterie\", \"pile\", \"gaz\", \"extincteur\", \"huile végétale ou minérale\"],\n",
    "    \"typeAbrege\": [\"veget\", \"bois\", \"metal\", \"grav_prop\", \"grav_sal\", \"carton\", \"d3e\", \"dech_men_spe\", \"neon\", \"batterie\", \"pile\", \"gaz\", \"extincteur\", \"huil_veget_mineral\"]\n",
    "}\n",
    "\n",
    "dechet = pd.DataFrame(dictDechets, columns = [\"id\", \"type\"])\n",
    "dechet[\"id\"] = dechet.index + 1 # PK en auto-increment commence à 1\n",
    "dechet"
   ]
  },
  {
   "cell_type": "code",
   "execution_count": 117,
   "metadata": {},
   "outputs": [
    {
     "output_type": "execute_result",
     "data": {
      "text/plain": [
       "   objectidDecheterie idDechet\n",
       "0                 801        1\n",
       "1                 801        2\n",
       "2                 801        3\n",
       "3                 801        4\n",
       "4                 801        5\n",
       "5                 801        6\n",
       "6                 801        7\n",
       "7                 801        8\n",
       "8                 801        9\n",
       "9                 801       10\n",
       "10                801       11\n",
       "11                801       12\n",
       "12                801       13\n",
       "13                801       14\n",
       "14               1201        1\n",
       "15               1201        2\n",
       "16               1201        3\n",
       "17               1201        4\n",
       "18               1201        6\n",
       "19               1201        7\n",
       "20               1201        9\n",
       "21               1201       10\n",
       "22               1201       11\n",
       "23               1201       12\n",
       "24               1201       13\n",
       "25               1201       14\n",
       "26               1601        1\n",
       "27               1601        2\n",
       "28               1601        3\n",
       "29               1601        4\n",
       "30               1601        5\n",
       "31               1601        6\n",
       "32               1601        7\n",
       "33               1601        8\n",
       "34               1601        9\n",
       "35               1601       10\n",
       "36               1601       11\n",
       "37               1601       12\n",
       "38               1601       13\n",
       "39               1601       14"
      ],
      "text/html": "<div>\n<style scoped>\n    .dataframe tbody tr th:only-of-type {\n        vertical-align: middle;\n    }\n\n    .dataframe tbody tr th {\n        vertical-align: top;\n    }\n\n    .dataframe thead th {\n        text-align: right;\n    }\n</style>\n<table border=\"1\" class=\"dataframe\">\n  <thead>\n    <tr style=\"text-align: right;\">\n      <th></th>\n      <th>objectidDecheterie</th>\n      <th>idDechet</th>\n    </tr>\n  </thead>\n  <tbody>\n    <tr>\n      <th>0</th>\n      <td>801</td>\n      <td>1</td>\n    </tr>\n    <tr>\n      <th>1</th>\n      <td>801</td>\n      <td>2</td>\n    </tr>\n    <tr>\n      <th>2</th>\n      <td>801</td>\n      <td>3</td>\n    </tr>\n    <tr>\n      <th>3</th>\n      <td>801</td>\n      <td>4</td>\n    </tr>\n    <tr>\n      <th>4</th>\n      <td>801</td>\n      <td>5</td>\n    </tr>\n    <tr>\n      <th>5</th>\n      <td>801</td>\n      <td>6</td>\n    </tr>\n    <tr>\n      <th>6</th>\n      <td>801</td>\n      <td>7</td>\n    </tr>\n    <tr>\n      <th>7</th>\n      <td>801</td>\n      <td>8</td>\n    </tr>\n    <tr>\n      <th>8</th>\n      <td>801</td>\n      <td>9</td>\n    </tr>\n    <tr>\n      <th>9</th>\n      <td>801</td>\n      <td>10</td>\n    </tr>\n    <tr>\n      <th>10</th>\n      <td>801</td>\n      <td>11</td>\n    </tr>\n    <tr>\n      <th>11</th>\n      <td>801</td>\n      <td>12</td>\n    </tr>\n    <tr>\n      <th>12</th>\n      <td>801</td>\n      <td>13</td>\n    </tr>\n    <tr>\n      <th>13</th>\n      <td>801</td>\n      <td>14</td>\n    </tr>\n    <tr>\n      <th>14</th>\n      <td>1201</td>\n      <td>1</td>\n    </tr>\n    <tr>\n      <th>15</th>\n      <td>1201</td>\n      <td>2</td>\n    </tr>\n    <tr>\n      <th>16</th>\n      <td>1201</td>\n      <td>3</td>\n    </tr>\n    <tr>\n      <th>17</th>\n      <td>1201</td>\n      <td>4</td>\n    </tr>\n    <tr>\n      <th>18</th>\n      <td>1201</td>\n      <td>6</td>\n    </tr>\n    <tr>\n      <th>19</th>\n      <td>1201</td>\n      <td>7</td>\n    </tr>\n    <tr>\n      <th>20</th>\n      <td>1201</td>\n      <td>9</td>\n    </tr>\n    <tr>\n      <th>21</th>\n      <td>1201</td>\n      <td>10</td>\n    </tr>\n    <tr>\n      <th>22</th>\n      <td>1201</td>\n      <td>11</td>\n    </tr>\n    <tr>\n      <th>23</th>\n      <td>1201</td>\n      <td>12</td>\n    </tr>\n    <tr>\n      <th>24</th>\n      <td>1201</td>\n      <td>13</td>\n    </tr>\n    <tr>\n      <th>25</th>\n      <td>1201</td>\n      <td>14</td>\n    </tr>\n    <tr>\n      <th>26</th>\n      <td>1601</td>\n      <td>1</td>\n    </tr>\n    <tr>\n      <th>27</th>\n      <td>1601</td>\n      <td>2</td>\n    </tr>\n    <tr>\n      <th>28</th>\n      <td>1601</td>\n      <td>3</td>\n    </tr>\n    <tr>\n      <th>29</th>\n      <td>1601</td>\n      <td>4</td>\n    </tr>\n    <tr>\n      <th>30</th>\n      <td>1601</td>\n      <td>5</td>\n    </tr>\n    <tr>\n      <th>31</th>\n      <td>1601</td>\n      <td>6</td>\n    </tr>\n    <tr>\n      <th>32</th>\n      <td>1601</td>\n      <td>7</td>\n    </tr>\n    <tr>\n      <th>33</th>\n      <td>1601</td>\n      <td>8</td>\n    </tr>\n    <tr>\n      <th>34</th>\n      <td>1601</td>\n      <td>9</td>\n    </tr>\n    <tr>\n      <th>35</th>\n      <td>1601</td>\n      <td>10</td>\n    </tr>\n    <tr>\n      <th>36</th>\n      <td>1601</td>\n      <td>11</td>\n    </tr>\n    <tr>\n      <th>37</th>\n      <td>1601</td>\n      <td>12</td>\n    </tr>\n    <tr>\n      <th>38</th>\n      <td>1601</td>\n      <td>13</td>\n    </tr>\n    <tr>\n      <th>39</th>\n      <td>1601</td>\n      <td>14</td>\n    </tr>\n  </tbody>\n</table>\n</div>"
     },
     "metadata": {},
     "execution_count": 117
    }
   ],
   "source": [
    "traitement = pd.DataFrame(columns = ['objectidDecheterie','idDechet'])\n",
    "for i in dataDecheterie.index:\n",
    "    for j, col in enumerate(dictDechets[\"typeAbrege\"]):\n",
    "        if dataDecheterie.loc[i, col] == \"Oui\":\n",
    "            df = pd.DataFrame({'objectidDecheterie': dataDecheterie.loc[i, \"objectid\"],'idDechet': j+1}, index=[0])\n",
    "            traitement = traitement.append(df, ignore_index = True)\n",
    "traitement"
   ]
  },
  {
   "cell_type": "code",
   "execution_count": 118,
   "metadata": {},
   "outputs": [
    {
     "output_type": "execute_result",
     "data": {
      "text/plain": [
       "   objectid  id                  adresse  adresse_comp code_insee  \\\n",
       "0       801 NaN    Impasse de l aubarede           NaN      06030   \n",
       "1      1201 NaN      Chemin du coudouron           NaN      06085   \n",
       "2      1601 NaN  Déchèterie des tourades           NaN      06029   \n",
       "\n",
       "   date_instal  observations creation       date_creation modification  \\\n",
       "0          NaN           NaN  chpayet 2020-07-23 13:59:23      chpayet   \n",
       "1          NaN           NaN  chpayet 2020-07-27 12:51:41      chpayet   \n",
       "2          NaN           NaN  chpayet 2020-07-31 13:01:59      chpayet   \n",
       "\n",
       "    date_modification                                globalid        _x  \\\n",
       "0 2020-07-23 13:59:23  {F24B4AF3-17BF-4215-B07F-044AA37EA4E5}  6.983613   \n",
       "1 2020-07-27 12:54:59  {26CF70EB-23DD-4399-ACBA-98434B6BFC1A}  6.964639   \n",
       "2 2020-07-31 13:03:32  {83866245-B862-4D22-B436-D5B1A64F5441}  6.954320   \n",
       "\n",
       "          _y  \n",
       "0  43.566849  \n",
       "1  43.581638  \n",
       "2  43.556717  "
      ],
      "text/html": "<div>\n<style scoped>\n    .dataframe tbody tr th:only-of-type {\n        vertical-align: middle;\n    }\n\n    .dataframe tbody tr th {\n        vertical-align: top;\n    }\n\n    .dataframe thead th {\n        text-align: right;\n    }\n</style>\n<table border=\"1\" class=\"dataframe\">\n  <thead>\n    <tr style=\"text-align: right;\">\n      <th></th>\n      <th>objectid</th>\n      <th>id</th>\n      <th>adresse</th>\n      <th>adresse_comp</th>\n      <th>code_insee</th>\n      <th>date_instal</th>\n      <th>observations</th>\n      <th>creation</th>\n      <th>date_creation</th>\n      <th>modification</th>\n      <th>date_modification</th>\n      <th>globalid</th>\n      <th>_x</th>\n      <th>_y</th>\n    </tr>\n  </thead>\n  <tbody>\n    <tr>\n      <th>0</th>\n      <td>801</td>\n      <td>NaN</td>\n      <td>Impasse de l aubarede</td>\n      <td>NaN</td>\n      <td>06030</td>\n      <td>NaN</td>\n      <td>NaN</td>\n      <td>chpayet</td>\n      <td>2020-07-23 13:59:23</td>\n      <td>chpayet</td>\n      <td>2020-07-23 13:59:23</td>\n      <td>{F24B4AF3-17BF-4215-B07F-044AA37EA4E5}</td>\n      <td>6.983613</td>\n      <td>43.566849</td>\n    </tr>\n    <tr>\n      <th>1</th>\n      <td>1201</td>\n      <td>NaN</td>\n      <td>Chemin du coudouron</td>\n      <td>NaN</td>\n      <td>06085</td>\n      <td>NaN</td>\n      <td>NaN</td>\n      <td>chpayet</td>\n      <td>2020-07-27 12:51:41</td>\n      <td>chpayet</td>\n      <td>2020-07-27 12:54:59</td>\n      <td>{26CF70EB-23DD-4399-ACBA-98434B6BFC1A}</td>\n      <td>6.964639</td>\n      <td>43.581638</td>\n    </tr>\n    <tr>\n      <th>2</th>\n      <td>1601</td>\n      <td>NaN</td>\n      <td>Déchèterie des tourades</td>\n      <td>NaN</td>\n      <td>06029</td>\n      <td>NaN</td>\n      <td>NaN</td>\n      <td>chpayet</td>\n      <td>2020-07-31 13:01:59</td>\n      <td>chpayet</td>\n      <td>2020-07-31 13:03:32</td>\n      <td>{83866245-B862-4D22-B436-D5B1A64F5441}</td>\n      <td>6.954320</td>\n      <td>43.556717</td>\n    </tr>\n  </tbody>\n</table>\n</div>"
     },
     "metadata": {},
     "execution_count": 118
    }
   ],
   "source": [
    "# Suppression de toutes les colonnes relevant des types de déchets traités\n",
    "decheterie = dataDecheterie.drop(columns=dictDechets[\"typeAbrege\"])\n",
    "decheterie"
   ]
  },
  {
   "source": [
    "### Dataframes Tri et Collecteur"
   ],
   "cell_type": "markdown",
   "metadata": {}
  },
  {
   "cell_type": "code",
   "execution_count": 119,
   "metadata": {},
   "outputs": [
    {
     "output_type": "execute_result",
     "data": {
      "text/plain": [
       "   id       type\n",
       "0   1         om\n",
       "1   2     papier\n",
       "2   3  emballage\n",
       "3   4      verre\n",
       "4   5   vêtement"
      ],
      "text/html": "<div>\n<style scoped>\n    .dataframe tbody tr th:only-of-type {\n        vertical-align: middle;\n    }\n\n    .dataframe tbody tr th {\n        vertical-align: top;\n    }\n\n    .dataframe thead th {\n        text-align: right;\n    }\n</style>\n<table border=\"1\" class=\"dataframe\">\n  <thead>\n    <tr style=\"text-align: right;\">\n      <th></th>\n      <th>id</th>\n      <th>type</th>\n    </tr>\n  </thead>\n  <tbody>\n    <tr>\n      <th>0</th>\n      <td>1</td>\n      <td>om</td>\n    </tr>\n    <tr>\n      <th>1</th>\n      <td>2</td>\n      <td>papier</td>\n    </tr>\n    <tr>\n      <th>2</th>\n      <td>3</td>\n      <td>emballage</td>\n    </tr>\n    <tr>\n      <th>3</th>\n      <td>4</td>\n      <td>verre</td>\n    </tr>\n    <tr>\n      <th>4</th>\n      <td>5</td>\n      <td>vêtement</td>\n    </tr>\n  </tbody>\n</table>\n</div>"
     },
     "metadata": {},
     "execution_count": 119
    }
   ],
   "source": [
    "dictTri = {\n",
    "    \"type\": [\"om\", \"papier\", \"emballage\", \"verre\", \"vêtement\"],\n",
    "    \"df\": dataframes[1:6]\n",
    "}\n",
    "\n",
    "tri = pd.DataFrame(dictTri, columns = [\"id\", \"type\"])\n",
    "tri[\"id\"] = tri.index + 1 # PK en auto-increment commence à 1\n",
    "tri"
   ]
  },
  {
   "cell_type": "code",
   "execution_count": 120,
   "metadata": {},
   "outputs": [
    {
     "output_type": "execute_result",
     "data": {
      "text/plain": [
       "    objectid   id                       type volume quantite          marque  \\\n",
       "0       2002  NaN  Bac aérien avec cache bac    660        1  Plastic Omnium   \n",
       "1       3202  NaN  Bac aérien avec cache bac    660        3  Plastic Omnium   \n",
       "2       2003  NaN  Bac aérien sans cache bac    660        1  Plastic Omnium   \n",
       "3       2004  NaN  Bac aérien sans cache bac    660        1  Plastic Omnium   \n",
       "4       2005  NaN  Bac aérien sans cache bac    660        1  Plastic Omnium   \n",
       "..       ...  ...                        ...    ...      ...             ...   \n",
       "962     5203  NaN                        NaN    NaN        1             NaN   \n",
       "963    10005  NaN                        NaN    NaN        1             NaN   \n",
       "964    10006  NaN                        NaN    NaN        1             NaN   \n",
       "965     4803  NaN                        NaN    NaN        3             NaN   \n",
       "966    10007  NaN                        NaN    NaN        1             NaN   \n",
       "\n",
       "     date_instal                                            adresse  \\\n",
       "0            NaN                                           Gare tsm   \n",
       "1            NaN           Résidence les terrasses de saint honorat   \n",
       "2            NaN                                    Prince des iles   \n",
       "3            NaN              Avenue de lerins trottoir de l eglise   \n",
       "4            NaN  Avenue de lerins angle traverse magasin souvenirs   \n",
       "..           ...                                                ...   \n",
       "962          NaN                       1102 avenue du maréchal juin   \n",
       "963          NaN                                Chemin de la plaine   \n",
       "964          NaN                                   Chemin du refuge   \n",
       "965          NaN                                   Avenue lamartine   \n",
       "966          NaN                                Chemin de coudouron   \n",
       "\n",
       "    adresse_comp code_insee observations creation       date_creation  \\\n",
       "0            NaN      06138          NaN  chpayet 2019-12-04 08:39:17   \n",
       "1            NaN      06138          NaN  chpayet 2020-01-02 13:19:48   \n",
       "2            NaN      06138          NaN  chpayet 2019-12-04 08:46:30   \n",
       "3            NaN      06138          NaN  chpayet 2019-12-04 08:53:06   \n",
       "4            NaN      06138          NaN  chpayet 2019-12-04 09:00:36   \n",
       "..           ...        ...          ...      ...                 ...   \n",
       "962          NaN      06085          NaN  chpayet 2020-04-17 09:11:49   \n",
       "963          NaN      06085          NaN  chpayet 2020-07-27 12:18:01   \n",
       "964          NaN      06085          NaN  chpayet 2020-07-27 12:35:03   \n",
       "965          NaN      06085          NaN  chpayet 2020-03-10 09:59:22   \n",
       "966  Déchèterie       06085          NaN  chpayet 2020-07-27 12:59:11   \n",
       "\n",
       "    modification   date_modification                                globalid  \\\n",
       "0        chpayet 2019-12-04 08:39:17  {5C455C7F-2CAF-4B57-8B69-686691E7ACAA}   \n",
       "1        chpayet 2020-01-02 13:19:48  {449AE0D0-B256-49C2-84F7-87F4248CA3CC}   \n",
       "2        chpayet 2019-12-04 08:46:30  {FED2233C-9710-40F1-ACF4-58134F0BB9FE}   \n",
       "3        chpayet 2019-12-04 08:53:06  {058DC0AE-423C-4FEB-8D30-D4C113428CD8}   \n",
       "4        chpayet 2019-12-04 09:00:36  {53D62EB0-B046-4D5D-B636-94646AC984AA}   \n",
       "..           ...                 ...                                     ...   \n",
       "962      chpayet 2020-07-27 09:34:53  {9CD34D6C-3542-4109-82C2-C02A0340B019}   \n",
       "963      chpayet 2020-07-27 12:18:01  {EF825DB5-6E4C-41FE-98B1-A1D910135369}   \n",
       "964      chpayet 2020-07-27 12:35:03  {D84F19EA-875D-4778-B290-F634F6C4514A}   \n",
       "965      chpayet 2020-07-27 12:39:49  {EFBAFBA0-0480-4340-B500-F47140DB6A2F}   \n",
       "966      chpayet 2020-07-27 12:59:11  {8708629A-385D-44FF-8DB6-CDD4302B824B}   \n",
       "\n",
       "           _x         _y idTri  \n",
       "0    6.937009  43.513302     1  \n",
       "1    6.941518  43.490540     1  \n",
       "2    6.937398  43.509171     1  \n",
       "3    6.938353  43.508087     1  \n",
       "4    6.940556  43.507687     1  \n",
       "..        ...        ...   ...  \n",
       "962  6.993928  43.591373     5  \n",
       "963  6.970299  43.602245     5  \n",
       "964  6.992376  43.581013     5  \n",
       "965  6.984992  43.574394     5  \n",
       "966  6.964498  43.581551     5  \n",
       "\n",
       "[967 rows x 19 columns]"
      ],
      "text/html": "<div>\n<style scoped>\n    .dataframe tbody tr th:only-of-type {\n        vertical-align: middle;\n    }\n\n    .dataframe tbody tr th {\n        vertical-align: top;\n    }\n\n    .dataframe thead th {\n        text-align: right;\n    }\n</style>\n<table border=\"1\" class=\"dataframe\">\n  <thead>\n    <tr style=\"text-align: right;\">\n      <th></th>\n      <th>objectid</th>\n      <th>id</th>\n      <th>type</th>\n      <th>volume</th>\n      <th>quantite</th>\n      <th>marque</th>\n      <th>date_instal</th>\n      <th>adresse</th>\n      <th>adresse_comp</th>\n      <th>code_insee</th>\n      <th>observations</th>\n      <th>creation</th>\n      <th>date_creation</th>\n      <th>modification</th>\n      <th>date_modification</th>\n      <th>globalid</th>\n      <th>_x</th>\n      <th>_y</th>\n      <th>idTri</th>\n    </tr>\n  </thead>\n  <tbody>\n    <tr>\n      <th>0</th>\n      <td>2002</td>\n      <td>NaN</td>\n      <td>Bac aérien avec cache bac</td>\n      <td>660</td>\n      <td>1</td>\n      <td>Plastic Omnium</td>\n      <td>NaN</td>\n      <td>Gare tsm</td>\n      <td>NaN</td>\n      <td>06138</td>\n      <td>NaN</td>\n      <td>chpayet</td>\n      <td>2019-12-04 08:39:17</td>\n      <td>chpayet</td>\n      <td>2019-12-04 08:39:17</td>\n      <td>{5C455C7F-2CAF-4B57-8B69-686691E7ACAA}</td>\n      <td>6.937009</td>\n      <td>43.513302</td>\n      <td>1</td>\n    </tr>\n    <tr>\n      <th>1</th>\n      <td>3202</td>\n      <td>NaN</td>\n      <td>Bac aérien avec cache bac</td>\n      <td>660</td>\n      <td>3</td>\n      <td>Plastic Omnium</td>\n      <td>NaN</td>\n      <td>Résidence les terrasses de saint honorat</td>\n      <td>NaN</td>\n      <td>06138</td>\n      <td>NaN</td>\n      <td>chpayet</td>\n      <td>2020-01-02 13:19:48</td>\n      <td>chpayet</td>\n      <td>2020-01-02 13:19:48</td>\n      <td>{449AE0D0-B256-49C2-84F7-87F4248CA3CC}</td>\n      <td>6.941518</td>\n      <td>43.490540</td>\n      <td>1</td>\n    </tr>\n    <tr>\n      <th>2</th>\n      <td>2003</td>\n      <td>NaN</td>\n      <td>Bac aérien sans cache bac</td>\n      <td>660</td>\n      <td>1</td>\n      <td>Plastic Omnium</td>\n      <td>NaN</td>\n      <td>Prince des iles</td>\n      <td>NaN</td>\n      <td>06138</td>\n      <td>NaN</td>\n      <td>chpayet</td>\n      <td>2019-12-04 08:46:30</td>\n      <td>chpayet</td>\n      <td>2019-12-04 08:46:30</td>\n      <td>{FED2233C-9710-40F1-ACF4-58134F0BB9FE}</td>\n      <td>6.937398</td>\n      <td>43.509171</td>\n      <td>1</td>\n    </tr>\n    <tr>\n      <th>3</th>\n      <td>2004</td>\n      <td>NaN</td>\n      <td>Bac aérien sans cache bac</td>\n      <td>660</td>\n      <td>1</td>\n      <td>Plastic Omnium</td>\n      <td>NaN</td>\n      <td>Avenue de lerins trottoir de l eglise</td>\n      <td>NaN</td>\n      <td>06138</td>\n      <td>NaN</td>\n      <td>chpayet</td>\n      <td>2019-12-04 08:53:06</td>\n      <td>chpayet</td>\n      <td>2019-12-04 08:53:06</td>\n      <td>{058DC0AE-423C-4FEB-8D30-D4C113428CD8}</td>\n      <td>6.938353</td>\n      <td>43.508087</td>\n      <td>1</td>\n    </tr>\n    <tr>\n      <th>4</th>\n      <td>2005</td>\n      <td>NaN</td>\n      <td>Bac aérien sans cache bac</td>\n      <td>660</td>\n      <td>1</td>\n      <td>Plastic Omnium</td>\n      <td>NaN</td>\n      <td>Avenue de lerins angle traverse magasin souvenirs</td>\n      <td>NaN</td>\n      <td>06138</td>\n      <td>NaN</td>\n      <td>chpayet</td>\n      <td>2019-12-04 09:00:36</td>\n      <td>chpayet</td>\n      <td>2019-12-04 09:00:36</td>\n      <td>{53D62EB0-B046-4D5D-B636-94646AC984AA}</td>\n      <td>6.940556</td>\n      <td>43.507687</td>\n      <td>1</td>\n    </tr>\n    <tr>\n      <th>...</th>\n      <td>...</td>\n      <td>...</td>\n      <td>...</td>\n      <td>...</td>\n      <td>...</td>\n      <td>...</td>\n      <td>...</td>\n      <td>...</td>\n      <td>...</td>\n      <td>...</td>\n      <td>...</td>\n      <td>...</td>\n      <td>...</td>\n      <td>...</td>\n      <td>...</td>\n      <td>...</td>\n      <td>...</td>\n      <td>...</td>\n      <td>...</td>\n    </tr>\n    <tr>\n      <th>962</th>\n      <td>5203</td>\n      <td>NaN</td>\n      <td>NaN</td>\n      <td>NaN</td>\n      <td>1</td>\n      <td>NaN</td>\n      <td>NaN</td>\n      <td>1102 avenue du maréchal juin</td>\n      <td>NaN</td>\n      <td>06085</td>\n      <td>NaN</td>\n      <td>chpayet</td>\n      <td>2020-04-17 09:11:49</td>\n      <td>chpayet</td>\n      <td>2020-07-27 09:34:53</td>\n      <td>{9CD34D6C-3542-4109-82C2-C02A0340B019}</td>\n      <td>6.993928</td>\n      <td>43.591373</td>\n      <td>5</td>\n    </tr>\n    <tr>\n      <th>963</th>\n      <td>10005</td>\n      <td>NaN</td>\n      <td>NaN</td>\n      <td>NaN</td>\n      <td>1</td>\n      <td>NaN</td>\n      <td>NaN</td>\n      <td>Chemin de la plaine</td>\n      <td>NaN</td>\n      <td>06085</td>\n      <td>NaN</td>\n      <td>chpayet</td>\n      <td>2020-07-27 12:18:01</td>\n      <td>chpayet</td>\n      <td>2020-07-27 12:18:01</td>\n      <td>{EF825DB5-6E4C-41FE-98B1-A1D910135369}</td>\n      <td>6.970299</td>\n      <td>43.602245</td>\n      <td>5</td>\n    </tr>\n    <tr>\n      <th>964</th>\n      <td>10006</td>\n      <td>NaN</td>\n      <td>NaN</td>\n      <td>NaN</td>\n      <td>1</td>\n      <td>NaN</td>\n      <td>NaN</td>\n      <td>Chemin du refuge</td>\n      <td>NaN</td>\n      <td>06085</td>\n      <td>NaN</td>\n      <td>chpayet</td>\n      <td>2020-07-27 12:35:03</td>\n      <td>chpayet</td>\n      <td>2020-07-27 12:35:03</td>\n      <td>{D84F19EA-875D-4778-B290-F634F6C4514A}</td>\n      <td>6.992376</td>\n      <td>43.581013</td>\n      <td>5</td>\n    </tr>\n    <tr>\n      <th>965</th>\n      <td>4803</td>\n      <td>NaN</td>\n      <td>NaN</td>\n      <td>NaN</td>\n      <td>3</td>\n      <td>NaN</td>\n      <td>NaN</td>\n      <td>Avenue lamartine</td>\n      <td>NaN</td>\n      <td>06085</td>\n      <td>NaN</td>\n      <td>chpayet</td>\n      <td>2020-03-10 09:59:22</td>\n      <td>chpayet</td>\n      <td>2020-07-27 12:39:49</td>\n      <td>{EFBAFBA0-0480-4340-B500-F47140DB6A2F}</td>\n      <td>6.984992</td>\n      <td>43.574394</td>\n      <td>5</td>\n    </tr>\n    <tr>\n      <th>966</th>\n      <td>10007</td>\n      <td>NaN</td>\n      <td>NaN</td>\n      <td>NaN</td>\n      <td>1</td>\n      <td>NaN</td>\n      <td>NaN</td>\n      <td>Chemin de coudouron</td>\n      <td>Déchèterie</td>\n      <td>06085</td>\n      <td>NaN</td>\n      <td>chpayet</td>\n      <td>2020-07-27 12:59:11</td>\n      <td>chpayet</td>\n      <td>2020-07-27 12:59:11</td>\n      <td>{8708629A-385D-44FF-8DB6-CDD4302B824B}</td>\n      <td>6.964498</td>\n      <td>43.581551</td>\n      <td>5</td>\n    </tr>\n  </tbody>\n</table>\n<p>967 rows × 19 columns</p>\n</div>"
     },
     "metadata": {},
     "execution_count": 120
    }
   ],
   "source": [
    "colonnesCollecteur = dataTri.columns.tolist()\n",
    "colonnesCollecteur.append(\"idTri\")\n",
    "collecteur = pd.DataFrame(columns = colonnesCollecteur)\n",
    "\n",
    "for i, df in enumerate(dictTri[\"df\"]):\n",
    "    df[\"idTri\"] =  i + 1\n",
    "    collecteur = collecteur.append(df, ignore_index = True)\n",
    "\n",
    "collecteur"
   ]
  },
  {
   "source": [
    "### Dataframes Categorie et Marque (et modification Collecteur)"
   ],
   "cell_type": "markdown",
   "metadata": {}
  },
  {
   "cell_type": "code",
   "execution_count": 121,
   "metadata": {},
   "outputs": [
    {
     "output_type": "execute_result",
     "data": {
      "text/plain": [
       "   id                       type\n",
       "0   1  Bac aérien avec cache bac\n",
       "1   2  Bac aérien sans cache bac\n",
       "2   3          PAV cuve enterrée\n",
       "3   4      PAV enterré ascenseur\n",
       "4   5       PAV cuve compactrice\n",
       "5   6     PAV cuve semi-enterrée\n",
       "6   7           Colonne aérienne"
      ],
      "text/html": "<div>\n<style scoped>\n    .dataframe tbody tr th:only-of-type {\n        vertical-align: middle;\n    }\n\n    .dataframe tbody tr th {\n        vertical-align: top;\n    }\n\n    .dataframe thead th {\n        text-align: right;\n    }\n</style>\n<table border=\"1\" class=\"dataframe\">\n  <thead>\n    <tr style=\"text-align: right;\">\n      <th></th>\n      <th>id</th>\n      <th>type</th>\n    </tr>\n  </thead>\n  <tbody>\n    <tr>\n      <th>0</th>\n      <td>1</td>\n      <td>Bac aérien avec cache bac</td>\n    </tr>\n    <tr>\n      <th>1</th>\n      <td>2</td>\n      <td>Bac aérien sans cache bac</td>\n    </tr>\n    <tr>\n      <th>2</th>\n      <td>3</td>\n      <td>PAV cuve enterrée</td>\n    </tr>\n    <tr>\n      <th>3</th>\n      <td>4</td>\n      <td>PAV enterré ascenseur</td>\n    </tr>\n    <tr>\n      <th>4</th>\n      <td>5</td>\n      <td>PAV cuve compactrice</td>\n    </tr>\n    <tr>\n      <th>5</th>\n      <td>6</td>\n      <td>PAV cuve semi-enterrée</td>\n    </tr>\n    <tr>\n      <th>6</th>\n      <td>7</td>\n      <td>Colonne aérienne</td>\n    </tr>\n  </tbody>\n</table>\n</div>"
     },
     "metadata": {},
     "execution_count": 121
    }
   ],
   "source": [
    "# Récupération des collecteurs avec des types définis (et ne correspondant pas à \" \")\n",
    "collecteurAvecType = collecteur[(collecteur['type'].notna()) & (collecteur['type'] != \" \")][['objectid', 'type']]\n",
    "\n",
    "categorie = pd.DataFrame(columns = [\"id\", \"type\"])\n",
    "# Insertion de toutes les valeurs différentes de type\n",
    "categorie[\"type\"] = collecteurAvecType[\"type\"].drop_duplicates()\n",
    "# Suppression de l'index actuel\n",
    "categorie.reset_index(drop= True, inplace = True)\n",
    "# Insertion des id à index + 1 car, côté MySQL, la clé primaire commence à 1 s'il y a auto incrémentation\n",
    "categorie[\"id\"] = categorie.index + 1\n",
    "\n",
    "categorie"
   ]
  },
  {
   "cell_type": "code",
   "execution_count": 122,
   "metadata": {},
   "outputs": [
    {
     "output_type": "execute_result",
     "data": {
      "text/plain": [
       "   id          marque\n",
       "0   1  Plastic Omnium\n",
       "1   2        Contenur\n",
       "2   3           Citec\n",
       "3   4        Ecollect"
      ],
      "text/html": "<div>\n<style scoped>\n    .dataframe tbody tr th:only-of-type {\n        vertical-align: middle;\n    }\n\n    .dataframe tbody tr th {\n        vertical-align: top;\n    }\n\n    .dataframe thead th {\n        text-align: right;\n    }\n</style>\n<table border=\"1\" class=\"dataframe\">\n  <thead>\n    <tr style=\"text-align: right;\">\n      <th></th>\n      <th>id</th>\n      <th>marque</th>\n    </tr>\n  </thead>\n  <tbody>\n    <tr>\n      <th>0</th>\n      <td>1</td>\n      <td>Plastic Omnium</td>\n    </tr>\n    <tr>\n      <th>1</th>\n      <td>2</td>\n      <td>Contenur</td>\n    </tr>\n    <tr>\n      <th>2</th>\n      <td>3</td>\n      <td>Citec</td>\n    </tr>\n    <tr>\n      <th>3</th>\n      <td>4</td>\n      <td>Ecollect</td>\n    </tr>\n  </tbody>\n</table>\n</div>"
     },
     "metadata": {},
     "execution_count": 122
    }
   ],
   "source": [
    "# Récupération des collecteurs avec des marques définies (et ne correspondant pas à \" \")\n",
    "collecteurAvecMarque = collecteur[(collecteur['marque'].notna()) & (collecteur['marque'] != \" \")][['objectid', 'marque']]\n",
    "\n",
    "marque = pd.DataFrame(columns = [\"id\", \"marque\"])\n",
    "# Insertion de toutes les valeurs différentes de marque\n",
    "marque[\"marque\"] = collecteurAvecMarque['marque'].drop_duplicates()\n",
    "# Suppression de l'index actuel\n",
    "marque.reset_index(drop= True, inplace = True)\n",
    "# Insertion des id à index + 1 car, côté MySQL, la clé primaire commence à 1 s'il y a auto incrémentation\n",
    "marque[\"id\"] = marque.index + 1\n",
    "\n",
    "marque"
   ]
  },
  {
   "cell_type": "code",
   "execution_count": 123,
   "metadata": {},
   "outputs": [
    {
     "output_type": "execute_result",
     "data": {
      "text/plain": [
       "    objectid   id volume quantite  date_instal  \\\n",
       "0       2002  NaN    660        1          NaN   \n",
       "1       3202  NaN    660        3          NaN   \n",
       "2       2003  NaN    660        1          NaN   \n",
       "3       2004  NaN    660        1          NaN   \n",
       "4       2005  NaN    660        1          NaN   \n",
       "..       ...  ...    ...      ...          ...   \n",
       "962     5203  NaN    NaN        1          NaN   \n",
       "963    10005  NaN    NaN        1          NaN   \n",
       "964    10006  NaN    NaN        1          NaN   \n",
       "965     4803  NaN    NaN        3          NaN   \n",
       "966    10007  NaN    NaN        1          NaN   \n",
       "\n",
       "                                               adresse adresse_comp  \\\n",
       "0                                             Gare tsm          NaN   \n",
       "1             Résidence les terrasses de saint honorat          NaN   \n",
       "2                                      Prince des iles          NaN   \n",
       "3                Avenue de lerins trottoir de l eglise          NaN   \n",
       "4    Avenue de lerins angle traverse magasin souvenirs          NaN   \n",
       "..                                                 ...          ...   \n",
       "962                       1102 avenue du maréchal juin          NaN   \n",
       "963                                Chemin de la plaine          NaN   \n",
       "964                                   Chemin du refuge          NaN   \n",
       "965                                   Avenue lamartine          NaN   \n",
       "966                                Chemin de coudouron  Déchèterie    \n",
       "\n",
       "    code_insee observations creation       date_creation modification  \\\n",
       "0        06138          NaN  chpayet 2019-12-04 08:39:17      chpayet   \n",
       "1        06138          NaN  chpayet 2020-01-02 13:19:48      chpayet   \n",
       "2        06138          NaN  chpayet 2019-12-04 08:46:30      chpayet   \n",
       "3        06138          NaN  chpayet 2019-12-04 08:53:06      chpayet   \n",
       "4        06138          NaN  chpayet 2019-12-04 09:00:36      chpayet   \n",
       "..         ...          ...      ...                 ...          ...   \n",
       "962      06085          NaN  chpayet 2020-04-17 09:11:49      chpayet   \n",
       "963      06085          NaN  chpayet 2020-07-27 12:18:01      chpayet   \n",
       "964      06085          NaN  chpayet 2020-07-27 12:35:03      chpayet   \n",
       "965      06085          NaN  chpayet 2020-03-10 09:59:22      chpayet   \n",
       "966      06085          NaN  chpayet 2020-07-27 12:59:11      chpayet   \n",
       "\n",
       "      date_modification                                globalid        _x  \\\n",
       "0   2019-12-04 08:39:17  {5C455C7F-2CAF-4B57-8B69-686691E7ACAA}  6.937009   \n",
       "1   2020-01-02 13:19:48  {449AE0D0-B256-49C2-84F7-87F4248CA3CC}  6.941518   \n",
       "2   2019-12-04 08:46:30  {FED2233C-9710-40F1-ACF4-58134F0BB9FE}  6.937398   \n",
       "3   2019-12-04 08:53:06  {058DC0AE-423C-4FEB-8D30-D4C113428CD8}  6.938353   \n",
       "4   2019-12-04 09:00:36  {53D62EB0-B046-4D5D-B636-94646AC984AA}  6.940556   \n",
       "..                  ...                                     ...       ...   \n",
       "962 2020-07-27 09:34:53  {9CD34D6C-3542-4109-82C2-C02A0340B019}  6.993928   \n",
       "963 2020-07-27 12:18:01  {EF825DB5-6E4C-41FE-98B1-A1D910135369}  6.970299   \n",
       "964 2020-07-27 12:35:03  {D84F19EA-875D-4778-B290-F634F6C4514A}  6.992376   \n",
       "965 2020-07-27 12:39:49  {EFBAFBA0-0480-4340-B500-F47140DB6A2F}  6.984992   \n",
       "966 2020-07-27 12:59:11  {8708629A-385D-44FF-8DB6-CDD4302B824B}  6.964498   \n",
       "\n",
       "            _y idTri  idCategorie  idMarque  \n",
       "0    43.513302     1          1.0       1.0  \n",
       "1    43.490540     1          1.0       1.0  \n",
       "2    43.509171     1          2.0       1.0  \n",
       "3    43.508087     1          2.0       1.0  \n",
       "4    43.507687     1          2.0       1.0  \n",
       "..         ...   ...          ...       ...  \n",
       "962  43.591373     5          NaN       NaN  \n",
       "963  43.602245     5          NaN       NaN  \n",
       "964  43.581013     5          NaN       NaN  \n",
       "965  43.574394     5          NaN       NaN  \n",
       "966  43.581551     5          NaN       NaN  \n",
       "\n",
       "[967 rows x 19 columns]"
      ],
      "text/html": "<div>\n<style scoped>\n    .dataframe tbody tr th:only-of-type {\n        vertical-align: middle;\n    }\n\n    .dataframe tbody tr th {\n        vertical-align: top;\n    }\n\n    .dataframe thead th {\n        text-align: right;\n    }\n</style>\n<table border=\"1\" class=\"dataframe\">\n  <thead>\n    <tr style=\"text-align: right;\">\n      <th></th>\n      <th>objectid</th>\n      <th>id</th>\n      <th>volume</th>\n      <th>quantite</th>\n      <th>date_instal</th>\n      <th>adresse</th>\n      <th>adresse_comp</th>\n      <th>code_insee</th>\n      <th>observations</th>\n      <th>creation</th>\n      <th>date_creation</th>\n      <th>modification</th>\n      <th>date_modification</th>\n      <th>globalid</th>\n      <th>_x</th>\n      <th>_y</th>\n      <th>idTri</th>\n      <th>idCategorie</th>\n      <th>idMarque</th>\n    </tr>\n  </thead>\n  <tbody>\n    <tr>\n      <th>0</th>\n      <td>2002</td>\n      <td>NaN</td>\n      <td>660</td>\n      <td>1</td>\n      <td>NaN</td>\n      <td>Gare tsm</td>\n      <td>NaN</td>\n      <td>06138</td>\n      <td>NaN</td>\n      <td>chpayet</td>\n      <td>2019-12-04 08:39:17</td>\n      <td>chpayet</td>\n      <td>2019-12-04 08:39:17</td>\n      <td>{5C455C7F-2CAF-4B57-8B69-686691E7ACAA}</td>\n      <td>6.937009</td>\n      <td>43.513302</td>\n      <td>1</td>\n      <td>1.0</td>\n      <td>1.0</td>\n    </tr>\n    <tr>\n      <th>1</th>\n      <td>3202</td>\n      <td>NaN</td>\n      <td>660</td>\n      <td>3</td>\n      <td>NaN</td>\n      <td>Résidence les terrasses de saint honorat</td>\n      <td>NaN</td>\n      <td>06138</td>\n      <td>NaN</td>\n      <td>chpayet</td>\n      <td>2020-01-02 13:19:48</td>\n      <td>chpayet</td>\n      <td>2020-01-02 13:19:48</td>\n      <td>{449AE0D0-B256-49C2-84F7-87F4248CA3CC}</td>\n      <td>6.941518</td>\n      <td>43.490540</td>\n      <td>1</td>\n      <td>1.0</td>\n      <td>1.0</td>\n    </tr>\n    <tr>\n      <th>2</th>\n      <td>2003</td>\n      <td>NaN</td>\n      <td>660</td>\n      <td>1</td>\n      <td>NaN</td>\n      <td>Prince des iles</td>\n      <td>NaN</td>\n      <td>06138</td>\n      <td>NaN</td>\n      <td>chpayet</td>\n      <td>2019-12-04 08:46:30</td>\n      <td>chpayet</td>\n      <td>2019-12-04 08:46:30</td>\n      <td>{FED2233C-9710-40F1-ACF4-58134F0BB9FE}</td>\n      <td>6.937398</td>\n      <td>43.509171</td>\n      <td>1</td>\n      <td>2.0</td>\n      <td>1.0</td>\n    </tr>\n    <tr>\n      <th>3</th>\n      <td>2004</td>\n      <td>NaN</td>\n      <td>660</td>\n      <td>1</td>\n      <td>NaN</td>\n      <td>Avenue de lerins trottoir de l eglise</td>\n      <td>NaN</td>\n      <td>06138</td>\n      <td>NaN</td>\n      <td>chpayet</td>\n      <td>2019-12-04 08:53:06</td>\n      <td>chpayet</td>\n      <td>2019-12-04 08:53:06</td>\n      <td>{058DC0AE-423C-4FEB-8D30-D4C113428CD8}</td>\n      <td>6.938353</td>\n      <td>43.508087</td>\n      <td>1</td>\n      <td>2.0</td>\n      <td>1.0</td>\n    </tr>\n    <tr>\n      <th>4</th>\n      <td>2005</td>\n      <td>NaN</td>\n      <td>660</td>\n      <td>1</td>\n      <td>NaN</td>\n      <td>Avenue de lerins angle traverse magasin souvenirs</td>\n      <td>NaN</td>\n      <td>06138</td>\n      <td>NaN</td>\n      <td>chpayet</td>\n      <td>2019-12-04 09:00:36</td>\n      <td>chpayet</td>\n      <td>2019-12-04 09:00:36</td>\n      <td>{53D62EB0-B046-4D5D-B636-94646AC984AA}</td>\n      <td>6.940556</td>\n      <td>43.507687</td>\n      <td>1</td>\n      <td>2.0</td>\n      <td>1.0</td>\n    </tr>\n    <tr>\n      <th>...</th>\n      <td>...</td>\n      <td>...</td>\n      <td>...</td>\n      <td>...</td>\n      <td>...</td>\n      <td>...</td>\n      <td>...</td>\n      <td>...</td>\n      <td>...</td>\n      <td>...</td>\n      <td>...</td>\n      <td>...</td>\n      <td>...</td>\n      <td>...</td>\n      <td>...</td>\n      <td>...</td>\n      <td>...</td>\n      <td>...</td>\n      <td>...</td>\n    </tr>\n    <tr>\n      <th>962</th>\n      <td>5203</td>\n      <td>NaN</td>\n      <td>NaN</td>\n      <td>1</td>\n      <td>NaN</td>\n      <td>1102 avenue du maréchal juin</td>\n      <td>NaN</td>\n      <td>06085</td>\n      <td>NaN</td>\n      <td>chpayet</td>\n      <td>2020-04-17 09:11:49</td>\n      <td>chpayet</td>\n      <td>2020-07-27 09:34:53</td>\n      <td>{9CD34D6C-3542-4109-82C2-C02A0340B019}</td>\n      <td>6.993928</td>\n      <td>43.591373</td>\n      <td>5</td>\n      <td>NaN</td>\n      <td>NaN</td>\n    </tr>\n    <tr>\n      <th>963</th>\n      <td>10005</td>\n      <td>NaN</td>\n      <td>NaN</td>\n      <td>1</td>\n      <td>NaN</td>\n      <td>Chemin de la plaine</td>\n      <td>NaN</td>\n      <td>06085</td>\n      <td>NaN</td>\n      <td>chpayet</td>\n      <td>2020-07-27 12:18:01</td>\n      <td>chpayet</td>\n      <td>2020-07-27 12:18:01</td>\n      <td>{EF825DB5-6E4C-41FE-98B1-A1D910135369}</td>\n      <td>6.970299</td>\n      <td>43.602245</td>\n      <td>5</td>\n      <td>NaN</td>\n      <td>NaN</td>\n    </tr>\n    <tr>\n      <th>964</th>\n      <td>10006</td>\n      <td>NaN</td>\n      <td>NaN</td>\n      <td>1</td>\n      <td>NaN</td>\n      <td>Chemin du refuge</td>\n      <td>NaN</td>\n      <td>06085</td>\n      <td>NaN</td>\n      <td>chpayet</td>\n      <td>2020-07-27 12:35:03</td>\n      <td>chpayet</td>\n      <td>2020-07-27 12:35:03</td>\n      <td>{D84F19EA-875D-4778-B290-F634F6C4514A}</td>\n      <td>6.992376</td>\n      <td>43.581013</td>\n      <td>5</td>\n      <td>NaN</td>\n      <td>NaN</td>\n    </tr>\n    <tr>\n      <th>965</th>\n      <td>4803</td>\n      <td>NaN</td>\n      <td>NaN</td>\n      <td>3</td>\n      <td>NaN</td>\n      <td>Avenue lamartine</td>\n      <td>NaN</td>\n      <td>06085</td>\n      <td>NaN</td>\n      <td>chpayet</td>\n      <td>2020-03-10 09:59:22</td>\n      <td>chpayet</td>\n      <td>2020-07-27 12:39:49</td>\n      <td>{EFBAFBA0-0480-4340-B500-F47140DB6A2F}</td>\n      <td>6.984992</td>\n      <td>43.574394</td>\n      <td>5</td>\n      <td>NaN</td>\n      <td>NaN</td>\n    </tr>\n    <tr>\n      <th>966</th>\n      <td>10007</td>\n      <td>NaN</td>\n      <td>NaN</td>\n      <td>1</td>\n      <td>NaN</td>\n      <td>Chemin de coudouron</td>\n      <td>Déchèterie</td>\n      <td>06085</td>\n      <td>NaN</td>\n      <td>chpayet</td>\n      <td>2020-07-27 12:59:11</td>\n      <td>chpayet</td>\n      <td>2020-07-27 12:59:11</td>\n      <td>{8708629A-385D-44FF-8DB6-CDD4302B824B}</td>\n      <td>6.964498</td>\n      <td>43.581551</td>\n      <td>5</td>\n      <td>NaN</td>\n      <td>NaN</td>\n    </tr>\n  </tbody>\n</table>\n<p>967 rows × 19 columns</p>\n</div>"
     },
     "metadata": {},
     "execution_count": 123
    }
   ],
   "source": [
    "# Asssociation entre collecteur et son id de catégorie (suffixes permet de ne pas modifier la colonne id initiale dans collecteur mais seulement celle qu'on rajoute)\n",
    "collecteur = collecteur.merge(categorie, how=\"left\", on=\"type\", suffixes=(None, \"_arenommer\"))\n",
    "# Asssociation entre collecteur et son id de marque\n",
    "collecteur = collecteur.merge(marque, how=\"left\", on=\"marque\", suffixes=(None, \"_arenommer2\"))\n",
    "# Renommage des colonnes nouvellement créées\n",
    "collecteur.rename(columns={\"id_arenommer\": \"idCategorie\", \"id_arenommer2\": \"idMarque\"}, inplace=True)\n",
    "# Suppression des colonnes type et marque maintenant référencées par des clés étrangères\n",
    "collecteur.drop(columns=[\"type\", \"marque\"], inplace=True)\n",
    "collecteur"
   ]
  },
  {
   "source": [
    "# Intégration dans la BDD"
   ],
   "cell_type": "markdown",
   "metadata": {}
  },
  {
   "source": [
    "## Renommage des colonnes des dataframes pour faire correspondre aux colonnes des tables MySQL"
   ],
   "cell_type": "markdown",
   "metadata": {}
  },
  {
   "cell_type": "code",
   "execution_count": 124,
   "metadata": {},
   "outputs": [],
   "source": [
    "decheterie.rename(columns={\"adresse_comp\": \"adresseComplement\", \"code_insee\": \"codeInsee\", \"date_instal\": \"dateInstallation\", \"creation\": \"createur\", \"date_creation\": \"dateCreation\", \"modification\": \"modificateur\", \"date_modification\": \"dateModification\"}, inplace=True)\n",
    "collecteur.rename(columns={\"adresse_comp\": \"adresseComplement\", \"code_insee\": \"codeInsee\", \"date_instal\": \"dateInstallation\", \"creation\": \"createur\", \"date_creation\": \"dateCreation\", \"modification\": \"modificateur\", \"date_modification\": \"dateModification\"}, inplace=True)\n",
    "marque.rename(columns={\"marque\": \"nom\"}, inplace =True)"
   ]
  },
  {
   "source": [
    "## Transfert via SQLAlchemy"
   ],
   "cell_type": "markdown",
   "metadata": {}
  },
  {
   "cell_type": "code",
   "execution_count": 125,
   "metadata": {},
   "outputs": [],
   "source": [
    "import json\n",
    "from sqlalchemy import create_engine\n",
    "\n",
    "fichierConfig = \"../bdd/config.json\"\n",
    "\n",
    "with open(fichierConfig) as fichier:\n",
    "    config = json.load(fichier)[\"mysql\"]\n",
    "    \n",
    "engine = create_engine('mysql+' + config[\"connector\"] + '://' + config[\"user\"] + \":\" + config[\"password\"] + \"@\" + config[\"host\"] + \":\" + config[\"port\"] + \"/\" + config[\"bdd\"], echo=True)"
   ]
  },
  {
   "cell_type": "code",
   "execution_count": 126,
   "metadata": {},
   "outputs": [
    {
     "output_type": "stream",
     "name": "stdout",
     "text": [
      "2020-10-17 15:03:39,326 INFO sqlalchemy.engine.base.Engine SHOW VARIABLES LIKE 'sql_mode'\n",
      "2020-10-17 15:03:39,327 INFO sqlalchemy.engine.base.Engine {}\n",
      "2020-10-17 15:03:39,331 INFO sqlalchemy.engine.base.Engine SHOW VARIABLES LIKE 'lower_case_table_names'\n",
      "2020-10-17 15:03:39,332 INFO sqlalchemy.engine.base.Engine {}\n",
      "2020-10-17 15:03:39,335 INFO sqlalchemy.engine.base.Engine SELECT DATABASE()\n",
      "2020-10-17 15:03:39,336 INFO sqlalchemy.engine.base.Engine {}\n",
      "2020-10-17 15:03:39,339 INFO sqlalchemy.engine.base.Engine SELECT CAST('test plain returns' AS CHAR(60)) AS anon_1\n",
      "2020-10-17 15:03:39,339 INFO sqlalchemy.engine.base.Engine {}\n",
      "2020-10-17 15:03:39,341 INFO sqlalchemy.engine.base.Engine SELECT CAST('test unicode returns' AS CHAR(60)) AS anon_1\n",
      "2020-10-17 15:03:39,342 INFO sqlalchemy.engine.base.Engine {}\n",
      "2020-10-17 15:03:39,344 INFO sqlalchemy.engine.base.Engine DESCRIBE `categorie`\n",
      "2020-10-17 15:03:39,344 INFO sqlalchemy.engine.base.Engine {}\n",
      "2020-10-17 15:03:39,349 INFO sqlalchemy.engine.base.Engine BEGIN (implicit)\n",
      "2020-10-17 15:03:39,351 INFO sqlalchemy.engine.base.Engine INSERT INTO categorie (id, type) VALUES (%(id)s, %(type)s)\n",
      "2020-10-17 15:03:39,352 INFO sqlalchemy.engine.base.Engine ({'id': 1, 'type': 'Bac aérien avec cache bac'}, {'id': 2, 'type': 'Bac aérien sans cache bac'}, {'id': 3, 'type': 'PAV cuve enterrée'}, {'id': 4, 'type': 'PAV enterré ascenseur'}, {'id': 5, 'type': 'PAV cuve compactrice'}, {'id': 6, 'type': 'PAV cuve semi-enterrée'}, {'id': 7, 'type': 'Colonne aérienne'})\n",
      "2020-10-17 15:03:39,354 INFO sqlalchemy.engine.base.Engine COMMIT\n"
     ]
    }
   ],
   "source": [
    "categorie.to_sql('categorie', con=engine, index = False, if_exists = 'append')"
   ]
  },
  {
   "cell_type": "code",
   "execution_count": 127,
   "metadata": {},
   "outputs": [
    {
     "output_type": "stream",
     "name": "stdout",
     "text": [
      "2020-10-17 15:03:39,374 INFO sqlalchemy.engine.base.Engine DESCRIBE `dechet`\n",
      "2020-10-17 15:03:39,374 INFO sqlalchemy.engine.base.Engine {}\n",
      "2020-10-17 15:03:39,378 INFO sqlalchemy.engine.base.Engine BEGIN (implicit)\n",
      "2020-10-17 15:03:39,380 INFO sqlalchemy.engine.base.Engine INSERT INTO dechet (id, type) VALUES (%(id)s, %(type)s)\n",
      "2020-10-17 15:03:39,381 INFO sqlalchemy.engine.base.Engine ({'id': 1, 'type': 'végétation'}, {'id': 2, 'type': 'bois'}, {'id': 3, 'type': 'métal'}, {'id': 4, 'type': 'gravats propres'}, {'id': 5, 'type': 'gravat sale'}, {'id': 6, 'type': 'carton'}, {'id': 7, 'type': 'd3e'}, {'id': 8, 'type': 'déchet ménager spécial'}  ... displaying 10 of 14 total bound parameter sets ...  {'id': 13, 'type': 'extincteur'}, {'id': 14, 'type': 'huile végétale ou minérale'})\n",
      "2020-10-17 15:03:39,383 INFO sqlalchemy.engine.base.Engine COMMIT\n"
     ]
    }
   ],
   "source": [
    "dechet.to_sql('dechet', con=engine, index = False, if_exists = 'append')"
   ]
  },
  {
   "cell_type": "code",
   "execution_count": 128,
   "metadata": {},
   "outputs": [
    {
     "output_type": "stream",
     "name": "stdout",
     "text": [
      "2020-10-17 15:03:39,405 INFO sqlalchemy.engine.base.Engine DESCRIBE `marque`\n",
      "2020-10-17 15:03:39,405 INFO sqlalchemy.engine.base.Engine {}\n",
      "2020-10-17 15:03:39,408 INFO sqlalchemy.engine.base.Engine BEGIN (implicit)\n",
      "2020-10-17 15:03:39,410 INFO sqlalchemy.engine.base.Engine INSERT INTO marque (id, nom) VALUES (%(id)s, %(nom)s)\n",
      "2020-10-17 15:03:39,411 INFO sqlalchemy.engine.base.Engine ({'id': 1, 'nom': 'Plastic Omnium'}, {'id': 2, 'nom': 'Contenur'}, {'id': 3, 'nom': 'Citec'}, {'id': 4, 'nom': 'Ecollect'})\n",
      "2020-10-17 15:03:39,413 INFO sqlalchemy.engine.base.Engine COMMIT\n"
     ]
    }
   ],
   "source": [
    "marque.to_sql('marque', con=engine, index = False, if_exists = 'append')"
   ]
  },
  {
   "cell_type": "code",
   "execution_count": 129,
   "metadata": {},
   "outputs": [
    {
     "output_type": "stream",
     "name": "stdout",
     "text": [
      "2020-10-17 15:03:39,437 INFO sqlalchemy.engine.base.Engine DESCRIBE `tri`\n",
      "2020-10-17 15:03:39,438 INFO sqlalchemy.engine.base.Engine {}\n",
      "2020-10-17 15:03:39,441 INFO sqlalchemy.engine.base.Engine BEGIN (implicit)\n",
      "2020-10-17 15:03:39,442 INFO sqlalchemy.engine.base.Engine INSERT INTO tri (id, type) VALUES (%(id)s, %(type)s)\n",
      "2020-10-17 15:03:39,443 INFO sqlalchemy.engine.base.Engine ({'id': 1, 'type': 'om'}, {'id': 2, 'type': 'papier'}, {'id': 3, 'type': 'emballage'}, {'id': 4, 'type': 'verre'}, {'id': 5, 'type': 'vêtement'})\n",
      "2020-10-17 15:03:39,445 INFO sqlalchemy.engine.base.Engine COMMIT\n"
     ]
    }
   ],
   "source": [
    "tri.to_sql('tri', con=engine, index = False, if_exists = 'append')"
   ]
  },
  {
   "cell_type": "code",
   "execution_count": 130,
   "metadata": {},
   "outputs": [
    {
     "output_type": "stream",
     "name": "stdout",
     "text": [
      "2020-10-17 15:03:39,475 INFO sqlalchemy.engine.base.Engine DESCRIBE `collecteur`\n",
      "2020-10-17 15:03:39,476 INFO sqlalchemy.engine.base.Engine {}\n",
      "2020-10-17 15:03:39,481 INFO sqlalchemy.engine.base.Engine BEGIN (implicit)\n",
      "2020-10-17 15:03:39,498 INFO sqlalchemy.engine.base.Engine INSERT INTO collecteur (objectid, id, volume, quantite, `dateInstallation`, adresse, `adresseComplement`, `codeInsee`, observations, createur, `dateCreation`, modificateur, `dateModification`, globalid, _x, _y, `idTri`, `idCategorie`, `idMarque`) VALUES (%(objectid)s, %(id)s, %(volume)s, %(quantite)s, %(dateInstallation)s, %(adresse)s, %(adresseComplement)s, %(codeInsee)s, %(observations)s, %(createur)s, %(dateCreation)s, %(modificateur)s, %(dateModification)s, %(globalid)s, %(_x)s, %(_y)s, %(idTri)s, %(idCategorie)s, %(idMarque)s)\n",
      "2020-10-17 15:03:39,499 INFO sqlalchemy.engine.base.Engine ({'objectid': 1, 'id': None, 'volume': 660, 'quantite': 1, 'dateInstallation': None, 'adresse': 'Gare tsm', 'adresseComplement': None, 'codeInsee': '06138', 'observations': None, 'createur': 'chpayet', 'dateCreation': datetime.datetime(2019, 12, 4, 8, 39, 17), 'modificateur': 'chpayet', 'dateModification': datetime.datetime(2019, 12, 4, 8, 39, 17), 'globalid': '{5C455C7F-2CAF-4B57-8B69-686691E7ACAA}', '_x': 6.937009335, '_y': 43.51330185, 'idTri': 1, 'idCategorie': 1.0, 'idMarque': 1.0}, {'objectid': 2, 'id': None, 'volume': 660, 'quantite': 3, 'dateInstallation': None, 'adresse': 'Résidence les terrasses de saint honorat', 'adresseComplement': None, 'codeInsee': '06138', 'observations': None, 'createur': 'chpayet', 'dateCreation': datetime.datetime(2020, 1, 2, 13, 19, 48), 'modificateur': 'chpayet', 'dateModification': datetime.datetime(2020, 1, 2, 13, 19, 48), 'globalid': '{449AE0D0-B256-49C2-84F7-87F4248CA3CC}', '_x': 6.941518307000001, '_y': 43.49053955, 'idTri': 1, 'idCategorie': 1.0, 'idMarque': 1.0}, {'objectid': 3, 'id': None, 'volume': 660, 'quantite': 1, 'dateInstallation': None, 'adresse': 'Prince des iles', 'adresseComplement': None, 'codeInsee': '06138', 'observations': None, 'createur': 'chpayet', 'dateCreation': datetime.datetime(2019, 12, 4, 8, 46, 30), 'modificateur': 'chpayet', 'dateModification': datetime.datetime(2019, 12, 4, 8, 46, 30), 'globalid': '{FED2233C-9710-40F1-ACF4-58134F0BB9FE}', '_x': 6.9373984339999994, '_y': 43.50917053, 'idTri': 1, 'idCategorie': 2.0, 'idMarque': 1.0}, {'objectid': 4, 'id': None, 'volume': 660, 'quantite': 1, 'dateInstallation': None, 'adresse': 'Avenue de lerins trottoir de l eglise', 'adresseComplement': None, 'codeInsee': '06138', 'observations': None, 'createur': 'chpayet', 'dateCreation': datetime.datetime(2019, 12, 4, 8, 53, 6), 'modificateur': 'chpayet', 'dateModification': datetime.datetime(2019, 12, 4, 8, 53, 6), 'globalid': '{058DC0AE-423C-4FEB-8D30-D4C113428CD8}', '_x': 6.938352585, '_y': 43.50808716, 'idTri': 1, 'idCategorie': 2.0, 'idMarque': 1.0}, {'objectid': 5, 'id': None, 'volume': 660, 'quantite': 1, 'dateInstallation': None, 'adresse': 'Avenue de lerins angle traverse magasin souvenirs', 'adresseComplement': None, 'codeInsee': '06138', 'observations': None, 'createur': 'chpayet', 'dateCreation': datetime.datetime(2019, 12, 4, 9, 0, 36), 'modificateur': 'chpayet', 'dateModification': datetime.datetime(2019, 12, 4, 9, 0, 36), 'globalid': '{53D62EB0-B046-4D5D-B636-94646AC984AA}', '_x': 6.940555572999999, '_y': 43.50768661, 'idTri': 1, 'idCategorie': 2.0, 'idMarque': 1.0}, {'objectid': 6, 'id': '660051915 / 660050415', 'volume': 660, 'quantite': 2, 'dateInstallation': None, 'adresse': 'Chemin du débarcadère ', 'adresseComplement': None, 'codeInsee': '06138', 'observations': None, 'createur': 'chpayet', 'dateCreation': datetime.datetime(2019, 12, 4, 9, 17, 20), 'modificateur': 'chpayet', 'dateModification': datetime.datetime(2019, 12, 4, 9, 17, 20), 'globalid': '{82C7C496-B6B1-453A-B80C-0DAE42D55C04}', '_x': 6.94238615, '_y': 43.50693893, 'idTri': 1, 'idCategorie': 2.0, 'idMarque': 2.0}, {'objectid': 7, 'id': '660051615', 'volume': 660, 'quantite': 1, 'dateInstallation': None, 'adresse': '17 avenue de Provence ', 'adresseComplement': None, 'codeInsee': '06138', 'observations': None, 'createur': 'chpayet', 'dateCreation': datetime.datetime(2019, 12, 11, 8, 10, 45), 'modificateur': 'chpayet', 'dateModification': datetime.datetime(2019, 12, 11, 8, 10, 45), 'globalid': '{E1A1D903-433E-47A8-BB2E-0BCA7BE7F61E}', '_x': 6.9351940160000005, '_y': 43.50863266, 'idTri': 1, 'idCategorie': 2.0, 'idMarque': 2.0}, {'objectid': 8, 'id': None, 'volume': 660, 'quantite': 1, 'dateInstallation': None, 'adresse': '13 jb pastor', 'adresseComplement': None, 'codeInsee': '06138', 'observations': None, 'createur': 'chpayet', 'dateCreation': datetime.datetime(2019, 12, 4, 9, 34, 29), 'modificateur': 'chpayet', 'dateModification': datetime.datetime(2019, 12, 4, 9, 36, 17), 'globalid': '{F99EABC7-5945-4C61-94AA-CCB3E9FB8659}', '_x': 6.9388270379999994, '_y': 43.50522995, 'idTri': 1, 'idCategorie': 2.0, 'idMarque': 1.0}  ... displaying 10 of 967 total bound parameter sets ...  {'objectid': 966, 'id': None, 'volume': None, 'quantite': 3, 'dateInstallation': None, 'adresse': 'Avenue lamartine', 'adresseComplement': None, 'codeInsee': '06085', 'observations': None, 'createur': 'chpayet', 'dateCreation': datetime.datetime(2020, 3, 10, 9, 59, 22), 'modificateur': 'chpayet', 'dateModification': datetime.datetime(2020, 7, 27, 12, 39, 49), 'globalid': '{EFBAFBA0-0480-4340-B500-F47140DB6A2F}', '_x': 6.9849920270000005, '_y': 43.57439423, 'idTri': 5, 'idCategorie': None, 'idMarque': None}, {'objectid': 967, 'id': None, 'volume': None, 'quantite': 1, 'dateInstallation': None, 'adresse': 'Chemin de coudouron', 'adresseComplement': 'Déchèterie ', 'codeInsee': '06085', 'observations': None, 'createur': 'chpayet', 'dateCreation': datetime.datetime(2020, 7, 27, 12, 59, 11), 'modificateur': 'chpayet', 'dateModification': datetime.datetime(2020, 7, 27, 12, 59, 11), 'globalid': '{8708629A-385D-44FF-8DB6-CDD4302B824B}', '_x': 6.964497566, '_y': 43.5815506, 'idTri': 5, 'idCategorie': None, 'idMarque': None})\n",
      "2020-10-17 15:03:39,646 INFO sqlalchemy.engine.base.Engine COMMIT\n"
     ]
    }
   ],
   "source": [
    "# Faute de gérer les UUID pour l'instant\n",
    "collecteur.objectid = collecteur.index + 1\n",
    "collecteur.to_sql('collecteur', con=engine, index = False, if_exists = 'append')"
   ]
  },
  {
   "cell_type": "code",
   "execution_count": 131,
   "metadata": {},
   "outputs": [
    {
     "output_type": "stream",
     "name": "stdout",
     "text": [
      "2020-10-17 15:03:39,674 INFO sqlalchemy.engine.base.Engine DESCRIBE `decheterie`\n",
      "2020-10-17 15:03:39,675 INFO sqlalchemy.engine.base.Engine {}\n",
      "2020-10-17 15:03:39,679 INFO sqlalchemy.engine.base.Engine BEGIN (implicit)\n",
      "2020-10-17 15:03:39,681 INFO sqlalchemy.engine.base.Engine INSERT INTO decheterie (objectid, id, adresse, `adresseComplement`, `codeInsee`, `dateInstallation`, observations, createur, `dateCreation`, modificateur, `dateModification`, globalid, _x, _y) VALUES (%(objectid)s, %(id)s, %(adresse)s, %(adresseComplement)s, %(codeInsee)s, %(dateInstallation)s, %(observations)s, %(createur)s, %(dateCreation)s, %(modificateur)s, %(dateModification)s, %(globalid)s, %(_x)s, %(_y)s)\n",
      "2020-10-17 15:03:39,682 INFO sqlalchemy.engine.base.Engine ({'objectid': 801, 'id': None, 'adresse': 'Impasse de l aubarede', 'adresseComplement': None, 'codeInsee': '06030', 'dateInstallation': None, 'observations': None, 'createur': 'chpayet', 'dateCreation': datetime.datetime(2020, 7, 23, 13, 59, 23), 'modificateur': 'chpayet', 'dateModification': datetime.datetime(2020, 7, 23, 13, 59, 23), 'globalid': '{F24B4AF3-17BF-4215-B07F-044AA37EA4E5}', '_x': 6.9836130139999995, '_y': 43.56684875}, {'objectid': 1201, 'id': None, 'adresse': 'Chemin du coudouron', 'adresseComplement': None, 'codeInsee': '06085', 'dateInstallation': None, 'observations': None, 'createur': 'chpayet', 'dateCreation': datetime.datetime(2020, 7, 27, 12, 51, 41), 'modificateur': 'chpayet', 'dateModification': datetime.datetime(2020, 7, 27, 12, 54, 59), 'globalid': '{26CF70EB-23DD-4399-ACBA-98434B6BFC1A}', '_x': 6.964639187, '_y': 43.58163834}, {'objectid': 1601, 'id': None, 'adresse': 'Déchèterie des tourades', 'adresseComplement': None, 'codeInsee': '06029', 'dateInstallation': None, 'observations': None, 'createur': 'chpayet', 'dateCreation': datetime.datetime(2020, 7, 31, 13, 1, 59), 'modificateur': 'chpayet', 'dateModification': datetime.datetime(2020, 7, 31, 13, 3, 32), 'globalid': '{83866245-B862-4D22-B436-D5B1A64F5441}', '_x': 6.954320431, '_y': 43.55671692})\n",
      "2020-10-17 15:03:39,685 INFO sqlalchemy.engine.base.Engine COMMIT\n"
     ]
    }
   ],
   "source": [
    "decheterie.to_sql('decheterie', con=engine, index = False, if_exists = 'append')"
   ]
  },
  {
   "cell_type": "code",
   "execution_count": 132,
   "metadata": {},
   "outputs": [
    {
     "output_type": "stream",
     "name": "stdout",
     "text": [
      "2020-10-17 15:03:39,704 INFO sqlalchemy.engine.base.Engine DESCRIBE `traitement`\n",
      "2020-10-17 15:03:39,705 INFO sqlalchemy.engine.base.Engine {}\n",
      "2020-10-17 15:03:39,708 INFO sqlalchemy.engine.base.Engine BEGIN (implicit)\n",
      "2020-10-17 15:03:39,710 INFO sqlalchemy.engine.base.Engine INSERT INTO traitement (`objectidDecheterie`, `idDechet`) VALUES (%(objectidDecheterie)s, %(idDechet)s)\n",
      "2020-10-17 15:03:39,711 INFO sqlalchemy.engine.base.Engine ({'objectidDecheterie': 801, 'idDechet': 1}, {'objectidDecheterie': 801, 'idDechet': 2}, {'objectidDecheterie': 801, 'idDechet': 3}, {'objectidDecheterie': 801, 'idDechet': 4}, {'objectidDecheterie': 801, 'idDechet': 5}, {'objectidDecheterie': 801, 'idDechet': 6}, {'objectidDecheterie': 801, 'idDechet': 7}, {'objectidDecheterie': 801, 'idDechet': 8}  ... displaying 10 of 40 total bound parameter sets ...  {'objectidDecheterie': 1601, 'idDechet': 13}, {'objectidDecheterie': 1601, 'idDechet': 14})\n",
      "2020-10-17 15:03:39,714 INFO sqlalchemy.engine.base.Engine COMMIT\n"
     ]
    }
   ],
   "source": [
    "traitement.to_sql('traitement', con=engine, index = False, if_exists = 'append')"
   ]
  }
 ],
 "metadata": {
  "kernelspec": {
   "display_name": "Python 3",
   "language": "python",
   "name": "python3"
  },
  "language_info": {
   "codemirror_mode": {
    "name": "ipython",
    "version": 3
   },
   "file_extension": ".py",
   "mimetype": "text/x-python",
   "name": "python",
   "nbconvert_exporter": "python",
   "pygments_lexer": "ipython3",
   "version": "3.8.3-final"
  }
 },
 "nbformat": 4,
 "nbformat_minor": 4
}
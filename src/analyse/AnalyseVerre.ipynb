{
 "cells": [
  {
   "cell_type": "markdown",
   "metadata": {},
   "source": [
    "# Analyse des jeux de données du verre\n",
    "Ce document analyse les jeux de données fournies par la CACPL sur la collecte hebdomadaire du verre disponible [ici](<../../data/collecte verre CACPL>)\n",
    "\n",
    "Il ya 3 jeux de données :\n",
    "* Données Verre 2017-2018- 2019 janv à nov : données sur la collecte du verre pour 2017 et 2018, et de janvier à novembre 2019\n",
    "* Verre PAV  décembre 2019 : données sur la collecte du verre de décembre 2019\n",
    "* Verre PAV 2020 : données sur la collecte du verre pour 2020 (janvier à septembre)\n",
    "\n"
   ]
  },
  {
   "cell_type": "markdown",
   "metadata": {},
   "source": [
    "## Importation des librairies"
   ]
  },
  {
   "cell_type": "code",
   "execution_count": 1,
   "metadata": {},
   "outputs": [],
   "source": [
    "import pandas as pd"
   ]
  },
  {
   "cell_type": "markdown",
   "metadata": {},
   "source": [
    "## Lecture des fichiers"
   ]
  },
  {
   "cell_type": "code",
   "execution_count": 2,
   "metadata": {},
   "outputs": [],
   "source": [
    "data171819 = pd.read_excel(\"../../data/collecte verre CACPL/Données Verre 2017-2018- 2019 janv à nov.xlsx\", skiprows=[0,1], usecols=\"B:L\")\n",
    "data19 = pd.read_excel(\"../../data/collecte verre CACPL/Verre PAV  décembre 2019.xlsx\", skiprows=[0,1,2], usecols=\"B:F\")\n",
    "data20 = pd.read_excel(\"../../data/collecte verre CACPL/Verre PAV 2020.xlsx\", skiprows=[0,1,2], usecols=\"B:F\")"
   ]
  },
  {
   "cell_type": "markdown",
   "metadata": {},
   "source": [
    "## Aperçu des fichiers\n",
    "Les données de 2017 à 2019 contiennent 9 variables :\n",
    "* Collecte : type de collecteur \n",
    "* Contenant :\n",
    "* Adresse : adresse du collecteur\n",
    "* Ville : ville du collecteur\n",
    "* Année : année de la collecte\n",
    "* MOIS : mois de la collecte\n",
    "* SEMAINE : semaine de la collecte\n",
    "* date : date de la collecte\n",
    "* heure : heure de la collecte\n",
    "* Taux : \n",
    "* Poids Kg : poids de la collecte en kg pour ce collecteur\n",
    "\n",
    "Les données de 2019 et celles de 2020 contiennent 5 variables :\n",
    "* Prestation : identifiant de la prestattion (collecte)\n",
    "* Date de réalisation : date de la collecte\n",
    "* Lieu de Collecte : adresse du collecteur\n",
    "* Matériel : type de collecteur avec son volume en m<sup>3</sup>\n",
    "* Poids : poids de la collecte en tonne pour ce collecteur\n"
   ]
  },
  {
   "cell_type": "code",
   "execution_count": 3,
   "metadata": {},
   "outputs": [
    {
     "output_type": "execute_result",
     "data": {
      "text/plain": [
       "  Collecte Contenant                Adresse      Ville  Année     MOIS  \\\n",
       "0      PAV   CNT135V  CHEMIN DES BREGUIERES  LE CANNET   2017  Janvier   \n",
       "1      PAV   CNT005V      RUE DES MOULIERES  LE CANNET   2017  Janvier   \n",
       "2      PAV   CNT165V        AVENUE DU REPOS  LE CANNET   2017  Janvier   \n",
       "3      PAV   CNT115V       RUE DES ORANGERS  LE CANNET   2017  Janvier   \n",
       "4      PAV   CNT150V   BOULEVARD D'OLIVETUM  LE CANNET   2017  Janvier   \n",
       "\n",
       "   SEMAINE      date      heure  Taux  Poids Kg  \n",
       "0        1 2017-01-05  06:32:09     2       500  \n",
       "1        1 2017-01-05  06:38:41     2       420  \n",
       "2        1 2017-01-05  06:44:56     1       210  \n",
       "3        1 2017-01-05  06:48:51     2       450  \n",
       "4        1 2017-01-05  06:54:58     3       730  "
      ],
      "text/html": "<div>\n<style scoped>\n    .dataframe tbody tr th:only-of-type {\n        vertical-align: middle;\n    }\n\n    .dataframe tbody tr th {\n        vertical-align: top;\n    }\n\n    .dataframe thead th {\n        text-align: right;\n    }\n</style>\n<table border=\"1\" class=\"dataframe\">\n  <thead>\n    <tr style=\"text-align: right;\">\n      <th></th>\n      <th>Collecte</th>\n      <th>Contenant</th>\n      <th>Adresse</th>\n      <th>Ville</th>\n      <th>Année</th>\n      <th>MOIS</th>\n      <th>SEMAINE</th>\n      <th>date</th>\n      <th>heure</th>\n      <th>Taux</th>\n      <th>Poids Kg</th>\n    </tr>\n  </thead>\n  <tbody>\n    <tr>\n      <th>0</th>\n      <td>PAV</td>\n      <td>CNT135V</td>\n      <td>CHEMIN DES BREGUIERES</td>\n      <td>LE CANNET</td>\n      <td>2017</td>\n      <td>Janvier</td>\n      <td>1</td>\n      <td>2017-01-05</td>\n      <td>06:32:09</td>\n      <td>2</td>\n      <td>500</td>\n    </tr>\n    <tr>\n      <th>1</th>\n      <td>PAV</td>\n      <td>CNT005V</td>\n      <td>RUE DES MOULIERES</td>\n      <td>LE CANNET</td>\n      <td>2017</td>\n      <td>Janvier</td>\n      <td>1</td>\n      <td>2017-01-05</td>\n      <td>06:38:41</td>\n      <td>2</td>\n      <td>420</td>\n    </tr>\n    <tr>\n      <th>2</th>\n      <td>PAV</td>\n      <td>CNT165V</td>\n      <td>AVENUE DU REPOS</td>\n      <td>LE CANNET</td>\n      <td>2017</td>\n      <td>Janvier</td>\n      <td>1</td>\n      <td>2017-01-05</td>\n      <td>06:44:56</td>\n      <td>1</td>\n      <td>210</td>\n    </tr>\n    <tr>\n      <th>3</th>\n      <td>PAV</td>\n      <td>CNT115V</td>\n      <td>RUE DES ORANGERS</td>\n      <td>LE CANNET</td>\n      <td>2017</td>\n      <td>Janvier</td>\n      <td>1</td>\n      <td>2017-01-05</td>\n      <td>06:48:51</td>\n      <td>2</td>\n      <td>450</td>\n    </tr>\n    <tr>\n      <th>4</th>\n      <td>PAV</td>\n      <td>CNT150V</td>\n      <td>BOULEVARD D'OLIVETUM</td>\n      <td>LE CANNET</td>\n      <td>2017</td>\n      <td>Janvier</td>\n      <td>1</td>\n      <td>2017-01-05</td>\n      <td>06:54:58</td>\n      <td>3</td>\n      <td>730</td>\n    </tr>\n  </tbody>\n</table>\n</div>"
     },
     "metadata": {},
     "execution_count": 3
    }
   ],
   "source": [
    "data171819.head()"
   ]
  },
  {
   "cell_type": "code",
   "execution_count": 4,
   "metadata": {},
   "outputs": [
    {
     "output_type": "execute_result",
     "data": {
      "text/plain": [
       "    Prestation Date de réalisation                 Lieu de Collecte  \\\n",
       "0  12001054939          2020-01-02              CAPL-CNT-VOIE JULIA   \n",
       "1  12001054940          2020-01-02  CAPL-CNT-BREGUIERES/FONT GALLOU   \n",
       "2  12001054941          2020-01-02      CAPL-CNT-AV ECOLES/ROTHMANS   \n",
       "3  12001054942          2020-01-02                CAPL-CAN-MERLETTE   \n",
       "4  12001054943          2020-01-02                CAPL-CAN-RIOU/HLM   \n",
       "\n",
       "           Matériel   Poids  \n",
       "0    COLONNE K 3 m3  0.4360  \n",
       "1    COLONNE K 3 m3  0.4360  \n",
       "2    COLONNE K 3 m3  0.4360  \n",
       "3  COLONNE K 2,5 m3  0.5450  \n",
       "4    COLONNE K 4 m3  0.5814  "
      ],
      "text/html": "<div>\n<style scoped>\n    .dataframe tbody tr th:only-of-type {\n        vertical-align: middle;\n    }\n\n    .dataframe tbody tr th {\n        vertical-align: top;\n    }\n\n    .dataframe thead th {\n        text-align: right;\n    }\n</style>\n<table border=\"1\" class=\"dataframe\">\n  <thead>\n    <tr style=\"text-align: right;\">\n      <th></th>\n      <th>Prestation</th>\n      <th>Date de réalisation</th>\n      <th>Lieu de Collecte</th>\n      <th>Matériel</th>\n      <th>Poids</th>\n    </tr>\n  </thead>\n  <tbody>\n    <tr>\n      <th>0</th>\n      <td>12001054939</td>\n      <td>2020-01-02</td>\n      <td>CAPL-CNT-VOIE JULIA</td>\n      <td>COLONNE K 3 m3</td>\n      <td>0.4360</td>\n    </tr>\n    <tr>\n      <th>1</th>\n      <td>12001054940</td>\n      <td>2020-01-02</td>\n      <td>CAPL-CNT-BREGUIERES/FONT GALLOU</td>\n      <td>COLONNE K 3 m3</td>\n      <td>0.4360</td>\n    </tr>\n    <tr>\n      <th>2</th>\n      <td>12001054941</td>\n      <td>2020-01-02</td>\n      <td>CAPL-CNT-AV ECOLES/ROTHMANS</td>\n      <td>COLONNE K 3 m3</td>\n      <td>0.4360</td>\n    </tr>\n    <tr>\n      <th>3</th>\n      <td>12001054942</td>\n      <td>2020-01-02</td>\n      <td>CAPL-CAN-MERLETTE</td>\n      <td>COLONNE K 2,5 m3</td>\n      <td>0.5450</td>\n    </tr>\n    <tr>\n      <th>4</th>\n      <td>12001054943</td>\n      <td>2020-01-02</td>\n      <td>CAPL-CAN-RIOU/HLM</td>\n      <td>COLONNE K 4 m3</td>\n      <td>0.5814</td>\n    </tr>\n  </tbody>\n</table>\n</div>"
     },
     "metadata": {},
     "execution_count": 4
    }
   ],
   "source": [
    "data19.head()"
   ]
  },
  {
   "cell_type": "code",
   "execution_count": 5,
   "metadata": {},
   "outputs": [
    {
     "output_type": "execute_result",
     "data": {
      "text/plain": [
       "    Prestation Date de réalisation                 Lieu de Collecte  \\\n",
       "0  12001054939          2020-01-02              CAPL-CNT-VOIE JULIA   \n",
       "1  12001054940          2020-01-02  CAPL-CNT-BREGUIERES/FONT GALLOU   \n",
       "2  12001054941          2020-01-02      CAPL-CNT-AV ECOLES/ROTHMANS   \n",
       "3  12001054942          2020-01-02                CAPL-CAN-MERLETTE   \n",
       "4  12001054943          2020-01-02                CAPL-CAN-RIOU/HLM   \n",
       "\n",
       "           Matériel   Poids  \n",
       "0    COLONNE K 3 m3  0.4360  \n",
       "1    COLONNE K 3 m3  0.4360  \n",
       "2    COLONNE K 3 m3  0.4360  \n",
       "3  COLONNE K 2,5 m3  0.5450  \n",
       "4    COLONNE K 4 m3  0.5814  "
      ],
      "text/html": "<div>\n<style scoped>\n    .dataframe tbody tr th:only-of-type {\n        vertical-align: middle;\n    }\n\n    .dataframe tbody tr th {\n        vertical-align: top;\n    }\n\n    .dataframe thead th {\n        text-align: right;\n    }\n</style>\n<table border=\"1\" class=\"dataframe\">\n  <thead>\n    <tr style=\"text-align: right;\">\n      <th></th>\n      <th>Prestation</th>\n      <th>Date de réalisation</th>\n      <th>Lieu de Collecte</th>\n      <th>Matériel</th>\n      <th>Poids</th>\n    </tr>\n  </thead>\n  <tbody>\n    <tr>\n      <th>0</th>\n      <td>12001054939</td>\n      <td>2020-01-02</td>\n      <td>CAPL-CNT-VOIE JULIA</td>\n      <td>COLONNE K 3 m3</td>\n      <td>0.4360</td>\n    </tr>\n    <tr>\n      <th>1</th>\n      <td>12001054940</td>\n      <td>2020-01-02</td>\n      <td>CAPL-CNT-BREGUIERES/FONT GALLOU</td>\n      <td>COLONNE K 3 m3</td>\n      <td>0.4360</td>\n    </tr>\n    <tr>\n      <th>2</th>\n      <td>12001054941</td>\n      <td>2020-01-02</td>\n      <td>CAPL-CNT-AV ECOLES/ROTHMANS</td>\n      <td>COLONNE K 3 m3</td>\n      <td>0.4360</td>\n    </tr>\n    <tr>\n      <th>3</th>\n      <td>12001054942</td>\n      <td>2020-01-02</td>\n      <td>CAPL-CAN-MERLETTE</td>\n      <td>COLONNE K 2,5 m3</td>\n      <td>0.5450</td>\n    </tr>\n    <tr>\n      <th>4</th>\n      <td>12001054943</td>\n      <td>2020-01-02</td>\n      <td>CAPL-CAN-RIOU/HLM</td>\n      <td>COLONNE K 4 m3</td>\n      <td>0.5814</td>\n    </tr>\n  </tbody>\n</table>\n</div>"
     },
     "metadata": {},
     "execution_count": 5
    }
   ],
   "source": [
    "data20.head()"
   ]
  },
  {
   "source": [
    "## Remarque\n",
    "On note que les deux jeux de données data19 et data20 sont identiques (et data19 sera par conséquent ignoré)\n",
    "\n",
    "La période de décembre étant manquante, elle ne sera pas considérée par la suite"
   ],
   "cell_type": "markdown",
   "metadata": {}
  },
  {
   "cell_type": "code",
   "execution_count": 6,
   "metadata": {},
   "outputs": [
    {
     "output_type": "execute_result",
     "data": {
      "text/plain": [
       "True"
      ]
     },
     "metadata": {},
     "execution_count": 6
    }
   ],
   "source": [
    "data19.equals(data20)"
   ]
  },
  {
   "cell_type": "markdown",
   "metadata": {},
   "source": [
    "## Dimension du jeu de données"
   ]
  },
  {
   "cell_type": "code",
   "execution_count": 7,
   "metadata": {},
   "outputs": [
    {
     "output_type": "stream",
     "name": "stdout",
     "text": [
      "Le jeu de données data171819 recense 24760 collectes avec 11 variables\nLe jeu de données data20 recense 5476 collectes avec 5 variables\n"
     ]
    }
   ],
   "source": [
    "print(\"Le jeu de données data171819 recense\", data171819.shape[0], \"collectes avec\", data171819.shape[1], \"variables\")\n",
    "print(\"Le jeu de données data20 recense\", data20.shape[0], \"collectes avec\", data20.shape[1], \"variables\")"
   ]
  },
  {
   "cell_type": "markdown",
   "metadata": {},
   "source": [
    "## Valeurs manquantes\n",
    "Les deux jeux de données sont complets\n"
   ]
  },
  {
   "cell_type": "code",
   "execution_count": 8,
   "metadata": {},
   "outputs": [
    {
     "output_type": "execute_result",
     "data": {
      "text/plain": [
       "Collecte     0\n",
       "Contenant    0\n",
       "Adresse      0\n",
       "Ville        0\n",
       "Année        0\n",
       "MOIS         0\n",
       "SEMAINE      0\n",
       "date         0\n",
       "heure        0\n",
       "Taux         0\n",
       "Poids Kg     0\n",
       "dtype: int64"
      ]
     },
     "metadata": {},
     "execution_count": 8
    }
   ],
   "source": [
    "data171819.isna().sum()"
   ]
  },
  {
   "cell_type": "code",
   "execution_count": 9,
   "metadata": {},
   "outputs": [
    {
     "output_type": "execute_result",
     "data": {
      "text/plain": [
       "Prestation             0\n",
       "Date de réalisation    0\n",
       "Lieu de Collecte       0\n",
       "Matériel               0\n",
       "Poids                  0\n",
       "dtype: int64"
      ]
     },
     "metadata": {},
     "execution_count": 9
    }
   ],
   "source": [
    "data20.isna().sum()"
   ]
  },
  {
   "cell_type": "markdown",
   "metadata": {},
   "source": [
    "## Décompte des doublons\n",
    "Un doublon est présent pour la collecte de l'hôtel Miramar à Théoule-sur-Mer à la date du 9 avril 2019"
   ]
  },
  {
   "cell_type": "code",
   "execution_count": 10,
   "metadata": {},
   "outputs": [
    {
     "output_type": "execute_result",
     "data": {
      "text/plain": [
       "1"
      ]
     },
     "metadata": {},
     "execution_count": 10
    }
   ],
   "source": [
    "data171819.duplicated().sum()"
   ]
  },
  {
   "cell_type": "code",
   "execution_count": 11,
   "metadata": {},
   "outputs": [
    {
     "output_type": "execute_result",
     "data": {
      "text/plain": [
       "      Collecte Contenant        Adresse            Ville  Année   MOIS  \\\n",
       "20410      PAV   THE025V  HOTEL MIRAMAR  THÉOULE-SUR-MER   2019  Avril   \n",
       "\n",
       "       SEMAINE      date      heure  Taux  Poids Kg  \n",
       "20410       15 2019-04-09  08:38:35     1       300  "
      ],
      "text/html": "<div>\n<style scoped>\n    .dataframe tbody tr th:only-of-type {\n        vertical-align: middle;\n    }\n\n    .dataframe tbody tr th {\n        vertical-align: top;\n    }\n\n    .dataframe thead th {\n        text-align: right;\n    }\n</style>\n<table border=\"1\" class=\"dataframe\">\n  <thead>\n    <tr style=\"text-align: right;\">\n      <th></th>\n      <th>Collecte</th>\n      <th>Contenant</th>\n      <th>Adresse</th>\n      <th>Ville</th>\n      <th>Année</th>\n      <th>MOIS</th>\n      <th>SEMAINE</th>\n      <th>date</th>\n      <th>heure</th>\n      <th>Taux</th>\n      <th>Poids Kg</th>\n    </tr>\n  </thead>\n  <tbody>\n    <tr>\n      <th>20410</th>\n      <td>PAV</td>\n      <td>THE025V</td>\n      <td>HOTEL MIRAMAR</td>\n      <td>THÉOULE-SUR-MER</td>\n      <td>2019</td>\n      <td>Avril</td>\n      <td>15</td>\n      <td>2019-04-09</td>\n      <td>08:38:35</td>\n      <td>1</td>\n      <td>300</td>\n    </tr>\n  </tbody>\n</table>\n</div>"
     },
     "metadata": {},
     "execution_count": 11
    }
   ],
   "source": [
    "data171819[data171819.duplicated()]"
   ]
  },
  {
   "source": [
    "Il y a 90 doublons les collectes de 2020"
   ],
   "cell_type": "markdown",
   "metadata": {}
  },
  {
   "cell_type": "code",
   "execution_count": 12,
   "metadata": {},
   "outputs": [
    {
     "output_type": "execute_result",
     "data": {
      "text/plain": [
       "90"
      ]
     },
     "metadata": {},
     "execution_count": 12
    }
   ],
   "source": [
    "data20.duplicated(subset=data20.columns[1:]).sum()"
   ]
  },
  {
   "cell_type": "code",
   "execution_count": 13,
   "metadata": {},
   "outputs": [],
   "source": [
    "# Activation de l'affichage de toutes les lignes d'un DataFrame\n",
    "pd.set_option('display.max_rows', None)"
   ]
  },
  {
   "cell_type": "code",
   "execution_count": 14,
   "metadata": {},
   "outputs": [
    {
     "output_type": "execute_result",
     "data": {
      "text/plain": [
       "       Prestation Date de réalisation                     Lieu de Collecte  \\\n",
       "54    12001058278          2020-01-03             CAPL-CNT-MONT JOLI/STADE   \n",
       "119   12001240931          2020-01-06      CAPL-CAN-JAURES/MARCHE GAMBETTA   \n",
       "155   12001241943          2020-01-08         CAPL-MAN-BON PUITS/CIMETIERE   \n",
       "214   12001307326          2020-01-13              CAPL-CAN-RIOU/RONDPOINT   \n",
       "256   12001331179          2020-01-14         CAPL-MAN-BON PUITS/CIMETIERE   \n",
       "309   12001345782          2020-01-16   CAPL-MOU-NOTRE DAME DE VIE/RENAULT   \n",
       "376   12001460953          2020-01-21        CAPL-THE-AV COTE D'AZUR/SNACK   \n",
       "390   12001460969          2020-01-21         CAPL-MAN-BON PUITS/CIMETIERE   \n",
       "393   12001460971          2020-01-21         CAPL-MAN-BON PUITS/CIMETIERE   \n",
       "452   12001494419          2020-01-23             CAPL-CNT-MONT JOLI/STADE   \n",
       "540   12001653729          2020-01-28         CAPL-MAN-BON PUITS/CIMETIERE   \n",
       "566   12001658653          2020-01-29         CAPL-CAN-STE MARGUERITE/GARE   \n",
       "596   12001660114          2020-01-30   CAPL-MOU-NOTRE DAME DE VIE/RENAULT   \n",
       "667   12002096097          2020-02-04         CAPL-MAN-BON PUITS/CIMETIERE   \n",
       "952   12002365534          2020-02-18  CAPL-MAN-GRAND DUC/PARKING CORNICHE   \n",
       "970   12002365553          2020-02-18         CAPL-MAN-BON PUITS/CIMETIERE   \n",
       "1028  12002398624          2020-02-20   CAPL-MOU-NOTRE DAME DE VIE/RENAULT   \n",
       "1082  12002434438          2020-02-24              CAPL-CAN-RIOU/RONDPOINT   \n",
       "1106  12002495792          2020-02-25         CAPL-MAN-BON PUITS/CIMETIERE   \n",
       "1150  12002558585          2020-02-27   CAPL-MOU-NOTRE DAME DE VIE/RENAULT   \n",
       "1219  12003096932          2020-03-03        CAPL-THE-AV COTE D'AZUR/SNACK   \n",
       "1233  12003096948          2020-03-03         CAPL-MAN-BON PUITS/CIMETIERE   \n",
       "1289  12003126933          2020-03-05   CAPL-MOU-NOTRE DAME DE VIE/RENAULT   \n",
       "1328  12003214908          2020-03-09              CAPL-CAN-RIOU/RONDPOINT   \n",
       "1374  12003219053          2020-03-10         CAPL-MAN-BON PUITS/CIMETIERE   \n",
       "1568  12003378959          2020-03-19   CAPL-MOU-NOTRE DAME DE VIE/RENAULT   \n",
       "1646  12003438425          2020-03-24         CAPL-MAN-BON PUITS/CIMETIERE   \n",
       "1757  12003532103          2020-03-31        CAPL-THE-AV COTE D'AZUR/SNACK   \n",
       "2144  12004264915          2020-04-23             CAPL-CNT-MONT JOLI/STADE   \n",
       "2280  12004369446          2020-04-30   CAPL-MOU-NOTRE DAME DE VIE/RENAULT   \n",
       "2348  12005027933          2020-05-05  CAPL-MAN-GRAND DUC/PARKING CORNICHE   \n",
       "2355  12005027949          2020-05-05         CAPL-MAN-BON PUITS/CIMETIERE   \n",
       "2406  12005054852          2020-05-07   CAPL-MOU-NOTRE DAME DE VIE/RENAULT   \n",
       "2513  12005158483          2020-05-14   CAPL-MOU-NOTRE DAME DE VIE/RENAULT   \n",
       "2611  12005285798          2020-05-19         CAPL-MAN-BON PUITS/CIMETIERE   \n",
       "2775  12005457106          2020-05-28   CAPL-MOU-NOTRE DAME DE VIE/RENAULT   \n",
       "2862  12006209024          2020-06-02         CAPL-MAN-BON PUITS/CIMETIERE   \n",
       "2988  12006221499          2020-06-09         CAPL-MAN-BON PUITS/CIMETIERE   \n",
       "3031  12006355300          2020-06-11             CAPL-CNT-MONT JOLI/STADE   \n",
       "3041  12006355311          2020-06-11   CAPL-MOU-NOTRE DAME DE VIE/RENAULT   \n",
       "3139  12006371999          2020-06-16        CAPL-THE-AV COTE D'AZUR/SNACK   \n",
       "3170  12006403613          2020-06-18             CAPL-CNT-MONT JOLI/STADE   \n",
       "3257  12006510529          2020-06-23         CAPL-MAN-BON PUITS/CIMETIERE   \n",
       "3374  12006626011          2020-06-29              CAPL-CAN-RIOU/RONDPOINT   \n",
       "3528  12007103675          2020-07-07         CAPL-MAN-BON PUITS/CIMETIERE   \n",
       "3575  12007195255          2020-07-09             CAPL-CNT-MONT JOLI/STADE   \n",
       "3672  12007275455          2020-07-14       CAPL-THE-MISTRAL/P FIGUEIRETTE   \n",
       "3679  12007275462          2020-07-14  CAPL-MAN-GRAND DUC/PARKING CORNICHE   \n",
       "3717  12007338653          2020-07-16             CAPL-CNT-MONT JOLI/STADE   \n",
       "3735  12007338672          2020-07-16   CAPL-MOU-NOTRE DAME DE VIE/RENAULT   \n",
       "3751  12007342988          2020-07-17               CAPL-CAN-BD MONTFLEURY   \n",
       "3884  12007553864          2020-07-23             CAPL-CNT-MONT JOLI/STADE   \n",
       "3970  12007656491          2020-07-28        CAPL-THE-AV COTE D'AZUR/SNACK   \n",
       "3983  12007656501          2020-07-28  CAPL-MAN-GRAND DUC/PARKING CORNICHE   \n",
       "3990  12007656508          2020-07-28         CAPL-MAN-BON PUITS/CIMETIERE   \n",
       "4130  12008066248          2020-08-04        CAPL-THE-AV COTE D'AZUR/SNACK   \n",
       "4152  12008066273          2020-08-04         CAPL-MAN-BON PUITS/CIMETIERE   \n",
       "4195  12008089525          2020-08-06             CAPL-CNT-MONT JOLI/STADE   \n",
       "4266  12008161100          2020-08-10      CAPL-CAN-RIOUFFE/SQUARE MERIMEE   \n",
       "4281  12008161116          2020-08-10              CAPL-CAN-RIOU/RONDPOINT   \n",
       "4305  12008197906          2020-08-11    CAPL-MOU-LA PLAINE/LYONNAISE EAUX   \n",
       "4309  12008197910          2020-08-11       CAPL-THE-MISTRAL/P FIGUEIRETTE   \n",
       "4319  12008197921          2020-08-11         CAPL-MAN-BON PUITS/CIMETIERE   \n",
       "4377  12008251168          2020-08-13   CAPL-MOU-NOTRE DAME DE VIE/RENAULT   \n",
       "4447  12008414161          2020-08-17              CAPL-CAN-RIOU/RONDPOINT   \n",
       "4454  12008414738          2020-08-18       CAPL-THE-MISTRAL/P FIGUEIRETTE   \n",
       "4481  12008414768          2020-08-18         CAPL-MAN-BON PUITS/CIMETIERE   \n",
       "4538  12008450872          2020-08-20   CAPL-MOU-NOTRE DAME DE VIE/RENAULT   \n",
       "4626  12008573294          2020-08-25       CAPL-THE-MISTRAL/P FIGUEIRETTE   \n",
       "4646  12008573315          2020-08-25         CAPL-MAN-BON PUITS/CIMETIERE   \n",
       "4695  12008586991          2020-08-27             CAPL-CNT-MONT JOLI/STADE   \n",
       "4787  12009040081          2020-09-01       CAPL-THE-MISTRAL/P FIGUEIRETTE   \n",
       "4797  12009040094          2020-09-01         CAPL-MAN-BON PUITS/CIMETIERE   \n",
       "4929  12009100748          2020-09-07    CAPL-CAN-RONDPOINT DUBOYS DANGERS   \n",
       "4954  12009195938          2020-09-08       CAPL-THE-MISTRAL/P FIGUEIRETTE   \n",
       "4969  12009195888          2020-09-08         CAPL-MAN-BON PUITS/CIMETIERE   \n",
       "5003  12009287384          2020-09-10             CAPL-CNT-MONT JOLI/STADE   \n",
       "5014  12009287395          2020-09-10   CAPL-MOU-NOTRE DAME DE VIE/RENAULT   \n",
       "5070  12009330090          2020-09-14        CAPL-CAN-MASSENA/LYCEE CARNOT   \n",
       "5084  12009333595          2020-09-15       CAPL-THE-MISTRAL/P FIGUEIRETTE   \n",
       "5089  12009333599          2020-09-15        CAPL-THE-AV COTE D'AZUR/SNACK   \n",
       "5167  12009361798          2020-09-17   CAPL-MOU-NOTRE DAME DE VIE/RENAULT   \n",
       "5207  12009428930          2020-09-18    CAPL-CAN-ALSACE PROLONGE/ALEX III   \n",
       "5253  12009514201          2020-09-22       CAPL-THE-MISTRAL/P FIGUEIRETTE   \n",
       "5272  12009514218          2020-09-22         CAPL-MAN-BON PUITS/CIMETIERE   \n",
       "5307  12009545231          2020-09-24      CAPL-MOU-LAMARTINE/MAIRIE ANNEX   \n",
       "5311  12009545227          2020-09-24   CAPL-MOU-NOTRE DAME DE VIE/RENAULT   \n",
       "5333  12009545205          2020-09-24             CAPL-CNT-MONT JOLI/STADE   \n",
       "5431  12009689687          2020-09-29       CAPL-THE-MISTRAL/P FIGUEIRETTE   \n",
       "5434  12009689690          2020-09-29        CAPL-THE-AV COTE D'AZUR/SNACK   \n",
       "\n",
       "                     Matériel   Poids  \n",
       "54      COLONNE ENTERREE 4 m3  0.8975  \n",
       "119   COLONNE ENTERREE K 4 m3  1.3432  \n",
       "155              COLONNE 4 m3  0.5800  \n",
       "214   COLONNE ENTERREE K 4 m3  0.6453  \n",
       "256              COLONNE 4 m3  0.3065  \n",
       "309     COLONNE ENTERREE 4 m3  0.2676  \n",
       "376              COLONNE 3 m3  0.5850  \n",
       "390              COLONNE 4 m3  0.2962  \n",
       "393              COLONNE 4 m3  0.2962  \n",
       "452     COLONNE ENTERREE 4 m3  1.0400  \n",
       "540              COLONNE 4 m3  0.4969  \n",
       "566            COLONNE K 3 m3  0.4046  \n",
       "596     COLONNE ENTERREE 4 m3  0.6259  \n",
       "667              COLONNE 4 m3  0.2773  \n",
       "952              COLONNE 3 m3  0.2168  \n",
       "970              COLONNE 4 m3  0.2891  \n",
       "1028    COLONNE ENTERREE 4 m3  0.3200  \n",
       "1082  COLONNE ENTERREE K 4 m3  0.2256  \n",
       "1106             COLONNE 4 m3  0.7451  \n",
       "1150    COLONNE ENTERREE 4 m3  0.3434  \n",
       "1219             COLONNE 3 m3  0.3496  \n",
       "1233             COLONNE 4 m3  0.3425  \n",
       "1289    COLONNE ENTERREE 4 m3  0.4107  \n",
       "1328  COLONNE ENTERREE K 4 m3  0.5713  \n",
       "1374             COLONNE 4 m3  0.2894  \n",
       "1568    COLONNE ENTERREE 4 m3  0.3243  \n",
       "1646             COLONNE 4 m3  0.2578  \n",
       "1757             COLONNE 3 m3  0.2298  \n",
       "2144    COLONNE ENTERREE 4 m3  0.5911  \n",
       "2280    COLONNE ENTERREE 4 m3  0.3155  \n",
       "2348             COLONNE 3 m3  0.7707  \n",
       "2355             COLONNE 4 m3  0.5111  \n",
       "2406    COLONNE ENTERREE 4 m3  0.5911  \n",
       "2513    COLONNE ENTERREE 4 m3  0.3761  \n",
       "2611             COLONNE 4 m3  0.6928  \n",
       "2775    COLONNE ENTERREE 4 m3  0.5632  \n",
       "2862             COLONNE 4 m3  0.6304  \n",
       "2988             COLONNE 4 m3  0.2826  \n",
       "3031    COLONNE ENTERREE 4 m3  0.8447  \n",
       "3041    COLONNE ENTERREE 4 m3  0.2883  \n",
       "3139             COLONNE 3 m3  0.5832  \n",
       "3170    COLONNE ENTERREE 4 m3  0.6990  \n",
       "3257             COLONNE 4 m3  0.5714  \n",
       "3374  COLONNE ENTERREE K 4 m3  0.5997  \n",
       "3528             COLONNE 4 m3  0.5123  \n",
       "3575    COLONNE ENTERREE 4 m3  0.7525  \n",
       "3672             COLONNE 3 m3  0.4920  \n",
       "3679             COLONNE 3 m3  0.2373  \n",
       "3717    COLONNE ENTERREE 4 m3  0.6385  \n",
       "3735    COLONNE ENTERREE 4 m3  0.7127  \n",
       "3751  COLONNE ENTERREE K 4 m3  0.5663  \n",
       "3884    COLONNE ENTERREE 4 m3  0.9016  \n",
       "3970             COLONNE 3 m3  0.4964  \n",
       "3983             COLONNE 3 m3  0.4054  \n",
       "3990             COLONNE 4 m3  0.5406  \n",
       "4130             COLONNE 3 m3  0.6197  \n",
       "4152             COLONNE 4 m3  0.5046  \n",
       "4195    COLONNE ENTERREE 4 m3  0.8454  \n",
       "4266  COLONNE ENTERREE K 4 m3  1.0490  \n",
       "4281  COLONNE ENTERREE K 4 m3  0.5009  \n",
       "4305             COLONNE 3 m3  0.4305  \n",
       "4309             COLONNE 3 m3  0.4857  \n",
       "4319             COLONNE 4 m3  1.2699  \n",
       "4377    COLONNE ENTERREE 4 m3  0.5804  \n",
       "4447  COLONNE ENTERREE K 4 m3  0.2620  \n",
       "4454             COLONNE 3 m3  0.4640  \n",
       "4481             COLONNE 4 m3  1.3568  \n",
       "4538    COLONNE ENTERREE 4 m3  0.6972  \n",
       "4626             COLONNE 3 m3  0.5520  \n",
       "4646             COLONNE 4 m3  0.7935  \n",
       "4695    COLONNE ENTERREE 4 m3  0.6984  \n",
       "4787             COLONNE 3 m3  0.5331  \n",
       "4797             COLONNE 4 m3  0.5429  \n",
       "4929         COLONNE K 2,5 m3  0.3145  \n",
       "4954             COLONNE 3 m3  0.1926  \n",
       "4969             COLONNE 4 m3  0.7779  \n",
       "5003    COLONNE ENTERREE 4 m3  0.5538  \n",
       "5014    COLONNE ENTERREE 4 m3  0.4145  \n",
       "5070  COLONNE ENTERREE K 4 m3  0.2627  \n",
       "5084             COLONNE 3 m3  0.1989  \n",
       "5089             COLONNE 3 m3  0.1989  \n",
       "5167    COLONNE ENTERREE 4 m3  0.6571  \n",
       "5207  COLONNE ENTERREE K 4 m3  0.5298  \n",
       "5253             COLONNE 3 m3  0.2381  \n",
       "5272             COLONNE 4 m3  0.2846  \n",
       "5307    COLONNE ENTERREE 4 m3  0.3042  \n",
       "5311    COLONNE ENTERREE 4 m3  0.3042  \n",
       "5333    COLONNE ENTERREE 4 m3  0.7010  \n",
       "5431             COLONNE 3 m3  0.1842  \n",
       "5434             COLONNE 3 m3  0.1842  "
      ],
      "text/html": "<div>\n<style scoped>\n    .dataframe tbody tr th:only-of-type {\n        vertical-align: middle;\n    }\n\n    .dataframe tbody tr th {\n        vertical-align: top;\n    }\n\n    .dataframe thead th {\n        text-align: right;\n    }\n</style>\n<table border=\"1\" class=\"dataframe\">\n  <thead>\n    <tr style=\"text-align: right;\">\n      <th></th>\n      <th>Prestation</th>\n      <th>Date de réalisation</th>\n      <th>Lieu de Collecte</th>\n      <th>Matériel</th>\n      <th>Poids</th>\n    </tr>\n  </thead>\n  <tbody>\n    <tr>\n      <th>54</th>\n      <td>12001058278</td>\n      <td>2020-01-03</td>\n      <td>CAPL-CNT-MONT JOLI/STADE</td>\n      <td>COLONNE ENTERREE 4 m3</td>\n      <td>0.8975</td>\n    </tr>\n    <tr>\n      <th>119</th>\n      <td>12001240931</td>\n      <td>2020-01-06</td>\n      <td>CAPL-CAN-JAURES/MARCHE GAMBETTA</td>\n      <td>COLONNE ENTERREE K 4 m3</td>\n      <td>1.3432</td>\n    </tr>\n    <tr>\n      <th>155</th>\n      <td>12001241943</td>\n      <td>2020-01-08</td>\n      <td>CAPL-MAN-BON PUITS/CIMETIERE</td>\n      <td>COLONNE 4 m3</td>\n      <td>0.5800</td>\n    </tr>\n    <tr>\n      <th>214</th>\n      <td>12001307326</td>\n      <td>2020-01-13</td>\n      <td>CAPL-CAN-RIOU/RONDPOINT</td>\n      <td>COLONNE ENTERREE K 4 m3</td>\n      <td>0.6453</td>\n    </tr>\n    <tr>\n      <th>256</th>\n      <td>12001331179</td>\n      <td>2020-01-14</td>\n      <td>CAPL-MAN-BON PUITS/CIMETIERE</td>\n      <td>COLONNE 4 m3</td>\n      <td>0.3065</td>\n    </tr>\n    <tr>\n      <th>309</th>\n      <td>12001345782</td>\n      <td>2020-01-16</td>\n      <td>CAPL-MOU-NOTRE DAME DE VIE/RENAULT</td>\n      <td>COLONNE ENTERREE 4 m3</td>\n      <td>0.2676</td>\n    </tr>\n    <tr>\n      <th>376</th>\n      <td>12001460953</td>\n      <td>2020-01-21</td>\n      <td>CAPL-THE-AV COTE D'AZUR/SNACK</td>\n      <td>COLONNE 3 m3</td>\n      <td>0.5850</td>\n    </tr>\n    <tr>\n      <th>390</th>\n      <td>12001460969</td>\n      <td>2020-01-21</td>\n      <td>CAPL-MAN-BON PUITS/CIMETIERE</td>\n      <td>COLONNE 4 m3</td>\n      <td>0.2962</td>\n    </tr>\n    <tr>\n      <th>393</th>\n      <td>12001460971</td>\n      <td>2020-01-21</td>\n      <td>CAPL-MAN-BON PUITS/CIMETIERE</td>\n      <td>COLONNE 4 m3</td>\n      <td>0.2962</td>\n    </tr>\n    <tr>\n      <th>452</th>\n      <td>12001494419</td>\n      <td>2020-01-23</td>\n      <td>CAPL-CNT-MONT JOLI/STADE</td>\n      <td>COLONNE ENTERREE 4 m3</td>\n      <td>1.0400</td>\n    </tr>\n    <tr>\n      <th>540</th>\n      <td>12001653729</td>\n      <td>2020-01-28</td>\n      <td>CAPL-MAN-BON PUITS/CIMETIERE</td>\n      <td>COLONNE 4 m3</td>\n      <td>0.4969</td>\n    </tr>\n    <tr>\n      <th>566</th>\n      <td>12001658653</td>\n      <td>2020-01-29</td>\n      <td>CAPL-CAN-STE MARGUERITE/GARE</td>\n      <td>COLONNE K 3 m3</td>\n      <td>0.4046</td>\n    </tr>\n    <tr>\n      <th>596</th>\n      <td>12001660114</td>\n      <td>2020-01-30</td>\n      <td>CAPL-MOU-NOTRE DAME DE VIE/RENAULT</td>\n      <td>COLONNE ENTERREE 4 m3</td>\n      <td>0.6259</td>\n    </tr>\n    <tr>\n      <th>667</th>\n      <td>12002096097</td>\n      <td>2020-02-04</td>\n      <td>CAPL-MAN-BON PUITS/CIMETIERE</td>\n      <td>COLONNE 4 m3</td>\n      <td>0.2773</td>\n    </tr>\n    <tr>\n      <th>952</th>\n      <td>12002365534</td>\n      <td>2020-02-18</td>\n      <td>CAPL-MAN-GRAND DUC/PARKING CORNICHE</td>\n      <td>COLONNE 3 m3</td>\n      <td>0.2168</td>\n    </tr>\n    <tr>\n      <th>970</th>\n      <td>12002365553</td>\n      <td>2020-02-18</td>\n      <td>CAPL-MAN-BON PUITS/CIMETIERE</td>\n      <td>COLONNE 4 m3</td>\n      <td>0.2891</td>\n    </tr>\n    <tr>\n      <th>1028</th>\n      <td>12002398624</td>\n      <td>2020-02-20</td>\n      <td>CAPL-MOU-NOTRE DAME DE VIE/RENAULT</td>\n      <td>COLONNE ENTERREE 4 m3</td>\n      <td>0.3200</td>\n    </tr>\n    <tr>\n      <th>1082</th>\n      <td>12002434438</td>\n      <td>2020-02-24</td>\n      <td>CAPL-CAN-RIOU/RONDPOINT</td>\n      <td>COLONNE ENTERREE K 4 m3</td>\n      <td>0.2256</td>\n    </tr>\n    <tr>\n      <th>1106</th>\n      <td>12002495792</td>\n      <td>2020-02-25</td>\n      <td>CAPL-MAN-BON PUITS/CIMETIERE</td>\n      <td>COLONNE 4 m3</td>\n      <td>0.7451</td>\n    </tr>\n    <tr>\n      <th>1150</th>\n      <td>12002558585</td>\n      <td>2020-02-27</td>\n      <td>CAPL-MOU-NOTRE DAME DE VIE/RENAULT</td>\n      <td>COLONNE ENTERREE 4 m3</td>\n      <td>0.3434</td>\n    </tr>\n    <tr>\n      <th>1219</th>\n      <td>12003096932</td>\n      <td>2020-03-03</td>\n      <td>CAPL-THE-AV COTE D'AZUR/SNACK</td>\n      <td>COLONNE 3 m3</td>\n      <td>0.3496</td>\n    </tr>\n    <tr>\n      <th>1233</th>\n      <td>12003096948</td>\n      <td>2020-03-03</td>\n      <td>CAPL-MAN-BON PUITS/CIMETIERE</td>\n      <td>COLONNE 4 m3</td>\n      <td>0.3425</td>\n    </tr>\n    <tr>\n      <th>1289</th>\n      <td>12003126933</td>\n      <td>2020-03-05</td>\n      <td>CAPL-MOU-NOTRE DAME DE VIE/RENAULT</td>\n      <td>COLONNE ENTERREE 4 m3</td>\n      <td>0.4107</td>\n    </tr>\n    <tr>\n      <th>1328</th>\n      <td>12003214908</td>\n      <td>2020-03-09</td>\n      <td>CAPL-CAN-RIOU/RONDPOINT</td>\n      <td>COLONNE ENTERREE K 4 m3</td>\n      <td>0.5713</td>\n    </tr>\n    <tr>\n      <th>1374</th>\n      <td>12003219053</td>\n      <td>2020-03-10</td>\n      <td>CAPL-MAN-BON PUITS/CIMETIERE</td>\n      <td>COLONNE 4 m3</td>\n      <td>0.2894</td>\n    </tr>\n    <tr>\n      <th>1568</th>\n      <td>12003378959</td>\n      <td>2020-03-19</td>\n      <td>CAPL-MOU-NOTRE DAME DE VIE/RENAULT</td>\n      <td>COLONNE ENTERREE 4 m3</td>\n      <td>0.3243</td>\n    </tr>\n    <tr>\n      <th>1646</th>\n      <td>12003438425</td>\n      <td>2020-03-24</td>\n      <td>CAPL-MAN-BON PUITS/CIMETIERE</td>\n      <td>COLONNE 4 m3</td>\n      <td>0.2578</td>\n    </tr>\n    <tr>\n      <th>1757</th>\n      <td>12003532103</td>\n      <td>2020-03-31</td>\n      <td>CAPL-THE-AV COTE D'AZUR/SNACK</td>\n      <td>COLONNE 3 m3</td>\n      <td>0.2298</td>\n    </tr>\n    <tr>\n      <th>2144</th>\n      <td>12004264915</td>\n      <td>2020-04-23</td>\n      <td>CAPL-CNT-MONT JOLI/STADE</td>\n      <td>COLONNE ENTERREE 4 m3</td>\n      <td>0.5911</td>\n    </tr>\n    <tr>\n      <th>2280</th>\n      <td>12004369446</td>\n      <td>2020-04-30</td>\n      <td>CAPL-MOU-NOTRE DAME DE VIE/RENAULT</td>\n      <td>COLONNE ENTERREE 4 m3</td>\n      <td>0.3155</td>\n    </tr>\n    <tr>\n      <th>2348</th>\n      <td>12005027933</td>\n      <td>2020-05-05</td>\n      <td>CAPL-MAN-GRAND DUC/PARKING CORNICHE</td>\n      <td>COLONNE 3 m3</td>\n      <td>0.7707</td>\n    </tr>\n    <tr>\n      <th>2355</th>\n      <td>12005027949</td>\n      <td>2020-05-05</td>\n      <td>CAPL-MAN-BON PUITS/CIMETIERE</td>\n      <td>COLONNE 4 m3</td>\n      <td>0.5111</td>\n    </tr>\n    <tr>\n      <th>2406</th>\n      <td>12005054852</td>\n      <td>2020-05-07</td>\n      <td>CAPL-MOU-NOTRE DAME DE VIE/RENAULT</td>\n      <td>COLONNE ENTERREE 4 m3</td>\n      <td>0.5911</td>\n    </tr>\n    <tr>\n      <th>2513</th>\n      <td>12005158483</td>\n      <td>2020-05-14</td>\n      <td>CAPL-MOU-NOTRE DAME DE VIE/RENAULT</td>\n      <td>COLONNE ENTERREE 4 m3</td>\n      <td>0.3761</td>\n    </tr>\n    <tr>\n      <th>2611</th>\n      <td>12005285798</td>\n      <td>2020-05-19</td>\n      <td>CAPL-MAN-BON PUITS/CIMETIERE</td>\n      <td>COLONNE 4 m3</td>\n      <td>0.6928</td>\n    </tr>\n    <tr>\n      <th>2775</th>\n      <td>12005457106</td>\n      <td>2020-05-28</td>\n      <td>CAPL-MOU-NOTRE DAME DE VIE/RENAULT</td>\n      <td>COLONNE ENTERREE 4 m3</td>\n      <td>0.5632</td>\n    </tr>\n    <tr>\n      <th>2862</th>\n      <td>12006209024</td>\n      <td>2020-06-02</td>\n      <td>CAPL-MAN-BON PUITS/CIMETIERE</td>\n      <td>COLONNE 4 m3</td>\n      <td>0.6304</td>\n    </tr>\n    <tr>\n      <th>2988</th>\n      <td>12006221499</td>\n      <td>2020-06-09</td>\n      <td>CAPL-MAN-BON PUITS/CIMETIERE</td>\n      <td>COLONNE 4 m3</td>\n      <td>0.2826</td>\n    </tr>\n    <tr>\n      <th>3031</th>\n      <td>12006355300</td>\n      <td>2020-06-11</td>\n      <td>CAPL-CNT-MONT JOLI/STADE</td>\n      <td>COLONNE ENTERREE 4 m3</td>\n      <td>0.8447</td>\n    </tr>\n    <tr>\n      <th>3041</th>\n      <td>12006355311</td>\n      <td>2020-06-11</td>\n      <td>CAPL-MOU-NOTRE DAME DE VIE/RENAULT</td>\n      <td>COLONNE ENTERREE 4 m3</td>\n      <td>0.2883</td>\n    </tr>\n    <tr>\n      <th>3139</th>\n      <td>12006371999</td>\n      <td>2020-06-16</td>\n      <td>CAPL-THE-AV COTE D'AZUR/SNACK</td>\n      <td>COLONNE 3 m3</td>\n      <td>0.5832</td>\n    </tr>\n    <tr>\n      <th>3170</th>\n      <td>12006403613</td>\n      <td>2020-06-18</td>\n      <td>CAPL-CNT-MONT JOLI/STADE</td>\n      <td>COLONNE ENTERREE 4 m3</td>\n      <td>0.6990</td>\n    </tr>\n    <tr>\n      <th>3257</th>\n      <td>12006510529</td>\n      <td>2020-06-23</td>\n      <td>CAPL-MAN-BON PUITS/CIMETIERE</td>\n      <td>COLONNE 4 m3</td>\n      <td>0.5714</td>\n    </tr>\n    <tr>\n      <th>3374</th>\n      <td>12006626011</td>\n      <td>2020-06-29</td>\n      <td>CAPL-CAN-RIOU/RONDPOINT</td>\n      <td>COLONNE ENTERREE K 4 m3</td>\n      <td>0.5997</td>\n    </tr>\n    <tr>\n      <th>3528</th>\n      <td>12007103675</td>\n      <td>2020-07-07</td>\n      <td>CAPL-MAN-BON PUITS/CIMETIERE</td>\n      <td>COLONNE 4 m3</td>\n      <td>0.5123</td>\n    </tr>\n    <tr>\n      <th>3575</th>\n      <td>12007195255</td>\n      <td>2020-07-09</td>\n      <td>CAPL-CNT-MONT JOLI/STADE</td>\n      <td>COLONNE ENTERREE 4 m3</td>\n      <td>0.7525</td>\n    </tr>\n    <tr>\n      <th>3672</th>\n      <td>12007275455</td>\n      <td>2020-07-14</td>\n      <td>CAPL-THE-MISTRAL/P FIGUEIRETTE</td>\n      <td>COLONNE 3 m3</td>\n      <td>0.4920</td>\n    </tr>\n    <tr>\n      <th>3679</th>\n      <td>12007275462</td>\n      <td>2020-07-14</td>\n      <td>CAPL-MAN-GRAND DUC/PARKING CORNICHE</td>\n      <td>COLONNE 3 m3</td>\n      <td>0.2373</td>\n    </tr>\n    <tr>\n      <th>3717</th>\n      <td>12007338653</td>\n      <td>2020-07-16</td>\n      <td>CAPL-CNT-MONT JOLI/STADE</td>\n      <td>COLONNE ENTERREE 4 m3</td>\n      <td>0.6385</td>\n    </tr>\n    <tr>\n      <th>3735</th>\n      <td>12007338672</td>\n      <td>2020-07-16</td>\n      <td>CAPL-MOU-NOTRE DAME DE VIE/RENAULT</td>\n      <td>COLONNE ENTERREE 4 m3</td>\n      <td>0.7127</td>\n    </tr>\n    <tr>\n      <th>3751</th>\n      <td>12007342988</td>\n      <td>2020-07-17</td>\n      <td>CAPL-CAN-BD MONTFLEURY</td>\n      <td>COLONNE ENTERREE K 4 m3</td>\n      <td>0.5663</td>\n    </tr>\n    <tr>\n      <th>3884</th>\n      <td>12007553864</td>\n      <td>2020-07-23</td>\n      <td>CAPL-CNT-MONT JOLI/STADE</td>\n      <td>COLONNE ENTERREE 4 m3</td>\n      <td>0.9016</td>\n    </tr>\n    <tr>\n      <th>3970</th>\n      <td>12007656491</td>\n      <td>2020-07-28</td>\n      <td>CAPL-THE-AV COTE D'AZUR/SNACK</td>\n      <td>COLONNE 3 m3</td>\n      <td>0.4964</td>\n    </tr>\n    <tr>\n      <th>3983</th>\n      <td>12007656501</td>\n      <td>2020-07-28</td>\n      <td>CAPL-MAN-GRAND DUC/PARKING CORNICHE</td>\n      <td>COLONNE 3 m3</td>\n      <td>0.4054</td>\n    </tr>\n    <tr>\n      <th>3990</th>\n      <td>12007656508</td>\n      <td>2020-07-28</td>\n      <td>CAPL-MAN-BON PUITS/CIMETIERE</td>\n      <td>COLONNE 4 m3</td>\n      <td>0.5406</td>\n    </tr>\n    <tr>\n      <th>4130</th>\n      <td>12008066248</td>\n      <td>2020-08-04</td>\n      <td>CAPL-THE-AV COTE D'AZUR/SNACK</td>\n      <td>COLONNE 3 m3</td>\n      <td>0.6197</td>\n    </tr>\n    <tr>\n      <th>4152</th>\n      <td>12008066273</td>\n      <td>2020-08-04</td>\n      <td>CAPL-MAN-BON PUITS/CIMETIERE</td>\n      <td>COLONNE 4 m3</td>\n      <td>0.5046</td>\n    </tr>\n    <tr>\n      <th>4195</th>\n      <td>12008089525</td>\n      <td>2020-08-06</td>\n      <td>CAPL-CNT-MONT JOLI/STADE</td>\n      <td>COLONNE ENTERREE 4 m3</td>\n      <td>0.8454</td>\n    </tr>\n    <tr>\n      <th>4266</th>\n      <td>12008161100</td>\n      <td>2020-08-10</td>\n      <td>CAPL-CAN-RIOUFFE/SQUARE MERIMEE</td>\n      <td>COLONNE ENTERREE K 4 m3</td>\n      <td>1.0490</td>\n    </tr>\n    <tr>\n      <th>4281</th>\n      <td>12008161116</td>\n      <td>2020-08-10</td>\n      <td>CAPL-CAN-RIOU/RONDPOINT</td>\n      <td>COLONNE ENTERREE K 4 m3</td>\n      <td>0.5009</td>\n    </tr>\n    <tr>\n      <th>4305</th>\n      <td>12008197906</td>\n      <td>2020-08-11</td>\n      <td>CAPL-MOU-LA PLAINE/LYONNAISE EAUX</td>\n      <td>COLONNE 3 m3</td>\n      <td>0.4305</td>\n    </tr>\n    <tr>\n      <th>4309</th>\n      <td>12008197910</td>\n      <td>2020-08-11</td>\n      <td>CAPL-THE-MISTRAL/P FIGUEIRETTE</td>\n      <td>COLONNE 3 m3</td>\n      <td>0.4857</td>\n    </tr>\n    <tr>\n      <th>4319</th>\n      <td>12008197921</td>\n      <td>2020-08-11</td>\n      <td>CAPL-MAN-BON PUITS/CIMETIERE</td>\n      <td>COLONNE 4 m3</td>\n      <td>1.2699</td>\n    </tr>\n    <tr>\n      <th>4377</th>\n      <td>12008251168</td>\n      <td>2020-08-13</td>\n      <td>CAPL-MOU-NOTRE DAME DE VIE/RENAULT</td>\n      <td>COLONNE ENTERREE 4 m3</td>\n      <td>0.5804</td>\n    </tr>\n    <tr>\n      <th>4447</th>\n      <td>12008414161</td>\n      <td>2020-08-17</td>\n      <td>CAPL-CAN-RIOU/RONDPOINT</td>\n      <td>COLONNE ENTERREE K 4 m3</td>\n      <td>0.2620</td>\n    </tr>\n    <tr>\n      <th>4454</th>\n      <td>12008414738</td>\n      <td>2020-08-18</td>\n      <td>CAPL-THE-MISTRAL/P FIGUEIRETTE</td>\n      <td>COLONNE 3 m3</td>\n      <td>0.4640</td>\n    </tr>\n    <tr>\n      <th>4481</th>\n      <td>12008414768</td>\n      <td>2020-08-18</td>\n      <td>CAPL-MAN-BON PUITS/CIMETIERE</td>\n      <td>COLONNE 4 m3</td>\n      <td>1.3568</td>\n    </tr>\n    <tr>\n      <th>4538</th>\n      <td>12008450872</td>\n      <td>2020-08-20</td>\n      <td>CAPL-MOU-NOTRE DAME DE VIE/RENAULT</td>\n      <td>COLONNE ENTERREE 4 m3</td>\n      <td>0.6972</td>\n    </tr>\n    <tr>\n      <th>4626</th>\n      <td>12008573294</td>\n      <td>2020-08-25</td>\n      <td>CAPL-THE-MISTRAL/P FIGUEIRETTE</td>\n      <td>COLONNE 3 m3</td>\n      <td>0.5520</td>\n    </tr>\n    <tr>\n      <th>4646</th>\n      <td>12008573315</td>\n      <td>2020-08-25</td>\n      <td>CAPL-MAN-BON PUITS/CIMETIERE</td>\n      <td>COLONNE 4 m3</td>\n      <td>0.7935</td>\n    </tr>\n    <tr>\n      <th>4695</th>\n      <td>12008586991</td>\n      <td>2020-08-27</td>\n      <td>CAPL-CNT-MONT JOLI/STADE</td>\n      <td>COLONNE ENTERREE 4 m3</td>\n      <td>0.6984</td>\n    </tr>\n    <tr>\n      <th>4787</th>\n      <td>12009040081</td>\n      <td>2020-09-01</td>\n      <td>CAPL-THE-MISTRAL/P FIGUEIRETTE</td>\n      <td>COLONNE 3 m3</td>\n      <td>0.5331</td>\n    </tr>\n    <tr>\n      <th>4797</th>\n      <td>12009040094</td>\n      <td>2020-09-01</td>\n      <td>CAPL-MAN-BON PUITS/CIMETIERE</td>\n      <td>COLONNE 4 m3</td>\n      <td>0.5429</td>\n    </tr>\n    <tr>\n      <th>4929</th>\n      <td>12009100748</td>\n      <td>2020-09-07</td>\n      <td>CAPL-CAN-RONDPOINT DUBOYS DANGERS</td>\n      <td>COLONNE K 2,5 m3</td>\n      <td>0.3145</td>\n    </tr>\n    <tr>\n      <th>4954</th>\n      <td>12009195938</td>\n      <td>2020-09-08</td>\n      <td>CAPL-THE-MISTRAL/P FIGUEIRETTE</td>\n      <td>COLONNE 3 m3</td>\n      <td>0.1926</td>\n    </tr>\n    <tr>\n      <th>4969</th>\n      <td>12009195888</td>\n      <td>2020-09-08</td>\n      <td>CAPL-MAN-BON PUITS/CIMETIERE</td>\n      <td>COLONNE 4 m3</td>\n      <td>0.7779</td>\n    </tr>\n    <tr>\n      <th>5003</th>\n      <td>12009287384</td>\n      <td>2020-09-10</td>\n      <td>CAPL-CNT-MONT JOLI/STADE</td>\n      <td>COLONNE ENTERREE 4 m3</td>\n      <td>0.5538</td>\n    </tr>\n    <tr>\n      <th>5014</th>\n      <td>12009287395</td>\n      <td>2020-09-10</td>\n      <td>CAPL-MOU-NOTRE DAME DE VIE/RENAULT</td>\n      <td>COLONNE ENTERREE 4 m3</td>\n      <td>0.4145</td>\n    </tr>\n    <tr>\n      <th>5070</th>\n      <td>12009330090</td>\n      <td>2020-09-14</td>\n      <td>CAPL-CAN-MASSENA/LYCEE CARNOT</td>\n      <td>COLONNE ENTERREE K 4 m3</td>\n      <td>0.2627</td>\n    </tr>\n    <tr>\n      <th>5084</th>\n      <td>12009333595</td>\n      <td>2020-09-15</td>\n      <td>CAPL-THE-MISTRAL/P FIGUEIRETTE</td>\n      <td>COLONNE 3 m3</td>\n      <td>0.1989</td>\n    </tr>\n    <tr>\n      <th>5089</th>\n      <td>12009333599</td>\n      <td>2020-09-15</td>\n      <td>CAPL-THE-AV COTE D'AZUR/SNACK</td>\n      <td>COLONNE 3 m3</td>\n      <td>0.1989</td>\n    </tr>\n    <tr>\n      <th>5167</th>\n      <td>12009361798</td>\n      <td>2020-09-17</td>\n      <td>CAPL-MOU-NOTRE DAME DE VIE/RENAULT</td>\n      <td>COLONNE ENTERREE 4 m3</td>\n      <td>0.6571</td>\n    </tr>\n    <tr>\n      <th>5207</th>\n      <td>12009428930</td>\n      <td>2020-09-18</td>\n      <td>CAPL-CAN-ALSACE PROLONGE/ALEX III</td>\n      <td>COLONNE ENTERREE K 4 m3</td>\n      <td>0.5298</td>\n    </tr>\n    <tr>\n      <th>5253</th>\n      <td>12009514201</td>\n      <td>2020-09-22</td>\n      <td>CAPL-THE-MISTRAL/P FIGUEIRETTE</td>\n      <td>COLONNE 3 m3</td>\n      <td>0.2381</td>\n    </tr>\n    <tr>\n      <th>5272</th>\n      <td>12009514218</td>\n      <td>2020-09-22</td>\n      <td>CAPL-MAN-BON PUITS/CIMETIERE</td>\n      <td>COLONNE 4 m3</td>\n      <td>0.2846</td>\n    </tr>\n    <tr>\n      <th>5307</th>\n      <td>12009545231</td>\n      <td>2020-09-24</td>\n      <td>CAPL-MOU-LAMARTINE/MAIRIE ANNEX</td>\n      <td>COLONNE ENTERREE 4 m3</td>\n      <td>0.3042</td>\n    </tr>\n    <tr>\n      <th>5311</th>\n      <td>12009545227</td>\n      <td>2020-09-24</td>\n      <td>CAPL-MOU-NOTRE DAME DE VIE/RENAULT</td>\n      <td>COLONNE ENTERREE 4 m3</td>\n      <td>0.3042</td>\n    </tr>\n    <tr>\n      <th>5333</th>\n      <td>12009545205</td>\n      <td>2020-09-24</td>\n      <td>CAPL-CNT-MONT JOLI/STADE</td>\n      <td>COLONNE ENTERREE 4 m3</td>\n      <td>0.7010</td>\n    </tr>\n    <tr>\n      <th>5431</th>\n      <td>12009689687</td>\n      <td>2020-09-29</td>\n      <td>CAPL-THE-MISTRAL/P FIGUEIRETTE</td>\n      <td>COLONNE 3 m3</td>\n      <td>0.1842</td>\n    </tr>\n    <tr>\n      <th>5434</th>\n      <td>12009689690</td>\n      <td>2020-09-29</td>\n      <td>CAPL-THE-AV COTE D'AZUR/SNACK</td>\n      <td>COLONNE 3 m3</td>\n      <td>0.1842</td>\n    </tr>\n  </tbody>\n</table>\n</div>"
     },
     "metadata": {},
     "execution_count": 14
    }
   ],
   "source": [
    "data20[data20.duplicated(subset=data20.columns[1:])]"
   ]
  },
  {
   "cell_type": "code",
   "execution_count": 15,
   "metadata": {},
   "outputs": [],
   "source": [
    "# Réinitialisation de l'affichage des lignes\n",
    "pd.reset_option('display.max_rows')"
   ]
  },
  {
   "cell_type": "code",
   "execution_count": 16,
   "metadata": {},
   "outputs": [
    {
     "output_type": "execute_result",
     "data": {
      "text/plain": [
       "     Prestation Date de réalisation          Lieu de Collecte  \\\n",
       "53  12001058279          2020-01-03  CAPL-CNT-MONT JOLI/STADE   \n",
       "54  12001058278          2020-01-03  CAPL-CNT-MONT JOLI/STADE   \n",
       "\n",
       "                 Matériel   Poids  \n",
       "53  COLONNE ENTERREE 4 m3  0.8975  \n",
       "54  COLONNE ENTERREE 4 m3  0.8975  "
      ],
      "text/html": "<div>\n<style scoped>\n    .dataframe tbody tr th:only-of-type {\n        vertical-align: middle;\n    }\n\n    .dataframe tbody tr th {\n        vertical-align: top;\n    }\n\n    .dataframe thead th {\n        text-align: right;\n    }\n</style>\n<table border=\"1\" class=\"dataframe\">\n  <thead>\n    <tr style=\"text-align: right;\">\n      <th></th>\n      <th>Prestation</th>\n      <th>Date de réalisation</th>\n      <th>Lieu de Collecte</th>\n      <th>Matériel</th>\n      <th>Poids</th>\n    </tr>\n  </thead>\n  <tbody>\n    <tr>\n      <th>53</th>\n      <td>12001058279</td>\n      <td>2020-01-03</td>\n      <td>CAPL-CNT-MONT JOLI/STADE</td>\n      <td>COLONNE ENTERREE 4 m3</td>\n      <td>0.8975</td>\n    </tr>\n    <tr>\n      <th>54</th>\n      <td>12001058278</td>\n      <td>2020-01-03</td>\n      <td>CAPL-CNT-MONT JOLI/STADE</td>\n      <td>COLONNE ENTERREE 4 m3</td>\n      <td>0.8975</td>\n    </tr>\n  </tbody>\n</table>\n</div>"
     },
     "metadata": {},
     "execution_count": 16
    }
   ],
   "source": [
    "# Exemple de doublon\n",
    "data20[(data20[\"Date de réalisation\"] == \"2020-01-03\") & (data20[\"Lieu de Collecte\"] == \"CAPL-CNT-MONT JOLI/STADE\")]\n"
   ]
  },
  {
   "source": [
    "## Suppression des doublons"
   ],
   "cell_type": "markdown",
   "metadata": {}
  },
  {
   "cell_type": "code",
   "execution_count": 17,
   "metadata": {},
   "outputs": [
    {
     "output_type": "execute_result",
     "data": {
      "text/plain": [
       "      Collecte Contenant                      Adresse      Ville  Année  \\\n",
       "0          PAV   CNT135V        CHEMIN DES BREGUIERES  LE CANNET   2017   \n",
       "1          PAV   CNT005V            RUE DES MOULIERES  LE CANNET   2017   \n",
       "2          PAV   CNT165V              AVENUE DU REPOS  LE CANNET   2017   \n",
       "3          PAV   CNT115V             RUE DES ORANGERS  LE CANNET   2017   \n",
       "4          PAV   CNT150V         BOULEVARD D'OLIVETUM  LE CANNET   2017   \n",
       "...        ...       ...                          ...        ...    ...   \n",
       "24755      PAV   CAN013V          ALLEE DE LA LIBERTE     CANNES   2019   \n",
       "24756      PAV   CAN017V               AVENUE LAUGIER     CANNES   2019   \n",
       "24757      PAV   CAN152V           AVENUE ISOLA BELLA     CANNES   2019   \n",
       "24758      PAV   CAN159V  55 AVENUE DU ROI ALBERT 1ER     CANNES   2019   \n",
       "24759      PAV   CAN175V              RUE FELIX FAURE     CANNES   2019   \n",
       "\n",
       "           MOIS  SEMAINE      date      heure  Taux  Poids Kg  \n",
       "0       Janvier        1 2017-01-05  06:32:09     2       500  \n",
       "1       Janvier        1 2017-01-05  06:38:41     2       420  \n",
       "2       Janvier        1 2017-01-05  06:44:56     1       210  \n",
       "3       Janvier        1 2017-01-05  06:48:51     2       450  \n",
       "4       Janvier        1 2017-01-05  06:54:58     3       730  \n",
       "...         ...      ...        ...       ...   ...       ...  \n",
       "24755  Novembre       47 2019-11-22  09:04:01     1       250  \n",
       "24756  Novembre       47 2019-11-22  09:10:11     2       450  \n",
       "24757  Novembre       47 2019-11-22  07:10:00     4       970  \n",
       "24758  Novembre       47 2019-11-22  08:13:47     1       230  \n",
       "24759  Novembre       47 2019-11-22  08:53:39     1       280  \n",
       "\n",
       "[24760 rows x 11 columns]"
      ],
      "text/html": "<div>\n<style scoped>\n    .dataframe tbody tr th:only-of-type {\n        vertical-align: middle;\n    }\n\n    .dataframe tbody tr th {\n        vertical-align: top;\n    }\n\n    .dataframe thead th {\n        text-align: right;\n    }\n</style>\n<table border=\"1\" class=\"dataframe\">\n  <thead>\n    <tr style=\"text-align: right;\">\n      <th></th>\n      <th>Collecte</th>\n      <th>Contenant</th>\n      <th>Adresse</th>\n      <th>Ville</th>\n      <th>Année</th>\n      <th>MOIS</th>\n      <th>SEMAINE</th>\n      <th>date</th>\n      <th>heure</th>\n      <th>Taux</th>\n      <th>Poids Kg</th>\n    </tr>\n  </thead>\n  <tbody>\n    <tr>\n      <th>0</th>\n      <td>PAV</td>\n      <td>CNT135V</td>\n      <td>CHEMIN DES BREGUIERES</td>\n      <td>LE CANNET</td>\n      <td>2017</td>\n      <td>Janvier</td>\n      <td>1</td>\n      <td>2017-01-05</td>\n      <td>06:32:09</td>\n      <td>2</td>\n      <td>500</td>\n    </tr>\n    <tr>\n      <th>1</th>\n      <td>PAV</td>\n      <td>CNT005V</td>\n      <td>RUE DES MOULIERES</td>\n      <td>LE CANNET</td>\n      <td>2017</td>\n      <td>Janvier</td>\n      <td>1</td>\n      <td>2017-01-05</td>\n      <td>06:38:41</td>\n      <td>2</td>\n      <td>420</td>\n    </tr>\n    <tr>\n      <th>2</th>\n      <td>PAV</td>\n      <td>CNT165V</td>\n      <td>AVENUE DU REPOS</td>\n      <td>LE CANNET</td>\n      <td>2017</td>\n      <td>Janvier</td>\n      <td>1</td>\n      <td>2017-01-05</td>\n      <td>06:44:56</td>\n      <td>1</td>\n      <td>210</td>\n    </tr>\n    <tr>\n      <th>3</th>\n      <td>PAV</td>\n      <td>CNT115V</td>\n      <td>RUE DES ORANGERS</td>\n      <td>LE CANNET</td>\n      <td>2017</td>\n      <td>Janvier</td>\n      <td>1</td>\n      <td>2017-01-05</td>\n      <td>06:48:51</td>\n      <td>2</td>\n      <td>450</td>\n    </tr>\n    <tr>\n      <th>4</th>\n      <td>PAV</td>\n      <td>CNT150V</td>\n      <td>BOULEVARD D'OLIVETUM</td>\n      <td>LE CANNET</td>\n      <td>2017</td>\n      <td>Janvier</td>\n      <td>1</td>\n      <td>2017-01-05</td>\n      <td>06:54:58</td>\n      <td>3</td>\n      <td>730</td>\n    </tr>\n    <tr>\n      <th>...</th>\n      <td>...</td>\n      <td>...</td>\n      <td>...</td>\n      <td>...</td>\n      <td>...</td>\n      <td>...</td>\n      <td>...</td>\n      <td>...</td>\n      <td>...</td>\n      <td>...</td>\n      <td>...</td>\n    </tr>\n    <tr>\n      <th>24755</th>\n      <td>PAV</td>\n      <td>CAN013V</td>\n      <td>ALLEE DE LA LIBERTE</td>\n      <td>CANNES</td>\n      <td>2019</td>\n      <td>Novembre</td>\n      <td>47</td>\n      <td>2019-11-22</td>\n      <td>09:04:01</td>\n      <td>1</td>\n      <td>250</td>\n    </tr>\n    <tr>\n      <th>24756</th>\n      <td>PAV</td>\n      <td>CAN017V</td>\n      <td>AVENUE LAUGIER</td>\n      <td>CANNES</td>\n      <td>2019</td>\n      <td>Novembre</td>\n      <td>47</td>\n      <td>2019-11-22</td>\n      <td>09:10:11</td>\n      <td>2</td>\n      <td>450</td>\n    </tr>\n    <tr>\n      <th>24757</th>\n      <td>PAV</td>\n      <td>CAN152V</td>\n      <td>AVENUE ISOLA BELLA</td>\n      <td>CANNES</td>\n      <td>2019</td>\n      <td>Novembre</td>\n      <td>47</td>\n      <td>2019-11-22</td>\n      <td>07:10:00</td>\n      <td>4</td>\n      <td>970</td>\n    </tr>\n    <tr>\n      <th>24758</th>\n      <td>PAV</td>\n      <td>CAN159V</td>\n      <td>55 AVENUE DU ROI ALBERT 1ER</td>\n      <td>CANNES</td>\n      <td>2019</td>\n      <td>Novembre</td>\n      <td>47</td>\n      <td>2019-11-22</td>\n      <td>08:13:47</td>\n      <td>1</td>\n      <td>230</td>\n    </tr>\n    <tr>\n      <th>24759</th>\n      <td>PAV</td>\n      <td>CAN175V</td>\n      <td>RUE FELIX FAURE</td>\n      <td>CANNES</td>\n      <td>2019</td>\n      <td>Novembre</td>\n      <td>47</td>\n      <td>2019-11-22</td>\n      <td>08:53:39</td>\n      <td>1</td>\n      <td>280</td>\n    </tr>\n  </tbody>\n</table>\n<p>24760 rows × 11 columns</p>\n</div>"
     },
     "metadata": {},
     "execution_count": 17
    }
   ],
   "source": [
    "data171819"
   ]
  },
  {
   "cell_type": "code",
   "execution_count": 18,
   "metadata": {},
   "outputs": [
    {
     "output_type": "execute_result",
     "data": {
      "text/plain": [
       "      Collecte Contenant                      Adresse      Ville  Année  \\\n",
       "0          PAV   CNT135V        CHEMIN DES BREGUIERES  LE CANNET   2017   \n",
       "1          PAV   CNT005V            RUE DES MOULIERES  LE CANNET   2017   \n",
       "2          PAV   CNT165V              AVENUE DU REPOS  LE CANNET   2017   \n",
       "3          PAV   CNT115V             RUE DES ORANGERS  LE CANNET   2017   \n",
       "4          PAV   CNT150V         BOULEVARD D'OLIVETUM  LE CANNET   2017   \n",
       "...        ...       ...                          ...        ...    ...   \n",
       "24755      PAV   CAN013V          ALLEE DE LA LIBERTE     CANNES   2019   \n",
       "24756      PAV   CAN017V               AVENUE LAUGIER     CANNES   2019   \n",
       "24757      PAV   CAN152V           AVENUE ISOLA BELLA     CANNES   2019   \n",
       "24758      PAV   CAN159V  55 AVENUE DU ROI ALBERT 1ER     CANNES   2019   \n",
       "24759      PAV   CAN175V              RUE FELIX FAURE     CANNES   2019   \n",
       "\n",
       "           MOIS  SEMAINE      date      heure  Taux  Poids Kg  \n",
       "0       Janvier        1 2017-01-05  06:32:09     2       500  \n",
       "1       Janvier        1 2017-01-05  06:38:41     2       420  \n",
       "2       Janvier        1 2017-01-05  06:44:56     1       210  \n",
       "3       Janvier        1 2017-01-05  06:48:51     2       450  \n",
       "4       Janvier        1 2017-01-05  06:54:58     3       730  \n",
       "...         ...      ...        ...       ...   ...       ...  \n",
       "24755  Novembre       47 2019-11-22  09:04:01     1       250  \n",
       "24756  Novembre       47 2019-11-22  09:10:11     2       450  \n",
       "24757  Novembre       47 2019-11-22  07:10:00     4       970  \n",
       "24758  Novembre       47 2019-11-22  08:13:47     1       230  \n",
       "24759  Novembre       47 2019-11-22  08:53:39     1       280  \n",
       "\n",
       "[24759 rows x 11 columns]"
      ],
      "text/html": "<div>\n<style scoped>\n    .dataframe tbody tr th:only-of-type {\n        vertical-align: middle;\n    }\n\n    .dataframe tbody tr th {\n        vertical-align: top;\n    }\n\n    .dataframe thead th {\n        text-align: right;\n    }\n</style>\n<table border=\"1\" class=\"dataframe\">\n  <thead>\n    <tr style=\"text-align: right;\">\n      <th></th>\n      <th>Collecte</th>\n      <th>Contenant</th>\n      <th>Adresse</th>\n      <th>Ville</th>\n      <th>Année</th>\n      <th>MOIS</th>\n      <th>SEMAINE</th>\n      <th>date</th>\n      <th>heure</th>\n      <th>Taux</th>\n      <th>Poids Kg</th>\n    </tr>\n  </thead>\n  <tbody>\n    <tr>\n      <th>0</th>\n      <td>PAV</td>\n      <td>CNT135V</td>\n      <td>CHEMIN DES BREGUIERES</td>\n      <td>LE CANNET</td>\n      <td>2017</td>\n      <td>Janvier</td>\n      <td>1</td>\n      <td>2017-01-05</td>\n      <td>06:32:09</td>\n      <td>2</td>\n      <td>500</td>\n    </tr>\n    <tr>\n      <th>1</th>\n      <td>PAV</td>\n      <td>CNT005V</td>\n      <td>RUE DES MOULIERES</td>\n      <td>LE CANNET</td>\n      <td>2017</td>\n      <td>Janvier</td>\n      <td>1</td>\n      <td>2017-01-05</td>\n      <td>06:38:41</td>\n      <td>2</td>\n      <td>420</td>\n    </tr>\n    <tr>\n      <th>2</th>\n      <td>PAV</td>\n      <td>CNT165V</td>\n      <td>AVENUE DU REPOS</td>\n      <td>LE CANNET</td>\n      <td>2017</td>\n      <td>Janvier</td>\n      <td>1</td>\n      <td>2017-01-05</td>\n      <td>06:44:56</td>\n      <td>1</td>\n      <td>210</td>\n    </tr>\n    <tr>\n      <th>3</th>\n      <td>PAV</td>\n      <td>CNT115V</td>\n      <td>RUE DES ORANGERS</td>\n      <td>LE CANNET</td>\n      <td>2017</td>\n      <td>Janvier</td>\n      <td>1</td>\n      <td>2017-01-05</td>\n      <td>06:48:51</td>\n      <td>2</td>\n      <td>450</td>\n    </tr>\n    <tr>\n      <th>4</th>\n      <td>PAV</td>\n      <td>CNT150V</td>\n      <td>BOULEVARD D'OLIVETUM</td>\n      <td>LE CANNET</td>\n      <td>2017</td>\n      <td>Janvier</td>\n      <td>1</td>\n      <td>2017-01-05</td>\n      <td>06:54:58</td>\n      <td>3</td>\n      <td>730</td>\n    </tr>\n    <tr>\n      <th>...</th>\n      <td>...</td>\n      <td>...</td>\n      <td>...</td>\n      <td>...</td>\n      <td>...</td>\n      <td>...</td>\n      <td>...</td>\n      <td>...</td>\n      <td>...</td>\n      <td>...</td>\n      <td>...</td>\n    </tr>\n    <tr>\n      <th>24755</th>\n      <td>PAV</td>\n      <td>CAN013V</td>\n      <td>ALLEE DE LA LIBERTE</td>\n      <td>CANNES</td>\n      <td>2019</td>\n      <td>Novembre</td>\n      <td>47</td>\n      <td>2019-11-22</td>\n      <td>09:04:01</td>\n      <td>1</td>\n      <td>250</td>\n    </tr>\n    <tr>\n      <th>24756</th>\n      <td>PAV</td>\n      <td>CAN017V</td>\n      <td>AVENUE LAUGIER</td>\n      <td>CANNES</td>\n      <td>2019</td>\n      <td>Novembre</td>\n      <td>47</td>\n      <td>2019-11-22</td>\n      <td>09:10:11</td>\n      <td>2</td>\n      <td>450</td>\n    </tr>\n    <tr>\n      <th>24757</th>\n      <td>PAV</td>\n      <td>CAN152V</td>\n      <td>AVENUE ISOLA BELLA</td>\n      <td>CANNES</td>\n      <td>2019</td>\n      <td>Novembre</td>\n      <td>47</td>\n      <td>2019-11-22</td>\n      <td>07:10:00</td>\n      <td>4</td>\n      <td>970</td>\n    </tr>\n    <tr>\n      <th>24758</th>\n      <td>PAV</td>\n      <td>CAN159V</td>\n      <td>55 AVENUE DU ROI ALBERT 1ER</td>\n      <td>CANNES</td>\n      <td>2019</td>\n      <td>Novembre</td>\n      <td>47</td>\n      <td>2019-11-22</td>\n      <td>08:13:47</td>\n      <td>1</td>\n      <td>230</td>\n    </tr>\n    <tr>\n      <th>24759</th>\n      <td>PAV</td>\n      <td>CAN175V</td>\n      <td>RUE FELIX FAURE</td>\n      <td>CANNES</td>\n      <td>2019</td>\n      <td>Novembre</td>\n      <td>47</td>\n      <td>2019-11-22</td>\n      <td>08:53:39</td>\n      <td>1</td>\n      <td>280</td>\n    </tr>\n  </tbody>\n</table>\n<p>24759 rows × 11 columns</p>\n</div>"
     },
     "metadata": {},
     "execution_count": 18
    }
   ],
   "source": [
    "data171819.drop_duplicates(inplace=True)\n",
    "data171819"
   ]
  },
  {
   "cell_type": "code",
   "execution_count": 19,
   "metadata": {},
   "outputs": [
    {
     "output_type": "execute_result",
     "data": {
      "text/plain": [
       "       Prestation Date de réalisation                 Lieu de Collecte  \\\n",
       "0     12001054939          2020-01-02              CAPL-CNT-VOIE JULIA   \n",
       "1     12001054940          2020-01-02  CAPL-CNT-BREGUIERES/FONT GALLOU   \n",
       "2     12001054941          2020-01-02      CAPL-CNT-AV ECOLES/ROTHMANS   \n",
       "3     12001054942          2020-01-02                CAPL-CAN-MERLETTE   \n",
       "4     12001054943          2020-01-02                CAPL-CAN-RIOU/HLM   \n",
       "...           ...                 ...                              ...   \n",
       "5471  12009697556          2020-09-30   CAPL-CAN-GOURGUETTES/RONDPOINT   \n",
       "5472  12009697557          2020-09-30   CAPL-CAN-GOURGUETTES/ARRET BUS   \n",
       "5473  12009697554          2020-09-30          CAPL-CAN-BALZAC/LECLERC   \n",
       "5474  12009697559          2020-09-30     CAPL-CAN-JOURDAN/ENTREE ANAS   \n",
       "5475  12009697558          2020-09-30        CAPL-CAN-JOURDAN/RANCHITO   \n",
       "\n",
       "                     Matériel   Poids  \n",
       "0              COLONNE K 3 m3  0.4360  \n",
       "1              COLONNE K 3 m3  0.4360  \n",
       "2              COLONNE K 3 m3  0.4360  \n",
       "3            COLONNE K 2,5 m3  0.5450  \n",
       "4              COLONNE K 4 m3  0.5814  \n",
       "...                       ...     ...  \n",
       "5471           COLONNE K 3 m3  0.1800  \n",
       "5472  COLONNE ENTERREE K 4 m3  0.2400  \n",
       "5473           COLONNE K 3 m3  0.3600  \n",
       "5474           COLONNE K 3 m3  0.1800  \n",
       "5475           COLONNE K 3 m3  0.1800  \n",
       "\n",
       "[5476 rows x 5 columns]"
      ],
      "text/html": "<div>\n<style scoped>\n    .dataframe tbody tr th:only-of-type {\n        vertical-align: middle;\n    }\n\n    .dataframe tbody tr th {\n        vertical-align: top;\n    }\n\n    .dataframe thead th {\n        text-align: right;\n    }\n</style>\n<table border=\"1\" class=\"dataframe\">\n  <thead>\n    <tr style=\"text-align: right;\">\n      <th></th>\n      <th>Prestation</th>\n      <th>Date de réalisation</th>\n      <th>Lieu de Collecte</th>\n      <th>Matériel</th>\n      <th>Poids</th>\n    </tr>\n  </thead>\n  <tbody>\n    <tr>\n      <th>0</th>\n      <td>12001054939</td>\n      <td>2020-01-02</td>\n      <td>CAPL-CNT-VOIE JULIA</td>\n      <td>COLONNE K 3 m3</td>\n      <td>0.4360</td>\n    </tr>\n    <tr>\n      <th>1</th>\n      <td>12001054940</td>\n      <td>2020-01-02</td>\n      <td>CAPL-CNT-BREGUIERES/FONT GALLOU</td>\n      <td>COLONNE K 3 m3</td>\n      <td>0.4360</td>\n    </tr>\n    <tr>\n      <th>2</th>\n      <td>12001054941</td>\n      <td>2020-01-02</td>\n      <td>CAPL-CNT-AV ECOLES/ROTHMANS</td>\n      <td>COLONNE K 3 m3</td>\n      <td>0.4360</td>\n    </tr>\n    <tr>\n      <th>3</th>\n      <td>12001054942</td>\n      <td>2020-01-02</td>\n      <td>CAPL-CAN-MERLETTE</td>\n      <td>COLONNE K 2,5 m3</td>\n      <td>0.5450</td>\n    </tr>\n    <tr>\n      <th>4</th>\n      <td>12001054943</td>\n      <td>2020-01-02</td>\n      <td>CAPL-CAN-RIOU/HLM</td>\n      <td>COLONNE K 4 m3</td>\n      <td>0.5814</td>\n    </tr>\n    <tr>\n      <th>...</th>\n      <td>...</td>\n      <td>...</td>\n      <td>...</td>\n      <td>...</td>\n      <td>...</td>\n    </tr>\n    <tr>\n      <th>5471</th>\n      <td>12009697556</td>\n      <td>2020-09-30</td>\n      <td>CAPL-CAN-GOURGUETTES/RONDPOINT</td>\n      <td>COLONNE K 3 m3</td>\n      <td>0.1800</td>\n    </tr>\n    <tr>\n      <th>5472</th>\n      <td>12009697557</td>\n      <td>2020-09-30</td>\n      <td>CAPL-CAN-GOURGUETTES/ARRET BUS</td>\n      <td>COLONNE ENTERREE K 4 m3</td>\n      <td>0.2400</td>\n    </tr>\n    <tr>\n      <th>5473</th>\n      <td>12009697554</td>\n      <td>2020-09-30</td>\n      <td>CAPL-CAN-BALZAC/LECLERC</td>\n      <td>COLONNE K 3 m3</td>\n      <td>0.3600</td>\n    </tr>\n    <tr>\n      <th>5474</th>\n      <td>12009697559</td>\n      <td>2020-09-30</td>\n      <td>CAPL-CAN-JOURDAN/ENTREE ANAS</td>\n      <td>COLONNE K 3 m3</td>\n      <td>0.1800</td>\n    </tr>\n    <tr>\n      <th>5475</th>\n      <td>12009697558</td>\n      <td>2020-09-30</td>\n      <td>CAPL-CAN-JOURDAN/RANCHITO</td>\n      <td>COLONNE K 3 m3</td>\n      <td>0.1800</td>\n    </tr>\n  </tbody>\n</table>\n<p>5476 rows × 5 columns</p>\n</div>"
     },
     "metadata": {},
     "execution_count": 19
    }
   ],
   "source": [
    "data20"
   ]
  },
  {
   "cell_type": "code",
   "execution_count": 20,
   "metadata": {},
   "outputs": [
    {
     "output_type": "execute_result",
     "data": {
      "text/plain": [
       "       Prestation Date de réalisation                 Lieu de Collecte  \\\n",
       "0     12001054939          2020-01-02              CAPL-CNT-VOIE JULIA   \n",
       "1     12001054940          2020-01-02  CAPL-CNT-BREGUIERES/FONT GALLOU   \n",
       "2     12001054941          2020-01-02      CAPL-CNT-AV ECOLES/ROTHMANS   \n",
       "3     12001054942          2020-01-02                CAPL-CAN-MERLETTE   \n",
       "4     12001054943          2020-01-02                CAPL-CAN-RIOU/HLM   \n",
       "...           ...                 ...                              ...   \n",
       "5471  12009697556          2020-09-30   CAPL-CAN-GOURGUETTES/RONDPOINT   \n",
       "5472  12009697557          2020-09-30   CAPL-CAN-GOURGUETTES/ARRET BUS   \n",
       "5473  12009697554          2020-09-30          CAPL-CAN-BALZAC/LECLERC   \n",
       "5474  12009697559          2020-09-30     CAPL-CAN-JOURDAN/ENTREE ANAS   \n",
       "5475  12009697558          2020-09-30        CAPL-CAN-JOURDAN/RANCHITO   \n",
       "\n",
       "                     Matériel   Poids  \n",
       "0              COLONNE K 3 m3  0.4360  \n",
       "1              COLONNE K 3 m3  0.4360  \n",
       "2              COLONNE K 3 m3  0.4360  \n",
       "3            COLONNE K 2,5 m3  0.5450  \n",
       "4              COLONNE K 4 m3  0.5814  \n",
       "...                       ...     ...  \n",
       "5471           COLONNE K 3 m3  0.1800  \n",
       "5472  COLONNE ENTERREE K 4 m3  0.2400  \n",
       "5473           COLONNE K 3 m3  0.3600  \n",
       "5474           COLONNE K 3 m3  0.1800  \n",
       "5475           COLONNE K 3 m3  0.1800  \n",
       "\n",
       "[5386 rows x 5 columns]"
      ],
      "text/html": "<div>\n<style scoped>\n    .dataframe tbody tr th:only-of-type {\n        vertical-align: middle;\n    }\n\n    .dataframe tbody tr th {\n        vertical-align: top;\n    }\n\n    .dataframe thead th {\n        text-align: right;\n    }\n</style>\n<table border=\"1\" class=\"dataframe\">\n  <thead>\n    <tr style=\"text-align: right;\">\n      <th></th>\n      <th>Prestation</th>\n      <th>Date de réalisation</th>\n      <th>Lieu de Collecte</th>\n      <th>Matériel</th>\n      <th>Poids</th>\n    </tr>\n  </thead>\n  <tbody>\n    <tr>\n      <th>0</th>\n      <td>12001054939</td>\n      <td>2020-01-02</td>\n      <td>CAPL-CNT-VOIE JULIA</td>\n      <td>COLONNE K 3 m3</td>\n      <td>0.4360</td>\n    </tr>\n    <tr>\n      <th>1</th>\n      <td>12001054940</td>\n      <td>2020-01-02</td>\n      <td>CAPL-CNT-BREGUIERES/FONT GALLOU</td>\n      <td>COLONNE K 3 m3</td>\n      <td>0.4360</td>\n    </tr>\n    <tr>\n      <th>2</th>\n      <td>12001054941</td>\n      <td>2020-01-02</td>\n      <td>CAPL-CNT-AV ECOLES/ROTHMANS</td>\n      <td>COLONNE K 3 m3</td>\n      <td>0.4360</td>\n    </tr>\n    <tr>\n      <th>3</th>\n      <td>12001054942</td>\n      <td>2020-01-02</td>\n      <td>CAPL-CAN-MERLETTE</td>\n      <td>COLONNE K 2,5 m3</td>\n      <td>0.5450</td>\n    </tr>\n    <tr>\n      <th>4</th>\n      <td>12001054943</td>\n      <td>2020-01-02</td>\n      <td>CAPL-CAN-RIOU/HLM</td>\n      <td>COLONNE K 4 m3</td>\n      <td>0.5814</td>\n    </tr>\n    <tr>\n      <th>...</th>\n      <td>...</td>\n      <td>...</td>\n      <td>...</td>\n      <td>...</td>\n      <td>...</td>\n    </tr>\n    <tr>\n      <th>5471</th>\n      <td>12009697556</td>\n      <td>2020-09-30</td>\n      <td>CAPL-CAN-GOURGUETTES/RONDPOINT</td>\n      <td>COLONNE K 3 m3</td>\n      <td>0.1800</td>\n    </tr>\n    <tr>\n      <th>5472</th>\n      <td>12009697557</td>\n      <td>2020-09-30</td>\n      <td>CAPL-CAN-GOURGUETTES/ARRET BUS</td>\n      <td>COLONNE ENTERREE K 4 m3</td>\n      <td>0.2400</td>\n    </tr>\n    <tr>\n      <th>5473</th>\n      <td>12009697554</td>\n      <td>2020-09-30</td>\n      <td>CAPL-CAN-BALZAC/LECLERC</td>\n      <td>COLONNE K 3 m3</td>\n      <td>0.3600</td>\n    </tr>\n    <tr>\n      <th>5474</th>\n      <td>12009697559</td>\n      <td>2020-09-30</td>\n      <td>CAPL-CAN-JOURDAN/ENTREE ANAS</td>\n      <td>COLONNE K 3 m3</td>\n      <td>0.1800</td>\n    </tr>\n    <tr>\n      <th>5475</th>\n      <td>12009697558</td>\n      <td>2020-09-30</td>\n      <td>CAPL-CAN-JOURDAN/RANCHITO</td>\n      <td>COLONNE K 3 m3</td>\n      <td>0.1800</td>\n    </tr>\n  </tbody>\n</table>\n<p>5386 rows × 5 columns</p>\n</div>"
     },
     "metadata": {},
     "execution_count": 20
    }
   ],
   "source": [
    "data20.drop_duplicates(subset=data20.columns[1:], inplace=True)\n",
    "data20"
   ]
  },
  {
   "source": [
    "## Notes générales"
   ],
   "cell_type": "markdown",
   "metadata": {}
  },
  {
   "source": [
    "Il n'y a que des PAV comme type de collecteurs de 2017 à 2019"
   ],
   "cell_type": "markdown",
   "metadata": {}
  },
  {
   "cell_type": "code",
   "execution_count": 21,
   "metadata": {},
   "outputs": [
    {
     "output_type": "execute_result",
     "data": {
      "text/plain": [
       "PAV    24759\n",
       "Name: Collecte, dtype: int64"
      ]
     },
     "metadata": {},
     "execution_count": 21
    }
   ],
   "source": [
    "data171819[\"Collecte\"].value_counts()"
   ]
  },
  {
   "source": [
    "La collecte semble équivalente au fil des années même si une baisse est à noter\n",
    "\n",
    "Ces impressions restent à confirmer sachant que les collectes de décembre 2019 sont manquantes et celles d'octobre à décembre 2020 à venir"
   ],
   "cell_type": "markdown",
   "metadata": {}
  },
  {
   "cell_type": "code",
   "execution_count": 22,
   "metadata": {},
   "outputs": [
    {
     "output_type": "execute_result",
     "data": {
      "text/plain": [
       "2018    8935\n",
       "2017    8902\n",
       "2019    6922\n",
       "Name: Année, dtype: int64"
      ]
     },
     "metadata": {},
     "execution_count": 22
    }
   ],
   "source": [
    "data171819[\"Année\"].value_counts()"
   ]
  },
  {
   "cell_type": "code",
   "execution_count": 23,
   "metadata": {},
   "outputs": [
    {
     "output_type": "execute_result",
     "data": {
      "text/plain": [
       "2020    5386\n",
       "Name: Date de réalisation, dtype: int64"
      ]
     },
     "metadata": {},
     "execution_count": 23
    }
   ],
   "source": [
    "data20[\"Date de réalisation\"].dt.year.value_counts()"
   ]
  },
  {
   "source": [
    "Sur l'ensemble de la période 2017-2019, les collectes sont plus fréquentes en été (surtout Juillet et Août) et bien moins en Novembre et Février\n",
    "\n",
    "La mois de décembre est difficilement interprétable (du fait de l'absence de décembre 2019) et ne permet pas d'étendre l'interprétation sur l'apprente baisse des collectes pour l'hiver "
   ],
   "cell_type": "markdown",
   "metadata": {}
  },
  {
   "cell_type": "code",
   "execution_count": 24,
   "metadata": {},
   "outputs": [
    {
     "output_type": "execute_result",
     "data": {
      "text/plain": [
       "Mai          2427\n",
       "Août         2342\n",
       "Juillet      2308\n",
       "Janvier      2230\n",
       "Octobre      2200\n",
       "Septembre    2069\n",
       "Juin         2063\n",
       "Mars         2050\n",
       "Avril        2001\n",
       "Février      1900\n",
       "Novembre     1758\n",
       "Décembre     1411\n",
       "Name: MOIS, dtype: int64"
      ]
     },
     "metadata": {},
     "execution_count": 24
    }
   ],
   "source": [
    "data171819[\"MOIS\"].value_counts()"
   ]
  },
  {
   "source": [
    "Sous réserve des mois à venir, les observations sont similaires à l'exception du mois de Mai (justifié probablement par la situation vis-à-vis du COVID)"
   ],
   "cell_type": "markdown",
   "metadata": {}
  },
  {
   "cell_type": "code",
   "execution_count": 25,
   "metadata": {},
   "outputs": [
    {
     "output_type": "execute_result",
     "data": {
      "text/plain": [
       "7    702\n",
       "8    675\n",
       "9    673\n",
       "1    613\n",
       "3    569\n",
       "6    562\n",
       "2    552\n",
       "5    520\n",
       "4    520\n",
       "Name: Date de réalisation, dtype: int64"
      ]
     },
     "metadata": {},
     "execution_count": 25
    }
   ],
   "source": [
    "data20[\"Date de réalisation\"].dt.month.value_counts()"
   ]
  },
  {
   "source": [
    "De nombreuses collectes n'ont certainement pas l'heure précisée (vu le nombre d'occurences pour l'heure par défaut 00:00:00)"
   ],
   "cell_type": "markdown",
   "metadata": {}
  },
  {
   "cell_type": "code",
   "execution_count": 26,
   "metadata": {},
   "outputs": [
    {
     "output_type": "execute_result",
     "data": {
      "text/plain": [
       "00:00:00    1487\n",
       "10:41:00      24\n",
       "07:12:00      22\n",
       "07:10:00      21\n",
       "07:22:00      21\n",
       "            ... \n",
       "08:06:18       1\n",
       "06:43:09       1\n",
       "08:42:41       1\n",
       "09:25:03       1\n",
       "11:11:51       1\n",
       "Name: heure, Length: 13519, dtype: int64"
      ]
     },
     "metadata": {},
     "execution_count": 26
    }
   ],
   "source": [
    "data171819[\"heure\"].value_counts()"
   ]
  },
  {
   "source": [
    "Le nombre de collectes est bien plus important à Cannes que dans les autres villes de l'agglomération et bien moins à Théoule-sur-Mer"
   ],
   "cell_type": "markdown",
   "metadata": {}
  },
  {
   "cell_type": "code",
   "execution_count": 27,
   "metadata": {},
   "outputs": [
    {
     "output_type": "execute_result",
     "data": {
      "text/plain": [
       "CANNES                  14451\n",
       "MANDELIEU-LA-NAPOULE     4027\n",
       "LE CANNET                3539\n",
       "MOUGINS                  2122\n",
       "THÉOULE-SUR-MER           620\n",
       "Name: Ville, dtype: int64"
      ]
     },
     "metadata": {},
     "execution_count": 27
    }
   ],
   "source": [
    "data171819[\"Ville\"].value_counts()"
   ]
  },
  {
   "source": [
    "Cannes détient beaucoup plus de collecteurs de verre (et effectue bien plus de collectes) que les autres villes de l'agglomération sur toute la péridoe 2017-2020"
   ],
   "cell_type": "markdown",
   "metadata": {}
  },
  {
   "cell_type": "code",
   "execution_count": 28,
   "metadata": {},
   "outputs": [
    {
     "output_type": "execute_result",
     "data": {
      "text/plain": [
       "CAN013V     516\n",
       "CAN026V     503\n",
       "CAN027V     400\n",
       "CAN089V     385\n",
       "CAN137V     362\n",
       "           ... \n",
       "CNT310V       1\n",
       "CAN102V       1\n",
       "CNT335V       1\n",
       "CAN173V       1\n",
       "CAN157 V      1\n",
       "Name: Contenant, Length: 287, dtype: int64"
      ]
     },
     "metadata": {},
     "execution_count": 28
    }
   ],
   "source": [
    "data171819[\"Contenant\"].value_counts()"
   ]
  },
  {
   "cell_type": "code",
   "execution_count": 29,
   "metadata": {},
   "outputs": [],
   "source": [
    "dictVilles = { \"CAN\": \"Cannes\", \"CNT\": \"Le Cannet\", \"MAN\": \"Mandelieu-la-Napoule\", \"MOU\": \"Mougins\", \"THE\": \"Théoule-sur-Mer\"}"
   ]
  },
  {
   "cell_type": "code",
   "execution_count": 30,
   "metadata": {},
   "outputs": [
    {
     "output_type": "stream",
     "name": "stdout",
     "text": [
      "Cannes présente 14451 collectes avec 159 collecteurs différents\nLe Cannet présente 3539 collectes avec 50 collecteurs différents\nMandelieu-la-Napoule présente 4027 collectes avec 50 collecteurs différents\nMougins présente 2122 collectes avec 20 collecteurs différents\nThéoule-sur-Mer présente 620 collectes avec 8 collecteurs différents\n"
     ]
    }
   ],
   "source": [
    "nbContenantsVille = [0] * len(dictVilles)\n",
    "nbContenantsDifferentsVille = [0] * len(dictVilles)\n",
    "\n",
    "for contenant, value in data171819[\"Contenant\"].value_counts().items():\n",
    "    for j, abbr in enumerate(dictVilles.keys()):\n",
    "        if abbr in contenant:\n",
    "            nbContenantsVille[j] += value\n",
    "            nbContenantsDifferentsVille[j] += 1\n",
    "\n",
    "for i, abbr in enumerate(dictVilles.keys()):\n",
    "    print(dictVilles[abbr] + \" présente \" + str(nbContenantsVille[i]) + \" collectes avec \" + str(nbContenantsDifferentsVille[i]) + \" collecteurs différents\")\n",
    "\n",
    "# Pour obtenir seulement le nombre de collectes par ville\n",
    "#data171819[\"Ville\"].value_counts()"
   ]
  },
  {
   "cell_type": "code",
   "execution_count": 31,
   "metadata": {},
   "outputs": [
    {
     "output_type": "stream",
     "name": "stdout",
     "text": [
      "Cannes présente 2947 collectes avec 155 collecteurs différents\nLe Cannet présente 885 collectes avec 45 collecteurs différents\nMandelieu-la-Napoule présente 875 collectes avec 46 collecteurs différents\nMougins présente 533 collectes avec 19 collecteurs différents\nThéoule-sur-Mer présente 146 collectes avec 8 collecteurs différents\n"
     ]
    }
   ],
   "source": [
    "nbContenantsVille = [0] * len(dictVilles)\n",
    "nbContenantsDifferentsVille = [0] * len(dictVilles)\n",
    "\n",
    "for contenant, value in data20[\"Lieu de Collecte\"].value_counts().items():\n",
    "    for j, abbr in enumerate(dictVilles.keys()):\n",
    "        prefixe = \"CAPL-\" + abbr # Pour éviter le cas où l'abbréviation de la ville (de 3 lettres) est dans l'adresse\n",
    "        if prefixe in contenant:\n",
    "            nbContenantsVille[j] += value\n",
    "            nbContenantsDifferentsVille[j] += 1\n",
    "\n",
    "for i, abbr in enumerate(dictVilles.keys()):\n",
    "    print(dictVilles[abbr] + \" présente \" + str(nbContenantsVille[i]) + \" collectes avec \" + str(nbContenantsDifferentsVille[i]) + \" collecteurs différents\")"
   ]
  },
  {
   "source": [
    "# Base de données cliiink\n",
    "![cliiink.png](../../bdd/cliiink.png)"
   ],
   "cell_type": "markdown",
   "metadata": {}
  },
  {
   "source": [
    "# Nettoyage des jeux de données"
   ],
   "cell_type": "markdown",
   "metadata": {}
  },
  {
   "source": [
    "## Détection d'éventuelles anomalies"
   ],
   "cell_type": "markdown",
   "metadata": {}
  },
  {
   "cell_type": "code",
   "execution_count": 32,
   "metadata": {},
   "outputs": [
    {
     "output_type": "stream",
     "name": "stdout",
     "text": [
      "Collecte\nContenant\nAdresse\nVille\nAnnée\nMOIS\nSEMAINE\ndate \nheure\nTaux\nPoids Kg\n"
     ]
    }
   ],
   "source": [
    "# Pour voir les vrais noms des colonnes (avec les espaces)\n",
    "for col in data171819.columns: \n",
    "    print(col) "
   ]
  },
  {
   "source": [
    "Vérification pour data171819 que Année et MOIS correspondent bien à date"
   ],
   "cell_type": "markdown",
   "metadata": {}
  },
  {
   "cell_type": "code",
   "execution_count": 33,
   "metadata": {
    "tags": []
   },
   "outputs": [
    {
     "output_type": "execute_result",
     "data": {
      "text/plain": [
       "Empty DataFrame\n",
       "Columns: [Collecte, Contenant, Adresse, Ville, Année, MOIS, SEMAINE, date , heure, Taux, Poids Kg]\n",
       "Index: []"
      ],
      "text/html": "<div>\n<style scoped>\n    .dataframe tbody tr th:only-of-type {\n        vertical-align: middle;\n    }\n\n    .dataframe tbody tr th {\n        vertical-align: top;\n    }\n\n    .dataframe thead th {\n        text-align: right;\n    }\n</style>\n<table border=\"1\" class=\"dataframe\">\n  <thead>\n    <tr style=\"text-align: right;\">\n      <th></th>\n      <th>Collecte</th>\n      <th>Contenant</th>\n      <th>Adresse</th>\n      <th>Ville</th>\n      <th>Année</th>\n      <th>MOIS</th>\n      <th>SEMAINE</th>\n      <th>date</th>\n      <th>heure</th>\n      <th>Taux</th>\n      <th>Poids Kg</th>\n    </tr>\n  </thead>\n  <tbody>\n  </tbody>\n</table>\n</div>"
     },
     "metadata": {},
     "execution_count": 33
    }
   ],
   "source": [
    "#data171819[(data171819[\"date \"].dt.year == data171819[\"Année\"]) & (data171819[\"date \"].dt.month == data171819[\"MOIS\"])]\n",
    "data171819[data171819[\"date \"].dt.year != data171819[\"Année\"]]"
   ]
  },
  {
   "cell_type": "code",
   "execution_count": 34,
   "metadata": {
    "tags": []
   },
   "outputs": [
    {
     "output_type": "stream",
     "name": "stdout",
     "text": [
      "---\n",
      "19884\n",
      "4\n",
      "5\n",
      "---\n",
      "19885\n",
      "4\n",
      "5\n",
      "---\n",
      "19891\n",
      "4\n",
      "5\n",
      "---\n",
      "19892\n",
      "4\n",
      "5\n",
      "---\n",
      "19972\n",
      "4\n",
      "5\n",
      "---\n",
      "19974\n",
      "4\n",
      "5\n",
      "---\n",
      "19975\n",
      "4\n",
      "5\n",
      "---\n",
      "19977\n",
      "4\n",
      "5\n",
      "---\n",
      "19981\n",
      "4\n",
      "5\n",
      "---\n",
      "19989\n",
      "4\n",
      "5\n",
      "---\n",
      "20034\n",
      "4\n",
      "5\n",
      "---\n",
      "20035\n",
      "4\n",
      "5\n",
      "---\n",
      "20038\n",
      "4\n",
      "5\n",
      "---\n",
      "20039\n",
      "4\n",
      "5\n",
      "---\n",
      "20040\n",
      "4\n",
      "5\n",
      "---\n",
      "20079\n",
      "4\n",
      "5\n",
      "---\n",
      "20081\n",
      "4\n",
      "5\n",
      "---\n",
      "20084\n",
      "4\n",
      "5\n",
      "---\n",
      "20085\n",
      "4\n",
      "5\n",
      "---\n",
      "20086\n",
      "4\n",
      "5\n",
      "---\n",
      "20087\n",
      "4\n",
      "5\n",
      "---\n",
      "20141\n",
      "4\n",
      "5\n",
      "---\n",
      "20142\n",
      "4\n",
      "5\n",
      "---\n",
      "20143\n",
      "4\n",
      "5\n",
      "---\n",
      "20146\n",
      "4\n",
      "5\n",
      "---\n",
      "20153\n",
      "4\n",
      "5\n",
      "---\n",
      "20154\n",
      "4\n",
      "5\n"
     ]
    }
   ],
   "source": [
    "#data171819[data171819[\"date \"].dt.year == data171819[\"Année\"]]\n",
    "moisFrancais = [\"Janvier\", \"Février\", \"Mars\", \"Avril\", \"Mai\", \"Juin\", \"Juillet\", \"Août\", \"Septembre\", \"Octobre\", \"Novembre\", \"Décembre\"]\n",
    "\n",
    "for i in data171819.index:\n",
    "    if (moisFrancais.index(data171819.loc[i, \"MOIS\"])+1 != data171819[\"date \"].dt.month.loc[i]):\n",
    "        print(\"---\")\n",
    "        print(i)\n",
    "        print(moisFrancais.index(data171819.loc[i, \"MOIS\"])+1)\n",
    "        print(data171819[\"date \"].dt.month.iloc[i])\n"
   ]
  },
  {
   "cell_type": "code",
   "execution_count": 35,
   "metadata": {},
   "outputs": [
    {
     "output_type": "execute_result",
     "data": {
      "text/plain": [
       "      Collecte Contenant                Adresse   Ville  Année   MOIS  \\\n",
       "19884      PAV   CAN034V  AVENUE FRANCIS TONNER  CANNES   2019  Avril   \n",
       "\n",
       "       SEMAINE      date      heure  Taux  Poids Kg  \n",
       "19884       18 2019-05-02  07:55:24     2       520  "
      ],
      "text/html": "<div>\n<style scoped>\n    .dataframe tbody tr th:only-of-type {\n        vertical-align: middle;\n    }\n\n    .dataframe tbody tr th {\n        vertical-align: top;\n    }\n\n    .dataframe thead th {\n        text-align: right;\n    }\n</style>\n<table border=\"1\" class=\"dataframe\">\n  <thead>\n    <tr style=\"text-align: right;\">\n      <th></th>\n      <th>Collecte</th>\n      <th>Contenant</th>\n      <th>Adresse</th>\n      <th>Ville</th>\n      <th>Année</th>\n      <th>MOIS</th>\n      <th>SEMAINE</th>\n      <th>date</th>\n      <th>heure</th>\n      <th>Taux</th>\n      <th>Poids Kg</th>\n    </tr>\n  </thead>\n  <tbody>\n    <tr>\n      <th>19884</th>\n      <td>PAV</td>\n      <td>CAN034V</td>\n      <td>AVENUE FRANCIS TONNER</td>\n      <td>CANNES</td>\n      <td>2019</td>\n      <td>Avril</td>\n      <td>18</td>\n      <td>2019-05-02</td>\n      <td>07:55:24</td>\n      <td>2</td>\n      <td>520</td>\n    </tr>\n  </tbody>\n</table>\n</div>"
     },
     "metadata": {},
     "execution_count": 35
    }
   ],
   "source": [
    "# Exemple \n",
    "# la semaine commence en avril et finit en mai d'où la différence\n",
    "# Seule la date stricte sera considérée\n",
    "data171819.loc[[19884]]"
   ]
  },
  {
   "cell_type": "code",
   "execution_count": 36,
   "metadata": {},
   "outputs": [
    {
     "output_type": "execute_result",
     "data": {
      "text/plain": [
       "240"
      ]
     },
     "metadata": {},
     "execution_count": 36
    }
   ],
   "source": [
    "data171819.Adresse.nunique()"
   ]
  },
  {
   "source": [
    "# Ajout des correspondances entre collecteurs de verre dans la BDD et le jeu de données"
   ],
   "cell_type": "markdown",
   "metadata": {}
  },
  {
   "cell_type": "code",
   "execution_count": 37,
   "metadata": {},
   "outputs": [
    {
     "output_type": "execute_result",
     "data": {
      "text/plain": [
       "                   adresse      ville globalid\n",
       "0    CHEMIN DES BREGUIERES  LE CANNET      NaN\n",
       "1        RUE DES MOULIERES  LE CANNET      NaN\n",
       "2          AVENUE DU REPOS  LE CANNET      NaN\n",
       "3         RUE DES ORANGERS  LE CANNET      NaN\n",
       "4     BOULEVARD D'OLIVETUM  LE CANNET      NaN\n",
       "..                     ...        ...      ...\n",
       "235         RUE BIR HAKEIM  LE CANNET      NaN\n",
       "236        AVENUE VICTORIA  LE CANNET      NaN\n",
       "237   RUE GEORGES POMPIDOU  LE CANNET      NaN\n",
       "238     AVENUE FELIX FAURE     CANNES      NaN\n",
       "239  DECHETTERIE DU CANNET  LE CANNET      NaN\n",
       "\n",
       "[240 rows x 3 columns]"
      ],
      "text/html": "<div>\n<style scoped>\n    .dataframe tbody tr th:only-of-type {\n        vertical-align: middle;\n    }\n\n    .dataframe tbody tr th {\n        vertical-align: top;\n    }\n\n    .dataframe thead th {\n        text-align: right;\n    }\n</style>\n<table border=\"1\" class=\"dataframe\">\n  <thead>\n    <tr style=\"text-align: right;\">\n      <th></th>\n      <th>adresse</th>\n      <th>ville</th>\n      <th>globalid</th>\n    </tr>\n  </thead>\n  <tbody>\n    <tr>\n      <th>0</th>\n      <td>CHEMIN DES BREGUIERES</td>\n      <td>LE CANNET</td>\n      <td>NaN</td>\n    </tr>\n    <tr>\n      <th>1</th>\n      <td>RUE DES MOULIERES</td>\n      <td>LE CANNET</td>\n      <td>NaN</td>\n    </tr>\n    <tr>\n      <th>2</th>\n      <td>AVENUE DU REPOS</td>\n      <td>LE CANNET</td>\n      <td>NaN</td>\n    </tr>\n    <tr>\n      <th>3</th>\n      <td>RUE DES ORANGERS</td>\n      <td>LE CANNET</td>\n      <td>NaN</td>\n    </tr>\n    <tr>\n      <th>4</th>\n      <td>BOULEVARD D'OLIVETUM</td>\n      <td>LE CANNET</td>\n      <td>NaN</td>\n    </tr>\n    <tr>\n      <th>...</th>\n      <td>...</td>\n      <td>...</td>\n      <td>...</td>\n    </tr>\n    <tr>\n      <th>235</th>\n      <td>RUE BIR HAKEIM</td>\n      <td>LE CANNET</td>\n      <td>NaN</td>\n    </tr>\n    <tr>\n      <th>236</th>\n      <td>AVENUE VICTORIA</td>\n      <td>LE CANNET</td>\n      <td>NaN</td>\n    </tr>\n    <tr>\n      <th>237</th>\n      <td>RUE GEORGES POMPIDOU</td>\n      <td>LE CANNET</td>\n      <td>NaN</td>\n    </tr>\n    <tr>\n      <th>238</th>\n      <td>AVENUE FELIX FAURE</td>\n      <td>CANNES</td>\n      <td>NaN</td>\n    </tr>\n    <tr>\n      <th>239</th>\n      <td>DECHETTERIE DU CANNET</td>\n      <td>LE CANNET</td>\n      <td>NaN</td>\n    </tr>\n  </tbody>\n</table>\n<p>240 rows × 3 columns</p>\n</div>"
     },
     "metadata": {},
     "execution_count": 37
    }
   ],
   "source": [
    "dataCollecteurVerre = pd.DataFrame(columns = [\"adresse\", \"ville\", \"globalid\"])\n",
    "dataCollecteurVerre[\"adresse\"] = data171819[\"Adresse\"].unique()\n",
    "for i in dataCollecteurVerre.index:\n",
    "    dataCollecteurVerre.loc[i, \"ville\"] = data171819[dataCollecteurVerre.loc[i, \"adresse\"] == data171819[\"Adresse\"]].iloc[0][\"Ville\"]\n",
    "dataCollecteurVerre"
   ]
  },
  {
   "cell_type": "code",
   "execution_count": 38,
   "metadata": {},
   "outputs": [
    {
     "output_type": "stream",
     "name": "stdout",
     "text": [
      "2020-11-24 23:27:40,608 INFO sqlalchemy.engine.base.Engine SHOW VARIABLES LIKE 'sql_mode'\n",
      "2020-11-24 23:27:40,609 INFO sqlalchemy.engine.base.Engine {}\n",
      "2020-11-24 23:27:40,612 INFO sqlalchemy.engine.base.Engine SHOW VARIABLES LIKE 'lower_case_table_names'\n",
      "2020-11-24 23:27:40,613 INFO sqlalchemy.engine.base.Engine {}\n",
      "2020-11-24 23:27:40,617 INFO sqlalchemy.engine.base.Engine SELECT DATABASE()\n",
      "2020-11-24 23:27:40,617 INFO sqlalchemy.engine.base.Engine {}\n",
      "2020-11-24 23:27:40,619 INFO sqlalchemy.engine.base.Engine SELECT CAST('test plain returns' AS CHAR(60)) AS anon_1\n",
      "2020-11-24 23:27:40,620 INFO sqlalchemy.engine.base.Engine {}\n",
      "2020-11-24 23:27:40,622 INFO sqlalchemy.engine.base.Engine SELECT CAST('test unicode returns' AS CHAR(60)) AS anon_1\n",
      "2020-11-24 23:27:40,623 INFO sqlalchemy.engine.base.Engine {}\n",
      "2020-11-24 23:27:40,625 INFO sqlalchemy.engine.base.Engine SELECT objectid, adresse, adresseComplement, codeInsee, globalid FROM collecteur JOIN tri ON collecteur.idTri = tri.id WHERE tri.type = 'verre';\n",
      "2020-11-24 23:27:40,625 INFO sqlalchemy.engine.base.Engine {}\n"
     ]
    },
    {
     "output_type": "execute_result",
     "data": {
      "text/plain": [
       "     objectid                      adresse               adresseComplement  \\\n",
       "0         660  Parking vallon de l autelgy                            None   \n",
       "1         661                  Rue massena                            None   \n",
       "2         662            37 avenue miramar                            None   \n",
       "3         663           Parking jean aulas                            None   \n",
       "4         664          16 avenue du treyas  Parking face restaurant matipi   \n",
       "..        ...                          ...                             ...   \n",
       "242       902          Chemin de la plaine                            None   \n",
       "243       903             Chemin du refuge                            None   \n",
       "244       904             Avenue lamartine                            None   \n",
       "245       905          Chemin du coudouron                            None   \n",
       "246       906        Avenue petite colline                            None   \n",
       "\n",
       "    codeInsee                                globalid  \n",
       "0       06138  {8C8A3146-8C8C-42B1-A448-EE103992E272}  \n",
       "1       06029  {2066B095-8486-432C-8663-0B36B4C81159}  \n",
       "2       06138  {85771445-84A5-4946-BD65-E9F2CB95A7CA}  \n",
       "3       06079  {BB3F959C-2915-455B-8665-C1958EC20BEE}  \n",
       "4       06138  {7BDBEF7C-741B-4EA2-83F8-B8C3222377DC}  \n",
       "..        ...                                     ...  \n",
       "242     06085  {EE3BB45D-3EE0-48BB-ABA0-B380B1668D64}  \n",
       "243     06085  {D082FBD8-B8B8-4808-B18B-F9FEA9EC7A4D}  \n",
       "244     06085  {1C052AE4-0F18-4195-902C-21DFA6CBCFE0}  \n",
       "245     06085  {E1DCE667-FD92-4D22-8120-5179FA802B78}  \n",
       "246     06085  {EE57E796-B764-4F17-AEE5-9DE98A27595B}  \n",
       "\n",
       "[247 rows x 5 columns]"
      ],
      "text/html": "<div>\n<style scoped>\n    .dataframe tbody tr th:only-of-type {\n        vertical-align: middle;\n    }\n\n    .dataframe tbody tr th {\n        vertical-align: top;\n    }\n\n    .dataframe thead th {\n        text-align: right;\n    }\n</style>\n<table border=\"1\" class=\"dataframe\">\n  <thead>\n    <tr style=\"text-align: right;\">\n      <th></th>\n      <th>objectid</th>\n      <th>adresse</th>\n      <th>adresseComplement</th>\n      <th>codeInsee</th>\n      <th>globalid</th>\n    </tr>\n  </thead>\n  <tbody>\n    <tr>\n      <th>0</th>\n      <td>660</td>\n      <td>Parking vallon de l autelgy</td>\n      <td>None</td>\n      <td>06138</td>\n      <td>{8C8A3146-8C8C-42B1-A448-EE103992E272}</td>\n    </tr>\n    <tr>\n      <th>1</th>\n      <td>661</td>\n      <td>Rue massena</td>\n      <td>None</td>\n      <td>06029</td>\n      <td>{2066B095-8486-432C-8663-0B36B4C81159}</td>\n    </tr>\n    <tr>\n      <th>2</th>\n      <td>662</td>\n      <td>37 avenue miramar</td>\n      <td>None</td>\n      <td>06138</td>\n      <td>{85771445-84A5-4946-BD65-E9F2CB95A7CA}</td>\n    </tr>\n    <tr>\n      <th>3</th>\n      <td>663</td>\n      <td>Parking jean aulas</td>\n      <td>None</td>\n      <td>06079</td>\n      <td>{BB3F959C-2915-455B-8665-C1958EC20BEE}</td>\n    </tr>\n    <tr>\n      <th>4</th>\n      <td>664</td>\n      <td>16 avenue du treyas</td>\n      <td>Parking face restaurant matipi</td>\n      <td>06138</td>\n      <td>{7BDBEF7C-741B-4EA2-83F8-B8C3222377DC}</td>\n    </tr>\n    <tr>\n      <th>...</th>\n      <td>...</td>\n      <td>...</td>\n      <td>...</td>\n      <td>...</td>\n      <td>...</td>\n    </tr>\n    <tr>\n      <th>242</th>\n      <td>902</td>\n      <td>Chemin de la plaine</td>\n      <td>None</td>\n      <td>06085</td>\n      <td>{EE3BB45D-3EE0-48BB-ABA0-B380B1668D64}</td>\n    </tr>\n    <tr>\n      <th>243</th>\n      <td>903</td>\n      <td>Chemin du refuge</td>\n      <td>None</td>\n      <td>06085</td>\n      <td>{D082FBD8-B8B8-4808-B18B-F9FEA9EC7A4D}</td>\n    </tr>\n    <tr>\n      <th>244</th>\n      <td>904</td>\n      <td>Avenue lamartine</td>\n      <td>None</td>\n      <td>06085</td>\n      <td>{1C052AE4-0F18-4195-902C-21DFA6CBCFE0}</td>\n    </tr>\n    <tr>\n      <th>245</th>\n      <td>905</td>\n      <td>Chemin du coudouron</td>\n      <td>None</td>\n      <td>06085</td>\n      <td>{E1DCE667-FD92-4D22-8120-5179FA802B78}</td>\n    </tr>\n    <tr>\n      <th>246</th>\n      <td>906</td>\n      <td>Avenue petite colline</td>\n      <td>None</td>\n      <td>06085</td>\n      <td>{EE57E796-B764-4F17-AEE5-9DE98A27595B}</td>\n    </tr>\n  </tbody>\n</table>\n<p>247 rows × 5 columns</p>\n</div>"
     },
     "metadata": {},
     "execution_count": 38
    }
   ],
   "source": [
    "from sqlalchemy import create_engine\n",
    "import json\n",
    "\n",
    "fichierConfig = \"../../bdd/config.json\"\n",
    "\n",
    "with open(fichierConfig) as fichier:\n",
    "    config = json.load(fichier)[\"mysql\"]\n",
    "    \n",
    "engine = create_engine('mysql+' + config[\"connector\"] + '://' + config[\"user\"] + \":\" + config[\"password\"] + \"@\" + config[\"host\"] + \":\" + config[\"port\"] + \"/\" + config[\"bdd\"], echo=True)\n",
    "\n",
    "dfCollecteursVerre = pd.read_sql_query(\"SELECT objectid, adresse, adresseComplement, codeInsee, globalid FROM collecteur JOIN tri ON collecteur.idTri = tri.id WHERE tri.type = 'verre';\", engine)\n",
    "\n",
    "dfCollecteursVerre"
   ]
  },
  {
   "cell_type": "code",
   "execution_count": 39,
   "metadata": {},
   "outputs": [
    {
     "output_type": "execute_result",
     "data": {
      "text/plain": [
       "HÉOULE-SUR-MER   \n",
       "101                     BD VICTOR TUBY                CANNES   \n",
       "102                    MARCHE FORVILLE                CANNES   \n",
       "103                 AVENUE VICTOR TUBY                CANNES   \n",
       "104                 AVENUE LOUIS BLANC                CANNES   \n",
       "105              PLACE CORNUT GENTILLE                CANNES   \n",
       "106                     AVENUE LAUGIER                CANNES   \n",
       "107                RUE JEAN DE RIOUFFE                CANNES   \n",
       "108                ALLEE DE LA LIBERTE                CANNES   \n",
       "109                    RUE FELIX FAURE                CANNES   \n",
       "110                    MARCHE GAMBETTA                CANNES   \n",
       "111                  RUE VICTOR COUSIN                CANNES   \n",
       "112          ROND POINT DUBOYS DANGERS                CANNES   \n",
       "113                 RUE PASTEUR ROUAZE                CANNES   \n",
       "114                   AVENUE DE LERINS                CANNES   \n",
       "115                        RUE MASSENA                CANNES   \n",
       "116                         RUE MILTON                CANNES   \n",
       "117                 BOULEVARD D'OXFORD                CANNES   \n",
       "118                             OXFORD                CANNES   \n",
       "119            AVENUE PRINCE DE GALLES                CANNES   \n",
       "120  AVENUE JEAN DE LATTRE DE TASSIGNY                CANNES   \n",
       "121          AVENUE DE GRASSE X DELAUP                CANNES   \n",
       "122            BOULEVARD LORD BROUGHAM                CANNES   \n",
       "123                BOULEVARD DU MOULIN                CANNES   \n",
       "124              BOULEVARD VALLOMBROSA                CANNES   \n",
       "125                  BOULEVARD DU RIOU                CANNES   \n",
       "126                   AVENUE DE GRASSE                CANNES   \n",
       "127                   IMPASSE BEAULIEU                CANNES   \n",
       "128    79 AVENUE DE LATTRE DE TASSIGNY                CANNES   \n",
       "129            AVENUE DES BROUSSAILLES                CANNES   \n",
       "130          ECHANGEUR DE CANNES OUEST                CANNES   \n",
       "131         CHEMIN DE LA BASTIDE ROUGE                CANNES   \n",
       "132                   PARKING AEROPORT                CANNES   \n",
       "133                  AVENUE DES ARLUCS                CANNES   \n",
       "134              METRO CANNES LA BOCCA                CANNES   \n",
       "135                      HOTEL MERCURE                CANNES   \n",
       "136    BOULEVARD DU MIDI LOUISE MOREAU                CANNES   \n",
       "137           AVENUE MAURICE CHEVALIER                CANNES   \n",
       "138                        INTERMARCHE                CANNES   \n",
       "139            RUE DOCTEUR PAUL BALOUX                CANNES   \n",
       "140      AVENUE DOCTEUR RAYMOND PICAUD                CANNES   \n",
       "141                     STE MARGUERITE                CANNES   \n",
       "142       147 AVENUE MAURICE CHEVALIER                CANNES   \n",
       "143                  MAURICE CHEVALIER                CANNES   \n",
       "144        AVENUE DES BUISSONS ARDENTS                CANNES   \n",
       "145         AVENUE PIERRE DE COUBERTIN                CANNES   \n",
       "146                      RUE DU MURIER                CANNES   \n",
       "147                AVENUE ANTONY DOZOL                CANNES   \n",
       "148                  AVENUE DU VERCORS                CANNES   \n",
       "149                BOULEVARD DU SOLEIL                CANNES   \n",
       "150              IMPASSE FRANCOIS TUBY                CANNES   \n",
       "151              IMPASSE DE L'AUBAREDE                CANNES   \n",
       "152            AVENUE CROIX DES GARDES                CANNES   \n",
       "153                   BOULEVARD LEADER                CANNES   \n",
       "154                BOULEVARD DU PERIER                CANNES   \n",
       "155                   ROUTE DU VILLAGE                CANNES   \n",
       "156                   CHEMIN DU PERIER                CANNES   \n",
       "157              CHEMIN DE LA MERLETTE                CANNES   \n",
       "158                      RUE VENIZELOS                CANNES   \n",
       "159      BOULEVARD DU MIDI JEAN HIBERT                CANNES   \n",
       "160             RUE GEORGES CLEMENCEAU                CANNES   \n",
       "161                  QUAI SAINT-PIERRE                CANNES   \n",
       "162               PALAIS DES FESTIVALS                CANNES   \n",
       "163        BOULEVARD EUGENE GAZAGNAIRE                CANNES   \n",
       "164             BOULEVARD DE LA SOURCE                CANNES   \n",
       "165               BOULEVARD MONTFLEURY                CANNES   \n",
       "166                  AVENUE BEAUSEJOUR                CANNES   \n",
       "167                 AVENUE DE LORRAINE                CANNES   \n",
       "168          BOULEVARD GENERAL VAUTRIN                CANNES   \n",
       "169                  BOULEVARD VAUTRIN                CANNES   \n",
       "170         BOULEVARD DALSACE PROLONGE                CANNES   \n",
       "171                  AVENUE ROI ALBERT                CANNES   \n",
       "172        55 AVENUE DU ROI ALBERT 1ER                CANNES   \n",
       "173                 BOULEVARD DES PINS                CANNES   \n",
       "174                   AVENUE LILY PONS                CANNES   \n",
       "175                 AVENUE ISOLA BELLA                CANNES   \n",
       "176                 AVENUE DE BENEFIAT                CANNES   \n",
       "177              CHEMIN DES ARAUCARIAS                CANNES   \n",
       "178          BOULEVARD DE LA CROISETTE                CANNES   \n",
       "179                         BD DALSACE                CANNES   \n",
       "180                   BOULEVARD ALSACE                CANNES   \n",
       "181                 AVENUE DES COTEAUX                CANNES   \n",
       "182         BOULEVARD DE LA REPUBLIQUE                CANNES   \n",
       "183                          RUE REYER                CANNES   \n",
       "184                        RUE GALIENI                CANNES   \n",
       "185                      RUE BOUCICAUT                CANNES   \n",
       "186             AVENUE COMMANDANT BRET                CANNES   \n",
       "187                AVENUE DE TERREFIAL                CANNES   \n",
       "188                AVENUE DE VALLAURIS                CANNES   \n",
       "189                CHEMIN DES COLLINES                CANNES   \n",
       "190              AVENUE FRANCIS TONNER                CANNES   \n",
       "191               AVENUE DE LA ROUBINE                CANNES   \n",
       "192               AVENUE PIERRE SEMARD                CANNES   \n",
       "193                 RUE DE LA VERRERIE                CANNES   \n",
       "194                BOULEVARD DE LA MER                CANNES   \n",
       "195               AVENUE JEAN NOAILLES                CANNES   \n",
       "196           BOULEVARD WESTER WESMYSS                CANNES   \n",
       "197          BOUULEVARD EUGENE COINTET                CANNES   \n",
       "198                  AV MICHEL JOURDAN                CANNES   \n",
       "199              AVENUE MICHEL JOURDAN                CANNES   \n",
       "200               IMPASSE DES LAVANDES                CANNES   \n",
       "201             BOULEVARD DE L'ESTEREL                CANNES   \n",
       "202             CHEMIN DES GOURGUETTES                CANNES   \n",
       "203         CHEMIN RURAL DE LA FRAYERE                CANNES   \n",
       "204                         RUE BALZAC                CANNES   \n",
       "205                 AVENUE VICTOR HUGO                CANNES   \n",
       "206                  BOULEVARD DU MIDI                CANNES   \n",
       "207                AVENUE REINE ASTRID                CANNES   \n",
       "208         42 BOULEVARD ALEXANDRE III                CANNES   \n",
       "209                AVENUE ANDRE CAPRON                CANNES   \n",
       "210          BOULEVARD ALSACE PROLONGE                CANNES   \n",
       "211                          RUE VOLTA                CANNES   \n",
       "212               AVENUE DU PETIT JUAS                CANNES   \n",
       "213                    RUE SAINT LOUIS                CANNES   \n",
       "214                RUE POUSSIN BUCQUET                CANNES   \n",
       "215             AVENUE PIERRE DE POESI                CANNES   \n",
       "216                     RUE JEAN CREPS                CANNES   \n",
       "217              PROMENADE DES MURIERS                CANNES   \n",
       "218     BOULEVARD DU MIDILOUISE MOREAU                CANNES   \n",
       "219            14 RUE DE LA LIBERATION                CANNES   \n",
       "220               JETEE ALBERT EDOUARD                CANNES   \n",
       "221                  ILE SAINT HONORAT                CANNES   \n",
       "222                     PORT LE GALERE       THÉOULE-SUR-MER   \n",
       "223                 AVENUE JEAN JAURES                CANNES   \n",
       "224                       SALLE EUROPA  MANDELIEU-LA-NAPOULE   \n",
       "225        BOULEVARD D'ALSACE PROLONGE                CANNES   \n",
       "226           BOULEVARD EUGENE COINTET                CANNES   \n",
       "227                        BD D'ALSACE                CANNES   \n",
       "228                           PANTIERO                CANNES   \n",
       "229             COLONNE EVENEMENTIELLE                CANNES   \n",
       "230                         RUE MATTEI             LE CANNET   \n",
       "231                  AVENUE DES ECOLES             LE CANNET   \n",
       "232                         VOIE JULIA             LE CANNET   \n",
       "233               BOULEVARD ALBERT 1er             LE CANNET   \n",
       "234               ROUTE DES BREGUIERES             LE CANNET   \n",
       "235                     RUE BIR HAKEIM             LE CANNET   \n",
       "236                    AVENUE VICTORIA             LE CANNET   \n",
       "237               RUE GEORGES POMPIDOU             LE CANNET   \n",
       "238                 AVENUE FELIX FAURE                CANNES   \n",
       "239              DECHETTERIE DU CANNET             LE CANNET   \n",
       "\n",
       "                                   globalid  \n",
       "0                                       NaN  \n",
       "1                                       NaN  \n",
       "2    {1B522953-3C4B-4576-AA43-8F55B7D244FF}  \n",
       "3    {5F7D0829-9D85-4974-A808-EA2FC10898A0}  \n",
       "4                                       NaN  \n",
       "5    {C684BEBE-6E02-4711-BD83-97CA18921587}  \n",
       "6    {0528846E-354E-46A0-A941-89E23E812E38}  \n",
       "7    {1ECBE717-5B9D-45B2-8FF0-FA34AAC74E84}  \n",
       "8                                       NaN  \n",
       "9                                       NaN  \n",
       "10   {AC290C63-7627-46E8-8D9F-C2D699565324}  \n",
       "11                                      NaN  \n",
       "12                                      NaN  \n",
       "13   {18FBB315-C898-4566-BED4-C3AE1132747E}  \n",
       "14                                      NaN  \n",
       "15   {57EAECC4-1EC0-4138-91BD-EFB3CDC07104}  \n",
       "16                                      NaN  \n",
       "17                                      NaN  \n",
       "18                                      NaN  \n",
       "19                                      NaN  \n",
       "20   {95531C1F-3C2D-49EB-83A7-C13C33DDD18C}  \n",
       "21                                      NaN  \n",
       "22                                      NaN  \n",
       "23                                      NaN  \n",
       "24   {AF180A6D-556E-4361-8F67-F075A5A99461}  \n",
       "25                                      NaN  \n",
       "26                                      NaN  \n",
       "27   {794F5B1F-9499-4B0B-B1A9-B432A79E7FFA}  \n",
       "28                                      NaN  \n",
       "29                                      NaN  \n",
       "30   {5B8C4DB7-7A05-4023-925B-BDC21717CF5F}  \n",
       "31                                      NaN  \n",
       "32   {35C38FE5-53D7-4C67-84FE-093278149E73}  \n",
       "33                                      NaN  \n",
       "34   {6DFBC25B-2B5A-43BC-B335-FD82F5A7367C}  \n",
       "35                                      NaN  \n",
       "36                                      NaN  \n",
       "37   {2893EAC1-3E91-4991-8D79-9721E04E29F6}  \n",
       "38                                      NaN  \n",
       "39   {611C4F93-63E4-400B-AC94-5E18D5BFC215}  \n",
       "40                                      NaN  \n",
       "41                                      NaN  \n",
       "42   {2553CF7D-A8F6-43A1-9716-46150904739A}  \n",
       "43   {4994F5D7-DDDE-4982-AB34-2651F1B39A8D}  \n",
       "44   {D82FB384-193D-4175-BBC7-FBF767B81706}  \n",
       "45   {447BB0AB-9A59-4F46-8660-5066B9D32B47}  \n",
       "46                                      NaN  \n",
       "47                                      NaN  \n",
       "48                                      NaN  \n",
       "49                                      NaN  \n",
       "50                                      NaN  \n",
       "51   {86E2348D-C1FA-4F6E-B5E4-9DBA4997B2E7}  \n",
       "52                                      NaN  \n",
       "53                                      NaN  \n",
       "54                                      NaN  \n",
       "55                                      NaN  \n",
       "56                                      NaN  \n",
       "57   {E1D75A70-538A-4D54-8AA0-A9C66CE98B64}  \n",
       "58                                      NaN  \n",
       "59                                      NaN  \n",
       "60                                      NaN  \n",
       "61                                      NaN  \n",
       "62                                      NaN  \n",
       "63                                      NaN  \n",
       "64   {957A8C1B-044D-4302-AA77-3B29B40B983F}  \n",
       "65   {641E59B8-35B8-4652-A299-1A24C896D86E}  \n",
       "66                                      NaN  \n",
       "67   {245AD3FA-BFE4-4520-B164-84F0D080A231}  \n",
       "68                                      NaN  \n",
       "69                                      NaN  \n",
       "70   {26D8EE05-7FF3-4554-9371-C4F959ACE4C1}  \n",
       "71   {471CA15A-B82C-4344-84DD-32A4562F6DDA}  \n",
       "72                                      NaN  \n",
       "73                                      NaN  \n",
       "74   {DDA78DC1-F178-4F3D-BC26-4F918D8527FC}  \n",
       "75                                      NaN  \n",
       "76                                      NaN  \n",
       "77                                      NaN  \n",
       "78                                      NaN  \n",
       "79                                      NaN  \n",
       "80                                      NaN  \n",
       "81                                      NaN  \n",
       "82                                      NaN  \n",
       "83   {EE3BB45D-3EE0-48BB-ABA0-B380B1668D64}  \n",
       "84   {0378EE97-249E-4D88-AC58-BAE3B29B6549}  \n",
       "85   {49967CED-F997-4F6E-912E-6F67E6FDBD06}  \n",
       "86                                      NaN  \n",
       "87   {E82AD6BA-DEF2-4E60-97B7-339EC843B02F}  \n",
       "88   {40E66CBA-23DE-42F8-97FA-2BB62FC69AAF}  \n",
       "89   {2D66EECA-B0D2-4433-9DF1-3848F6E4C0B8}  \n",
       "90   {D082FBD8-B8B8-4808-B18B-F9FEA9EC7A4D}  \n",
       "91                                      NaN  \n",
       "92   {E198FC0D-D178-47A1-8220-4BA0FBE5DC98}  \n",
       "93   {1374E7BC-43EE-4D07-980B-79B9A770F9E0}  \n",
       "94                                      NaN  \n",
       "95                                      NaN  \n",
       "96                                      NaN  \n",
       "97                                      NaN  \n",
       "98                                      NaN  \n",
       "99                                      NaN  \n",
       "100                                     NaN  \n",
       "101  {15D6D1E2-A26B-48CA-B66B-D92924F2CB58}  \n",
       "102                                     NaN  \n",
       "103                                     NaN  \n",
       "104                                     NaN  \n",
       "105                                     NaN  \n",
       "106                                     NaN  \n",
       "107                                     NaN  \n",
       "108                                     NaN  \n",
       "109                                     NaN  \n",
       "110                                     NaN  \n",
       "111  {4EEF9396-6E30-458F-9720-7F96E07A5495}  \n",
       "112                                     NaN  \n",
       "113                                     NaN  \n",
       "114                                     NaN  \n",
       "115  {2066B095-8486-432C-8663-0B36B4C81159}  \n",
       "116                                     NaN  \n",
       "117                                     NaN  \n",
       "118  {1CD8ADFB-11C9-471E-BA45-AC5B8EDFBCCE}  \n",
       "119  {94AB067C-9BC3-4A6F-BFF6-61B20F8DE0B8}  \n",
       "120  {228A7CA2-8116-4471-8C11-E40994255C56}  \n",
       "121                                     NaN  \n",
       "122                                     NaN  \n",
       "123                                     NaN  \n",
       "124                                     NaN  \n",
       "125  {6AB007CF-5B5F-4D4B-AB83-09E4DB36AB65}  \n",
       "126  {D3D723CF-D370-4923-914A-2D8A020E56A4}  \n",
       "127                                     NaN  \n",
       "128                                     NaN  \n",
       "129  {87081FAC-7D3D-4EDD-A7B1-7A543E59A6E6}  \n",
       "130                                     NaN  \n",
       "131                                     NaN  \n",
       "132                                     NaN  \n",
       "133                                     NaN  \n",
       "134                                     NaN  \n",
       "135                                     NaN  \n",
       "136                                     NaN  \n",
       "137  {00DA4896-5F99-4482-8BB9-5B0409B10D22}  \n",
       "138                                     NaN  \n",
       "139                                     NaN  \n",
       "140  {4945379B-BCAC-4C43-AE7E-5288176F67AB}  \n",
       "141                                     NaN  \n",
       "142  {4F3418ED-35CB-4362-A3E3-F28E7929C5AF}  \n",
       "143  {00DA4896-5F99-4482-8BB9-5B0409B10D22}  \n",
       "144  {B77CBB4D-9BD4-452E-A992-4C23A98886A0}  \n",
       "145  {8BCEA9BC-563B-475F-8725-2BA728AF55AA}  \n",
       "146                                     NaN  \n",
       "147                                     NaN  \n",
       "148  {0666E598-3357-41DD-B23D-30204991D68F}  \n",
       "149  {78E8BDA1-A912-411C-9B2C-84568C3D886B}  \n",
       "150                                     NaN  \n",
       "151                                     NaN  \n",
       "152                                     NaN  \n",
       "153  {15D053B0-465F-4C64-A878-93EA2FB6B1E2}  \n",
       "154                                     NaN  \n",
       "155  {A32F116F-542D-4709-B4B0-07E2E3394DF8}  \n",
       "156                                     NaN  \n",
       "157                                     NaN  \n",
       "158  {7BA25EC8-7338-4049-B5D4-A1CEF519BD44}  \n",
       "159                                     NaN  \n",
       "160                                     NaN  \n",
       "161                                     NaN  \n",
       "162                                     NaN  \n",
       "163                                     NaN  \n",
       "164  {52F421C7-2F8D-49FA-A2E1-5BD27C2481C3}  \n",
       "165                                     NaN  \n",
       "166                                     NaN  \n",
       "167                                     NaN  \n",
       "168                                     NaN  \n",
       "169                                     NaN  \n",
       "170                                     NaN  \n",
       "171  {5960D78D-A1CC-4D52-B8F9-60FBDE4D4316}  \n",
       "172  {2B888EBC-34ED-4332-B555-94F26762975E}  \n",
       "173  {34FD9A1B-D90D-42D9-9A0F-55262C1EF7FC}  \n",
       "174  {4655CA3B-1812-4F2D-8421-13C6DA8D948D}  \n",
       "175  {B25C8F92-6E04-4C9D-A4B2-4E53D6DC0DE2}  \n",
       "176  {593D59A1-511D-4A36-8FFB-D94597FC1296}  \n",
       "177                                     NaN  \n",
       "178                                     NaN  \n",
       "179                                     NaN  \n",
       "180                                     NaN  \n",
       "181  {8BD66729-83A2-487E-83C9-F822ED3DEB64}  \n",
       "182                                     NaN  \n",
       "183  {311F1BF6-2C8D-4AC3-8BE4-4FBF9D94C5D0}  \n",
       "184                                     NaN  \n",
       "185  {48C20876-208C-4B5A-9344-6EB03940C8CC}  \n",
       "186  {1299EC66-09F9-4A34-80C4-A21AE7EBD5DE}  \n",
       "187                                     NaN  \n",
       "188  {F2FE87E3-56EF-4F7D-B598-F7A8A463D2A0}  \n",
       "189  {1E21AA51-085C-469B-9469-6D27AF5A917F}  \n",
       "190  {A5399E79-CACE-45EE-8BD7-14B1B712C1DC}  \n",
       "191  {D71E4D12-82A5-475B-AE3A-3165971D0008}  \n",
       "192  {91114210-92D6-4B48-81FF-2576EB07F36A}  \n",
       "193                                     NaN  \n",
       "194                                     NaN  \n",
       "195                                     NaN  \n",
       "196                                     NaN  \n",
       "197                                     NaN  \n",
       "198                                     NaN  \n",
       "199  {66DDB397-36D1-4B7A-A93D-C871C21F29C3}  \n",
       "200  {B2CF3041-DBE7-495C-9BEC-AAF84243F201}  \n",
       "201                                     NaN  \n",
       "202  {FCC3E490-A08F-470C-AA06-A1CF11FDBC66}  \n",
       "203  {421D7096-5F63-475D-B6D7-56C72D82A607}  \n",
       "204                                     NaN  \n",
       "205  {D046CCE1-8F9A-4DA1-9250-FC4C79FC2991}  \n",
       "206  {274DDD55-6209-48BC-ADD3-DD1EBBC69D05}  \n",
       "207  {DF2BA8D1-F205-44DE-AE56-C0A308D52BA5}  \n",
       "208                                     NaN  \n",
       "209                                     NaN  \n",
       "210                                     NaN  \n",
       "211  {932DAD2E-FBC6-41C0-B9EC-9B5A247CE592}  \n",
       "212                                     NaN  \n",
       "213                                     NaN  \n",
       "214                                     NaN  \n",
       "215                                     NaN  \n",
       "216                                     NaN  \n",
       "217                                     NaN  \n",
       "218                                     NaN  \n",
       "219                                     NaN  \n",
       "220                                     NaN  \n",
       "221                                     NaN  \n",
       "222                                     NaN  \n",
       "223                                     NaN  \n",
       "224                                     NaN  \n",
       "225                                     NaN  \n",
       "226                                     NaN  \n",
       "227                                     NaN  \n",
       "228                                     NaN  \n",
       "229                                     NaN  \n",
       "230                                     NaN  \n",
       "231                                     NaN  \n",
       "232                                     NaN  \n",
       "233                                     NaN  \n",
       "234  {4165D80B-CD0E-4B31-94B8-C69E54C0C59E}  \n",
       "235                                     NaN  \n",
       "236                                     NaN  \n",
       "237                                     NaN  \n",
       "238                                     NaN  \n",
       "239                                     NaN  "
      ],
      "text/html": "<div>\n<style scoped>\n    .dataframe tbody tr th:only-of-type {\n        vertical-align: middle;\n    }\n\n    .dataframe tbody tr th {\n        vertical-align: top;\n    }\n\n    .dataframe thead th {\n        text-align: right;\n    }\n</style>\n<table border=\"1\" class=\"dataframe\">\n  <thead>\n    <tr style=\"text-align: right;\">\n      <th></th>\n      <th>adresse</th>\n      <th>ville</th>\n      <th>globalid</th>\n    </tr>\n  </thead>\n  <tbody>\n    <tr>\n      <th>0</th>\n      <td>CHEMIN DES BREGUIERES</td>\n      <td>LE CANNET</td>\n      <td>NaN</td>\n    </tr>\n    <tr>\n      <th>1</th>\n      <td>RUE DES MOULIERES</td>\n      <td>LE CANNET</td>\n      <td>NaN</td>\n    </tr>\n    <tr>\n      <th>2</th>\n      <td>AVENUE DU REPOS</td>\n      <td>LE CANNET</td>\n      <td>{1B522953-3C4B-4576-AA43-8F55B7D244FF}</td>\n    </tr>\n    <tr>\n      <th>3</th>\n      <td>RUE DES ORANGERS</td>\n      <td>LE CANNET</td>\n      <td>{5F7D0829-9D85-4974-A808-EA2FC10898A0}</td>\n    </tr>\n    <tr>\n      <th>4</th>\n      <td>BOULEVARD D'OLIVETUM</td>\n      <td>LE CANNET</td>\n      <td>NaN</td>\n    </tr>\n    <tr>\n      <th>5</th>\n      <td>AVENUE THIERS</td>\n      <td>LE CANNET</td>\n      <td>{C684BEBE-6E02-4711-BD83-97CA18921587}</td>\n    </tr>\n    <tr>\n      <th>6</th>\n      <td>CHEMIN DE GAVARY</td>\n      <td>LE CANNET</td>\n      <td>{0528846E-354E-46A0-A941-89E23E812E38}</td>\n    </tr>\n    <tr>\n      <th>7</th>\n      <td>AVENUE LACOUR</td>\n      <td>LE CANNET</td>\n      <td>{1ECBE717-5B9D-45B2-8FF0-FA34AAC74E84}</td>\n    </tr>\n    <tr>\n      <th>8</th>\n      <td>RESTAURANT</td>\n      <td>LE CANNET</td>\n      <td>NaN</td>\n    </tr>\n    <tr>\n      <th>9</th>\n      <td>BOULEVARD SADI CARNOT</td>\n      <td>LE CANNET</td>\n      <td>NaN</td>\n    </tr>\n    <tr>\n      <th>10</th>\n      <td>RUE JULES FERRY</td>\n      <td>LE CANNET</td>\n      <td>{AC290C63-7627-46E8-8D9F-C2D699565324}</td>\n    </tr>\n    <tr>\n      <th>11</th>\n      <td>ALLEE DES COUGOUSSOLLES</td>\n      <td>LE CANNET</td>\n      <td>NaN</td>\n    </tr>\n    <tr>\n      <th>12</th>\n      <td>AVENUE DU MONT JOLI</td>\n      <td>LE CANNET</td>\n      <td>NaN</td>\n    </tr>\n    <tr>\n      <th>13</th>\n      <td>RUE AUGUSTE TABA</td>\n      <td>LE CANNET</td>\n      <td>{18FBB315-C898-4566-BED4-C3AE1132747E}</td>\n    </tr>\n    <tr>\n      <th>14</th>\n      <td>RUE CITE DES JARDINS</td>\n      <td>LE CANNET</td>\n      <td>NaN</td>\n    </tr>\n    <tr>\n      <th>15</th>\n      <td>CHEMIN DE GARIBONDY</td>\n      <td>LE CANNET</td>\n      <td>{57EAECC4-1EC0-4138-91BD-EFB3CDC07104}</td>\n    </tr>\n    <tr>\n      <th>16</th>\n      <td>CHATEAU DES ARTISTES</td>\n      <td>LE CANNET</td>\n      <td>NaN</td>\n    </tr>\n    <tr>\n      <th>17</th>\n      <td>CHEMIN DE CARIMAIL</td>\n      <td>LE CANNET</td>\n      <td>NaN</td>\n    </tr>\n    <tr>\n      <th>18</th>\n      <td>AV GEORGES POMPIDOU</td>\n      <td>LE CANNET</td>\n      <td>NaN</td>\n    </tr>\n    <tr>\n      <th>19</th>\n      <td>AVENUE DU GENERAL DE GAULLE</td>\n      <td>LE CANNET</td>\n      <td>NaN</td>\n    </tr>\n    <tr>\n      <th>20</th>\n      <td>BOULEVARD JACQUES MONOD</td>\n      <td>LE CANNET</td>\n      <td>{95531C1F-3C2D-49EB-83A7-C13C33DDD18C}</td>\n    </tr>\n    <tr>\n      <th>21</th>\n      <td>CHEMIN DE L'AUBAREDE</td>\n      <td>LE CANNET</td>\n      <td>NaN</td>\n    </tr>\n    <tr>\n      <th>22</th>\n      <td>AVENUE DU MONTJOLI</td>\n      <td>LE CANNET</td>\n      <td>NaN</td>\n    </tr>\n    <tr>\n      <th>23</th>\n      <td>ALLEE DES RESERVOIRS</td>\n      <td>LE CANNET</td>\n      <td>NaN</td>\n    </tr>\n    <tr>\n      <th>24</th>\n      <td>PLACE BENIDORM</td>\n      <td>LE CANNET</td>\n      <td>{AF180A6D-556E-4361-8F67-F075A5A99461}</td>\n    </tr>\n    <tr>\n      <th>25</th>\n      <td>ALLEE JEAN GIONO</td>\n      <td>LE CANNET</td>\n      <td>NaN</td>\n    </tr>\n    <tr>\n      <th>26</th>\n      <td>RUE EMILE ROUX</td>\n      <td>LE CANNET</td>\n      <td>NaN</td>\n    </tr>\n    <tr>\n      <th>27</th>\n      <td>RUE DE CANNES</td>\n      <td>LE CANNET</td>\n      <td>{794F5B1F-9499-4B0B-B1A9-B432A79E7FFA}</td>\n    </tr>\n    <tr>\n      <th>28</th>\n      <td>RUE DE LA PINEDE</td>\n      <td>LE CANNET</td>\n      <td>NaN</td>\n    </tr>\n    <tr>\n      <th>29</th>\n      <td>PINEDE DES GENDARMES D'OUVEA</td>\n      <td>LE CANNET</td>\n      <td>NaN</td>\n    </tr>\n    <tr>\n      <th>30</th>\n      <td>RUE MARCEL PAGNOL</td>\n      <td>LE CANNET</td>\n      <td>{5B8C4DB7-7A05-4023-925B-BDC21717CF5F}</td>\n    </tr>\n    <tr>\n      <th>31</th>\n      <td>CHEMIN DE L'OLIVET</td>\n      <td>LE CANNET</td>\n      <td>NaN</td>\n    </tr>\n    <tr>\n      <th>32</th>\n      <td>CHEMIN DES LAURIERS</td>\n      <td>LE CANNET</td>\n      <td>{35C38FE5-53D7-4C67-84FE-093278149E73}</td>\n    </tr>\n    <tr>\n      <th>33</th>\n      <td>RESIDENCE LES PINS PARASOLS</td>\n      <td>LE CANNET</td>\n      <td>NaN</td>\n    </tr>\n    <tr>\n      <th>34</th>\n      <td>CHEMIN DE SAINT JOSEPH</td>\n      <td>LE CANNET</td>\n      <td>{6DFBC25B-2B5A-43BC-B335-FD82F5A7367C}</td>\n    </tr>\n    <tr>\n      <th>35</th>\n      <td>SALLE RECROIX</td>\n      <td>LE CANNET</td>\n      <td>NaN</td>\n    </tr>\n    <tr>\n      <th>36</th>\n      <td>CAMPING LE RANCH</td>\n      <td>LE CANNET</td>\n      <td>NaN</td>\n    </tr>\n    <tr>\n      <th>37</th>\n      <td>AVENUE JANVIER PASSERO</td>\n      <td>MANDELIEU-LA-NAPOULE</td>\n      <td>{2893EAC1-3E91-4991-8D79-9721E04E29F6}</td>\n    </tr>\n    <tr>\n      <th>38</th>\n      <td>RUE DE LA PINÉA</td>\n      <td>MANDELIEU-LA-NAPOULE</td>\n      <td>NaN</td>\n    </tr>\n    <tr>\n      <th>39</th>\n      <td>AVENUE GASTON DE FONTMICHEL</td>\n      <td>MANDELIEU-LA-NAPOULE</td>\n      <td>{611C4F93-63E4-400B-AC94-5E18D5BFC215}</td>\n    </tr>\n    <tr>\n      <th>40</th>\n      <td>ALLÉE DES MIMOSAS</td>\n      <td>MANDELIEU-LA-NAPOULE</td>\n      <td>NaN</td>\n    </tr>\n    <tr>\n      <th>41</th>\n      <td>RUE SAINT-VINCENT DE PAUL</td>\n      <td>MANDELIEU-LA-NAPOULE</td>\n      <td>NaN</td>\n    </tr>\n    <tr>\n      <th>42</th>\n      <td>BOULEVARD DES ÉCUREUILS</td>\n      <td>MANDELIEU-LA-NAPOULE</td>\n      <td>{2553CF7D-A8F6-43A1-9716-46150904739A}</td>\n    </tr>\n    <tr>\n      <th>43</th>\n      <td>RUE MADAME DE SEVIGNE</td>\n      <td>MANDELIEU-LA-NAPOULE</td>\n      <td>{4994F5D7-DDDE-4982-AB34-2651F1B39A8D}</td>\n    </tr>\n    <tr>\n      <th>44</th>\n      <td>AVENUE DE LA RÉPUBLIQUE</td>\n      <td>MANDELIEU-LA-NAPOULE</td>\n      <td>{D82FB384-193D-4175-BBC7-FBF767B81706}</td>\n    </tr>\n    <tr>\n      <th>45</th>\n      <td>DOMAINE DU GRAND DUC</td>\n      <td>MANDELIEU-LA-NAPOULE</td>\n      <td>{447BB0AB-9A59-4F46-8660-5066B9D32B47}</td>\n    </tr>\n    <tr>\n      <th>46</th>\n      <td>RESIDENCE LE GRAND DUC</td>\n      <td>MANDELIEU-LA-NAPOULE</td>\n      <td>NaN</td>\n    </tr>\n    <tr>\n      <th>47</th>\n      <td>BOULEVARD EMILE CARDON</td>\n      <td>MANDELIEU-LA-NAPOULE</td>\n      <td>NaN</td>\n    </tr>\n    <tr>\n      <th>48</th>\n      <td>AVENUE DE L'EUROPE</td>\n      <td>MANDELIEU-LA-NAPOULE</td>\n      <td>NaN</td>\n    </tr>\n    <tr>\n      <th>49</th>\n      <td>BOULEVARD ESTÉREL PARK</td>\n      <td>MANDELIEU-LA-NAPOULE</td>\n      <td>NaN</td>\n    </tr>\n    <tr>\n      <th>50</th>\n      <td>AVENUE DE FREJUS</td>\n      <td>MANDELIEU-LA-NAPOULE</td>\n      <td>NaN</td>\n    </tr>\n    <tr>\n      <th>51</th>\n      <td>RUE YVES BRAYER</td>\n      <td>MANDELIEU-LA-NAPOULE</td>\n      <td>{86E2348D-C1FA-4F6E-B5E4-9DBA4997B2E7}</td>\n    </tr>\n    <tr>\n      <th>52</th>\n      <td>BOULEVARD DU BON PUITS</td>\n      <td>MANDELIEU-LA-NAPOULE</td>\n      <td>NaN</td>\n    </tr>\n    <tr>\n      <th>53</th>\n      <td>DOMAINE DE MARANDE</td>\n      <td>MANDELIEU-LA-NAPOULE</td>\n      <td>NaN</td>\n    </tr>\n    <tr>\n      <th>54</th>\n      <td>PLACE SOUVENIRS FRANCAIS</td>\n      <td>MANDELIEU-LA-NAPOULE</td>\n      <td>NaN</td>\n    </tr>\n    <tr>\n      <th>55</th>\n      <td>RUE DOCTEUR ESCARRAS</td>\n      <td>MANDELIEU-LA-NAPOULE</td>\n      <td>NaN</td>\n    </tr>\n    <tr>\n      <th>56</th>\n      <td>CARREFOUR MARKET</td>\n      <td>MANDELIEU-LA-NAPOULE</td>\n      <td>NaN</td>\n    </tr>\n    <tr>\n      <th>57</th>\n      <td>AVENUE MARCEL PAGNOL</td>\n      <td>MANDELIEU-LA-NAPOULE</td>\n      <td>{E1D75A70-538A-4D54-8AA0-A9C66CE98B64}</td>\n    </tr>\n    <tr>\n      <th>58</th>\n      <td>RUE ANATOLE FRANCE</td>\n      <td>MANDELIEU-LA-NAPOULE</td>\n      <td>NaN</td>\n    </tr>\n    <tr>\n      <th>59</th>\n      <td>AVENUE DELATTRE DE TASSIGNY</td>\n      <td>MANDELIEU-LA-NAPOULE</td>\n      <td>NaN</td>\n    </tr>\n    <tr>\n      <th>60</th>\n      <td>PARKING ESCOTA</td>\n      <td>MANDELIEU-LA-NAPOULE</td>\n      <td>NaN</td>\n    </tr>\n    <tr>\n      <th>61</th>\n      <td>AVENUE JACQUES CARTIER</td>\n      <td>MANDELIEU-LA-NAPOULE</td>\n      <td>NaN</td>\n    </tr>\n    <tr>\n      <th>62</th>\n      <td>ALLÉE DE LA MARINE ROYALE</td>\n      <td>MANDELIEU-LA-NAPOULE</td>\n      <td>NaN</td>\n    </tr>\n    <tr>\n      <th>63</th>\n      <td>AVENUE DE LA MARINE ROYALE</td>\n      <td>MANDELIEU-LA-NAPOULE</td>\n      <td>NaN</td>\n    </tr>\n    <tr>\n      <th>64</th>\n      <td>AVENUE DU GÉNÉRAL GARBAY</td>\n      <td>MANDELIEU-LA-NAPOULE</td>\n      <td>{957A8C1B-044D-4302-AA77-3B29B40B983F}</td>\n    </tr>\n    <tr>\n      <th>65</th>\n      <td>BOULEVARD DES TERMES</td>\n      <td>MANDELIEU-LA-NAPOULE</td>\n      <td>{641E59B8-35B8-4652-A299-1A24C896D86E}</td>\n    </tr>\n    <tr>\n      <th>66</th>\n      <td>ALLEE DES CLUBS</td>\n      <td>MANDELIEU-LA-NAPOULE</td>\n      <td>NaN</td>\n    </tr>\n    <tr>\n      <th>67</th>\n      <td>AVENUE DU RIOU</td>\n      <td>MANDELIEU-LA-NAPOULE</td>\n      <td>{245AD3FA-BFE4-4520-B164-84F0D080A231}</td>\n    </tr>\n    <tr>\n      <th>68</th>\n      <td>AVENUE DU 23 AOÛT</td>\n      <td>MANDELIEU-LA-NAPOULE</td>\n      <td>NaN</td>\n    </tr>\n    <tr>\n      <th>69</th>\n      <td>DOMAINE DE BELLEVUE</td>\n      <td>MANDELIEU-LA-NAPOULE</td>\n      <td>NaN</td>\n    </tr>\n    <tr>\n      <th>70</th>\n      <td>ROUTE DU GOLF</td>\n      <td>MANDELIEU-LA-NAPOULE</td>\n      <td>{26D8EE05-7FF3-4554-9371-C4F959ACE4C1}</td>\n    </tr>\n    <tr>\n      <th>71</th>\n      <td>AVENUE DES ANCIENS COMBATTANTS</td>\n      <td>MANDELIEU-LA-NAPOULE</td>\n      <td>{471CA15A-B82C-4344-84DD-32A4562F6DDA}</td>\n    </tr>\n    <tr>\n      <th>72</th>\n      <td>ALLÉE DES IRIS</td>\n      <td>MANDELIEU-LA-NAPOULE</td>\n      <td>NaN</td>\n    </tr>\n    <tr>\n      <th>73</th>\n      <td>CAPITAINERIE</td>\n      <td>MANDELIEU-LA-NAPOULE</td>\n      <td>NaN</td>\n    </tr>\n    <tr>\n      <th>74</th>\n      <td>AVENUE ROBERT SCHUMAN</td>\n      <td>MANDELIEU-LA-NAPOULE</td>\n      <td>{DDA78DC1-F178-4F3D-BC26-4F918D8527FC}</td>\n    </tr>\n    <tr>\n      <th>75</th>\n      <td>PORT DE LA RAGUE</td>\n      <td>MANDELIEU-LA-NAPOULE</td>\n      <td>NaN</td>\n    </tr>\n    <tr>\n      <th>76</th>\n      <td>PORT DU RIOU</td>\n      <td>MANDELIEU-LA-NAPOULE</td>\n      <td>NaN</td>\n    </tr>\n    <tr>\n      <th>77</th>\n      <td>PLACE DES ARCADES</td>\n      <td>MOUGINS</td>\n      <td>NaN</td>\n    </tr>\n    <tr>\n      <th>78</th>\n      <td>RUE SAINT-JACQUES</td>\n      <td>MOUGINS</td>\n      <td>NaN</td>\n    </tr>\n    <tr>\n      <th>79</th>\n      <td>AVENUE GENERALE DE GAULLE</td>\n      <td>MOUGINS</td>\n      <td>NaN</td>\n    </tr>\n    <tr>\n      <th>80</th>\n      <td>ALLEE DE LORME</td>\n      <td>MOUGINS</td>\n      <td>NaN</td>\n    </tr>\n    <tr>\n      <th>81</th>\n      <td>AVENUE SAINT-BASILE</td>\n      <td>MOUGINS</td>\n      <td>NaN</td>\n    </tr>\n    <tr>\n      <th>82</th>\n      <td>AVENUE NOTRE-DAME DE VIE</td>\n      <td>MOUGINS</td>\n      <td>NaN</td>\n    </tr>\n    <tr>\n      <th>83</th>\n      <td>CHEMIN DE LA PLAINE</td>\n      <td>MOUGINS</td>\n      <td>{EE3BB45D-3EE0-48BB-ABA0-B380B1668D64}</td>\n    </tr>\n    <tr>\n      <th>84</th>\n      <td>AVENUE DE TOURNAMY</td>\n      <td>MOUGINS</td>\n      <td>{0378EE97-249E-4D88-AC58-BAE3B29B6549}</td>\n    </tr>\n    <tr>\n      <th>85</th>\n      <td>AVENUE DU MOULIN DE LA CROIX</td>\n      <td>MOUGINS</td>\n      <td>{49967CED-F997-4F6E-912E-6F67E6FDBD06}</td>\n    </tr>\n    <tr>\n      <th>86</th>\n      <td>AVENUE MARECHAL JUIN</td>\n      <td>MOUGINS</td>\n      <td>NaN</td>\n    </tr>\n    <tr>\n      <th>87</th>\n      <td>CHEMIN DE LA GRANDE BASTIDE</td>\n      <td>MOUGINS</td>\n      <td>{E82AD6BA-DEF2-4E60-97B7-339EC843B02F}</td>\n    </tr>\n    <tr>\n      <th>88</th>\n      <td>CHEMIN DES CABRIERES</td>\n      <td>MOUGINS</td>\n      <td>{40E66CBA-23DE-42F8-97FA-2BB62FC69AAF}</td>\n    </tr>\n    <tr>\n      <th>89</th>\n      <td>CHEMIN DE FAISSOLE</td>\n      <td>MOUGINS</td>\n      <td>{2D66EECA-B0D2-4433-9DF1-3848F6E4C0B8}</td>\n    </tr>\n    <tr>\n      <th>90</th>\n      <td>CHEMIN DU REFUGE</td>\n      <td>MOUGINS</td>\n      <td>{D082FBD8-B8B8-4808-B18B-F9FEA9EC7A4D}</td>\n    </tr>\n    <tr>\n      <th>91</th>\n      <td>AVENUE LAMARTINE -</td>\n      <td>MOUGINS</td>\n      <td>NaN</td>\n    </tr>\n    <tr>\n      <th>92</th>\n      <td>CHEMIN DE CAMPANE</td>\n      <td>MOUGINS</td>\n      <td>{E198FC0D-D178-47A1-8220-4BA0FBE5DC98}</td>\n    </tr>\n    <tr>\n      <th>93</th>\n      <td>CHEMIN DE FONT DE CURRAULT</td>\n      <td>MOUGINS</td>\n      <td>{1374E7BC-43EE-4D07-980B-79B9A770F9E0}</td>\n    </tr>\n    <tr>\n      <th>94</th>\n      <td>RUE DE LA PETITE COLLINE</td>\n      <td>MOUGINS</td>\n      <td>NaN</td>\n    </tr>\n    <tr>\n      <th>95</th>\n      <td>PARKING CENTRE VILLE</td>\n      <td>THÉOULE-SUR-MER</td>\n      <td>NaN</td>\n    </tr>\n    <tr>\n      <th>96</th>\n      <td>HOTEL MIRAMAR</td>\n      <td>THÉOULE-SUR-MER</td>\n      <td>NaN</td>\n    </tr>\n    <tr>\n      <th>97</th>\n      <td>PLACE DES ALLIES MIRAMAR</td>\n      <td>THÉOULE-SUR-MER</td>\n      <td>NaN</td>\n    </tr>\n    <tr>\n      <th>98</th>\n      <td>PORT DE LA FIGEIRETTE</td>\n      <td>THÉOULE-SUR-MER</td>\n      <td>NaN</td>\n    </tr>\n    <tr>\n      <th>99</th>\n      <td>PARKING FIGARETTE</td>\n      <td>THÉOULE-SUR-MER</td>\n      <td>NaN</td>\n    </tr>\n    <tr>\n      <th>100</th>\n      <td>AVENUE DE LA CÔTE D'AZUR</td>\n      <td>THÉOULE-SUR-MER</td>\n      <td>NaN</td>\n    </tr>\n    <tr>\n      <th>101</th>\n      <td>BD VICTOR TUBY</td>\n      <td>CANNES</td>\n      <td>{15D6D1E2-A26B-48CA-B66B-D92924F2CB58}</td>\n    </tr>\n    <tr>\n      <th>102</th>\n      <td>MARCHE FORVILLE</td>\n      <td>CANNES</td>\n      <td>NaN</td>\n    </tr>\n    <tr>\n      <th>103</th>\n      <td>AVENUE VICTOR TUBY</td>\n      <td>CANNES</td>\n      <td>NaN</td>\n    </tr>\n    <tr>\n      <th>104</th>\n      <td>AVENUE LOUIS BLANC</td>\n      <td>CANNES</td>\n      <td>NaN</td>\n    </tr>\n    <tr>\n      <th>105</th>\n      <td>PLACE CORNUT GENTILLE</td>\n      <td>CANNES</td>\n      <td>NaN</td>\n    </tr>\n    <tr>\n      <th>106</th>\n      <td>AVENUE LAUGIER</td>\n      <td>CANNES</td>\n      <td>NaN</td>\n    </tr>\n    <tr>\n      <th>107</th>\n      <td>RUE JEAN DE RIOUFFE</td>\n      <td>CANNES</td>\n      <td>NaN</td>\n    </tr>\n    <tr>\n      <th>108</th>\n      <td>ALLEE DE LA LIBERTE</td>\n      <td>CANNES</td>\n      <td>NaN</td>\n    </tr>\n    <tr>\n      <th>109</th>\n      <td>RUE FELIX FAURE</td>\n      <td>CANNES</td>\n      <td>NaN</td>\n    </tr>\n    <tr>\n      <th>110</th>\n      <td>MARCHE GAMBETTA</td>\n      <td>CANNES</td>\n      <td>NaN</td>\n    </tr>\n    <tr>\n      <th>111</th>\n      <td>RUE VICTOR COUSIN</td>\n      <td>CANNES</td>\n      <td>{4EEF9396-6E30-458F-9720-7F96E07A5495}</td>\n    </tr>\n    <tr>\n      <th>112</th>\n      <td>ROND POINT DUBOYS DANGERS</td>\n      <td>CANNES</td>\n      <td>NaN</td>\n    </tr>\n    <tr>\n      <th>113</th>\n      <td>RUE PASTEUR ROUAZE</td>\n      <td>CANNES</td>\n      <td>NaN</td>\n    </tr>\n    <tr>\n      <th>114</th>\n      <td>AVENUE DE LERINS</td>\n      <td>CANNES</td>\n      <td>NaN</td>\n    </tr>\n    <tr>\n      <th>115</th>\n      <td>RUE MASSENA</td>\n      <td>CANNES</td>\n      <td>{2066B095-8486-432C-8663-0B36B4C81159}</td>\n    </tr>\n    <tr>\n      <th>116</th>\n      <td>RUE MILTON</td>\n      <td>CANNES</td>\n      <td>NaN</td>\n    </tr>\n    <tr>\n      <th>117</th>\n      <td>BOULEVARD D'OXFORD</td>\n      <td>CANNES</td>\n      <td>NaN</td>\n    </tr>\n    <tr>\n      <th>118</th>\n      <td>OXFORD</td>\n      <td>CANNES</td>\n      <td>{1CD8ADFB-11C9-471E-BA45-AC5B8EDFBCCE}</td>\n    </tr>\n    <tr>\n      <th>119</th>\n      <td>AVENUE PRINCE DE GALLES</td>\n      <td>CANNES</td>\n      <td>{94AB067C-9BC3-4A6F-BFF6-61B20F8DE0B8}</td>\n    </tr>\n    <tr>\n      <th>120</th>\n      <td>AVENUE JEAN DE LATTRE DE TASSIGNY</td>\n      <td>CANNES</td>\n      <td>{228A7CA2-8116-4471-8C11-E40994255C56}</td>\n    </tr>\n    <tr>\n      <th>121</th>\n      <td>AVENUE DE GRASSE X DELAUP</td>\n      <td>CANNES</td>\n      <td>NaN</td>\n    </tr>\n    <tr>\n      <th>122</th>\n      <td>BOULEVARD LORD BROUGHAM</td>\n      <td>CANNES</td>\n      <td>NaN</td>\n    </tr>\n    <tr>\n      <th>123</th>\n      <td>BOULEVARD DU MOULIN</td>\n      <td>CANNES</td>\n      <td>NaN</td>\n    </tr>\n    <tr>\n      <th>124</th>\n      <td>BOULEVARD VALLOMBROSA</td>\n      <td>CANNES</td>\n      <td>NaN</td>\n    </tr>\n    <tr>\n      <th>125</th>\n      <td>BOULEVARD DU RIOU</td>\n      <td>CANNES</td>\n      <td>{6AB007CF-5B5F-4D4B-AB83-09E4DB36AB65}</td>\n    </tr>\n    <tr>\n      <th>126</th>\n      <td>AVENUE DE GRASSE</td>\n      <td>CANNES</td>\n      <td>{D3D723CF-D370-4923-914A-2D8A020E56A4}</td>\n    </tr>\n    <tr>\n      <th>127</th>\n      <td>IMPASSE BEAULIEU</td>\n      <td>CANNES</td>\n      <td>NaN</td>\n    </tr>\n    <tr>\n      <th>128</th>\n      <td>79 AVENUE DE LATTRE DE TASSIGNY</td>\n      <td>CANNES</td>\n      <td>NaN</td>\n    </tr>\n    <tr>\n      <th>129</th>\n      <td>AVENUE DES BROUSSAILLES</td>\n      <td>CANNES</td>\n      <td>{87081FAC-7D3D-4EDD-A7B1-7A543E59A6E6}</td>\n    </tr>\n    <tr>\n      <th>130</th>\n      <td>ECHANGEUR DE CANNES OUEST</td>\n      <td>CANNES</td>\n      <td>NaN</td>\n    </tr>\n    <tr>\n      <th>131</th>\n      <td>CHEMIN DE LA BASTIDE ROUGE</td>\n      <td>CANNES</td>\n      <td>NaN</td>\n    </tr>\n    <tr>\n      <th>132</th>\n      <td>PARKING AEROPORT</td>\n      <td>CANNES</td>\n      <td>NaN</td>\n    </tr>\n    <tr>\n      <th>133</th>\n      <td>AVENUE DES ARLUCS</td>\n      <td>CANNES</td>\n      <td>NaN</td>\n    </tr>\n    <tr>\n      <th>134</th>\n      <td>METRO CANNES LA BOCCA</td>\n      <td>CANNES</td>\n      <td>NaN</td>\n    </tr>\n    <tr>\n      <th>135</th>\n      <td>HOTEL MERCURE</td>\n      <td>CANNES</td>\n      <td>NaN</td>\n    </tr>\n    <tr>\n      <th>136</th>\n      <td>BOULEVARD DU MIDI LOUISE MOREAU</td>\n      <td>CANNES</td>\n      <td>NaN</td>\n    </tr>\n    <tr>\n      <th>137</th>\n      <td>AVENUE MAURICE CHEVALIER</td>\n      <td>CANNES</td>\n      <td>{00DA4896-5F99-4482-8BB9-5B0409B10D22}</td>\n    </tr>\n    <tr>\n      <th>138</th>\n      <td>INTERMARCHE</td>\n      <td>CANNES</td>\n      <td>NaN</td>\n    </tr>\n    <tr>\n      <th>139</th>\n      <td>RUE DOCTEUR PAUL BALOUX</td>\n      <td>CANNES</td>\n      <td>NaN</td>\n    </tr>\n    <tr>\n      <th>140</th>\n      <td>AVENUE DOCTEUR RAYMOND PICAUD</td>\n      <td>CANNES</td>\n      <td>{4945379B-BCAC-4C43-AE7E-5288176F67AB}</td>\n    </tr>\n    <tr>\n      <th>141</th>\n      <td>STE MARGUERITE</td>\n      <td>CANNES</td>\n      <td>NaN</td>\n    </tr>\n    <tr>\n      <th>142</th>\n      <td>147 AVENUE MAURICE CHEVALIER</td>\n      <td>CANNES</td>\n      <td>{4F3418ED-35CB-4362-A3E3-F28E7929C5AF}</td>\n    </tr>\n    <tr>\n      <th>143</th>\n      <td>MAURICE CHEVALIER</td>\n      <td>CANNES</td>\n      <td>{00DA4896-5F99-4482-8BB9-5B0409B10D22}</td>\n    </tr>\n    <tr>\n      <th>144</th>\n      <td>AVENUE DES BUISSONS ARDENTS</td>\n      <td>CANNES</td>\n      <td>{B77CBB4D-9BD4-452E-A992-4C23A98886A0}</td>\n    </tr>\n    <tr>\n      <th>145</th>\n      <td>AVENUE PIERRE DE COUBERTIN</td>\n      <td>CANNES</td>\n      <td>{8BCEA9BC-563B-475F-8725-2BA728AF55AA}</td>\n    </tr>\n    <tr>\n      <th>146</th>\n      <td>RUE DU MURIER</td>\n      <td>CANNES</td>\n      <td>NaN</td>\n    </tr>\n    <tr>\n      <th>147</th>\n      <td>AVENUE ANTONY DOZOL</td>\n      <td>CANNES</td>\n      <td>NaN</td>\n    </tr>\n    <tr>\n      <th>148</th>\n      <td>AVENUE DU VERCORS</td>\n      <td>CANNES</td>\n      <td>{0666E598-3357-41DD-B23D-30204991D68F}</td>\n    </tr>\n    <tr>\n      <th>149</th>\n      <td>BOULEVARD DU SOLEIL</td>\n      <td>CANNES</td>\n      <td>{78E8BDA1-A912-411C-9B2C-84568C3D886B}</td>\n    </tr>\n    <tr>\n      <th>150</th>\n      <td>IMPASSE FRANCOIS TUBY</td>\n      <td>CANNES</td>\n      <td>NaN</td>\n    </tr>\n    <tr>\n      <th>151</th>\n      <td>IMPASSE DE L'AUBAREDE</td>\n      <td>CANNES</td>\n      <td>NaN</td>\n    </tr>\n    <tr>\n      <th>152</th>\n      <td>AVENUE CROIX DES GARDES</td>\n      <td>CANNES</td>\n      <td>NaN</td>\n    </tr>\n    <tr>\n      <th>153</th>\n      <td>BOULEVARD LEADER</td>\n      <td>CANNES</td>\n      <td>{15D053B0-465F-4C64-A878-93EA2FB6B1E2}</td>\n    </tr>\n    <tr>\n      <th>154</th>\n      <td>BOULEVARD DU PERIER</td>\n      <td>CANNES</td>\n      <td>NaN</td>\n    </tr>\n    <tr>\n      <th>155</th>\n      <td>ROUTE DU VILLAGE</td>\n      <td>CANNES</td>\n      <td>{A32F116F-542D-4709-B4B0-07E2E3394DF8}</td>\n    </tr>\n    <tr>\n      <th>156</th>\n      <td>CHEMIN DU PERIER</td>\n      <td>CANNES</td>\n      <td>NaN</td>\n    </tr>\n    <tr>\n      <th>157</th>\n      <td>CHEMIN DE LA MERLETTE</td>\n      <td>CANNES</td>\n      <td>NaN</td>\n    </tr>\n    <tr>\n      <th>158</th>\n      <td>RUE VENIZELOS</td>\n      <td>CANNES</td>\n      <td>{7BA25EC8-7338-4049-B5D4-A1CEF519BD44}</td>\n    </tr>\n    <tr>\n      <th>159</th>\n      <td>BOULEVARD DU MIDI JEAN HIBERT</td>\n      <td>CANNES</td>\n      <td>NaN</td>\n    </tr>\n    <tr>\n      <th>160</th>\n      <td>RUE GEORGES CLEMENCEAU</td>\n      <td>CANNES</td>\n      <td>NaN</td>\n    </tr>\n    <tr>\n      <th>161</th>\n      <td>QUAI SAINT-PIERRE</td>\n      <td>CANNES</td>\n      <td>NaN</td>\n    </tr>\n    <tr>\n      <th>162</th>\n      <td>PALAIS DES FESTIVALS</td>\n      <td>CANNES</td>\n      <td>NaN</td>\n    </tr>\n    <tr>\n      <th>163</th>\n      <td>BOULEVARD EUGENE GAZAGNAIRE</td>\n      <td>CANNES</td>\n      <td>NaN</td>\n    </tr>\n    <tr>\n      <th>164</th>\n      <td>BOULEVARD DE LA SOURCE</td>\n      <td>CANNES</td>\n      <td>{52F421C7-2F8D-49FA-A2E1-5BD27C2481C3}</td>\n    </tr>\n    <tr>\n      <th>165</th>\n      <td>BOULEVARD MONTFLEURY</td>\n      <td>CANNES</td>\n      <td>NaN</td>\n    </tr>\n    <tr>\n      <th>166</th>\n      <td>AVENUE BEAUSEJOUR</td>\n      <td>CANNES</td>\n      <td>NaN</td>\n    </tr>\n    <tr>\n      <th>167</th>\n      <td>AVENUE DE LORRAINE</td>\n      <td>CANNES</td>\n      <td>NaN</td>\n    </tr>\n    <tr>\n      <th>168</th>\n      <td>BOULEVARD GENERAL VAUTRIN</td>\n      <td>CANNES</td>\n      <td>NaN</td>\n    </tr>\n    <tr>\n      <th>169</th>\n      <td>BOULEVARD VAUTRIN</td>\n      <td>CANNES</td>\n      <td>NaN</td>\n    </tr>\n    <tr>\n      <th>170</th>\n      <td>BOULEVARD DALSACE PROLONGE</td>\n      <td>CANNES</td>\n      <td>NaN</td>\n    </tr>\n    <tr>\n      <th>171</th>\n      <td>AVENUE ROI ALBERT</td>\n      <td>CANNES</td>\n      <td>{5960D78D-A1CC-4D52-B8F9-60FBDE4D4316}</td>\n    </tr>\n    <tr>\n      <th>172</th>\n      <td>55 AVENUE DU ROI ALBERT 1ER</td>\n      <td>CANNES</td>\n      <td>{2B888EBC-34ED-4332-B555-94F26762975E}</td>\n    </tr>\n    <tr>\n      <th>173</th>\n      <td>BOULEVARD DES PINS</td>\n      <td>CANNES</td>\n      <td>{34FD9A1B-D90D-42D9-9A0F-55262C1EF7FC}</td>\n    </tr>\n    <tr>\n      <th>174</th>\n      <td>AVENUE LILY PONS</td>\n      <td>CANNES</td>\n      <td>{4655CA3B-1812-4F2D-8421-13C6DA8D948D}</td>\n    </tr>\n    <tr>\n      <th>175</th>\n      <td>AVENUE ISOLA BELLA</td>\n      <td>CANNES</td>\n      <td>{B25C8F92-6E04-4C9D-A4B2-4E53D6DC0DE2}</td>\n    </tr>\n    <tr>\n      <th>176</th>\n      <td>AVENUE DE BENEFIAT</td>\n      <td>CANNES</td>\n      <td>{593D59A1-511D-4A36-8FFB-D94597FC1296}</td>\n    </tr>\n    <tr>\n      <th>177</th>\n      <td>CHEMIN DES ARAUCARIAS</td>\n      <td>CANNES</td>\n      <td>NaN</td>\n    </tr>\n    <tr>\n      <th>178</th>\n      <td>BOULEVARD DE LA CROISETTE</td>\n      <td>CANNES</td>\n      <td>NaN</td>\n    </tr>\n    <tr>\n      <th>179</th>\n      <td>BD DALSACE</td>\n      <td>CANNES</td>\n      <td>NaN</td>\n    </tr>\n    <tr>\n      <th>180</th>\n      <td>BOULEVARD ALSACE</td>\n      <td>CANNES</td>\n      <td>NaN</td>\n    </tr>\n    <tr>\n      <th>181</th>\n      <td>AVENUE DES COTEAUX</td>\n      <td>CANNES</td>\n      <td>{8BD66729-83A2-487E-83C9-F822ED3DEB64}</td>\n    </tr>\n    <tr>\n      <th>182</th>\n      <td>BOULEVARD DE LA REPUBLIQUE</td>\n      <td>CANNES</td>\n      <td>NaN</td>\n    </tr>\n    <tr>\n      <th>183</th>\n      <td>RUE REYER</td>\n      <td>CANNES</td>\n      <td>{311F1BF6-2C8D-4AC3-8BE4-4FBF9D94C5D0}</td>\n    </tr>\n    <tr>\n      <th>184</th>\n      <td>RUE GALIENI</td>\n      <td>CANNES</td>\n      <td>NaN</td>\n    </tr>\n    <tr>\n      <th>185</th>\n      <td>RUE BOUCICAUT</td>\n      <td>CANNES</td>\n      <td>{48C20876-208C-4B5A-9344-6EB03940C8CC}</td>\n    </tr>\n    <tr>\n      <th>186</th>\n      <td>AVENUE COMMANDANT BRET</td>\n      <td>CANNES</td>\n      <td>{1299EC66-09F9-4A34-80C4-A21AE7EBD5DE}</td>\n    </tr>\n    <tr>\n      <th>187</th>\n      <td>AVENUE DE TERREFIAL</td>\n      <td>CANNES</td>\n      <td>NaN</td>\n    </tr>\n    <tr>\n      <th>188</th>\n      <td>AVENUE DE VALLAURIS</td>\n      <td>CANNES</td>\n      <td>{F2FE87E3-56EF-4F7D-B598-F7A8A463D2A0}</td>\n    </tr>\n    <tr>\n      <th>189</th>\n      <td>CHEMIN DES COLLINES</td>\n      <td>CANNES</td>\n      <td>{1E21AA51-085C-469B-9469-6D27AF5A917F}</td>\n    </tr>\n    <tr>\n      <th>190</th>\n      <td>AVENUE FRANCIS TONNER</td>\n      <td>CANNES</td>\n      <td>{A5399E79-CACE-45EE-8BD7-14B1B712C1DC}</td>\n    </tr>\n    <tr>\n      <th>191</th>\n      <td>AVENUE DE LA ROUBINE</td>\n      <td>CANNES</td>\n      <td>{D71E4D12-82A5-475B-AE3A-3165971D0008}</td>\n    </tr>\n    <tr>\n      <th>192</th>\n      <td>AVENUE PIERRE SEMARD</td>\n      <td>CANNES</td>\n      <td>{91114210-92D6-4B48-81FF-2576EB07F36A}</td>\n    </tr>\n    <tr>\n      <th>193</th>\n      <td>RUE DE LA VERRERIE</td>\n      <td>CANNES</td>\n      <td>NaN</td>\n    </tr>\n    <tr>\n      <th>194</th>\n      <td>BOULEVARD DE LA MER</td>\n      <td>CANNES</td>\n      <td>NaN</td>\n    </tr>\n    <tr>\n      <th>195</th>\n      <td>AVENUE JEAN NOAILLES</td>\n      <td>CANNES</td>\n      <td>NaN</td>\n    </tr>\n    <tr>\n      <th>196</th>\n      <td>BOULEVARD WESTER WESMYSS</td>\n      <td>CANNES</td>\n      <td>NaN</td>\n    </tr>\n    <tr>\n      <th>197</th>\n      <td>BOUULEVARD EUGENE COINTET</td>\n      <td>CANNES</td>\n      <td>NaN</td>\n    </tr>\n    <tr>\n      <th>198</th>\n      <td>AV MICHEL JOURDAN</td>\n      <td>CANNES</td>\n      <td>NaN</td>\n    </tr>\n    <tr>\n      <th>199</th>\n      <td>AVENUE MICHEL JOURDAN</td>\n      <td>CANNES</td>\n      <td>{66DDB397-36D1-4B7A-A93D-C871C21F29C3}</td>\n    </tr>\n    <tr>\n      <th>200</th>\n      <td>IMPASSE DES LAVANDES</td>\n      <td>CANNES</td>\n      <td>{B2CF3041-DBE7-495C-9BEC-AAF84243F201}</td>\n    </tr>\n    <tr>\n      <th>201</th>\n      <td>BOULEVARD DE L'ESTEREL</td>\n      <td>CANNES</td>\n      <td>NaN</td>\n    </tr>\n    <tr>\n      <th>202</th>\n      <td>CHEMIN DES GOURGUETTES</td>\n      <td>CANNES</td>\n      <td>{FCC3E490-A08F-470C-AA06-A1CF11FDBC66}</td>\n    </tr>\n    <tr>\n      <th>203</th>\n      <td>CHEMIN RURAL DE LA FRAYERE</td>\n      <td>CANNES</td>\n      <td>{421D7096-5F63-475D-B6D7-56C72D82A607}</td>\n    </tr>\n    <tr>\n      <th>204</th>\n      <td>RUE BALZAC</td>\n      <td>CANNES</td>\n      <td>NaN</td>\n    </tr>\n    <tr>\n      <th>205</th>\n      <td>AVENUE VICTOR HUGO</td>\n      <td>CANNES</td>\n      <td>{D046CCE1-8F9A-4DA1-9250-FC4C79FC2991}</td>\n    </tr>\n    <tr>\n      <th>206</th>\n      <td>BOULEVARD DU MIDI</td>\n      <td>CANNES</td>\n      <td>{274DDD55-6209-48BC-ADD3-DD1EBBC69D05}</td>\n    </tr>\n    <tr>\n      <th>207</th>\n      <td>AVENUE REINE ASTRID</td>\n      <td>CANNES</td>\n      <td>{DF2BA8D1-F205-44DE-AE56-C0A308D52BA5}</td>\n    </tr>\n    <tr>\n      <th>208</th>\n      <td>42 BOULEVARD ALEXANDRE III</td>\n      <td>CANNES</td>\n      <td>NaN</td>\n    </tr>\n    <tr>\n      <th>209</th>\n      <td>AVENUE ANDRE CAPRON</td>\n      <td>CANNES</td>\n      <td>NaN</td>\n    </tr>\n    <tr>\n      <th>210</th>\n      <td>BOULEVARD ALSACE PROLONGE</td>\n      <td>CANNES</td>\n      <td>NaN</td>\n    </tr>\n    <tr>\n      <th>211</th>\n      <td>RUE VOLTA</td>\n      <td>CANNES</td>\n      <td>{932DAD2E-FBC6-41C0-B9EC-9B5A247CE592}</td>\n    </tr>\n    <tr>\n      <th>212</th>\n      <td>AVENUE DU PETIT JUAS</td>\n      <td>CANNES</td>\n      <td>NaN</td>\n    </tr>\n    <tr>\n      <th>213</th>\n      <td>RUE SAINT LOUIS</td>\n      <td>CANNES</td>\n      <td>NaN</td>\n    </tr>\n    <tr>\n      <th>214</th>\n      <td>RUE POUSSIN BUCQUET</td>\n      <td>CANNES</td>\n      <td>NaN</td>\n    </tr>\n    <tr>\n      <th>215</th>\n      <td>AVENUE PIERRE DE POESI</td>\n      <td>CANNES</td>\n      <td>NaN</td>\n    </tr>\n    <tr>\n      <th>216</th>\n      <td>RUE JEAN CREPS</td>\n      <td>CANNES</td>\n      <td>NaN</td>\n    </tr>\n    <tr>\n      <th>217</th>\n      <td>PROMENADE DES MURIERS</td>\n      <td>CANNES</td>\n      <td>NaN</td>\n    </tr>\n    <tr>\n      <th>218</th>\n      <td>BOULEVARD DU MIDILOUISE MOREAU</td>\n      <td>CANNES</td>\n      <td>NaN</td>\n    </tr>\n    <tr>\n      <th>219</th>\n      <td>14 RUE DE LA LIBERATION</td>\n      <td>CANNES</td>\n      <td>NaN</td>\n    </tr>\n    <tr>\n      <th>220</th>\n      <td>JETEE ALBERT EDOUARD</td>\n      <td>CANNES</td>\n      <td>NaN</td>\n    </tr>\n    <tr>\n      <th>221</th>\n      <td>ILE SAINT HONORAT</td>\n      <td>CANNES</td>\n      <td>NaN</td>\n    </tr>\n    <tr>\n      <th>222</th>\n      <td>PORT LE GALERE</td>\n      <td>THÉOULE-SUR-MER</td>\n      <td>NaN</td>\n    </tr>\n    <tr>\n      <th>223</th>\n      <td>AVENUE JEAN JAURES</td>\n      <td>CANNES</td>\n      <td>NaN</td>\n    </tr>\n    <tr>\n      <th>224</th>\n      <td>SALLE EUROPA</td>\n      <td>MANDELIEU-LA-NAPOULE</td>\n      <td>NaN</td>\n    </tr>\n    <tr>\n      <th>225</th>\n      <td>BOULEVARD D'ALSACE PROLONGE</td>\n      <td>CANNES</td>\n      <td>NaN</td>\n    </tr>\n    <tr>\n      <th>226</th>\n      <td>BOULEVARD EUGENE COINTET</td>\n      <td>CANNES</td>\n      <td>NaN</td>\n    </tr>\n    <tr>\n      <th>227</th>\n      <td>BD D'ALSACE</td>\n      <td>CANNES</td>\n      <td>NaN</td>\n    </tr>\n    <tr>\n      <th>228</th>\n      <td>PANTIERO</td>\n      <td>CANNES</td>\n      <td>NaN</td>\n    </tr>\n    <tr>\n      <th>229</th>\n      <td>COLONNE EVENEMENTIELLE</td>\n      <td>CANNES</td>\n      <td>NaN</td>\n    </tr>\n    <tr>\n      <th>230</th>\n      <td>RUE MATTEI</td>\n      <td>LE CANNET</td>\n      <td>NaN</td>\n    </tr>\n    <tr>\n      <th>231</th>\n      <td>AVENUE DES ECOLES</td>\n      <td>LE CANNET</td>\n      <td>NaN</td>\n    </tr>\n    <tr>\n      <th>232</th>\n      <td>VOIE JULIA</td>\n      <td>LE CANNET</td>\n      <td>NaN</td>\n    </tr>\n    <tr>\n      <th>233</th>\n      <td>BOULEVARD ALBERT 1er</td>\n      <td>LE CANNET</td>\n      <td>NaN</td>\n    </tr>\n    <tr>\n      <th>234</th>\n      <td>ROUTE DES BREGUIERES</td>\n      <td>LE CANNET</td>\n      <td>{4165D80B-CD0E-4B31-94B8-C69E54C0C59E}</td>\n    </tr>\n    <tr>\n      <th>235</th>\n      <td>RUE BIR HAKEIM</td>\n      <td>LE CANNET</td>\n      <td>NaN</td>\n    </tr>\n    <tr>\n      <th>236</th>\n      <td>AVENUE VICTORIA</td>\n      <td>LE CANNET</td>\n      <td>NaN</td>\n    </tr>\n    <tr>\n      <th>237</th>\n      <td>RUE GEORGES POMPIDOU</td>\n      <td>LE CANNET</td>\n      <td>NaN</td>\n    </tr>\n    <tr>\n      <th>238</th>\n      <td>AVENUE FELIX FAURE</td>\n      <td>CANNES</td>\n      <td>NaN</td>\n    </tr>\n    <tr>\n      <th>239</th>\n      <td>DECHETTERIE DU CANNET</td>\n      <td>LE CANNET</td>\n      <td>NaN</td>\n    </tr>\n  </tbody>\n</table>\n</div>"
     },
     "metadata": {},
     "execution_count": 39
    }
   ],
   "source": [
    "for i in dataCollecteurVerre.index:\n",
    "    for j in dfCollecteursVerre.index:\n",
    "        if dataCollecteurVerre.loc[i, \"adresse\"].lower() in  dfCollecteursVerre.loc[j, \"adresse\"].lower():\n",
    "            dataCollecteurVerre.loc[i, \"globalid\"] = dfCollecteursVerre.loc[j, \"globalid\"]\n",
    "            break\n",
    "\n",
    "pd.set_option('display.max_rows', None)\n",
    "dataCollecteurVerre"
   ]
  },
  {
   "cell_type": "code",
   "execution_count": 40,
   "metadata": {},
   "outputs": [],
   "source": [
    "# Identification à la main des collecteurs par rapport aux adresses partielles\n",
    "dataCollecteurVerre[\"globalid\"] = [\"{96405317-A1A8-4339-BBAF-94650179420F}\",\n",
    " \"{98E96757-9AFC-478F-A11A-39CC56433E56}\",\n",
    " '{1B522953-3C4B-4576-AA43-8F55B7D244FF}',\n",
    " '{5F7D0829-9D85-4974-A808-EA2FC10898A0}',\n",
    " \"{DF9FB992-80F3-4231-B49C-420DD03A7B32}\",\n",
    " '{C684BEBE-6E02-4711-BD83-97CA18921587}',\n",
    " '{0528846E-354E-46A0-A941-89E23E812E38}',\n",
    " '{1ECBE717-5B9D-45B2-8FF0-FA34AAC74E84}',\n",
    " None,\n",
    " None,\n",
    " '{AC290C63-7627-46E8-8D9F-C2D699565324}',\n",
    " \"{17F63825-A388-47DD-B917-6FB09FF0D93F}\",\n",
    " \"{623C649B-5178-4C7A-9FF0-0C7F6350E697}\",\n",
    " '{18FBB315-C898-4566-BED4-C3AE1132747E}',\n",
    " \"{6A1F143D-B0ED-4BA0-852E-DA87DDDB81AA}\",\n",
    " '{57EAECC4-1EC0-4138-91BD-EFB3CDC07104}',\n",
    " None,\n",
    " None,\n",
    " None,\n",
    " None,\n",
    " '{95531C1F-3C2D-49EB-83A7-C13C33DDD18C}',\n",
    " None,\n",
    " None,\n",
    " None,\n",
    " '{AF180A6D-556E-4361-8F67-F075A5A99461}',\n",
    " \"{857D052C-F5AA-4CB1-9D9A-A8254FB4A869}\",\n",
    " None,\n",
    " '{794F5B1F-9499-4B0B-B1A9-B432A79E7FFA}',\n",
    " None,\n",
    " None,\n",
    " '{5B8C4DB7-7A05-4023-925B-BDC21717CF5F}',\n",
    " None,\n",
    " '{35C38FE5-53D7-4C67-84FE-093278149E73}',\n",
    " None,\n",
    " '{6DFBC25B-2B5A-43BC-B335-FD82F5A7367C}',\n",
    " None,\n",
    " None,\n",
    " '{2893EAC1-3E91-4991-8D79-9721E04E29F6}',\n",
    " None,\n",
    " '{611C4F93-63E4-400B-AC94-5E18D5BFC215}',\n",
    " None,\n",
    " None,\n",
    " '{2553CF7D-A8F6-43A1-9716-46150904739A}',\n",
    " '{4994F5D7-DDDE-4982-AB34-2651F1B39A8D}',\n",
    " '{D82FB384-193D-4175-BBC7-FBF767B81706}',\n",
    " '{447BB0AB-9A59-4F46-8660-5066B9D32B47}',\n",
    " None,\n",
    " None,\n",
    " None,\n",
    " None,\n",
    " None,\n",
    " '{86E2348D-C1FA-4F6E-B5E4-9DBA4997B2E7}',\n",
    " None,\n",
    " None,\n",
    " None,\n",
    " None,\n",
    " None,\n",
    " '{E1D75A70-538A-4D54-8AA0-A9C66CE98B64}',\n",
    " None,\n",
    " \"{9CABA1B7-11ED-48F9-87EA-2CEFDCBECA9C}\",\n",
    " None,\n",
    " None,\n",
    " None,\n",
    " None,\n",
    " '{957A8C1B-044D-4302-AA77-3B29B40B983F}',\n",
    " '{641E59B8-35B8-4652-A299-1A24C896D86E}',\n",
    " None,\n",
    " '{245AD3FA-BFE4-4520-B164-84F0D080A231}',\n",
    " None,\n",
    " None,\n",
    " '{26D8EE05-7FF3-4554-9371-C4F959ACE4C1}',\n",
    " '{471CA15A-B82C-4344-84DD-32A4562F6DDA}',\n",
    " None,\n",
    " None,\n",
    " '{DDA78DC1-F178-4F3D-BC26-4F918D8527FC}',\n",
    " None,\n",
    " None,\n",
    " None,\n",
    " None,\n",
    " None,\n",
    " None,\n",
    " None,\n",
    " None,\n",
    " '{EE3BB45D-3EE0-48BB-ABA0-B380B1668D64}',\n",
    " '{0378EE97-249E-4D88-AC58-BAE3B29B6549}',\n",
    " '{49967CED-F997-4F6E-912E-6F67E6FDBD06}',\n",
    " None,\n",
    " '{E82AD6BA-DEF2-4E60-97B7-339EC843B02F}',\n",
    " '{40E66CBA-23DE-42F8-97FA-2BB62FC69AAF}',\n",
    " '{2D66EECA-B0D2-4433-9DF1-3848F6E4C0B8}',\n",
    " '{D082FBD8-B8B8-4808-B18B-F9FEA9EC7A4D}',\n",
    " None,\n",
    " '{E198FC0D-D178-47A1-8220-4BA0FBE5DC98}',\n",
    " '{1374E7BC-43EE-4D07-980B-79B9A770F9E0}',\n",
    " \"{EE57E796-B764-4F17-AEE5-9DE98A27595B}\",\n",
    " None,\n",
    " None,\n",
    " None,\n",
    " None,\n",
    " None,\n",
    " None,\n",
    " '{15D6D1E2-A26B-48CA-B66B-D92924F2CB58}',\n",
    " None,\n",
    " None,\n",
    " \"{1B25A481-FA71-4110-B3A3-80E990577707}\",\n",
    " None,\n",
    " \"{123ECF2D-3BD2-46CA-8E6C-7107CB031694}\",\n",
    " None,\n",
    " None,\n",
    " None,\n",
    " None,\n",
    " '{4EEF9396-6E30-458F-9720-7F96E07A5495}',\n",
    " None,\n",
    " None,\n",
    " \"{13422586-12A7-4648-A89C-5FD30B8CF394}\",\n",
    " '{2066B095-8486-432C-8663-0B36B4C81159}',\n",
    " None,\n",
    " None,\n",
    " '{1CD8ADFB-11C9-471E-BA45-AC5B8EDFBCCE}',\n",
    " '{94AB067C-9BC3-4A6F-BFF6-61B20F8DE0B8}',\n",
    " '{228A7CA2-8116-4471-8C11-E40994255C56}',\n",
    " None,\n",
    " None,\n",
    " None,\n",
    " None,\n",
    " '{6AB007CF-5B5F-4D4B-AB83-09E4DB36AB65}',\n",
    " '{D3D723CF-D370-4923-914A-2D8A020E56A4}',\n",
    " None,\n",
    " \"{73F10645-C3A9-48AA-A648-78FCE437AC52}\",\n",
    " '{87081FAC-7D3D-4EDD-A7B1-7A543E59A6E6}',\n",
    " \"{63444290-0A33-47A1-8ED3-2081E4C244BB}\", #Doute\n",
    " \"{65160453-0E8B-4A21-BBF9-F1CD54D73F4F}\",\n",
    " None,\n",
    " None,\n",
    " None,\n",
    " None,\n",
    " None,\n",
    " '{00DA4896-5F99-4482-8BB9-5B0409B10D22}',\n",
    " None,\n",
    " None,\n",
    " '{4945379B-BCAC-4C43-AE7E-5288176F67AB}',\n",
    " None,\n",
    " '{4F3418ED-35CB-4362-A3E3-F28E7929C5AF}',\n",
    " '{00DA4896-5F99-4482-8BB9-5B0409B10D22}',\n",
    " '{B77CBB4D-9BD4-452E-A992-4C23A98886A0}',\n",
    " '{8BCEA9BC-563B-475F-8725-2BA728AF55AA}',\n",
    " None,\n",
    " None,\n",
    " '{0666E598-3357-41DD-B23D-30204991D68F}',\n",
    " '{78E8BDA1-A912-411C-9B2C-84568C3D886B}',\n",
    " None,\n",
    " None,\n",
    " None,\n",
    " '{15D053B0-465F-4C64-A878-93EA2FB6B1E2}',\n",
    " None,\n",
    " '{A32F116F-542D-4709-B4B0-07E2E3394DF8}',\n",
    " None,\n",
    " None,\n",
    " '{7BA25EC8-7338-4049-B5D4-A1CEF519BD44}',\n",
    " \"{2116CF38-F1DB-44C4-8D5E-31F345D2F182}\",\n",
    " \"{4D65582D-7F57-4E3F-9E53-50941AB9734A}\",\n",
    " \"{909437DD-6156-49A1-9D07-79FF642C2F27}\",\n",
    " \"{63D92ABB-A0B8-4179-B954-D378360AE4AA}\",\n",
    " \"{21B94E6A-D71C-434C-9D7B-18A4E2DC4B9F}\",\n",
    " '{52F421C7-2F8D-49FA-A2E1-5BD27C2481C3}',\n",
    " \"{20AFD7BF-26B1-4C20-B219-FE5A40D6E99E}\", #Doute\n",
    " \"{777561A0-A251-4DF9-A5C3-19B023832CCF}\",\n",
    " \"{44EB09E9-AB65-4ACC-8685-BB111FCE8242}\",\n",
    " None,\n",
    " None,\n",
    " None,\n",
    " '{5960D78D-A1CC-4D52-B8F9-60FBDE4D4316}',\n",
    " '{2B888EBC-34ED-4332-B555-94F26762975E}',\n",
    " '{34FD9A1B-D90D-42D9-9A0F-55262C1EF7FC}',\n",
    " '{4655CA3B-1812-4F2D-8421-13C6DA8D948D}',\n",
    " '{B25C8F92-6E04-4C9D-A4B2-4E53D6DC0DE2}',\n",
    " '{593D59A1-511D-4A36-8FFB-D94597FC1296}',\n",
    " None,\n",
    " None,\n",
    " \"{682A0076-6AE0-4AFD-9074-0F862BB77D7E}\",\n",
    " None,\n",
    " '{682A0076-6AE0-4AFD-9074-0F862BB77D7E}',\n",
    " \"{CDAFDEDE-23D0-44E8-B56E-28AFDC6F85E9}\",\n",
    " '{311F1BF6-2C8D-4AC3-8BE4-4FBF9D94C5D0}',\n",
    " None,\n",
    " '{48C20876-208C-4B5A-9344-6EB03940C8CC}',\n",
    " '{1299EC66-09F9-4A34-80C4-A21AE7EBD5DE}',\n",
    " None,\n",
    " '{F2FE87E3-56EF-4F7D-B598-F7A8A463D2A0}',\n",
    " '{1E21AA51-085C-469B-9469-6D27AF5A917F}',\n",
    " '{A5399E79-CACE-45EE-8BD7-14B1B712C1DC}',\n",
    " '{D71E4D12-82A5-475B-AE3A-3165971D0008}',\n",
    " '{91114210-92D6-4B48-81FF-2576EB07F36A}',\n",
    " \"{CD866B4A-3ABF-43BD-93C0-416B74CBB01E}\",\n",
    " \"{C3C73BE8-A400-4E96-B4F2-8D09741A2318}\",\n",
    " \"{B2C31F25-3266-494E-B453-601CF23C9FA6}\",\n",
    " \"{EBB4D959-0680-4F19-9191-49B86598BB14}\",\n",
    " \"{5BBDE398-325F-4EC2-82E8-7FF2B27C6FD0}\",\n",
    " \"{A9B94D9F-7008-47D0-BF75-C630BE399516}\",\n",
    " '{66DDB397-36D1-4B7A-A93D-C871C21F29C3}',\n",
    " '{B2CF3041-DBE7-495C-9BEC-AAF84243F201}',\n",
    " None,\n",
    " '{FCC3E490-A08F-470C-AA06-A1CF11FDBC66}',\n",
    " '{421D7096-5F63-475D-B6D7-56C72D82A607}',\n",
    " None,\n",
    " '{D046CCE1-8F9A-4DA1-9250-FC4C79FC2991}',\n",
    " '{274DDD55-6209-48BC-ADD3-DD1EBBC69D05}',\n",
    " '{DF2BA8D1-F205-44DE-AE56-C0A308D52BA5}',\n",
    " \"{7F60A630-74F1-420E-8ED4-2A1D261B760A}\",\n",
    " \"{67C17E81-EE01-45E7-8A2A-781C462BFFEF}\",\n",
    " None,\n",
    " '{932DAD2E-FBC6-41C0-B9EC-9B5A247CE592}',\n",
    " \"{7811EAEB-E487-430E-AFF0-AF92C68ED45B}\",\n",
    " \"{23FDB93F-DAF3-4D80-8AF1-6BA0A1048E0C}\",\n",
    " None,\n",
    " None,\n",
    " None,\n",
    " None,\n",
    " None,\n",
    " None,\n",
    " None,\n",
    " None,\n",
    " None,\n",
    " None,\n",
    " None,\n",
    " None,\n",
    " None,\n",
    " None,\n",
    " None,\n",
    " None,\n",
    " None,\n",
    " \"{53A950D2-7678-4A82-8286-B8EBCFF7C5B8}\",\n",
    " None,\n",
    " \"{D54617C8-638F-4D12-A15C-9A733959CA6F}\",\n",
    " '{4165D80B-CD0E-4B31-94B8-C69E54C0C59E}',\n",
    " \"{D38A9E22-746B-4E54-A938-8B1D86B0C63E}\",\n",
    " None,\n",
    " None,\n",
    " \"{ADDA617C-F1F7-4EB1-96F0-2290E54FCA24}\",\n",
    " \"{0A29DE42-2D62-4903-8A4B-0223B3748DB9}\"]"
   ]
  },
  {
   "cell_type": "code",
   "execution_count": 41,
   "metadata": {},
   "outputs": [
    {
     "output_type": "execute_result",
     "data": {
      "text/plain": [
       "HÉOULE-SUR-MER   \n",
       "101                     BD VICTOR TUBY                CANNES   \n",
       "102                    MARCHE FORVILLE                CANNES   \n",
       "103                 AVENUE VICTOR TUBY                CANNES   \n",
       "104                 AVENUE LOUIS BLANC                CANNES   \n",
       "105              PLACE CORNUT GENTILLE                CANNES   \n",
       "106                     AVENUE LAUGIER                CANNES   \n",
       "107                RUE JEAN DE RIOUFFE                CANNES   \n",
       "108                ALLEE DE LA LIBERTE                CANNES   \n",
       "109                    RUE FELIX FAURE                CANNES   \n",
       "110                    MARCHE GAMBETTA                CANNES   \n",
       "111                  RUE VICTOR COUSIN                CANNES   \n",
       "112          ROND POINT DUBOYS DANGERS                CANNES   \n",
       "113                 RUE PASTEUR ROUAZE                CANNES   \n",
       "114                   AVENUE DE LERINS                CANNES   \n",
       "115                        RUE MASSENA                CANNES   \n",
       "116                         RUE MILTON                CANNES   \n",
       "117                 BOULEVARD D'OXFORD                CANNES   \n",
       "118                             OXFORD                CANNES   \n",
       "119            AVENUE PRINCE DE GALLES                CANNES   \n",
       "120  AVENUE JEAN DE LATTRE DE TASSIGNY                CANNES   \n",
       "121          AVENUE DE GRASSE X DELAUP                CANNES   \n",
       "122            BOULEVARD LORD BROUGHAM                CANNES   \n",
       "123                BOULEVARD DU MOULIN                CANNES   \n",
       "124              BOULEVARD VALLOMBROSA                CANNES   \n",
       "125                  BOULEVARD DU RIOU                CANNES   \n",
       "126                   AVENUE DE GRASSE                CANNES   \n",
       "127                   IMPASSE BEAULIEU                CANNES   \n",
       "128    79 AVENUE DE LATTRE DE TASSIGNY                CANNES   \n",
       "129            AVENUE DES BROUSSAILLES                CANNES   \n",
       "130          ECHANGEUR DE CANNES OUEST                CANNES   \n",
       "131         CHEMIN DE LA BASTIDE ROUGE                CANNES   \n",
       "132                   PARKING AEROPORT                CANNES   \n",
       "133                  AVENUE DES ARLUCS                CANNES   \n",
       "134              METRO CANNES LA BOCCA                CANNES   \n",
       "135                      HOTEL MERCURE                CANNES   \n",
       "136    BOULEVARD DU MIDI LOUISE MOREAU                CANNES   \n",
       "137           AVENUE MAURICE CHEVALIER                CANNES   \n",
       "138                        INTERMARCHE                CANNES   \n",
       "139            RUE DOCTEUR PAUL BALOUX                CANNES   \n",
       "140      AVENUE DOCTEUR RAYMOND PICAUD                CANNES   \n",
       "141                     STE MARGUERITE                CANNES   \n",
       "142       147 AVENUE MAURICE CHEVALIER                CANNES   \n",
       "143                  MAURICE CHEVALIER                CANNES   \n",
       "144        AVENUE DES BUISSONS ARDENTS                CANNES   \n",
       "145         AVENUE PIERRE DE COUBERTIN                CANNES   \n",
       "146                      RUE DU MURIER                CANNES   \n",
       "147                AVENUE ANTONY DOZOL                CANNES   \n",
       "148                  AVENUE DU VERCORS                CANNES   \n",
       "149                BOULEVARD DU SOLEIL                CANNES   \n",
       "150              IMPASSE FRANCOIS TUBY                CANNES   \n",
       "151              IMPASSE DE L'AUBAREDE                CANNES   \n",
       "152            AVENUE CROIX DES GARDES                CANNES   \n",
       "153                   BOULEVARD LEADER                CANNES   \n",
       "154                BOULEVARD DU PERIER                CANNES   \n",
       "155                   ROUTE DU VILLAGE                CANNES   \n",
       "156                   CHEMIN DU PERIER                CANNES   \n",
       "157              CHEMIN DE LA MERLETTE                CANNES   \n",
       "158                      RUE VENIZELOS                CANNES   \n",
       "159      BOULEVARD DU MIDI JEAN HIBERT                CANNES   \n",
       "160             RUE GEORGES CLEMENCEAU                CANNES   \n",
       "161                  QUAI SAINT-PIERRE                CANNES   \n",
       "162               PALAIS DES FESTIVALS                CANNES   \n",
       "163        BOULEVARD EUGENE GAZAGNAIRE                CANNES   \n",
       "164             BOULEVARD DE LA SOURCE                CANNES   \n",
       "165               BOULEVARD MONTFLEURY                CANNES   \n",
       "166                  AVENUE BEAUSEJOUR                CANNES   \n",
       "167                 AVENUE DE LORRAINE                CANNES   \n",
       "168          BOULEVARD GENERAL VAUTRIN                CANNES   \n",
       "169                  BOULEVARD VAUTRIN                CANNES   \n",
       "170         BOULEVARD DALSACE PROLONGE                CANNES   \n",
       "171                  AVENUE ROI ALBERT                CANNES   \n",
       "172        55 AVENUE DU ROI ALBERT 1ER                CANNES   \n",
       "173                 BOULEVARD DES PINS                CANNES   \n",
       "174                   AVENUE LILY PONS                CANNES   \n",
       "175                 AVENUE ISOLA BELLA                CANNES   \n",
       "176                 AVENUE DE BENEFIAT                CANNES   \n",
       "177              CHEMIN DES ARAUCARIAS                CANNES   \n",
       "178          BOULEVARD DE LA CROISETTE                CANNES   \n",
       "179                         BD DALSACE                CANNES   \n",
       "180                   BOULEVARD ALSACE                CANNES   \n",
       "181                 AVENUE DES COTEAUX                CANNES   \n",
       "182         BOULEVARD DE LA REPUBLIQUE                CANNES   \n",
       "183                          RUE REYER                CANNES   \n",
       "184                        RUE GALIENI                CANNES   \n",
       "185                      RUE BOUCICAUT                CANNES   \n",
       "186             AVENUE COMMANDANT BRET                CANNES   \n",
       "187                AVENUE DE TERREFIAL                CANNES   \n",
       "188                AVENUE DE VALLAURIS                CANNES   \n",
       "189                CHEMIN DES COLLINES                CANNES   \n",
       "190              AVENUE FRANCIS TONNER                CANNES   \n",
       "191               AVENUE DE LA ROUBINE                CANNES   \n",
       "192               AVENUE PIERRE SEMARD                CANNES   \n",
       "193                 RUE DE LA VERRERIE                CANNES   \n",
       "194                BOULEVARD DE LA MER                CANNES   \n",
       "195               AVENUE JEAN NOAILLES                CANNES   \n",
       "196           BOULEVARD WESTER WESMYSS                CANNES   \n",
       "197          BOUULEVARD EUGENE COINTET                CANNES   \n",
       "198                  AV MICHEL JOURDAN                CANNES   \n",
       "199              AVENUE MICHEL JOURDAN                CANNES   \n",
       "200               IMPASSE DES LAVANDES                CANNES   \n",
       "201             BOULEVARD DE L'ESTEREL                CANNES   \n",
       "202             CHEMIN DES GOURGUETTES                CANNES   \n",
       "203         CHEMIN RURAL DE LA FRAYERE                CANNES   \n",
       "204                         RUE BALZAC                CANNES   \n",
       "205                 AVENUE VICTOR HUGO                CANNES   \n",
       "206                  BOULEVARD DU MIDI                CANNES   \n",
       "207                AVENUE REINE ASTRID                CANNES   \n",
       "208         42 BOULEVARD ALEXANDRE III                CANNES   \n",
       "209                AVENUE ANDRE CAPRON                CANNES   \n",
       "210          BOULEVARD ALSACE PROLONGE                CANNES   \n",
       "211                          RUE VOLTA                CANNES   \n",
       "212               AVENUE DU PETIT JUAS                CANNES   \n",
       "213                    RUE SAINT LOUIS                CANNES   \n",
       "214                RUE POUSSIN BUCQUET                CANNES   \n",
       "215             AVENUE PIERRE DE POESI                CANNES   \n",
       "216                     RUE JEAN CREPS                CANNES   \n",
       "217              PROMENADE DES MURIERS                CANNES   \n",
       "218     BOULEVARD DU MIDILOUISE MOREAU                CANNES   \n",
       "219            14 RUE DE LA LIBERATION                CANNES   \n",
       "220               JETEE ALBERT EDOUARD                CANNES   \n",
       "221                  ILE SAINT HONORAT                CANNES   \n",
       "222                     PORT LE GALERE       THÉOULE-SUR-MER   \n",
       "223                 AVENUE JEAN JAURES                CANNES   \n",
       "224                       SALLE EUROPA  MANDELIEU-LA-NAPOULE   \n",
       "225        BOULEVARD D'ALSACE PROLONGE                CANNES   \n",
       "226           BOULEVARD EUGENE COINTET                CANNES   \n",
       "227                        BD D'ALSACE                CANNES   \n",
       "228                           PANTIERO                CANNES   \n",
       "229             COLONNE EVENEMENTIELLE                CANNES   \n",
       "230                         RUE MATTEI             LE CANNET   \n",
       "231                  AVENUE DES ECOLES             LE CANNET   \n",
       "232                         VOIE JULIA             LE CANNET   \n",
       "233               BOULEVARD ALBERT 1er             LE CANNET   \n",
       "234               ROUTE DES BREGUIERES             LE CANNET   \n",
       "235                     RUE BIR HAKEIM             LE CANNET   \n",
       "236                    AVENUE VICTORIA             LE CANNET   \n",
       "237               RUE GEORGES POMPIDOU             LE CANNET   \n",
       "238                 AVENUE FELIX FAURE                CANNES   \n",
       "239              DECHETTERIE DU CANNET             LE CANNET   \n",
       "\n",
       "                                   globalid  \n",
       "0    {96405317-A1A8-4339-BBAF-94650179420F}  \n",
       "1    {98E96757-9AFC-478F-A11A-39CC56433E56}  \n",
       "2    {1B522953-3C4B-4576-AA43-8F55B7D244FF}  \n",
       "3    {5F7D0829-9D85-4974-A808-EA2FC10898A0}  \n",
       "4    {DF9FB992-80F3-4231-B49C-420DD03A7B32}  \n",
       "5    {C684BEBE-6E02-4711-BD83-97CA18921587}  \n",
       "6    {0528846E-354E-46A0-A941-89E23E812E38}  \n",
       "7    {1ECBE717-5B9D-45B2-8FF0-FA34AAC74E84}  \n",
       "8                                      None  \n",
       "9                                      None  \n",
       "10   {AC290C63-7627-46E8-8D9F-C2D699565324}  \n",
       "11   {17F63825-A388-47DD-B917-6FB09FF0D93F}  \n",
       "12   {623C649B-5178-4C7A-9FF0-0C7F6350E697}  \n",
       "13   {18FBB315-C898-4566-BED4-C3AE1132747E}  \n",
       "14   {6A1F143D-B0ED-4BA0-852E-DA87DDDB81AA}  \n",
       "15   {57EAECC4-1EC0-4138-91BD-EFB3CDC07104}  \n",
       "16                                     None  \n",
       "17                                     None  \n",
       "18                                     None  \n",
       "19                                     None  \n",
       "20   {95531C1F-3C2D-49EB-83A7-C13C33DDD18C}  \n",
       "21                                     None  \n",
       "22                                     None  \n",
       "23                                     None  \n",
       "24   {AF180A6D-556E-4361-8F67-F075A5A99461}  \n",
       "25   {857D052C-F5AA-4CB1-9D9A-A8254FB4A869}  \n",
       "26                                     None  \n",
       "27   {794F5B1F-9499-4B0B-B1A9-B432A79E7FFA}  \n",
       "28                                     None  \n",
       "29                                     None  \n",
       "30   {5B8C4DB7-7A05-4023-925B-BDC21717CF5F}  \n",
       "31                                     None  \n",
       "32   {35C38FE5-53D7-4C67-84FE-093278149E73}  \n",
       "33                                     None  \n",
       "34   {6DFBC25B-2B5A-43BC-B335-FD82F5A7367C}  \n",
       "35                                     None  \n",
       "36                                     None  \n",
       "37   {2893EAC1-3E91-4991-8D79-9721E04E29F6}  \n",
       "38                                     None  \n",
       "39   {611C4F93-63E4-400B-AC94-5E18D5BFC215}  \n",
       "40                                     None  \n",
       "41                                     None  \n",
       "42   {2553CF7D-A8F6-43A1-9716-46150904739A}  \n",
       "43   {4994F5D7-DDDE-4982-AB34-2651F1B39A8D}  \n",
       "44   {D82FB384-193D-4175-BBC7-FBF767B81706}  \n",
       "45   {447BB0AB-9A59-4F46-8660-5066B9D32B47}  \n",
       "46                                     None  \n",
       "47                                     None  \n",
       "48                                     None  \n",
       "49                                     None  \n",
       "50                                     None  \n",
       "51   {86E2348D-C1FA-4F6E-B5E4-9DBA4997B2E7}  \n",
       "52                                     None  \n",
       "53                                     None  \n",
       "54                                     None  \n",
       "55                                     None  \n",
       "56                                     None  \n",
       "57   {E1D75A70-538A-4D54-8AA0-A9C66CE98B64}  \n",
       "58                                     None  \n",
       "59   {9CABA1B7-11ED-48F9-87EA-2CEFDCBECA9C}  \n",
       "60                                     None  \n",
       "61                                     None  \n",
       "62                                     None  \n",
       "63                                     None  \n",
       "64   {957A8C1B-044D-4302-AA77-3B29B40B983F}  \n",
       "65   {641E59B8-35B8-4652-A299-1A24C896D86E}  \n",
       "66                                     None  \n",
       "67   {245AD3FA-BFE4-4520-B164-84F0D080A231}  \n",
       "68                                     None  \n",
       "69                                     None  \n",
       "70   {26D8EE05-7FF3-4554-9371-C4F959ACE4C1}  \n",
       "71   {471CA15A-B82C-4344-84DD-32A4562F6DDA}  \n",
       "72                                     None  \n",
       "73                                     None  \n",
       "74   {DDA78DC1-F178-4F3D-BC26-4F918D8527FC}  \n",
       "75                                     None  \n",
       "76                                     None  \n",
       "77                                     None  \n",
       "78                                     None  \n",
       "79                                     None  \n",
       "80                                     None  \n",
       "81                                     None  \n",
       "82                                     None  \n",
       "83   {EE3BB45D-3EE0-48BB-ABA0-B380B1668D64}  \n",
       "84   {0378EE97-249E-4D88-AC58-BAE3B29B6549}  \n",
       "85   {49967CED-F997-4F6E-912E-6F67E6FDBD06}  \n",
       "86                                     None  \n",
       "87   {E82AD6BA-DEF2-4E60-97B7-339EC843B02F}  \n",
       "88   {40E66CBA-23DE-42F8-97FA-2BB62FC69AAF}  \n",
       "89   {2D66EECA-B0D2-4433-9DF1-3848F6E4C0B8}  \n",
       "90   {D082FBD8-B8B8-4808-B18B-F9FEA9EC7A4D}  \n",
       "91                                     None  \n",
       "92   {E198FC0D-D178-47A1-8220-4BA0FBE5DC98}  \n",
       "93   {1374E7BC-43EE-4D07-980B-79B9A770F9E0}  \n",
       "94   {EE57E796-B764-4F17-AEE5-9DE98A27595B}  \n",
       "95                                     None  \n",
       "96                                     None  \n",
       "97                                     None  \n",
       "98                                     None  \n",
       "99                                     None  \n",
       "100                                    None  \n",
       "101  {15D6D1E2-A26B-48CA-B66B-D92924F2CB58}  \n",
       "102                                    None  \n",
       "103                                    None  \n",
       "104  {1B25A481-FA71-4110-B3A3-80E990577707}  \n",
       "105                                    None  \n",
       "106  {123ECF2D-3BD2-46CA-8E6C-7107CB031694}  \n",
       "107                                    None  \n",
       "108                                    None  \n",
       "109                                    None  \n",
       "110                                    None  \n",
       "111  {4EEF9396-6E30-458F-9720-7F96E07A5495}  \n",
       "112                                    None  \n",
       "113                                    None  \n",
       "114  {13422586-12A7-4648-A89C-5FD30B8CF394}  \n",
       "115  {2066B095-8486-432C-8663-0B36B4C81159}  \n",
       "116                                    None  \n",
       "117                                    None  \n",
       "118  {1CD8ADFB-11C9-471E-BA45-AC5B8EDFBCCE}  \n",
       "119  {94AB067C-9BC3-4A6F-BFF6-61B20F8DE0B8}  \n",
       "120  {228A7CA2-8116-4471-8C11-E40994255C56}  \n",
       "121                                    None  \n",
       "122                                    None  \n",
       "123                                    None  \n",
       "124                                    None  \n",
       "125  {6AB007CF-5B5F-4D4B-AB83-09E4DB36AB65}  \n",
       "126  {D3D723CF-D370-4923-914A-2D8A020E56A4}  \n",
       "127                                    None  \n",
       "128  {73F10645-C3A9-48AA-A648-78FCE437AC52}  \n",
       "129  {87081FAC-7D3D-4EDD-A7B1-7A543E59A6E6}  \n",
       "130  {63444290-0A33-47A1-8ED3-2081E4C244BB}  \n",
       "131  {65160453-0E8B-4A21-BBF9-F1CD54D73F4F}  \n",
       "132                                    None  \n",
       "133                                    None  \n",
       "134                                    None  \n",
       "135                                    None  \n",
       "136                                    None  \n",
       "137  {00DA4896-5F99-4482-8BB9-5B0409B10D22}  \n",
       "138                                    None  \n",
       "139                                    None  \n",
       "140  {4945379B-BCAC-4C43-AE7E-5288176F67AB}  \n",
       "141                                    None  \n",
       "142  {4F3418ED-35CB-4362-A3E3-F28E7929C5AF}  \n",
       "143  {00DA4896-5F99-4482-8BB9-5B0409B10D22}  \n",
       "144  {B77CBB4D-9BD4-452E-A992-4C23A98886A0}  \n",
       "145  {8BCEA9BC-563B-475F-8725-2BA728AF55AA}  \n",
       "146                                    None  \n",
       "147                                    None  \n",
       "148  {0666E598-3357-41DD-B23D-30204991D68F}  \n",
       "149  {78E8BDA1-A912-411C-9B2C-84568C3D886B}  \n",
       "150                                    None  \n",
       "151                                    None  \n",
       "152                                    None  \n",
       "153  {15D053B0-465F-4C64-A878-93EA2FB6B1E2}  \n",
       "154                                    None  \n",
       "155  {A32F116F-542D-4709-B4B0-07E2E3394DF8}  \n",
       "156                                    None  \n",
       "157                                    None  \n",
       "158  {7BA25EC8-7338-4049-B5D4-A1CEF519BD44}  \n",
       "159  {2116CF38-F1DB-44C4-8D5E-31F345D2F182}  \n",
       "160  {4D65582D-7F57-4E3F-9E53-50941AB9734A}  \n",
       "161  {909437DD-6156-49A1-9D07-79FF642C2F27}  \n",
       "162  {63D92ABB-A0B8-4179-B954-D378360AE4AA}  \n",
       "163  {21B94E6A-D71C-434C-9D7B-18A4E2DC4B9F}  \n",
       "164  {52F421C7-2F8D-49FA-A2E1-5BD27C2481C3}  \n",
       "165  {20AFD7BF-26B1-4C20-B219-FE5A40D6E99E}  \n",
       "166  {777561A0-A251-4DF9-A5C3-19B023832CCF}  \n",
       "167  {44EB09E9-AB65-4ACC-8685-BB111FCE8242}  \n",
       "168                                    None  \n",
       "169                                    None  \n",
       "170                                    None  \n",
       "171  {5960D78D-A1CC-4D52-B8F9-60FBDE4D4316}  \n",
       "172  {2B888EBC-34ED-4332-B555-94F26762975E}  \n",
       "173  {34FD9A1B-D90D-42D9-9A0F-55262C1EF7FC}  \n",
       "174  {4655CA3B-1812-4F2D-8421-13C6DA8D948D}  \n",
       "175  {B25C8F92-6E04-4C9D-A4B2-4E53D6DC0DE2}  \n",
       "176  {593D59A1-511D-4A36-8FFB-D94597FC1296}  \n",
       "177                                    None  \n",
       "178                                    None  \n",
       "179  {682A0076-6AE0-4AFD-9074-0F862BB77D7E}  \n",
       "180                                    None  \n",
       "181  {682A0076-6AE0-4AFD-9074-0F862BB77D7E}  \n",
       "182  {CDAFDEDE-23D0-44E8-B56E-28AFDC6F85E9}  \n",
       "183  {311F1BF6-2C8D-4AC3-8BE4-4FBF9D94C5D0}  \n",
       "184                                    None  \n",
       "185  {48C20876-208C-4B5A-9344-6EB03940C8CC}  \n",
       "186  {1299EC66-09F9-4A34-80C4-A21AE7EBD5DE}  \n",
       "187                                    None  \n",
       "188  {F2FE87E3-56EF-4F7D-B598-F7A8A463D2A0}  \n",
       "189  {1E21AA51-085C-469B-9469-6D27AF5A917F}  \n",
       "190  {A5399E79-CACE-45EE-8BD7-14B1B712C1DC}  \n",
       "191  {D71E4D12-82A5-475B-AE3A-3165971D0008}  \n",
       "192  {91114210-92D6-4B48-81FF-2576EB07F36A}  \n",
       "193  {CD866B4A-3ABF-43BD-93C0-416B74CBB01E}  \n",
       "194  {C3C73BE8-A400-4E96-B4F2-8D09741A2318}  \n",
       "195  {B2C31F25-3266-494E-B453-601CF23C9FA6}  \n",
       "196  {EBB4D959-0680-4F19-9191-49B86598BB14}  \n",
       "197  {5BBDE398-325F-4EC2-82E8-7FF2B27C6FD0}  \n",
       "198  {A9B94D9F-7008-47D0-BF75-C630BE399516}  \n",
       "199  {66DDB397-36D1-4B7A-A93D-C871C21F29C3}  \n",
       "200  {B2CF3041-DBE7-495C-9BEC-AAF84243F201}  \n",
       "201                                    None  \n",
       "202  {FCC3E490-A08F-470C-AA06-A1CF11FDBC66}  \n",
       "203  {421D7096-5F63-475D-B6D7-56C72D82A607}  \n",
       "204                                    None  \n",
       "205  {D046CCE1-8F9A-4DA1-9250-FC4C79FC2991}  \n",
       "206  {274DDD55-6209-48BC-ADD3-DD1EBBC69D05}  \n",
       "207  {DF2BA8D1-F205-44DE-AE56-C0A308D52BA5}  \n",
       "208  {7F60A630-74F1-420E-8ED4-2A1D261B760A}  \n",
       "209  {67C17E81-EE01-45E7-8A2A-781C462BFFEF}  \n",
       "210                                    None  \n",
       "211  {932DAD2E-FBC6-41C0-B9EC-9B5A247CE592}  \n",
       "212  {7811EAEB-E487-430E-AFF0-AF92C68ED45B}  \n",
       "213  {23FDB93F-DAF3-4D80-8AF1-6BA0A1048E0C}  \n",
       "214                                    None  \n",
       "215                                    None  \n",
       "216                                    None  \n",
       "217                                    None  \n",
       "218                                    None  \n",
       "219                                    None  \n",
       "220                                    None  \n",
       "221                                    None  \n",
       "222                                    None  \n",
       "223                                    None  \n",
       "224                                    None  \n",
       "225                                    None  \n",
       "226                                    None  \n",
       "227                                    None  \n",
       "228                                    None  \n",
       "229                                    None  \n",
       "230                                    None  \n",
       "231  {53A950D2-7678-4A82-8286-B8EBCFF7C5B8}  \n",
       "232                                    None  \n",
       "233  {D54617C8-638F-4D12-A15C-9A733959CA6F}  \n",
       "234  {4165D80B-CD0E-4B31-94B8-C69E54C0C59E}  \n",
       "235  {D38A9E22-746B-4E54-A938-8B1D86B0C63E}  \n",
       "236                                    None  \n",
       "237                                    None  \n",
       "238  {ADDA617C-F1F7-4EB1-96F0-2290E54FCA24}  \n",
       "239  {0A29DE42-2D62-4903-8A4B-0223B3748DB9}  "
      ],
      "text/html": "<div>\n<style scoped>\n    .dataframe tbody tr th:only-of-type {\n        vertical-align: middle;\n    }\n\n    .dataframe tbody tr th {\n        vertical-align: top;\n    }\n\n    .dataframe thead th {\n        text-align: right;\n    }\n</style>\n<table border=\"1\" class=\"dataframe\">\n  <thead>\n    <tr style=\"text-align: right;\">\n      <th></th>\n      <th>adresse</th>\n      <th>ville</th>\n      <th>globalid</th>\n    </tr>\n  </thead>\n  <tbody>\n    <tr>\n      <th>0</th>\n      <td>CHEMIN DES BREGUIERES</td>\n      <td>LE CANNET</td>\n      <td>{96405317-A1A8-4339-BBAF-94650179420F}</td>\n    </tr>\n    <tr>\n      <th>1</th>\n      <td>RUE DES MOULIERES</td>\n      <td>LE CANNET</td>\n      <td>{98E96757-9AFC-478F-A11A-39CC56433E56}</td>\n    </tr>\n    <tr>\n      <th>2</th>\n      <td>AVENUE DU REPOS</td>\n      <td>LE CANNET</td>\n      <td>{1B522953-3C4B-4576-AA43-8F55B7D244FF}</td>\n    </tr>\n    <tr>\n      <th>3</th>\n      <td>RUE DES ORANGERS</td>\n      <td>LE CANNET</td>\n      <td>{5F7D0829-9D85-4974-A808-EA2FC10898A0}</td>\n    </tr>\n    <tr>\n      <th>4</th>\n      <td>BOULEVARD D'OLIVETUM</td>\n      <td>LE CANNET</td>\n      <td>{DF9FB992-80F3-4231-B49C-420DD03A7B32}</td>\n    </tr>\n    <tr>\n      <th>5</th>\n      <td>AVENUE THIERS</td>\n      <td>LE CANNET</td>\n      <td>{C684BEBE-6E02-4711-BD83-97CA18921587}</td>\n    </tr>\n    <tr>\n      <th>6</th>\n      <td>CHEMIN DE GAVARY</td>\n      <td>LE CANNET</td>\n      <td>{0528846E-354E-46A0-A941-89E23E812E38}</td>\n    </tr>\n    <tr>\n      <th>7</th>\n      <td>AVENUE LACOUR</td>\n      <td>LE CANNET</td>\n      <td>{1ECBE717-5B9D-45B2-8FF0-FA34AAC74E84}</td>\n    </tr>\n    <tr>\n      <th>8</th>\n      <td>RESTAURANT</td>\n      <td>LE CANNET</td>\n      <td>None</td>\n    </tr>\n    <tr>\n      <th>9</th>\n      <td>BOULEVARD SADI CARNOT</td>\n      <td>LE CANNET</td>\n      <td>None</td>\n    </tr>\n    <tr>\n      <th>10</th>\n      <td>RUE JULES FERRY</td>\n      <td>LE CANNET</td>\n      <td>{AC290C63-7627-46E8-8D9F-C2D699565324}</td>\n    </tr>\n    <tr>\n      <th>11</th>\n      <td>ALLEE DES COUGOUSSOLLES</td>\n      <td>LE CANNET</td>\n      <td>{17F63825-A388-47DD-B917-6FB09FF0D93F}</td>\n    </tr>\n    <tr>\n      <th>12</th>\n      <td>AVENUE DU MONT JOLI</td>\n      <td>LE CANNET</td>\n      <td>{623C649B-5178-4C7A-9FF0-0C7F6350E697}</td>\n    </tr>\n    <tr>\n      <th>13</th>\n      <td>RUE AUGUSTE TABA</td>\n      <td>LE CANNET</td>\n      <td>{18FBB315-C898-4566-BED4-C3AE1132747E}</td>\n    </tr>\n    <tr>\n      <th>14</th>\n      <td>RUE CITE DES JARDINS</td>\n      <td>LE CANNET</td>\n      <td>{6A1F143D-B0ED-4BA0-852E-DA87DDDB81AA}</td>\n    </tr>\n    <tr>\n      <th>15</th>\n      <td>CHEMIN DE GARIBONDY</td>\n      <td>LE CANNET</td>\n      <td>{57EAECC4-1EC0-4138-91BD-EFB3CDC07104}</td>\n    </tr>\n    <tr>\n      <th>16</th>\n      <td>CHATEAU DES ARTISTES</td>\n      <td>LE CANNET</td>\n      <td>None</td>\n    </tr>\n    <tr>\n      <th>17</th>\n      <td>CHEMIN DE CARIMAIL</td>\n      <td>LE CANNET</td>\n      <td>None</td>\n    </tr>\n    <tr>\n      <th>18</th>\n      <td>AV GEORGES POMPIDOU</td>\n      <td>LE CANNET</td>\n      <td>None</td>\n    </tr>\n    <tr>\n      <th>19</th>\n      <td>AVENUE DU GENERAL DE GAULLE</td>\n      <td>LE CANNET</td>\n      <td>None</td>\n    </tr>\n    <tr>\n      <th>20</th>\n      <td>BOULEVARD JACQUES MONOD</td>\n      <td>LE CANNET</td>\n      <td>{95531C1F-3C2D-49EB-83A7-C13C33DDD18C}</td>\n    </tr>\n    <tr>\n      <th>21</th>\n      <td>CHEMIN DE L'AUBAREDE</td>\n      <td>LE CANNET</td>\n      <td>None</td>\n    </tr>\n    <tr>\n      <th>22</th>\n      <td>AVENUE DU MONTJOLI</td>\n      <td>LE CANNET</td>\n      <td>None</td>\n    </tr>\n    <tr>\n      <th>23</th>\n      <td>ALLEE DES RESERVOIRS</td>\n      <td>LE CANNET</td>\n      <td>None</td>\n    </tr>\n    <tr>\n      <th>24</th>\n      <td>PLACE BENIDORM</td>\n      <td>LE CANNET</td>\n      <td>{AF180A6D-556E-4361-8F67-F075A5A99461}</td>\n    </tr>\n    <tr>\n      <th>25</th>\n      <td>ALLEE JEAN GIONO</td>\n      <td>LE CANNET</td>\n      <td>{857D052C-F5AA-4CB1-9D9A-A8254FB4A869}</td>\n    </tr>\n    <tr>\n      <th>26</th>\n      <td>RUE EMILE ROUX</td>\n      <td>LE CANNET</td>\n      <td>None</td>\n    </tr>\n    <tr>\n      <th>27</th>\n      <td>RUE DE CANNES</td>\n      <td>LE CANNET</td>\n      <td>{794F5B1F-9499-4B0B-B1A9-B432A79E7FFA}</td>\n    </tr>\n    <tr>\n      <th>28</th>\n      <td>RUE DE LA PINEDE</td>\n      <td>LE CANNET</td>\n      <td>None</td>\n    </tr>\n    <tr>\n      <th>29</th>\n      <td>PINEDE DES GENDARMES D'OUVEA</td>\n      <td>LE CANNET</td>\n      <td>None</td>\n    </tr>\n    <tr>\n      <th>30</th>\n      <td>RUE MARCEL PAGNOL</td>\n      <td>LE CANNET</td>\n      <td>{5B8C4DB7-7A05-4023-925B-BDC21717CF5F}</td>\n    </tr>\n    <tr>\n      <th>31</th>\n      <td>CHEMIN DE L'OLIVET</td>\n      <td>LE CANNET</td>\n      <td>None</td>\n    </tr>\n    <tr>\n      <th>32</th>\n      <td>CHEMIN DES LAURIERS</td>\n      <td>LE CANNET</td>\n      <td>{35C38FE5-53D7-4C67-84FE-093278149E73}</td>\n    </tr>\n    <tr>\n      <th>33</th>\n      <td>RESIDENCE LES PINS PARASOLS</td>\n      <td>LE CANNET</td>\n      <td>None</td>\n    </tr>\n    <tr>\n      <th>34</th>\n      <td>CHEMIN DE SAINT JOSEPH</td>\n      <td>LE CANNET</td>\n      <td>{6DFBC25B-2B5A-43BC-B335-FD82F5A7367C}</td>\n    </tr>\n    <tr>\n      <th>35</th>\n      <td>SALLE RECROIX</td>\n      <td>LE CANNET</td>\n      <td>None</td>\n    </tr>\n    <tr>\n      <th>36</th>\n      <td>CAMPING LE RANCH</td>\n      <td>LE CANNET</td>\n      <td>None</td>\n    </tr>\n    <tr>\n      <th>37</th>\n      <td>AVENUE JANVIER PASSERO</td>\n      <td>MANDELIEU-LA-NAPOULE</td>\n      <td>{2893EAC1-3E91-4991-8D79-9721E04E29F6}</td>\n    </tr>\n    <tr>\n      <th>38</th>\n      <td>RUE DE LA PINÉA</td>\n      <td>MANDELIEU-LA-NAPOULE</td>\n      <td>None</td>\n    </tr>\n    <tr>\n      <th>39</th>\n      <td>AVENUE GASTON DE FONTMICHEL</td>\n      <td>MANDELIEU-LA-NAPOULE</td>\n      <td>{611C4F93-63E4-400B-AC94-5E18D5BFC215}</td>\n    </tr>\n    <tr>\n      <th>40</th>\n      <td>ALLÉE DES MIMOSAS</td>\n      <td>MANDELIEU-LA-NAPOULE</td>\n      <td>None</td>\n    </tr>\n    <tr>\n      <th>41</th>\n      <td>RUE SAINT-VINCENT DE PAUL</td>\n      <td>MANDELIEU-LA-NAPOULE</td>\n      <td>None</td>\n    </tr>\n    <tr>\n      <th>42</th>\n      <td>BOULEVARD DES ÉCUREUILS</td>\n      <td>MANDELIEU-LA-NAPOULE</td>\n      <td>{2553CF7D-A8F6-43A1-9716-46150904739A}</td>\n    </tr>\n    <tr>\n      <th>43</th>\n      <td>RUE MADAME DE SEVIGNE</td>\n      <td>MANDELIEU-LA-NAPOULE</td>\n      <td>{4994F5D7-DDDE-4982-AB34-2651F1B39A8D}</td>\n    </tr>\n    <tr>\n      <th>44</th>\n      <td>AVENUE DE LA RÉPUBLIQUE</td>\n      <td>MANDELIEU-LA-NAPOULE</td>\n      <td>{D82FB384-193D-4175-BBC7-FBF767B81706}</td>\n    </tr>\n    <tr>\n      <th>45</th>\n      <td>DOMAINE DU GRAND DUC</td>\n      <td>MANDELIEU-LA-NAPOULE</td>\n      <td>{447BB0AB-9A59-4F46-8660-5066B9D32B47}</td>\n    </tr>\n    <tr>\n      <th>46</th>\n      <td>RESIDENCE LE GRAND DUC</td>\n      <td>MANDELIEU-LA-NAPOULE</td>\n      <td>None</td>\n    </tr>\n    <tr>\n      <th>47</th>\n      <td>BOULEVARD EMILE CARDON</td>\n      <td>MANDELIEU-LA-NAPOULE</td>\n      <td>None</td>\n    </tr>\n    <tr>\n      <th>48</th>\n      <td>AVENUE DE L'EUROPE</td>\n      <td>MANDELIEU-LA-NAPOULE</td>\n      <td>None</td>\n    </tr>\n    <tr>\n      <th>49</th>\n      <td>BOULEVARD ESTÉREL PARK</td>\n      <td>MANDELIEU-LA-NAPOULE</td>\n      <td>None</td>\n    </tr>\n    <tr>\n      <th>50</th>\n      <td>AVENUE DE FREJUS</td>\n      <td>MANDELIEU-LA-NAPOULE</td>\n      <td>None</td>\n    </tr>\n    <tr>\n      <th>51</th>\n      <td>RUE YVES BRAYER</td>\n      <td>MANDELIEU-LA-NAPOULE</td>\n      <td>{86E2348D-C1FA-4F6E-B5E4-9DBA4997B2E7}</td>\n    </tr>\n    <tr>\n      <th>52</th>\n      <td>BOULEVARD DU BON PUITS</td>\n      <td>MANDELIEU-LA-NAPOULE</td>\n      <td>None</td>\n    </tr>\n    <tr>\n      <th>53</th>\n      <td>DOMAINE DE MARANDE</td>\n      <td>MANDELIEU-LA-NAPOULE</td>\n      <td>None</td>\n    </tr>\n    <tr>\n      <th>54</th>\n      <td>PLACE SOUVENIRS FRANCAIS</td>\n      <td>MANDELIEU-LA-NAPOULE</td>\n      <td>None</td>\n    </tr>\n    <tr>\n      <th>55</th>\n      <td>RUE DOCTEUR ESCARRAS</td>\n      <td>MANDELIEU-LA-NAPOULE</td>\n      <td>None</td>\n    </tr>\n    <tr>\n      <th>56</th>\n      <td>CARREFOUR MARKET</td>\n      <td>MANDELIEU-LA-NAPOULE</td>\n      <td>None</td>\n    </tr>\n    <tr>\n      <th>57</th>\n      <td>AVENUE MARCEL PAGNOL</td>\n      <td>MANDELIEU-LA-NAPOULE</td>\n      <td>{E1D75A70-538A-4D54-8AA0-A9C66CE98B64}</td>\n    </tr>\n    <tr>\n      <th>58</th>\n      <td>RUE ANATOLE FRANCE</td>\n      <td>MANDELIEU-LA-NAPOULE</td>\n      <td>None</td>\n    </tr>\n    <tr>\n      <th>59</th>\n      <td>AVENUE DELATTRE DE TASSIGNY</td>\n      <td>MANDELIEU-LA-NAPOULE</td>\n      <td>{9CABA1B7-11ED-48F9-87EA-2CEFDCBECA9C}</td>\n    </tr>\n    <tr>\n      <th>60</th>\n      <td>PARKING ESCOTA</td>\n      <td>MANDELIEU-LA-NAPOULE</td>\n      <td>None</td>\n    </tr>\n    <tr>\n      <th>61</th>\n      <td>AVENUE JACQUES CARTIER</td>\n      <td>MANDELIEU-LA-NAPOULE</td>\n      <td>None</td>\n    </tr>\n    <tr>\n      <th>62</th>\n      <td>ALLÉE DE LA MARINE ROYALE</td>\n      <td>MANDELIEU-LA-NAPOULE</td>\n      <td>None</td>\n    </tr>\n    <tr>\n      <th>63</th>\n      <td>AVENUE DE LA MARINE ROYALE</td>\n      <td>MANDELIEU-LA-NAPOULE</td>\n      <td>None</td>\n    </tr>\n    <tr>\n      <th>64</th>\n      <td>AVENUE DU GÉNÉRAL GARBAY</td>\n      <td>MANDELIEU-LA-NAPOULE</td>\n      <td>{957A8C1B-044D-4302-AA77-3B29B40B983F}</td>\n    </tr>\n    <tr>\n      <th>65</th>\n      <td>BOULEVARD DES TERMES</td>\n      <td>MANDELIEU-LA-NAPOULE</td>\n      <td>{641E59B8-35B8-4652-A299-1A24C896D86E}</td>\n    </tr>\n    <tr>\n      <th>66</th>\n      <td>ALLEE DES CLUBS</td>\n      <td>MANDELIEU-LA-NAPOULE</td>\n      <td>None</td>\n    </tr>\n    <tr>\n      <th>67</th>\n      <td>AVENUE DU RIOU</td>\n      <td>MANDELIEU-LA-NAPOULE</td>\n      <td>{245AD3FA-BFE4-4520-B164-84F0D080A231}</td>\n    </tr>\n    <tr>\n      <th>68</th>\n      <td>AVENUE DU 23 AOÛT</td>\n      <td>MANDELIEU-LA-NAPOULE</td>\n      <td>None</td>\n    </tr>\n    <tr>\n      <th>69</th>\n      <td>DOMAINE DE BELLEVUE</td>\n      <td>MANDELIEU-LA-NAPOULE</td>\n      <td>None</td>\n    </tr>\n    <tr>\n      <th>70</th>\n      <td>ROUTE DU GOLF</td>\n      <td>MANDELIEU-LA-NAPOULE</td>\n      <td>{26D8EE05-7FF3-4554-9371-C4F959ACE4C1}</td>\n    </tr>\n    <tr>\n      <th>71</th>\n      <td>AVENUE DES ANCIENS COMBATTANTS</td>\n      <td>MANDELIEU-LA-NAPOULE</td>\n      <td>{471CA15A-B82C-4344-84DD-32A4562F6DDA}</td>\n    </tr>\n    <tr>\n      <th>72</th>\n      <td>ALLÉE DES IRIS</td>\n      <td>MANDELIEU-LA-NAPOULE</td>\n      <td>None</td>\n    </tr>\n    <tr>\n      <th>73</th>\n      <td>CAPITAINERIE</td>\n      <td>MANDELIEU-LA-NAPOULE</td>\n      <td>None</td>\n    </tr>\n    <tr>\n      <th>74</th>\n      <td>AVENUE ROBERT SCHUMAN</td>\n      <td>MANDELIEU-LA-NAPOULE</td>\n      <td>{DDA78DC1-F178-4F3D-BC26-4F918D8527FC}</td>\n    </tr>\n    <tr>\n      <th>75</th>\n      <td>PORT DE LA RAGUE</td>\n      <td>MANDELIEU-LA-NAPOULE</td>\n      <td>None</td>\n    </tr>\n    <tr>\n      <th>76</th>\n      <td>PORT DU RIOU</td>\n      <td>MANDELIEU-LA-NAPOULE</td>\n      <td>None</td>\n    </tr>\n    <tr>\n      <th>77</th>\n      <td>PLACE DES ARCADES</td>\n      <td>MOUGINS</td>\n      <td>None</td>\n    </tr>\n    <tr>\n      <th>78</th>\n      <td>RUE SAINT-JACQUES</td>\n      <td>MOUGINS</td>\n      <td>None</td>\n    </tr>\n    <tr>\n      <th>79</th>\n      <td>AVENUE GENERALE DE GAULLE</td>\n      <td>MOUGINS</td>\n      <td>None</td>\n    </tr>\n    <tr>\n      <th>80</th>\n      <td>ALLEE DE LORME</td>\n      <td>MOUGINS</td>\n      <td>None</td>\n    </tr>\n    <tr>\n      <th>81</th>\n      <td>AVENUE SAINT-BASILE</td>\n      <td>MOUGINS</td>\n      <td>None</td>\n    </tr>\n    <tr>\n      <th>82</th>\n      <td>AVENUE NOTRE-DAME DE VIE</td>\n      <td>MOUGINS</td>\n      <td>None</td>\n    </tr>\n    <tr>\n      <th>83</th>\n      <td>CHEMIN DE LA PLAINE</td>\n      <td>MOUGINS</td>\n      <td>{EE3BB45D-3EE0-48BB-ABA0-B380B1668D64}</td>\n    </tr>\n    <tr>\n      <th>84</th>\n      <td>AVENUE DE TOURNAMY</td>\n      <td>MOUGINS</td>\n      <td>{0378EE97-249E-4D88-AC58-BAE3B29B6549}</td>\n    </tr>\n    <tr>\n      <th>85</th>\n      <td>AVENUE DU MOULIN DE LA CROIX</td>\n      <td>MOUGINS</td>\n      <td>{49967CED-F997-4F6E-912E-6F67E6FDBD06}</td>\n    </tr>\n    <tr>\n      <th>86</th>\n      <td>AVENUE MARECHAL JUIN</td>\n      <td>MOUGINS</td>\n      <td>None</td>\n    </tr>\n    <tr>\n      <th>87</th>\n      <td>CHEMIN DE LA GRANDE BASTIDE</td>\n      <td>MOUGINS</td>\n      <td>{E82AD6BA-DEF2-4E60-97B7-339EC843B02F}</td>\n    </tr>\n    <tr>\n      <th>88</th>\n      <td>CHEMIN DES CABRIERES</td>\n      <td>MOUGINS</td>\n      <td>{40E66CBA-23DE-42F8-97FA-2BB62FC69AAF}</td>\n    </tr>\n    <tr>\n      <th>89</th>\n      <td>CHEMIN DE FAISSOLE</td>\n      <td>MOUGINS</td>\n      <td>{2D66EECA-B0D2-4433-9DF1-3848F6E4C0B8}</td>\n    </tr>\n    <tr>\n      <th>90</th>\n      <td>CHEMIN DU REFUGE</td>\n      <td>MOUGINS</td>\n      <td>{D082FBD8-B8B8-4808-B18B-F9FEA9EC7A4D}</td>\n    </tr>\n    <tr>\n      <th>91</th>\n      <td>AVENUE LAMARTINE -</td>\n      <td>MOUGINS</td>\n      <td>None</td>\n    </tr>\n    <tr>\n      <th>92</th>\n      <td>CHEMIN DE CAMPANE</td>\n      <td>MOUGINS</td>\n      <td>{E198FC0D-D178-47A1-8220-4BA0FBE5DC98}</td>\n    </tr>\n    <tr>\n      <th>93</th>\n      <td>CHEMIN DE FONT DE CURRAULT</td>\n      <td>MOUGINS</td>\n      <td>{1374E7BC-43EE-4D07-980B-79B9A770F9E0}</td>\n    </tr>\n    <tr>\n      <th>94</th>\n      <td>RUE DE LA PETITE COLLINE</td>\n      <td>MOUGINS</td>\n      <td>{EE57E796-B764-4F17-AEE5-9DE98A27595B}</td>\n    </tr>\n    <tr>\n      <th>95</th>\n      <td>PARKING CENTRE VILLE</td>\n      <td>THÉOULE-SUR-MER</td>\n      <td>None</td>\n    </tr>\n    <tr>\n      <th>96</th>\n      <td>HOTEL MIRAMAR</td>\n      <td>THÉOULE-SUR-MER</td>\n      <td>None</td>\n    </tr>\n    <tr>\n      <th>97</th>\n      <td>PLACE DES ALLIES MIRAMAR</td>\n      <td>THÉOULE-SUR-MER</td>\n      <td>None</td>\n    </tr>\n    <tr>\n      <th>98</th>\n      <td>PORT DE LA FIGEIRETTE</td>\n      <td>THÉOULE-SUR-MER</td>\n      <td>None</td>\n    </tr>\n    <tr>\n      <th>99</th>\n      <td>PARKING FIGARETTE</td>\n      <td>THÉOULE-SUR-MER</td>\n      <td>None</td>\n    </tr>\n    <tr>\n      <th>100</th>\n      <td>AVENUE DE LA CÔTE D'AZUR</td>\n      <td>THÉOULE-SUR-MER</td>\n      <td>None</td>\n    </tr>\n    <tr>\n      <th>101</th>\n      <td>BD VICTOR TUBY</td>\n      <td>CANNES</td>\n      <td>{15D6D1E2-A26B-48CA-B66B-D92924F2CB58}</td>\n    </tr>\n    <tr>\n      <th>102</th>\n      <td>MARCHE FORVILLE</td>\n      <td>CANNES</td>\n      <td>None</td>\n    </tr>\n    <tr>\n      <th>103</th>\n      <td>AVENUE VICTOR TUBY</td>\n      <td>CANNES</td>\n      <td>None</td>\n    </tr>\n    <tr>\n      <th>104</th>\n      <td>AVENUE LOUIS BLANC</td>\n      <td>CANNES</td>\n      <td>{1B25A481-FA71-4110-B3A3-80E990577707}</td>\n    </tr>\n    <tr>\n      <th>105</th>\n      <td>PLACE CORNUT GENTILLE</td>\n      <td>CANNES</td>\n      <td>None</td>\n    </tr>\n    <tr>\n      <th>106</th>\n      <td>AVENUE LAUGIER</td>\n      <td>CANNES</td>\n      <td>{123ECF2D-3BD2-46CA-8E6C-7107CB031694}</td>\n    </tr>\n    <tr>\n      <th>107</th>\n      <td>RUE JEAN DE RIOUFFE</td>\n      <td>CANNES</td>\n      <td>None</td>\n    </tr>\n    <tr>\n      <th>108</th>\n      <td>ALLEE DE LA LIBERTE</td>\n      <td>CANNES</td>\n      <td>None</td>\n    </tr>\n    <tr>\n      <th>109</th>\n      <td>RUE FELIX FAURE</td>\n      <td>CANNES</td>\n      <td>None</td>\n    </tr>\n    <tr>\n      <th>110</th>\n      <td>MARCHE GAMBETTA</td>\n      <td>CANNES</td>\n      <td>None</td>\n    </tr>\n    <tr>\n      <th>111</th>\n      <td>RUE VICTOR COUSIN</td>\n      <td>CANNES</td>\n      <td>{4EEF9396-6E30-458F-9720-7F96E07A5495}</td>\n    </tr>\n    <tr>\n      <th>112</th>\n      <td>ROND POINT DUBOYS DANGERS</td>\n      <td>CANNES</td>\n      <td>None</td>\n    </tr>\n    <tr>\n      <th>113</th>\n      <td>RUE PASTEUR ROUAZE</td>\n      <td>CANNES</td>\n      <td>None</td>\n    </tr>\n    <tr>\n      <th>114</th>\n      <td>AVENUE DE LERINS</td>\n      <td>CANNES</td>\n      <td>{13422586-12A7-4648-A89C-5FD30B8CF394}</td>\n    </tr>\n    <tr>\n      <th>115</th>\n      <td>RUE MASSENA</td>\n      <td>CANNES</td>\n      <td>{2066B095-8486-432C-8663-0B36B4C81159}</td>\n    </tr>\n    <tr>\n      <th>116</th>\n      <td>RUE MILTON</td>\n      <td>CANNES</td>\n      <td>None</td>\n    </tr>\n    <tr>\n      <th>117</th>\n      <td>BOULEVARD D'OXFORD</td>\n      <td>CANNES</td>\n      <td>None</td>\n    </tr>\n    <tr>\n      <th>118</th>\n      <td>OXFORD</td>\n      <td>CANNES</td>\n      <td>{1CD8ADFB-11C9-471E-BA45-AC5B8EDFBCCE}</td>\n    </tr>\n    <tr>\n      <th>119</th>\n      <td>AVENUE PRINCE DE GALLES</td>\n      <td>CANNES</td>\n      <td>{94AB067C-9BC3-4A6F-BFF6-61B20F8DE0B8}</td>\n    </tr>\n    <tr>\n      <th>120</th>\n      <td>AVENUE JEAN DE LATTRE DE TASSIGNY</td>\n      <td>CANNES</td>\n      <td>{228A7CA2-8116-4471-8C11-E40994255C56}</td>\n    </tr>\n    <tr>\n      <th>121</th>\n      <td>AVENUE DE GRASSE X DELAUP</td>\n      <td>CANNES</td>\n      <td>None</td>\n    </tr>\n    <tr>\n      <th>122</th>\n      <td>BOULEVARD LORD BROUGHAM</td>\n      <td>CANNES</td>\n      <td>None</td>\n    </tr>\n    <tr>\n      <th>123</th>\n      <td>BOULEVARD DU MOULIN</td>\n      <td>CANNES</td>\n      <td>None</td>\n    </tr>\n    <tr>\n      <th>124</th>\n      <td>BOULEVARD VALLOMBROSA</td>\n      <td>CANNES</td>\n      <td>None</td>\n    </tr>\n    <tr>\n      <th>125</th>\n      <td>BOULEVARD DU RIOU</td>\n      <td>CANNES</td>\n      <td>{6AB007CF-5B5F-4D4B-AB83-09E4DB36AB65}</td>\n    </tr>\n    <tr>\n      <th>126</th>\n      <td>AVENUE DE GRASSE</td>\n      <td>CANNES</td>\n      <td>{D3D723CF-D370-4923-914A-2D8A020E56A4}</td>\n    </tr>\n    <tr>\n      <th>127</th>\n      <td>IMPASSE BEAULIEU</td>\n      <td>CANNES</td>\n      <td>None</td>\n    </tr>\n    <tr>\n      <th>128</th>\n      <td>79 AVENUE DE LATTRE DE TASSIGNY</td>\n      <td>CANNES</td>\n      <td>{73F10645-C3A9-48AA-A648-78FCE437AC52}</td>\n    </tr>\n    <tr>\n      <th>129</th>\n      <td>AVENUE DES BROUSSAILLES</td>\n      <td>CANNES</td>\n      <td>{87081FAC-7D3D-4EDD-A7B1-7A543E59A6E6}</td>\n    </tr>\n    <tr>\n      <th>130</th>\n      <td>ECHANGEUR DE CANNES OUEST</td>\n      <td>CANNES</td>\n      <td>{63444290-0A33-47A1-8ED3-2081E4C244BB}</td>\n    </tr>\n    <tr>\n      <th>131</th>\n      <td>CHEMIN DE LA BASTIDE ROUGE</td>\n      <td>CANNES</td>\n      <td>{65160453-0E8B-4A21-BBF9-F1CD54D73F4F}</td>\n    </tr>\n    <tr>\n      <th>132</th>\n      <td>PARKING AEROPORT</td>\n      <td>CANNES</td>\n      <td>None</td>\n    </tr>\n    <tr>\n      <th>133</th>\n      <td>AVENUE DES ARLUCS</td>\n      <td>CANNES</td>\n      <td>None</td>\n    </tr>\n    <tr>\n      <th>134</th>\n      <td>METRO CANNES LA BOCCA</td>\n      <td>CANNES</td>\n      <td>None</td>\n    </tr>\n    <tr>\n      <th>135</th>\n      <td>HOTEL MERCURE</td>\n      <td>CANNES</td>\n      <td>None</td>\n    </tr>\n    <tr>\n      <th>136</th>\n      <td>BOULEVARD DU MIDI LOUISE MOREAU</td>\n      <td>CANNES</td>\n      <td>None</td>\n    </tr>\n    <tr>\n      <th>137</th>\n      <td>AVENUE MAURICE CHEVALIER</td>\n      <td>CANNES</td>\n      <td>{00DA4896-5F99-4482-8BB9-5B0409B10D22}</td>\n    </tr>\n    <tr>\n      <th>138</th>\n      <td>INTERMARCHE</td>\n      <td>CANNES</td>\n      <td>None</td>\n    </tr>\n    <tr>\n      <th>139</th>\n      <td>RUE DOCTEUR PAUL BALOUX</td>\n      <td>CANNES</td>\n      <td>None</td>\n    </tr>\n    <tr>\n      <th>140</th>\n      <td>AVENUE DOCTEUR RAYMOND PICAUD</td>\n      <td>CANNES</td>\n      <td>{4945379B-BCAC-4C43-AE7E-5288176F67AB}</td>\n    </tr>\n    <tr>\n      <th>141</th>\n      <td>STE MARGUERITE</td>\n      <td>CANNES</td>\n      <td>None</td>\n    </tr>\n    <tr>\n      <th>142</th>\n      <td>147 AVENUE MAURICE CHEVALIER</td>\n      <td>CANNES</td>\n      <td>{4F3418ED-35CB-4362-A3E3-F28E7929C5AF}</td>\n    </tr>\n    <tr>\n      <th>143</th>\n      <td>MAURICE CHEVALIER</td>\n      <td>CANNES</td>\n      <td>{00DA4896-5F99-4482-8BB9-5B0409B10D22}</td>\n    </tr>\n    <tr>\n      <th>144</th>\n      <td>AVENUE DES BUISSONS ARDENTS</td>\n      <td>CANNES</td>\n      <td>{B77CBB4D-9BD4-452E-A992-4C23A98886A0}</td>\n    </tr>\n    <tr>\n      <th>145</th>\n      <td>AVENUE PIERRE DE COUBERTIN</td>\n      <td>CANNES</td>\n      <td>{8BCEA9BC-563B-475F-8725-2BA728AF55AA}</td>\n    </tr>\n    <tr>\n      <th>146</th>\n      <td>RUE DU MURIER</td>\n      <td>CANNES</td>\n      <td>None</td>\n    </tr>\n    <tr>\n      <th>147</th>\n      <td>AVENUE ANTONY DOZOL</td>\n      <td>CANNES</td>\n      <td>None</td>\n    </tr>\n    <tr>\n      <th>148</th>\n      <td>AVENUE DU VERCORS</td>\n      <td>CANNES</td>\n      <td>{0666E598-3357-41DD-B23D-30204991D68F}</td>\n    </tr>\n    <tr>\n      <th>149</th>\n      <td>BOULEVARD DU SOLEIL</td>\n      <td>CANNES</td>\n      <td>{78E8BDA1-A912-411C-9B2C-84568C3D886B}</td>\n    </tr>\n    <tr>\n      <th>150</th>\n      <td>IMPASSE FRANCOIS TUBY</td>\n      <td>CANNES</td>\n      <td>None</td>\n    </tr>\n    <tr>\n      <th>151</th>\n      <td>IMPASSE DE L'AUBAREDE</td>\n      <td>CANNES</td>\n      <td>None</td>\n    </tr>\n    <tr>\n      <th>152</th>\n      <td>AVENUE CROIX DES GARDES</td>\n      <td>CANNES</td>\n      <td>None</td>\n    </tr>\n    <tr>\n      <th>153</th>\n      <td>BOULEVARD LEADER</td>\n      <td>CANNES</td>\n      <td>{15D053B0-465F-4C64-A878-93EA2FB6B1E2}</td>\n    </tr>\n    <tr>\n      <th>154</th>\n      <td>BOULEVARD DU PERIER</td>\n      <td>CANNES</td>\n      <td>None</td>\n    </tr>\n    <tr>\n      <th>155</th>\n      <td>ROUTE DU VILLAGE</td>\n      <td>CANNES</td>\n      <td>{A32F116F-542D-4709-B4B0-07E2E3394DF8}</td>\n    </tr>\n    <tr>\n      <th>156</th>\n      <td>CHEMIN DU PERIER</td>\n      <td>CANNES</td>\n      <td>None</td>\n    </tr>\n    <tr>\n      <th>157</th>\n      <td>CHEMIN DE LA MERLETTE</td>\n      <td>CANNES</td>\n      <td>None</td>\n    </tr>\n    <tr>\n      <th>158</th>\n      <td>RUE VENIZELOS</td>\n      <td>CANNES</td>\n      <td>{7BA25EC8-7338-4049-B5D4-A1CEF519BD44}</td>\n    </tr>\n    <tr>\n      <th>159</th>\n      <td>BOULEVARD DU MIDI JEAN HIBERT</td>\n      <td>CANNES</td>\n      <td>{2116CF38-F1DB-44C4-8D5E-31F345D2F182}</td>\n    </tr>\n    <tr>\n      <th>160</th>\n      <td>RUE GEORGES CLEMENCEAU</td>\n      <td>CANNES</td>\n      <td>{4D65582D-7F57-4E3F-9E53-50941AB9734A}</td>\n    </tr>\n    <tr>\n      <th>161</th>\n      <td>QUAI SAINT-PIERRE</td>\n      <td>CANNES</td>\n      <td>{909437DD-6156-49A1-9D07-79FF642C2F27}</td>\n    </tr>\n    <tr>\n      <th>162</th>\n      <td>PALAIS DES FESTIVALS</td>\n      <td>CANNES</td>\n      <td>{63D92ABB-A0B8-4179-B954-D378360AE4AA}</td>\n    </tr>\n    <tr>\n      <th>163</th>\n      <td>BOULEVARD EUGENE GAZAGNAIRE</td>\n      <td>CANNES</td>\n      <td>{21B94E6A-D71C-434C-9D7B-18A4E2DC4B9F}</td>\n    </tr>\n    <tr>\n      <th>164</th>\n      <td>BOULEVARD DE LA SOURCE</td>\n      <td>CANNES</td>\n      <td>{52F421C7-2F8D-49FA-A2E1-5BD27C2481C3}</td>\n    </tr>\n    <tr>\n      <th>165</th>\n      <td>BOULEVARD MONTFLEURY</td>\n      <td>CANNES</td>\n      <td>{20AFD7BF-26B1-4C20-B219-FE5A40D6E99E}</td>\n    </tr>\n    <tr>\n      <th>166</th>\n      <td>AVENUE BEAUSEJOUR</td>\n      <td>CANNES</td>\n      <td>{777561A0-A251-4DF9-A5C3-19B023832CCF}</td>\n    </tr>\n    <tr>\n      <th>167</th>\n      <td>AVENUE DE LORRAINE</td>\n      <td>CANNES</td>\n      <td>{44EB09E9-AB65-4ACC-8685-BB111FCE8242}</td>\n    </tr>\n    <tr>\n      <th>168</th>\n      <td>BOULEVARD GENERAL VAUTRIN</td>\n      <td>CANNES</td>\n      <td>None</td>\n    </tr>\n    <tr>\n      <th>169</th>\n      <td>BOULEVARD VAUTRIN</td>\n      <td>CANNES</td>\n      <td>None</td>\n    </tr>\n    <tr>\n      <th>170</th>\n      <td>BOULEVARD DALSACE PROLONGE</td>\n      <td>CANNES</td>\n      <td>None</td>\n    </tr>\n    <tr>\n      <th>171</th>\n      <td>AVENUE ROI ALBERT</td>\n      <td>CANNES</td>\n      <td>{5960D78D-A1CC-4D52-B8F9-60FBDE4D4316}</td>\n    </tr>\n    <tr>\n      <th>172</th>\n      <td>55 AVENUE DU ROI ALBERT 1ER</td>\n      <td>CANNES</td>\n      <td>{2B888EBC-34ED-4332-B555-94F26762975E}</td>\n    </tr>\n    <tr>\n      <th>173</th>\n      <td>BOULEVARD DES PINS</td>\n      <td>CANNES</td>\n      <td>{34FD9A1B-D90D-42D9-9A0F-55262C1EF7FC}</td>\n    </tr>\n    <tr>\n      <th>174</th>\n      <td>AVENUE LILY PONS</td>\n      <td>CANNES</td>\n      <td>{4655CA3B-1812-4F2D-8421-13C6DA8D948D}</td>\n    </tr>\n    <tr>\n      <th>175</th>\n      <td>AVENUE ISOLA BELLA</td>\n      <td>CANNES</td>\n      <td>{B25C8F92-6E04-4C9D-A4B2-4E53D6DC0DE2}</td>\n    </tr>\n    <tr>\n      <th>176</th>\n      <td>AVENUE DE BENEFIAT</td>\n      <td>CANNES</td>\n      <td>{593D59A1-511D-4A36-8FFB-D94597FC1296}</td>\n    </tr>\n    <tr>\n      <th>177</th>\n      <td>CHEMIN DES ARAUCARIAS</td>\n      <td>CANNES</td>\n      <td>None</td>\n    </tr>\n    <tr>\n      <th>178</th>\n      <td>BOULEVARD DE LA CROISETTE</td>\n      <td>CANNES</td>\n      <td>None</td>\n    </tr>\n    <tr>\n      <th>179</th>\n      <td>BD DALSACE</td>\n      <td>CANNES</td>\n      <td>{682A0076-6AE0-4AFD-9074-0F862BB77D7E}</td>\n    </tr>\n    <tr>\n      <th>180</th>\n      <td>BOULEVARD ALSACE</td>\n      <td>CANNES</td>\n      <td>None</td>\n    </tr>\n    <tr>\n      <th>181</th>\n      <td>AVENUE DES COTEAUX</td>\n      <td>CANNES</td>\n      <td>{682A0076-6AE0-4AFD-9074-0F862BB77D7E}</td>\n    </tr>\n    <tr>\n      <th>182</th>\n      <td>BOULEVARD DE LA REPUBLIQUE</td>\n      <td>CANNES</td>\n      <td>{CDAFDEDE-23D0-44E8-B56E-28AFDC6F85E9}</td>\n    </tr>\n    <tr>\n      <th>183</th>\n      <td>RUE REYER</td>\n      <td>CANNES</td>\n      <td>{311F1BF6-2C8D-4AC3-8BE4-4FBF9D94C5D0}</td>\n    </tr>\n    <tr>\n      <th>184</th>\n      <td>RUE GALIENI</td>\n      <td>CANNES</td>\n      <td>None</td>\n    </tr>\n    <tr>\n      <th>185</th>\n      <td>RUE BOUCICAUT</td>\n      <td>CANNES</td>\n      <td>{48C20876-208C-4B5A-9344-6EB03940C8CC}</td>\n    </tr>\n    <tr>\n      <th>186</th>\n      <td>AVENUE COMMANDANT BRET</td>\n      <td>CANNES</td>\n      <td>{1299EC66-09F9-4A34-80C4-A21AE7EBD5DE}</td>\n    </tr>\n    <tr>\n      <th>187</th>\n      <td>AVENUE DE TERREFIAL</td>\n      <td>CANNES</td>\n      <td>None</td>\n    </tr>\n    <tr>\n      <th>188</th>\n      <td>AVENUE DE VALLAURIS</td>\n      <td>CANNES</td>\n      <td>{F2FE87E3-56EF-4F7D-B598-F7A8A463D2A0}</td>\n    </tr>\n    <tr>\n      <th>189</th>\n      <td>CHEMIN DES COLLINES</td>\n      <td>CANNES</td>\n      <td>{1E21AA51-085C-469B-9469-6D27AF5A917F}</td>\n    </tr>\n    <tr>\n      <th>190</th>\n      <td>AVENUE FRANCIS TONNER</td>\n      <td>CANNES</td>\n      <td>{A5399E79-CACE-45EE-8BD7-14B1B712C1DC}</td>\n    </tr>\n    <tr>\n      <th>191</th>\n      <td>AVENUE DE LA ROUBINE</td>\n      <td>CANNES</td>\n      <td>{D71E4D12-82A5-475B-AE3A-3165971D0008}</td>\n    </tr>\n    <tr>\n      <th>192</th>\n      <td>AVENUE PIERRE SEMARD</td>\n      <td>CANNES</td>\n      <td>{91114210-92D6-4B48-81FF-2576EB07F36A}</td>\n    </tr>\n    <tr>\n      <th>193</th>\n      <td>RUE DE LA VERRERIE</td>\n      <td>CANNES</td>\n      <td>{CD866B4A-3ABF-43BD-93C0-416B74CBB01E}</td>\n    </tr>\n    <tr>\n      <th>194</th>\n      <td>BOULEVARD DE LA MER</td>\n      <td>CANNES</td>\n      <td>{C3C73BE8-A400-4E96-B4F2-8D09741A2318}</td>\n    </tr>\n    <tr>\n      <th>195</th>\n      <td>AVENUE JEAN NOAILLES</td>\n      <td>CANNES</td>\n      <td>{B2C31F25-3266-494E-B453-601CF23C9FA6}</td>\n    </tr>\n    <tr>\n      <th>196</th>\n      <td>BOULEVARD WESTER WESMYSS</td>\n      <td>CANNES</td>\n      <td>{EBB4D959-0680-4F19-9191-49B86598BB14}</td>\n    </tr>\n    <tr>\n      <th>197</th>\n      <td>BOUULEVARD EUGENE COINTET</td>\n      <td>CANNES</td>\n      <td>{5BBDE398-325F-4EC2-82E8-7FF2B27C6FD0}</td>\n    </tr>\n    <tr>\n      <th>198</th>\n      <td>AV MICHEL JOURDAN</td>\n      <td>CANNES</td>\n      <td>{A9B94D9F-7008-47D0-BF75-C630BE399516}</td>\n    </tr>\n    <tr>\n      <th>199</th>\n      <td>AVENUE MICHEL JOURDAN</td>\n      <td>CANNES</td>\n      <td>{66DDB397-36D1-4B7A-A93D-C871C21F29C3}</td>\n    </tr>\n    <tr>\n      <th>200</th>\n      <td>IMPASSE DES LAVANDES</td>\n      <td>CANNES</td>\n      <td>{B2CF3041-DBE7-495C-9BEC-AAF84243F201}</td>\n    </tr>\n    <tr>\n      <th>201</th>\n      <td>BOULEVARD DE L'ESTEREL</td>\n      <td>CANNES</td>\n      <td>None</td>\n    </tr>\n    <tr>\n      <th>202</th>\n      <td>CHEMIN DES GOURGUETTES</td>\n      <td>CANNES</td>\n      <td>{FCC3E490-A08F-470C-AA06-A1CF11FDBC66}</td>\n    </tr>\n    <tr>\n      <th>203</th>\n      <td>CHEMIN RURAL DE LA FRAYERE</td>\n      <td>CANNES</td>\n      <td>{421D7096-5F63-475D-B6D7-56C72D82A607}</td>\n    </tr>\n    <tr>\n      <th>204</th>\n      <td>RUE BALZAC</td>\n      <td>CANNES</td>\n      <td>None</td>\n    </tr>\n    <tr>\n      <th>205</th>\n      <td>AVENUE VICTOR HUGO</td>\n      <td>CANNES</td>\n      <td>{D046CCE1-8F9A-4DA1-9250-FC4C79FC2991}</td>\n    </tr>\n    <tr>\n      <th>206</th>\n      <td>BOULEVARD DU MIDI</td>\n      <td>CANNES</td>\n      <td>{274DDD55-6209-48BC-ADD3-DD1EBBC69D05}</td>\n    </tr>\n    <tr>\n      <th>207</th>\n      <td>AVENUE REINE ASTRID</td>\n      <td>CANNES</td>\n      <td>{DF2BA8D1-F205-44DE-AE56-C0A308D52BA5}</td>\n    </tr>\n    <tr>\n      <th>208</th>\n      <td>42 BOULEVARD ALEXANDRE III</td>\n      <td>CANNES</td>\n      <td>{7F60A630-74F1-420E-8ED4-2A1D261B760A}</td>\n    </tr>\n    <tr>\n      <th>209</th>\n      <td>AVENUE ANDRE CAPRON</td>\n      <td>CANNES</td>\n      <td>{67C17E81-EE01-45E7-8A2A-781C462BFFEF}</td>\n    </tr>\n    <tr>\n      <th>210</th>\n      <td>BOULEVARD ALSACE PROLONGE</td>\n      <td>CANNES</td>\n      <td>None</td>\n    </tr>\n    <tr>\n      <th>211</th>\n      <td>RUE VOLTA</td>\n      <td>CANNES</td>\n      <td>{932DAD2E-FBC6-41C0-B9EC-9B5A247CE592}</td>\n    </tr>\n    <tr>\n      <th>212</th>\n      <td>AVENUE DU PETIT JUAS</td>\n      <td>CANNES</td>\n      <td>{7811EAEB-E487-430E-AFF0-AF92C68ED45B}</td>\n    </tr>\n    <tr>\n      <th>213</th>\n      <td>RUE SAINT LOUIS</td>\n      <td>CANNES</td>\n      <td>{23FDB93F-DAF3-4D80-8AF1-6BA0A1048E0C}</td>\n    </tr>\n    <tr>\n      <th>214</th>\n      <td>RUE POUSSIN BUCQUET</td>\n      <td>CANNES</td>\n      <td>None</td>\n    </tr>\n    <tr>\n      <th>215</th>\n      <td>AVENUE PIERRE DE POESI</td>\n      <td>CANNES</td>\n      <td>None</td>\n    </tr>\n    <tr>\n      <th>216</th>\n      <td>RUE JEAN CREPS</td>\n      <td>CANNES</td>\n      <td>None</td>\n    </tr>\n    <tr>\n      <th>217</th>\n      <td>PROMENADE DES MURIERS</td>\n      <td>CANNES</td>\n      <td>None</td>\n    </tr>\n    <tr>\n      <th>218</th>\n      <td>BOULEVARD DU MIDILOUISE MOREAU</td>\n      <td>CANNES</td>\n      <td>None</td>\n    </tr>\n    <tr>\n      <th>219</th>\n      <td>14 RUE DE LA LIBERATION</td>\n      <td>CANNES</td>\n      <td>None</td>\n    </tr>\n    <tr>\n      <th>220</th>\n      <td>JETEE ALBERT EDOUARD</td>\n      <td>CANNES</td>\n      <td>None</td>\n    </tr>\n    <tr>\n      <th>221</th>\n      <td>ILE SAINT HONORAT</td>\n      <td>CANNES</td>\n      <td>None</td>\n    </tr>\n    <tr>\n      <th>222</th>\n      <td>PORT LE GALERE</td>\n      <td>THÉOULE-SUR-MER</td>\n      <td>None</td>\n    </tr>\n    <tr>\n      <th>223</th>\n      <td>AVENUE JEAN JAURES</td>\n      <td>CANNES</td>\n      <td>None</td>\n    </tr>\n    <tr>\n      <th>224</th>\n      <td>SALLE EUROPA</td>\n      <td>MANDELIEU-LA-NAPOULE</td>\n      <td>None</td>\n    </tr>\n    <tr>\n      <th>225</th>\n      <td>BOULEVARD D'ALSACE PROLONGE</td>\n      <td>CANNES</td>\n      <td>None</td>\n    </tr>\n    <tr>\n      <th>226</th>\n      <td>BOULEVARD EUGENE COINTET</td>\n      <td>CANNES</td>\n      <td>None</td>\n    </tr>\n    <tr>\n      <th>227</th>\n      <td>BD D'ALSACE</td>\n      <td>CANNES</td>\n      <td>None</td>\n    </tr>\n    <tr>\n      <th>228</th>\n      <td>PANTIERO</td>\n      <td>CANNES</td>\n      <td>None</td>\n    </tr>\n    <tr>\n      <th>229</th>\n      <td>COLONNE EVENEMENTIELLE</td>\n      <td>CANNES</td>\n      <td>None</td>\n    </tr>\n    <tr>\n      <th>230</th>\n      <td>RUE MATTEI</td>\n      <td>LE CANNET</td>\n      <td>None</td>\n    </tr>\n    <tr>\n      <th>231</th>\n      <td>AVENUE DES ECOLES</td>\n      <td>LE CANNET</td>\n      <td>{53A950D2-7678-4A82-8286-B8EBCFF7C5B8}</td>\n    </tr>\n    <tr>\n      <th>232</th>\n      <td>VOIE JULIA</td>\n      <td>LE CANNET</td>\n      <td>None</td>\n    </tr>\n    <tr>\n      <th>233</th>\n      <td>BOULEVARD ALBERT 1er</td>\n      <td>LE CANNET</td>\n      <td>{D54617C8-638F-4D12-A15C-9A733959CA6F}</td>\n    </tr>\n    <tr>\n      <th>234</th>\n      <td>ROUTE DES BREGUIERES</td>\n      <td>LE CANNET</td>\n      <td>{4165D80B-CD0E-4B31-94B8-C69E54C0C59E}</td>\n    </tr>\n    <tr>\n      <th>235</th>\n      <td>RUE BIR HAKEIM</td>\n      <td>LE CANNET</td>\n      <td>{D38A9E22-746B-4E54-A938-8B1D86B0C63E}</td>\n    </tr>\n    <tr>\n      <th>236</th>\n      <td>AVENUE VICTORIA</td>\n      <td>LE CANNET</td>\n      <td>None</td>\n    </tr>\n    <tr>\n      <th>237</th>\n      <td>RUE GEORGES POMPIDOU</td>\n      <td>LE CANNET</td>\n      <td>None</td>\n    </tr>\n    <tr>\n      <th>238</th>\n      <td>AVENUE FELIX FAURE</td>\n      <td>CANNES</td>\n      <td>{ADDA617C-F1F7-4EB1-96F0-2290E54FCA24}</td>\n    </tr>\n    <tr>\n      <th>239</th>\n      <td>DECHETTERIE DU CANNET</td>\n      <td>LE CANNET</td>\n      <td>{0A29DE42-2D62-4903-8A4B-0223B3748DB9}</td>\n    </tr>\n  </tbody>\n</table>\n</div>"
     },
     "metadata": {},
     "execution_count": 41
    }
   ],
   "source": [
    "dataCollecteurVerre"
   ]
  },
  {
   "cell_type": "code",
   "execution_count": 42,
   "metadata": {},
   "outputs": [],
   "source": [
    "pd.reset_option('display.max_rows')"
   ]
  },
  {
   "cell_type": "code",
   "execution_count": 43,
   "metadata": {},
   "outputs": [
    {
     "output_type": "execute_result",
     "data": {
      "text/plain": [
       "{00DA4896-5F99-4482-8BB9-5B0409B10D22}    2\n",
       "{682A0076-6AE0-4AFD-9074-0F862BB77D7E}    2\n",
       "{0666E598-3357-41DD-B23D-30204991D68F}    1\n",
       "{A5399E79-CACE-45EE-8BD7-14B1B712C1DC}    1\n",
       "{7F60A630-74F1-420E-8ED4-2A1D261B760A}    1\n",
       "                                         ..\n",
       "{857D052C-F5AA-4CB1-9D9A-A8254FB4A869}    1\n",
       "{D82FB384-193D-4175-BBC7-FBF767B81706}    1\n",
       "{35C38FE5-53D7-4C67-84FE-093278149E73}    1\n",
       "{DF2BA8D1-F205-44DE-AE56-C0A308D52BA5}    1\n",
       "{98E96757-9AFC-478F-A11A-39CC56433E56}    1\n",
       "Name: globalid, Length: 120, dtype: int64"
      ]
     },
     "metadata": {},
     "execution_count": 43
    }
   ],
   "source": [
    "# Pour noter les éventuels doublons dans la saisie manuelle\n",
    "dataCollecteurVerre.globalid.value_counts()"
   ]
  },
  {
   "cell_type": "code",
   "execution_count": 44,
   "metadata": {},
   "outputs": [
    {
     "output_type": "execute_result",
     "data": {
      "text/plain": [
       "                   adresse      ville                                globalid  \\\n",
       "0    CHEMIN DES BREGUIERES  LE CANNET  {96405317-A1A8-4339-BBAF-94650179420F}   \n",
       "1        RUE DES MOULIERES  LE CANNET  {98E96757-9AFC-478F-A11A-39CC56433E56}   \n",
       "2          AVENUE DU REPOS  LE CANNET  {1B522953-3C4B-4576-AA43-8F55B7D244FF}   \n",
       "3         RUE DES ORANGERS  LE CANNET  {5F7D0829-9D85-4974-A808-EA2FC10898A0}   \n",
       "4     BOULEVARD D'OLIVETUM  LE CANNET  {DF9FB992-80F3-4231-B49C-420DD03A7B32}   \n",
       "..                     ...        ...                                     ...   \n",
       "233   BOULEVARD ALBERT 1er  LE CANNET  {D54617C8-638F-4D12-A15C-9A733959CA6F}   \n",
       "234   ROUTE DES BREGUIERES  LE CANNET  {4165D80B-CD0E-4B31-94B8-C69E54C0C59E}   \n",
       "235         RUE BIR HAKEIM  LE CANNET  {D38A9E22-746B-4E54-A938-8B1D86B0C63E}   \n",
       "238     AVENUE FELIX FAURE     CANNES  {ADDA617C-F1F7-4EB1-96F0-2290E54FCA24}   \n",
       "239  DECHETTERIE DU CANNET  LE CANNET  {0A29DE42-2D62-4903-8A4B-0223B3748DB9}   \n",
       "\n",
       "     objectid  \n",
       "0         860  \n",
       "1         859  \n",
       "2         858  \n",
       "3         854  \n",
       "4         856  \n",
       "..        ...  \n",
       "233       835  \n",
       "234       861  \n",
       "235       877  \n",
       "238       679  \n",
       "239       876  \n",
       "\n",
       "[122 rows x 4 columns]"
      ],
      "text/html": "<div>\n<style scoped>\n    .dataframe tbody tr th:only-of-type {\n        vertical-align: middle;\n    }\n\n    .dataframe tbody tr th {\n        vertical-align: top;\n    }\n\n    .dataframe thead th {\n        text-align: right;\n    }\n</style>\n<table border=\"1\" class=\"dataframe\">\n  <thead>\n    <tr style=\"text-align: right;\">\n      <th></th>\n      <th>adresse</th>\n      <th>ville</th>\n      <th>globalid</th>\n      <th>objectid</th>\n    </tr>\n  </thead>\n  <tbody>\n    <tr>\n      <th>0</th>\n      <td>CHEMIN DES BREGUIERES</td>\n      <td>LE CANNET</td>\n      <td>{96405317-A1A8-4339-BBAF-94650179420F}</td>\n      <td>860</td>\n    </tr>\n    <tr>\n      <th>1</th>\n      <td>RUE DES MOULIERES</td>\n      <td>LE CANNET</td>\n      <td>{98E96757-9AFC-478F-A11A-39CC56433E56}</td>\n      <td>859</td>\n    </tr>\n    <tr>\n      <th>2</th>\n      <td>AVENUE DU REPOS</td>\n      <td>LE CANNET</td>\n      <td>{1B522953-3C4B-4576-AA43-8F55B7D244FF}</td>\n      <td>858</td>\n    </tr>\n    <tr>\n      <th>3</th>\n      <td>RUE DES ORANGERS</td>\n      <td>LE CANNET</td>\n      <td>{5F7D0829-9D85-4974-A808-EA2FC10898A0}</td>\n      <td>854</td>\n    </tr>\n    <tr>\n      <th>4</th>\n      <td>BOULEVARD D'OLIVETUM</td>\n      <td>LE CANNET</td>\n      <td>{DF9FB992-80F3-4231-B49C-420DD03A7B32}</td>\n      <td>856</td>\n    </tr>\n    <tr>\n      <th>...</th>\n      <td>...</td>\n      <td>...</td>\n      <td>...</td>\n      <td>...</td>\n    </tr>\n    <tr>\n      <th>233</th>\n      <td>BOULEVARD ALBERT 1er</td>\n      <td>LE CANNET</td>\n      <td>{D54617C8-638F-4D12-A15C-9A733959CA6F}</td>\n      <td>835</td>\n    </tr>\n    <tr>\n      <th>234</th>\n      <td>ROUTE DES BREGUIERES</td>\n      <td>LE CANNET</td>\n      <td>{4165D80B-CD0E-4B31-94B8-C69E54C0C59E}</td>\n      <td>861</td>\n    </tr>\n    <tr>\n      <th>235</th>\n      <td>RUE BIR HAKEIM</td>\n      <td>LE CANNET</td>\n      <td>{D38A9E22-746B-4E54-A938-8B1D86B0C63E}</td>\n      <td>877</td>\n    </tr>\n    <tr>\n      <th>238</th>\n      <td>AVENUE FELIX FAURE</td>\n      <td>CANNES</td>\n      <td>{ADDA617C-F1F7-4EB1-96F0-2290E54FCA24}</td>\n      <td>679</td>\n    </tr>\n    <tr>\n      <th>239</th>\n      <td>DECHETTERIE DU CANNET</td>\n      <td>LE CANNET</td>\n      <td>{0A29DE42-2D62-4903-8A4B-0223B3748DB9}</td>\n      <td>876</td>\n    </tr>\n  </tbody>\n</table>\n<p>122 rows × 4 columns</p>\n</div>"
     },
     "metadata": {},
     "execution_count": 44
    }
   ],
   "source": [
    "for i in dataCollecteurVerre.index:\n",
    "    for j in dfCollecteursVerre.index:\n",
    "        if dataCollecteurVerre.loc[i, \"globalid\"] == dfCollecteursVerre.loc[j, \"globalid\"]:\n",
    "            dataCollecteurVerre.loc[i, \"objectid\"] = dfCollecteursVerre.loc[j, \"objectid\"]\n",
    "            break\n",
    "\n",
    "dataCollecteurVerre = dataCollecteurVerre[dataCollecteurVerre['objectid'].notna()]\n",
    "dataCollecteurVerre.objectid = dataCollecteurVerre.objectid.astype(int)\n",
    "\n",
    "dataCollecteurVerre"
   ]
  },
  {
   "cell_type": "code",
   "execution_count": 45,
   "metadata": {},
   "outputs": [
    {
     "output_type": "execute_result",
     "data": {
      "text/plain": [
       "      Collecte Contenant                Adresse      Ville  Année       MOIS  \\\n",
       "0          PAV   CNT135V  CHEMIN DES BREGUIERES  LE CANNET   2017    Janvier   \n",
       "1          PAV   CNT135V  CHEMIN DES BREGUIERES  LE CANNET   2017    Janvier   \n",
       "2          PAV   CNT135V  CHEMIN DES BREGUIERES  LE CANNET   2017    Janvier   \n",
       "3          PAV   CNT135V  CHEMIN DES BREGUIERES  LE CANNET   2017    Février   \n",
       "4          PAV   CNT135V  CHEMIN DES BREGUIERES  LE CANNET   2017    Février   \n",
       "...        ...       ...                    ...        ...    ...        ...   \n",
       "13281      PAV   CAN175V     AVENUE FELIX FAURE     CANNES   2019    Octobre   \n",
       "13282      PAV   CAN175V     AVENUE FELIX FAURE     CANNES   2019    Octobre   \n",
       "13283      PAV   CAN175V     AVENUE FELIX FAURE     CANNES   2019    Octobre   \n",
       "13284      PAV   CNT350V  DECHETTERIE DU CANNET  LE CANNET   2019  Septembre   \n",
       "13285      PAV   CNT350V  DECHETTERIE DU CANNET  LE CANNET   2019    Octobre   \n",
       "\n",
       "       SEMAINE      date      heure  Taux  Poids Kg                adresse  \\\n",
       "0            1 2017-01-05  06:32:09     2       500  CHEMIN DES BREGUIERES   \n",
       "1            2 2017-01-12  10:59:12     1       330  CHEMIN DES BREGUIERES   \n",
       "2            4 2017-01-26  06:29:37     2       490  CHEMIN DES BREGUIERES   \n",
       "3            5 2017-02-02  06:16:45     2       510  CHEMIN DES BREGUIERES   \n",
       "4            7 2017-02-16  06:19:02     2       610  CHEMIN DES BREGUIERES   \n",
       "...        ...        ...       ...   ...       ...                    ...   \n",
       "13281       42 2019-10-18  08:20:10     1       350     AVENUE FELIX FAURE   \n",
       "13282       42 2019-10-14  00:00:00     3       990     AVENUE FELIX FAURE   \n",
       "13283       44 2019-10-28  07:38:34     2       740     AVENUE FELIX FAURE   \n",
       "13284       37 2019-09-10  00:00:00     4      1210  DECHETTERIE DU CANNET   \n",
       "13285       44 2019-10-31  10:32:20     4      1070  DECHETTERIE DU CANNET   \n",
       "\n",
       "           ville                                globalid  objectid  \n",
       "0      LE CANNET  {96405317-A1A8-4339-BBAF-94650179420F}       860  \n",
       "1      LE CANNET  {96405317-A1A8-4339-BBAF-94650179420F}       860  \n",
       "2      LE CANNET  {96405317-A1A8-4339-BBAF-94650179420F}       860  \n",
       "3      LE CANNET  {96405317-A1A8-4339-BBAF-94650179420F}       860  \n",
       "4      LE CANNET  {96405317-A1A8-4339-BBAF-94650179420F}       860  \n",
       "...          ...                                     ...       ...  \n",
       "13281     CANNES  {ADDA617C-F1F7-4EB1-96F0-2290E54FCA24}       679  \n",
       "13282     CANNES  {ADDA617C-F1F7-4EB1-96F0-2290E54FCA24}       679  \n",
       "13283     CANNES  {ADDA617C-F1F7-4EB1-96F0-2290E54FCA24}       679  \n",
       "13284  LE CANNET  {0A29DE42-2D62-4903-8A4B-0223B3748DB9}       876  \n",
       "13285  LE CANNET  {0A29DE42-2D62-4903-8A4B-0223B3748DB9}       876  \n",
       "\n",
       "[13286 rows x 15 columns]"
      ],
      "text/html": "<div>\n<style scoped>\n    .dataframe tbody tr th:only-of-type {\n        vertical-align: middle;\n    }\n\n    .dataframe tbody tr th {\n        vertical-align: top;\n    }\n\n    .dataframe thead th {\n        text-align: right;\n    }\n</style>\n<table border=\"1\" class=\"dataframe\">\n  <thead>\n    <tr style=\"text-align: right;\">\n      <th></th>\n      <th>Collecte</th>\n      <th>Contenant</th>\n      <th>Adresse</th>\n      <th>Ville</th>\n      <th>Année</th>\n      <th>MOIS</th>\n      <th>SEMAINE</th>\n      <th>date</th>\n      <th>heure</th>\n      <th>Taux</th>\n      <th>Poids Kg</th>\n      <th>adresse</th>\n      <th>ville</th>\n      <th>globalid</th>\n      <th>objectid</th>\n    </tr>\n  </thead>\n  <tbody>\n    <tr>\n      <th>0</th>\n      <td>PAV</td>\n      <td>CNT135V</td>\n      <td>CHEMIN DES BREGUIERES</td>\n      <td>LE CANNET</td>\n      <td>2017</td>\n      <td>Janvier</td>\n      <td>1</td>\n      <td>2017-01-05</td>\n      <td>06:32:09</td>\n      <td>2</td>\n      <td>500</td>\n      <td>CHEMIN DES BREGUIERES</td>\n      <td>LE CANNET</td>\n      <td>{96405317-A1A8-4339-BBAF-94650179420F}</td>\n      <td>860</td>\n    </tr>\n    <tr>\n      <th>1</th>\n      <td>PAV</td>\n      <td>CNT135V</td>\n      <td>CHEMIN DES BREGUIERES</td>\n      <td>LE CANNET</td>\n      <td>2017</td>\n      <td>Janvier</td>\n      <td>2</td>\n      <td>2017-01-12</td>\n      <td>10:59:12</td>\n      <td>1</td>\n      <td>330</td>\n      <td>CHEMIN DES BREGUIERES</td>\n      <td>LE CANNET</td>\n      <td>{96405317-A1A8-4339-BBAF-94650179420F}</td>\n      <td>860</td>\n    </tr>\n    <tr>\n      <th>2</th>\n      <td>PAV</td>\n      <td>CNT135V</td>\n      <td>CHEMIN DES BREGUIERES</td>\n      <td>LE CANNET</td>\n      <td>2017</td>\n      <td>Janvier</td>\n      <td>4</td>\n      <td>2017-01-26</td>\n      <td>06:29:37</td>\n      <td>2</td>\n      <td>490</td>\n      <td>CHEMIN DES BREGUIERES</td>\n      <td>LE CANNET</td>\n      <td>{96405317-A1A8-4339-BBAF-94650179420F}</td>\n      <td>860</td>\n    </tr>\n    <tr>\n      <th>3</th>\n      <td>PAV</td>\n      <td>CNT135V</td>\n      <td>CHEMIN DES BREGUIERES</td>\n      <td>LE CANNET</td>\n      <td>2017</td>\n      <td>Février</td>\n      <td>5</td>\n      <td>2017-02-02</td>\n      <td>06:16:45</td>\n      <td>2</td>\n      <td>510</td>\n      <td>CHEMIN DES BREGUIERES</td>\n      <td>LE CANNET</td>\n      <td>{96405317-A1A8-4339-BBAF-94650179420F}</td>\n      <td>860</td>\n    </tr>\n    <tr>\n      <th>4</th>\n      <td>PAV</td>\n      <td>CNT135V</td>\n      <td>CHEMIN DES BREGUIERES</td>\n      <td>LE CANNET</td>\n      <td>2017</td>\n      <td>Février</td>\n      <td>7</td>\n      <td>2017-02-16</td>\n      <td>06:19:02</td>\n      <td>2</td>\n      <td>610</td>\n      <td>CHEMIN DES BREGUIERES</td>\n      <td>LE CANNET</td>\n      <td>{96405317-A1A8-4339-BBAF-94650179420F}</td>\n      <td>860</td>\n    </tr>\n    <tr>\n      <th>...</th>\n      <td>...</td>\n      <td>...</td>\n      <td>...</td>\n      <td>...</td>\n      <td>...</td>\n      <td>...</td>\n      <td>...</td>\n      <td>...</td>\n      <td>...</td>\n      <td>...</td>\n      <td>...</td>\n      <td>...</td>\n      <td>...</td>\n      <td>...</td>\n      <td>...</td>\n    </tr>\n    <tr>\n      <th>13281</th>\n      <td>PAV</td>\n      <td>CAN175V</td>\n      <td>AVENUE FELIX FAURE</td>\n      <td>CANNES</td>\n      <td>2019</td>\n      <td>Octobre</td>\n      <td>42</td>\n      <td>2019-10-18</td>\n      <td>08:20:10</td>\n      <td>1</td>\n      <td>350</td>\n      <td>AVENUE FELIX FAURE</td>\n      <td>CANNES</td>\n      <td>{ADDA617C-F1F7-4EB1-96F0-2290E54FCA24}</td>\n      <td>679</td>\n    </tr>\n    <tr>\n      <th>13282</th>\n      <td>PAV</td>\n      <td>CAN175V</td>\n      <td>AVENUE FELIX FAURE</td>\n      <td>CANNES</td>\n      <td>2019</td>\n      <td>Octobre</td>\n      <td>42</td>\n      <td>2019-10-14</td>\n      <td>00:00:00</td>\n      <td>3</td>\n      <td>990</td>\n      <td>AVENUE FELIX FAURE</td>\n      <td>CANNES</td>\n      <td>{ADDA617C-F1F7-4EB1-96F0-2290E54FCA24}</td>\n      <td>679</td>\n    </tr>\n    <tr>\n      <th>13283</th>\n      <td>PAV</td>\n      <td>CAN175V</td>\n      <td>AVENUE FELIX FAURE</td>\n      <td>CANNES</td>\n      <td>2019</td>\n      <td>Octobre</td>\n      <td>44</td>\n      <td>2019-10-28</td>\n      <td>07:38:34</td>\n      <td>2</td>\n      <td>740</td>\n      <td>AVENUE FELIX FAURE</td>\n      <td>CANNES</td>\n      <td>{ADDA617C-F1F7-4EB1-96F0-2290E54FCA24}</td>\n      <td>679</td>\n    </tr>\n    <tr>\n      <th>13284</th>\n      <td>PAV</td>\n      <td>CNT350V</td>\n      <td>DECHETTERIE DU CANNET</td>\n      <td>LE CANNET</td>\n      <td>2019</td>\n      <td>Septembre</td>\n      <td>37</td>\n      <td>2019-09-10</td>\n      <td>00:00:00</td>\n      <td>4</td>\n      <td>1210</td>\n      <td>DECHETTERIE DU CANNET</td>\n      <td>LE CANNET</td>\n      <td>{0A29DE42-2D62-4903-8A4B-0223B3748DB9}</td>\n      <td>876</td>\n    </tr>\n    <tr>\n      <th>13285</th>\n      <td>PAV</td>\n      <td>CNT350V</td>\n      <td>DECHETTERIE DU CANNET</td>\n      <td>LE CANNET</td>\n      <td>2019</td>\n      <td>Octobre</td>\n      <td>44</td>\n      <td>2019-10-31</td>\n      <td>10:32:20</td>\n      <td>4</td>\n      <td>1070</td>\n      <td>DECHETTERIE DU CANNET</td>\n      <td>LE CANNET</td>\n      <td>{0A29DE42-2D62-4903-8A4B-0223B3748DB9}</td>\n      <td>876</td>\n    </tr>\n  </tbody>\n</table>\n<p>13286 rows × 15 columns</p>\n</div>"
     },
     "metadata": {},
     "execution_count": 45
    }
   ],
   "source": [
    "data171819 = data171819.merge(dataCollecteurVerre, left_on=\"Adresse\", right_on=\"adresse\")\n",
    "data171819"
   ]
  },
  {
   "cell_type": "code",
   "execution_count": 46,
   "metadata": {},
   "outputs": [
    {
     "output_type": "execute_result",
     "data": {
      "text/plain": [
       "       Prestation Date de réalisation                 Lieu de Collecte  \\\n",
       "0     12001054939          2020-01-02              CAPL-CNT-VOIE JULIA   \n",
       "1     12001054940          2020-01-02  CAPL-CNT-BREGUIERES/FONT GALLOU   \n",
       "2     12001054941          2020-01-02      CAPL-CNT-AV ECOLES/ROTHMANS   \n",
       "3     12001054942          2020-01-02                CAPL-CAN-MERLETTE   \n",
       "4     12001054943          2020-01-02                CAPL-CAN-RIOU/HLM   \n",
       "...           ...                 ...                              ...   \n",
       "5471  12009697556          2020-09-30   CAPL-CAN-GOURGUETTES/RONDPOINT   \n",
       "5472  12009697557          2020-09-30   CAPL-CAN-GOURGUETTES/ARRET BUS   \n",
       "5473  12009697554          2020-09-30          CAPL-CAN-BALZAC/LECLERC   \n",
       "5474  12009697559          2020-09-30     CAPL-CAN-JOURDAN/ENTREE ANAS   \n",
       "5475  12009697558          2020-09-30        CAPL-CAN-JOURDAN/RANCHITO   \n",
       "\n",
       "                     Matériel   Poids  \n",
       "0              COLONNE K 3 m3  0.4360  \n",
       "1              COLONNE K 3 m3  0.4360  \n",
       "2              COLONNE K 3 m3  0.4360  \n",
       "3            COLONNE K 2,5 m3  0.5450  \n",
       "4              COLONNE K 4 m3  0.5814  \n",
       "...                       ...     ...  \n",
       "5471           COLONNE K 3 m3  0.1800  \n",
       "5472  COLONNE ENTERREE K 4 m3  0.2400  \n",
       "5473           COLONNE K 3 m3  0.3600  \n",
       "5474           COLONNE K 3 m3  0.1800  \n",
       "5475           COLONNE K 3 m3  0.1800  \n",
       "\n",
       "[5386 rows x 5 columns]"
      ],
      "text/html": "<div>\n<style scoped>\n    .dataframe tbody tr th:only-of-type {\n        vertical-align: middle;\n    }\n\n    .dataframe tbody tr th {\n        vertical-align: top;\n    }\n\n    .dataframe thead th {\n        text-align: right;\n    }\n</style>\n<table border=\"1\" class=\"dataframe\">\n  <thead>\n    <tr style=\"text-align: right;\">\n      <th></th>\n      <th>Prestation</th>\n      <th>Date de réalisation</th>\n      <th>Lieu de Collecte</th>\n      <th>Matériel</th>\n      <th>Poids</th>\n    </tr>\n  </thead>\n  <tbody>\n    <tr>\n      <th>0</th>\n      <td>12001054939</td>\n      <td>2020-01-02</td>\n      <td>CAPL-CNT-VOIE JULIA</td>\n      <td>COLONNE K 3 m3</td>\n      <td>0.4360</td>\n    </tr>\n    <tr>\n      <th>1</th>\n      <td>12001054940</td>\n      <td>2020-01-02</td>\n      <td>CAPL-CNT-BREGUIERES/FONT GALLOU</td>\n      <td>COLONNE K 3 m3</td>\n      <td>0.4360</td>\n    </tr>\n    <tr>\n      <th>2</th>\n      <td>12001054941</td>\n      <td>2020-01-02</td>\n      <td>CAPL-CNT-AV ECOLES/ROTHMANS</td>\n      <td>COLONNE K 3 m3</td>\n      <td>0.4360</td>\n    </tr>\n    <tr>\n      <th>3</th>\n      <td>12001054942</td>\n      <td>2020-01-02</td>\n      <td>CAPL-CAN-MERLETTE</td>\n      <td>COLONNE K 2,5 m3</td>\n      <td>0.5450</td>\n    </tr>\n    <tr>\n      <th>4</th>\n      <td>12001054943</td>\n      <td>2020-01-02</td>\n      <td>CAPL-CAN-RIOU/HLM</td>\n      <td>COLONNE K 4 m3</td>\n      <td>0.5814</td>\n    </tr>\n    <tr>\n      <th>...</th>\n      <td>...</td>\n      <td>...</td>\n      <td>...</td>\n      <td>...</td>\n      <td>...</td>\n    </tr>\n    <tr>\n      <th>5471</th>\n      <td>12009697556</td>\n      <td>2020-09-30</td>\n      <td>CAPL-CAN-GOURGUETTES/RONDPOINT</td>\n      <td>COLONNE K 3 m3</td>\n      <td>0.1800</td>\n    </tr>\n    <tr>\n      <th>5472</th>\n      <td>12009697557</td>\n      <td>2020-09-30</td>\n      <td>CAPL-CAN-GOURGUETTES/ARRET BUS</td>\n      <td>COLONNE ENTERREE K 4 m3</td>\n      <td>0.2400</td>\n    </tr>\n    <tr>\n      <th>5473</th>\n      <td>12009697554</td>\n      <td>2020-09-30</td>\n      <td>CAPL-CAN-BALZAC/LECLERC</td>\n      <td>COLONNE K 3 m3</td>\n      <td>0.3600</td>\n    </tr>\n    <tr>\n      <th>5474</th>\n      <td>12009697559</td>\n      <td>2020-09-30</td>\n      <td>CAPL-CAN-JOURDAN/ENTREE ANAS</td>\n      <td>COLONNE K 3 m3</td>\n      <td>0.1800</td>\n    </tr>\n    <tr>\n      <th>5475</th>\n      <td>12009697558</td>\n      <td>2020-09-30</td>\n      <td>CAPL-CAN-JOURDAN/RANCHITO</td>\n      <td>COLONNE K 3 m3</td>\n      <td>0.1800</td>\n    </tr>\n  </tbody>\n</table>\n<p>5386 rows × 5 columns</p>\n</div>"
     },
     "metadata": {},
     "execution_count": 46
    }
   ],
   "source": [
    "data20"
   ]
  },
  {
   "cell_type": "code",
   "execution_count": 47,
   "metadata": {},
   "outputs": [
    {
     "output_type": "execute_result",
     "data": {
      "text/plain": [
       "                                 adresse                 ville globalid\n",
       "0                    CAPL-CNT-VOIE JULIA             Le Cannet      NaN\n",
       "1        CAPL-CNT-BREGUIERES/FONT GALLOU             Le Cannet      NaN\n",
       "2            CAPL-CNT-AV ECOLES/ROTHMANS             Le Cannet      NaN\n",
       "3                      CAPL-CAN-MERLETTE                Cannes      NaN\n",
       "4                      CAPL-CAN-RIOU/HLM                Cannes      NaN\n",
       "5         CAPL-CNT-POMPIDOU/RIVES DU LAC             Le Cannet      NaN\n",
       "6               CAPL-CNT-HAKEIM/MAL JUIN             Le Cannet      NaN\n",
       "7     CAPL-CAN-IMP L'AUBAREDE/FACE RESID                Cannes      NaN\n",
       "8               CAPL-CNT-ALBERT 1ER/PINS             Le Cannet      NaN\n",
       "9       CAPL-CAN-79 TASSIGNY/LA GRAZIELA                Cannes      NaN\n",
       "10                     CAPL-CAN-TASSIGNY                Cannes      NaN\n",
       "11         CAPL-CAN-BROUSSAILLES/HOPITAL                Cannes      NaN\n",
       "12               CAPL-CAN-ROUBINE/NEGRIN                Cannes      NaN\n",
       "13          CAPL-CAN-STE MARGUERITE/GARE                Cannes      NaN\n",
       "14       CAPL-CAN-BALOUX/MARCHE LA BOCCA                Cannes      NaN\n",
       "15               CAPL-CAN-DE POESI/STADE                Cannes      NaN\n",
       "16               CAPL-CAN-MURIER/CIGALES                Cannes      NaN\n",
       "17        CAPL-CAN-DOZOL/MENUISERIE PAUL                Cannes      NaN\n",
       "18         CAPL-CAN-F TONNER LAVAGE/GIFI                Cannes      NaN\n",
       "19                CAPL-CAN-AV DU VERCORS                Cannes      NaN\n",
       "20                 CAPL-CAN-BD DU SOLEIL                Cannes      NaN\n",
       "21                      CAPL-CAN-IMPTUBY                Cannes      NaN\n",
       "22         CAPL-CAN-CROIX GARDES/PARKING                Cannes      NaN\n",
       "23      CAPL-CAN-LEADER/CROIX DES GARDES                Cannes      NaN\n",
       "24      CAPL-CAN-PERIER/ECOLE MATERNELLE                Cannes      NaN\n",
       "25               CAPL-CAN-RTE DU VILLAGE                Cannes      NaN\n",
       "26                CAPL-CAN-CH PERIER/KTM                Cannes      NaN\n",
       "27            CAPL-CAN-AV DE GRASSE/REME                Cannes      NaN\n",
       "28           CAPL-CAN-M CHEVALIER/KYRIAD                Cannes      NaN\n",
       "29        CAPL-CAN-M CHEVALIER/RONDPOINT                Cannes      NaN\n",
       "30               CAPL-CAN-QUAI ST PIERRE                Cannes      NaN\n",
       "31       CAPL-CAN-LIBERTE/PLAC DE GAULLE                Cannes      NaN\n",
       "32                CAPL-CNT-CH BREGUIERES             Le Cannet      NaN\n",
       "33       CAPL-MOU-FONT DE CURRAULT/MUSEE               Mougins      NaN\n",
       "34         CAPL-MOU-ST JACQUES/M LE HAUT               Mougins      NaN\n",
       "35     CAPL-MOU-AV DE GAULLE/GENDARMERIE               Mougins      NaN\n",
       "36    CAPL-MOU-NOTRE DAME DE VIE/RENAULT               Mougins      NaN\n",
       "37       CAPL-MOU-CH CAMPANE/GENDARMERIE               Mougins      NaN\n",
       "38       CAPL-MOU-SAINT-BASILE/RONDPOINT               Mougins      NaN\n",
       "39     CAPL-MOU-LA PLAINE/LYONNAISE EAUX               Mougins      NaN\n",
       "40    CAPL-MOU-TOURNAMY/ENTREPRISE MATER               Mougins      NaN\n",
       "41      CAPL-MOU-MOULIN DE CROIX/PARKING               Mougins      NaN\n",
       "42          CAPL-MOU-JUIN/PARKING LE VAL               Mougins      NaN\n",
       "43            CAPL-CNT-MOULIERES/PARKING             Le Cannet      NaN\n",
       "44              CAPL-CNT-REPOS/CIMETIERE             Le Cannet      NaN\n",
       "45           CAPL-CNT-RUE ORANGERS/ANGLE             Le Cannet      NaN\n",
       "46           CAPL-CNT-OLIVETUM/RONDPOINT             Le Cannet      NaN\n",
       "47        CAPL-CNT-THIERS/JARDIN ENFANTS             Le Cannet      NaN\n",
       "48        CAPL-CNT-GAVARY/PARCOURS SANTE             Le Cannet      NaN\n",
       "49     CAPL-CNT-LACOUR/POLICE MUNICIPALE             Le Cannet      NaN\n",
       "50    CAPL-CNT-RUE DE L'OUEST/RESTAURANT             Le Cannet      NaN\n",
       "51                CAPL-CNT-FERRY/LECLERC             Le Cannet      NaN\n",
       "52              CAPL-CNT-MONT JOLI/STADE             Le Cannet      NaN\n",
       "53                 CAPL-CNT-TABA/PARKING             Le Cannet      NaN\n",
       "54             CAPL-CNT-CITE DES JARDINS             Le Cannet      NaN\n",
       "55                CAPL-CNT-GARIBONDY/HLM             Le Cannet      NaN\n",
       "56         CAPL-CNT-GARIBONDY/MIROITERIE             Le Cannet      NaN\n",
       "57   CAPL-CNT-CARIMAIL/STATION EPURATION             Le Cannet      NaN\n",
       "58       CAPL-CNT-POMPIDOU/SQAURE CASSIN             Le Cannet      NaN\n",
       "59       CAPL-CNT-DE GAULLE/HYPER CASINO             Le Cannet      NaN\n",
       "60           CAPL-CNT-MONOD/SECU SOCIALE             Le Cannet      NaN\n",
       "61          CAPL-MOU-CH FAISSOLE/PARKING               Mougins      NaN\n",
       "62    CAPL-MOU-CH/IMPASSE GRANDE BASTIDE               Mougins      NaN\n",
       "63        CAPL-MOU-CH REFUGE/CH ESPAGNOL               Mougins      NaN\n",
       "64       CAPL-MOU-LAMARTINE/MAIRIE ANNEX               Mougins      NaN\n",
       "65         CAPL-CNT-L'AUBAREDE/CIMETIERE             Le Cannet      NaN\n",
       "66        CAPL-CAN-TUBY/PONT DES SUISSES                Cannes      NaN\n",
       "67              CAPL-CAN-MARCHE FORVILLE                Cannes      NaN\n",
       "68          CAPL-CAN-LORRAINE/REPUBLIQUE                Cannes      NaN\n",
       "69                CAPL-CAN-BD MONTFLEURY                Cannes      NaN\n",
       "70        CAPL-CAN-ISOLA BELLA/RONDPOINT                Cannes      NaN\n",
       "71       CAPL-CAN-BEAUSEJOUR/MONT FLEURI                Cannes      NaN\n",
       "72                     CAPL-CAN-BENEFIAT                Cannes      NaN\n",
       "73                   CAPL-CAN-ARAUCARIAS                Cannes      NaN\n",
       "74        CAPL-CAN-ISOLA BELLA/CDT MARIA                Cannes      NaN\n",
       "75               CAPL-CAN-PASTEUR ROUAZE                Cannes      NaN\n",
       "76               CAPL-CAN-FAURE/PIETONNE                Cannes      NaN\n",
       "77   CAPL-CAN-LAUGIER/SQU MISTRAL HIBERT                Cannes      NaN\n",
       "78                   CAPL-CAN-CLEMENCEAU                Cannes      NaN\n",
       "79       CAPL-CAN-RIOUFFE/SQUARE MERIMEE                Cannes      NaN\n",
       "80        CAPL-CAN-VAUTRIN/PARK BERMONDI                Cannes      NaN\n",
       "81                      CAPL-CAN-VAUTRIN                Cannes      NaN\n",
       "82              CAPL-CAN-CREPS/ESPERIDES                Cannes      NaN\n",
       "83                    CAPL-CAN-LA SOURCE                Cannes      NaN\n",
       "84       CAPL-CAN-GAZAGNAIRE/MAURE ROUGE                Cannes      NaN\n",
       "85   CAPL-CAN-AV LERINS/PLACE ST JIN-JIN                Cannes      NaN\n",
       "86              CAPL-CAN-ALSACE PROLONGE                Cannes      NaN\n",
       "87     CAPL-CAN-42 ALEXANDRE III/FENELON                Cannes      NaN\n",
       "88             CAPL-CAN-76 MARECHAL JUIN                Cannes      NaN\n",
       "89                   CAPL-CAN-ROI ALBERT                Cannes      NaN\n",
       "90      CAPL-CAN-55 ALBERT 1ER/SIMIRAMIS                Cannes      NaN\n",
       "91                  CAPL-CAN-BD DES PINS                Cannes      NaN\n",
       "92                    CAPL-CAN-LILY PONS                Cannes      NaN\n",
       "93             CAPL-CAN-19 MARECHAL JUIN                Cannes      NaN\n",
       "94       CAPL-CAN-L BLANC/QUART FORVILLE                Cannes      NaN\n",
       "95    CAPL-CAN-PL CORNUT GENTILLE/MAIRIE                Cannes      NaN\n",
       "96       CAPL-CAN-JAURES/MARCHE GAMBETTA                Cannes      NaN\n",
       "97              CAPL-CAN-COMMANDANT BRET                Cannes      NaN\n",
       "98          CAPL-CAN-TERREFIAL/MONT ROSE                Cannes      NaN\n",
       "99                   CAPL-CAN-REPUBLIQUE                Cannes      NaN\n",
       "100      CAPL-CAN-PRINCE DE GALLES/PRADO                Cannes      NaN\n",
       "101         CAPL-CAN-AV DE GRASSE/DELAUP                Cannes      NaN\n",
       "102               CAPL-CAN-REYER/RENAULT                Cannes      NaN\n",
       "103                   CAPL-CAN-BOUCICAUT                Cannes      NaN\n",
       "104              CAPL-CAN-AV DES COTEAUX                Cannes      NaN\n",
       "105             CAPL-CAN-20 AV VALLAURIS                Cannes      NaN\n",
       "106             CAPL-CAN-61 AV VALLAURIS                Cannes      NaN\n",
       "107        CAPL-CAN-MASSENA/LYCEE CARNOT                Cannes      NaN\n",
       "108        CAPL-CAN-CROISETTE/PALM BEACH                Cannes      NaN\n",
       "109                      CAPL-CAN-ALSACE                Cannes      NaN\n",
       "110          CAPL-CAN-DALSACE/CHATEAUDIN                Cannes      NaN\n",
       "111        CAPL-CAN-MILTON/CAB TELEPHONE                Cannes      NaN\n",
       "112                   CAPL-CAN-VENIZELOS                Cannes      NaN\n",
       "113               CAPL-CAN-LORRAINE/ORAN                Cannes      NaN\n",
       "114          CAPL-CAN-BD MER/VOIE FERREE                Cannes      NaN\n",
       "115          CAPL-CAN-PROM MURIERS/STADE                Cannes      NaN\n",
       "116         CAPL-CAN-JOURDAN/ENTREE ANAS                Cannes      NaN\n",
       "117        CAPL-CAN-IMP LAVANDES/JOURDAN                Cannes      NaN\n",
       "118             CAPL-CAN-JOURDAN/CLINICA                Cannes      NaN\n",
       "119    CAPL-CAN-JOURDAN/PHARMACIE MIMOSA                Cannes      NaN\n",
       "120            CAPL-CAN-JOURDAN/RANCHITO                Cannes      NaN\n",
       "121  CAPL-CAN-F TONNER/CHATEAU DE LA MER                Cannes      NaN\n",
       "122              CAPL-CAN-LEADER/COINTET                Cannes      NaN\n",
       "123       CAPL-CAN-LEADER/WESTER WESMYSS                Cannes      NaN\n",
       "124                   CAPL-CAN-PICAUDJMC                Cannes      NaN\n",
       "125       CAPL-CAN-GOURGUETTES/ARRET BUS                Cannes      NaN\n",
       "126       CAPL-CAN-GOURGUETTES/RONDPOINT                Cannes      NaN\n",
       "127       CAPL-CAN-HUGO/QUARTIER RANGUIN                Cannes      NaN\n",
       "128        CAPL-CAN-ESTEREL/GARE FRAYERE                Cannes      NaN\n",
       "129        CAPL-CAN-NOAILLES/BD BEAUSITE                Cannes      NaN\n",
       "130              CAPL-CAN-BALZAC/LECLERC                Cannes      NaN\n",
       "131      CAPL-CAN-CH RURAL FRAYERE/ELFES                Cannes      NaN\n",
       "132      CAPL-MAN-CH BON PIN/DOM MARANDE  Mandelieu-la-Napoule      NaN\n",
       "133      CAPL-MAN-ESCARRAS/ECOLE PITCHOU  Mandelieu-la-Napoule      NaN\n",
       "134    CAPL-MAN-PASSERO/CARREFOUR MARKET  Mandelieu-la-Napoule      NaN\n",
       "135      CAPL-MAN-PASSERO/LES EUCALYPTUS  Mandelieu-la-Napoule      NaN\n",
       "136   CAPL-MAN-REPUBLIQUE/PARKING MAIRIE  Mandelieu-la-Napoule      NaN\n",
       "137      CAPL-MAN-CARDON/DOM DES CHASSES  Mandelieu-la-Napoule      NaN\n",
       "138      CAPL-MAN-ESTEREL PARK/AV FREJUS  Mandelieu-la-Napoule      NaN\n",
       "139     CAPL-MAN-AV FREJUS/PL PROVENCE G  Mandelieu-la-Napoule      NaN\n",
       "140      CAPL-MAN-RIOU/L'ISLETTE DU RIOU  Mandelieu-la-Napoule      NaN\n",
       "141          CAPL-MAN-CARTIER/LE FAIRWAY  Mandelieu-la-Napoule      NaN\n",
       "142      CAPL-MAN-ST VINCENT-PAUL/CRECHE  Mandelieu-la-Napoule      NaN\n",
       "143    CAPL-MAN-PAGNOL/PARKING ECUREUILS  Mandelieu-la-Napoule      NaN\n",
       "144         CAPL-MAN-BON PUITS/CIMETIERE  Mandelieu-la-Napoule      NaN\n",
       "145    CAPL-CAN-14 LIBERATION/BEAUMARCHE                Cannes      NaN\n",
       "146                  CAPL-CNT-ROUX/CAMUS             Le Cannet      NaN\n",
       "147    CAPL-CNT-RUE PINEDE/TERRAIN BOULE             Le Cannet      NaN\n",
       "148                    CAPL-CNT-LAURIERS             Le Cannet      NaN\n",
       "149          CAPL-CNT-L'OLIVET/RONDPOINT             Le Cannet      NaN\n",
       "150       CAPL-CNT-RUE CANNES/IMP BRACCO             Le Cannet      NaN\n",
       "151        CAPL-CNT-ALLEE DES RESERVOIRS             Le Cannet      NaN\n",
       "152       CAPL-CNT-RES PINS PARASOLS/BUS             Le Cannet      NaN\n",
       "153               CAPL-CNT-MONT JOLI/BAS             Le Cannet      NaN\n",
       "154  CAPL-CNT-PINEDE GEND OUVEA/CIMTIERE             Le Cannet      NaN\n",
       "155         CAPL-CAN-VOLTA/CASINO GABRES                Cannes      NaN\n",
       "156       CAPL-CAN-LA SOURCE/MAURE ROUGE                Cannes      NaN\n",
       "157      CAPL-CAN-BD MIDI/MOREAU/SICASIL                Cannes      NaN\n",
       "158                CAPL-CAN-REINE ASTRID                Cannes      NaN\n",
       "159                      CAPL-CAN-CAPRON                Cannes      NaN\n",
       "160            CAPL-CAN-ST LOUIS/PARKING                Cannes      NaN\n",
       "161    CAPL-CAN-ALSACE PROLONGE/ALEX III                Cannes      NaN\n",
       "162        CAPL-CAN-HORIZONS/RN7 STATION                Cannes      NaN\n",
       "163              CAPL-CAN-RIOU/RONDPOINT                Cannes      NaN\n",
       "164      CAPL-CAN-TASSIGNY/CAB TELEPHONE                Cannes      NaN\n",
       "165      CAPL-CAN-VALLOMBROSA/STATION BP                Cannes      NaN\n",
       "166       CAPL-CAN-AV DE  GRASSE/ATHANEE                Cannes      NaN\n",
       "167           CAPL-CAN-LORD BOUGHAM/PONT                Cannes      NaN\n",
       "168    CAPL-CAN-RONDPOINT DUBOYS DANGERS                Cannes      NaN\n",
       "169                      CAPL-CAN-OXFORD                Cannes      NaN\n",
       "170       CAPL-CAN-TUBY/SECTEUR FORVILLE                Cannes      NaN\n",
       "171         CAPL-CAN-TASSIGNY/PONT ECOLE                Cannes      NaN\n",
       "172                CAPL-CAN-IMP BEAULIEU                Cannes      NaN\n",
       "173      CAPL-CAN-MOULIN/LYCEE STANISLAS                Cannes      NaN\n",
       "174    CAPL-MOU-PETITE COLLINE/M LE HAUT               Mougins      NaN\n",
       "175     CAPL-MOU-ARCADES/MOUGINS LE HAUT               Mougins      NaN\n",
       "176  CAPL-MOU-CABRIERES/POLICE MUNICIPAL               Mougins      NaN\n",
       "177       CAPL-MAN-SOUV FRANCAIS/CAPITOU  Mandelieu-la-Napoule      NaN\n",
       "178  CAPL-MAN-CH PRIMEVERES/DOM BELLEVUE  Mandelieu-la-Napoule      NaN\n",
       "179              CAPL-MAN-AV DE L'EUROPE  Mandelieu-la-Napoule      NaN\n",
       "180     CAPL-MAN-AV FREJUS/PL PROVENCE D  Mandelieu-la-Napoule      NaN\n",
       "181        CAPL-MAN-BRAYER/DOM MAURVIEIL  Mandelieu-la-Napoule      NaN\n",
       "182         CAPL-MAN-RIOU/LOCAL POUBELLE  Mandelieu-la-Napoule      NaN\n",
       "183               CAPL-MAN-AV DU 23 AOUT  Mandelieu-la-Napoule      NaN\n",
       "184  CAPL-MAN-CAPITAINREIE/CANNES MARINA  Mandelieu-la-Napoule      NaN\n",
       "185     CAPL-MAN-AV MARINE ROYALE/J BART  Mandelieu-la-Napoule      NaN\n",
       "186    CAPL-MAN-LA PINEA/PIERRE&VACANCES  Mandelieu-la-Napoule      NaN\n",
       "187            CAPL-MAN-PL MIMOSA/ESCOTA  Mandelieu-la-Napoule      NaN\n",
       "188            CAPL-CAN-COUSIN/CARRE DOR                Cannes      NaN\n",
       "189        CAPL-CAN-PICAUD/CAB TELEPHONE                Cannes      NaN\n",
       "190           CAPL-CAN-BASTIDE ROUGE/FLY                Cannes      NaN\n",
       "191    CAPL-CAN-ECH CANNES OUEST/SIVADES                Cannes      NaN\n",
       "192     CAPL-CAN-BASTIDE ROUGE/CARREFOUR                Cannes      NaN\n",
       "193      CAPL-CAN-PRADERIE/PARKING METRO                Cannes      NaN\n",
       "194      CAPL-CNT-COUGOUSSOLLES/CALMETTE             Le Cannet      NaN\n",
       "195              CAPL-CNT-GIONO/DESCENTE             Le Cannet      NaN\n",
       "196   CAPL-CNT-TRAV AUBAREDE/DECHETTERIE             Le Cannet      NaN\n",
       "197                CAPL-MAN-PORT DU RIOU  Mandelieu-la-Napoule      NaN\n",
       "198       CAPL-MAN-ECUREUILS/GENDARMERIE  Mandelieu-la-Napoule      NaN\n",
       "199               CAPL-MAN-ECUREUILS/FEU  Mandelieu-la-Napoule      NaN\n",
       "200        CAPL-MAN-ALLEE MIMOSAS/AV MER  Mandelieu-la-Napoule      NaN\n",
       "201              CAPL-MAN-FONTMICHEL/MMV  Mandelieu-la-Napoule      NaN\n",
       "202       CAPL-MAN-DE SEVIGNE/MATERNELLE  Mandelieu-la-Napoule      NaN\n",
       "203          CAPL-MAN-TERMES/LES JASMINS  Mandelieu-la-Napoule      NaN\n",
       "204     CAPL-MAN-PASSERO/PARKING SANTONS  Mandelieu-la-Napoule      NaN\n",
       "205   CAPL-MAN-ANATOLE FRANCE/3 RIVIERES  Mandelieu-la-Napoule      NaN\n",
       "206   CAPL-MAN-ANC COMBATTANTS/P VERNEDE  Mandelieu-la-Napoule      NaN\n",
       "207         CAPL-MAN-GARBAY/CONTRE ALLEE  Mandelieu-la-Napoule      NaN\n",
       "208            CAPL-CAN-JAURES/GARE SNCF                Cannes      NaN\n",
       "209        CAPL-CAN-PRINCE DE GALLES/MUR                Cannes      NaN\n",
       "210       CAPL-THE-PASTOR/PARKING CENTRE       Théoule-sur-Mer      NaN\n",
       "211  CAPL-THE-PLACE ALLIES MIRAMAR/POSTE       Théoule-sur-Mer      NaN\n",
       "212       CAPL-THE-MISTRAL/P FIGUEIRETTE       Théoule-sur-Mer      NaN\n",
       "213  CAPL-THE-AV TRAYAS/PORT FIGUEIRETTE       Théoule-sur-Mer      NaN\n",
       "214        CAPL-THE-AV COTE D'AZUR/SNACK       Théoule-sur-Mer      NaN\n",
       "215  CAPL-MAN-GRAND DUC/PARKING CORNICHE  Mandelieu-la-Napoule      NaN\n",
       "216  CAPL-MAN-GRAND DUC/PARKING MUSICIEN  Mandelieu-la-Napoule      NaN\n",
       "217            CAPL-MAN-GRAND DUC/ENTREE  Mandelieu-la-Napoule      NaN\n",
       "218      CAPL-MAN-SCHUMAN/LES ARBOUSIERS  Mandelieu-la-Napoule      NaN\n",
       "219  CAPL-MAN-ALLEE CLUBS/MASTERS 2329 A  Mandelieu-la-Napoule      NaN\n",
       "220           CAPL-MAN-RTE GOLF/PRACTICE  Mandelieu-la-Napoule      NaN\n",
       "221   CAPL-MAN-ALL MARINE ROYALE/SURCOUF  Mandelieu-la-Napoule      NaN\n",
       "222       CAPL-CNT-VICTORIA/RES VICTORIA             Le Cannet      NaN\n",
       "223               CAPL-CAN-COLLINES N°42                Cannes      NaN\n",
       "224   CAPL-CAN-TASSIGNY/ANC CH VALLERGUE                Cannes      NaN\n",
       "225      CAPL-CAN-BROUSSAILLES/CARRAIRES                Cannes      NaN\n",
       "226                 CAPL-CAN-JOURDAN/FEU                Cannes      NaN\n",
       "227           CAPL-CAN-JOURDAN/JEU BOULE                Cannes      NaN\n",
       "228   CAPL-CAN-SEMARD/GARE SNCF LA BOCCA                Cannes      NaN\n",
       "229                CAPL-CAN-PICAUD/HONDA                Cannes      NaN\n",
       "230       CAPL-CAN-VERRERIE/MA DEL PONTE                Cannes      NaN\n",
       "231        CAPL-CAN-WESTER MESMYSS/MAEVA                Cannes      NaN\n",
       "232    CAPL-CAN-COINTET/RES CROIX GARDES                Cannes      NaN\n",
       "233     CAPL-CAN-147 CHEVALIER/LE PHENIX                Cannes      NaN\n",
       "234                 CAPL-CAN-M CHEVALIER                Cannes      NaN\n",
       "235              CAPL-CNT-PAGNOL/EN HAUT             Le Cannet      NaN\n",
       "236               CAPL-CNT-ST JOSEPH/EDF             Le Cannet      NaN\n",
       "237             CAPL-CAN-POUSSIN BUCQUET                Cannes      NaN\n",
       "238   CAPL-CAN-PETIT JUAS/PARKING VAUBAN                Cannes      NaN\n",
       "239      CAPL-MOU-ALLEE DE LORME/GYMNASE               Mougins      NaN\n",
       "240                    CAPL-CAN-PANTIERO                Cannes      NaN\n",
       "241                CAPL-CAN-MIDI/CNOSSOS                Cannes      NaN\n",
       "242            CAPL-CAN-OXFORD/RONDPOINT                Cannes      NaN\n",
       "243         CAPL-MAN-ALLEE IRIS/MUSSUGES  Mandelieu-la-Napoule      NaN\n",
       "244                CAPL-CAN-AV DE GRASSE                Cannes      NaN\n",
       "245                 CAPL-CAN-GALIENI/FEU                Cannes      NaN\n",
       "246    CAPL-MAN-AV MARINE ROYALE/SUFFREN  Mandelieu-la-Napoule      NaN\n",
       "247     CAPL-THE-ESQUILLON/HOTEL MIRAMAR       Théoule-sur-Mer      NaN\n",
       "248      CAPL-CNT-POMPIDOU/SALLE RECROIX             Le Cannet      NaN\n",
       "249     CAPL-CAN-ARLUCS/RENAULT LA BOCCA                Cannes      NaN\n",
       "250                 CAPL-CNT-PL BENIDORM             Le Cannet      NaN\n",
       "251      CAPL-CAN-BD MIDI/HIBERT/SOFITEL                Cannes      NaN\n",
       "252  CAPL-CAN-4 BUISSONS ARDENTS/FRAYERE                Cannes      NaN\n",
       "253  CAPL-CAN-5 BUISSONS ARDENTS/FRAYERE                Cannes      NaN\n",
       "254  CAPL-CAN-BUISSONS ARDENTS/FRAYE BUS                Cannes      NaN\n",
       "255       CAPL-CAN-DE COUBERTIN/POMPIERS                Cannes      NaN\n",
       "256               CAPL-CAN-HOTEL MERCURE                Cannes      NaN\n",
       "257            CAPL-CAN-AEROPORT/PARKING                Cannes      NaN\n",
       "258   CAPL-CAN-FESTIVALS/ENTREE ARTISTES                Cannes      NaN\n",
       "259    CAPL-THE-AV LERINS/PORT LE GALERE       Théoule-sur-Mer      NaN\n",
       "260  CAPL-CNT-GARIBONDY/CHATEAU ARTISTES             Le Cannet      NaN\n",
       "261       CAPL-CAN-ROUBINE/SECOURS CATHO                Cannes      NaN\n",
       "262               CAPL-MAN-PORT LA RAGUE  Mandelieu-la-Napoule      NaN\n",
       "263                   CAPL-CAN-AERODROME                Cannes      NaN\n",
       "264        CAPL-MAN-791 AV FREJUS/CASINO  Mandelieu-la-Napoule      NaN\n",
       "265  CAPL-CAN-1 BLV NEGRIN / FRANCIS TON                Cannes      NaN\n",
       "266    CAPL-CAN-JETEE EDOUARD/BOUT DIGUE                Cannes      NaN\n",
       "267            CAPL-THE-VILLA ST CAMILLE       Théoule-sur-Mer      NaN\n",
       "268                CAPL-CAN-FAURE/ASTOUX                Cannes      NaN\n",
       "269   CAPL-CAN-ILE ST HONORAT/VIDAGE CTM                Cannes      NaN\n",
       "270  CAPL-CNT-ST JOSEPH/CAMPING LE RANCH             Le Cannet      NaN\n",
       "271       CAPL-CAN-CHEVALIER/INTER HOTEL                Cannes      NaN\n",
       "272       CAPL-MOU-COUDOURON/DECHETTERIE               Mougins      NaN"
      ],
      "text/html": "<div>\n<style scoped>\n    .dataframe tbody tr th:only-of-type {\n        vertical-align: middle;\n    }\n\n    .dataframe tbody tr th {\n        vertical-align: top;\n    }\n\n    .dataframe thead th {\n        text-align: right;\n    }\n</style>\n<table border=\"1\" class=\"dataframe\">\n  <thead>\n    <tr style=\"text-align: right;\">\n      <th></th>\n      <th>adresse</th>\n      <th>ville</th>\n      <th>globalid</th>\n    </tr>\n  </thead>\n  <tbody>\n    <tr>\n      <th>0</th>\n      <td>CAPL-CNT-VOIE JULIA</td>\n      <td>Le Cannet</td>\n      <td>NaN</td>\n    </tr>\n    <tr>\n      <th>1</th>\n      <td>CAPL-CNT-BREGUIERES/FONT GALLOU</td>\n      <td>Le Cannet</td>\n      <td>NaN</td>\n    </tr>\n    <tr>\n      <th>2</th>\n      <td>CAPL-CNT-AV ECOLES/ROTHMANS</td>\n      <td>Le Cannet</td>\n      <td>NaN</td>\n    </tr>\n    <tr>\n      <th>3</th>\n      <td>CAPL-CAN-MERLETTE</td>\n      <td>Cannes</td>\n      <td>NaN</td>\n    </tr>\n    <tr>\n      <th>4</th>\n      <td>CAPL-CAN-RIOU/HLM</td>\n      <td>Cannes</td>\n      <td>NaN</td>\n    </tr>\n    <tr>\n      <th>5</th>\n      <td>CAPL-CNT-POMPIDOU/RIVES DU LAC</td>\n      <td>Le Cannet</td>\n      <td>NaN</td>\n    </tr>\n    <tr>\n      <th>6</th>\n      <td>CAPL-CNT-HAKEIM/MAL JUIN</td>\n      <td>Le Cannet</td>\n      <td>NaN</td>\n    </tr>\n    <tr>\n      <th>7</th>\n      <td>CAPL-CAN-IMP L'AUBAREDE/FACE RESID</td>\n      <td>Cannes</td>\n      <td>NaN</td>\n    </tr>\n    <tr>\n      <th>8</th>\n      <td>CAPL-CNT-ALBERT 1ER/PINS</td>\n      <td>Le Cannet</td>\n      <td>NaN</td>\n    </tr>\n    <tr>\n      <th>9</th>\n      <td>CAPL-CAN-79 TASSIGNY/LA GRAZIELA</td>\n      <td>Cannes</td>\n      <td>NaN</td>\n    </tr>\n    <tr>\n      <th>10</th>\n      <td>CAPL-CAN-TASSIGNY</td>\n      <td>Cannes</td>\n      <td>NaN</td>\n    </tr>\n    <tr>\n      <th>11</th>\n      <td>CAPL-CAN-BROUSSAILLES/HOPITAL</td>\n      <td>Cannes</td>\n      <td>NaN</td>\n    </tr>\n    <tr>\n      <th>12</th>\n      <td>CAPL-CAN-ROUBINE/NEGRIN</td>\n      <td>Cannes</td>\n      <td>NaN</td>\n    </tr>\n    <tr>\n      <th>13</th>\n      <td>CAPL-CAN-STE MARGUERITE/GARE</td>\n      <td>Cannes</td>\n      <td>NaN</td>\n    </tr>\n    <tr>\n      <th>14</th>\n      <td>CAPL-CAN-BALOUX/MARCHE LA BOCCA</td>\n      <td>Cannes</td>\n      <td>NaN</td>\n    </tr>\n    <tr>\n      <th>15</th>\n      <td>CAPL-CAN-DE POESI/STADE</td>\n      <td>Cannes</td>\n      <td>NaN</td>\n    </tr>\n    <tr>\n      <th>16</th>\n      <td>CAPL-CAN-MURIER/CIGALES</td>\n      <td>Cannes</td>\n      <td>NaN</td>\n    </tr>\n    <tr>\n      <th>17</th>\n      <td>CAPL-CAN-DOZOL/MENUISERIE PAUL</td>\n      <td>Cannes</td>\n      <td>NaN</td>\n    </tr>\n    <tr>\n      <th>18</th>\n      <td>CAPL-CAN-F TONNER LAVAGE/GIFI</td>\n      <td>Cannes</td>\n      <td>NaN</td>\n    </tr>\n    <tr>\n      <th>19</th>\n      <td>CAPL-CAN-AV DU VERCORS</td>\n      <td>Cannes</td>\n      <td>NaN</td>\n    </tr>\n    <tr>\n      <th>20</th>\n      <td>CAPL-CAN-BD DU SOLEIL</td>\n      <td>Cannes</td>\n      <td>NaN</td>\n    </tr>\n    <tr>\n      <th>21</th>\n      <td>CAPL-CAN-IMPTUBY</td>\n      <td>Cannes</td>\n      <td>NaN</td>\n    </tr>\n    <tr>\n      <th>22</th>\n      <td>CAPL-CAN-CROIX GARDES/PARKING</td>\n      <td>Cannes</td>\n      <td>NaN</td>\n    </tr>\n    <tr>\n      <th>23</th>\n      <td>CAPL-CAN-LEADER/CROIX DES GARDES</td>\n      <td>Cannes</td>\n      <td>NaN</td>\n    </tr>\n    <tr>\n      <th>24</th>\n      <td>CAPL-CAN-PERIER/ECOLE MATERNELLE</td>\n      <td>Cannes</td>\n      <td>NaN</td>\n    </tr>\n    <tr>\n      <th>25</th>\n      <td>CAPL-CAN-RTE DU VILLAGE</td>\n      <td>Cannes</td>\n      <td>NaN</td>\n    </tr>\n    <tr>\n      <th>26</th>\n      <td>CAPL-CAN-CH PERIER/KTM</td>\n      <td>Cannes</td>\n      <td>NaN</td>\n    </tr>\n    <tr>\n      <th>27</th>\n      <td>CAPL-CAN-AV DE GRASSE/REME</td>\n      <td>Cannes</td>\n      <td>NaN</td>\n    </tr>\n    <tr>\n      <th>28</th>\n      <td>CAPL-CAN-M CHEVALIER/KYRIAD</td>\n      <td>Cannes</td>\n      <td>NaN</td>\n    </tr>\n    <tr>\n      <th>29</th>\n      <td>CAPL-CAN-M CHEVALIER/RONDPOINT</td>\n      <td>Cannes</td>\n      <td>NaN</td>\n    </tr>\n    <tr>\n      <th>30</th>\n      <td>CAPL-CAN-QUAI ST PIERRE</td>\n      <td>Cannes</td>\n      <td>NaN</td>\n    </tr>\n    <tr>\n      <th>31</th>\n      <td>CAPL-CAN-LIBERTE/PLAC DE GAULLE</td>\n      <td>Cannes</td>\n      <td>NaN</td>\n    </tr>\n    <tr>\n      <th>32</th>\n      <td>CAPL-CNT-CH BREGUIERES</td>\n      <td>Le Cannet</td>\n      <td>NaN</td>\n    </tr>\n    <tr>\n      <th>33</th>\n      <td>CAPL-MOU-FONT DE CURRAULT/MUSEE</td>\n      <td>Mougins</td>\n      <td>NaN</td>\n    </tr>\n    <tr>\n      <th>34</th>\n      <td>CAPL-MOU-ST JACQUES/M LE HAUT</td>\n      <td>Mougins</td>\n      <td>NaN</td>\n    </tr>\n    <tr>\n      <th>35</th>\n      <td>CAPL-MOU-AV DE GAULLE/GENDARMERIE</td>\n      <td>Mougins</td>\n      <td>NaN</td>\n    </tr>\n    <tr>\n      <th>36</th>\n      <td>CAPL-MOU-NOTRE DAME DE VIE/RENAULT</td>\n      <td>Mougins</td>\n      <td>NaN</td>\n    </tr>\n    <tr>\n      <th>37</th>\n      <td>CAPL-MOU-CH CAMPANE/GENDARMERIE</td>\n      <td>Mougins</td>\n      <td>NaN</td>\n    </tr>\n    <tr>\n      <th>38</th>\n      <td>CAPL-MOU-SAINT-BASILE/RONDPOINT</td>\n      <td>Mougins</td>\n      <td>NaN</td>\n    </tr>\n    <tr>\n      <th>39</th>\n      <td>CAPL-MOU-LA PLAINE/LYONNAISE EAUX</td>\n      <td>Mougins</td>\n      <td>NaN</td>\n    </tr>\n    <tr>\n      <th>40</th>\n      <td>CAPL-MOU-TOURNAMY/ENTREPRISE MATER</td>\n      <td>Mougins</td>\n      <td>NaN</td>\n    </tr>\n    <tr>\n      <th>41</th>\n      <td>CAPL-MOU-MOULIN DE CROIX/PARKING</td>\n      <td>Mougins</td>\n      <td>NaN</td>\n    </tr>\n    <tr>\n      <th>42</th>\n      <td>CAPL-MOU-JUIN/PARKING LE VAL</td>\n      <td>Mougins</td>\n      <td>NaN</td>\n    </tr>\n    <tr>\n      <th>43</th>\n      <td>CAPL-CNT-MOULIERES/PARKING</td>\n      <td>Le Cannet</td>\n      <td>NaN</td>\n    </tr>\n    <tr>\n      <th>44</th>\n      <td>CAPL-CNT-REPOS/CIMETIERE</td>\n      <td>Le Cannet</td>\n      <td>NaN</td>\n    </tr>\n    <tr>\n      <th>45</th>\n      <td>CAPL-CNT-RUE ORANGERS/ANGLE</td>\n      <td>Le Cannet</td>\n      <td>NaN</td>\n    </tr>\n    <tr>\n      <th>46</th>\n      <td>CAPL-CNT-OLIVETUM/RONDPOINT</td>\n      <td>Le Cannet</td>\n      <td>NaN</td>\n    </tr>\n    <tr>\n      <th>47</th>\n      <td>CAPL-CNT-THIERS/JARDIN ENFANTS</td>\n      <td>Le Cannet</td>\n      <td>NaN</td>\n    </tr>\n    <tr>\n      <th>48</th>\n      <td>CAPL-CNT-GAVARY/PARCOURS SANTE</td>\n      <td>Le Cannet</td>\n      <td>NaN</td>\n    </tr>\n    <tr>\n      <th>49</th>\n      <td>CAPL-CNT-LACOUR/POLICE MUNICIPALE</td>\n      <td>Le Cannet</td>\n      <td>NaN</td>\n    </tr>\n    <tr>\n      <th>50</th>\n      <td>CAPL-CNT-RUE DE L'OUEST/RESTAURANT</td>\n      <td>Le Cannet</td>\n      <td>NaN</td>\n    </tr>\n    <tr>\n      <th>51</th>\n      <td>CAPL-CNT-FERRY/LECLERC</td>\n      <td>Le Cannet</td>\n      <td>NaN</td>\n    </tr>\n    <tr>\n      <th>52</th>\n      <td>CAPL-CNT-MONT JOLI/STADE</td>\n      <td>Le Cannet</td>\n      <td>NaN</td>\n    </tr>\n    <tr>\n      <th>53</th>\n      <td>CAPL-CNT-TABA/PARKING</td>\n      <td>Le Cannet</td>\n      <td>NaN</td>\n    </tr>\n    <tr>\n      <th>54</th>\n      <td>CAPL-CNT-CITE DES JARDINS</td>\n      <td>Le Cannet</td>\n      <td>NaN</td>\n    </tr>\n    <tr>\n      <th>55</th>\n      <td>CAPL-CNT-GARIBONDY/HLM</td>\n      <td>Le Cannet</td>\n      <td>NaN</td>\n    </tr>\n    <tr>\n      <th>56</th>\n      <td>CAPL-CNT-GARIBONDY/MIROITERIE</td>\n      <td>Le Cannet</td>\n      <td>NaN</td>\n    </tr>\n    <tr>\n      <th>57</th>\n      <td>CAPL-CNT-CARIMAIL/STATION EPURATION</td>\n      <td>Le Cannet</td>\n      <td>NaN</td>\n    </tr>\n    <tr>\n      <th>58</th>\n      <td>CAPL-CNT-POMPIDOU/SQAURE CASSIN</td>\n      <td>Le Cannet</td>\n      <td>NaN</td>\n    </tr>\n    <tr>\n      <th>59</th>\n      <td>CAPL-CNT-DE GAULLE/HYPER CASINO</td>\n      <td>Le Cannet</td>\n      <td>NaN</td>\n    </tr>\n    <tr>\n      <th>60</th>\n      <td>CAPL-CNT-MONOD/SECU SOCIALE</td>\n      <td>Le Cannet</td>\n      <td>NaN</td>\n    </tr>\n    <tr>\n      <th>61</th>\n      <td>CAPL-MOU-CH FAISSOLE/PARKING</td>\n      <td>Mougins</td>\n      <td>NaN</td>\n    </tr>\n    <tr>\n      <th>62</th>\n      <td>CAPL-MOU-CH/IMPASSE GRANDE BASTIDE</td>\n      <td>Mougins</td>\n      <td>NaN</td>\n    </tr>\n    <tr>\n      <th>63</th>\n      <td>CAPL-MOU-CH REFUGE/CH ESPAGNOL</td>\n      <td>Mougins</td>\n      <td>NaN</td>\n    </tr>\n    <tr>\n      <th>64</th>\n      <td>CAPL-MOU-LAMARTINE/MAIRIE ANNEX</td>\n      <td>Mougins</td>\n      <td>NaN</td>\n    </tr>\n    <tr>\n      <th>65</th>\n      <td>CAPL-CNT-L'AUBAREDE/CIMETIERE</td>\n      <td>Le Cannet</td>\n      <td>NaN</td>\n    </tr>\n    <tr>\n      <th>66</th>\n      <td>CAPL-CAN-TUBY/PONT DES SUISSES</td>\n      <td>Cannes</td>\n      <td>NaN</td>\n    </tr>\n    <tr>\n      <th>67</th>\n      <td>CAPL-CAN-MARCHE FORVILLE</td>\n      <td>Cannes</td>\n      <td>NaN</td>\n    </tr>\n    <tr>\n      <th>68</th>\n      <td>CAPL-CAN-LORRAINE/REPUBLIQUE</td>\n      <td>Cannes</td>\n      <td>NaN</td>\n    </tr>\n    <tr>\n      <th>69</th>\n      <td>CAPL-CAN-BD MONTFLEURY</td>\n      <td>Cannes</td>\n      <td>NaN</td>\n    </tr>\n    <tr>\n      <th>70</th>\n      <td>CAPL-CAN-ISOLA BELLA/RONDPOINT</td>\n      <td>Cannes</td>\n      <td>NaN</td>\n    </tr>\n    <tr>\n      <th>71</th>\n      <td>CAPL-CAN-BEAUSEJOUR/MONT FLEURI</td>\n      <td>Cannes</td>\n      <td>NaN</td>\n    </tr>\n    <tr>\n      <th>72</th>\n      <td>CAPL-CAN-BENEFIAT</td>\n      <td>Cannes</td>\n      <td>NaN</td>\n    </tr>\n    <tr>\n      <th>73</th>\n      <td>CAPL-CAN-ARAUCARIAS</td>\n      <td>Cannes</td>\n      <td>NaN</td>\n    </tr>\n    <tr>\n      <th>74</th>\n      <td>CAPL-CAN-ISOLA BELLA/CDT MARIA</td>\n      <td>Cannes</td>\n      <td>NaN</td>\n    </tr>\n    <tr>\n      <th>75</th>\n      <td>CAPL-CAN-PASTEUR ROUAZE</td>\n      <td>Cannes</td>\n      <td>NaN</td>\n    </tr>\n    <tr>\n      <th>76</th>\n      <td>CAPL-CAN-FAURE/PIETONNE</td>\n      <td>Cannes</td>\n      <td>NaN</td>\n    </tr>\n    <tr>\n      <th>77</th>\n      <td>CAPL-CAN-LAUGIER/SQU MISTRAL HIBERT</td>\n      <td>Cannes</td>\n      <td>NaN</td>\n    </tr>\n    <tr>\n      <th>78</th>\n      <td>CAPL-CAN-CLEMENCEAU</td>\n      <td>Cannes</td>\n      <td>NaN</td>\n    </tr>\n    <tr>\n      <th>79</th>\n      <td>CAPL-CAN-RIOUFFE/SQUARE MERIMEE</td>\n      <td>Cannes</td>\n      <td>NaN</td>\n    </tr>\n    <tr>\n      <th>80</th>\n      <td>CAPL-CAN-VAUTRIN/PARK BERMONDI</td>\n      <td>Cannes</td>\n      <td>NaN</td>\n    </tr>\n    <tr>\n      <th>81</th>\n      <td>CAPL-CAN-VAUTRIN</td>\n      <td>Cannes</td>\n      <td>NaN</td>\n    </tr>\n    <tr>\n      <th>82</th>\n      <td>CAPL-CAN-CREPS/ESPERIDES</td>\n      <td>Cannes</td>\n      <td>NaN</td>\n    </tr>\n    <tr>\n      <th>83</th>\n      <td>CAPL-CAN-LA SOURCE</td>\n      <td>Cannes</td>\n      <td>NaN</td>\n    </tr>\n    <tr>\n      <th>84</th>\n      <td>CAPL-CAN-GAZAGNAIRE/MAURE ROUGE</td>\n      <td>Cannes</td>\n      <td>NaN</td>\n    </tr>\n    <tr>\n      <th>85</th>\n      <td>CAPL-CAN-AV LERINS/PLACE ST JIN-JIN</td>\n      <td>Cannes</td>\n      <td>NaN</td>\n    </tr>\n    <tr>\n      <th>86</th>\n      <td>CAPL-CAN-ALSACE PROLONGE</td>\n      <td>Cannes</td>\n      <td>NaN</td>\n    </tr>\n    <tr>\n      <th>87</th>\n      <td>CAPL-CAN-42 ALEXANDRE III/FENELON</td>\n      <td>Cannes</td>\n      <td>NaN</td>\n    </tr>\n    <tr>\n      <th>88</th>\n      <td>CAPL-CAN-76 MARECHAL JUIN</td>\n      <td>Cannes</td>\n      <td>NaN</td>\n    </tr>\n    <tr>\n      <th>89</th>\n      <td>CAPL-CAN-ROI ALBERT</td>\n      <td>Cannes</td>\n      <td>NaN</td>\n    </tr>\n    <tr>\n      <th>90</th>\n      <td>CAPL-CAN-55 ALBERT 1ER/SIMIRAMIS</td>\n      <td>Cannes</td>\n      <td>NaN</td>\n    </tr>\n    <tr>\n      <th>91</th>\n      <td>CAPL-CAN-BD DES PINS</td>\n      <td>Cannes</td>\n      <td>NaN</td>\n    </tr>\n    <tr>\n      <th>92</th>\n      <td>CAPL-CAN-LILY PONS</td>\n      <td>Cannes</td>\n      <td>NaN</td>\n    </tr>\n    <tr>\n      <th>93</th>\n      <td>CAPL-CAN-19 MARECHAL JUIN</td>\n      <td>Cannes</td>\n      <td>NaN</td>\n    </tr>\n    <tr>\n      <th>94</th>\n      <td>CAPL-CAN-L BLANC/QUART FORVILLE</td>\n      <td>Cannes</td>\n      <td>NaN</td>\n    </tr>\n    <tr>\n      <th>95</th>\n      <td>CAPL-CAN-PL CORNUT GENTILLE/MAIRIE</td>\n      <td>Cannes</td>\n      <td>NaN</td>\n    </tr>\n    <tr>\n      <th>96</th>\n      <td>CAPL-CAN-JAURES/MARCHE GAMBETTA</td>\n      <td>Cannes</td>\n      <td>NaN</td>\n    </tr>\n    <tr>\n      <th>97</th>\n      <td>CAPL-CAN-COMMANDANT BRET</td>\n      <td>Cannes</td>\n      <td>NaN</td>\n    </tr>\n    <tr>\n      <th>98</th>\n      <td>CAPL-CAN-TERREFIAL/MONT ROSE</td>\n      <td>Cannes</td>\n      <td>NaN</td>\n    </tr>\n    <tr>\n      <th>99</th>\n      <td>CAPL-CAN-REPUBLIQUE</td>\n      <td>Cannes</td>\n      <td>NaN</td>\n    </tr>\n    <tr>\n      <th>100</th>\n      <td>CAPL-CAN-PRINCE DE GALLES/PRADO</td>\n      <td>Cannes</td>\n      <td>NaN</td>\n    </tr>\n    <tr>\n      <th>101</th>\n      <td>CAPL-CAN-AV DE GRASSE/DELAUP</td>\n      <td>Cannes</td>\n      <td>NaN</td>\n    </tr>\n    <tr>\n      <th>102</th>\n      <td>CAPL-CAN-REYER/RENAULT</td>\n      <td>Cannes</td>\n      <td>NaN</td>\n    </tr>\n    <tr>\n      <th>103</th>\n      <td>CAPL-CAN-BOUCICAUT</td>\n      <td>Cannes</td>\n      <td>NaN</td>\n    </tr>\n    <tr>\n      <th>104</th>\n      <td>CAPL-CAN-AV DES COTEAUX</td>\n      <td>Cannes</td>\n      <td>NaN</td>\n    </tr>\n    <tr>\n      <th>105</th>\n      <td>CAPL-CAN-20 AV VALLAURIS</td>\n      <td>Cannes</td>\n      <td>NaN</td>\n    </tr>\n    <tr>\n      <th>106</th>\n      <td>CAPL-CAN-61 AV VALLAURIS</td>\n      <td>Cannes</td>\n      <td>NaN</td>\n    </tr>\n    <tr>\n      <th>107</th>\n      <td>CAPL-CAN-MASSENA/LYCEE CARNOT</td>\n      <td>Cannes</td>\n      <td>NaN</td>\n    </tr>\n    <tr>\n      <th>108</th>\n      <td>CAPL-CAN-CROISETTE/PALM BEACH</td>\n      <td>Cannes</td>\n      <td>NaN</td>\n    </tr>\n    <tr>\n      <th>109</th>\n      <td>CAPL-CAN-ALSACE</td>\n      <td>Cannes</td>\n      <td>NaN</td>\n    </tr>\n    <tr>\n      <th>110</th>\n      <td>CAPL-CAN-DALSACE/CHATEAUDIN</td>\n      <td>Cannes</td>\n      <td>NaN</td>\n    </tr>\n    <tr>\n      <th>111</th>\n      <td>CAPL-CAN-MILTON/CAB TELEPHONE</td>\n      <td>Cannes</td>\n      <td>NaN</td>\n    </tr>\n    <tr>\n      <th>112</th>\n      <td>CAPL-CAN-VENIZELOS</td>\n      <td>Cannes</td>\n      <td>NaN</td>\n    </tr>\n    <tr>\n      <th>113</th>\n      <td>CAPL-CAN-LORRAINE/ORAN</td>\n      <td>Cannes</td>\n      <td>NaN</td>\n    </tr>\n    <tr>\n      <th>114</th>\n      <td>CAPL-CAN-BD MER/VOIE FERREE</td>\n      <td>Cannes</td>\n      <td>NaN</td>\n    </tr>\n    <tr>\n      <th>115</th>\n      <td>CAPL-CAN-PROM MURIERS/STADE</td>\n      <td>Cannes</td>\n      <td>NaN</td>\n    </tr>\n    <tr>\n      <th>116</th>\n      <td>CAPL-CAN-JOURDAN/ENTREE ANAS</td>\n      <td>Cannes</td>\n      <td>NaN</td>\n    </tr>\n    <tr>\n      <th>117</th>\n      <td>CAPL-CAN-IMP LAVANDES/JOURDAN</td>\n      <td>Cannes</td>\n      <td>NaN</td>\n    </tr>\n    <tr>\n      <th>118</th>\n      <td>CAPL-CAN-JOURDAN/CLINICA</td>\n      <td>Cannes</td>\n      <td>NaN</td>\n    </tr>\n    <tr>\n      <th>119</th>\n      <td>CAPL-CAN-JOURDAN/PHARMACIE MIMOSA</td>\n      <td>Cannes</td>\n      <td>NaN</td>\n    </tr>\n    <tr>\n      <th>120</th>\n      <td>CAPL-CAN-JOURDAN/RANCHITO</td>\n      <td>Cannes</td>\n      <td>NaN</td>\n    </tr>\n    <tr>\n      <th>121</th>\n      <td>CAPL-CAN-F TONNER/CHATEAU DE LA MER</td>\n      <td>Cannes</td>\n      <td>NaN</td>\n    </tr>\n    <tr>\n      <th>122</th>\n      <td>CAPL-CAN-LEADER/COINTET</td>\n      <td>Cannes</td>\n      <td>NaN</td>\n    </tr>\n    <tr>\n      <th>123</th>\n      <td>CAPL-CAN-LEADER/WESTER WESMYSS</td>\n      <td>Cannes</td>\n      <td>NaN</td>\n    </tr>\n    <tr>\n      <th>124</th>\n      <td>CAPL-CAN-PICAUDJMC</td>\n      <td>Cannes</td>\n      <td>NaN</td>\n    </tr>\n    <tr>\n      <th>125</th>\n      <td>CAPL-CAN-GOURGUETTES/ARRET BUS</td>\n      <td>Cannes</td>\n      <td>NaN</td>\n    </tr>\n    <tr>\n      <th>126</th>\n      <td>CAPL-CAN-GOURGUETTES/RONDPOINT</td>\n      <td>Cannes</td>\n      <td>NaN</td>\n    </tr>\n    <tr>\n      <th>127</th>\n      <td>CAPL-CAN-HUGO/QUARTIER RANGUIN</td>\n      <td>Cannes</td>\n      <td>NaN</td>\n    </tr>\n    <tr>\n      <th>128</th>\n      <td>CAPL-CAN-ESTEREL/GARE FRAYERE</td>\n      <td>Cannes</td>\n      <td>NaN</td>\n    </tr>\n    <tr>\n      <th>129</th>\n      <td>CAPL-CAN-NOAILLES/BD BEAUSITE</td>\n      <td>Cannes</td>\n      <td>NaN</td>\n    </tr>\n    <tr>\n      <th>130</th>\n      <td>CAPL-CAN-BALZAC/LECLERC</td>\n      <td>Cannes</td>\n      <td>NaN</td>\n    </tr>\n    <tr>\n      <th>131</th>\n      <td>CAPL-CAN-CH RURAL FRAYERE/ELFES</td>\n      <td>Cannes</td>\n      <td>NaN</td>\n    </tr>\n    <tr>\n      <th>132</th>\n      <td>CAPL-MAN-CH BON PIN/DOM MARANDE</td>\n      <td>Mandelieu-la-Napoule</td>\n      <td>NaN</td>\n    </tr>\n    <tr>\n      <th>133</th>\n      <td>CAPL-MAN-ESCARRAS/ECOLE PITCHOU</td>\n      <td>Mandelieu-la-Napoule</td>\n      <td>NaN</td>\n    </tr>\n    <tr>\n      <th>134</th>\n      <td>CAPL-MAN-PASSERO/CARREFOUR MARKET</td>\n      <td>Mandelieu-la-Napoule</td>\n      <td>NaN</td>\n    </tr>\n    <tr>\n      <th>135</th>\n      <td>CAPL-MAN-PASSERO/LES EUCALYPTUS</td>\n      <td>Mandelieu-la-Napoule</td>\n      <td>NaN</td>\n    </tr>\n    <tr>\n      <th>136</th>\n      <td>CAPL-MAN-REPUBLIQUE/PARKING MAIRIE</td>\n      <td>Mandelieu-la-Napoule</td>\n      <td>NaN</td>\n    </tr>\n    <tr>\n      <th>137</th>\n      <td>CAPL-MAN-CARDON/DOM DES CHASSES</td>\n      <td>Mandelieu-la-Napoule</td>\n      <td>NaN</td>\n    </tr>\n    <tr>\n      <th>138</th>\n      <td>CAPL-MAN-ESTEREL PARK/AV FREJUS</td>\n      <td>Mandelieu-la-Napoule</td>\n      <td>NaN</td>\n    </tr>\n    <tr>\n      <th>139</th>\n      <td>CAPL-MAN-AV FREJUS/PL PROVENCE G</td>\n      <td>Mandelieu-la-Napoule</td>\n      <td>NaN</td>\n    </tr>\n    <tr>\n      <th>140</th>\n      <td>CAPL-MAN-RIOU/L'ISLETTE DU RIOU</td>\n      <td>Mandelieu-la-Napoule</td>\n      <td>NaN</td>\n    </tr>\n    <tr>\n      <th>141</th>\n      <td>CAPL-MAN-CARTIER/LE FAIRWAY</td>\n      <td>Mandelieu-la-Napoule</td>\n      <td>NaN</td>\n    </tr>\n    <tr>\n      <th>142</th>\n      <td>CAPL-MAN-ST VINCENT-PAUL/CRECHE</td>\n      <td>Mandelieu-la-Napoule</td>\n      <td>NaN</td>\n    </tr>\n    <tr>\n      <th>143</th>\n      <td>CAPL-MAN-PAGNOL/PARKING ECUREUILS</td>\n      <td>Mandelieu-la-Napoule</td>\n      <td>NaN</td>\n    </tr>\n    <tr>\n      <th>144</th>\n      <td>CAPL-MAN-BON PUITS/CIMETIERE</td>\n      <td>Mandelieu-la-Napoule</td>\n      <td>NaN</td>\n    </tr>\n    <tr>\n      <th>145</th>\n      <td>CAPL-CAN-14 LIBERATION/BEAUMARCHE</td>\n      <td>Cannes</td>\n      <td>NaN</td>\n    </tr>\n    <tr>\n      <th>146</th>\n      <td>CAPL-CNT-ROUX/CAMUS</td>\n      <td>Le Cannet</td>\n      <td>NaN</td>\n    </tr>\n    <tr>\n      <th>147</th>\n      <td>CAPL-CNT-RUE PINEDE/TERRAIN BOULE</td>\n      <td>Le Cannet</td>\n      <td>NaN</td>\n    </tr>\n    <tr>\n      <th>148</th>\n      <td>CAPL-CNT-LAURIERS</td>\n      <td>Le Cannet</td>\n      <td>NaN</td>\n    </tr>\n    <tr>\n      <th>149</th>\n      <td>CAPL-CNT-L'OLIVET/RONDPOINT</td>\n      <td>Le Cannet</td>\n      <td>NaN</td>\n    </tr>\n    <tr>\n      <th>150</th>\n      <td>CAPL-CNT-RUE CANNES/IMP BRACCO</td>\n      <td>Le Cannet</td>\n      <td>NaN</td>\n    </tr>\n    <tr>\n      <th>151</th>\n      <td>CAPL-CNT-ALLEE DES RESERVOIRS</td>\n      <td>Le Cannet</td>\n      <td>NaN</td>\n    </tr>\n    <tr>\n      <th>152</th>\n      <td>CAPL-CNT-RES PINS PARASOLS/BUS</td>\n      <td>Le Cannet</td>\n      <td>NaN</td>\n    </tr>\n    <tr>\n      <th>153</th>\n      <td>CAPL-CNT-MONT JOLI/BAS</td>\n      <td>Le Cannet</td>\n      <td>NaN</td>\n    </tr>\n    <tr>\n      <th>154</th>\n      <td>CAPL-CNT-PINEDE GEND OUVEA/CIMTIERE</td>\n      <td>Le Cannet</td>\n      <td>NaN</td>\n    </tr>\n    <tr>\n      <th>155</th>\n      <td>CAPL-CAN-VOLTA/CASINO GABRES</td>\n      <td>Cannes</td>\n      <td>NaN</td>\n    </tr>\n    <tr>\n      <th>156</th>\n      <td>CAPL-CAN-LA SOURCE/MAURE ROUGE</td>\n      <td>Cannes</td>\n      <td>NaN</td>\n    </tr>\n    <tr>\n      <th>157</th>\n      <td>CAPL-CAN-BD MIDI/MOREAU/SICASIL</td>\n      <td>Cannes</td>\n      <td>NaN</td>\n    </tr>\n    <tr>\n      <th>158</th>\n      <td>CAPL-CAN-REINE ASTRID</td>\n      <td>Cannes</td>\n      <td>NaN</td>\n    </tr>\n    <tr>\n      <th>159</th>\n      <td>CAPL-CAN-CAPRON</td>\n      <td>Cannes</td>\n      <td>NaN</td>\n    </tr>\n    <tr>\n      <th>160</th>\n      <td>CAPL-CAN-ST LOUIS/PARKING</td>\n      <td>Cannes</td>\n      <td>NaN</td>\n    </tr>\n    <tr>\n      <th>161</th>\n      <td>CAPL-CAN-ALSACE PROLONGE/ALEX III</td>\n      <td>Cannes</td>\n      <td>NaN</td>\n    </tr>\n    <tr>\n      <th>162</th>\n      <td>CAPL-CAN-HORIZONS/RN7 STATION</td>\n      <td>Cannes</td>\n      <td>NaN</td>\n    </tr>\n    <tr>\n      <th>163</th>\n      <td>CAPL-CAN-RIOU/RONDPOINT</td>\n      <td>Cannes</td>\n      <td>NaN</td>\n    </tr>\n    <tr>\n      <th>164</th>\n      <td>CAPL-CAN-TASSIGNY/CAB TELEPHONE</td>\n      <td>Cannes</td>\n      <td>NaN</td>\n    </tr>\n    <tr>\n      <th>165</th>\n      <td>CAPL-CAN-VALLOMBROSA/STATION BP</td>\n      <td>Cannes</td>\n      <td>NaN</td>\n    </tr>\n    <tr>\n      <th>166</th>\n      <td>CAPL-CAN-AV DE  GRASSE/ATHANEE</td>\n      <td>Cannes</td>\n      <td>NaN</td>\n    </tr>\n    <tr>\n      <th>167</th>\n      <td>CAPL-CAN-LORD BOUGHAM/PONT</td>\n      <td>Cannes</td>\n      <td>NaN</td>\n    </tr>\n    <tr>\n      <th>168</th>\n      <td>CAPL-CAN-RONDPOINT DUBOYS DANGERS</td>\n      <td>Cannes</td>\n      <td>NaN</td>\n    </tr>\n    <tr>\n      <th>169</th>\n      <td>CAPL-CAN-OXFORD</td>\n      <td>Cannes</td>\n      <td>NaN</td>\n    </tr>\n    <tr>\n      <th>170</th>\n      <td>CAPL-CAN-TUBY/SECTEUR FORVILLE</td>\n      <td>Cannes</td>\n      <td>NaN</td>\n    </tr>\n    <tr>\n      <th>171</th>\n      <td>CAPL-CAN-TASSIGNY/PONT ECOLE</td>\n      <td>Cannes</td>\n      <td>NaN</td>\n    </tr>\n    <tr>\n      <th>172</th>\n      <td>CAPL-CAN-IMP BEAULIEU</td>\n      <td>Cannes</td>\n      <td>NaN</td>\n    </tr>\n    <tr>\n      <th>173</th>\n      <td>CAPL-CAN-MOULIN/LYCEE STANISLAS</td>\n      <td>Cannes</td>\n      <td>NaN</td>\n    </tr>\n    <tr>\n      <th>174</th>\n      <td>CAPL-MOU-PETITE COLLINE/M LE HAUT</td>\n      <td>Mougins</td>\n      <td>NaN</td>\n    </tr>\n    <tr>\n      <th>175</th>\n      <td>CAPL-MOU-ARCADES/MOUGINS LE HAUT</td>\n      <td>Mougins</td>\n      <td>NaN</td>\n    </tr>\n    <tr>\n      <th>176</th>\n      <td>CAPL-MOU-CABRIERES/POLICE MUNICIPAL</td>\n      <td>Mougins</td>\n      <td>NaN</td>\n    </tr>\n    <tr>\n      <th>177</th>\n      <td>CAPL-MAN-SOUV FRANCAIS/CAPITOU</td>\n      <td>Mandelieu-la-Napoule</td>\n      <td>NaN</td>\n    </tr>\n    <tr>\n      <th>178</th>\n      <td>CAPL-MAN-CH PRIMEVERES/DOM BELLEVUE</td>\n      <td>Mandelieu-la-Napoule</td>\n      <td>NaN</td>\n    </tr>\n    <tr>\n      <th>179</th>\n      <td>CAPL-MAN-AV DE L'EUROPE</td>\n      <td>Mandelieu-la-Napoule</td>\n      <td>NaN</td>\n    </tr>\n    <tr>\n      <th>180</th>\n      <td>CAPL-MAN-AV FREJUS/PL PROVENCE D</td>\n      <td>Mandelieu-la-Napoule</td>\n      <td>NaN</td>\n    </tr>\n    <tr>\n      <th>181</th>\n      <td>CAPL-MAN-BRAYER/DOM MAURVIEIL</td>\n      <td>Mandelieu-la-Napoule</td>\n      <td>NaN</td>\n    </tr>\n    <tr>\n      <th>182</th>\n      <td>CAPL-MAN-RIOU/LOCAL POUBELLE</td>\n      <td>Mandelieu-la-Napoule</td>\n      <td>NaN</td>\n    </tr>\n    <tr>\n      <th>183</th>\n      <td>CAPL-MAN-AV DU 23 AOUT</td>\n      <td>Mandelieu-la-Napoule</td>\n      <td>NaN</td>\n    </tr>\n    <tr>\n      <th>184</th>\n      <td>CAPL-MAN-CAPITAINREIE/CANNES MARINA</td>\n      <td>Mandelieu-la-Napoule</td>\n      <td>NaN</td>\n    </tr>\n    <tr>\n      <th>185</th>\n      <td>CAPL-MAN-AV MARINE ROYALE/J BART</td>\n      <td>Mandelieu-la-Napoule</td>\n      <td>NaN</td>\n    </tr>\n    <tr>\n      <th>186</th>\n      <td>CAPL-MAN-LA PINEA/PIERRE&amp;VACANCES</td>\n      <td>Mandelieu-la-Napoule</td>\n      <td>NaN</td>\n    </tr>\n    <tr>\n      <th>187</th>\n      <td>CAPL-MAN-PL MIMOSA/ESCOTA</td>\n      <td>Mandelieu-la-Napoule</td>\n      <td>NaN</td>\n    </tr>\n    <tr>\n      <th>188</th>\n      <td>CAPL-CAN-COUSIN/CARRE DOR</td>\n      <td>Cannes</td>\n      <td>NaN</td>\n    </tr>\n    <tr>\n      <th>189</th>\n      <td>CAPL-CAN-PICAUD/CAB TELEPHONE</td>\n      <td>Cannes</td>\n      <td>NaN</td>\n    </tr>\n    <tr>\n      <th>190</th>\n      <td>CAPL-CAN-BASTIDE ROUGE/FLY</td>\n      <td>Cannes</td>\n      <td>NaN</td>\n    </tr>\n    <tr>\n      <th>191</th>\n      <td>CAPL-CAN-ECH CANNES OUEST/SIVADES</td>\n      <td>Cannes</td>\n      <td>NaN</td>\n    </tr>\n    <tr>\n      <th>192</th>\n      <td>CAPL-CAN-BASTIDE ROUGE/CARREFOUR</td>\n      <td>Cannes</td>\n      <td>NaN</td>\n    </tr>\n    <tr>\n      <th>193</th>\n      <td>CAPL-CAN-PRADERIE/PARKING METRO</td>\n      <td>Cannes</td>\n      <td>NaN</td>\n    </tr>\n    <tr>\n      <th>194</th>\n      <td>CAPL-CNT-COUGOUSSOLLES/CALMETTE</td>\n      <td>Le Cannet</td>\n      <td>NaN</td>\n    </tr>\n    <tr>\n      <th>195</th>\n      <td>CAPL-CNT-GIONO/DESCENTE</td>\n      <td>Le Cannet</td>\n      <td>NaN</td>\n    </tr>\n    <tr>\n      <th>196</th>\n      <td>CAPL-CNT-TRAV AUBAREDE/DECHETTERIE</td>\n      <td>Le Cannet</td>\n      <td>NaN</td>\n    </tr>\n    <tr>\n      <th>197</th>\n      <td>CAPL-MAN-PORT DU RIOU</td>\n      <td>Mandelieu-la-Napoule</td>\n      <td>NaN</td>\n    </tr>\n    <tr>\n      <th>198</th>\n      <td>CAPL-MAN-ECUREUILS/GENDARMERIE</td>\n      <td>Mandelieu-la-Napoule</td>\n      <td>NaN</td>\n    </tr>\n    <tr>\n      <th>199</th>\n      <td>CAPL-MAN-ECUREUILS/FEU</td>\n      <td>Mandelieu-la-Napoule</td>\n      <td>NaN</td>\n    </tr>\n    <tr>\n      <th>200</th>\n      <td>CAPL-MAN-ALLEE MIMOSAS/AV MER</td>\n      <td>Mandelieu-la-Napoule</td>\n      <td>NaN</td>\n    </tr>\n    <tr>\n      <th>201</th>\n      <td>CAPL-MAN-FONTMICHEL/MMV</td>\n      <td>Mandelieu-la-Napoule</td>\n      <td>NaN</td>\n    </tr>\n    <tr>\n      <th>202</th>\n      <td>CAPL-MAN-DE SEVIGNE/MATERNELLE</td>\n      <td>Mandelieu-la-Napoule</td>\n      <td>NaN</td>\n    </tr>\n    <tr>\n      <th>203</th>\n      <td>CAPL-MAN-TERMES/LES JASMINS</td>\n      <td>Mandelieu-la-Napoule</td>\n      <td>NaN</td>\n    </tr>\n    <tr>\n      <th>204</th>\n      <td>CAPL-MAN-PASSERO/PARKING SANTONS</td>\n      <td>Mandelieu-la-Napoule</td>\n      <td>NaN</td>\n    </tr>\n    <tr>\n      <th>205</th>\n      <td>CAPL-MAN-ANATOLE FRANCE/3 RIVIERES</td>\n      <td>Mandelieu-la-Napoule</td>\n      <td>NaN</td>\n    </tr>\n    <tr>\n      <th>206</th>\n      <td>CAPL-MAN-ANC COMBATTANTS/P VERNEDE</td>\n      <td>Mandelieu-la-Napoule</td>\n      <td>NaN</td>\n    </tr>\n    <tr>\n      <th>207</th>\n      <td>CAPL-MAN-GARBAY/CONTRE ALLEE</td>\n      <td>Mandelieu-la-Napoule</td>\n      <td>NaN</td>\n    </tr>\n    <tr>\n      <th>208</th>\n      <td>CAPL-CAN-JAURES/GARE SNCF</td>\n      <td>Cannes</td>\n      <td>NaN</td>\n    </tr>\n    <tr>\n      <th>209</th>\n      <td>CAPL-CAN-PRINCE DE GALLES/MUR</td>\n      <td>Cannes</td>\n      <td>NaN</td>\n    </tr>\n    <tr>\n      <th>210</th>\n      <td>CAPL-THE-PASTOR/PARKING CENTRE</td>\n      <td>Théoule-sur-Mer</td>\n      <td>NaN</td>\n    </tr>\n    <tr>\n      <th>211</th>\n      <td>CAPL-THE-PLACE ALLIES MIRAMAR/POSTE</td>\n      <td>Théoule-sur-Mer</td>\n      <td>NaN</td>\n    </tr>\n    <tr>\n      <th>212</th>\n      <td>CAPL-THE-MISTRAL/P FIGUEIRETTE</td>\n      <td>Théoule-sur-Mer</td>\n      <td>NaN</td>\n    </tr>\n    <tr>\n      <th>213</th>\n      <td>CAPL-THE-AV TRAYAS/PORT FIGUEIRETTE</td>\n      <td>Théoule-sur-Mer</td>\n      <td>NaN</td>\n    </tr>\n    <tr>\n      <th>214</th>\n      <td>CAPL-THE-AV COTE D'AZUR/SNACK</td>\n      <td>Théoule-sur-Mer</td>\n      <td>NaN</td>\n    </tr>\n    <tr>\n      <th>215</th>\n      <td>CAPL-MAN-GRAND DUC/PARKING CORNICHE</td>\n      <td>Mandelieu-la-Napoule</td>\n      <td>NaN</td>\n    </tr>\n    <tr>\n      <th>216</th>\n      <td>CAPL-MAN-GRAND DUC/PARKING MUSICIEN</td>\n      <td>Mandelieu-la-Napoule</td>\n      <td>NaN</td>\n    </tr>\n    <tr>\n      <th>217</th>\n      <td>CAPL-MAN-GRAND DUC/ENTREE</td>\n      <td>Mandelieu-la-Napoule</td>\n      <td>NaN</td>\n    </tr>\n    <tr>\n      <th>218</th>\n      <td>CAPL-MAN-SCHUMAN/LES ARBOUSIERS</td>\n      <td>Mandelieu-la-Napoule</td>\n      <td>NaN</td>\n    </tr>\n    <tr>\n      <th>219</th>\n      <td>CAPL-MAN-ALLEE CLUBS/MASTERS 2329 A</td>\n      <td>Mandelieu-la-Napoule</td>\n      <td>NaN</td>\n    </tr>\n    <tr>\n      <th>220</th>\n      <td>CAPL-MAN-RTE GOLF/PRACTICE</td>\n      <td>Mandelieu-la-Napoule</td>\n      <td>NaN</td>\n    </tr>\n    <tr>\n      <th>221</th>\n      <td>CAPL-MAN-ALL MARINE ROYALE/SURCOUF</td>\n      <td>Mandelieu-la-Napoule</td>\n      <td>NaN</td>\n    </tr>\n    <tr>\n      <th>222</th>\n      <td>CAPL-CNT-VICTORIA/RES VICTORIA</td>\n      <td>Le Cannet</td>\n      <td>NaN</td>\n    </tr>\n    <tr>\n      <th>223</th>\n      <td>CAPL-CAN-COLLINES N°42</td>\n      <td>Cannes</td>\n      <td>NaN</td>\n    </tr>\n    <tr>\n      <th>224</th>\n      <td>CAPL-CAN-TASSIGNY/ANC CH VALLERGUE</td>\n      <td>Cannes</td>\n      <td>NaN</td>\n    </tr>\n    <tr>\n      <th>225</th>\n      <td>CAPL-CAN-BROUSSAILLES/CARRAIRES</td>\n      <td>Cannes</td>\n      <td>NaN</td>\n    </tr>\n    <tr>\n      <th>226</th>\n      <td>CAPL-CAN-JOURDAN/FEU</td>\n      <td>Cannes</td>\n      <td>NaN</td>\n    </tr>\n    <tr>\n      <th>227</th>\n      <td>CAPL-CAN-JOURDAN/JEU BOULE</td>\n      <td>Cannes</td>\n      <td>NaN</td>\n    </tr>\n    <tr>\n      <th>228</th>\n      <td>CAPL-CAN-SEMARD/GARE SNCF LA BOCCA</td>\n      <td>Cannes</td>\n      <td>NaN</td>\n    </tr>\n    <tr>\n      <th>229</th>\n      <td>CAPL-CAN-PICAUD/HONDA</td>\n      <td>Cannes</td>\n      <td>NaN</td>\n    </tr>\n    <tr>\n      <th>230</th>\n      <td>CAPL-CAN-VERRERIE/MA DEL PONTE</td>\n      <td>Cannes</td>\n      <td>NaN</td>\n    </tr>\n    <tr>\n      <th>231</th>\n      <td>CAPL-CAN-WESTER MESMYSS/MAEVA</td>\n      <td>Cannes</td>\n      <td>NaN</td>\n    </tr>\n    <tr>\n      <th>232</th>\n      <td>CAPL-CAN-COINTET/RES CROIX GARDES</td>\n      <td>Cannes</td>\n      <td>NaN</td>\n    </tr>\n    <tr>\n      <th>233</th>\n      <td>CAPL-CAN-147 CHEVALIER/LE PHENIX</td>\n      <td>Cannes</td>\n      <td>NaN</td>\n    </tr>\n    <tr>\n      <th>234</th>\n      <td>CAPL-CAN-M CHEVALIER</td>\n      <td>Cannes</td>\n      <td>NaN</td>\n    </tr>\n    <tr>\n      <th>235</th>\n      <td>CAPL-CNT-PAGNOL/EN HAUT</td>\n      <td>Le Cannet</td>\n      <td>NaN</td>\n    </tr>\n    <tr>\n      <th>236</th>\n      <td>CAPL-CNT-ST JOSEPH/EDF</td>\n      <td>Le Cannet</td>\n      <td>NaN</td>\n    </tr>\n    <tr>\n      <th>237</th>\n      <td>CAPL-CAN-POUSSIN BUCQUET</td>\n      <td>Cannes</td>\n      <td>NaN</td>\n    </tr>\n    <tr>\n      <th>238</th>\n      <td>CAPL-CAN-PETIT JUAS/PARKING VAUBAN</td>\n      <td>Cannes</td>\n      <td>NaN</td>\n    </tr>\n    <tr>\n      <th>239</th>\n      <td>CAPL-MOU-ALLEE DE LORME/GYMNASE</td>\n      <td>Mougins</td>\n      <td>NaN</td>\n    </tr>\n    <tr>\n      <th>240</th>\n      <td>CAPL-CAN-PANTIERO</td>\n      <td>Cannes</td>\n      <td>NaN</td>\n    </tr>\n    <tr>\n      <th>241</th>\n      <td>CAPL-CAN-MIDI/CNOSSOS</td>\n      <td>Cannes</td>\n      <td>NaN</td>\n    </tr>\n    <tr>\n      <th>242</th>\n      <td>CAPL-CAN-OXFORD/RONDPOINT</td>\n      <td>Cannes</td>\n      <td>NaN</td>\n    </tr>\n    <tr>\n      <th>243</th>\n      <td>CAPL-MAN-ALLEE IRIS/MUSSUGES</td>\n      <td>Mandelieu-la-Napoule</td>\n      <td>NaN</td>\n    </tr>\n    <tr>\n      <th>244</th>\n      <td>CAPL-CAN-AV DE GRASSE</td>\n      <td>Cannes</td>\n      <td>NaN</td>\n    </tr>\n    <tr>\n      <th>245</th>\n      <td>CAPL-CAN-GALIENI/FEU</td>\n      <td>Cannes</td>\n      <td>NaN</td>\n    </tr>\n    <tr>\n      <th>246</th>\n      <td>CAPL-MAN-AV MARINE ROYALE/SUFFREN</td>\n      <td>Mandelieu-la-Napoule</td>\n      <td>NaN</td>\n    </tr>\n    <tr>\n      <th>247</th>\n      <td>CAPL-THE-ESQUILLON/HOTEL MIRAMAR</td>\n      <td>Théoule-sur-Mer</td>\n      <td>NaN</td>\n    </tr>\n    <tr>\n      <th>248</th>\n      <td>CAPL-CNT-POMPIDOU/SALLE RECROIX</td>\n      <td>Le Cannet</td>\n      <td>NaN</td>\n    </tr>\n    <tr>\n      <th>249</th>\n      <td>CAPL-CAN-ARLUCS/RENAULT LA BOCCA</td>\n      <td>Cannes</td>\n      <td>NaN</td>\n    </tr>\n    <tr>\n      <th>250</th>\n      <td>CAPL-CNT-PL BENIDORM</td>\n      <td>Le Cannet</td>\n      <td>NaN</td>\n    </tr>\n    <tr>\n      <th>251</th>\n      <td>CAPL-CAN-BD MIDI/HIBERT/SOFITEL</td>\n      <td>Cannes</td>\n      <td>NaN</td>\n    </tr>\n    <tr>\n      <th>252</th>\n      <td>CAPL-CAN-4 BUISSONS ARDENTS/FRAYERE</td>\n      <td>Cannes</td>\n      <td>NaN</td>\n    </tr>\n    <tr>\n      <th>253</th>\n      <td>CAPL-CAN-5 BUISSONS ARDENTS/FRAYERE</td>\n      <td>Cannes</td>\n      <td>NaN</td>\n    </tr>\n    <tr>\n      <th>254</th>\n      <td>CAPL-CAN-BUISSONS ARDENTS/FRAYE BUS</td>\n      <td>Cannes</td>\n      <td>NaN</td>\n    </tr>\n    <tr>\n      <th>255</th>\n      <td>CAPL-CAN-DE COUBERTIN/POMPIERS</td>\n      <td>Cannes</td>\n      <td>NaN</td>\n    </tr>\n    <tr>\n      <th>256</th>\n      <td>CAPL-CAN-HOTEL MERCURE</td>\n      <td>Cannes</td>\n      <td>NaN</td>\n    </tr>\n    <tr>\n      <th>257</th>\n      <td>CAPL-CAN-AEROPORT/PARKING</td>\n      <td>Cannes</td>\n      <td>NaN</td>\n    </tr>\n    <tr>\n      <th>258</th>\n      <td>CAPL-CAN-FESTIVALS/ENTREE ARTISTES</td>\n      <td>Cannes</td>\n      <td>NaN</td>\n    </tr>\n    <tr>\n      <th>259</th>\n      <td>CAPL-THE-AV LERINS/PORT LE GALERE</td>\n      <td>Théoule-sur-Mer</td>\n      <td>NaN</td>\n    </tr>\n    <tr>\n      <th>260</th>\n      <td>CAPL-CNT-GARIBONDY/CHATEAU ARTISTES</td>\n      <td>Le Cannet</td>\n      <td>NaN</td>\n    </tr>\n    <tr>\n      <th>261</th>\n      <td>CAPL-CAN-ROUBINE/SECOURS CATHO</td>\n      <td>Cannes</td>\n      <td>NaN</td>\n    </tr>\n    <tr>\n      <th>262</th>\n      <td>CAPL-MAN-PORT LA RAGUE</td>\n      <td>Mandelieu-la-Napoule</td>\n      <td>NaN</td>\n    </tr>\n    <tr>\n      <th>263</th>\n      <td>CAPL-CAN-AERODROME</td>\n      <td>Cannes</td>\n      <td>NaN</td>\n    </tr>\n    <tr>\n      <th>264</th>\n      <td>CAPL-MAN-791 AV FREJUS/CASINO</td>\n      <td>Mandelieu-la-Napoule</td>\n      <td>NaN</td>\n    </tr>\n    <tr>\n      <th>265</th>\n      <td>CAPL-CAN-1 BLV NEGRIN / FRANCIS TON</td>\n      <td>Cannes</td>\n      <td>NaN</td>\n    </tr>\n    <tr>\n      <th>266</th>\n      <td>CAPL-CAN-JETEE EDOUARD/BOUT DIGUE</td>\n      <td>Cannes</td>\n      <td>NaN</td>\n    </tr>\n    <tr>\n      <th>267</th>\n      <td>CAPL-THE-VILLA ST CAMILLE</td>\n      <td>Théoule-sur-Mer</td>\n      <td>NaN</td>\n    </tr>\n    <tr>\n      <th>268</th>\n      <td>CAPL-CAN-FAURE/ASTOUX</td>\n      <td>Cannes</td>\n      <td>NaN</td>\n    </tr>\n    <tr>\n      <th>269</th>\n      <td>CAPL-CAN-ILE ST HONORAT/VIDAGE CTM</td>\n      <td>Cannes</td>\n      <td>NaN</td>\n    </tr>\n    <tr>\n      <th>270</th>\n      <td>CAPL-CNT-ST JOSEPH/CAMPING LE RANCH</td>\n      <td>Le Cannet</td>\n      <td>NaN</td>\n    </tr>\n    <tr>\n      <th>271</th>\n      <td>CAPL-CAN-CHEVALIER/INTER HOTEL</td>\n      <td>Cannes</td>\n      <td>NaN</td>\n    </tr>\n    <tr>\n      <th>272</th>\n      <td>CAPL-MOU-COUDOURON/DECHETTERIE</td>\n      <td>Mougins</td>\n      <td>NaN</td>\n    </tr>\n  </tbody>\n</table>\n</div>"
     },
     "metadata": {},
     "execution_count": 47
    }
   ],
   "source": [
    "dataCollecteurVerre2 = pd.DataFrame(columns = [\"adresse\", \"ville\", \"globalid\"])\n",
    "dataCollecteurVerre2[\"adresse\"] = data20[\"Lieu de Collecte\"].unique()\n",
    "for i in dataCollecteurVerre2.index:\n",
    "    dataCollecteurVerre2.loc[i, \"ville\"] = dictVilles[dataCollecteurVerre2.loc[i, \"adresse\"][5:8]]\n",
    "\n",
    "pd.set_option('display.max_rows', None)\n",
    "dataCollecteurVerre2"
   ]
  },
  {
   "cell_type": "code",
   "execution_count": 48,
   "metadata": {},
   "outputs": [
    {
     "output_type": "execute_result",
     "data": {
      "text/plain": [
       "'\\ndataCollecteurVerre2[\"globalid\"] = [\\n    ,\\n    \"{E1DCE667-FD92-4D22-8120-5179FA802B78}\"\\n]\\n'"
      ]
     },
     "metadata": {},
     "execution_count": 48
    }
   ],
   "source": [
    "# Identification à la main des collecteurs par rapport aux adresses partielles\n",
    "\"\"\"\n",
    "dataCollecteurVerre2[\"globalid\"] = [\n",
    "    ,\n",
    "    \"{E1DCE667-FD92-4D22-8120-5179FA802B78}\"\n",
    "]\n",
    "\"\"\""
   ]
  },
  {
   "cell_type": "code",
   "execution_count": 49,
   "metadata": {},
   "outputs": [],
   "source": [
    "pd.reset_option('display.max_rows')"
   ]
  },
  {
   "source": [
    "# Mise en forme des données\n"
   ],
   "cell_type": "markdown",
   "metadata": {}
  },
  {
   "source": [
    "## Suppression des colonnes inutiles"
   ],
   "cell_type": "markdown",
   "metadata": {}
  },
  {
   "cell_type": "code",
   "execution_count": 50,
   "metadata": {},
   "outputs": [
    {
     "output_type": "execute_result",
     "data": {
      "text/plain": [
       "           date   Poids Kg  objectid\n",
       "0     2017-01-05       500       860\n",
       "1     2017-01-12       330       860\n",
       "2     2017-01-26       490       860\n",
       "3     2017-02-02       510       860\n",
       "4     2017-02-16       610       860\n",
       "...          ...       ...       ...\n",
       "13281 2019-10-18       350       679\n",
       "13282 2019-10-14       990       679\n",
       "13283 2019-10-28       740       679\n",
       "13284 2019-09-10      1210       876\n",
       "13285 2019-10-31      1070       876\n",
       "\n",
       "[13286 rows x 3 columns]"
      ],
      "text/html": "<div>\n<style scoped>\n    .dataframe tbody tr th:only-of-type {\n        vertical-align: middle;\n    }\n\n    .dataframe tbody tr th {\n        vertical-align: top;\n    }\n\n    .dataframe thead th {\n        text-align: right;\n    }\n</style>\n<table border=\"1\" class=\"dataframe\">\n  <thead>\n    <tr style=\"text-align: right;\">\n      <th></th>\n      <th>date</th>\n      <th>Poids Kg</th>\n      <th>objectid</th>\n    </tr>\n  </thead>\n  <tbody>\n    <tr>\n      <th>0</th>\n      <td>2017-01-05</td>\n      <td>500</td>\n      <td>860</td>\n    </tr>\n    <tr>\n      <th>1</th>\n      <td>2017-01-12</td>\n      <td>330</td>\n      <td>860</td>\n    </tr>\n    <tr>\n      <th>2</th>\n      <td>2017-01-26</td>\n      <td>490</td>\n      <td>860</td>\n    </tr>\n    <tr>\n      <th>3</th>\n      <td>2017-02-02</td>\n      <td>510</td>\n      <td>860</td>\n    </tr>\n    <tr>\n      <th>4</th>\n      <td>2017-02-16</td>\n      <td>610</td>\n      <td>860</td>\n    </tr>\n    <tr>\n      <th>...</th>\n      <td>...</td>\n      <td>...</td>\n      <td>...</td>\n    </tr>\n    <tr>\n      <th>13281</th>\n      <td>2019-10-18</td>\n      <td>350</td>\n      <td>679</td>\n    </tr>\n    <tr>\n      <th>13282</th>\n      <td>2019-10-14</td>\n      <td>990</td>\n      <td>679</td>\n    </tr>\n    <tr>\n      <th>13283</th>\n      <td>2019-10-28</td>\n      <td>740</td>\n      <td>679</td>\n    </tr>\n    <tr>\n      <th>13284</th>\n      <td>2019-09-10</td>\n      <td>1210</td>\n      <td>876</td>\n    </tr>\n    <tr>\n      <th>13285</th>\n      <td>2019-10-31</td>\n      <td>1070</td>\n      <td>876</td>\n    </tr>\n  </tbody>\n</table>\n<p>13286 rows × 3 columns</p>\n</div>"
     },
     "metadata": {},
     "execution_count": 50
    }
   ],
   "source": [
    "data171819.drop(columns=[\"Collecte\", \"Contenant\", \"Adresse\", \"Ville\", \"Année\", \"MOIS\", \"SEMAINE\", \"heure\", \"Taux\", \"adresse\", \"ville\", \"globalid\"], inplace=True)\n",
    "data171819"
   ]
  },
  {
   "cell_type": "code",
   "execution_count": 51,
   "metadata": {},
   "outputs": [
    {
     "output_type": "execute_result",
     "data": {
      "text/plain": [
       "     Date de réalisation                 Lieu de Collecte   Poids\n",
       "0             2020-01-02              CAPL-CNT-VOIE JULIA  0.4360\n",
       "1             2020-01-02  CAPL-CNT-BREGUIERES/FONT GALLOU  0.4360\n",
       "2             2020-01-02      CAPL-CNT-AV ECOLES/ROTHMANS  0.4360\n",
       "3             2020-01-02                CAPL-CAN-MERLETTE  0.5450\n",
       "4             2020-01-02                CAPL-CAN-RIOU/HLM  0.5814\n",
       "...                  ...                              ...     ...\n",
       "5471          2020-09-30   CAPL-CAN-GOURGUETTES/RONDPOINT  0.1800\n",
       "5472          2020-09-30   CAPL-CAN-GOURGUETTES/ARRET BUS  0.2400\n",
       "5473          2020-09-30          CAPL-CAN-BALZAC/LECLERC  0.3600\n",
       "5474          2020-09-30     CAPL-CAN-JOURDAN/ENTREE ANAS  0.1800\n",
       "5475          2020-09-30        CAPL-CAN-JOURDAN/RANCHITO  0.1800\n",
       "\n",
       "[5386 rows x 3 columns]"
      ],
      "text/html": "<div>\n<style scoped>\n    .dataframe tbody tr th:only-of-type {\n        vertical-align: middle;\n    }\n\n    .dataframe tbody tr th {\n        vertical-align: top;\n    }\n\n    .dataframe thead th {\n        text-align: right;\n    }\n</style>\n<table border=\"1\" class=\"dataframe\">\n  <thead>\n    <tr style=\"text-align: right;\">\n      <th></th>\n      <th>Date de réalisation</th>\n      <th>Lieu de Collecte</th>\n      <th>Poids</th>\n    </tr>\n  </thead>\n  <tbody>\n    <tr>\n      <th>0</th>\n      <td>2020-01-02</td>\n      <td>CAPL-CNT-VOIE JULIA</td>\n      <td>0.4360</td>\n    </tr>\n    <tr>\n      <th>1</th>\n      <td>2020-01-02</td>\n      <td>CAPL-CNT-BREGUIERES/FONT GALLOU</td>\n      <td>0.4360</td>\n    </tr>\n    <tr>\n      <th>2</th>\n      <td>2020-01-02</td>\n      <td>CAPL-CNT-AV ECOLES/ROTHMANS</td>\n      <td>0.4360</td>\n    </tr>\n    <tr>\n      <th>3</th>\n      <td>2020-01-02</td>\n      <td>CAPL-CAN-MERLETTE</td>\n      <td>0.5450</td>\n    </tr>\n    <tr>\n      <th>4</th>\n      <td>2020-01-02</td>\n      <td>CAPL-CAN-RIOU/HLM</td>\n      <td>0.5814</td>\n    </tr>\n    <tr>\n      <th>...</th>\n      <td>...</td>\n      <td>...</td>\n      <td>...</td>\n    </tr>\n    <tr>\n      <th>5471</th>\n      <td>2020-09-30</td>\n      <td>CAPL-CAN-GOURGUETTES/RONDPOINT</td>\n      <td>0.1800</td>\n    </tr>\n    <tr>\n      <th>5472</th>\n      <td>2020-09-30</td>\n      <td>CAPL-CAN-GOURGUETTES/ARRET BUS</td>\n      <td>0.2400</td>\n    </tr>\n    <tr>\n      <th>5473</th>\n      <td>2020-09-30</td>\n      <td>CAPL-CAN-BALZAC/LECLERC</td>\n      <td>0.3600</td>\n    </tr>\n    <tr>\n      <th>5474</th>\n      <td>2020-09-30</td>\n      <td>CAPL-CAN-JOURDAN/ENTREE ANAS</td>\n      <td>0.1800</td>\n    </tr>\n    <tr>\n      <th>5475</th>\n      <td>2020-09-30</td>\n      <td>CAPL-CAN-JOURDAN/RANCHITO</td>\n      <td>0.1800</td>\n    </tr>\n  </tbody>\n</table>\n<p>5386 rows × 3 columns</p>\n</div>"
     },
     "metadata": {},
     "execution_count": 51
    }
   ],
   "source": [
    "data20.drop(columns=[\"Prestation\",\"Matériel\"], inplace=True)\n",
    "data20"
   ]
  },
  {
   "source": [
    "## Conversions de types"
   ],
   "cell_type": "markdown",
   "metadata": {}
  },
  {
   "source": [
    "### Poids"
   ],
   "cell_type": "markdown",
   "metadata": {}
  },
  {
   "cell_type": "code",
   "execution_count": 52,
   "metadata": {},
   "outputs": [
    {
     "output_type": "execute_result",
     "data": {
      "text/plain": [
       "     Date de réalisation                 Lieu de Collecte   Poids\n",
       "0             2020-01-02              CAPL-CNT-VOIE JULIA  0.4360\n",
       "1             2020-01-02  CAPL-CNT-BREGUIERES/FONT GALLOU  0.4360\n",
       "2             2020-01-02      CAPL-CNT-AV ECOLES/ROTHMANS  0.4360\n",
       "3             2020-01-02                CAPL-CAN-MERLETTE  0.5450\n",
       "4             2020-01-02                CAPL-CAN-RIOU/HLM  0.5814\n",
       "...                  ...                              ...     ...\n",
       "5471          2020-09-30   CAPL-CAN-GOURGUETTES/RONDPOINT  0.1800\n",
       "5472          2020-09-30   CAPL-CAN-GOURGUETTES/ARRET BUS  0.2400\n",
       "5473          2020-09-30          CAPL-CAN-BALZAC/LECLERC  0.3600\n",
       "5474          2020-09-30     CAPL-CAN-JOURDAN/ENTREE ANAS  0.1800\n",
       "5475          2020-09-30        CAPL-CAN-JOURDAN/RANCHITO  0.1800\n",
       "\n",
       "[5386 rows x 3 columns]"
      ],
      "text/html": "<div>\n<style scoped>\n    .dataframe tbody tr th:only-of-type {\n        vertical-align: middle;\n    }\n\n    .dataframe tbody tr th {\n        vertical-align: top;\n    }\n\n    .dataframe thead th {\n        text-align: right;\n    }\n</style>\n<table border=\"1\" class=\"dataframe\">\n  <thead>\n    <tr style=\"text-align: right;\">\n      <th></th>\n      <th>Date de réalisation</th>\n      <th>Lieu de Collecte</th>\n      <th>Poids</th>\n    </tr>\n  </thead>\n  <tbody>\n    <tr>\n      <th>0</th>\n      <td>2020-01-02</td>\n      <td>CAPL-CNT-VOIE JULIA</td>\n      <td>0.4360</td>\n    </tr>\n    <tr>\n      <th>1</th>\n      <td>2020-01-02</td>\n      <td>CAPL-CNT-BREGUIERES/FONT GALLOU</td>\n      <td>0.4360</td>\n    </tr>\n    <tr>\n      <th>2</th>\n      <td>2020-01-02</td>\n      <td>CAPL-CNT-AV ECOLES/ROTHMANS</td>\n      <td>0.4360</td>\n    </tr>\n    <tr>\n      <th>3</th>\n      <td>2020-01-02</td>\n      <td>CAPL-CAN-MERLETTE</td>\n      <td>0.5450</td>\n    </tr>\n    <tr>\n      <th>4</th>\n      <td>2020-01-02</td>\n      <td>CAPL-CAN-RIOU/HLM</td>\n      <td>0.5814</td>\n    </tr>\n    <tr>\n      <th>...</th>\n      <td>...</td>\n      <td>...</td>\n      <td>...</td>\n    </tr>\n    <tr>\n      <th>5471</th>\n      <td>2020-09-30</td>\n      <td>CAPL-CAN-GOURGUETTES/RONDPOINT</td>\n      <td>0.1800</td>\n    </tr>\n    <tr>\n      <th>5472</th>\n      <td>2020-09-30</td>\n      <td>CAPL-CAN-GOURGUETTES/ARRET BUS</td>\n      <td>0.2400</td>\n    </tr>\n    <tr>\n      <th>5473</th>\n      <td>2020-09-30</td>\n      <td>CAPL-CAN-BALZAC/LECLERC</td>\n      <td>0.3600</td>\n    </tr>\n    <tr>\n      <th>5474</th>\n      <td>2020-09-30</td>\n      <td>CAPL-CAN-JOURDAN/ENTREE ANAS</td>\n      <td>0.1800</td>\n    </tr>\n    <tr>\n      <th>5475</th>\n      <td>2020-09-30</td>\n      <td>CAPL-CAN-JOURDAN/RANCHITO</td>\n      <td>0.1800</td>\n    </tr>\n  </tbody>\n</table>\n<p>5386 rows × 3 columns</p>\n</div>"
     },
     "metadata": {},
     "execution_count": 52
    }
   ],
   "source": [
    "# Exemple avant conversion\n",
    "data20"
   ]
  },
  {
   "cell_type": "code",
   "execution_count": 53,
   "metadata": {},
   "outputs": [],
   "source": [
    "data20.Poids = (data20.Poids * 1000).astype(int)"
   ]
  },
  {
   "cell_type": "code",
   "execution_count": 54,
   "metadata": {},
   "outputs": [
    {
     "output_type": "execute_result",
     "data": {
      "text/plain": [
       "     Date de réalisation                 Lieu de Collecte  Poids\n",
       "0             2020-01-02              CAPL-CNT-VOIE JULIA    436\n",
       "1             2020-01-02  CAPL-CNT-BREGUIERES/FONT GALLOU    436\n",
       "2             2020-01-02      CAPL-CNT-AV ECOLES/ROTHMANS    436\n",
       "3             2020-01-02                CAPL-CAN-MERLETTE    545\n",
       "4             2020-01-02                CAPL-CAN-RIOU/HLM    581\n",
       "...                  ...                              ...    ...\n",
       "5471          2020-09-30   CAPL-CAN-GOURGUETTES/RONDPOINT    180\n",
       "5472          2020-09-30   CAPL-CAN-GOURGUETTES/ARRET BUS    240\n",
       "5473          2020-09-30          CAPL-CAN-BALZAC/LECLERC    360\n",
       "5474          2020-09-30     CAPL-CAN-JOURDAN/ENTREE ANAS    180\n",
       "5475          2020-09-30        CAPL-CAN-JOURDAN/RANCHITO    180\n",
       "\n",
       "[5386 rows x 3 columns]"
      ],
      "text/html": "<div>\n<style scoped>\n    .dataframe tbody tr th:only-of-type {\n        vertical-align: middle;\n    }\n\n    .dataframe tbody tr th {\n        vertical-align: top;\n    }\n\n    .dataframe thead th {\n        text-align: right;\n    }\n</style>\n<table border=\"1\" class=\"dataframe\">\n  <thead>\n    <tr style=\"text-align: right;\">\n      <th></th>\n      <th>Date de réalisation</th>\n      <th>Lieu de Collecte</th>\n      <th>Poids</th>\n    </tr>\n  </thead>\n  <tbody>\n    <tr>\n      <th>0</th>\n      <td>2020-01-02</td>\n      <td>CAPL-CNT-VOIE JULIA</td>\n      <td>436</td>\n    </tr>\n    <tr>\n      <th>1</th>\n      <td>2020-01-02</td>\n      <td>CAPL-CNT-BREGUIERES/FONT GALLOU</td>\n      <td>436</td>\n    </tr>\n    <tr>\n      <th>2</th>\n      <td>2020-01-02</td>\n      <td>CAPL-CNT-AV ECOLES/ROTHMANS</td>\n      <td>436</td>\n    </tr>\n    <tr>\n      <th>3</th>\n      <td>2020-01-02</td>\n      <td>CAPL-CAN-MERLETTE</td>\n      <td>545</td>\n    </tr>\n    <tr>\n      <th>4</th>\n      <td>2020-01-02</td>\n      <td>CAPL-CAN-RIOU/HLM</td>\n      <td>581</td>\n    </tr>\n    <tr>\n      <th>...</th>\n      <td>...</td>\n      <td>...</td>\n      <td>...</td>\n    </tr>\n    <tr>\n      <th>5471</th>\n      <td>2020-09-30</td>\n      <td>CAPL-CAN-GOURGUETTES/RONDPOINT</td>\n      <td>180</td>\n    </tr>\n    <tr>\n      <th>5472</th>\n      <td>2020-09-30</td>\n      <td>CAPL-CAN-GOURGUETTES/ARRET BUS</td>\n      <td>240</td>\n    </tr>\n    <tr>\n      <th>5473</th>\n      <td>2020-09-30</td>\n      <td>CAPL-CAN-BALZAC/LECLERC</td>\n      <td>360</td>\n    </tr>\n    <tr>\n      <th>5474</th>\n      <td>2020-09-30</td>\n      <td>CAPL-CAN-JOURDAN/ENTREE ANAS</td>\n      <td>180</td>\n    </tr>\n    <tr>\n      <th>5475</th>\n      <td>2020-09-30</td>\n      <td>CAPL-CAN-JOURDAN/RANCHITO</td>\n      <td>180</td>\n    </tr>\n  </tbody>\n</table>\n<p>5386 rows × 3 columns</p>\n</div>"
     },
     "metadata": {},
     "execution_count": 54
    }
   ],
   "source": [
    "# Exemple après conversion\n",
    "data20"
   ]
  },
  {
   "source": [
    "## Ajout de l'identifiant"
   ],
   "cell_type": "markdown",
   "metadata": {}
  },
  {
   "cell_type": "code",
   "execution_count": 55,
   "metadata": {},
   "outputs": [
    {
     "output_type": "execute_result",
     "data": {
      "text/plain": [
       "           date   Poids Kg  objectid     id\n",
       "0     2017-01-05       500       860      1\n",
       "1     2017-01-12       330       860      2\n",
       "2     2017-01-26       490       860      3\n",
       "3     2017-02-02       510       860      4\n",
       "4     2017-02-16       610       860      5\n",
       "...          ...       ...       ...    ...\n",
       "13281 2019-10-18       350       679  13282\n",
       "13282 2019-10-14       990       679  13283\n",
       "13283 2019-10-28       740       679  13284\n",
       "13284 2019-09-10      1210       876  13285\n",
       "13285 2019-10-31      1070       876  13286\n",
       "\n",
       "[13286 rows x 4 columns]"
      ],
      "text/html": "<div>\n<style scoped>\n    .dataframe tbody tr th:only-of-type {\n        vertical-align: middle;\n    }\n\n    .dataframe tbody tr th {\n        vertical-align: top;\n    }\n\n    .dataframe thead th {\n        text-align: right;\n    }\n</style>\n<table border=\"1\" class=\"dataframe\">\n  <thead>\n    <tr style=\"text-align: right;\">\n      <th></th>\n      <th>date</th>\n      <th>Poids Kg</th>\n      <th>objectid</th>\n      <th>id</th>\n    </tr>\n  </thead>\n  <tbody>\n    <tr>\n      <th>0</th>\n      <td>2017-01-05</td>\n      <td>500</td>\n      <td>860</td>\n      <td>1</td>\n    </tr>\n    <tr>\n      <th>1</th>\n      <td>2017-01-12</td>\n      <td>330</td>\n      <td>860</td>\n      <td>2</td>\n    </tr>\n    <tr>\n      <th>2</th>\n      <td>2017-01-26</td>\n      <td>490</td>\n      <td>860</td>\n      <td>3</td>\n    </tr>\n    <tr>\n      <th>3</th>\n      <td>2017-02-02</td>\n      <td>510</td>\n      <td>860</td>\n      <td>4</td>\n    </tr>\n    <tr>\n      <th>4</th>\n      <td>2017-02-16</td>\n      <td>610</td>\n      <td>860</td>\n      <td>5</td>\n    </tr>\n    <tr>\n      <th>...</th>\n      <td>...</td>\n      <td>...</td>\n      <td>...</td>\n      <td>...</td>\n    </tr>\n    <tr>\n      <th>13281</th>\n      <td>2019-10-18</td>\n      <td>350</td>\n      <td>679</td>\n      <td>13282</td>\n    </tr>\n    <tr>\n      <th>13282</th>\n      <td>2019-10-14</td>\n      <td>990</td>\n      <td>679</td>\n      <td>13283</td>\n    </tr>\n    <tr>\n      <th>13283</th>\n      <td>2019-10-28</td>\n      <td>740</td>\n      <td>679</td>\n      <td>13284</td>\n    </tr>\n    <tr>\n      <th>13284</th>\n      <td>2019-09-10</td>\n      <td>1210</td>\n      <td>876</td>\n      <td>13285</td>\n    </tr>\n    <tr>\n      <th>13285</th>\n      <td>2019-10-31</td>\n      <td>1070</td>\n      <td>876</td>\n      <td>13286</td>\n    </tr>\n  </tbody>\n</table>\n<p>13286 rows × 4 columns</p>\n</div>"
     },
     "metadata": {},
     "execution_count": 55
    }
   ],
   "source": [
    "data171819[\"id\"] = data171819.index + 1\n",
    "data171819"
   ]
  },
  {
   "source": [
    "## Reordonnancement des colonnes"
   ],
   "cell_type": "markdown",
   "metadata": {}
  },
  {
   "cell_type": "code",
   "execution_count": 56,
   "metadata": {},
   "outputs": [
    {
     "output_type": "execute_result",
     "data": {
      "text/plain": [
       "          id  objectid      date   Poids Kg\n",
       "0          1       860 2017-01-05       500\n",
       "1          2       860 2017-01-12       330\n",
       "2          3       860 2017-01-26       490\n",
       "3          4       860 2017-02-02       510\n",
       "4          5       860 2017-02-16       610\n",
       "...      ...       ...        ...       ...\n",
       "13281  13282       679 2019-10-18       350\n",
       "13282  13283       679 2019-10-14       990\n",
       "13283  13284       679 2019-10-28       740\n",
       "13284  13285       876 2019-09-10      1210\n",
       "13285  13286       876 2019-10-31      1070\n",
       "\n",
       "[13286 rows x 4 columns]"
      ],
      "text/html": "<div>\n<style scoped>\n    .dataframe tbody tr th:only-of-type {\n        vertical-align: middle;\n    }\n\n    .dataframe tbody tr th {\n        vertical-align: top;\n    }\n\n    .dataframe thead th {\n        text-align: right;\n    }\n</style>\n<table border=\"1\" class=\"dataframe\">\n  <thead>\n    <tr style=\"text-align: right;\">\n      <th></th>\n      <th>id</th>\n      <th>objectid</th>\n      <th>date</th>\n      <th>Poids Kg</th>\n    </tr>\n  </thead>\n  <tbody>\n    <tr>\n      <th>0</th>\n      <td>1</td>\n      <td>860</td>\n      <td>2017-01-05</td>\n      <td>500</td>\n    </tr>\n    <tr>\n      <th>1</th>\n      <td>2</td>\n      <td>860</td>\n      <td>2017-01-12</td>\n      <td>330</td>\n    </tr>\n    <tr>\n      <th>2</th>\n      <td>3</td>\n      <td>860</td>\n      <td>2017-01-26</td>\n      <td>490</td>\n    </tr>\n    <tr>\n      <th>3</th>\n      <td>4</td>\n      <td>860</td>\n      <td>2017-02-02</td>\n      <td>510</td>\n    </tr>\n    <tr>\n      <th>4</th>\n      <td>5</td>\n      <td>860</td>\n      <td>2017-02-16</td>\n      <td>610</td>\n    </tr>\n    <tr>\n      <th>...</th>\n      <td>...</td>\n      <td>...</td>\n      <td>...</td>\n      <td>...</td>\n    </tr>\n    <tr>\n      <th>13281</th>\n      <td>13282</td>\n      <td>679</td>\n      <td>2019-10-18</td>\n      <td>350</td>\n    </tr>\n    <tr>\n      <th>13282</th>\n      <td>13283</td>\n      <td>679</td>\n      <td>2019-10-14</td>\n      <td>990</td>\n    </tr>\n    <tr>\n      <th>13283</th>\n      <td>13284</td>\n      <td>679</td>\n      <td>2019-10-28</td>\n      <td>740</td>\n    </tr>\n    <tr>\n      <th>13284</th>\n      <td>13285</td>\n      <td>876</td>\n      <td>2019-09-10</td>\n      <td>1210</td>\n    </tr>\n    <tr>\n      <th>13285</th>\n      <td>13286</td>\n      <td>876</td>\n      <td>2019-10-31</td>\n      <td>1070</td>\n    </tr>\n  </tbody>\n</table>\n<p>13286 rows × 4 columns</p>\n</div>"
     },
     "metadata": {},
     "execution_count": 56
    }
   ],
   "source": [
    "data171819 = data171819[[\"id\", \"objectid\", \"date \", \"Poids Kg\"]]\n",
    "data171819"
   ]
  },
  {
   "source": [
    "## Renommage des colonnes"
   ],
   "cell_type": "markdown",
   "metadata": {}
  },
  {
   "cell_type": "code",
   "execution_count": 57,
   "metadata": {},
   "outputs": [
    {
     "output_type": "execute_result",
     "data": {
      "text/plain": [
       "          id  objectidCollecteur       date  poids\n",
       "0          1                 860 2017-01-05    500\n",
       "1          2                 860 2017-01-12    330\n",
       "2          3                 860 2017-01-26    490\n",
       "3          4                 860 2017-02-02    510\n",
       "4          5                 860 2017-02-16    610\n",
       "...      ...                 ...        ...    ...\n",
       "13281  13282                 679 2019-10-18    350\n",
       "13282  13283                 679 2019-10-14    990\n",
       "13283  13284                 679 2019-10-28    740\n",
       "13284  13285                 876 2019-09-10   1210\n",
       "13285  13286                 876 2019-10-31   1070\n",
       "\n",
       "[13286 rows x 4 columns]"
      ],
      "text/html": "<div>\n<style scoped>\n    .dataframe tbody tr th:only-of-type {\n        vertical-align: middle;\n    }\n\n    .dataframe tbody tr th {\n        vertical-align: top;\n    }\n\n    .dataframe thead th {\n        text-align: right;\n    }\n</style>\n<table border=\"1\" class=\"dataframe\">\n  <thead>\n    <tr style=\"text-align: right;\">\n      <th></th>\n      <th>id</th>\n      <th>objectidCollecteur</th>\n      <th>date</th>\n      <th>poids</th>\n    </tr>\n  </thead>\n  <tbody>\n    <tr>\n      <th>0</th>\n      <td>1</td>\n      <td>860</td>\n      <td>2017-01-05</td>\n      <td>500</td>\n    </tr>\n    <tr>\n      <th>1</th>\n      <td>2</td>\n      <td>860</td>\n      <td>2017-01-12</td>\n      <td>330</td>\n    </tr>\n    <tr>\n      <th>2</th>\n      <td>3</td>\n      <td>860</td>\n      <td>2017-01-26</td>\n      <td>490</td>\n    </tr>\n    <tr>\n      <th>3</th>\n      <td>4</td>\n      <td>860</td>\n      <td>2017-02-02</td>\n      <td>510</td>\n    </tr>\n    <tr>\n      <th>4</th>\n      <td>5</td>\n      <td>860</td>\n      <td>2017-02-16</td>\n      <td>610</td>\n    </tr>\n    <tr>\n      <th>...</th>\n      <td>...</td>\n      <td>...</td>\n      <td>...</td>\n      <td>...</td>\n    </tr>\n    <tr>\n      <th>13281</th>\n      <td>13282</td>\n      <td>679</td>\n      <td>2019-10-18</td>\n      <td>350</td>\n    </tr>\n    <tr>\n      <th>13282</th>\n      <td>13283</td>\n      <td>679</td>\n      <td>2019-10-14</td>\n      <td>990</td>\n    </tr>\n    <tr>\n      <th>13283</th>\n      <td>13284</td>\n      <td>679</td>\n      <td>2019-10-28</td>\n      <td>740</td>\n    </tr>\n    <tr>\n      <th>13284</th>\n      <td>13285</td>\n      <td>876</td>\n      <td>2019-09-10</td>\n      <td>1210</td>\n    </tr>\n    <tr>\n      <th>13285</th>\n      <td>13286</td>\n      <td>876</td>\n      <td>2019-10-31</td>\n      <td>1070</td>\n    </tr>\n  </tbody>\n</table>\n<p>13286 rows × 4 columns</p>\n</div>"
     },
     "metadata": {},
     "execution_count": 57
    }
   ],
   "source": [
    "data171819.rename(columns={\"objectid\": \"objectidCollecteur\", \"date \":\"date\", \"Poids Kg\":\"poids\"}, inplace=True)\n",
    "data171819"
   ]
  },
  {
   "source": [
    "# Création des DataFrames"
   ],
   "cell_type": "markdown",
   "metadata": {}
  },
  {
   "source": [
    "# Intégration des DataFrames dans MySQL\n"
   ],
   "cell_type": "markdown",
   "metadata": {}
  },
  {
   "cell_type": "code",
   "execution_count": 134,
   "metadata": {},
   "outputs": [
    {
     "output_type": "stream",
     "name": "stdout",
     "text": [
      "2020-10-23 10:38:52,546 INFO sqlalchemy.engine.base.Engine DESCRIBE `collecte`\n",
      "2020-10-23 10:38:52,547 INFO sqlalchemy.engine.base.Engine {}\n",
      "2020-10-23 10:38:52,557 INFO sqlalchemy.engine.base.Engine BEGIN (implicit)\n",
      "2020-10-23 10:38:52,623 INFO sqlalchemy.engine.base.Engine INSERT INTO collecte (id, `objectidCollecteur`, date, poids) VALUES (%(id)s, %(objectidCollecteur)s, %(date)s, %(poids)s)\n",
      "2020-10-23 10:38:52,624 INFO sqlalchemy.engine.base.Engine ({'id': 1, 'objectidCollecteur': 860, 'date': datetime.datetime(2017, 1, 5, 0, 0), 'poids': 500}, {'id': 2, 'objectidCollecteur': 860, 'date': datetime.datetime(2017, 1, 12, 0, 0), 'poids': 330}, {'id': 3, 'objectidCollecteur': 860, 'date': datetime.datetime(2017, 1, 26, 0, 0), 'poids': 490}, {'id': 4, 'objectidCollecteur': 860, 'date': datetime.datetime(2017, 2, 2, 0, 0), 'poids': 510}, {'id': 5, 'objectidCollecteur': 860, 'date': datetime.datetime(2017, 2, 16, 0, 0), 'poids': 610}, {'id': 6, 'objectidCollecteur': 860, 'date': datetime.datetime(2017, 2, 23, 0, 0), 'poids': 320}, {'id': 7, 'objectidCollecteur': 860, 'date': datetime.datetime(2017, 3, 2, 0, 0), 'poids': 230}, {'id': 8, 'objectidCollecteur': 860, 'date': datetime.datetime(2017, 3, 16, 0, 0), 'poids': 480}  ... displaying 10 of 13049 total bound parameter sets ...  {'id': 13048, 'objectidCollecteur': 876, 'date': datetime.datetime(2019, 9, 10, 0, 0), 'poids': 1210}, {'id': 13049, 'objectidCollecteur': 876, 'date': datetime.datetime(2019, 10, 31, 0, 0), 'poids': 1070})\n",
      "2020-10-23 10:38:53,240 INFO sqlalchemy.engine.base.Engine COMMIT\n"
     ]
    }
   ],
   "source": [
    "data171819.to_sql('collecte', con=engine, index = False, if_exists = 'append')"
   ]
  }
 ],
 "metadata": {
  "kernelspec": {
   "display_name": "Python 3",
   "language": "python",
   "name": "python3"
  },
  "language_info": {
   "codemirror_mode": {
    "name": "ipython",
    "version": 3
   },
   "file_extension": ".py",
   "mimetype": "text/x-python",
   "name": "python",
   "nbconvert_exporter": "python",
   "pygments_lexer": "ipython3",
   "version": "3.8.3-final"
  }
 },
 "nbformat": 4,
 "nbformat_minor": 4
}
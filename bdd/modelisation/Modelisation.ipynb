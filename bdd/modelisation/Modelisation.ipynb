{
 "cells": [
  {
   "cell_type": "markdown",
   "metadata": {},
   "source": [
    "# Modélisation de la base de données pour les données de la CACPL\n",
    "\n",
    "On s'appuie sur les jeux de données fournis par la CACPL disponible [ici](../../data/data_sig_collecte) :\n",
    "\n",
    "On souhaite établir un modèle pour enregistrer l'inventaire des déchèteries et des conteneurs\n",
    "\n",
    "(La base de données décrite doit être en 3NF)"
   ]
  },
  {
   "cell_type": "markdown",
   "metadata": {},
   "source": [
    "# 0) Description des informations contenues dans les jeux de données\n",
    "\n",
    "## Jeu de données des déchèteries\n",
    "\n",
    "| Nom | Type | Descriptif |\n",
    "|----------|---------------|-------|\n",
    "| objectid | entier(5) | Identifiant de la déchèterie |\n",
    "| id | chaîne de caractères(10) |  Identifiant(s) |\n",
    "| adresse | chaîne de caractères(50) | Adresse de la déchèterie |\n",
    "| adresse_comp | chaîne de caractères(50) | Complément de l'adresse de la déchèterie |\n",
    "| code_insee | entier(4) | Code INSEE de la ville (différent du code départemental) |\n",
    "| veget | booléen | Indicateur du traitement des végétations par la déchèterie |\n",
    "| bois | booléen | Indicateur du traitement du bois par la déchèterie |\n",
    "| metal | booléen | Indicateur du traitement du métal par la déchèterie |\n",
    "| grav_prop | booléen | Indicateur du traitement des gravats propres par la déchèterie |\n",
    "| grav_sal | booléen | Indicateur du traitement des gravats sales par la déchèterie |\n",
    "| carton | booléen | Indicateur du traitement du carton par la déchèterie |\n",
    "| d3e | booléen | Indicateur du traitement des D3E (Déchets d'Equipements Electriques et Electroniques) par la déchèterie |\n",
    "| dech_men_spe | booléen | Indicateur du traitement des déchets ménagers spéciaux par la déchèterie |\n",
    "| neon | booléen | Indicateur du traitement des néons par la déchèterie |\n",
    "| batterie | booléen | Indicateur du traitement des batteries par la déchèterie |\n",
    "| pile | booléen | Indicateur du traitement des piles par la déchèterie |\n",
    "| gaz | booléen | Indicateur du traitement du gaz par la déchèterie |\n",
    "| extincteur | booléen | Indicateur du traitement des extincteurs par la déchèterie |\n",
    "| huil_veget_mineral | booléen | Indicateur du traitement des huiles végétales et minérales par la déchèterie |\n",
    "| date_instal |  | Date d'installation de la déchèterie |\n",
    "| observations | chaîne de caractères(70) | Observations éventuelles |\n",
    "| creation | chaîne de caractères(20) | Pseudo de la personne qui a enregistré la déchèteries dans la BDD |\n",
    "| date_creation | chaîne de caractères(14) | Date et temps de l'enregistrement de la déchèterie dans la BDD  |\n",
    "| modification | chaîne de caractères(20) | Pseudo de la personne qui a modifié en dernier la déchèteries dans la BDD |\n",
    "| date_modification | chaîne de caractères(14) | Date et temps de la dernière modification de la déchèterie dans la BDD |\n",
    "| global_id | chaîne de caractères(38) | UUID (Universally Unique IDentifier) |\n",
    "| _x | décimal(10) | Longitude de la déchèterie |\n",
    "| _y | décimal(10) | Latitude de la déchèterie |\n",
    "\n",
    "## Jeu de données pour chaque type de collecteur\n",
    "\n",
    "| Nom | Type | Descriptif |\n",
    "|----------|---------------|-------|\n",
    "| objectid | entier(5) | Identifiant du collecteur |\n",
    "| id | chaîne de caractères(10) |  Identifiant(s) |\n",
    "| type | chaîne de caractères(30) | Type de collecteur |\n",
    "| volume | chaîne de caractères(10) | Volume du collecteur (en L ou en m3) |\n",
    "| quantite | entier(1) | Quantité de collecteurs |\n",
    "| marque | chaîne de caractères(15) | Marque du collecteur |\n",
    "| date_instal |  | Date d'installation du collecteur |\n",
    "| adresse | chaîne de caractères(50) | Adresse du collecteur |\n",
    "| adresse_comp | chaîne de caractères(40) | Complément de l'adresse du collecteur |\n",
    "| code_insee | entier(4) | Code INSEE de la ville (différent du code départemental) |\n",
    "| observations | chaîne de caractères(70) | Obseravtions éventuelles |\n",
    "| creation | chaîne de caractères(20) | Pseudo de la personne qui a enregistré le collecteur dans la BDD |\n",
    "| date_creation | chaîne de caractères(14) | Date et temps de l'enregistrement du collecteur dans la BDD  |\n",
    "| modification | chaîne de caractères(20) | Pseudo de la personne qui a modifié en dernier le collecteur dans la BDD |\n",
    "| date_modification | chaîne de caractères(14) | Date et temps de la dernière modification du collecteur dans la BDD |\n",
    "| global_id | chaîne de caractères(38) | UUID (Universally Unique IDentifier) |\n",
    "| etat | chaîne de caractères(10) |  |\n",
    "| _x | décimal(10) | Longitude du collecteur |\n",
    "| _y | décimal(10) | Latitude du collecteur |\n",
    "\n",
    "## Spécificité pour jeux de données des collecteurs de verre, de papier et de tri\n",
    "\n",
    "| Nom | Type | Descriptif |\n",
    "|----------|---------------|-------|\n",
    "| accessibilité | booléen | Indicateur |"
   ]
  },
  {
   "cell_type": "markdown",
   "metadata": {},
   "source": [
    "# 1) Dictionnaire des données\n",
    "| Nom | Type | Descriptif |\n",
    "|----------|---------------|-------|\n",
    "| objectIdDecheterie | entier(5) | Identifiant de la déchèterie |\n",
    "| idDecheterie | chaîne de caractères(10) |  Identifiant(s) |\n",
    "| typeDechetTraite | chaîne de caractères(20) | Type de déchets que la déchèterie traite (bois, métal, gravats...) |\n",
    "| dateInstallationDecheterie | date | Date d'installation de la déchèterie |\n",
    "| adresseDecheterie | chaîne de caractères(50) | Adresse de la déchèterie |\n",
    "| adresseComplementDecheterie | chaîne de caractères(40) | Complément d'adresse de la déchèterie |\n",
    "| codeInseeDecheterie | chaîne de caractères(5) | Code INSEE de la ville (différent du code départemental) de la déchèterie |\n",
    "| observationsDecheterie | chaîne de caractères(70) | Obseravtions éventuelles sur la déchèterie |\n",
    "| createurDecheterie | chaîne de caractères(20) | Pseudo de la personne qui a effectué l'enregistrement de la déchèterie dans la BDD |\n",
    "| dateCreationDecheterie | datetime | Date et temps de l'enregistrement de la déchèterie dans la BDD  |\n",
    "| modificateurDecheterie | chaîne de caractères(20) | Pseudo de la personne qui a modifié en dernier la déchèterie dans la BDD |\n",
    "| dateModificationDecheterie | datetime | Date et temps de la dernière modification de la déchèterie dans la BDD |\n",
    "| globalIdDecheterie | chaîne de caractères(36) | UUID (Universally Unique IDentifier) de la déchèterie |\n",
    "| xDecheterie | décimal | Longitude de la déchèterie |\n",
    "| yDecheterie | décimal | Latitude de la déchèterie |\n",
    "| objectidCollecteur | entier(5) | Identifiant du collecteur |\n",
    "| idCollecteur | chaîne de caractères(10) |  Identifiant(s) |\n",
    "| typeTri | chaîne de caractères(30) | Type de tri du collecteur (ordures ménagères, papier, verre...) |\n",
    "| typeCollecteur | chaîne de caractères(30) | Type de collecteur |\n",
    "| volumeCollecteur | entier(4) | Volume du collecteur (en L) |\n",
    "| quantiteCollecteur | entier(1) | Quantité de collecteurs |\n",
    "| marqueCollecteur | chaîne de caractères(15) | Marque du collecteur |\n",
    "| dateInstallationCollecteur | date | Date d'installation du collecteur |\n",
    "| adresseCollecteur | chaîne de caractères(50) | Adresse du collecteur |\n",
    "| adresseComplementCollecteur | chaîne de caractères(40) | Complément d'adresse du collecteur |\n",
    "| codeInseeCollecteur | chaîne de caractères(5) | Code INSEE de la ville (différent du code départemental) du collecteur |\n",
    "| observationsCollecteur | chaîne de caractères(70) | Obseravtions éventuelles sur le collecteur |\n",
    "| createurCollecteur | chaîne de caractères(20) | Pseudo de la personne qui a effectué l'enregistrement du collecteur dans la BDD |\n",
    "| dateCreationCollecteur | datetime | Date et temps de l'enregistrement du collecteur dans la BDD  |\n",
    "| modificateurCollecteur | chaîne de caractères(20) | Pseudo de la personne qui a modifié en dernier le collecteur dans la BDD |\n",
    "| dateModificationCollecteur | datetime | Date et temps de la dernière modification du collecteur dans la BDD |\n",
    "| globalIdCollecteur | chaîne de caractères(38) | UUID (Universally Unique IDentifier) du collecteur |\n",
    "| xCollecteur | décimal | Longitude du collecteur|\n",
    "| yCollecteur | décimal | Latitude du collecteur |\n"
   ]
  },
  {
   "cell_type": "markdown",
   "metadata": {},
   "source": [
    "# Règles métier\n",
    "-  \n",
    "- \n"
   ]
  },
  {
   "cell_type": "markdown",
   "metadata": {},
   "source": [
    "# 2) Modèle conceptuel des données\n",
    "![mcd.png](diagrams/mcd.png)"
   ]
  },
  {
   "cell_type": "markdown",
   "metadata": {},
   "source": [
    "# 3) Modèle logique des données\n",
    "![mld.png](diagrams/mld.png)"
   ]
  },
  {
   "cell_type": "markdown",
   "metadata": {},
   "source": [
    "# 4) Modèle relationnel des données\n",
    "\n",
    "Decheterie(<ins>DE_objectId</ins>, DE_id, DE_dateInstallation, DE_adresse, DE_adresseComplement, DE_codeInsee, DE_observations, DE_createur, DE_dateCreation, DE_modificateur, DE_dateModification, DE_globalId, DE_x, DE_y)\n",
    "\n",
    "Collecteur(<ins>CO_objectId</ins>, Co_id, CO_volume, CO_quantite, CO_dateInstallation, CO_adresse, CO_adresseComplement, CO_codeInsee, CO_observations, CO_createur, CO_dateCreation, CO_modificateur, CO_dateModification, CO_globalId, CO_x, CO_y, #DE_objectId, #CA_id, #TR_id, #MA_id)\n",
    "\n",
    "Dechet(<ins>DC_id</ins>, DC_typeTraite)\n",
    "\n",
    "Traitement(<ins>#DE_objectId</ins>, <ins>#DC_id</ins>)\n",
    "\n",
    "Categorie(<ins>CA_id</ins>, CA_type)\n",
    "\n",
    "Tri(<ins>TR_id</ins>, TR_type)\n",
    "\n",
    "Marque(<ins>MA_id</ins>, MA_marque)\n",
    "\n",
    "\n"
   ]
  },
  {
   "source": [
    "# Notes\n",
    "- La relation entre les collecteurs et leur déchèterie associée ne sera pour l'instant pas implémentée dans la base de données\n",
    "- L'incomplétude des données amène à revoir les cardinalités des relations Collecteur-Categorie et Collecteur-Marque en 0,1 - 1,n\n"
   ],
   "cell_type": "markdown",
   "metadata": {}
  }
 ],
 "metadata": {
  "kernelspec": {
   "display_name": "Python 3",
   "language": "python",
   "name": "python3"
  },
  "language_info": {
   "codemirror_mode": {
    "name": "ipython",
    "version": 3
   },
   "file_extension": ".py",
   "mimetype": "text/x-python",
   "name": "python",
   "nbconvert_exporter": "python",
   "pygments_lexer": "ipython3",
   "version": "3.7.7"
  }
 },
 "nbformat": 4,
 "nbformat_minor": 4
}
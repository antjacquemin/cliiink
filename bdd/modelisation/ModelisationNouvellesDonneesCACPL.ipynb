{
 "cells": [
  {
   "cell_type": "markdown",
   "metadata": {},
   "source": [
    "# Adaptation de la base de données aux nouvelles données de la CACPL\n",
    "\n",
    "On s'appuie sur les nouveaux jeux de données fournis par la CACPL disponible [ici](<../../data/collecte verre CACPL>) :\n",
    "\n",
    "On souhaite adapter le modèle pour prendre en charge les relevés de collecte pour les collecteurs de verre Cliiink"
   ]
  },
  {
   "cell_type": "markdown",
   "metadata": {},
   "source": [
    "# 0) Description des informations contenues dans les jeux de données\n",
    "\n",
    "## Jeu de données sur la période de 2017 à 2019\n",
    "\n",
    "| Nom | Type | Descriptif |\n",
    "|----------|---------------|-------|\n",
    "| Collecte | chaîne de caractères(3) |  Type de collecteur |\n",
    "| Contenant | chaîne de caractères(7) |  |\n",
    "| Adresse | chaîne de caractères(40) | Adresse du collecteur |\n",
    "| Ville | chaîne de caractères(20) | Ville du collecteur |\n",
    "| Année | entier(4) | Année de la collecte |\n",
    "| MOIS | chaîne de caractères(9) | MOIS de la collecte |\n",
    "| SEMAINE | entier(2) | Semaine de la collecte |\n",
    "| date | date | Date de la collecte |\n",
    "| heure | time | Heure de la collecte |\n",
    "| Taux | entier(1) |  |\n",
    "| Poids Kg | entier(4) | Poids de la collecte en kg |\n",
    "\n",
    "## Jeu de données pour décembre 2020 non considéré car doublon du suivant (voir [l'analyse associée](../../src/analyse/AnalyseVerre.ipynb))\n",
    "\n",
    "## Jeu de données pour l'année 2020\n",
    "\n",
    "| Nom | Type | Descriptif |\n",
    "|----------|---------------|-------|\n",
    "| Prestation | entier(11) | Identifiant de la prestation (collecte) |\n",
    "| Date de réalisation | date |  Date de la collecte |\n",
    "| Lieu de Collecte | chaîne de caractères(40) | Adresse du collecteur |\n",
    "| Matériel | chaîne de caractères(25) | Type de collecteur avec son volume en m<sup>3</sup> |\n",
    "| Poids | décimal | Poids de la collecte en tonne |"
   ]
  },
  {
   "cell_type": "markdown",
   "metadata": {},
   "source": [
    "# 1) Dictionnaire des données\n",
    "| Nom | Type | Descriptif |\n",
    "|----------|---------------|-------|\n",
    "| dateCollecte | date | Date de la collecte |\n",
    "| poidsCollecte | entier(4) |  Poids de la collecte |"
   ]
  },
  {
   "cell_type": "markdown",
   "metadata": {},
   "source": [
    "# 2) Modèle conceptuel des données\n",
    "![mcd.png](diagrams/mcdCollecte.png)"
   ]
  },
  {
   "cell_type": "markdown",
   "metadata": {},
   "source": [
    "# 3) Modèle logique des données\n",
    "![mld.png](diagrams/mldCollecte.png)"
   ]
  },
  {
   "cell_type": "markdown",
   "metadata": {},
   "source": [
    "# 4) Modèle relationnel des données\n",
    "\n",
    "Decheterie(<ins>DE_objectId</ins>, DE_id, DE_dateInstallation, DE_adresse, DE_adresseComplement, DE_codeInsee, DE_observations, DE_createur, DE_dateCreation, DE_modificateur, DE_dateModification, DE_globalId, DE_x, DE_y)\n",
    "\n",
    "Collecteur(<ins>CO_objectId</ins>, Co_id, CO_volume, CO_quantite, CO_dateInstallation, CO_adresse, CO_adresseComplement, CO_codeInsee, CO_observations, CO_createur, CO_dateCreation, CO_modificateur, CO_dateModification, CO_globalId, CO_x, CO_y, #DE_objectId, #CA_id, #TR_id, #MA_id)\n",
    "\n",
    "Dechet(<ins>DC_id</ins>, DC_typeTraite)\n",
    "\n",
    "Traitement(<ins>#DE_objectId</ins>, <ins>#DC_id</ins>)\n",
    "\n",
    "Categorie(<ins>CA_id</ins>, CA_type)\n",
    "\n",
    "Tri(<ins>TR_id</ins>, TR_type)\n",
    "\n",
    "Marque(<ins>MA_id</ins>, MA_marque)\n",
    "\n",
    "Collecte(<ins>CL_id</ins>, CL_dateCollecte, CL_poidsCollecte, #CO_objectid)\n",
    "\n",
    "\n"
   ]
  },
  {
   "source": [
    "# Notes\n",
    "- L'absence de spécification des correspondances entre les collectes de ce jeu de données et les collecteurs déjà inventoriés dans le jeu de données initial rend très difficile l'implémentation de l'association Collecteur-Collecte dans la base de données (voir la tentative d'identification à la main des collecteurs avec leur globalid par rapport aux adresses partielles dans cette [analyse](../../src/analyse/AnalyseVerre.ipynb))\n",
    "- De même, l'incomplétude des données amène à revoir les cardinalités des relations Collecteur-Collecte en 0,n - 0,1\n"
   ],
   "cell_type": "markdown",
   "metadata": {}
  }
 ],
 "metadata": {
  "kernelspec": {
   "display_name": "Python 3",
   "language": "python",
   "name": "python3"
  },
  "language_info": {
   "codemirror_mode": {
    "name": "ipython",
    "version": 3
   },
   "file_extension": ".py",
   "mimetype": "text/x-python",
   "name": "python",
   "nbconvert_exporter": "python",
   "pygments_lexer": "ipython3",
   "version": "3.7.7"
  }
 },
 "nbformat": 4,
 "nbformat_minor": 4
}